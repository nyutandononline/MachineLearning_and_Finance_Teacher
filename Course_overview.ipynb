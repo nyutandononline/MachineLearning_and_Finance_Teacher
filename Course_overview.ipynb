{
 "cells": [
  {
   "cell_type": "code",
   "execution_count": 28,
   "metadata": {
    "slideshow": {
     "slide_type": "notes"
    }
   },
   "outputs": [
    {
     "data": {
      "text/html": [
       "<style>\n",
       "body, p, div.rendered_html {\n",
       "    font-size: 14pt;\n",
       "    font-family: \"Comic Sans MS\", cursive, sans-serif;\n",
       "    # font-family: 'PT Serif', Georgia, Times, 'Times New Roman', serif;\n",
       "    # color: #93a1a1;\n",
       "}\n",
       "</style>   \n",
       "\n"
      ],
      "text/plain": [
       "<IPython.core.display.HTML object>"
      ]
     },
     "metadata": {},
     "output_type": "display_data"
    }
   ],
   "source": [
    "%%html\n",
    "<style>\n",
    "body, p, div.rendered_html {\n",
    "    font-size: 14pt;\n",
    "    font-family: \"Comic Sans MS\", cursive, sans-serif;\n",
    "    # font-family: 'PT Serif', Georgia, Times, 'Times New Roman', serif;\n",
    "    # color: #93a1a1;\n",
    "}\n",
    "</style>   \n",
    "\n"
   ]
  },
  {
   "cell_type": "code",
   "execution_count": 2,
   "metadata": {
    "slideshow": {
     "slide_type": "notes"
    }
   },
   "outputs": [],
   "source": [
    "from IPython.core.interactiveshell import InteractiveShell\n",
    "InteractiveShell.ast_node_interactivity = \"all\"\n",
    "\n",
    "# Reload all modules imported with %aimport\n",
    "%load_ext autoreload\n",
    "%autoreload 1\n",
    "\n",
    "%matplotlib inline"
   ]
  },
  {
   "cell_type": "markdown",
   "metadata": {
    "slideshow": {
     "slide_type": "slide"
    }
   },
   "source": [
    "# What is Machine Learning (ML) ?\n",
    "   - prediction\n",
    "\n",
    "<img src=\"images/W1_L1_Predicting_on_Unseen-data_AdobeStock_321987501.png\" width=\"60%\"/>\n",
    "<br>"
   ]
  },
  {
   "cell_type": "markdown",
   "metadata": {
    "slideshow": {
     "slide_type": "slide"
    }
   },
   "source": [
    "# What is Machine Learning (ML) ?\n",
    "- **informed** prediction\n",
    "   \n",
    "    - prediction is better than random guess\n",
    "    - method: learn from existing >data\n",
    "    - goal: Generalization. Predicting on new, unseen data\n",
    "\n",
    " <img src=\"images/W1_L1_Informed-Prediction_AdobeStock_339315304.png\" width=\"60%\"/>   "
   ]
  },
  {
   "cell_type": "markdown",
   "metadata": {
    "slideshow": {
     "slide_type": "slide"
    }
   },
   "source": [
    "# Where is ML used ?\n",
    "**Everywhere !!**\n",
    "\n",
    "- targeted advertising\n",
    "    \n",
    "    - Why does Facebook seem to know what I'm thinking ?\n",
    "<img src=\"images/W1_L1_Targeted_advertising_AdobeStock_320775942.png\" width=\"100%\"/>\n",
    "<br><br>\n"
   ]
  },
  {
   "cell_type": "markdown",
   "metadata": {
    "slideshow": {
     "slide_type": "slide"
    }
   },
   "source": [
    "# Where is ML used ?\n",
    "Spam detection\n",
    "    \n",
    "- You are a winner !</ul>\n",
    "<img src=\"images/W1_L1_Spam_detection_AdobeStock_354630313.png\" width=\"35%\"/>\n",
    "<br><br>"
   ]
  },
  {
   "cell_type": "markdown",
   "metadata": {
    "slideshow": {
     "slide_type": "slide"
    }
   },
   "source": [
    "# Where is ML used ?\n",
    "Forecasting\n",
    "    \n",
    "- Sales\n",
    "- Logistics\n",
    "- Where's my Uber ?\n",
    "<img src=\"images/W1_L1_Forecasting_sales_AdobeStock_307330168-[Converted].png\" width=\"40%\"/>\n",
    "<br><br>"
   ]
  },
  {
   "cell_type": "markdown",
   "metadata": {
    "slideshow": {
     "slide_type": "slide"
    }
   },
   "source": [
    "# Where is ML used ?\n",
    "Anomaly detection\n",
    "    \n",
    "- credit card fraud\n",
    "<img src=\"images/W1_L1_Anomaly-detection_AdobeStock_311611620.png\" width=\"40%\"/>\n",
    "<br> "
   ]
  },
  {
   "cell_type": "markdown",
   "metadata": {
    "slideshow": {
     "slide_type": "subslide"
    }
   },
   "source": [
    "## Uses in Finance\n",
    "- model prices, risk\n",
    "    - hedging\n",
    "- Trading signals\n",
    "- forecast sales\n",
    "- predict defaults, pre-payments\n",
    "<br>\n",
    "<img src=\"images/W1_L1_Trading_signals_AdobeStock_188236125.png\" width=\"60%\"/>\n"
   ]
  },
  {
   "cell_type": "markdown",
   "metadata": {
    "slideshow": {
     "slide_type": "subslide"
    }
   },
   "source": [
    "## Not just numeric data !\n",
    "- Images\n",
    "    - Satellite: \n",
    "        - Counting cars in a parking lot to forecast sales   \n",
    "        - How full is that oil tank ?<br>\n",
    " <img src=\"images/W1_L1_Satellite_image_cars_AdobeStock_130994721.png\" width=\"50%\">\n",
    "   <br> - Did the CFO really mean what he said ? facial signals for confidence/evasiveness\n",
    "<br>- Text\n",
    "    - Twitter sentiment as a signal ?\n",
    "    - SEC filings\n",
    "    - Derive industry groups by clustering press releases"
   ]
  },
  {
   "cell_type": "markdown",
   "metadata": {
    "slideshow": {
     "slide_type": "slide"
    }
   },
   "source": [
    "# What you need to succeed (\"Pre-requisites\")\n",
    "- An inquiring mind\n",
    "    -  <img src=images/W1_L1_Scientist.png width=\"50%\">\n",
    " Approach this topic like a Scientist\n",
    " <br>\n",
    " &nbsp; Find a problem, gather data, formulate a hypothesis, test.  Repeat.\n",
    " <br>\n",
    " <br>"
   ]
  },
  {
   "cell_type": "markdown",
   "metadata": {
    "slideshow": {
     "slide_type": "slide"
    }
   },
   "source": [
    "# What you need to succeed (\"Pre-requisites\")\n",
    "- Technical skills\n",
    "\n",
    "    - <img src=images/W1_L1_Engineer.png width=50%>\n",
    "You are engineers !\n",
    "<br>"
   ]
  },
  {
   "cell_type": "markdown",
   "metadata": {
    "slideshow": {
     "slide_type": "slide"
    }
   },
   "source": [
    "# What you need to succeed (\"Pre-requisites\")\n",
    "- Solid programming skills.\n",
    "<img src=\"images/W1_L1_Programming.png\" width=\"50%\"/>\n",
    "<br>"
   ]
  },
  {
   "cell_type": "markdown",
   "metadata": {
    "slideshow": {
     "slide_type": "slide"
    }
   },
   "source": [
    "# What you need to succeed (\"Pre-requisites\")\n",
    "- Some math/statistics\n",
    "\n",
    "    - <img src=images/W1_L1_Stats.png width=50%> \n",
    "To be a successful data scientist, you need to understand the machinery.\n",
    "<br>\n",
    "&nbsp; It is not enough to know an API.\n"
   ]
  },
  {
   "cell_type": "markdown",
   "metadata": {
    "slideshow": {
     "slide_type": "slide"
    }
   },
   "source": [
    "# What you need to succeed (\"Pre-requisites\")\n",
    "- Self-motivation and energy\n",
    "<img src=\"images/W1_L1_Self-motivation.png\" width=\"50%\"/>\n",
    "    - willingness to pick up tools/skills outside of lectures\n",
    "    - You are engineers, nothing is too hard !"
   ]
  },
  {
   "cell_type": "markdown",
   "metadata": {
    "slideshow": {
     "slide_type": "slide"
    }
   },
   "source": [
    "## Technical prerequisites\n",
    "\n",
    "- Python\n",
    "    - Object oriented (OO) Python\n",
    "    - Numpy\n",
    "    - Pandas\n",
    "    - Matplotlib\n",
    "- Some statistics (e.g., regression)\n",
    "- Some math\n",
    "    - comfort with Matrix/Vector notation\n",
    "    \n",
    "Fear not ! The last half of this lecture will be a whirlwind tour of the Python topics (except for OO)"
   ]
  },
  {
   "cell_type": "markdown",
   "metadata": {
    "slideshow": {
     "slide_type": "slide"
    }
   },
   "source": [
    "# Textbooks\n",
    "\n",
    "## Python Data Science Handbook\n",
    "[VanderPlas](https://jakevdp.github.io/PythonDataScienceHandbook/)\n",
    "\n",
    "- Online !\n",
    "- Solid foundation to acquire pre-requisites\n",
    "    - Jupyter\n",
    "    - Numpy\n",
    "    - Pandas\n",
    "    - Matplotlib\n",
    "    - Quick view of models\n",
    "    \n",
    "        <img src=\"images/W1_L1_Textbook_VanderPlas.png\" width=\"25%\" />\n",
    "             \n",
    "        "
   ]
  },
  {
   "cell_type": "markdown",
   "metadata": {
    "slideshow": {
     "slide_type": "subslide"
    }
   },
   "source": [
    "\n",
    "## Hands-On Machine Learning with Scikit-Learn, Keras, and TensorFlow, 2nd Edition \n",
    "\n",
    "[Geron](https://www.oreilly.com/library/view/hands-on-machine-learning/9781492032632/)\n",
    "\n",
    "- Assumes you know the pre-requisites\n",
    "    - More detailed chapters on various models\n",
    "    <img src=\"images/W1_L1_Textbook_Geron.jpeg\">\n",
    "    "
   ]
  },
  {
   "cell_type": "markdown",
   "metadata": {
    "slideshow": {
     "slide_type": "slide"
    }
   },
   "source": [
    "# Notebooks\n",
    "Both textbooks have code repositories on GitHub\n",
    " - VanderPlas \"book\" is actually a notebook !\n",
    " \n",
    "The real learning comes from active \"doing\" (play with notebooks) rather than passive \"reading\"\n",
    "\n",
    "**Get the notebooks in the repos !**\n",
    "- `mkdir ~/Notebooks; cd ~/Notebooks`\n",
    "- `git clone https://github.com/jakevdp/PythonDataScienceHandbook.git`\n",
    "- `git clone https://github.com/ageron/handson-ml2.git`\n"
   ]
  },
  {
   "cell_type": "markdown",
   "metadata": {
    "slideshow": {
     "slide_type": "subslide"
    }
   },
   "source": [
    "## Accessing a repository on Github\n",
    "\n",
    "If the `git` command is not available on your machine you can either\n",
    "- install it via the command\n",
    ">`conda install git`\n",
    "- Download the repo as a ZIP file.  Visit the given URL\n",
    "    - click on the <span style=\"background:light green; color:white;\">Download or clone</span> button\n",
    "    - Choose \"Download ZIP\""
   ]
  },
  {
   "cell_type": "markdown",
   "metadata": {
    "slideshow": {
     "slide_type": "slide"
    }
   },
   "source": [
    "**Get the lecture notebooks**\n",
    "- `git clone https://github.com/kenperry-public/EdX_Classical_ML.git`\n",
    "- periodically refresh: `git pull` from top level directory"
   ]
  },
  {
   "cell_type": "markdown",
   "metadata": {
    "slideshow": {
     "slide_type": "slide"
    }
   },
   "source": [
    "# Machine Learning *using* Scikit-Learn (sklearn), TensorFlow (TF)\n",
    "\n",
    "sklearn is a popular library for Machine Learning.  We will be using it in the first part of the course.\n",
    "TensorFlow is another popular library that we will use in the second part of the course.\n",
    "\n",
    "We are learning **Machine Learning**, not sklearn/TensorFlow !\n",
    "\n",
    "Tools are a means, not an ends\n",
    "- Goal is to understand ML independent of the toolset\n",
    "- You can be an expert in sklearn/TensorFlow and still not understand ML"
   ]
  },
  {
   "cell_type": "markdown",
   "metadata": {
    "slideshow": {
     "slide_type": "slide"
    }
   },
   "source": [
    "# Teaching method\n",
    "\n",
    "**Iterative**: visit the problem many times, at increasing levels of focus\n",
    "\n",
    "- top-down vs bottom-up\n",
    "<table>\n",
    "    <tr>\n",
    "        <td><img src=\"images/W1_L1_Top_down.png\" width=\"55%\" /></td>\n",
    "    <td><img src=\"images/W1_L1_Bottom_up.png\" width=\"80%\" /></td></tr></table>\n",
    "- Motivate: very high level view\n",
    "    - know WHAT we are trying to achieve\n"
   ]
  },
  {
   "cell_type": "markdown",
   "metadata": {
    "slideshow": {
     "slide_type": "subslide"
    }
   },
   "source": [
    "\n",
    "- Understand: medium level view\n",
    "<img src=\"images/W1_L1_Medium_level_view_AdobeStock_316627761.png\" width=\"90%\" />"
   ]
  },
  {
   "cell_type": "markdown",
   "metadata": {},
   "source": [
    "\n",
    "- Deep understanding\n",
    "    - math, statistics\n",
    "<img src=\"images/W1_L1_iterative.png\" width=\"70%\" />\n",
    "<div class=\"alert alert-block alert-success\">\n",
    "Bonus: advice from a practioner\n",
    "</div>    "
   ]
  },
  {
   "cell_type": "markdown",
   "metadata": {
    "slideshow": {
     "slide_type": "slide"
    }
   },
   "source": [
    "# Landscape of ML"
   ]
  },
  {
   "cell_type": "markdown",
   "metadata": {
    "slideshow": {
     "slide_type": "subslide"
    }
   },
   "source": [
    "\n",
    " <table><tr><td width=\"25%\">\n",
    "    <ul><h3 align = \"right\">Types of learning</h3></ul><br>\n",
    "    <ul>- Types of targets\n",
    "    <ul>- continous</ul>\n",
    "    <ul>- discrete</ul></ul>\n",
    "    <ul>- Types of features\n",
    "    <ul>- numerical</ul>\n",
    "        <ul  align = \"left\">- categorical</ul>\n",
    "        <ul  align = \"left\">- text</ul></ul></ul></td><td><img src=images/W1_L3_S9_Big_picture_ML_taxonomy.png width=\"80%\"></td></tr></table>\n"
   ]
  },
  {
   "cell_type": "markdown",
   "metadata": {
    "slideshow": {
     "slide_type": "slide"
    }
   },
   "source": [
    "# Challenges of ML\n",
    "\n",
    "<img src=\"images/W1_L1_Challenge.png\" width=\"70%\" />\n",
    "<br> <br>"
   ]
  },
  {
   "cell_type": "markdown",
   "metadata": {
    "slideshow": {
     "slide_type": "subslide"
    }
   },
   "source": [
    "- You need data to train, often a lot of it\n",
    "    - not always easy to get\n",
    "        - supervised: needs to be labelled\n",
    "    - quality issues\n",
    "    - Is the training data representative of \"the real world\" for which you are designing ?\n",
    "- Overfitting and Underfitting\n",
    "    - Overfit: good training accuracy, poor generalization\n",
    "    - Underfit: lost opportunity\n",
    "- Engineering meaningful features is key \n",
    "    - Data transformations\n",
    "        - create features that aid prediction\n",
    "        - art and science\n",
    "    - Deep Learning may view feature engineering as part of the problem, not the solution !\n",
    "- Testing and validation\n",
    "    - an honest test uses held-out data\n",
    "    - training data is a precious resource; painful to hold some out"
   ]
  },
  {
   "cell_type": "markdown",
   "metadata": {
    "slideshow": {
     "slide_type": "slide"
    }
   },
   "source": [
    "# ML in one slide\n",
    "<img src=images/W1_L1_Cartoon_ML.png>"
   ]
  },
  {
   "cell_type": "code",
   "execution_count": 3,
   "metadata": {
    "slideshow": {
     "slide_type": "slide"
    }
   },
   "outputs": [
    {
     "name": "stdout",
     "output_type": "stream",
     "text": [
      "Done\n"
     ]
    }
   ],
   "source": [
    "print(\"Done\")"
   ]
  }
 ],
 "metadata": {
  "celltoolbar": "Slideshow",
  "kernelspec": {
   "display_name": "Python 3",
   "language": "python",
   "name": "python3"
  },
  "language_info": {
   "codemirror_mode": {
    "name": "ipython",
    "version": 3
   },
   "file_extension": ".py",
   "mimetype": "text/x-python",
   "name": "python",
   "nbconvert_exporter": "python",
   "pygments_lexer": "ipython3",
   "version": "3.7.4"
  },
  "toc": {
   "base_numbering": 1,
   "nav_menu": {},
   "number_sections": true,
   "sideBar": true,
   "skip_h1_title": false,
   "title_cell": "Table of Contents",
   "title_sidebar": "Contents",
   "toc_cell": false,
   "toc_position": {
    "height": "calc(100% - 180px)",
    "left": "10px",
    "top": "150px",
    "width": "368px"
   },
   "toc_section_display": true,
   "toc_window_display": true
  }
 },
 "nbformat": 4,
 "nbformat_minor": 2
}

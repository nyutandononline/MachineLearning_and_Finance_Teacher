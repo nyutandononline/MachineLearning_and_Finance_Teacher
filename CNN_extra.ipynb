{
 "cells": [
  {
   "cell_type": "markdown",
   "metadata": {},
   "source": [
    "# Homework Ideas\n",
    "- homework\n",
    "    - use conv1d (define own weights) to create Moving average of SPY\n",
    "    - use conv1d and LEARN weights for MA"
   ]
  },
  {
   "cell_type": "markdown",
   "metadata": {},
   "source": [
    "# References\n",
    "-[Convolution arithmetic](https://arxiv.org/pdf/1603.07285.pdf)\n",
    "- Good\n",
    "- convolution as matrix multiplication\n",
    "- convolution transpose\n",
    "\n",
    "-[cs231n Karpathy](http://vision.stanford.edu/teaching/cs231n/slides/2015/lecture7.pdf)\n",
    "\n",
    "- [cs231n](http://cs231n.stanford.edu/slides/2017/cs231n_2017_lecture5.pdf)\n",
    "    - summary slide 61\n",
    "    - max pooling slide 73, size slide 74\n",
    "\n",
    "- [CNN from multiple viewpoints](https://medium.com/impactai/cnns-from-different-viewpoints-fab7f52d159c)\n",
    "\n",
    "- [Luis Serrano](https://www.youtube.com/watch?v=2-Ol7ZB0MmU)\n",
    "\n",
    "- [Keras doc: MNIST CNN}(https://github.com/keras-team/keras/tree/master/examples)\n",
    "\n",
    "# Ideas\n",
    "- filters\n",
    "    - edge detectors, etc.\n",
    "        - [Colah blog](https://colah.github.io/posts/2014-07-Understanding-Convolutions/)\n",
    "            - gimp documentation\n",
    "    - slide filter over image: does feature exist ?\n",
    "- 1D convolutions\n",
    "    - time series\n",
    "    - words\n",
    "    \n"
   ]
  },
  {
   "cell_type": "markdown",
   "metadata": {},
   "source": [
    "# What is a CNN looking for: Zeiler and Fergus\n",
    "\n",
    "[Zeiler and Fergus](https://arxiv.org/abs/1311.2901)\n",
    "\n",
    "[Resources (use links in them for papers, YouTube, etc)](https://ml4a.github.io/ml4a/visualizing_convnets/)\n",
    "- [Yosinski YouTube](https://youtu.be/AgkfIQ4IGaM)\n",
    "    - [Yosinksi ZF](https://youtu.be/AgkfIQ4IGaM?t=111)\n",
    "        - top row: invert: synthetic inputs that stimulate\n",
    "        - middle row: input images that maximally activating\n",
    "        - bottom row: pixels in the input that are responsible for the activations\n",
    "- https://cs231n.github.io/understanding-cnn/\n",
    "\n",
    " - Use slides from my talk\n",
    " \n",
    " - Maximally activating patchces\n",
    "     - [See Yosinski YouTube](https://youtu.be/AgkfIQ4IGaM?t=109)\n",
    "_ Guided backprop\n",
    "   - [Compare saliency map, deconvolution](https://github.com/Lasagne/Recipes/blob/master/examples/Saliency%20Maps%20and%20Guided%20Backpropagation.ipynb)\n"
   ]
  },
  {
   "cell_type": "markdown",
   "metadata": {},
   "source": [
    "# Receptive field: old diagrams"
   ]
  },
  {
   "cell_type": "markdown",
   "metadata": {},
   "source": [
    "<table>\n",
    "    <tr>\n",
    "        <th><center>CNN receptive field</center></th>\n",
    "    </tr>\n",
    "    <tr>\n",
    "        <td><img src=\"images/CNN_Receptive_field.jpg\" width=600></td>\n",
    "    </tr>\n",
    "</table>\n"
   ]
  },
  {
   "cell_type": "markdown",
   "metadata": {},
   "source": [
    "# Old diagrams"
   ]
  },
  {
   "cell_type": "markdown",
   "metadata": {},
   "source": [
    "<table>\n",
    "       <center>CNN convolution</center>\n",
    "    <tr>\n",
    "        <td><img src=\"images/CNN_feature_map.jpg\" width=600></td>\n",
    "    </tr>\n",
    "</table>\n"
   ]
  }
 ],
 "metadata": {
  "kernelspec": {
   "display_name": "Python 3",
   "language": "python",
   "name": "python3"
  },
  "language_info": {
   "codemirror_mode": {
    "name": "ipython",
    "version": 3
   },
   "file_extension": ".py",
   "mimetype": "text/x-python",
   "name": "python",
   "nbconvert_exporter": "python",
   "pygments_lexer": "ipython3",
   "version": "3.7.4"
  },
  "toc": {
   "base_numbering": 1,
   "nav_menu": {},
   "number_sections": true,
   "sideBar": true,
   "skip_h1_title": false,
   "title_cell": "Table of Contents",
   "title_sidebar": "Contents",
   "toc_cell": false,
   "toc_position": {},
   "toc_section_display": true,
   "toc_window_display": false
  }
 },
 "nbformat": 4,
 "nbformat_minor": 2
}

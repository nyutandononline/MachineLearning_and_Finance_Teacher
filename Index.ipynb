{
  "nbformat": 4,
  "nbformat_minor": 0,
  "metadata": {
    "celltoolbar": "Slideshow",
    "kernelspec": {
      "display_name": "Python 3",
      "language": "python",
      "name": "python3"
    },
    "language_info": {
      "codemirror_mode": {
        "name": "ipython",
        "version": 3
      },
      "file_extension": ".py",
      "mimetype": "text/x-python",
      "name": "python",
      "nbconvert_exporter": "python",
      "pygments_lexer": "ipython3",
      "version": "3.7.4"
    },
    "toc": {
      "base_numbering": 1,
      "nav_menu": {},
      "number_sections": true,
      "sideBar": true,
      "skip_h1_title": false,
      "title_cell": "Table of Contents",
      "title_sidebar": "Contents",
      "toc_cell": false,
      "toc_position": {},
      "toc_section_display": true,
      "toc_window_display": false
    },
    "colab": {
      "name": "Index.ipynb",
      "provenance": []
    }
  },
  "cells": [
    {
      "cell_type": "markdown",
      "metadata": {
        "id": "qchw2xY05Ghu",
        "colab_type": "text"
      },
      "source": [
        "# Week 0\n",
        "\n",
        "**Plan**\n",
        "- Setting up your learning and programming environment\n",
        "\n",
        "\n",
        "**Getting started**\n",
        "- [Setting up your ML environment](Setup_EdX.ipynb)\n",
        "    - [Choosing an ML environment](Choosing_an_ML_Environment.ipynb)\n",
        "- [Quick intro to the tools](Getting_Started.ipynb)"
      ]
    },
    {
      "cell_type": "markdown",
      "metadata": {
        "id": "jePeQ9pE5Ghz",
        "colab_type": "text"
      },
      "source": [
        "# Week 1 Introduction to Neural Networks and Deep Learning\n",
        "\n",
        "Plan\n",
        "\n",
        "Deep Learning/Neural networks\n",
        "\n",
        "- [Set up your Tensorflow environment](Tensorflow_setup.ipynb)\n",
        "\n",
        "- [Neural Networks Overview](Neural_Networks_Overview.ipynb)\n",
        "\n",
        "- Coding Neural Networks: Tensorflow, Keras\n",
        "    - [Intro to Keras](Tensorflow_Keras.ipynb)\n",
        "\n",
        "- Practical Colab\n",
        "    - **Colab**: [Practical Colab Notebook from github](https://colab.research.google.com/github/nyutandononline/MachineLearning_and_Finance_Student/blob/master/Colab_practical.ipynb)\n",
        "\n",
        "    \n",
        "Deeper Dives\n",
        "- [Keras, from past to present](Tensorflow_Keras_Archaeology.ipynb)\n",
        "- [History/Computation Graphs: Tensorflow version 1](DNN_TensorFlow_Using_TF_version_1.ipynb)\n",
        "- [Raw_TensorFlow example Notebook from github](https://colab.research.google.com/github/nyutandononline/MachineLearning_and_Finance_Student/blob/master/Raw_TensorFlow.ipynb) (**Colab**)\n",
        "- [Computation Graphs](Computation_Graphs.ipynb)\n"
      ]
    },
    {
      "cell_type": "markdown",
      "metadata": {
        "id": "m1aqqY2t5Ghz",
        "colab_type": "text"
      },
      "source": [
        "# Week 2 Convolutional Neural Networks\n",
        "\n",
        "Deferred from week 2\n",
        "- [A neural network is a Universal Function Approximator](Universal_Function_Approximator.ipynb)\n",
        "\n",
        "Convolutional Neural Networks (CNN)\n",
        "- [Introduction to CNN](Intro_to_CNN.ipynb)\n",
        "- [CNN: multiple input/output features](CNN_Overview.ipynb)\n",
        "- [CNN: Space and Time](CNN_Space_and_Time.ipynb)\n",
        "    - [CNN example from github](https://colab.research.google.com/github/nyutandononline/MachineLearning_and_Finance_Student/blob/master/CNN_demo.ipynb) (**Colab**) \n",
        "\n",
        "Deeper dives\n",
        "- [Convolution as Matrix Multiplication](CNN_Convolution_as_Matrix_Multiplication.ipynb)\n",
        "- [Computation Graphs](Computation_Graphs.ipynb) (**deferred from prior week**)\n",
        "\n"
      ]
    },
    {
      "cell_type": "markdown",
      "metadata": {
        "id": "COka0EPH5Gh0",
        "colab_type": "text"
      },
      "source": [
        "# Week 3 Recurrent Neural Networks\n",
        "\n",
        "Plan\n",
        "- Introduce a new layer type: Recurrent layers\n",
        "    - Part of our \"sprint\": final layer type\n",
        "    - Will revisit more theoretical issues in subsequent lectures\n",
        "    \n",
        "- [Introduction to Recurrent Neural Network (RNN)](Intro_to_RNN.ipynb)\n",
        "- [Recurrent Neural Network Overview](RNN_Overview.ipynb)\n",
        "    - [LSTM_text_generation from github](https://colab.research.google.com/github/nyutandononline/MachineLearning_and_Finance_Student/blob/master/Keras_examples_LSTM_text_generation.ipynb) (**Colab**)\n",
        "\n",
        "\n",
        "Deeper dives\n",
        "- [RNN: How to deal with long sequences](RNN_Long_Sequences.ipynb)\n"
      ]
    },
    {
      "cell_type": "markdown",
      "metadata": {
        "id": "IZDmieew5Gh0",
        "colab_type": "text"
      },
      "source": [
        "# Week 4 Training Neural Networks\n",
        "\n",
        "Plan\n",
        "\n",
        "Sprint is over ! We have covered the basic layer types; time for you to learn by experimenting.\n",
        "\n",
        "Explore the science and art of training a neural network via Gradient Descent.\n",
        "\n",
        "- [Training Neural Networks](Training_Neural_Networks_Overview.ipynb)"
      ]
    },
    {
      "cell_type": "markdown",
      "metadata": {
        "id": "np5InjBD5Gh0",
        "colab_type": "text"
      },
      "source": [
        "# Week 5 Transfer Learning\n",
        "\n",
        "Plan\n",
        "\n",
        "We continue with skills to turn you into a more effective Data Scientist.\n",
        "\n",
        "Our first step is trying to develop intuition for what is occuring within a Neural Network.\n",
        "\n",
        "We will then present an extremely useful trick for leveraging the hard work that others have done.\n",
        "\n",
        "- [Interpretation: preview](Interpretation_preview.ipynb)\n",
        "\n",
        "- [Transfer Learning](Transfer_Learning.ipynb)\n",
        "     - [Transfer Learning example from github](https://colab.research.google.com/github/nyutandononline/MachineLearning_and_Finance_Student/blob/master/TransferLearning_demo.ipynb)(**Colab**)\n",
        "\n",
        "     - [Utility notebook](Dogs_and_Cats_reformat.ipynb)\n",
        "         - Takes the *very large* raw data (from Kaggle) used in the Transfer Learning example\n",
        "         - Creates a much smaller subset, using a different directory structure\n",
        "         - The above notebook uses this reorganized, smaller subset\n",
        "\n",
        "Deeper Dives\n",
        "- [Tensors: Matrix gradients](Matrix_Gradient.ipynb)\n",
        "\n",
        "Further reading\n",
        "- [Sebastian Ruder: Transfer Learning](https://ruder.io/transfer-learning/)"
      ]
    },
    {
      "cell_type": "markdown",
      "metadata": {
        "id": "uhjsyZfa5Gh1",
        "colab_type": "text"
      },
      "source": [
        "# Week 6 Advanced Recurrent Architectures\n",
        "\n",
        "Plan\n",
        "\n",
        "The \"vanilla\" Recurrent Neural Network (RNN) layer we learned is very much exposed to the problem of vanishing/exploding gradients.\n",
        "\n",
        "We will review the issue and demonstrate a related layer type (the LSTM) designed to mitigate the problem.\n",
        "\n",
        "We will also introduce a powerful mechanism called Attention that has recently become quite popular and\n",
        "important.\n",
        "\n",
        "RNN: Issues\n",
        "- [Gradients of an RNN](RNN_Gradients.ipynb)\n",
        "- [RNN: Gradients that Vanish/Explode](RNN_Vanishing_and_exploding_gradients.ipynb)\n",
        "- [Residual connections](RNN_Residual_Networks.ipynb)\n",
        "\n",
        "LSTM: An improved RNN\n",
        "- [Neural Programming](Neural_Programming.ipynb)\n",
        "- [Introduction to the LSTM](Intro_to_LSTM.ipynb)\n",
        "- [LSTM Overview](LSTM_Overview.ipynb)\n",
        "\n",
        "Attention:\n",
        "- [Attention](Intro_to_Attention.ipynb)\n",
        "- [Implementing Attention](Attention_Lookup.ipynb)\n",
        "\n",
        "Further reading\n",
        "- Attention\n",
        "    - [Neural Machine Translation by Jointly Learning To Align and Translate](https://arxiv.org/pdf/1409.0473.pdf)\n",
        "    - [Attention is all you need](https://arxiv.org/pdf/1706.03762.pdf)"
      ]
    },
    {
      "cell_type": "markdown",
      "metadata": {
        "id": "1OI9VNHA5Gh1",
        "colab_type": "text"
      },
      "source": [
        "# Week 7 Advanced Topics\n",
        "\n",
        "Learning from text: Deep Learning for Natural Language Processing (NLP)\n",
        "- [Natural Language Processing Overview](NLP_Overview.ipynb)\n",
        "    - **Colab**: [NLP from github](https://colab.research.google.com/github/nyutandononline/MachineLearning_and_Finance_Student/blob/master/Keras_examples_imdb_cnn.ipynb)\n",
        "\n",
        "What is a Neural Network really doing ? Interpretation\n",
        "- [Introduction to Interpretation of Deep Learning](Intro_to_Interpretation_of_DL.ipynb)\n",
        "- [Interpretation: Simple Methods](Interpretation_of_DL_Simple.ipynb)\n",
        "- [Interpretation: Saliency Maps](Interpretation_of_DL_Deconv.ipynb)\n",
        "- [Interpretation: Gradient Ascent](Interpretation_of_DL_Gradient_Ascent.ipynb)\n",
        "- [Adversarial Examples](Adversarial_Examples.ipynb)\n",
        "\n",
        "Wrapping up\n",
        "- [Final thoughts](Deep_Learning_Coda.ipynb)\n",
        "\n",
        "Deeper Dives\n",
        "- [Interpretation using Principal Components](Interpretation_of_DL_Simple_PCA.ipynb)\n",
        "- [Interpretation: Attention](Interpretation_of_DL_Attention.ipynb)\n",
        "\n",
        "Further reading\n",
        "- [Visualizing and Understanding Convolutional Networks](https://arxiv.org/pdf/1311.2901.pdf)\n",
        "- [A Neural Algorithm of Artistic Style](https://arxiv.org/pdf/1508.06576.pdf)"
      ]
    },
    {
      "cell_type": "markdown",
      "metadata": {
        "id": "HINeNY-D5Gh2",
        "colab_type": "text"
      },
      "source": [
        "# Assignments\n",
        "\n",
        "## Assignment 1\n",
        "- [Assignment 1 notebook](Assignment_DL_student/DL_1_ships_in_satellite_images_P1/Ships_in_satellite_images_P1.ipynb)\n",
        "\n",
        "## Assignment 2\n",
        "- [Assignment 2 notebook](Assignment_DL_student/DL_2_ships_in_satellite_images_P2/Ships_in_satellite_images_P2.ipynb)\n",
        "    \n",
        "## Assignment 3\n",
        "- [Assignment 3 notebook](Assignment_DL_student/DL_3_sentiment_from_tweets/Sentiment_from_tweets.ipynb)\n",
        "\n",
        "## Final Project\n",
        "- [Final Project](Assignment_DL_student/DL_4_Final_Project_sentiment_from_reviews/Sentiment_from_reviews.ipynb)\n"
      ]
    },
    {
      "cell_type": "code",
      "metadata": {
        "id": "W15N9c4g60b_",
        "colab_type": "code",
        "colab": {}
      },
      "source": [
        ""
      ],
      "execution_count": null,
      "outputs": []
    }
  ]
}
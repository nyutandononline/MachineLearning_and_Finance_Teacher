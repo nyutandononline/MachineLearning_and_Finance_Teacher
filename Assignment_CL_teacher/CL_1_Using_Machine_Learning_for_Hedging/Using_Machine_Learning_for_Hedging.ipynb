{
 "cells": [
  {
   "cell_type": "markdown",
   "metadata": {
    "nbgrader": {
     "grade": false,
     "grade_id": "cell-6a258ba42be40271",
     "locked": true,
     "schema_version": 3,
     "solution": false,
     "task": false
    }
   },
   "source": [
    "# Assignment: Using Machine Learning for Hedging\n",
    "\n",
    "Welcome to the first assignment !\n",
    "\n",
    "# Problem description\n",
    "\n",
    "We will solve a Regression task that is very common in Finance\n",
    "- Given the return of \"the market\", predict the return of a particular stock\n",
    "\n",
    "That is\n",
    "- Given the return of a proxy for \"the market\" at time $t$, predict the return of, e.g., Apple at time $t$.\n",
    "\n",
    "As we will explain\n",
    "being able to predict the relationship between two financial instruments opens up possibilities\n",
    "- Use one instrument to \"hedge\" or reduce the risk of holding the other\n",
    "- Create strategies whose returns are independent of \"the market\"\n",
    "    - Hopefully make a profit regardless of whether the market goes up or down\n",
    "\n",
    "## Goal\n",
    "\n",
    "You will create models of increasing complexity in order to explain the return of Apple (ticker \\aapl)\n",
    "- The first model will have a single feature: return of the market proxy, ticker $\\spy$\n",
    "- Subsequent models will add the return of other tickers as additional features\n",
    "\n",
    "## Objectives\n",
    "We will be using Linear Regression to establish the relationship between the returns of individual equities and \"the market\".\n",
    "\n",
    "The purpose of the assignment is two-fold\n",
    "- to get you up to speed with Machine Learning in general, and `sklearn` in particular\n",
    "- to get you up to speed with the other programming tools (e.g., Pandas) that will help you in data preparation, etc.\n",
    "\n",
    "## How to report your answers\n",
    "I will mix explanation of the topic with tasks that you must complete. Look for \n",
    "the string \"**Queston**\" to find a task that you must perform.\n",
    "Most of the tasks will require you to assign values to variables and execute a `print` statement.\n",
    "\n",
    "**Motivation**\n",
    "\n",
    "If you **do not change** the print statement then the GA (or a machine) can automatically find your answer to each part by searching for the string.\n"
   ]
  },
  {
   "cell_type": "markdown",
   "metadata": {
    "nbgrader": {
     "grade": false,
     "locked": true,
     "solution": false
    }
   },
   "source": [
    "# Standard imports"
   ]
  },
  {
   "cell_type": "code",
   "execution_count": null,
   "metadata": {
    "collapsed": true,
    "nbgrader": {
     "grade": false,
     "grade_id": "cell-f32245b227ef3443",
     "locked": true,
     "solution": false
    }
   },
   "outputs": [],
   "source": [
    "# Standard imports\n",
    "import numpy as np\n",
    "import pandas as pd\n",
    "import matplotlib.pyplot as plt\n",
    "\n",
    "import sklearn\n",
    "\n",
    "import os\n",
    "import math\n",
    "\n",
    "%matplotlib inline"
   ]
  },
  {
   "cell_type": "markdown",
   "metadata": {
    "nbgrader": {
     "grade": false,
     "grade_id": "cell-0e22b5a64e1a66aa",
     "locked": true,
     "schema_version": 3,
     "solution": false,
     "task": false
    }
   },
   "source": [
    "# Get The data\n",
    "\n",
    "The data are the daily prices of a number of individual equities and equity indices.\n",
    "The prices are arranged in a series in ascending date order (a timeseries).\n",
    "- There are many `.csv` files for equity or index in the directory `/resource/asnlib/publicdata/data`\n",
    "\n",
    "You should get the \"Adjusted Close\" price data into some sort of data structure.  Pandas DataFrame is super useful\n",
    "so I recommend that's what you use.\n",
    "      \n",
    "**Question:**\n",
    "- Complete function `read_ticker()` to load AAPL and SPY `Adj Close` price\n",
    "\n",
    "**Hint:**\n",
    "- look up the Pandas `read_csv()` method"
   ]
  },
  {
   "cell_type": "code",
   "execution_count": null,
   "metadata": {
    "collapsed": true
   },
   "outputs": [],
   "source": [
    "DATA_DIR = './data'\n",
    "if not os.path.isdir(DATA_DIR):\n",
    "    DATA_DIR  = \"../resource/asnlib/publicdata/data\"\n",
    "DATE_ATTR=\"Dt\"\n",
    "PRICE_ATTR = \"Adj Close\"\n",
    "\n",
    "aapl = pd.DataFrame()\n",
    "spy = pd.DataFrame()\n",
    "\n",
    "def read_ticker(ticker):\n",
    "    '''\n",
    "    Load the ticker data\n",
    "    \n",
    "    Arguments:\n",
    "    ticker: name of your ticker, string\n",
    "    '''\n",
    "    \n",
    "    ### BEGIN SOLUTION\n",
    "    df = pd.read_csv( DATA_DIR + \"/\" + ticker + \".csv\", index_col=DATE_ATTR)\n",
    "    return df[[PRICE_ATTR]]\n",
    "    ### END SOLUTION\n",
    "\n",
    "aapl, spy = read_ticker('AAPL'), read_ticker(\"SPY\")"
   ]
  },
  {
   "cell_type": "markdown",
   "metadata": {
    "nbgrader": {
     "grade": false,
     "locked": true,
     "solution": false
    }
   },
   "source": [
    "# Have a look at the data\n",
    "\n",
    "We will not go through all steps in the Recipe, nor in depth.\n",
    "\n",
    "But here's a peek"
   ]
  },
  {
   "cell_type": "code",
   "execution_count": null,
   "metadata": {
    "collapsed": true
   },
   "outputs": [],
   "source": [
    "# Print your results\n",
    "print(\"AAPL: \", aapl.head())\n",
    "print(\"SPY: \", spy.head())"
   ]
  },
  {
   "cell_type": "markdown",
   "metadata": {},
   "source": [
    "Expected outputs should be similar to this:   \n",
    "AAPL:    \n",
    "<table> \n",
    "    <tr> \n",
    "        <td>Dt</td><td>Adj Close</td>\n",
    "    </tr>\n",
    "    <tr> \n",
    "        <td>2017-01-03</td><td>110.9539</td>\n",
    "    </tr>\n",
    "    <tr> \n",
    "        <td>2017-01-04</td><td>110.8297</td>\n",
    "    </tr>\n",
    "    <tr> \n",
    "        <td>2017-01-05</td><td>111.3933</td>\n",
    "    </tr>\n",
    "    <tr> \n",
    "        <td>2017-01-06</td><td>112.6351</td>\n",
    "    </tr>\n",
    "    <tr> \n",
    "        <td>2017-01-09</td><td>113.6668</td> \n",
    "    </tr>\n",
    "</table>   \n",
    "SPY:     \n",
    "<table> \n",
    "    <tr> \n",
    "        <td>Dt</td><td>Adj Close</td>\n",
    "    </tr>\n",
    "    <tr> \n",
    "        <td>2017-01-03</td><td>213.8428</td> \n",
    "    </tr>\n",
    "    <tr> \n",
    "        <td>2017-01-04</td><td>215.1149</td>\n",
    "    </tr>\n",
    "    <tr> \n",
    "        <td>2017-01-05</td><td>214.9440</td>\n",
    "    </tr>\n",
    "    <tr> \n",
    "        <td>2017-01-06</td><td>215.7131</td> \n",
    "    </tr>\n",
    "    <tr> \n",
    "        <td>2017-01-09</td><td>215.0010</td>\n",
    "    </tr>\n",
    "</table>"
   ]
  },
  {
   "cell_type": "code",
   "execution_count": null,
   "metadata": {
    "collapsed": true
   },
   "outputs": [],
   "source": [
    "# Print the Start time and End time\n",
    "print(\"Start time: \", aapl.index.min())\n",
    "print(\"End time: \", aapl.index.max())"
   ]
  },
  {
   "cell_type": "markdown",
   "metadata": {
    "nbgrader": {
     "grade": false,
     "locked": true,
     "solution": false
    }
   },
   "source": [
    "# Prepare the data\n",
    "\n",
    "In Finance, it is very typical to work with *relative changes* (e.g., percent price change)\n",
    "rather than *absolute changes* (price change) or *levels* (prices).\n",
    "\n",
    "Without going into too much detail\n",
    "- Relative changes are more consistent over time than either absolute changes or levels\n",
    "- The consistency can facilitate the use of data over a longer time period\n",
    "\n",
    "For example, let's suppose that prices are given in units of USD (dollar)\n",
    "- A price change of 1 USD is more likely for a stock with price level 100 than price level 10\n",
    "    - A relative change of $1/100 = 1 %$ is more likely than a change of $1/10 = 10%$\n",
    "    - So relative changes are less dependent on price level than either price changes or price levels\n",
    "    \n",
    "    \n",
    "To compute the *return* (percent change in prices)\n",
    " for ticker $\\aapl$ (Apple) on date $t$\n",
    "\n",
    "$$\n",
    "\\begin{array}[lll]\\\\\n",
    "\\ret_\\aapl^\\tp = \\frac{\\price _\\aapl^\\tp}{\\price _\\aapl^{(t-1)}} -1 \\\\\n",
    "\\text{where} \\\\\n",
    "\\price_\\aapl^\\tp \\text{ denotes the price of ticker } \\aapl \\text{ on date } t \\\\\n",
    "\\ret_\\aapl^\\tp \\text{ denotes the return of ticker } \\aapl \\text{ on date } t\n",
    "\\end{array}\n",
    "$$\n"
   ]
  },
  {
   "cell_type": "markdown",
   "metadata": {},
   "source": [
    "## Transformations: transform the data\n",
    "\n",
    "Our first task is to transform the data from price levels (Adj Close)\n",
    "to Percent Price Changes.\n",
    "\n",
    "**Note**\n",
    "\n",
    "We will need to apply **identical** transformations to both the training and test data examples.\n",
    "\n",
    "In the cells that immediately follow, we will do this only for both traning and test data examples.\n",
    "\n",
    "**Question:**\n",
    "- Complete function `add_ret()` to compute the returns of tickers. Name the column of returns \"Return\"\n",
    "\n",
    "**Hint:**\n",
    "- look up the Pandas `pct_change()` method    "
   ]
  },
  {
   "cell_type": "code",
   "execution_count": null,
   "metadata": {
    "collapsed": true
   },
   "outputs": [],
   "source": [
    "RET_ATTR = 'Return'\n",
    "PRICE_ATTR = 'Adj Close'\n",
    "\n",
    "def add_ret(ticker_df):\n",
    "    '''\n",
    "    Add a return column for ticker price\n",
    "    \n",
    "    Arguments:\n",
    "    ticker_df: Adjusted price data of your ticker\n",
    "    '''\n",
    "    ### BEGIN SOLUTION\n",
    "    ticker_df[RET_ATTR] = ticker_df[PRICE_ATTR].pct_change()\n",
    "    return ticker_df\n",
    "    ### END SOLUTION\n",
    "\n",
    "aapl_ret = add_ret(aapl)\n",
    "spy_ret = add_ret(spy)\n",
    "print(\"AAPL\", aapl_ret.head())\n",
    "print(\"SPY\", spy_ret.head())"
   ]
  },
  {
   "cell_type": "markdown",
   "metadata": {
    "nbgrader": {
     "grade": false,
     "locked": true,
     "solution": false
    }
   },
   "source": [
    "Expected outputs should be similar to this:   \n",
    "AAPL:    \n",
    "<table> \n",
    "    <tr> \n",
    "        <td>Dt</td><td>Adj Close</td><td>Return</td>\n",
    "    </tr>\n",
    "    <tr> \n",
    "        <td>2017-01-03</td><td>110.9539</td><td>NaN</td> \n",
    "    </tr>\n",
    "    <tr> \n",
    "        <td>2017-01-04</td><td>110.8297</td><td>-0.001119</td> \n",
    "    </tr>\n",
    "    <tr> \n",
    "        <td>2017-01-05</td><td>111.3933</td><td>0.005085</td> \n",
    "    </tr>\n",
    "    <tr> \n",
    "        <td>2017-01-06</td><td>112.6351</td><td>0.011148</td> \n",
    "    </tr>\n",
    "    <tr> \n",
    "        <td>2017-01-09</td><td>113.6668</td><td>0.009160</td> \n",
    "    </tr>\n",
    "</table>   \n",
    "SPY:     \n",
    "<table> \n",
    "    <tr> \n",
    "        <td>Dt</td><td>Adj Close</td><td>Return</td>\n",
    "    </tr>\n",
    "    <tr> \n",
    "        <td>2017-01-03</td><td>213.8428</td><td>NaN</td> \n",
    "    </tr>\n",
    "    <tr> \n",
    "        <td>2017-01-04</td><td>215.1149</td><td>0.005949</td> \n",
    "    </tr>\n",
    "    <tr> \n",
    "        <td>2017-01-05</td><td>214.9440</td><td>-0.000794</td> \n",
    "    </tr>\n",
    "    <tr> \n",
    "        <td>2017-01-06</td><td>215.7131</td><td>0.003578</td> \n",
    "    </tr>\n",
    "    <tr> \n",
    "        <td>2017-01-09</td><td>215.0010</td><td>-0.003301</td> \n",
    "    </tr>\n",
    "</table>"
   ]
  },
  {
   "cell_type": "markdown",
   "metadata": {
    "nbgrader": {
     "grade": false,
     "locked": true,
     "solution": false
    }
   },
   "source": [
    "## Select a specific year \n",
    "\n",
    "We only want the returns for the year 2018; discard any other return\n",
    "\n",
    "\n",
    "**Questions:**\n",
    "- Complete function `select_yr()` to select the data in 2018 \n",
    "- Complete function `summarize()` to get the number of returns, return on the earliest data, return on the lastest data and the average return\n",
    "- Replace the 0 values in the following cell with your answers, and execute the print statements"
   ]
  },
  {
   "cell_type": "code",
   "execution_count": null,
   "metadata": {
    "collapsed": true,
    "nbgrader": {
     "grade": false,
     "grade_id": "check-aapl-2018",
     "locked": false,
     "schema_version": 3,
     "solution": true,
     "task": false
    }
   },
   "outputs": [],
   "source": [
    "ticker_returns = np.array([]) # Returns of the ticker for year 2018\n",
    "idx_returns = np.array([])    # Returns of the index for year 2018\n",
    "\n",
    "num_returns = 0  # Number of returns in year 2018\n",
    "first_return = 0 # The return on the earliest date in 2018\n",
    "last_return  = 0 # The return on the latest date in 2018\n",
    "avg_return  = 0  # The average return over the  year 2018\n",
    "\n",
    "def select_yr(ticker_df, year):\n",
    "    '''\n",
    "    Select the returns which are in 2018 year, discard any other return\n",
    "    \n",
    "    Arguments:\n",
    "    ticker_df: ticker data with a column Return\n",
    "    year: the year you want to select\n",
    "    '''\n",
    "    ### BEGIN SOLUTION\n",
    "    df_yr = ticker_df[ ticker_df[RET_ATTR].notnull() ][ ( str(year) + \"-01-01\"):(str(year) + \"-12-31\")]\n",
    "    return df_yr\n",
    "    ### END SOLUTION\n",
    "\n",
    "def summarize(return_df, ATTR):\n",
    "    '''\n",
    "    Fetch the number of returns, return on the earliest data, return on the lastest data and the average return\n",
    "    \n",
    "    Argument:\n",
    "    return_df: returns in 2018\n",
    "    ATTR: name of column you want to summarize\n",
    "    '''\n",
    "    ### BEGIN SOLUTION\n",
    "    num_returns = len(return_df)\n",
    "    first_return = return_df[ATTR].iloc[0]  # The return on the earliest date \n",
    "    last_return  = return_df[ATTR].iloc[-1] # The return on the latest date\n",
    "    avg_return   = return_df[ATTR].mean()  # The average return\n",
    "    \n",
    "    return num_returns, first_return, last_return, avg_return\n",
    "    ### END SOLUTION\n",
    "\n",
    "# Select 2018\n",
    "aapl_ret_2018, spy_ret_2018 = select_yr(aapl_ret, 2018), select_yr(spy_ret, 2018)\n",
    "\n",
    "# Assign to answer variables\n",
    "ticker_returns = aapl_ret_2018[ RET_ATTR ].values\n",
    "index_returns = spy_ret_2018[ RET_ATTR ].values\n",
    "num_returns, first_return, last_return, avg_return = summarize( aapl_ret_2018, RET_ATTR)\n",
    "\n",
    "print(\"There are {num:d} returns. First={first:.3%}, Last={last:.3%}, Avg={avg:.3%}\".format(num=num_returns, first=first_return, last=last_return, avg=avg_return))"
   ]
  },
  {
   "cell_type": "code",
   "execution_count": null,
   "metadata": {
    "collapsed": true,
    "nbgrader": {
     "grade": true,
     "grade_id": "check_returns",
     "locked": true,
     "points": "10",
     "schema_version": 3,
     "solution": false,
     "task": false
    }
   },
   "outputs": [],
   "source": [
    "### BEGIN HIDDEN TESTS\n",
    "assert np.allclose( [num_returns], [251], rtol=1e-05, atol=1e-03 )\n",
    "assert np.allclose( [first_return * 100], [ 1.790 ], rtol=1e-05, atol=1e-03 )\n",
    "assert np.allclose( [last_return * 100], [ 0.966 ], rtol=1e-05, atol=1e-03 )\n",
    "assert np.allclose( [avg_return * 100], [ - 0.006 ], rtol=1e-05, atol=1e-03 )\n",
    "\n",
    "# test the ticker_returns and index_returns\n",
    "def select_yr_(ticker_df, year):\n",
    "    df_yr = ticker_df[ ticker_df[RET_ATTR].notnull() ][ ( str(year) + \"-01-01\"):(str(year) + \"-12-31\")]\n",
    "    return df_yr\n",
    "# Select 2018\n",
    "aapl_ret_2018_, spy_ret_2018_ = select_yr_(aapl_ret, 2018), select_yr_(spy_ret, 2018)\n",
    "assert np.allclose( ticker_returns, aapl_ret_2018_[ RET_ATTR ].values )\n",
    "assert np.allclose( index_returns, spy_ret_2018_[ RET_ATTR ].values )\n",
    "### END HIDDEN TESTS"
   ]
  },
  {
   "cell_type": "markdown",
   "metadata": {
    "nbgrader": {
     "grade": false,
     "grade_id": "cell-b99cc7df0159c34c",
     "locked": true,
     "schema_version": 3,
     "solution": false,
     "task": false
    }
   },
   "source": [
    "## Split into Train and Test datasets\n",
    "\n",
    "Right now you have transformed the data and taken the data in one specific period. To prepare dataset for training and test, you need to split the data into two sets by choosing the members of each set at random.\n",
    "\n",
    "To facilitate grading for this assignment, we will *use a specific test set*\n",
    "- the training set are the returns for the months of January through September (inclusive), i.e., 9 months\n",
    "- the test set are the returns for the months of October through December (inclusive), i.e., 3 months\n",
    "\n",
    "Thus, you will be using the early part of the data for training, and the latter part of the data for testing.\n",
    "\n",
    "**Question:**   \n",
    "- Complete the function `split()` to split you dataset into train set (2018/01/01 - 2018/09/30) and test set (2018/10/01 - 2018/12/31)\n",
    "- Replace the 0 values in the following cell with your answers, and execute the print statements"
   ]
  },
  {
   "cell_type": "code",
   "execution_count": null,
   "metadata": {
    "collapsed": true,
    "nbgrader": {
     "grade": false,
     "grade_id": "split",
     "locked": false,
     "schema_version": 3,
     "solution": true,
     "task": false
    }
   },
   "outputs": [],
   "source": [
    "train_ticker_returns = np.array([]) # Returns of the ticker for training period\n",
    "train_idx_returns    = np.array([]) # Returns of the index for training period\n",
    "\n",
    "train_num_returns = 0  # Number of returns in train set\n",
    "train_first_return = 0 # The return on the earliest date in train set\n",
    "train_last_return  = 0 # The return on the latest date in train set\n",
    "train_avg_return  = 0  # The average return over the  year train set\n",
    "\n",
    "test_num_returns = 0  # Number of returns in test set\n",
    "test_first_return = 0 # The return on the earliest date in test set\n",
    "test_last_return  = 0 # The return on the latest date in test set\n",
    "test_avg_return  = 0  # The average return over the  year test set\n",
    "\n",
    "def split(return_df):\n",
    "    '''\n",
    "    Split data into train and test dataset\n",
    "    \n",
    "    Arguments:\n",
    "    return_df: dataset you want to split\n",
    "    '''\n",
    "    ### BEGIN SOLUTION\n",
    "    df_train = return_df[\"2018-01-01\":\"2018-09-30\"]\n",
    "    df_test  = return_df[\"2018-10-01\":\"2018-12-31\"]\n",
    "    \n",
    "    return df_train, df_test\n",
    "    ### END SOLUTION\n",
    "\n",
    "aapl_train, aapl_test = split(aapl_ret_2018)\n",
    "spy_train, spy_test = split(spy_ret_2018)\n",
    "\n",
    "# Assign to answer variables\n",
    "### BEGIN SOLUTION\n",
    "train_num_returns, train_first_return, train_last_return, train_avg_return = summarize( aapl_train, RET_ATTR)\n",
    "\n",
    "test_num_returns, test_first_return, test_last_return, test_avg_return = summarize( aapl_test, RET_ATTR)\n",
    "\n",
    "# Assign to answer variables\n",
    "train_ticker_returns, train_idx_returns = aapl_train.values, spy_train.values\n",
    "\n",
    "### END SOLUTION\n",
    "\n",
    "print(\"Train set: There are {num:d} returns. First={first:.2%}, Last={last:.2%}, Avg={avg:.2%}\".format(num=train_num_returns, \n",
    "                                                                                                         first=train_first_return, \n",
    "                                                                                                         last=train_last_return, \n",
    "                                                                                                         avg=train_avg_return))\n",
    "\n",
    "print(\"Test set: There are {num:d} returns. First={first:.2%}, Last={last:.2%}, Avg={avg:.2%}\".format(num=test_num_returns, \n",
    "                                                                                                         first=test_first_return, \n",
    "                                                                                                         last=test_last_return, \n",
    "                                                                                                         avg=test_avg_return))"
   ]
  },
  {
   "cell_type": "markdown",
   "metadata": {
    "nbgrader": {
     "grade": false,
     "locked": true,
     "solution": false
    }
   },
   "source": [
    "Your expected outputs should be:    \n",
    "Train set: There are 188 returns. First=1.79%, Last=0.35%, Avg=0.17%     \n",
    "Test set: There are 63 returns. First=0.67%, Last=0.97%, Avg=-0.53%"
   ]
  },
  {
   "cell_type": "code",
   "execution_count": null,
   "metadata": {
    "collapsed": true,
    "nbgrader": {
     "grade": true,
     "grade_id": "check-split",
     "locked": true,
     "points": "10",
     "schema_version": 3,
     "solution": false,
     "task": false
    }
   },
   "outputs": [],
   "source": [
    "### BEGIN HIDDEN TESTS\n",
    "def split_(return_df):\n",
    "    df_train = return_df[\"2018-01-01\":\"2018-09-30\"]\n",
    "    df_test  = return_df[\"2018-10-01\":\"2018-12-31\"]\n",
    "    \n",
    "    return df_train, df_test\n",
    "aapl_train_, aapl_test_ = split_(aapl_ret_2018)\n",
    "spy_train_, spy_test_ = split_(spy_ret_2018)\n",
    "assert np.allclose( train_ticker_returns, aapl_train_.values )\n",
    "assert np.allclose( train_idx_returns,    spy_train_.values )\n",
    "### END HIDDEN TESTS"
   ]
  },
  {
   "cell_type": "markdown",
   "metadata": {
    "nbgrader": {
     "grade": false,
     "grade_id": "cell-6c933eb1e2a23c0a",
     "locked": true,
     "schema_version": 3,
     "solution": false,
     "task": false
    }
   },
   "source": [
    "# regression\n",
    "\n",
    "Use Linear Regression to predict the return of a ticker from the return of the $\\spy$ index.\n",
    "For example, for ticker $\\aapl$\n",
    "\n",
    "$$\n",
    "\\ret_\\aapl^\\tp =  \\beta_{\\aapl, \\spy} * \\ret_\\spy^\\tp + \\epsilon_{\\aapl}^\\tp\n",
    "$$\n",
    "\n",
    "That is\n",
    "- each example is a pair consisting of one day's return \n",
    "    - of the ticker (e.g., $\\aapl$).  This is the target (e.g, $\\y$ in our lectures)\n",
    "    - of the index $\\spy$. This is a feature vector of length 1 (e.g., $\\x$ in our lectures)\n",
    "\n",
    "You will use Linear Regression to solve for parameter $\\beta_{\\aapl, \\spy}$ \n",
    "\n",
    "- In the lectures we used the symbol $\\Theta$ to denote the parameter vector; here we use $\\mathbf{\\beta}$\n",
    "- In Finance the symbol $\\beta$ is often used to denote the relationship between returns. \n",
    "- You may should add an \"intercept\" so that the feature vector is length 2 rather than length 1\n",
    "    - $\\x^\\tp = \\begin{pmatrix}\n",
    "        1 \\\\\n",
    "        \\ret_\\spy^\\tp\n",
    "        \\end{pmatrix}$\n",
    "- Report the $\\mathbf{\\beta}$ parameter vector you obtain for $\\aapl$\n",
    "    - you will subsequently do this for another ticker in a different part of the assignment\n",
    "        - so think ahead: you may want to parameterize your code\n",
    "        - change the assignment to `ticker` when you report the next part\n"
   ]
  },
  {
   "cell_type": "markdown",
   "metadata": {},
   "source": [
    "**Questions:**\n",
    "- Complete the function `createModel()` to build your linear regression model\n",
    "- Complete the function `regress()` to do regression and return intercept and coefficients\n",
    "- Replace the 0 values in the following cell with your answers, and execute the print statements\n"
   ]
  },
  {
   "cell_type": "code",
   "execution_count": null,
   "metadata": {
    "collapsed": true,
    "nbgrader": {
     "grade": false,
     "grade_id": "ticker-regression",
     "locked": false,
     "schema_version": 3,
     "solution": true,
     "task": false
    }
   },
   "outputs": [],
   "source": [
    "from sklearn import datasets, linear_model\n",
    "\n",
    "beta_0 = 0    # The regression parameter for the constant\n",
    "beta_SPY = 0  # The regression parameter for the return of SPY\n",
    "ticker = \"AAPL\"\n",
    "\n",
    "def createModel():\n",
    "    '''\n",
    "    Build your linear regression model using sklearn\n",
    "    '''\n",
    "    ### BEGIN SOLUTION\n",
    "    model = linear_model.LinearRegression()\n",
    "    return model\n",
    "    ### END SOLUTION\n",
    "\n",
    "def regress(model, dep_df, ind_df):\n",
    "    '''\n",
    "    Do regression using returns of your ticker and index\n",
    "    \n",
    "    Arguments:\n",
    "    model: model you build with method \"createModel()\"\n",
    "    dep_df: ticker returns\n",
    "    ind_df: index returns\n",
    "    '''\n",
    "    ### BEGIN SOLUTION\n",
    "    _= model.fit( ind_df[ [RET_ATTR] ].values, dep_df[ [RET_ATTR] ].values )\n",
    "    \n",
    "    return model.intercept_[0], model.coef_[0][0]\n",
    "    ### END SOLUTION\n",
    "\n",
    "# Assign to answer variables\n",
    "### BEGIN SOLUTION\n",
    "regr = createModel()\n",
    "\n",
    "beta_0, beta_SPY = regress(regr, aapl_train, spy_train)\n",
    "\n",
    "### END SOLUTION\n",
    "\n",
    "print(\"{t:s}: beta_0={b0:3.3f}, beta_SPY={b1:3.3f}\".format(t=ticker, b0=beta_0, b1=beta_SPY))"
   ]
  },
  {
   "cell_type": "markdown",
   "metadata": {
    "nbgrader": {
     "grade": false,
     "locked": true,
     "solution": false
    }
   },
   "source": [
    "Your expected outputs should be:\n",
    "<table> \n",
    "    <tr> \n",
    "        <td>  \n",
    "            beta_0\n",
    "        </td>\n",
    "        <td>\n",
    "         0.001\n",
    "        </td>\n",
    "    </tr>\n",
    "    <tr> \n",
    "        <td>\n",
    "            beta_SPY\n",
    "        </td>\n",
    "        <td>\n",
    "         1.071\n",
    "        </td>\n",
    "    </tr>\n",
    "\n",
    "</table>"
   ]
  },
  {
   "cell_type": "code",
   "execution_count": null,
   "metadata": {
    "collapsed": true,
    "nbgrader": {
     "grade": true,
     "grade_id": "check-ticker-regression",
     "locked": true,
     "points": "10",
     "schema_version": 3,
     "solution": false,
     "task": false
    }
   },
   "outputs": [],
   "source": [
    "### BEGIN HIDDEN TESTS\n",
    "def createModel_():\n",
    "    model = linear_model.LinearRegression()\n",
    "    return model\n",
    "\n",
    "def regress_(model, dep_df, ind_df):\n",
    "    _= model.fit( ind_df[ [RET_ATTR] ].values, dep_df[ [RET_ATTR] ].values )\n",
    "    \n",
    "    return model.intercept_[0], model.coef_[0][0]\n",
    "\n",
    "model_test = createModel_()\n",
    "aapl_beta_0, aapl_beta_1 = regress_(model_test, aapl_train, spy_train)\n",
    "assert np.allclose( [beta_0, beta_SPY], [aapl_beta_0, aapl_beta_1] )\n",
    "### END HIDDEN TESTS"
   ]
  },
  {
   "cell_type": "markdown",
   "metadata": {
    "nbgrader": {
     "grade": false,
     "locked": true,
     "solution": false
    }
   },
   "source": [
    "## Train the model using Cross valiation\n",
    "\n",
    "Use 5-fold cross validation\n",
    "\n",
    "**Question:**\n",
    "- Complete the function `compute_cross_val_avg()` to compute the average score of 5-fold cross validation\n",
    "- Replace the 0 values in the following cell with your answers, and execute the print statements\n",
    "\n",
    "**Hint:**  \n",
    "- You can use the `cross_val_score` in `sklearn.model_selection`"
   ]
  },
  {
   "cell_type": "code",
   "execution_count": null,
   "metadata": {
    "collapsed": true
   },
   "outputs": [],
   "source": [
    "from sklearn.model_selection import cross_val_score\n",
    "\n",
    "cross_val_avg = 0 # average score of cross validation\n",
    "k = 5             # 5-fold cross validation\n",
    "\n",
    "def compute_cross_val_avg(model, dep_df, ind_df, k):\n",
    "    '''\n",
    "    Compute the average score of k-fold cross validation\n",
    "    \n",
    "    Arguments:\n",
    "    model: model you build with method \"createModel()\"\n",
    "    dep_df: ticker returns\n",
    "    ind_df: index returns\n",
    "    k: k-fold cross validation\n",
    "    '''\n",
    "    ### BEGIN SOLUTION\n",
    "    cross_val_score_ = cross_val_score(model, np.expand_dims(ind_df[RET_ATTR].values, axis=1), dep_df[RET_ATTR].values, cv=k)\n",
    "    return np.mean(cross_val_score_)\n",
    "    ### END SOLUTION\n",
    "\n",
    "    \n",
    "cross_val_avg = compute_cross_val_avg(regr, aapl_train, spy_train, 5)\n",
    "print(\"{t:s}: Avg cross val score = {sc:3.2f}\".format(t=ticker, sc=cross_val_avg) )"
   ]
  },
  {
   "cell_type": "code",
   "execution_count": null,
   "metadata": {
    "collapsed": true,
    "nbgrader": {
     "grade": true,
     "grade_id": "Check-cross-validation",
     "locked": true,
     "points": "10",
     "solution": false
    }
   },
   "outputs": [],
   "source": [
    "### BEGIN HIDDEN TESTS\n",
    "def compute_cross_val_avg_(model, dep_df, ind_df, k):\n",
    "    cross_val_score_ = cross_val_score(model, np.expand_dims(ind_df[RET_ATTR].values, axis=1), dep_df[RET_ATTR].values, cv=k)\n",
    "    return np.mean(cross_val_score_)\n",
    "cross_val_avg_ = compute_cross_val_avg_(regr, aapl_train, spy_train, 5)\n",
    "assert np.allclose(cross_val_avg, cross_val_avg_)\n",
    "### END HIDDEN TESTS"
   ]
  },
  {
   "cell_type": "markdown",
   "metadata": {
    "nbgrader": {
     "grade": false,
     "locked": true,
     "solution": false
    }
   },
   "source": [
    "## Evaluate Loss (in sample RMSE) and Performance (Out of sample RMSE)\n",
    "\n",
    "**Question:**\n",
    "- Complete the function `computeRMSE()` to calculate the Root of Mean Square Error (RMSE)\n",
    "- Replace the 0 values in the following cell with your answers, and execute the print statements"
   ]
  },
  {
   "cell_type": "code",
   "execution_count": null,
   "metadata": {
    "collapsed": true
   },
   "outputs": [],
   "source": [
    "from sklearn.metrics import mean_squared_error\n",
    "\n",
    "rmse_in_sample = 0 # in sample loss\n",
    "rmse_out_sample = 0 # out of sample performance\n",
    "\n",
    "# Predicted  in-sample returns of AAPL using SPY index\n",
    "aapl_predicted_in_sample = regr.predict(np.expand_dims(spy_train[RET_ATTR].values, axis=1))\n",
    "# Predicted out-of-sample returns of AAPL using SPY index\n",
    "aapl_predicted_out_sample = regr.predict(np.expand_dims(spy_test[RET_ATTR].values, axis=1))\n",
    "\n",
    "def computeRMSE( target, predicted ):\n",
    "    '''\n",
    "    Calculate the RMSE\n",
    "    \n",
    "    Arguments:\n",
    "    target: real ticker returns\n",
    "    predicted: predicted ticker returns\n",
    "    '''\n",
    "    ### BEGIN SOLUTION\n",
    "    rmse = np.sqrt( mean_squared_error(target,  predicted))\n",
    "    return rmse\n",
    "    ### END SOLUTION\n",
    "    \n",
    "rmse_in_sample = computeRMSE(aapl_train[RET_ATTR].values, aapl_predicted_in_sample)\n",
    "rmse_out_sample = computeRMSE(aapl_test[RET_ATTR].values, aapl_predicted_out_sample)\n",
    "\n",
    "print(\"In Sample Root Mean squared error: {:.3f}\".format( rmse_in_sample ) )\n",
    "print(\"Out of Sample Root Mean squared error: {:.3f}\".format( rmse_out_sample ) )"
   ]
  },
  {
   "cell_type": "code",
   "execution_count": null,
   "metadata": {
    "collapsed": true,
    "nbgrader": {
     "grade": true,
     "grade_id": "check-evaluation",
     "locked": true,
     "points": "10",
     "solution": false
    }
   },
   "outputs": [],
   "source": [
    "### BEGIN HIDDEN TESTS\n",
    "def computeRMSE_( target, predicted ):\n",
    "    rmse = np.sqrt( mean_squared_error(target,  predicted))\n",
    "    return rmse\n",
    "rmse_in_sample_test = computeRMSE_(aapl_train[RET_ATTR].values, regr.predict(np.expand_dims(spy_train[RET_ATTR].values, axis=1)))\n",
    "rmse_out_sample_test = computeRMSE_(aapl_test[RET_ATTR].values, regr.predict(np.expand_dims(spy_test[RET_ATTR].values, axis=1)))\n",
    "assert np.allclose(rmse_in_sample, rmse_in_sample_test)\n",
    "assert np.allclose(rmse_out_sample, rmse_out_sample_test)\n",
    "### END HIDDEN TESTS"
   ]
  },
  {
   "cell_type": "markdown",
   "metadata": {
    "nbgrader": {
     "grade": false,
     "locked": true,
     "solution": false
    }
   },
   "source": [
    "## Hedged returns\n",
    "\n",
    "Why is being able to predict the return of a ticker, given the return of another instrument (e.g., the market proxy) useful ?\n",
    "- It **does not** allow us to predict the future\n",
    "    - To predict $\\ret_\\aapl^\\tp$, we require the same day return of the proxy $\\ret_\\spy$\n",
    "- It **does** allow us to predict how much $\\aapl$ will outperform the market proxy\n",
    "\n",
    "Consider an investment that goes long (i.e, holds a positive quantity of $\\aapl$\n",
    "- Since the relationship between returns is positive\n",
    "    - You will likely make money if the market goes up\n",
    "    - You will likely lose money if the market goes down\n",
    "    \n",
    "Consider instead a *hedged* investment\n",
    "- Go long 1 USD of $\\aapl$\n",
    "- Go short (hold a negative quantity) $\\beta_{\\aapl,\\spy}$ USD of the market proxy $\\spy$\n",
    "\n",
    "Your *hedged return* on this long/short portfolio will be\n",
    "$$\n",
    "{\\ret'}_{\\aapl}^\\tp = \\ret_\\aapl^\\tp - \\beta_{\\aapl, \\spy} * \\ret_\\spy^\\tp\n",
    "$$\n",
    "\n",
    "As long as\n",
    "$$\n",
    "\\ret_\\aapl^\\tp \\gt \\beta_{\\aapl, \\spy} * \\ret_\\spy^\\tp\n",
    "$$\n",
    "you will make a profit, regardless of whether the market proxy rises or falls !\n",
    "\n",
    "That is: you make money as long as $\\aapl$ *outperforms* the market proxy.\n"
   ]
  },
  {
   "cell_type": "markdown",
   "metadata": {
    "nbgrader": {
     "grade": false,
     "locked": true,
     "solution": false
    }
   },
   "source": [
    "This hedged portfolio is interesting\n",
    "- Because your returns are independent of the market\n",
    "- The volatility of your returns is likely much lower than the volatility of the long-only investment\n",
    "- There is a belief that it is difficult to predict the market $\\ret_\\spy$\n",
    "- But you might be able to discover a ticker (e.g., $\\aapl$) that will outpeform the market\n",
    "\n",
    "This is a real world application of the Regression task in Finance."
   ]
  },
  {
   "cell_type": "markdown",
   "metadata": {
    "nbgrader": {
     "grade": false,
     "locked": true,
     "solution": false
    }
   },
   "source": [
    "## Compute the hedged return on the test data examples\n",
    "$$\n",
    "{\\ret'}_{\\aapl}^\\tp = \\ret_\\aapl^\\tp - \\beta_{\\aapl, \\spy} * \\ret_\\spy^\\tp\n",
    "$$\n",
    "for all dates $t$ in the **test set**.  \n",
    "\n",
    "**Question:**\n",
    "- Complete the function `compute_hedged_series` to get the hedged series\n",
    "- Replace the 0 values in the following cell with your answers"
   ]
  },
  {
   "cell_type": "code",
   "execution_count": null,
   "metadata": {
    "collapsed": true
   },
   "outputs": [],
   "source": [
    "hedged_num_returns = 0  # Number of returns in hedged series\n",
    "hedged_first_return = 0 # The return on the earliest date in hedged series\n",
    "hedged_last_return  = 0 # The return on the latest date in hedged series\n",
    "hedged_avg_return  = 0  # The average return over the hedged series\n",
    "\n",
    "def compute_hedged_series(model, dep_df, ind_df):\n",
    "    '''\n",
    "    Compute the hedged series\n",
    "    \n",
    "    Arguments:\n",
    "    model: model you build with method \"createModel()\"\n",
    "    dep_df: ticker returns in test dataset\n",
    "    ind_df: index returns in test dataset\n",
    "    '''\n",
    "    ### BEGIN SOLUTION\n",
    "    ind_val = ind_df[RET_ATTR].values\n",
    "    hedged_series = dep_df[RET_ATTR].values - model.coef_[0][0] * ind_val\n",
    "    hedged_series = pd.DataFrame({'Return':hedged_series}, index=dep_df.index)\n",
    "    return hedged_series\n",
    "    ### END SOLUTION\n",
    "\n",
    "hedged_series = compute_hedged_series(regr, aapl_test, spy_test)\n",
    "hedged_num_returns, hedged_first_return, hedged_last_return, hedged_avg_return = summarize(hedged_series, RET_ATTR)\n",
    "ticker=\"AAPL\"\n",
    "print(\"{t:s} hedged returns: There are {num:d} returns. First={first:.2%}, Last={last:.2%}, Avg={avg:.2%}\".format(t=ticker,\n",
    "                                                                                                                    num=hedged_num_returns,\n",
    "                                                                                                                    first=hedged_first_return, \n",
    "                                                                                                                    last=hedged_last_return, \n",
    "                                                                                                                    avg=hedged_avg_return))"
   ]
  },
  {
   "cell_type": "code",
   "execution_count": null,
   "metadata": {
    "collapsed": true,
    "nbgrader": {
     "grade": true,
     "grade_id": "check-hedged-series",
     "locked": true,
     "points": "10",
     "solution": false
    }
   },
   "outputs": [],
   "source": [
    "### BEGIN HIDDEN TESTS\n",
    "assert np.allclose( [hedged_num_returns], [63], rtol=1e-04, atol=1e-02 )\n",
    "assert np.allclose( [hedged_first_return * 100], [ 0.30 ], rtol=1e-04, atol=1e-02 )\n",
    "assert np.allclose( [hedged_last_return * 100], [ 0.03 ], rtol=1e-04, atol=1e-02 )\n",
    "assert np.allclose( [hedged_avg_return * 100], [ -0.29 ], rtol=1e-04, atol=1e-02 )\n",
    "### END HIDDEN TESTS"
   ]
  },
  {
   "cell_type": "markdown",
   "metadata": {
    "nbgrader": {
     "grade": false,
     "locked": true,
     "solution": false
    }
   },
   "source": [
    "# $\\fb$ regression\n",
    "\n",
    "Repeat the regression you carried out for $\\aapl$ but this time instead for the ticker $\\fb$ (Facebook)\n",
    "\n",
    "**Motivation**\n",
    "\n",
    "The idea is to encourage you to build re-usable pieces of code.\n",
    "\n",
    "So if you created some functions in solving Part 1, you may reuse these functions to easily solve part 2,\n",
    "particulary if you treated the ticker (e.g., $\\aapl$ or $\\fb$) as a parameter to your functions.\n",
    "\n",
    "If you simply copy and paste the code from Part 1 you will only get partial credit.\n"
   ]
  },
  {
   "cell_type": "markdown",
   "metadata": {
    "nbgrader": {
     "grade": false,
     "locked": true,
     "solution": false
    }
   },
   "source": [
    "**Question:**\n",
    "- Compute the intercept and coefficients of your model using new ticker \"FB\"\n",
    "- Replace the 0 values in the following cell with your answers"
   ]
  },
  {
   "cell_type": "code",
   "execution_count": null,
   "metadata": {
    "collapsed": true
   },
   "outputs": [],
   "source": [
    "beta_0 = 0    # The regression parameter for the constant\n",
    "beta_SPY = 0  # The regression parameter for the return of SPY\n",
    "ticker = \"FB\"\n",
    "\n",
    "### BEGIN SOLUTION\n",
    "fb = read_ticker(ticker)\n",
    "fb_ret = add_ret(fb)\n",
    "fb_ret_2018 = select_yr(fb_ret, 2018)\n",
    "fb_train, fb_test = split(fb_ret_2018)\n",
    "new_regr = createModel()\n",
    "beta_0, beta_SPY = regress(new_regr, fb_train, spy_train)\n",
    "### END SOLUTION\n",
    "print(\"{t:s}: beta_0={b0:3.2f}, beta_SPY={b1:3.2f}\".format(t=ticker, b0=beta_0, b1=beta_SPY))\n"
   ]
  },
  {
   "cell_type": "markdown",
   "metadata": {
    "nbgrader": {
     "grade": false,
     "locked": true,
     "solution": false
    }
   },
   "source": [
    "Your expected outputs should be:\n",
    "<table> \n",
    "    <tr> \n",
    "        <td>  \n",
    "            beta_0\n",
    "        </td>\n",
    "        <td>\n",
    "         -0.00\n",
    "        </td>\n",
    "    </tr>\n",
    "    <tr> \n",
    "        <td>\n",
    "            beta_SPY\n",
    "        </td>\n",
    "        <td>\n",
    "         1.29\n",
    "        </td>\n",
    "    </tr>\n",
    "\n",
    "</table>"
   ]
  },
  {
   "cell_type": "code",
   "execution_count": null,
   "metadata": {
    "collapsed": true,
    "nbgrader": {
     "grade": true,
     "grade_id": "check-ticker-regression-fb",
     "locked": true,
     "points": "10",
     "solution": false
    }
   },
   "outputs": [],
   "source": [
    "### BEGIN HIDDEN TESTS\n",
    "fb_test_ = read_ticker(ticker)\n",
    "add_ret(fb_test_)\n",
    "fb_2018_test = select_yr_(fb_test_, 2018)\n",
    "fb_train_test, fb_test_test = split_(fb_2018_test)\n",
    "new_regr_ = createModel_()\n",
    "beta_0_test, beta_SPY_test = regress_(new_regr_, fb_train_test, spy_train)\n",
    "assert np.allclose([beta_0, beta_SPY], [beta_0_test, beta_SPY_test], rtol=1e-05, atol=1e-02)\n",
    "### END HIDDEN TESTS"
   ]
  },
  {
   "cell_type": "markdown",
   "metadata": {
    "nbgrader": {
     "grade": false,
     "locked": true,
     "solution": false
    }
   },
   "source": [
    "## Train the model using Cross valiation\n",
    "\n",
    "Use 5-fold cross validation\n",
    "\n",
    "**Question:**\n",
    "- Replace the 0 values in the following cell with your answers"
   ]
  },
  {
   "cell_type": "code",
   "execution_count": null,
   "metadata": {
    "collapsed": true
   },
   "outputs": [],
   "source": [
    "cross_val_avg = 0\n",
    "\n",
    "### BEGIN SOLUTION\n",
    "cross_val_avg = compute_cross_val_avg(new_regr, fb_train, spy_train, 5)\n",
    "### END SOLUTION\n",
    "print(\"{t:s}: Avg cross val score = {sc:3.2f}\".format(t=ticker, sc=cross_val_avg) )"
   ]
  },
  {
   "cell_type": "code",
   "execution_count": null,
   "metadata": {
    "collapsed": true,
    "nbgrader": {
     "grade": true,
     "grade_id": "check-cross-validation-fb",
     "locked": true,
     "points": "10",
     "solution": false
    }
   },
   "outputs": [],
   "source": [
    "### BEGIN HIDDEN TESTS\n",
    "cross_val_avg_test = compute_cross_val_avg_(new_regr, fb_train, spy_train, 5)\n",
    "assert np.allclose([cross_val_avg], [cross_val_avg_test])\n",
    "### END HIDDEN TESTS"
   ]
  },
  {
   "cell_type": "markdown",
   "metadata": {
    "nbgrader": {
     "grade": false,
     "locked": true,
     "solution": false
    }
   },
   "source": [
    "## Evaluate Loss (in sample RMSE) and Performance (Out of sample RMSE)\n",
    "\n",
    "**Question:**  \n",
    "- Compute the in sample RMSE and out of sample RMSE"
   ]
  },
  {
   "cell_type": "code",
   "execution_count": null,
   "metadata": {
    "collapsed": true
   },
   "outputs": [],
   "source": [
    "rmse_in_sample = 0 # in sample loss\n",
    "rmse_out_sample = 0 # out of sample performance\n",
    "\n",
    "# Predicted  in-sample returns of FB using SPY index\n",
    "fb_predicted_in_sample = new_regr.predict(np.expand_dims(spy_train[RET_ATTR].values, axis=1))\n",
    "# Predicted out-of-sample returns of FB using SPY index\n",
    "fb_predicted_out_sample = new_regr.predict(np.expand_dims(spy_test[RET_ATTR].values, axis=1))\n",
    "\n",
    "\n",
    "### BEGIN SOLUTION\n",
    "rmse_in_sample = computeRMSE(fb_train[RET_ATTR].values, fb_predicted_in_sample)\n",
    "rmse_out_sample = computeRMSE(fb_test[RET_ATTR].values, fb_predicted_out_sample)\n",
    "### END SOLUTION\n",
    "\n",
    "print(\"In Sample Root Mean squared error: {:.3f}\".format( rmse_in_sample ) )\n",
    "print(\"Out of Sample Root Mean squared error: {:.3f}\".format( rmse_out_sample ) )"
   ]
  },
  {
   "cell_type": "code",
   "execution_count": null,
   "metadata": {
    "collapsed": true,
    "nbgrader": {
     "grade": true,
     "grade_id": "check-evaluation-fb",
     "locked": true,
     "points": "10",
     "solution": false
    }
   },
   "outputs": [],
   "source": [
    "### BEGIN HIDDEN TESTS\n",
    "rmse_in_sample_test = computeRMSE_(fb_train[RET_ATTR].values, fb_predicted_in_sample)\n",
    "rmse_out_sample_test = computeRMSE_(fb_test[RET_ATTR].values, fb_predicted_out_sample)\n",
    "\n",
    "assert np.allclose(rmse_in_sample, rmse_in_sample_test)\n",
    "assert np.allclose(rmse_out_sample, rmse_out_sample_test)\n",
    "### END HIDDEN TESTS"
   ]
  },
  {
   "cell_type": "markdown",
   "metadata": {
    "nbgrader": {
     "grade": false,
     "locked": true,
     "solution": false
    }
   },
   "source": [
    "## Compute the hedged return on the test data examples\n",
    "**Question:**\n",
    "- Replace the 0 values in the following cell with your answers, and execute the print statements"
   ]
  },
  {
   "cell_type": "code",
   "execution_count": null,
   "metadata": {
    "collapsed": true
   },
   "outputs": [],
   "source": [
    "hedged_num_returns = 0  # Number of returns in hedged series\n",
    "hedged_first_return = 0 # The return on the earliest date in hedged series\n",
    "hedged_last_return  = 0 # The return on the latest date in hedged series\n",
    "hedged_avg_return  = 0  # The average return over the hedged series\n",
    "\n",
    "### BEGIN SOLUTION\n",
    "hedged_series = compute_hedged_series(new_regr, fb_test, spy_test)\n",
    "hedged_num_returns, hedged_first_return, hedged_last_return, hedged_avg_return = summarize(hedged_series, RET_ATTR)\n",
    "### END SOLUTION\n",
    "ticker=\"FB\"\n",
    "print(\"{t:s} hedged returns: There are {num:d} returns. First={first:.2%}, Last={last:.2%}, Avg={avg:.2%}\".format(t=ticker,\n",
    "                                                                                                                    num=hedged_num_returns,\n",
    "                                                                                                                    first=hedged_first_return, \n",
    "                                                                                                                    last=hedged_last_return, \n",
    "                                                                                                                    avg=hedged_avg_return))\n"
   ]
  },
  {
   "cell_type": "code",
   "execution_count": null,
   "metadata": {
    "collapsed": true,
    "nbgrader": {
     "grade": true,
     "grade_id": "check-hedged-series-fb",
     "locked": true,
     "points": "10",
     "solution": false
    }
   },
   "outputs": [],
   "source": [
    "### BEGIN HIDDEN TESTS\n",
    "assert np.allclose( [hedged_num_returns], [63], rtol=1e-04, atol=1e-02 )\n",
    "assert np.allclose( [hedged_first_return * 100], [ -1.68 ], rtol=1e-04, atol=1e-02 )\n",
    "assert np.allclose( [hedged_last_return * 100], [ -2.72 ], rtol=1e-04, atol=1e-02 )\n",
    "assert np.allclose( [hedged_avg_return * 100], [ -0.04 ], rtol=1e-04, atol=1e-02 )\n",
    "### END HIDDEN TESTS"
   ]
  },
  {
   "cell_type": "code",
   "execution_count": null,
   "metadata": {
    "collapsed": true
   },
   "outputs": [],
   "source": []
  }
 ],
 "metadata": {
  "celltoolbar": "Create Assignment",
  "kernelspec": {
   "display_name": "Python 3.7",
   "language": "python",
   "name": "python3"
  },
  "language_info": {
   "codemirror_mode": {
    "name": "ipython",
    "version": 3
   },
   "file_extension": ".py",
   "mimetype": "text/x-python",
   "name": "python",
   "nbconvert_exporter": "python",
   "pygments_lexer": "ipython3",
   "version": "3.7.5"
  },
  "toc": {
   "base_numbering": 1,
   "nav_menu": {},
   "number_sections": true,
   "sideBar": true,
   "skip_h1_title": false,
   "title_cell": "Table of Contents",
   "title_sidebar": "Contents",
   "toc_cell": false,
   "toc_position": {
    "height": "calc(100% - 180px)",
    "left": "10px",
    "top": "150px",
    "width": "370.594px"
   },
   "toc_section_display": true,
   "toc_window_display": true
  }
 },
 "nbformat": 4,
 "nbformat_minor": 2
}

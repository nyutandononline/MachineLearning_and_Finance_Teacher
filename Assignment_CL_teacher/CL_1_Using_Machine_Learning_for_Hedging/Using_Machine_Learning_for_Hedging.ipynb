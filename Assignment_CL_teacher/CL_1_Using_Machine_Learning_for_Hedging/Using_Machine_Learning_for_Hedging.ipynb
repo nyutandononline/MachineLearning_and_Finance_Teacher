{
 "cells": [
  {
   "cell_type": "markdown",
   "metadata": {
    "nbgrader": {
     "grade": false,
     "grade_id": "cell-6a258ba42be40271",
     "locked": true,
     "schema_version": 3,
     "solution": false,
     "task": false
    }
   },
   "source": [
    "# Assignment: Using Machine Learning for Hedging\n",
    "\n",
    "Welcome to the first assignment.  \n",
    "\n",
    "We will show how Machine Learning can be used in Finance to build multi-asset portfolios that have better risk/return characteristics than a portfolio consisting of a single asset.\n",
    "\n",
    "# Objectives\n",
    "We will be using Linear Regression to establish the relationship between the returns of individual equities and \"the market\".\n",
    "\n",
    "The purpose of the assignment is two-fold\n",
    "- to get you up to speed with Machine Learning in general, and `sklearn` in particular\n",
    "- to get you up to speed with the other programming tools (e.g., Pandas) that will help you in data preparation, etc.\n",
    "\n",
    "# How to report your answers\n",
    "I will mix explanation of the topic with tasks that you must complete. Look for \n",
    "the string \"**Queston**\" to find a task that you must perform.\n",
    "Most of the tasks will require you to assign values to variables and execute a `print` statement.\n",
    "\n",
    "**Motivation**\n",
    "\n",
    "If you **do not change** the print statement then the GA (or a machine) can automatically find your answer to each part by searching for the string.\n"
   ]
  },
  {
   "cell_type": "code",
   "execution_count": null,
   "metadata": {
    "collapsed": true,
    "nbgrader": {
     "grade": false,
     "grade_id": "cell-f32245b227ef3443",
     "locked": true,
     "solution": false
    }
   },
   "outputs": [],
   "source": [
    "# Standard imports\n",
    "import pandas as pd\n",
    "import numpy as np\n",
    "\n",
    "import os"
   ]
  },
  {
   "cell_type": "markdown",
   "metadata": {
    "nbgrader": {
     "grade": false,
     "grade_id": "cell-0e22b5a64e1a66aa",
     "locked": true,
     "schema_version": 3,
     "solution": false,
     "task": false
    }
   },
   "source": [
    "# The data\n",
    "\n",
    "The data are the daily prices of a number of individual equities and equity indices.\n",
    "The prices are arranged in a series in ascending date order (a timeseries).\n",
    "- There are many `.csv` files for equity or index in the directory `/resource/asnlib/publicdata/data`\n",
    "\n",
    "## Reading the data\n",
    "\n",
    "You should get the price data into some sort of data structure.  Pandas DataFrame is super useful\n",
    "so I recommend that's what you use.\n",
    "\n",
    "## Preliminary data preparation\n",
    "\n",
    "In the rest of the assignment we will *not* be working with prices but with *returns* (percent change in prices).\n",
    "For example, for ticker $\\aapl$ (Apple)\n",
    "\n",
    "$$\n",
    "\\begin{array}[lll]\\\\\n",
    "\\ret_\\aapl^\\tp = \\frac{\\price _\\aapl^\\tp}{\\price _\\aapl^{(t-1)}} -1 \\\\\n",
    "\\text{where} \\\\\n",
    "\\price_\\aapl^\\tp \\text{ denotes the price of ticker } \\aapl \\text{ on date } t \\\\\n",
    "\\ret_\\aapl^\\tp \\text{ denotes the return of ticker } \\aapl \\text{ on date } t\n",
    "\\end{array}\n",
    "$$\n",
    "\n",
    "- You will want to convert the price data into return data\n",
    "- We only want the returns for the year 2018; discard any other return\n"
   ]
  },
  {
   "cell_type": "markdown",
   "metadata": {
    "nbgrader": {
     "grade": false,
     "locked": true,
     "solution": false
    }
   },
   "source": [
    "**Questions:**\n",
    "- Complete function `read_ticker()` to load AAPL and SPY data\n",
    "- Complete function `add_ret()` to calculate the returns of tickers.\n",
    "\n",
    "**Hints:**\n",
    "- look up the Pandas `read_csv()` method\n",
    "- look up the Pandas `pct_change()` method    "
   ]
  },
  {
   "cell_type": "code",
   "execution_count": null,
   "metadata": {
    "collapsed": true
   },
   "outputs": [],
   "source": [
    "DATA_DIR = './data'\n",
    "if not os.path.isdir(DATA_DIR):\n",
    "    DATA_DIR  = \"../resource/asnlib/publicdata/data\"\n",
    "DATE_ATTR=\"Dt\"\n",
    "PRICE_ATTR = \"Close\"\n",
    "RET_ATTR = \"Return\"\n",
    "\n",
    "aapl = pd.DataFrame()\n",
    "spy = pd.DataFrame()\n",
    "\n",
    "def read_ticker(ticker):\n",
    "    '''\n",
    "    Load the ticker data\n",
    "    \n",
    "    Arguments:\n",
    "    ticker: name of your ticker, string\n",
    "    '''\n",
    "    \n",
    "    ### BEGIN SOLUTION\n",
    "    df = pd.read_csv( DATA_DIR + \"/\" + ticker + \".csv\", index_col=DATE_ATTR)\n",
    "    return df\n",
    "    ### END SOLUTION\n",
    "\n",
    "\n",
    "def add_ret(ticker_df):\n",
    "    '''\n",
    "    Add a return column for ticker price\n",
    "    \n",
    "    Arguments:\n",
    "    ticker_df: Price data of your ticker, pandas.DataFrame\n",
    "    '''\n",
    "    ### BEGIN SOLUTION\n",
    "    ticker_df[RET_ATTR] = ticker_df[PRICE_ATTR].pct_change()\n",
    "    ### END SOLUTION\n",
    "\n",
    "    \n",
    "aapl, spy = read_ticker('AAPL'), read_ticker(\"SPY\")\n",
    "add_ret(aapl), add_ret(spy)\n",
    "\n",
    "# Print your results\n",
    "print(\"AAPL: \", aapl[[PRICE_ATTR, RET_ATTR]].head())\n",
    "print(\"SPY: \", spy[[PRICE_ATTR, RET_ATTR]].head())"
   ]
  },
  {
   "cell_type": "markdown",
   "metadata": {
    "nbgrader": {
     "grade": false,
     "locked": true,
     "solution": false
    }
   },
   "source": [
    "Expected outputs should be similar to this:   \n",
    "AAPL:    \n",
    "<table> \n",
    "    <tr> \n",
    "        <td>Dt</td><td>Close</td><td>Return</td>\n",
    "    </tr>\n",
    "    <tr> \n",
    "        <td>2017-01-03</td><td>116.15</td><td>NaN</td> \n",
    "    </tr>\n",
    "    <tr> \n",
    "        <td>2017-01-04</td><td>116.02</td><td>-0.001119</td> \n",
    "    </tr>\n",
    "    <tr> \n",
    "        <td>2017-01-05</td><td>116.61</td><td>0.005085</td> \n",
    "    </tr>\n",
    "    <tr> \n",
    "        <td>2017-01-06</td><td>117.91</td><td>0.011148</td> \n",
    "    </tr>\n",
    "    <tr> \n",
    "        <td>2017-01-09</td><td>118.99</td><td>0.009160</td> \n",
    "    </tr>\n",
    "</table>   \n",
    "SPY:     \n",
    "<table> \n",
    "    <tr> \n",
    "        <td>Dt</td><td>Close</td><td>Return</td>\n",
    "    </tr>\n",
    "    <tr> \n",
    "        <td>2017-01-03</td><td>225.24</td><td>NaN</td> \n",
    "    </tr>\n",
    "    <tr> \n",
    "        <td>2017-01-04</td><td>226.58</td><td>0.005949</td> \n",
    "    </tr>\n",
    "    <tr> \n",
    "        <td>2017-01-05</td><td>226.40</td><td>-0.000794</td> \n",
    "    </tr>\n",
    "    <tr> \n",
    "        <td>2017-01-06</td><td>227.21</td><td>0.003578</td> \n",
    "    </tr>\n",
    "    <tr> \n",
    "        <td>2017-01-09</td><td>226.46</td><td>-0.003301</td> \n",
    "    </tr>\n",
    "</table>"
   ]
  },
  {
   "cell_type": "markdown",
   "metadata": {
    "nbgrader": {
     "grade": false,
     "locked": true,
     "solution": false
    }
   },
   "source": [
    "**Questions:**\n",
    "- Complete function `select_yr()` to select the data in 2018 \n",
    "- Complete function `summarize()` to get the number of returns, return on the earliest data, return on the lastest data and the average return\n",
    "- Replace the 0 values in the following cell with your answers, and execute the print statements"
   ]
  },
  {
   "cell_type": "code",
   "execution_count": null,
   "metadata": {
    "collapsed": true,
    "nbgrader": {
     "grade": false,
     "grade_id": "check-aapl-2018",
     "locked": false,
     "schema_version": 3,
     "solution": true,
     "task": false
    }
   },
   "outputs": [],
   "source": [
    "ticker_returns = np.array([]) # Returns of the ticker for year 2018\n",
    "idx_returns = np.array([])    # Returns of the index for year 2018\n",
    "\n",
    "num_returns = 0  # Number of returns in year 2018\n",
    "first_return = 0 # The return on the earliest date in 2018\n",
    "last_return  = 0 # The return on the latest date in 2018\n",
    "avg_return  = 0  # The average return over the  year 2018\n",
    "\n",
    "def select_yr(ticker_df, year):\n",
    "    '''\n",
    "    Select the returns which are in 2018 year, discard any other return\n",
    "    \n",
    "    Arguments:\n",
    "    ticker_df: ticker data with a column Return\n",
    "    year: the year you want to select\n",
    "    '''\n",
    "    ### BEGIN SOLUTION\n",
    "    df_yr = ticker_df[ ticker_df[RET_ATTR].notnull() ][ ( str(year) + \"-01-01\"):(str(year) + \"-12-31\")]\n",
    "    return df_yr\n",
    "    ### END SOLUTION\n",
    "\n",
    "def summarize(return_df, ATTR):\n",
    "    '''\n",
    "    Fetch the number of returns, return on the earliest data, return on the lastest data and the average return\n",
    "    \n",
    "    Argument:\n",
    "    return_df: returns in 2018\n",
    "    ATTR: name of column you want to summarize\n",
    "    '''\n",
    "    ### BEGIN SOLUTION\n",
    "    num_returns = len(return_df)\n",
    "    first_return = return_df[ATTR].iloc[0]  # The return on the earliest date \n",
    "    last_return  = return_df[ATTR].iloc[-1] # The return on the latest date\n",
    "    avg_return   = return_df[ATTR].mean()  # The average return\n",
    "    \n",
    "    return num_returns, first_return, last_return, avg_return\n",
    "    ### END SOLUTION\n",
    "\n",
    "# Select 2018\n",
    "aapl_2018, spy_2018 = select_yr(aapl, 2018), select_yr(spy, 2018)\n",
    "\n",
    "# Assign to answer variables\n",
    "ticker_returns = aapl_2018[ RET_ATTR ].values\n",
    "index_returns = spy_2018[ RET_ATTR ].values\n",
    "num_returns, first_return, last_return, avg_return = summarize( aapl_2018, RET_ATTR)\n",
    "\n",
    "print(\"There are {num:d} returns. First={first:.3%}, Last={last:.3%}, Avg={avg:.3%}\".format(num=num_returns, first=first_return, last=last_return, avg=avg_return))"
   ]
  },
  {
   "cell_type": "code",
   "execution_count": null,
   "metadata": {
    "collapsed": true,
    "nbgrader": {
     "grade": true,
     "grade_id": "check_returns",
     "locked": true,
     "points": "10",
     "schema_version": 3,
     "solution": false,
     "task": false
    }
   },
   "outputs": [],
   "source": [
    "### BEGIN HIDDEN TESTS\n",
    "assert np.allclose( [num_returns], [251], rtol=1e-05, atol=1e-03 )\n",
    "assert np.allclose( [first_return * 100], [ 1.790 ], rtol=1e-05, atol=1e-03 )\n",
    "assert np.allclose( [last_return * 100], [ 0.967 ], rtol=1e-05, atol=1e-03 )\n",
    "assert np.allclose( [avg_return * 100], [ - 0.012 ], rtol=1e-05, atol=1e-03 )\n",
    "\n",
    "# test the ticker_returns and index_returns\n",
    "def select_yr_(ticker_df, year):\n",
    "    df_yr = ticker_df[ ticker_df[RET_ATTR].notnull() ][ ( str(year) + \"-01-01\"):(str(year) + \"-12-31\")]\n",
    "    return df_yr\n",
    "# Select 2018\n",
    "aapl_2018_, spy_2018_ = select_yr_(aapl, 2018), select_yr_(spy, 2018)\n",
    "assert np.allclose( ticker_returns, aapl_2018_[ RET_ATTR ].values )\n",
    "assert np.allclose( index_returns, spy_2018_[ RET_ATTR ].values )\n",
    "### END HIDDEN TESTS"
   ]
  },
  {
   "cell_type": "markdown",
   "metadata": {
    "nbgrader": {
     "grade": false,
     "grade_id": "cell-b99cc7df0159c34c",
     "locked": true,
     "schema_version": 3,
     "solution": false,
     "task": false
    }
   },
   "source": [
    "# Split into Train and Test datasets\n",
    "\n",
    "In general, you will split the data into two sets by choosing the members of each set at random.\n",
    "\n",
    "To facilitate grading for this assignment, we will *use a specific test set*\n",
    "- the training set are the returns for the months of January through September (inclusive), i.e., 9 months\n",
    "- the test set are the returns for the months of October through December (inclusive), i.e., 3 months\n",
    "\n",
    "Thus, you will be using the early part of the data for training, and the latter part of the data for testing.\n",
    "\n",
    "**Question:**   \n",
    "- Complete the function `split()` to split you dataset into train set (2018/01/01 - 2018/09/30) and test set (2018/10/01 - 2018/12/31)\n",
    "- Replace the 0 values in the following cell with your answers, and execute the print statements"
   ]
  },
  {
   "cell_type": "code",
   "execution_count": null,
   "metadata": {
    "collapsed": true,
    "nbgrader": {
     "grade": false,
     "grade_id": "split",
     "locked": false,
     "schema_version": 3,
     "solution": true,
     "task": false
    }
   },
   "outputs": [],
   "source": [
    "train_ticker_returns = np.array([]) # Returns of the ticker for training period\n",
    "train_idx_returns    = np.array([]) # Returns of the index for training period\n",
    "\n",
    "train_num_returns = 0  # Number of returns in train set\n",
    "train_first_return = 0 # The return on the earliest date in train set\n",
    "train_last_return  = 0 # The return on the latest date in train set\n",
    "train_avg_return  = 0  # The average return over the  year train set\n",
    "\n",
    "test_num_returns = 0  # Number of returns in test set\n",
    "test_first_return = 0 # The return on the earliest date in test set\n",
    "test_last_return  = 0 # The return on the latest date in test set\n",
    "test_avg_return  = 0  # The average return over the  year test set\n",
    "\n",
    "def split(return_df):\n",
    "    '''\n",
    "    Split data into train and test dataset\n",
    "    \n",
    "    Arguments:\n",
    "    return_df: dataset you want to split\n",
    "    '''\n",
    "    ### BEGIN SOLUTION\n",
    "    df_train = return_df[\"2018-01-01\":\"2018-09-30\"]\n",
    "    df_test  = return_df[\"2018-10-01\":\"2018-12-31\"]\n",
    "    \n",
    "    return df_train, df_test\n",
    "    ### END SOLUTION\n",
    "\n",
    "aapl_train, aapl_test = split(aapl_2018)\n",
    "spy_train, spy_test = split(spy_2018)\n",
    "\n",
    "# Assign to answer variables\n",
    "### BEGIN SOLUTION\n",
    "train_num_returns, train_first_return, train_last_return, train_avg_return = summarize( aapl_train, RET_ATTR)\n",
    "\n",
    "test_num_returns, test_first_return, test_last_return, test_avg_return = summarize( aapl_test, RET_ATTR)\n",
    "\n",
    "# Assign to answer variables\n",
    "train_ticker_returns, train_idx_returns = aapl_train.values, spy_train.values\n",
    "\n",
    "### END SOLUTION\n",
    "\n",
    "print(\"Train set: There are {num:d} returns. First={first:.2%}, Last={last:.2%}, Avg={avg:.2%}\".format(num=train_num_returns, \n",
    "                                                                                                         first=train_first_return, \n",
    "                                                                                                         last=train_last_return, \n",
    "                                                                                                         avg=train_avg_return))\n",
    "\n",
    "print(\"Test set: There are {num:d} returns. First={first:.2%}, Last={last:.2%}, Avg={avg:.2%}\".format(num=test_num_returns, \n",
    "                                                                                                         first=test_first_return, \n",
    "                                                                                                         last=test_last_return, \n",
    "                                                                                                         avg=test_avg_return))"
   ]
  },
  {
   "cell_type": "markdown",
   "metadata": {
    "nbgrader": {
     "grade": false,
     "locked": true,
     "solution": false
    }
   },
   "source": [
    "Your expected outputs should be:    \n",
    "Train set: There are 188 returns. First=1.79%, Last=0.35%, Avg=0.16%     \n",
    "Test set: There are 63 returns. First=0.67%, Last=0.97%, Avg=-0.54%"
   ]
  },
  {
   "cell_type": "code",
   "execution_count": null,
   "metadata": {
    "collapsed": true,
    "nbgrader": {
     "grade": true,
     "grade_id": "check-split",
     "locked": true,
     "points": "10",
     "schema_version": 3,
     "solution": false,
     "task": false
    }
   },
   "outputs": [],
   "source": [
    "### BEGIN HIDDEN TESTS\n",
    "def split_(return_df):\n",
    "    df_train = return_df[\"2018-01-01\":\"2018-09-30\"]\n",
    "    df_test  = return_df[\"2018-10-01\":\"2018-12-31\"]\n",
    "    \n",
    "    return df_train, df_test\n",
    "aapl_train_, aapl_test_ = split_(aapl_2018)\n",
    "spy_train_, spy_test_ = split_(spy_2018)\n",
    "assert np.allclose( train_ticker_returns, aapl_train_.values )\n",
    "assert np.allclose( train_idx_returns,    spy_train_.values )\n",
    "### END HIDDEN TESTS"
   ]
  },
  {
   "cell_type": "markdown",
   "metadata": {
    "nbgrader": {
     "grade": false,
     "grade_id": "cell-6c933eb1e2a23c0a",
     "locked": true,
     "schema_version": 3,
     "solution": false,
     "task": false
    }
   },
   "source": [
    "# $\\aapl$ regression\n",
    "\n",
    "Use Linear Regression to predict the return of a ticker from the return of the $\\spy$ index.\n",
    "For example, for ticker $\\aapl$\n",
    "\n",
    "$$\n",
    "\\ret_\\aapl^\\tp =  \\beta_{\\aapl, \\spy} * \\ret_\\spy^\\tp + \\epsilon_{\\aapl}^\\tp\n",
    "$$\n",
    "\n",
    "That is\n",
    "- each example is a pair consisting of one day's return \n",
    "    - of the ticker (e.g., $\\aapl$).  This is the target (e.g, $\\y$ in our lectures)\n",
    "    - of the index $\\spy$. This is a feature vector of length 1 (e.g., $\\x$ in our lectures)\n",
    "\n",
    "You will use Linear Regression to solve for parameter $\\beta_{\\aapl, \\spy}$ \n",
    "\n",
    "- In the lectures we used the symbol $\\Theta$ to denote the parameter vector; here we use $\\mathbf{\\beta}$\n",
    "- In Finance the symbol $\\beta$ is often used to denote the relationship between returns. \n",
    "- You may should add an \"intercept\" so that the feature vector is length 2 rather than length 1\n",
    "    - $\\x^\\tp = \\begin{pmatrix}\n",
    "        1 \\\\\n",
    "        \\ret_\\spy^\\tp\n",
    "        \\end{pmatrix}$\n",
    "- Report the $\\mathbf{\\beta}$ parameter vector you obtain for $\\aapl$\n",
    "    - you will subsequently do this for another ticker in a different part of the assignment\n",
    "        - so think ahead: you may want to parameterize your code\n",
    "        - change the assignment to `ticker` when you report the next part\n"
   ]
  },
  {
   "cell_type": "markdown",
   "metadata": {},
   "source": [
    "**Questions:**\n",
    "- Complete the function `createModel()` to build your linear regression model\n",
    "- Complete the function `regress()` to do regression and return intercept and coefficients\n",
    "- Complete the function `computeRMSE()` to calculate the Root of Mean Square Error (RMSE)\n",
    "- Replace the 0 values in the following cell with your answers, and execute the print statements\n"
   ]
  },
  {
   "cell_type": "code",
   "execution_count": null,
   "metadata": {
    "collapsed": true,
    "nbgrader": {
     "grade": false,
     "grade_id": "ticker-regression",
     "locked": false,
     "schema_version": 3,
     "solution": true,
     "task": false
    }
   },
   "outputs": [],
   "source": [
    "from sklearn import datasets, linear_model\n",
    "from sklearn.metrics import mean_squared_error\n",
    "\n",
    "beta_0 = 0    # The regression parameter for the constant\n",
    "beta_SPY = 0  # The regression parameter for the return of SPY\n",
    "ticker = \"AAPL\"\n",
    "\n",
    "def createModel():\n",
    "    '''\n",
    "    Build your linear regression model using sklearn\n",
    "    '''\n",
    "    ### BEGIN SOLUTION\n",
    "    model = linear_model.LinearRegression()\n",
    "    return model\n",
    "    ### END SOLUTION\n",
    "\n",
    "def regress(model, dep_df, ind_df):\n",
    "    '''\n",
    "    Do regression using returns of your ticker and index\n",
    "    \n",
    "    Arguments:\n",
    "    model: model you build with method \"createModel()\"\n",
    "    dep_df: ticker returns\n",
    "    ind_df: index returns\n",
    "    '''\n",
    "    ### BEGIN SOLUTION\n",
    "    _= model.fit( ind_df[ [RET_ATTR] ].values, dep_df[ [RET_ATTR] ].values )\n",
    "    \n",
    "    return model.intercept_[0], model.coef_[0][0]\n",
    "    ### END SOLUTION\n",
    "\n",
    "def computeRMSE( target, predicted ):\n",
    "    '''\n",
    "    Calculate the RMSE\n",
    "    \n",
    "    Arguments:\n",
    "    target: real ticker returns\n",
    "    predicted: predicted ticker returns\n",
    "    '''\n",
    "    ### BEGIN SOLUTION\n",
    "    rmse = np.sqrt( mean_squared_error(target,  predicted))\n",
    "    return rmse\n",
    "    ### END SOLUTION\n",
    "\n",
    "# Assign to answer variables\n",
    "### BEGIN SOLUTION\n",
    "regr = createModel()\n",
    "\n",
    "beta_0, beta_SPY = regress(regr, aapl_train, spy_train)\n",
    "\n",
    "### END SOLUTION\n",
    "\n",
    "print(\"{t:s}: beta_0={b0:3.3f}, beta_SPY={b1:3.3f}\".format(t=ticker, b0=beta_0, b1=beta_SPY))"
   ]
  },
  {
   "cell_type": "markdown",
   "metadata": {
    "nbgrader": {
     "grade": false,
     "locked": true,
     "solution": false
    }
   },
   "source": [
    "Your expected outputs should be:\n",
    "<table> \n",
    "    <tr> \n",
    "        <td>  \n",
    "            beta_0\n",
    "        </td>\n",
    "        <td>\n",
    "         0.001\n",
    "        </td>\n",
    "    </tr>\n",
    "    <tr> \n",
    "        <td>\n",
    "            beta_SPY\n",
    "        </td>\n",
    "        <td>\n",
    "         1.071\n",
    "        </td>\n",
    "    </tr>\n",
    "\n",
    "</table>"
   ]
  },
  {
   "cell_type": "code",
   "execution_count": null,
   "metadata": {
    "collapsed": true,
    "nbgrader": {
     "grade": true,
     "grade_id": "check-ticker-regression",
     "locked": true,
     "points": "40",
     "schema_version": 3,
     "solution": false,
     "task": false
    }
   },
   "outputs": [],
   "source": [
    "### BEGIN HIDDEN TESTS\n",
    "def createModel_():\n",
    "    model = linear_model.LinearRegression()\n",
    "    return model\n",
    "\n",
    "def regress_(model, dep_df, ind_df):\n",
    "    _= model.fit( ind_df[ [RET_ATTR] ].values, dep_df[ [RET_ATTR] ].values )\n",
    "    \n",
    "    return model.intercept_[0], model.coef_[0][0]\n",
    "\n",
    "def computeRMSE_( target, predicted ):\n",
    "    rmse = np.sqrt( mean_squared_error(target,  predicted))\n",
    "    return rmse\n",
    "model_test = createModel_()\n",
    "aapl_beta_0, aapl_beta_1 = regress_(model_test, aapl_train, spy_train)\n",
    "assert np.allclose( [beta_0, beta_SPY], [aapl_beta_0, aapl_beta_1] )\n",
    "### END HIDDEN TESTS"
   ]
  },
  {
   "cell_type": "markdown",
   "metadata": {
    "nbgrader": {
     "grade": false,
     "locked": true,
     "solution": false
    }
   },
   "source": [
    "**Question:**\n",
    "- Complete the function `compute_cross_val_avg()` to compute the average score of 5-fold cross validation\n",
    "- Replace the 0 values in the following cell with your answers, and execute the print statements\n",
    "\n",
    "**Hint:**  \n",
    "- You can use the `cross_val_score` in `sklearn.model_selection`"
   ]
  },
  {
   "cell_type": "code",
   "execution_count": null,
   "metadata": {
    "collapsed": true
   },
   "outputs": [],
   "source": [
    "from sklearn.model_selection import cross_val_score\n",
    "\n",
    "cross_val_avg = 0 # average score of cross validation\n",
    "k = 5             # 5-fold cross validation\n",
    "\n",
    "def compute_cross_val_avg(model, dep_df, ind_df, k):\n",
    "    '''\n",
    "    Compute the average score of k-fold cross validation\n",
    "    \n",
    "    Arguments:\n",
    "    model: model you build with method \"createModel()\"\n",
    "    dep_df: ticker returns\n",
    "    ind_df: index returns\n",
    "    k: k-fold cross validation\n",
    "    '''\n",
    "    ### BEGIN SOLUTION\n",
    "    cross_val_score_ = cross_val_score(model, np.expand_dims(ind_df[RET_ATTR].values, axis=1), dep_df[RET_ATTR].values, cv=k)\n",
    "    return np.mean(cross_val_score_)\n",
    "    ### END SOLUTION\n",
    "\n",
    "    \n",
    "cross_val_avg = compute_cross_val_avg(regr, aapl_train, spy_train, 5)\n",
    "print(\"{t:s}: Avg cross val score = {sc:3.2f}\".format(t=ticker, sc=cross_val_avg) )"
   ]
  },
  {
   "cell_type": "code",
   "execution_count": null,
   "metadata": {
    "collapsed": true,
    "nbgrader": {
     "grade": true,
     "grade_id": "Check-cross-validation",
     "locked": true,
     "points": "10",
     "solution": false
    }
   },
   "outputs": [],
   "source": [
    "### BEGIN HIDDEN TESTS\n",
    "def compute_cross_val_avg_(model, dep_df, ind_df, k):\n",
    "    cross_val_score_ = cross_val_score(model, np.expand_dims(ind_df[RET_ATTR].values, axis=1), dep_df[RET_ATTR].values, cv=k)\n",
    "    return np.mean(cross_val_score_)\n",
    "cross_val_avg_ = compute_cross_val_avg_(regr, aapl_train, spy_train, 5)\n",
    "assert np.allclose(cross_val_avg, cross_val_avg_)\n",
    "### END HIDDEN TESTS"
   ]
  },
  {
   "cell_type": "markdown",
   "metadata": {
    "nbgrader": {
     "grade": false,
     "locked": true,
     "solution": false
    }
   },
   "source": [
    "## $\\aapl$ hedged returns\n",
    "\n",
    "- Compute the series\n",
    "$$\n",
    "{\\ret'}_{\\aapl}^\\tp = \\ret_\\aapl^\\tp - \\beta_{\\aapl, \\spy} * \\ret_\\spy^\\tp\n",
    "$$\n",
    "for all dates $t$ in the test set.  \n",
    "- Sort the dates in ascending order and plot the timeseries ${\\ret}'_{\\aapl}$\n",
    "\n",
    "${\\ret}'_{\\aapl}$ is called the \"hedged return\" of $\\aapl$\n",
    "- It is the daily return you would realize if you created a portfolio that was\n",
    "    - long 1 dollar of $\\aapl$\n",
    "    - short $\\beta_{\\aapl, \\spy}$ dollars of the index $\\spy$\n",
    "- It represents the outperformance of $\\aapl$ relative to the index $\\spy$\n",
    "    - $\\spy$ is the proxy for \"the market\" (it tracks the S&P 500 index)\n",
    "    - The hedged return is the *value added* by going long $\\aapl$ rather than just going \"long the market\"\n",
    "    - Sometimes referred to as the \"alpha\" ($\\alpha_\\aapl$)\n",
    "- So **if** you are able to correctly forecast that $\\aapl$ will have positive outperformance (i.e, have $\\alpha_\\aapl > 0$ most days)\n",
    "    - then you can earn a positive return regardless of whether the market ($\\spy$) goes up or down !\n",
    "    - this is much lower risk than just holding $\\aapl$ long\n",
    "    - people will pay you very well if you can really forecast correctly !\n",
    "\n",
    "**Question:**\n",
    "- Complete the function `compute_hedged_series` to get the hedged series\n",
    "- Replace the 0 values in the following cell with your answers"
   ]
  },
  {
   "cell_type": "code",
   "execution_count": null,
   "metadata": {
    "collapsed": true
   },
   "outputs": [],
   "source": [
    "hedged_num_returns = 0  # Number of returns in hedged series\n",
    "hedged_first_return = 0 # The return on the earliest date in hedged series\n",
    "hedged_last_return  = 0 # The return on the latest date in hedged series\n",
    "hedged_avg_return  = 0  # The average return over the hedged series\n",
    "\n",
    "def compute_hedged_series(model, dep_df, ind_df):\n",
    "    '''\n",
    "    Compute the hedged series\n",
    "    \n",
    "    Arguments:\n",
    "    model: model you build with method \"createModel()\"\n",
    "    dep_df: ticker returns in test dataset\n",
    "    ind_df: index returns in test dataset\n",
    "    '''\n",
    "    ### BEGIN SOLUTION\n",
    "    ind_val = ind_df[RET_ATTR].values\n",
    "    hedged_series = dep_df[RET_ATTR].values - model.coef_[0][0] * ind_val\n",
    "    hedged_series = pd.DataFrame({'Return':hedged_series}, index=dep_df.index)\n",
    "    return hedged_series\n",
    "    ### END SOLUTION\n",
    "\n",
    "hedged_series = compute_hedged_series(regr, aapl_test, spy_test)\n",
    "hedged_num_returns, hedged_first_return, hedged_last_return, hedged_avg_return = summarize(hedged_series, RET_ATTR)\n",
    "ticker=\"AAPL\"\n",
    "print(\"{t:s} hedged returns: There are {num:d} returns. First={first:.2%}, Last={last:.2%}, Avg={avg:.2%}\".format(t=ticker,\n",
    "                                                                                                                    num=hedged_num_returns,\n",
    "                                                                                                                    first=hedged_first_return, \n",
    "                                                                                                                    last=hedged_last_return, \n",
    "                                                                                                                    avg=hedged_avg_return))"
   ]
  },
  {
   "cell_type": "code",
   "execution_count": null,
   "metadata": {
    "collapsed": true,
    "nbgrader": {
     "grade": true,
     "grade_id": "check-hedged-series",
     "locked": true,
     "points": "10",
     "solution": false
    }
   },
   "outputs": [],
   "source": [
    "### BEGIN HIDDEN TESTS\n",
    "assert np.allclose( [hedged_num_returns], [63], rtol=1e-04, atol=1e-02 )\n",
    "assert np.allclose( [hedged_first_return * 100], [ 0.30 ], rtol=1e-04, atol=1e-02 )\n",
    "assert np.allclose( [hedged_last_return * 100], [ 0.03 ], rtol=1e-04, atol=1e-02 )\n",
    "assert np.allclose( [hedged_avg_return * 100], [ -0.29 ], rtol=1e-04, atol=1e-02 )\n",
    "### END HIDDEN TESTS"
   ]
  },
  {
   "cell_type": "markdown",
   "metadata": {
    "nbgrader": {
     "grade": false,
     "locked": true,
     "solution": false
    }
   },
   "source": [
    "# $\\fb$ regression\n",
    "\n",
    "Repeat the regression you carried out for $\\aapl$ but this time instead for the ticker $\\fb$ (Facebook)\n",
    "\n",
    "**Motivation**\n",
    "\n",
    "The idea is to encourage you to build re-usable pieces of code.\n",
    "\n",
    "So if you created some functions in solving Part 1, you may reuse these functions to easily solve part 2,\n",
    "particulary if you treated the ticker (e.g., $\\aapl$ or $\\fb$) as a parameter to your functions.\n",
    "\n",
    "If you simply copy and paste the code from Part 1 you will only get partial credit.\n"
   ]
  },
  {
   "cell_type": "markdown",
   "metadata": {
    "nbgrader": {
     "grade": false,
     "locked": true,
     "solution": false
    }
   },
   "source": [
    "**Question:**\n",
    "- Compute the intercept and coefficients of your model using new ticker \"FB\"\n",
    "- Replace the 0 values in the following cell with your answers"
   ]
  },
  {
   "cell_type": "code",
   "execution_count": null,
   "metadata": {
    "collapsed": true
   },
   "outputs": [],
   "source": [
    "beta_0 = 0    # The regression parameter for the constant\n",
    "beta_SPY = 0  # The regression parameter for the return of SPY\n",
    "ticker = \"FB\"\n",
    "\n",
    "### BEGIN SOLUTION\n",
    "fb = read_ticker(ticker)\n",
    "add_ret(fb)\n",
    "fb_2018 = select_yr(fb, 2018)\n",
    "fb_train, fb_test = split(fb_2018)\n",
    "new_regr = createModel()\n",
    "beta_0, beta_SPY = regress(new_regr, fb_train, spy_train)\n",
    "### END SOLUTION\n",
    "print(\"{t:s}: beta_0={b0:3.2f}, beta_SPY={b1:3.2f}\".format(t=ticker, b0=beta_0, b1=beta_SPY))\n"
   ]
  },
  {
   "cell_type": "markdown",
   "metadata": {
    "nbgrader": {
     "grade": false,
     "locked": true,
     "solution": false
    }
   },
   "source": [
    "Your expected outputs should be:\n",
    "<table> \n",
    "    <tr> \n",
    "        <td>  \n",
    "            beta_0\n",
    "        </td>\n",
    "        <td>\n",
    "         -0.00\n",
    "        </td>\n",
    "    </tr>\n",
    "    <tr> \n",
    "        <td>\n",
    "            beta_SPY\n",
    "        </td>\n",
    "        <td>\n",
    "         1.29\n",
    "        </td>\n",
    "    </tr>\n",
    "\n",
    "</table>"
   ]
  },
  {
   "cell_type": "code",
   "execution_count": null,
   "metadata": {
    "collapsed": true,
    "nbgrader": {
     "grade": true,
     "grade_id": "check-ticker-regression-fb",
     "locked": true,
     "points": "20",
     "solution": false
    }
   },
   "outputs": [],
   "source": [
    "### BEGIN HIDDEN TESTS\n",
    "fb_test_ = read_ticker(ticker)\n",
    "add_ret(fb_test_)\n",
    "fb_2018_test = select_yr_(fb_test_, 2018)\n",
    "fb_train_test, fb_test_test = split_(fb_2018_test)\n",
    "new_regr_ = createModel_()\n",
    "beta_0_test, beta_SPY_test = regress_(new_regr_, fb_train_test, spy_train)\n",
    "assert np.allclose([beta_0, beta_SPY], [beta_0_test, beta_SPY_test], rtol=1e-05, atol=1e-02)\n",
    "### END HIDDEN TESTS"
   ]
  },
  {
   "cell_type": "markdown",
   "metadata": {
    "nbgrader": {
     "grade": false,
     "locked": true,
     "solution": false
    }
   },
   "source": [
    "**Question:**\n",
    "- Replace the 0 values in the following cell with your answers"
   ]
  },
  {
   "cell_type": "code",
   "execution_count": null,
   "metadata": {
    "collapsed": true
   },
   "outputs": [],
   "source": [
    "cross_val_avg = 0\n",
    "\n",
    "### BEGIN SOLUTION\n",
    "cross_val_avg = compute_cross_val_avg(new_regr, fb_train, spy_train, 5)\n",
    "### END SOLUTION\n",
    "print(\"{t:s}: Avg cross val score = {sc:3.2f}\".format(t=ticker, sc=cross_val_avg) )"
   ]
  },
  {
   "cell_type": "code",
   "execution_count": null,
   "metadata": {
    "collapsed": true,
    "nbgrader": {
     "grade": true,
     "grade_id": "check-cross-validation-fb",
     "locked": true,
     "points": "10",
     "solution": false
    }
   },
   "outputs": [],
   "source": [
    "### BEGIN HIDDEN TESTS\n",
    "cross_val_avg_test = compute_cross_val_avg_(new_regr, fb_train, spy_train, 5)\n",
    "assert np.allclose([cross_val_avg], [cross_val_avg_test])\n",
    "### END HIDDEN TESTS"
   ]
  },
  {
   "cell_type": "markdown",
   "metadata": {
    "nbgrader": {
     "grade": false,
     "locked": true,
     "solution": false
    }
   },
   "source": [
    "**Question:**\n",
    "- Replace the 0 values in the following cell with your answers, and execute the print statements"
   ]
  },
  {
   "cell_type": "code",
   "execution_count": null,
   "metadata": {
    "collapsed": true
   },
   "outputs": [],
   "source": [
    "hedged_num_returns = 0  # Number of returns in hedged series\n",
    "hedged_first_return = 0 # The return on the earliest date in hedged series\n",
    "hedged_last_return  = 0 # The return on the latest date in hedged series\n",
    "hedged_avg_return  = 0  # The average return over the hedged series\n",
    "\n",
    "### BEGIN SOLUTION\n",
    "hedged_series = compute_hedged_series(new_regr, fb_test, spy_test)\n",
    "hedged_num_returns, hedged_first_return, hedged_last_return, hedged_avg_return = summarize(hedged_series, RET_ATTR)\n",
    "### END SOLUTION\n",
    "ticker=\"FB\"\n",
    "print(\"{t:s} hedged returns: There are {num:d} returns. First={first:.2%}, Last={last:.2%}, Avg={avg:.2%}\".format(t=ticker,\n",
    "                                                                                                                    num=hedged_num_returns,\n",
    "                                                                                                                    first=hedged_first_return, \n",
    "                                                                                                                    last=hedged_last_return, \n",
    "                                                                                                                    avg=hedged_avg_return))\n"
   ]
  },
  {
   "cell_type": "code",
   "execution_count": null,
   "metadata": {
    "collapsed": true,
    "nbgrader": {
     "grade": true,
     "grade_id": "check-hedged-series-fb",
     "locked": true,
     "points": "10",
     "solution": false
    }
   },
   "outputs": [],
   "source": [
    "### BEGIN HIDDEN TESTS\n",
    "assert np.allclose( [hedged_num_returns], [63], rtol=1e-04, atol=1e-02 )\n",
    "assert np.allclose( [hedged_first_return * 100], [ -1.68 ], rtol=1e-04, atol=1e-02 )\n",
    "assert np.allclose( [hedged_last_return * 100], [ -2.72 ], rtol=1e-04, atol=1e-02 )\n",
    "assert np.allclose( [hedged_avg_return * 100], [ -0.03 ], rtol=1e-04, atol=1e-02 )\n",
    "### END HIDDEN TESTS"
   ]
  },
  {
   "cell_type": "markdown",
   "metadata": {},
   "source": [
    "# Returns to prices\n",
    "\n",
    "- You have already computed the predicted returns of $\\aapl$ for each date in the test set.\n",
    "- Create the predicted *price* timeseries for $\\aapl$ for the date range in the test set\n",
    "- Plot (on the same graph) the actual price timeseries of $\\aapl$ and the predicted price timeseries.\n",
    "\n",
    "There is a particular reason that we choose to perform the Linear Regression on returns rather than prices.\n",
    "\n",
    "It is beyond the scope of this lecture to explain why, but we want to show that we can easily convert\n",
    "back into prices.\n",
    "\n",
    "**Question:**\n",
    "- Replace the 0 values in the following cell with your answers, and execute the print statements"
   ]
  },
  {
   "cell_type": "code",
   "execution_count": null,
   "metadata": {
    "collapsed": true
   },
   "outputs": [],
   "source": [
    "num_prices = 0  # Number of prices in price series\n",
    "first_price = 0 # The price on the earliest date in price series\n",
    "last_price  = 0 # The price on the latest date in price series\n",
    "avg_price  = 0  # The average price over the price series\n",
    "\n",
    "### BEGIN SOLUTION\n",
    "def compute_predicted_price(model, dep_train, ind_test):\n",
    "    '''\n",
    "    Compute the predicted price based on predicted returns\n",
    "    \n",
    "    Arguments:\n",
    "    model: model you build with method \"createModel()\"\n",
    "    dep_train: ticker returns in train dataset, to get the Last price\n",
    "    ind_df: index returns in test dataset\n",
    "    '''\n",
    "    predicted_returns = model.predict(np.expand_dims(ind_test['Return'].values, axis=1))  \n",
    "    last_price = dep_train[PRICE_ATTR].values[-1]\n",
    "    returns = predicted_returns + 1.\n",
    "    predicted_price = np.cumsum(np.insert(returns.reshape(-1), 0, last_price))[1:]\n",
    "    return pd.DataFrame({'Price': predicted_price})\n",
    "\n",
    "predicted_price = compute_predicted_price(new_regr, aapl_train, spy_test)\n",
    "num_prices, first_price, last_price, avg_price = summarize(predicted_price, 'Price')\n",
    "### END SOLUTION\n",
    "ticker=\"AAPL\"\n",
    "print(\"{t:s} predicted prices: There are {num:d} prices. First={first:3.2f}, Last={last:3.2f}, Avg={avg:3.2f}\".format(t=ticker,\n",
    "                                                                                                                    num=num_prices,\n",
    "                                                                                                                    first=first_price, \n",
    "                                                                                                                    last=last_price, \n",
    "                                                                                                                    avg=avg_price))\n",
    " "
   ]
  },
  {
   "cell_type": "code",
   "execution_count": null,
   "metadata": {
    "collapsed": true,
    "nbgrader": {
     "grade": true,
     "grade_id": "check-predicted-price",
     "locked": true,
     "points": "20",
     "solution": false
    }
   },
   "outputs": [],
   "source": [
    "### BEGIN HIDDEN TESTS\n",
    "assert np.allclose( [num_prices], [63], rtol=1e-04, atol=1e-02 )\n",
    "assert np.allclose( [first_price], [ 226.74 ], rtol=1e-04, atol=1e-02 )\n",
    "assert np.allclose( [last_price], [ 288.51 ], rtol=1e-04, atol=1e-02 )\n",
    "assert np.allclose( [avg_price], [ 257.62 ], rtol=1e-04, atol=1e-02 )\n",
    "### END HIDDEN TESTS"
   ]
  },
  {
   "cell_type": "markdown",
   "metadata": {},
   "source": [
    "# Extra credit\n",
    "\n",
    "The data directory has the prices of many other indices.\n",
    "- Any ticker in the directory beginning with the letter \"X\" is an index\n",
    "\n",
    "Choose *one* index (we'll call it $I$) other than $\\spy$ to use as a second feature and compute the Linear Regression\n",
    "\n",
    "$$\n",
    "\\ret_\\aapl^\\tp = \\beta^T \\x + \\epsilon_{\\aapl}^\\tp\n",
    "$$\n",
    "\n",
    "where $\\x$ is the feature vector\n",
    "  - $\\x^\\tp = \\begin{pmatrix}\n",
    "        1 \\\\\n",
    "        \\ret_\\spy^\\tp \\\\\n",
    "        \\ret_I^\\tp \\\\\n",
    "        \\end{pmatrix}$\n",
    "\n",
    "That is, predict the returns of $\\aapl$ in terms of a constant, the returns of $\\spy$ and the returns of another index $I$.\n",
    "\n",
    "**Question**\n",
    "There is no specified format.  Treat this like an interview question and show off your analytical\n",
    "and explanatory skills. Be sure to explain how you came about choosing the second index."
   ]
  }
 ],
 "metadata": {
  "celltoolbar": "Create Assignment",
  "kernelspec": {
   "display_name": "Python 3.7",
   "language": "python",
   "name": "python3"
  },
  "language_info": {
   "codemirror_mode": {
    "name": "ipython",
    "version": 3
   },
   "file_extension": ".py",
   "mimetype": "text/x-python",
   "name": "python",
   "nbconvert_exporter": "python",
   "pygments_lexer": "ipython3",
   "version": "3.7.5"
  },
  "toc": {
   "base_numbering": 1,
   "nav_menu": {},
   "number_sections": true,
   "sideBar": true,
   "skip_h1_title": false,
   "title_cell": "Table of Contents",
   "title_sidebar": "Contents",
   "toc_cell": false,
   "toc_position": {
    "height": "calc(100% - 180px)",
    "left": "10px",
    "top": "150px",
    "width": "370.594px"
   },
   "toc_section_display": true,
   "toc_window_display": true
  }
 },
 "nbformat": 4,
 "nbformat_minor": 2
}

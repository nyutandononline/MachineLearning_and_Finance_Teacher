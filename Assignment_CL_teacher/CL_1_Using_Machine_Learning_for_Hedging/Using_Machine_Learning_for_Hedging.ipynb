{
 "cells": [
  {
   "cell_type": "markdown",
   "metadata": {
    "colab_type": "text",
    "id": "C_kkBQZ4v3pn",
    "nbgrader": {
     "grade": false,
     "grade_id": "cell-0cc9ee69ada1ad80",
     "locked": true,
     "solution": false
    }
   },
   "source": [
    "$$\n",
    "\\newcommand{\\x}{\\mathbf{x}}\n",
    "\\newcommand{\\y}{\\mathbf{y}}\n",
    "\\newcommand{\\price}{{p}}\n",
    "\\newcommand{\\ret}{{r}}\n",
    "\\newcommand{\\tp}{{(t)}}\n",
    "\\newcommand{\\aapl}{{\\text{AAPL}}}\n",
    "\\newcommand{\\ba}{{\\text{BA}}}\n",
    "\\newcommand{\\spy}{{\\text{SPY}}}\n",
    "$$"
   ]
  },
  {
   "cell_type": "markdown",
   "metadata": {
    "colab_type": "text",
    "id": "3oupDkWmv3po",
    "nbgrader": {
     "grade": false,
     "grade_id": "cell-6a258ba42be40271",
     "locked": true,
     "schema_version": 3,
     "solution": false,
     "task": false
    }
   },
   "source": [
    "# Assignment: Using Machine Learning for Hedging\n",
    "\n",
    "Welcome to the first assignment !\n",
    "\n",
    "# Problem description\n",
    "\n",
    "We will solve a Regression task that is very common in Finance\n",
    "- Given the return of \"the market\", predict the return of a particular stock\n",
    "\n",
    "That is\n",
    "- Given the return of a proxy for \"the market\" at time $t$, predict the return of, e.g., Apple at time $t$.\n",
    "\n",
    "As we will explain,\n",
    "being able to predict the relationship between two financial instruments opens up possibilities\n",
    "- Use one instrument to \"hedge\" or reduce the risk of holding the other\n",
    "- Create strategies whose returns are independent of \"the market\"\n",
    "    - Hopefully make a profit regardless of whether the market goes up or down"
   ]
  },
  {
   "cell_type": "markdown",
   "metadata": {
    "colab_type": "text",
    "id": "Yhr07qVyv3po",
    "nbgrader": {
     "grade": false,
     "grade_id": "cell-6a258ba42be40272",
     "locked": true,
     "schema_version": 3,
     "solution": false,
     "task": false
    }
   },
   "source": [
    "## Goal\n",
    "\n",
    "You will create models of increasing complexity in order to explain the return of Apple (ticker $\\aapl$)\n",
    "- The first model will have a single feature: return of the market proxy, ticker $\\spy$\n",
    "- Subsequent models will add the return of other tickers as additional features"
   ]
  },
  {
   "cell_type": "markdown",
   "metadata": {
    "colab_type": "text",
    "id": "gx8wZhocv3pp",
    "nbgrader": {
     "grade": false,
     "grade_id": "cell-6a258ba42be40273",
     "locked": true,
     "schema_version": 3,
     "solution": false,
     "task": false
    }
   },
   "source": [
    "## Learning Objectives\n",
    "- Learn how to solve a Regression task\n",
    "- Become facile in the `sklearn` toolkit for Machine Learning"
   ]
  },
  {
   "cell_type": "markdown",
   "metadata": {
    "colab_type": "text",
    "id": "lvEFaX8ev3pp",
    "nbgrader": {
     "grade": false,
     "grade_id": "cell-6a258ba42be40274",
     "locked": true,
     "schema_version": 3,
     "solution": false,
     "task": false
    }
   },
   "source": [
    "## How to report your answers\n",
    "We will mix explanation of the topic with tasks that you must complete. \n",
    "\n",
    "- Look for the string \"**Question**\" to find a task that you must perform.\n",
    "- Place your code below the following sentence\n",
    "    > `### YOUR CODE HERE`\n"
   ]
  },
  {
   "cell_type": "markdown",
   "metadata": {
    "colab_type": "text",
    "id": "Shqc9zvZv3pq",
    "nbgrader": {
     "grade": false,
     "grade_id": "cell-666e7d62a95b6bd4",
     "locked": true,
     "solution": false
    }
   },
   "source": [
    "# Standard imports"
   ]
  },
  {
   "cell_type": "code",
   "execution_count": null,
   "metadata": {
    "colab": {},
    "colab_type": "code",
    "collapsed": true,
    "id": "uEcITD4Pv3pr",
    "nbgrader": {
     "grade": false,
     "grade_id": "cell-f32245b227ef3443",
     "locked": true,
     "solution": false
    }
   },
   "outputs": [],
   "source": [
    "# Standard imports\n",
    "import numpy as np\n",
    "import pandas as pd\n",
    "import matplotlib.pyplot as plt\n",
    "\n",
    "import sklearn\n",
    "\n",
    "import os\n",
    "import math\n",
    "\n",
    "%matplotlib inline"
   ]
  },
  {
   "cell_type": "code",
   "execution_count": null,
   "metadata": {
    "colab": {},
    "colab_type": "code",
    "collapsed": true,
    "id": "RdjCy4qjv3pv",
    "nbgrader": {
     "grade": false,
     "grade_id": "cell-8edd2a83ee27d7b8",
     "locked": true,
     "solution": false
    }
   },
   "outputs": [],
   "source": [
    "from IPython.core.interactiveshell import InteractiveShell\n",
    "InteractiveShell.ast_node_interactivity = \"all\"\n",
    "\n",
    "# Reload all modules imported with %aimport\n",
    "%load_ext autoreload\n",
    "%autoreload 1\n",
    "\n",
    "# Import nn_helper module\n",
    "import helper\n",
    "%aimport helper\n",
    "\n",
    "helper = helper.HELPER()"
   ]
  },
  {
   "cell_type": "markdown",
   "metadata": {
    "colab_type": "text",
    "id": "sfSKbZVsv3p1",
    "nbgrader": {
     "grade": false,
     "grade_id": "cell-82d46f2abf4c6a9a",
     "locked": true,
     "solution": false
    }
   },
   "source": [
    "## API for students\n",
    "\n",
    "We will define some utility routines to help you.\n",
    "\n",
    "In this way, you can focus on the learning objectives rather than data manipulation.\n",
    "\n",
    "This is not representative of the \"real world\"; you will need to complete data manipulation tasks in later assignments."
   ]
  },
  {
   "cell_type": "markdown",
   "metadata": {
    "colab_type": "text",
    "id": "hMrxT_uDv3p2",
    "nbgrader": {
     "grade": false,
     "grade_id": "cell-82d46f2abf4c6a9b",
     "locked": true,
     "solution": false
    }
   },
   "source": [
    "We provide a class `HELPER`\n",
    "- Instantiated as \n",
    ">    `helper = helper.HELPER()`\n",
    "\n",
    "With methods\n",
    "- `getData`:\n",
    "    - Get examples for a list of equity tickers and an index ticker.\n",
    "    - Called as\n",
    "    > `data = helper.getData( tickers, index_ticker, attrs)`\n",
    "        - `tickers` is a list of tickers\n",
    "        - `index` is the ticker of the index  \n",
    "        - `attrs` is a list of data attributes\n",
    "        \n",
    "- `renamePriceToRet`:\n",
    "    - Rename the columns of a pandas DataFrame to indicate that they have been transformed from price (Adj_close) to Return\n",
    "    - Called as\n",
    "    > `data = helper.renamePriceToRet(data)`\n",
    "        - `data` is a pandas DataFrame"
   ]
  },
  {
   "cell_type": "markdown",
   "metadata": {
    "colab_type": "text",
    "id": "Ik6995j5v3p1",
    "nbgrader": {
     "grade": false,
     "grade_id": "cell-0e22b5a64e1a66aa",
     "locked": true,
     "schema_version": 3,
     "solution": false,
     "task": false
    }
   },
   "source": [
    "# Get The data\n",
    "\n",
    "\n",
    "The first step in our Recipe is Get the Data.\n",
    "\n",
    "The data are the daily prices of a number of individual equities and equity indices.\n",
    "\n",
    "The prices are arranged in a series in ascending date order (a timeseries).\n",
    "- There are many `.csv` files for equity or index in the directory `DATA_DIR`"
   ]
  },
  {
   "cell_type": "code",
   "execution_count": null,
   "metadata": {
    "colab": {},
    "colab_type": "code",
    "collapsed": true,
    "id": "Wil_CwKUv3p2",
    "nbgrader": {
     "grade": false,
     "grade_id": "cell-8ff9c8c031ab3ee3",
     "locked": true,
     "schema_version": 3,
     "solution": false,
     "task": false
    }
   },
   "outputs": [],
   "source": [
    "ticker = \"AAPL\"\n",
    "index_ticker = \"SPY\"\n",
    "dateAttr = \"Dt\"\n",
    "priceAttr = \"Adj Close\"\n",
    "\n",
    "# Get the adjusted close price of AAPL and SPY \n",
    "data = helper.getData([ticker], index_ticker, [priceAttr])"
   ]
  },
  {
   "cell_type": "markdown",
   "metadata": {
    "colab_type": "text",
    "id": "UUnZi2Prv3p5",
    "nbgrader": {
     "grade": false,
     "grade_id": "cell-42f38cadf8baae96",
     "locked": true,
     "solution": false
    }
   },
   "source": [
    "# Have a look at the data\n",
    "\n",
    "We will not go through all steps in the Recipe, nor in depth.\n",
    "\n",
    "But here's a peek at the data you retrieved"
   ]
  },
  {
   "cell_type": "code",
   "execution_count": null,
   "metadata": {
    "colab": {},
    "colab_type": "code",
    "id": "nH77xxm4v3p5",
    "nbgrader": {
     "grade": false,
     "grade_id": "cell-2f5fae266a00bfb5",
     "locked": true,
     "schema_version": 3,
     "solution": false,
     "task": false
    },
    "outputId": "a95b9a38-cbbb-407e-e31b-b8ef0da08502"
   },
   "outputs": [],
   "source": [
    "data.head()"
   ]
  },
  {
   "cell_type": "code",
   "execution_count": null,
   "metadata": {
    "colab": {},
    "colab_type": "code",
    "id": "c36qu98kv3p8",
    "nbgrader": {
     "grade": false,
     "grade_id": "cell-0c370e2578df3525",
     "locked": true,
     "schema_version": 3,
     "solution": false,
     "task": false
    },
    "outputId": "01b2cfb6-fd46-450d-bf3c-89f00d19a299"
   },
   "outputs": [],
   "source": [
    "# Print the Start time and End time\n",
    "print(\"Start time: \", data.index.min())\n",
    "print(\"End time: \", data.index.max())"
   ]
  },
  {
   "cell_type": "markdown",
   "metadata": {
    "colab_type": "text",
    "id": "bLgnJjwiv3p_",
    "nbgrader": {
     "grade": false,
     "grade_id": "cell-6e8483381a2e4a69",
     "locked": true,
     "solution": false
    }
   },
   "source": [
    "Expected data should be similar to this:   \n",
    "<img src=\"./images/data.png\" width=\"300\" height=\"200\"/>"
   ]
  },
  {
   "cell_type": "markdown",
   "metadata": {
    "colab_type": "text",
    "id": "ZFmwZM1Qv3p_",
    "nbgrader": {
     "grade": false,
     "grade_id": "cell-21974d9497f29d99",
     "locked": true,
     "schema_version": 3,
     "solution": false,
     "task": false
    }
   },
   "source": [
    "## Create DataFrame of price levels for the training examples\n",
    "\n",
    "- The DataFrame should have two columns: the price level for the ticker and for the index\n",
    "- The minimum date in the DataFrame should be **the trading day before** `start_dt` (not just one day before !)\n",
    "    - That is: the latest date for which there is data and which is less than `start_dt`\n",
    "    - For example, if `start_dt` is a Monday, the \"day before\" would be Friday, not Sunday.\n",
    "        - Similarly for the case where the day before `start_dt` is a holiday\n",
    "- The maximum date in the DataFrame should be `end_dt`\n",
    "\n",
    "The reason we are adding one day prior to `start_dt`\n",
    "- We want to have returns (percent price changes) from `start_dt` onwards\n",
    "- In order to compute a return for `start_dt`, we need the level from the prior day\n",
    "\n",
    "**Question:**\n",
    "- Select data ranging from one day before \"2018-01-02\" to \"2018-09-28\" as training data\n",
    "\n",
    "    - Complete the function `getRange()` to return the subset of rows of our examples\n",
    "    - Beginning on the **trading day before** date `start_dt`\n",
    "    - Ending on date `end_dt`\n"
   ]
  },
  {
   "cell_type": "code",
   "execution_count": null,
   "metadata": {
    "colab": {},
    "colab_type": "code",
    "id": "DMmSwV6wv3p_",
    "outputId": "8e8dff95-2545-42db-df90-0b54da5100ff"
   },
   "outputs": [],
   "source": [
    "start_dt = \"2018-01-02\"\n",
    "end_dt = \"2018-09-28\"\n",
    "train_data_price = None\n",
    "\n",
    "# Set variable train_data_price to be a DataFrame with two columns\n",
    "## AAPL_Adj_Close, SPY_Adj_Close\n",
    "## with dates as the index\n",
    "## Having minimum date equal to THE DAY BEFORE start_dt\n",
    "## Having maximum date equal to end_dt\n",
    "\n",
    "def getRange(df, start_dt, end_dt):\n",
    "    '''\n",
    "    Return the the subset of rows of DataFrame df\n",
    "    restricted to dates between start_dt and end_dt\n",
    "    \n",
    "    Parameters\n",
    "    ----------\n",
    "    df: DataFrame\n",
    "    - Original dataset\n",
    "    \n",
    "    start_dt: String\n",
    "    - Start date\n",
    "    \n",
    "    end_dt: String\n",
    "    - End date\n",
    "    \n",
    "    Return\n",
    "    ------\n",
    "    DataFrame\n",
    "    - Training data from one day before \"2018-01-02\" to \"2018-09-28\"\n",
    "    '''\n",
    "    ### BEGIN SOLUTION\n",
    "    dates = data.index.to_list()\n",
    "    \n",
    "    # Find the position of start_dt in the list of dates (so we can find the day before)\n",
    "    start_pos = dates.index(start_dt)\n",
    "\n",
    "    # Return the slice of the date range\n",
    "    return data[ dates[ start_pos -1 ]:end_dt]\n",
    "    ### END SOLUTION\n",
    "\n",
    "train_data_price = getRange(data, start_dt, end_dt)\n",
    "train_data_price.head()"
   ]
  },
  {
   "cell_type": "code",
   "execution_count": null,
   "metadata": {
    "colab": {},
    "colab_type": "code",
    "collapsed": true,
    "id": "nuhnFP-Sv3qB",
    "nbgrader": {
     "grade": true,
     "grade_id": "check-get-time-range-train",
     "locked": true,
     "points": 10,
     "solution": false
    }
   },
   "outputs": [],
   "source": [
    "### BEGIN HIDDEN TESTS\n",
    "assert train_data_price.index.min() == '2017-12-29'\n",
    "assert np.allclose(train_data_price.values[0], [164.2589, 258.2823])\n",
    "assert train_data_price.index.max() == '2018-09-28'\n",
    "assert np.allclose(train_data_price.values[-1], [221.6252, 285.0555])\n",
    "### END HIDDEN TESTS"
   ]
  },
  {
   "cell_type": "markdown",
   "metadata": {
    "colab_type": "text",
    "id": "MNrIqz9Iv3qF",
    "nbgrader": {
     "grade": false,
     "grade_id": "cell-47e44d23fe1681ef",
     "locked": true,
     "solution": false
    }
   },
   "source": [
    "As you can see, each row has two attributes for one  date\n",
    "- Price (adjusted close) of ticker $\\aapl$\n",
    "- Price (adjusted close) of the market proxy $\\spy$"
   ]
  },
  {
   "cell_type": "markdown",
   "metadata": {
    "colab_type": "text",
    "id": "cqEJsCHCv3qG",
    "nbgrader": {
     "grade": false,
     "grade_id": "cell-0f54c70300cb98fb",
     "locked": true,
     "schema_version": 3,
     "solution": false,
     "task": false
    }
   },
   "source": [
    "# Create test set\n",
    "\n",
    "We just created a set of training examples as a subset of the rows of `data`.\n",
    "\n",
    "We will do the same to create a set of test examples.\n",
    "\n",
    "**Question:**\n",
    "\n",
    "Set variable `test_data_price`\n",
    "- To  the subset of rows of our examples\n",
    "- Beginning on the **trading day before** date `test_start_dt`\n",
    "- Ending on date `test_end_dt`\n",
    "\n",
    "**Hint**\n",
    "- Use `getRange` with different arguments for the dates"
   ]
  },
  {
   "cell_type": "code",
   "execution_count": null,
   "metadata": {
    "colab": {},
    "colab_type": "code",
    "collapsed": true,
    "id": "CNbF2Gzhv3qG",
    "nbgrader": {
     "grade": false,
     "grade_id": "check-get",
     "locked": false,
     "points": "10",
     "schema_version": 3,
     "solution": false,
     "task": false
    }
   },
   "outputs": [],
   "source": [
    "test_start_dt = '2018-10-01'\n",
    "test_end_dt = '2018-12-31'\n",
    "\n",
    "### BEGIN SOLUTION\n",
    "test_data_price = getRange(data, test_start_dt, test_end_dt, )\n",
    "### END SOLUTION\n"
   ]
  },
  {
   "cell_type": "code",
   "execution_count": null,
   "metadata": {
    "collapsed": true,
    "nbgrader": {
     "grade": true,
     "grade_id": "check-get-time-range-test",
     "locked": true,
     "points": "10",
     "solution": false
    }
   },
   "outputs": [],
   "source": [
    "### BEGIN HIDDEN TESTS\n",
    "assert test_data_price.index.min() == '2018-09-28'\n",
    "assert np.allclose(test_data_price.values[0], data.loc['2018-09-28'].values)\n",
    "assert test_data_price.index.max() == '2018-12-31'\n",
    "assert np.allclose(test_data_price.values[-1], data.loc['2018-12-31'].values)\n",
    "### END HIDDEN TESTS"
   ]
  },
  {
   "cell_type": "markdown",
   "metadata": {
    "colab_type": "text",
    "id": "xZIMawNOv3qI",
    "nbgrader": {
     "grade": false,
     "grade_id": "cell-e545c44980d0e383",
     "locked": true,
     "solution": false
    }
   },
   "source": [
    "# Prepare the data\n",
    "\n",
    "In Finance, it is very typical to work with *relative changes* (e.g., percent price change)\n",
    "rather than *absolute changes* (price change) or *levels* (prices).\n",
    "\n",
    "Without going into too much detail\n",
    "- Relative changes are more consistent over time than either absolute changes or levels\n",
    "- The consistency can facilitate the use of data over a longer time period\n",
    "\n",
    "For example, let's suppose that prices are given in units of USD (dollar)\n",
    "- A price change of 1 USD is more likely for a stock with price level 100 than price level 10\n",
    "    - A relative change of $1/100 = 1 %$ is more likely than a change of $1/10 = 10%$\n",
    "    - So relative changes are less dependent on price level than either price changes or price levels\n",
    "    \n",
    "    \n",
    "To compute the *return* (percent change in prices)\n",
    " for ticker $\\aapl$ (Apple) on date $t$\n",
    "\n",
    "$$\n",
    "\\begin{array}[lll]\\\\\n",
    "\\ret_\\aapl^\\tp = \\frac{\\price _\\aapl^\\tp}{\\price _\\aapl^{(t-1)}} -1 \\\\\n",
    "\\text{where} \\\\\n",
    "\\price_\\aapl^\\tp \\text{ denotes the price of ticker } \\aapl \\text{ on date } t \\\\\n",
    "\\ret_\\aapl^\\tp \\text{ denotes the return of ticker } \\aapl \\text{ on date } t\n",
    "\\end{array}\n",
    "$$\n"
   ]
  },
  {
   "cell_type": "markdown",
   "metadata": {
    "colab_type": "text",
    "id": "2_r_yKFIv3qJ",
    "nbgrader": {
     "grade": false,
     "locked": true,
     "solution": false
    }
   },
   "source": [
    "# Transformations: transform the training data\n",
    "\n",
    "Our first task is to transform the data from price levels (Adj Close)\n",
    "to Percent Price Changes.\n",
    "\n",
    "Moreover, the date range for the training data is specified to be in the range\n",
    "from `start_dt` (start date) to `end_dt`, inclusive on both sides.\n",
    "\n",
    "**Note**\n",
    "\n",
    "We will need to apply **identical** transformations to both the training and test data examples.\n",
    "\n",
    "In the cells that immediately follow, we will do this only for the **training data**\n",
    "\n",
    "You will need to repeat these steps for the test data in a subsequent step.\n",
    "\n",
    "You are well-advised to create subroutines or functions to accomplish these tasks !\n",
    "- You will apply them first to transform training data\n",
    "- You will apply them a second time to transform the test data\n",
    "\n",
    "We will achieve this is several steps"
   ]
  },
  {
   "cell_type": "markdown",
   "metadata": {
    "colab_type": "text",
    "id": "nTHvCoNGv3qJ",
    "nbgrader": {
     "grade": false,
     "grade_id": "cell-21b859144a37d597",
     "locked": true,
     "solution": false
    }
   },
   "source": [
    "## Create DataFrame of returns for training examples\n",
    "\n",
    "**Question:**\n",
    "- Complete function `getReturns()` to set variable `train_data_ret` to be a DataFrame with the same columns\n",
    "    - But where the prices have been replaced by day over day percent changes\n",
    "    - The column names of `train_data_ret` should be the same as the original columns names\n",
    "    - We give you code to rename the columns to reflect the changed meaning of the data in the next step\n",
    "\n",
    "**Hint:**\n",
    "- look up the Pandas `pct_change()` method    "
   ]
  },
  {
   "cell_type": "code",
   "execution_count": null,
   "metadata": {
    "colab": {},
    "colab_type": "code",
    "id": "y8KDfoxFv3qK",
    "outputId": "1ec0adfd-ea8e-430e-931a-b7f9b33799ec"
   },
   "outputs": [],
   "source": [
    "train_data_ret = None\n",
    "\n",
    "def getReturns(df):\n",
    "    '''\n",
    "    Return the day over day percent changes of adjusted price\n",
    "    \n",
    "    Parameters\n",
    "    ----------\n",
    "    df: DataFrame\n",
    "    - dataset with adjusted price of ticker and index SPY\n",
    "    \n",
    "    Return\n",
    "    ------\n",
    "    DataFrame\n",
    "    - Daily returns of ticker and index SPY\n",
    "    '''\n",
    "    ### BEGIN SOLUTION\n",
    "    return df.pct_change()\n",
    "    ### END SOLUTION\n",
    "\n",
    "train_data_ret = getReturns(train_data_price)\n",
    "train_data_ret.head()"
   ]
  },
  {
   "cell_type": "code",
   "execution_count": null,
   "metadata": {
    "colab": {},
    "colab_type": "code",
    "id": "eOoTX2Atv3qM",
    "nbgrader": {
     "grade": true,
     "grade_id": "check-get-returns",
     "locked": true,
     "points": 20,
     "solution": false
    }
   },
   "outputs": [],
   "source": [
    "### BEGIN HIDDEN TESTS\n",
    "def getReturns_(df):\n",
    "    return df.pct_change()\n",
    "\n",
    "train_data_ret_test = getReturns_(train_data_price)\n",
    "assert np.allclose(train_data_ret.values[1:,:], train_data_ret_test.values[1:,:])\n",
    "### END HIDDEN TESTS"
   ]
  },
  {
   "cell_type": "markdown",
   "metadata": {
    "colab_type": "text",
    "id": "VXomCXI4v3qN",
    "nbgrader": {
     "grade": false,
     "grade_id": "cell-d734b30014393373",
     "locked": true,
     "schema_version": 3,
     "solution": false,
     "task": false
    }
   },
   "source": [
    "Since the columns of `train_data_ret` are now returns, we will rename then for you.\n",
    "\n",
    "Also, we will drop the earliest date\n",
    "- There is now return for this date\n",
    "- We included this row only so we could compute the return for the following trading date"
   ]
  },
  {
   "cell_type": "code",
   "execution_count": null,
   "metadata": {
    "colab": {},
    "colab_type": "code",
    "id": "FPoO1Ntcv3qO",
    "nbgrader": {
     "grade": false,
     "grade_id": "cell-fb9edc0f593c043d",
     "locked": true,
     "schema_version": 3,
     "solution": false,
     "task": false
    },
    "outputId": "0cc19ea3-0e81-4327-be5b-57496a9ea541"
   },
   "outputs": [],
   "source": [
    "## Rename the columns to indicate that they have been transformed from price (Adj_close) to Return\n",
    "train_data_ret = helper.renamePriceToRet( train_data_ret )\n",
    "\n",
    "## Drop the first date (the day before `start_dt`) since it has an undefined return\n",
    "train_data_ret = train_data_ret[ start_dt:]\n",
    "\n",
    "train_data_ret.head()"
   ]
  },
  {
   "cell_type": "markdown",
   "metadata": {
    "colab_type": "text",
    "id": "JJny73o3v3qQ",
    "nbgrader": {
     "grade": false,
     "grade_id": "cell-c7f8e54b9118b615",
     "locked": true,
     "solution": false
    }
   },
   "source": [
    "Expected outputs should be similar to this:   \n",
    "<img src=\"./images/train_data.png\" width=\"250\" height=\"150\"/>"
   ]
  },
  {
   "cell_type": "markdown",
   "metadata": {
    "colab_type": "text",
    "id": "XCf1Ux0sv3qQ",
    "nbgrader": {
     "grade": false,
     "grade_id": "cell-afd930197d8aa9ee",
     "locked": true,
     "solution": false
    }
   },
   "source": [
    "## Remove the target \n",
    "\n",
    "The only feature is the return of the market proxy $\\spy$.\n",
    "\n",
    "Predicting the target given the target as a feature would be cheating !\n",
    "\n",
    "So we will create `X_train, y_train` from `train_data_ret`\n",
    "- `X_train` has only features for the example\n",
    "- `y_train` is the target for the example"
   ]
  },
  {
   "cell_type": "code",
   "execution_count": null,
   "metadata": {
    "colab": {},
    "colab_type": "code",
    "collapsed": true,
    "id": "LaWsioRpv3qR",
    "nbgrader": {
     "grade": false,
     "grade_id": "cell-68e1b762116be4e3",
     "locked": true,
     "schema_version": 3,
     "solution": false,
     "task": false
    }
   },
   "outputs": [],
   "source": [
    "tickerAttr = ticker + \"_Ret\"\n",
    "\n",
    "X_train, y_train =  train_data_ret.drop(columns=[tickerAttr]), train_data_ret[[ tickerAttr ]]"
   ]
  },
  {
   "cell_type": "markdown",
   "metadata": {
    "colab_type": "text",
    "id": "lk0Wp-MZv3qS",
    "nbgrader": {
     "grade": false,
     "grade_id": "cell-5de8618f90750660",
     "locked": true,
     "solution": false
    }
   },
   "source": [
    "# Transformations: transform the test data\n",
    "\n",
    "We have just performed some transformations of the training data.\n",
    "\n",
    "**Remember**:\n",
    "\n",
    "You need to perform *identical* transformations to the test data.\n",
    "\n",
    "The test data will be returns from `test_start_dt` to `test_end_dt` inclusive.\n",
    "\n",
    "We will apply identical transformations as we did to the training data, but with a different date range.\n"
   ]
  },
  {
   "cell_type": "markdown",
   "metadata": {
    "colab_type": "text",
    "id": "rv7qO7Rev3qT",
    "nbgrader": {
     "grade": false,
     "grade_id": "cell-74d05c868f3ff442",
     "locked": true,
     "solution": false
    }
   },
   "source": [
    "We obtained `X_train, y_train` via transformations to `train_data_price`.\n",
    "\n",
    "We will now obtain `X_test, y_test` by identical transformations to `test_data_price`\n",
    "\n",
    "**Question:**\n",
    "\n",
    "Create the training data `X_test, y_test`\n",
    "- Apply the same transformations to `test_data_price` as you did to `train_data_price`\n",
    "- To create variable `test_data_ret`\n",
    "- We will convert `test_data_ret` to `X_test, y_test` for you\n",
    "\n",
    "**Hints**\n",
    "\n",
    "Create `test_data_ret` in a manner analogous to the creation of `train_data_ret`\n",
    "- Use `getReturns` to convert price levels to returns\n",
    "- Use `helper.renamePriceToRet` to rename the columns to reflect the change in data from price to return\n",
    "- Drop the first date from `test_data_ret` as it has an undefined return\n"
   ]
  },
  {
   "cell_type": "code",
   "execution_count": null,
   "metadata": {
    "colab": {},
    "colab_type": "code",
    "id": "7D2cCKyhv3qT",
    "outputId": "dcfb4f7b-e20d-4e6c-8d03-29bc6a8debfc"
   },
   "outputs": [],
   "source": [
    "test_data_ret = None\n",
    "X_test = None\n",
    "y_test = None\n",
    "\n",
    "### BEGIN SOLUTION\n",
    "test_data_ret = getReturns(test_data_price)\n",
    "test_data_ret = helper.renamePriceToRet(test_data_ret)\n",
    "\n",
    "## Drop the first date (the day before `start_dt`) since it has an undefined return\n",
    "test_data_ret = test_data_ret[ test_start_dt:]\n",
    "\n",
    "### END SOLUTION\n",
    "\n",
    "X_test, y_test =  test_data_ret.drop(columns=[tickerAttr]), test_data_ret[[ tickerAttr ]]\n",
    "\n",
    "print(\"test data length\", test_data_ret.shape[0])\n",
    "print(\"X test length\", X_test.shape[0])\n",
    "print(\"y test length\", y_test.shape[0])\n",
    "test_data_ret.head()"
   ]
  },
  {
   "cell_type": "markdown",
   "metadata": {
    "colab_type": "text",
    "id": "g-8w87SCv3qW",
    "nbgrader": {
     "grade": false,
     "grade_id": "cell-1f2fa6ab77e648ca",
     "locked": true,
     "solution": false
    }
   },
   "source": [
    "Expected outputs should be similar to this:   \n",
    "\n",
    "test data length 63      \n",
    "X test length 63      \n",
    "y test length 63        \n",
    "\n",
    "<img src=\"./images/test_data.png\" width=\"250\" height=\"150\"/>"
   ]
  },
  {
   "cell_type": "code",
   "execution_count": null,
   "metadata": {
    "colab": {},
    "colab_type": "code",
    "collapsed": true,
    "id": "9FcIMVBgv3qW",
    "nbgrader": {
     "grade": true,
     "grade_id": "check-transform-test-data",
     "locked": true,
     "points": 20,
     "solution": false
    }
   },
   "outputs": [],
   "source": [
    "### BEGIN HIDDEN TESTS\n",
    "test_data_ret_ = getReturns_(test_data_price)\n",
    "test_data_ret_ = helper.renamePriceToRet( test_data_ret_ )\n",
    "test_data_ret_ = test_data_ret_[ test_start_dt:]\n",
    "\n",
    "X_test_, y_test_ =  test_data_ret.drop(columns=[tickerAttr]), test_data_ret[[ tickerAttr ]]\n",
    "assert np.allclose(X_test_, X_test)\n",
    "assert np.allclose(y_test_, y_test)\n",
    "### END HIDDEN TESTS"
   ]
  },
  {
   "cell_type": "markdown",
   "metadata": {
    "colab_type": "text",
    "id": "ke2ACCMgv3qY",
    "nbgrader": {
     "grade": false,
     "grade_id": "cell-6c933eb1e2a23c0a",
     "locked": true,
     "schema_version": 3,
     "solution": false,
     "task": false
    }
   },
   "source": [
    "# Train a model (Regression)\n",
    "\n",
    "Use Linear Regression to predict the return of a ticker from the return of the market proxy $\\spy$.\n",
    "For example, for ticker $\\aapl$\n",
    "\n",
    "$$\n",
    "\\ret_\\aapl^\\tp = \\beta_0 + \\beta_{\\aapl, \\spy} * \\ret_\\spy^\\tp + \\epsilon_{\\aapl}^\\tp\n",
    "$$\n",
    "\n",
    "Each example corresponds to one day (time $t$)\n",
    "- has features\n",
    "    - constant 1, corresponding to the intercept parameter\n",
    "    - return of the market proxy $\\spy$\n",
    "       $$\\x^\\tp = \\begin{pmatrix}\n",
    "        1 \\\\\n",
    "        \\ret_\\spy^\\tp\n",
    "        \\end{pmatrix}$$\n",
    "\n",
    "- has target\n",
    "    - return of the ticker\n",
    "    $$\\y^\\tp = \\ret_\\aapl^\\tp$$\n",
    "\n",
    " \n",
    "You will use Linear Regression to solve for parameters $\\beta_0$,  $\\beta_{\\aapl, \\spy}$ \n",
    "\n",
    "- In the lectures we used the symbol $\\Theta$ to denote the parameter vector; here we use $\\mathbf{\\beta}$\n",
    "- In Finance the symbol $\\beta$ is often used to denote the relationship between returns.\n",
    "- Rather than explicitly creating a constant 1 feature\n",
    "    - you may invoke the model object with the option including an intercept\n",
    "    - if you do so, the feature vector you pass will be\n",
    "   $$\\x^\\tp = \\begin{pmatrix}\n",
    "        \\ret_\\spy^\\tp\n",
    "        \\end{pmatrix}$$  \n",
    "    \n",
    "\n",
    "\n",
    "- Use the entire training set\n",
    "- Do not use cross-validation"
   ]
  },
  {
   "cell_type": "markdown",
   "metadata": {
    "colab_type": "text",
    "id": "F-l5pQ2Zv3qY"
   },
   "source": [
    "**Question:**\n",
    "\n",
    "Train your model to estimate the parameters beta_0 and beta_SPY   \n",
    "\n",
    "- Complete the function `createModel()` to build your linear regression model. The detailed description is in the function below.\n",
    "- Complete the function `regress()` to do regression and return two things, intercept and coefficients. The detailed description is in the function below.\n",
    "    - `beta_0` is the regression parameter for the constant; \n",
    "    - `beta_SPY` is the regression parameter for the return of SPY. \n",
    "    - We will test if the parameters of your regression is correct. We have initialized them to be 0. \n",
    "\n",
    "**Hints:**\n",
    "- The input model of your function `regress()` should be the model you get from function `createModel()`\n",
    "- Before you input your `X_train` and `y_train` into your sklearn model, you need to convert them (DataFrame) into ndarray. You can use `X_train.values`"
   ]
  },
  {
   "cell_type": "code",
   "execution_count": null,
   "metadata": {
    "colab": {},
    "colab_type": "code",
    "id": "HfCePiOfv3qY",
    "nbgrader": {
     "grade": false,
     "grade_id": "ticker-regression",
     "locked": false,
     "schema_version": 3,
     "solution": true,
     "task": false
    },
    "outputId": "91bfc108-1c0f-47b7-cfc6-8969b1391c56"
   },
   "outputs": [],
   "source": [
    "from sklearn import datasets, linear_model\n",
    "\n",
    "beta_0 = 0    # The regression parameter for the constant\n",
    "beta_SPY = 0  # The regression parameter for the return of SPY\n",
    "ticker = \"AAPL\"\n",
    "\n",
    "def createModel():\n",
    "    '''\n",
    "    Build your linear regression model using sklearn\n",
    "    \n",
    "    Return\n",
    "    ------\n",
    "    A sklearn model implementing linear regression\n",
    "    '''\n",
    "    ### BEGIN SOLUTION\n",
    "    model = linear_model.LinearRegression()\n",
    "    return model\n",
    "    ### END SOLUTION\n",
    "\n",
    "def regress(model, X, y):\n",
    "    '''\n",
    "    Do regression using returns of your ticker and index\n",
    "    \n",
    "    Parameters\n",
    "    ----------\n",
    "    model: A sklearn model implementing linear regression\n",
    "    \n",
    "    X: DataFrame\n",
    "    - Index returns\n",
    "    \n",
    "    y: DataFrame\n",
    "    - Ticker returns\n",
    "    \n",
    "    Return\n",
    "    ------\n",
    "    Tuple of beta_0 and beta_SPY\n",
    "    where,\n",
    "        beta_0: Scalar number \n",
    "        - Parameter for the constant\n",
    "\n",
    "        beta_SPY: Scalar number\n",
    "        - Parameter for the return of SPY\n",
    "    '''\n",
    "    ### BEGIN SOLUTION\n",
    "    _= model.fit( X.values, y.values )\n",
    "    \n",
    "    return model.intercept_[0], model.coef_[0][0]\n",
    "    ### END SOLUTION\n",
    "\n",
    "# Assign to answer variables\n",
    "regr = createModel()\n",
    "\n",
    "beta_0, beta_SPY = regress(regr, X_train, y_train)\n",
    "\n",
    "\n",
    "print(\"{t:s}: beta_0={b0:3.3f}, beta_SPY={b1:3.3f}\".format(t=ticker, b0=beta_0, b1=beta_SPY))"
   ]
  },
  {
   "cell_type": "markdown",
   "metadata": {
    "colab_type": "text",
    "id": "u057KFp4v3qa",
    "nbgrader": {
     "grade": false,
     "grade_id": "cell-cd21c510f03a1bc7",
     "locked": true,
     "solution": false
    }
   },
   "source": [
    "Your expected outputs should be:\n",
    "<table> \n",
    "    <tr> \n",
    "        <td>  \n",
    "            beta_0\n",
    "        </td>\n",
    "        <td>\n",
    "         0.001\n",
    "        </td>\n",
    "    </tr>\n",
    "    <tr> \n",
    "        <td>\n",
    "            beta_SPY\n",
    "        </td>\n",
    "        <td>\n",
    "         1.071\n",
    "        </td>\n",
    "    </tr>\n",
    "\n",
    "</table>"
   ]
  },
  {
   "cell_type": "code",
   "execution_count": null,
   "metadata": {
    "colab": {},
    "colab_type": "code",
    "collapsed": true,
    "id": "xFRDCSoUv3qb",
    "nbgrader": {
     "grade": true,
     "grade_id": "check-ticker-regression",
     "locked": true,
     "points": 20,
     "schema_version": 3,
     "solution": false,
     "task": false
    }
   },
   "outputs": [],
   "source": [
    "### BEGIN HIDDEN TESTS\n",
    "def createModel_():\n",
    "    model = linear_model.LinearRegression()\n",
    "    return model\n",
    "\n",
    "def regress_(model, X, y):\n",
    "    _= model.fit( X.values, y.values )\n",
    "    \n",
    "    return model.intercept_[0], model.coef_[0][0]\n",
    "\n",
    "model_test = createModel_()\n",
    "aapl_beta_0, aapl_beta_1 = regress_(model_test, X_train, y_train)\n",
    "assert np.allclose( [beta_0, beta_SPY], [aapl_beta_0, aapl_beta_1] )\n",
    "### END HIDDEN TESTS"
   ]
  },
  {
   "cell_type": "markdown",
   "metadata": {
    "colab_type": "text",
    "id": "BsF5Qjpiv3qd",
    "nbgrader": {
     "grade": false,
     "grade_id": "cell-f135156ddb84aff0",
     "locked": true,
     "solution": false
    }
   },
   "source": [
    "## Train the model using Cross validation\n",
    "\n",
    "Since we only have one test set, we want to use 5-fold cross validation check model performance.\n",
    "\n",
    "**Question:**\n",
    "- Complete the function `compute_cross_val_avg()` to compute the average score of 5-fold cross validation\n",
    "    - Set `cross_val_avg` as your average score of k-fold results\n",
    "    - Set `k = 5` as the number of folds\n",
    "\n",
    "**Hint:**  \n",
    "- You can use the `cross_val_score` in `sklearn.model_selection`"
   ]
  },
  {
   "cell_type": "code",
   "execution_count": null,
   "metadata": {
    "colab": {},
    "colab_type": "code",
    "id": "6Ur7piz1v3qd",
    "outputId": "ca8d7de9-055b-491c-ee0a-f5c978b8f00f"
   },
   "outputs": [],
   "source": [
    "from sklearn.model_selection import cross_val_score\n",
    "\n",
    "cross_val_avg = 0 # average score of cross validation\n",
    "k = 5             # 5-fold cross validation\n",
    "\n",
    "def compute_cross_val_avg(model, X, y, k):\n",
    "    '''\n",
    "    Compute the average score of k-fold cross validation\n",
    "    \n",
    "    Parameters\n",
    "    ----------\n",
    "    model: A sklearn model\n",
    "    \n",
    "    X: DataFrame\n",
    "    - Index returns\n",
    "    \n",
    "    y: DataFrame\n",
    "    - Ticker returns\n",
    "    \n",
    "    k: Scalar number\n",
    "    - k-fold cross validation\n",
    "    '''\n",
    "    ### BEGIN SOLUTION\n",
    "    cross_val_score_ = cross_val_score(model, X.values, y.values, cv=k)\n",
    "    return np.mean(cross_val_score_)\n",
    "    ### END SOLUTION\n",
    "\n",
    "    \n",
    "cross_val_avg = compute_cross_val_avg(regr, X_train, y_train, 5)\n",
    "print(\"{t:s}: Avg cross val score = {sc:3.2f}\".format(t=ticker, sc=cross_val_avg) )"
   ]
  },
  {
   "cell_type": "code",
   "execution_count": null,
   "metadata": {
    "colab": {},
    "colab_type": "code",
    "collapsed": true,
    "id": "JdC6uX_zv3qf",
    "nbgrader": {
     "grade": true,
     "grade_id": "Check-cross-validation",
     "locked": true,
     "points": 10,
     "solution": false
    }
   },
   "outputs": [],
   "source": [
    "### BEGIN HIDDEN TESTS\n",
    "def compute_cross_val_avg_(model, X, y, k):\n",
    "    cross_val_score_ = cross_val_score(model, X.values, y.values, cv=k)\n",
    "    return np.mean(cross_val_score_)\n",
    "\n",
    "cross_val_avg_ = compute_cross_val_avg_(regr, X_train, y_train, 5)\n",
    "assert np.allclose(cross_val_avg, cross_val_avg_)\n",
    "### END HIDDEN TESTS"
   ]
  },
  {
   "cell_type": "markdown",
   "metadata": {
    "colab_type": "text",
    "id": "TBhbmVFnv3qh",
    "nbgrader": {
     "grade": false,
     "grade_id": "cell-da49f130049959a6",
     "locked": true,
     "solution": false
    }
   },
   "source": [
    "## Evaluate Loss (in sample RMSE) and Performance (Out of sample RMSE)\n",
    "\n",
    "To see how well your model performs, we can check the in-sample loss and out-of-sample performance.   \n",
    "\n",
    "**Question:**\n",
    "- Complete the function `computeRMSE()` to compute the Root of Mean Square Error (RMSE)\n",
    "    - Set rmse_in_sample to be in-sample loss\n",
    "    - Set rmse_out_sample to be out-of-sample performance"
   ]
  },
  {
   "cell_type": "code",
   "execution_count": null,
   "metadata": {
    "colab": {},
    "colab_type": "code",
    "id": "JTRhputMv3qi",
    "outputId": "befdd0b2-8388-4e8b-8f60-2a128d8fca85"
   },
   "outputs": [],
   "source": [
    "from sklearn.metrics import mean_squared_error\n",
    "\n",
    "rmse_in_sample = 0 # in sample loss\n",
    "rmse_out_sample = 0 # out of sample performance\n",
    "\n",
    "# Predicted  in-sample returns of AAPL using SPY index\n",
    "aapl_predicted_in_sample = regr.predict(X_train)\n",
    "# Predicted out-of-sample returns of AAPL using SPY index\n",
    "aapl_predicted_out_sample = regr.predict(X_test)\n",
    "\n",
    "def computeRMSE( target, predicted ):\n",
    "    '''\n",
    "    Calculate the RMSE\n",
    "    \n",
    "    Parameters\n",
    "    ----------\n",
    "    target: DataFrame\n",
    "    - Real ticker returns\n",
    "    \n",
    "    predicted: ndarray\n",
    "    - Predicted ticker returns\n",
    "    \n",
    "    Return\n",
    "    ------\n",
    "    Scalar number\n",
    "    - RMSE\n",
    "    '''\n",
    "    ### BEGIN SOLUTION\n",
    "    rmse = np.sqrt( mean_squared_error(target.values,  predicted))\n",
    "    return rmse\n",
    "    ### END SOLUTION\n",
    "    \n",
    "rmse_in_sample = computeRMSE(y_train, aapl_predicted_in_sample)\n",
    "rmse_out_sample = computeRMSE(y_test, aapl_predicted_out_sample)\n",
    "\n",
    "print(\"In Sample Root Mean squared error: {:.3f}\".format( rmse_in_sample ) )\n",
    "print(\"Out of Sample Root Mean squared error: {:.3f}\".format( rmse_out_sample ) )"
   ]
  },
  {
   "cell_type": "code",
   "execution_count": null,
   "metadata": {
    "colab": {},
    "colab_type": "code",
    "collapsed": true,
    "id": "a1f3qonjv3qk",
    "nbgrader": {
     "grade": true,
     "grade_id": "check-evaluation",
     "locked": true,
     "points": 10,
     "solution": false
    }
   },
   "outputs": [],
   "source": [
    "### BEGIN HIDDEN TESTS\n",
    "def computeRMSE_( target, predicted ):\n",
    "    rmse = np.sqrt( mean_squared_error(target,  predicted))\n",
    "    return rmse\n",
    "rmse_in_sample_test = computeRMSE_(y_train, regr.predict(X_train))\n",
    "rmse_out_sample_test = computeRMSE_(y_test, regr.predict(X_test))\n",
    "assert np.allclose(rmse_in_sample, rmse_in_sample_test)\n",
    "assert np.allclose(rmse_out_sample, rmse_out_sample_test)\n",
    "### END HIDDEN TESTS"
   ]
  },
  {
   "cell_type": "markdown",
   "metadata": {
    "colab_type": "text",
    "id": "gux8trLev3qm",
    "nbgrader": {
     "grade": false,
     "grade_id": "cell-024741e237f8e98c",
     "locked": true,
     "solution": false
    }
   },
   "source": [
    "## Hedged returns\n",
    "\n",
    "Why is being able to predict the return of a ticker, given the return of another instrument (e.g., the market proxy) useful ?\n",
    "- It **does not** allow us to predict the future\n",
    "    - To predict $\\ret_\\aapl^\\tp$, we require the same day return of the proxy $\\ret_\\spy$\n",
    "- It **does** allow us to predict how much $\\aapl$ will outperform the market proxy\n",
    "\n",
    "Consider an investment that goes long (i.e, holds a positive quantity of $\\aapl$)\n",
    "- Since the relationship between returns is positive\n",
    "    - You will likely make money if the market goes up\n",
    "    - You will likely lose money if the market goes down\n",
    "    \n",
    "Consider instead a *hedged* investment\n",
    "- Go long 1 USD of $\\aapl$\n",
    "- Go short (hold a negative quantity) $\\beta_{\\aapl,\\spy}$ USD of the market proxy $\\spy$\n",
    "\n",
    "Your *hedged return* on this long/short portfolio will be\n",
    "$$\n",
    "{\\ret'}_{\\aapl}^\\tp = \\ret_\\aapl^\\tp - \\beta_{\\aapl, \\spy} * \\ret_\\spy^\\tp\n",
    "$$\n",
    "\n",
    "As long as\n",
    "$$\n",
    "\\ret_\\aapl^\\tp \\gt \\beta_{\\aapl, \\spy} * \\ret_\\spy^\\tp\n",
    "$$\n",
    "you will make a profit, regardless of whether the market proxy rises or falls !\n",
    "\n",
    "That is: you make money as long as $\\aapl$ *outperforms* the market proxy.\n"
   ]
  },
  {
   "cell_type": "markdown",
   "metadata": {
    "colab_type": "text",
    "id": "qJMBHrG7v3qm",
    "nbgrader": {
     "grade": false,
     "grade_id": "cell-4222c850e68f60c0",
     "locked": true,
     "solution": false
    }
   },
   "source": [
    "This hedged portfolio is interesting\n",
    "- Because your returns are independent of the market\n",
    "- The volatility of your returns is likely much lower than the volatility of the long-only investment\n",
    "- There is a belief that it is difficult to predict the market $\\ret_\\spy$\n",
    "- But you might be able to discover a ticker (e.g., $\\aapl$) that will outpeform the market\n",
    "\n",
    "This is a real world application of the Regression task in Finance."
   ]
  },
  {
   "cell_type": "markdown",
   "metadata": {
    "colab_type": "text",
    "id": "uLDdasNbv3qn",
    "nbgrader": {
     "grade": false,
     "grade_id": "cell-58c40149b618b7e9",
     "locked": true,
     "solution": false
    }
   },
   "source": [
    "## Compute the hedged return on the test data examples\n",
    "$$\n",
    "{\\ret'}_{\\aapl}^\\tp = \\ret_\\aapl^\\tp - \\beta_{\\aapl, \\spy} * \\ret_\\spy^\\tp\n",
    "$$\n",
    "for all dates $t$ in the **test set**.  \n",
    "\n",
    "**Question:**  \n",
    "\n",
    "Compute the hedged returns using your predicted series\n",
    "\n",
    "- Complete the function `compute_hedged_series()` \n",
    "    - It should use your model results and the **test exmples** to compute the hedged returns. The detailed description is in the function below\n",
    "\n",
    "**Hint**\n",
    "- An `sklearn` model, once fitted, may have attributes `coef_` that give you access to the parameters"
   ]
  },
  {
   "cell_type": "code",
   "execution_count": null,
   "metadata": {
    "colab": {},
    "colab_type": "code",
    "id": "klj5epucv3qn",
    "outputId": "7af9fc8e-334d-49f0-bc81-cf2a425e69f2"
   },
   "outputs": [],
   "source": [
    "hedged_series = None\n",
    "\n",
    "def compute_hedged_series(model, X, y):\n",
    "    '''\n",
    "    Compute the hedged series\n",
    "    \n",
    "    Parameters\n",
    "    ----------\n",
    "    model: A sklearn model\n",
    "    \n",
    "    X: DataFrame\n",
    "    - Index returns\n",
    "    \n",
    "    y: DataFrame\n",
    "    - Ticker returns\n",
    "    \n",
    "    Return\n",
    "    ------\n",
    "    ndarray\n",
    "    - Return series after hedged \n",
    "    '''\n",
    "    ### BEGIN SOLUTION\n",
    "    hedged_series = y.values - model.coef_[0][0] * X.values\n",
    "    return hedged_series\n",
    "    ### END SOLUTION\n",
    "\n",
    "hedged_series = compute_hedged_series(regr, X_test, y_test)\n",
    "print(hedged_series[:5])"
   ]
  },
  {
   "cell_type": "code",
   "execution_count": null,
   "metadata": {
    "colab": {},
    "colab_type": "code",
    "collapsed": true,
    "id": "bMte7fpBv3qp",
    "nbgrader": {
     "grade": true,
     "grade_id": "check-hedged-series",
     "locked": true,
     "points": 10,
     "solution": false
    }
   },
   "outputs": [],
   "source": [
    "### BEGIN HIDDEN TESTS\n",
    "def compute_hedged_series_(model, X, y):\n",
    "    hedged_series = y.values - model.coef_[0][0] * X.values\n",
    "    hedged_series = pd.DataFrame({'Return':hedged_series.flatten()})\n",
    "    return hedged_series.values.flatten()\n",
    "\n",
    "hedged_series_test = compute_hedged_series_(regr, X_test, y_test)\n",
    "assert np.allclose(hedged_series_test, np.array(hedged_series).flatten())\n",
    "### END HIDDEN TESTS"
   ]
  },
  {
   "cell_type": "code",
   "execution_count": null,
   "metadata": {
    "collapsed": true
   },
   "outputs": [],
   "source": []
  }
 ],
 "metadata": {
  "celltoolbar": "Create Assignment",
  "colab": {
   "name": "Using_Machine_Learning_for_Hedging.ipynb",
   "provenance": []
  },
  "kernelspec": {
   "display_name": "Python 3.7",
   "language": "python",
   "name": "python3"
  },
  "language_info": {
   "codemirror_mode": {
    "name": "ipython",
    "version": 3
   },
   "file_extension": ".py",
   "mimetype": "text/x-python",
   "name": "python",
   "nbconvert_exporter": "python",
   "pygments_lexer": "ipython3",
   "version": "3.7.5"
  },
  "toc": {
   "base_numbering": 1,
   "nav_menu": {},
   "number_sections": true,
   "sideBar": true,
   "skip_h1_title": false,
   "title_cell": "Table of Contents",
   "title_sidebar": "Contents",
   "toc_cell": false,
   "toc_position": {
    "height": "calc(100% - 180px)",
    "left": "10px",
    "top": "150px",
    "width": "370.594px"
   },
   "toc_section_display": true,
   "toc_window_display": true
  }
 },
 "nbformat": 4,
 "nbformat_minor": 1
}

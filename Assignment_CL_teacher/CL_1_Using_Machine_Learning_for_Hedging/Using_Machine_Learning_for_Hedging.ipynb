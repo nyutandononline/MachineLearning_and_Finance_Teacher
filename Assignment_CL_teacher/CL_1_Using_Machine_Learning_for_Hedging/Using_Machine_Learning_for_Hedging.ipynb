{
 "cells": [
  {
   "cell_type": "markdown",
   "metadata": {
    "nbgrader": {
     "grade": false,
     "locked": true,
     "solution": false
    }
   },
   "source": [
    "$$\n",
    "\\newcommand{\\x}{\\mathbf{x}}\n",
    "\\newcommand{\\y}{\\mathbf{y}}\n",
    "\\newcommand{\\price}{{p}}\n",
    "\\newcommand{\\ret}{{r}}\n",
    "\\newcommand{\\tp}{{(t)}}\n",
    "\\newcommand{\\aapl}{{\\text{AAPL}}}\n",
    "\\newcommand{\\ba}{{\\text{BA}}}\n",
    "\\newcommand{\\spy}{{\\text{SPY}}}\n",
    "$$"
   ]
  },
  {
   "cell_type": "markdown",
   "metadata": {
    "nbgrader": {
     "grade": false,
     "grade_id": "cell-6a258ba42be40271",
     "locked": true,
     "schema_version": 3,
     "solution": false,
     "task": false
    }
   },
   "source": [
    "# Assignment: Using Machine Learning for Hedging\n",
    "\n",
    "Welcome to the first assignment !\n",
    "\n",
    "# Problem description\n",
    "\n",
    "We will solve a Regression task that is very common in Finance\n",
    "- Given the return of \"the market\", predict the return of a particular stock\n",
    "\n",
    "That is\n",
    "- Given the return of a proxy for \"the market\" at time $t$, predict the return of, e.g., Apple at time $t$.\n",
    "\n",
    "As we will explain\n",
    "being able to predict the relationship between two financial instruments opens up possibilities\n",
    "- Use one instrument to \"hedge\" or reduce the risk of holding the other\n",
    "- Create strategies whose returns are independent of \"the market\"\n",
    "    - Hopefully make a profit regardless of whether the market goes up or down\n",
    "\n",
    "## Goal\n",
    "\n",
    "You will create models of increasing complexity in order to explain the return of Apple (ticker \\aapl)\n",
    "- The first model will have a single feature: return of the market proxy, ticker $\\spy$\n",
    "- Subsequent models will add the return of other tickers as additional features\n",
    "\n",
    "## Objectives\n",
    "- Learn how to solve a Regression taks\n",
    "- Become facile in the `sklearn` toolkit for Machine Learning\n",
    "\n",
    "## How to report your answers\n",
    "I will mix explanation of the topic with tasks that you must complete. Look for \n",
    "the string \"**Queston**\" to find a task that you must perform.\n",
    "Most of the tasks will require you to assign values to variables and execute a `print` statement.\n",
    "\n",
    "**Motivation**\n",
    "\n",
    "If you **do not change** the print statement then the GA (or a machine) can automatically find your answer to each part by searching for the string.\n"
   ]
  },
  {
   "cell_type": "markdown",
   "metadata": {
    "nbgrader": {
     "grade": false,
     "locked": true,
     "solution": false
    }
   },
   "source": [
    "# Standard imports"
   ]
  },
  {
   "cell_type": "code",
   "execution_count": null,
   "metadata": {
    "collapsed": true,
    "nbgrader": {
     "grade": false,
     "grade_id": "cell-f32245b227ef3443",
     "locked": true,
     "solution": false
    }
   },
   "outputs": [],
   "source": [
    "# Standard imports\n",
    "import numpy as np\n",
    "import pandas as pd\n",
    "import matplotlib.pyplot as plt\n",
    "\n",
    "import sklearn\n",
    "\n",
    "import os\n",
    "import math\n",
    "\n",
    "%matplotlib inline"
   ]
  },
  {
   "cell_type": "markdown",
   "metadata": {
    "nbgrader": {
     "grade": false,
     "locked": true,
     "solution": false
    }
   },
   "source": [
    "# API for students\n",
    "\n",
    "We will define some utility routines.\n",
    "\n",
    "This will simplify problem solving\n",
    "\n",
    "helper = helper.HELPER()\n",
    "- getData: get the data of a ticker list, used as follows    \n",
    "    > `tickers` is a list of tickers      \n",
    "    > `index` is the ticker of index     \n",
    "    > `DATA_DIR` is the data directory       \n",
    "    > `attrs` is a list of data attributes to retain       \n",
    "    > `data = helper.getData(tickers, index, DATA_DIR, attrs)`"
   ]
  },
  {
   "cell_type": "code",
   "execution_count": null,
   "metadata": {
    "collapsed": true,
    "nbgrader": {
     "grade": false,
     "locked": true,
     "solution": false
    }
   },
   "outputs": [],
   "source": [
    "from IPython.core.interactiveshell import InteractiveShell\n",
    "InteractiveShell.ast_node_interactivity = \"all\"\n",
    "\n",
    "# Reload all modules imported with %aimport\n",
    "%load_ext autoreload\n",
    "%autoreload 1\n",
    "\n",
    "# Import nn_helper module\n",
    "import helper\n",
    "%aimport helper\n",
    "\n",
    "helper = helper.HELPER()"
   ]
  },
  {
   "cell_type": "markdown",
   "metadata": {
    "nbgrader": {
     "grade": false,
     "grade_id": "cell-0e22b5a64e1a66aa",
     "locked": true,
     "schema_version": 3,
     "solution": false,
     "task": false
    }
   },
   "source": [
    "# Get The data\n",
    "\n",
    "The data are the daily prices of a number of individual equities and equity indices.\n",
    "The prices are arranged in a series in ascending date order (a timeseries).\n",
    "- There are many `.csv` files for equity or index in the directory `/resource/asnlib/publicdata/data`\n",
    "\n",
    "The first step in our Recipe is Get the Data.\n",
    "\n",
    "We have provided a utility method `getData` to simplify this for you\n",
    "      \n",
    "**Question:**\n",
    "- Get the adjusted close price of AAPL and SPY \n",
    "\n",
    "**Hint:**\n",
    "- look up the Pandas `read_csv()` method"
   ]
  },
  {
   "cell_type": "code",
   "execution_count": null,
   "metadata": {},
   "outputs": [],
   "source": [
    "DATA_DIR = './data'\n",
    "if not os.path.isdir(DATA_DIR):\n",
    "    DATA_DIR  = \"../resource/asnlib/publicdata/data\"\n",
    "\n",
    "ticker = \"AAPL\"\n",
    "index_ticker = \"SPY\"\n",
    "dateAttr = \"Dt\"\n",
    "priceAttr = \"Adj Close\"\n",
    "\n",
    "### BEGIN SOLUTION\n",
    "data = helper.getData([ticker], index_ticker, DATA_DIR, [priceAttr])\n",
    "### END SOLUTION"
   ]
  },
  {
   "cell_type": "markdown",
   "metadata": {
    "nbgrader": {
     "grade": false,
     "locked": true,
     "solution": false
    }
   },
   "source": [
    "# Have a look at the data\n",
    "\n",
    "We will not go through all steps in the Recipe, nor in depth.\n",
    "\n",
    "But here's a peek"
   ]
  },
  {
   "cell_type": "code",
   "execution_count": null,
   "metadata": {},
   "outputs": [],
   "source": [
    "data.head()"
   ]
  },
  {
   "cell_type": "markdown",
   "metadata": {
    "nbgrader": {
     "grade": false,
     "locked": true,
     "solution": false
    }
   },
   "source": [
    "Expected outputs should be similar to this:   \n",
    "data:    \n",
    "<table> \n",
    "    <tr> \n",
    "        <td>Dt</td><td>AAPL_Adj_Close</td><td>SPY_Adj_Close</td>\n",
    "    </tr>\n",
    "    <tr> \n",
    "        <td>2017-01-03</td><td>110.9539</td><td>213.8428</td> \n",
    "    </tr>\n",
    "    <tr> \n",
    "        <td>2017-01-04</td><td>110.8297</td><td>215.1149</td>\n",
    "    </tr>\n",
    "    <tr> \n",
    "        <td>2017-01-05</td><td>111.3933</td><td>214.9440</td>\n",
    "    </tr>\n",
    "    <tr> \n",
    "        <td>2017-01-06</td><td>112.6351</td><td>215.7131</td> \n",
    "    </tr>\n",
    "    <tr> \n",
    "        <td>2017-01-09</td><td>113.6668</td> <td>215.0010</td>\n",
    "    </tr>\n",
    "</table>   "
   ]
  },
  {
   "cell_type": "code",
   "execution_count": null,
   "metadata": {},
   "outputs": [],
   "source": [
    "# Print the Start time and End time\n",
    "print(\"Start time: \", data.index.min())\n",
    "print(\"End time: \", data.index.max())"
   ]
  },
  {
   "cell_type": "markdown",
   "metadata": {
    "nbgrader": {
     "grade": false,
     "locked": true,
     "solution": false
    }
   },
   "source": [
    "As you can see, our data has two attributes for each date\n",
    "- Price (adjusted close) of ticker $\\aapl$\n",
    "- Price (adjusted close) of the market proxy $\\spy$"
   ]
  },
  {
   "cell_type": "markdown",
   "metadata": {
    "nbgrader": {
     "grade": false,
     "locked": true,
     "solution": false
    }
   },
   "source": [
    "# Prepare the data\n",
    "\n",
    "In Finance, it is very typical to work with *relative changes* (e.g., percent price change)\n",
    "rather than *absolute changes* (price change) or *levels* (prices).\n",
    "\n",
    "Without going into too much detail\n",
    "- Relative changes are more consistent over time than either absolute changes or levels\n",
    "- The consistency can facilitate the use of data over a longer time period\n",
    "\n",
    "For example, let's suppose that prices are given in units of USD (dollar)\n",
    "- A price change of 1 USD is more likely for a stock with price level 100 than price level 10\n",
    "    - A relative change of $1/100 = 1 %$ is more likely than a change of $1/10 = 10%$\n",
    "    - So relative changes are less dependent on price level than either price changes or price levels\n",
    "    \n",
    "    \n",
    "To compute the *return* (percent change in prices)\n",
    " for ticker $\\aapl$ (Apple) on date $t$\n",
    "\n",
    "$$\n",
    "\\begin{array}[lll]\\\\\n",
    "\\ret_\\aapl^\\tp = \\frac{\\price _\\aapl^\\tp}{\\price _\\aapl^{(t-1)}} -1 \\\\\n",
    "\\text{where} \\\\\n",
    "\\price_\\aapl^\\tp \\text{ denotes the price of ticker } \\aapl \\text{ on date } t \\\\\n",
    "\\ret_\\aapl^\\tp \\text{ denotes the return of ticker } \\aapl \\text{ on date } t\n",
    "\\end{array}\n",
    "$$\n"
   ]
  },
  {
   "cell_type": "markdown",
   "metadata": {},
   "source": [
    "# Transformations: transform the training data\n",
    "\n",
    "Our first task is to transform the data from price levels (Adj Close)\n",
    "to Percent Price Changes.\n",
    "\n",
    "Moreover, the date range for the training data is specified to be in the range\n",
    "from `start_dt` (start date) to `end_dt`, inclusive on both sides.\n",
    "\n",
    "**Note**\n",
    "\n",
    "We will need to apply **identical** transformations to both the training and test data examples.\n",
    "\n",
    "In the cells that immediately follow, we will do this only for the **training data**\n",
    "\n",
    "You will need to repeat these steps for the test data in a subsequent step.\n",
    "\n",
    "You are well-advised to create subroutines or functions to accomplish these tasks !\n",
    "- You will apply them first to transform training data\n",
    "- You will apply them a second time to transform the test data\n",
    "\n",
    "We will achieve this is several steps"
   ]
  },
  {
   "cell_type": "markdown",
   "metadata": {},
   "source": [
    "## Create Dataframe of price levels for the training examples\n",
    "\n",
    "- The Dataframe should have two columns: the price level for the ticker and for the index\n",
    "- The minimum date in the Dataframe should be **the day before** `start_dt`\n",
    "- The maximum date in the Dataframe shold be `end_dt`\n",
    "\n",
    "The reason we are adding one day prior to `start_dt`\n",
    "- We want to have returns (percent price changes) from `start_dt` onwards\n",
    "- In order to compute a return for `start_dt`, we need the level from the prior day\n",
    "\n",
    "**Question:**\n",
    "- Complete the function `getRange()` to select the data between \"2017-12-29\" and \"2018-09-28\" as training data\n",
    "- Set variable train_data_price to be a pandas DataFrame with two columns AAPL_Adj_Close, SPY_Adj_Close and with dates as the index, having minimum date equal to THE DAY BEFORE start_dt and maximum date equal to end_dt"
   ]
  },
  {
   "cell_type": "code",
   "execution_count": null,
   "metadata": {},
   "outputs": [],
   "source": [
    "start_dt = \"2018-01-02\"\n",
    "end_dt = \"2018-09-28\"\n",
    "train_data_price = None\n",
    "\n",
    "def getRange(df, start_dt, end_dt):\n",
    "    '''\n",
    "    Return the data in 2018 with two columns AAPL_Adj_Close, SPY_Adj_Close and with dates as the index\n",
    "    \n",
    "    Parameters\n",
    "    ----------\n",
    "    start_dt: String\n",
    "    - Start date, but you need to add one more day prior to this start_dt\n",
    "    \n",
    "    end_dt: String\n",
    "    - End date\n",
    "    '''\n",
    "    ### BEGIN SOLUTION\n",
    "    dates = data.index.to_list()\n",
    "    \n",
    "    # Find the position of start_dt in the list of dates (so we can find the day before)\n",
    "    start_pos = dates.index(start_dt)\n",
    "\n",
    "    # Return the slice of the date range\n",
    "    return data[ dates[ start_pos -1 ]:end_dt]\n",
    "    ### END SOLUTION\n",
    "\n",
    "train_data_price = getRange(data, start_dt, end_dt)\n",
    "print(train_data_price.head())"
   ]
  },
  {
   "cell_type": "code",
   "execution_count": null,
   "metadata": {
    "collapsed": true,
    "nbgrader": {
     "grade": true,
     "grade_id": "check-get-time-range",
     "locked": true,
     "points": "10",
     "solution": false
    }
   },
   "outputs": [],
   "source": [
    "### BEGIN HIDDEN TESTS\n",
    "assert train_data_price.index.min() == '2017-12-29'\n",
    "assert train_data_price.index.max() == '2018-09-28'\n",
    "### END HIDDEN TESTS"
   ]
  },
  {
   "cell_type": "markdown",
   "metadata": {
    "nbgrader": {
     "grade": false,
     "locked": true,
     "solution": false
    }
   },
   "source": [
    "## Create Dataframe of returns for training examples\n",
    "\n",
    "Create a new Dataframe with percent price changes of the columns, rather than the levles\n",
    "\n",
    "**Question:**\n",
    "- Complete function `getReturns()` to compute the returns of tickers. Name the column of returns \"Return\"\n",
    "- Set variable train_data_ret to a DataFrame with two columns containing the day over day percent changes in AAPL_Adj_Close, SPY_Adj_Close with dates as the index\n",
    "- Please continue to name these columns with their original names (AAPL_Adj_Close, SPY_Adj_Close). We will rename the columns to reflect the data in the next step\n",
    "\n",
    "**Hint:**\n",
    "- look up the Pandas `pct_change()` method    "
   ]
  },
  {
   "cell_type": "code",
   "execution_count": null,
   "metadata": {},
   "outputs": [],
   "source": [
    "train_data_df = None\n",
    "\n",
    "def getReturns(df, start_dt, end_dt):\n",
    "    '''\n",
    "    Return the day over day percent changes of adjusted price\n",
    "    '''\n",
    "    ### BEGIN SOLUTION\n",
    "    df_range = getRange(df, start_dt, end_dt)\n",
    "    return df_range.pct_change()\n",
    "    ### END SOLUTION\n",
    "\n",
    "train_data_ret = getReturns(train_data_price, start_dt, end_dt)\n",
    "print(train_data_ret.head())"
   ]
  },
  {
   "cell_type": "code",
   "execution_count": null,
   "metadata": {
    "collapsed": true,
    "nbgrader": {
     "grade": true,
     "grade_id": "check-get-returns",
     "locked": true,
     "points": "20",
     "solution": false
    }
   },
   "outputs": [],
   "source": [
    "### BEGIN HIDDEN TESTS\n",
    "def getReturns_(df, start_dt, end_dt):\n",
    "    df_range = getRange(df, start_dt, end_dt)\n",
    "    return df_range.pct_change()\n",
    "\n",
    "train_data_ret_test = getReturns_(train_data_price, start_dt, end_dt)\n",
    "assert np.allclose(train_data_ret.values[1:,:], train_data_ret_test.values[1:,:])\n",
    "### END HIDDEN TESTS"
   ]
  },
  {
   "cell_type": "code",
   "execution_count": null,
   "metadata": {},
   "outputs": [],
   "source": [
    "## Rename the columns to indicate that they have been transformed from price (Adj_close) to Return\n",
    "def renamePriceToRet(df):\n",
    "    rename_map = { }\n",
    "    rename_map = { orig:  orig.replace( priceAttr.replace(\" \", \"_\"), \"Ret\") for orig in df.columns.to_list() }\n",
    "    return df.rename(columns = rename_map)\n",
    "\n",
    "train_data_ret = renamePriceToRet( train_data_ret )\n",
    "\n",
    "## Drop the first date (the day before `start_dt`) since it has an undefied return\n",
    "train_data_ret = train_data_ret[ start_dt:]\n",
    "print(train_data_ret.head())"
   ]
  },
  {
   "cell_type": "markdown",
   "metadata": {
    "nbgrader": {
     "grade": false,
     "locked": true,
     "solution": false
    }
   },
   "source": [
    "Expected outputs should be similar to this:   \n",
    "data:    \n",
    "<table> \n",
    "    <tr> \n",
    "        <td>Dt</td><td>AAPL_Ret</td><td>SPY_Ret</td>\n",
    "    </tr>\n",
    "    <tr> \n",
    "        <td>2018-01-02</td><td>0.017905</td><td>0.006325</td>\n",
    "    </tr>\n",
    "    <tr> \n",
    "        <td>2018-01-03</td><td>-0.000174</td><td>0.006325</td>\n",
    "    </tr>\n",
    "    <tr> \n",
    "        <td>2018-01-04</td><td>0.004645</td><td>0.004215</td> \n",
    "    </tr>\n",
    "    <tr> \n",
    "        <td>2018-01-05</td><td>0.011385</td><td>0.006664</td>\n",
    "    </tr>\n",
    "    <tr> \n",
    "        <td>2018-01-08</td><td>-0.003714</td><td>0.001829</td>\n",
    "    </tr>\n",
    "</table>   "
   ]
  },
  {
   "cell_type": "markdown",
   "metadata": {
    "nbgrader": {
     "grade": false,
     "locked": true,
     "solution": false
    }
   },
   "source": [
    "## Remove the target (AAPL_Ret)\n",
    "\n",
    "The only feature is the return of the market proxy $\\spy$.\n",
    "\n",
    "Predicting the target given the target as a feature would be cheating !"
   ]
  },
  {
   "cell_type": "code",
   "execution_count": null,
   "metadata": {
    "collapsed": true
   },
   "outputs": [],
   "source": [
    "targetAttr = index_ticker + \"_Ret\"\n",
    "X_train, y_train =  train_data_ret[ [targetAttr] ], train_data_ret.drop(columns=[ targetAttr ] )"
   ]
  },
  {
   "cell_type": "markdown",
   "metadata": {
    "nbgrader": {
     "grade": false,
     "locked": true,
     "solution": false
    }
   },
   "source": [
    "# Transformations: transform the test data\n",
    "\n",
    "The test data will be returns from `test_start_dt` to `test_end_dt` inclusive.\n",
    "\n",
    "We will apply identical transformations as we did to the training data, but with a different date range.\n",
    "\n",
    "Test data is between \"2018-10-01\" to \"2018-12-31\""
   ]
  },
  {
   "cell_type": "markdown",
   "metadata": {
    "nbgrader": {
     "grade": false,
     "locked": true,
     "solution": false
    }
   },
   "source": [
    "**Question:**\n",
    "- Repeat the steps of transforming training data to transform test data\n",
    "    - select the testing time\n",
    "    - create returns\n",
    "    - rename columns\n",
    "    - drop the first date\n",
    "    - remove the target"
   ]
  },
  {
   "cell_type": "code",
   "execution_count": null,
   "metadata": {},
   "outputs": [],
   "source": [
    "test_start_dt = '2018-10-01'\n",
    "test_end_dt = '2018-12-31'\n",
    "test_data_ret = None\n",
    "X_test = None\n",
    "y_test = None\n",
    "\n",
    "### BEGIN SOLUTION\n",
    "test_data_price = getRange(data, test_start_dt, test_end_dt, )\n",
    "test_data_ret = getReturns(test_data_price, test_start_dt, test_end_dt)\n",
    "test_data_ret = renamePriceToRet( test_data_ret )\n",
    "test_data_ret = test_data_ret[ test_start_dt:]\n",
    "targetAttr = index_ticker + \"_Ret\"\n",
    "X_test, y_test = test_data_ret.drop(columns=[ targetAttr ] ), test_data_ret[ [targetAttr] ]\n",
    "### END SOLUTION\n",
    "\n",
    "print(\"test data length\", test_data_ret.shape[0])\n",
    "print(\"X test length\", X_test.shape[0])\n",
    "print(\"y test length\", y_test.shape[0])\n",
    "print(test_data_ret.head())"
   ]
  },
  {
   "cell_type": "markdown",
   "metadata": {
    "nbgrader": {
     "grade": false,
     "locked": true,
     "solution": false
    }
   },
   "source": [
    "Expected outputs should be similar to this:        \n",
    "test data length 63      \n",
    "X test length 63      \n",
    "y test length 63       \n",
    "data:    \n",
    "<table> \n",
    "    <tr> \n",
    "        <td>Dt</td><td>AAPL_Ret</td><td>SPY_Ret</td>\n",
    "    </tr>\n",
    "    <tr> \n",
    "        <td>2018-10-01</td><td>0.006733</td><td>0.003474</td>\n",
    "    </tr>\n",
    "    <tr> \n",
    "        <td>2018-10-02</td><td>0.008888</td><td>-0.000583</td>\n",
    "    </tr>\n",
    "    <tr> \n",
    "        <td>2018-10-03</td><td>0.012169</td><td>0.000548</td> \n",
    "    </tr>\n",
    "    <tr> \n",
    "        <td>2018-10-04</td><td>-0.017581</td><td>-0.007815</td>\n",
    "    </tr>\n",
    "    <tr> \n",
    "        <td>2018-10-05</td><td>-0.016229</td><td>-0.005597</td>\n",
    "    </tr>\n",
    "</table>   "
   ]
  },
  {
   "cell_type": "code",
   "execution_count": null,
   "metadata": {
    "collapsed": true,
    "nbgrader": {
     "grade": true,
     "grade_id": "check-transform-test-data",
     "locked": true,
     "points": "20",
     "solution": false
    }
   },
   "outputs": [],
   "source": [
    "### BEGIN HIDDEN TESTS\n",
    "test_data_price_ = getRange(data, test_start_dt, test_end_dt, )\n",
    "test_data_ret_ = getReturns_(test_data_price_, test_start_dt, test_end_dt)\n",
    "test_data_ret_ = renamePriceToRet( test_data_ret_ )\n",
    "test_data_ret_ = test_data_ret_[ test_start_dt:]\n",
    "targetAttr = index_ticker + \"_Ret\"\n",
    "X_test_, y_test_ = test_data_ret_.drop(columns=[ targetAttr ] ), test_data_ret_[ [targetAttr] ]\n",
    "assert np.allclose(X_test_, X_test)\n",
    "assert np.allclose(y_test_, y_test)\n",
    "### END HIDDEN TESTS"
   ]
  },
  {
   "cell_type": "markdown",
   "metadata": {
    "nbgrader": {
     "grade": false,
     "grade_id": "cell-6c933eb1e2a23c0a",
     "locked": true,
     "schema_version": 3,
     "solution": false,
     "task": false
    }
   },
   "source": [
    "# Train a model (Regression)\n",
    "\n",
    "Use Linear Regression to predict the return of a ticker from the return of the market proxy $\\spy$.\n",
    "For example, for ticker $\\aapl$\n",
    "\n",
    "$$\n",
    "\\ret_\\aapl^\\tp = \\beta_0 + \\beta_{\\aapl, \\spy} * \\ret_\\spy^\\tp + \\epsilon_{\\aapl}^\\tp\n",
    "$$\n",
    "\n",
    "Each example corresponds to one day (time $t$)\n",
    "- has features\n",
    "    - constant 1, corresponding to the intercept parameter\n",
    "    - return of the market proxy $\\spy$\n",
    "       $$\\x^\\tp = \\begin{pmatrix}\n",
    "        1 \\\\\n",
    "        \\ret_\\spy^\\tp\n",
    "        \\end{pmatrix}$$\n",
    "\n",
    "- has target\n",
    "    - return of the ticker\n",
    "    $$\\y^\\tp = \\ret_\\aapl^\\tp$$\n",
    "\n",
    " \n",
    "You will use Linear Regression to solve for parameters $\\beta_0$,  $\\beta_{\\aapl, \\spy}$ \n",
    "\n",
    "- In the lectures we used the symbol $\\Theta$ to denote the parameter vector; here we use $\\mathbf{\\beta}$\n",
    "- In Finance the symbol $\\beta$ is often used to denote the relationship between returns.\n",
    "- Rather than explicitly creating a constant 1 feature\n",
    "    - you may invoke the model object with the option including an intercept\n",
    "    - if you do so, the feature vector you pass will be\n",
    "   $$\\x^\\tp = \\begin{pmatrix}\n",
    "        \\ret_\\spy^\\tp\n",
    "        \\end{pmatrix}$$  \n",
    "    \n",
    "\n",
    "\n",
    "- Use the entire training set\n",
    "- Do not use cross-validation"
   ]
  },
  {
   "cell_type": "markdown",
   "metadata": {},
   "source": [
    "**Questions:**\n",
    "- Complete the function `createModel()` to build your linear regression model\n",
    "- Complete the function `regress()` to do regression and return intercept and coefficients\n",
    "- Replace the 0 values in the following cell with your answers, and execute the print statements\n"
   ]
  },
  {
   "cell_type": "code",
   "execution_count": null,
   "metadata": {
    "nbgrader": {
     "grade": false,
     "grade_id": "ticker-regression",
     "locked": false,
     "schema_version": 3,
     "solution": true,
     "task": false
    }
   },
   "outputs": [],
   "source": [
    "from sklearn import datasets, linear_model\n",
    "\n",
    "beta_0 = 0    # The regression parameter for the constant\n",
    "beta_SPY = 0  # The regression parameter for the return of SPY\n",
    "ticker = \"AAPL\"\n",
    "\n",
    "def createModel():\n",
    "    '''\n",
    "    Build your linear regression model using sklearn\n",
    "    '''\n",
    "    ### BEGIN SOLUTION\n",
    "    model = linear_model.LinearRegression()\n",
    "    return model\n",
    "    ### END SOLUTION\n",
    "\n",
    "def regress(model, X, y):\n",
    "    '''\n",
    "    Do regression using returns of your ticker and index\n",
    "    \n",
    "    Arguments:\n",
    "    model: model you build with method \"createModel()\"\n",
    "    X: ticker returns\n",
    "    y: index returns\n",
    "    '''\n",
    "    ### BEGIN SOLUTION\n",
    "    _= model.fit( X.values, y.values )\n",
    "    \n",
    "    return model.intercept_[0], model.coef_[0][0]\n",
    "    ### END SOLUTION\n",
    "\n",
    "# Assign to answer variables\n",
    "### BEGIN SOLUTION\n",
    "regr = createModel()\n",
    "\n",
    "beta_0, beta_SPY = regress(regr, X_train, y_train)\n",
    "\n",
    "### END SOLUTION\n",
    "\n",
    "print(\"{t:s}: beta_0={b0:3.3f}, beta_SPY={b1:3.3f}\".format(t=ticker, b0=beta_0, b1=beta_SPY))"
   ]
  },
  {
   "cell_type": "markdown",
   "metadata": {
    "nbgrader": {
     "grade": false,
     "locked": true,
     "solution": false
    }
   },
   "source": [
    "Your expected outputs should be:\n",
    "<table> \n",
    "    <tr> \n",
    "        <td>  \n",
    "            beta_0\n",
    "        </td>\n",
    "        <td>\n",
    "         0.001\n",
    "        </td>\n",
    "    </tr>\n",
    "    <tr> \n",
    "        <td>\n",
    "            beta_SPY\n",
    "        </td>\n",
    "        <td>\n",
    "         1.071\n",
    "        </td>\n",
    "    </tr>\n",
    "\n",
    "</table>"
   ]
  },
  {
   "cell_type": "code",
   "execution_count": null,
   "metadata": {
    "collapsed": true,
    "nbgrader": {
     "grade": true,
     "grade_id": "check-ticker-regression",
     "locked": true,
     "points": "20",
     "schema_version": 3,
     "solution": false,
     "task": false
    }
   },
   "outputs": [],
   "source": [
    "### BEGIN HIDDEN TESTS\n",
    "def createModel_():\n",
    "    model = linear_model.LinearRegression()\n",
    "    return model\n",
    "\n",
    "def regress_(model, X, y):\n",
    "    _= model.fit( X.values, y.values )\n",
    "    \n",
    "    return model.intercept_[0], model.coef_[0][0]\n",
    "\n",
    "model_test = createModel_()\n",
    "aapl_beta_0, aapl_beta_1 = regress_(model_test, X_train, y_train)\n",
    "assert np.allclose( [beta_0, beta_SPY], [aapl_beta_0, aapl_beta_1] )\n",
    "### END HIDDEN TESTS"
   ]
  },
  {
   "cell_type": "markdown",
   "metadata": {
    "nbgrader": {
     "grade": false,
     "locked": true,
     "solution": false
    }
   },
   "source": [
    "## Train the model using Cross valiation\n",
    "\n",
    "Use 5-fold cross validation\n",
    "\n",
    "**Question:**\n",
    "- Complete the function `compute_cross_val_avg()` to compute the average score of 5-fold cross validation\n",
    "- Replace the 0 values in the following cell with your answers, and execute the print statements\n",
    "\n",
    "**Hint:**  \n",
    "- You can use the `cross_val_score` in `sklearn.model_selection`"
   ]
  },
  {
   "cell_type": "code",
   "execution_count": null,
   "metadata": {},
   "outputs": [],
   "source": [
    "from sklearn.model_selection import cross_val_score\n",
    "\n",
    "cross_val_avg = 0 # average score of cross validation\n",
    "k = 5             # 5-fold cross validation\n",
    "\n",
    "def compute_cross_val_avg(model, X, y, k):\n",
    "    '''\n",
    "    Compute the average score of k-fold cross validation\n",
    "    \n",
    "    Arguments:\n",
    "    model: model you build with method \"createModel()\"\n",
    "    X: ticker returns\n",
    "    y: index returns\n",
    "    k: k-fold cross validation\n",
    "    '''\n",
    "    ### BEGIN SOLUTION\n",
    "    cross_val_score_ = cross_val_score(model, X, y, cv=k)\n",
    "    return np.mean(cross_val_score_)\n",
    "    ### END SOLUTION\n",
    "\n",
    "    \n",
    "cross_val_avg = compute_cross_val_avg(regr, X_train, y_train, 5)\n",
    "print(\"{t:s}: Avg cross val score = {sc:3.2f}\".format(t=ticker, sc=cross_val_avg) )"
   ]
  },
  {
   "cell_type": "code",
   "execution_count": null,
   "metadata": {
    "collapsed": true,
    "nbgrader": {
     "grade": true,
     "grade_id": "Check-cross-validation",
     "locked": true,
     "points": "10",
     "solution": false
    }
   },
   "outputs": [],
   "source": [
    "### BEGIN HIDDEN TESTS\n",
    "def compute_cross_val_avg_(model, X, y, k):\n",
    "    cross_val_score_ = cross_val_score(model, X, y, cv=k)\n",
    "    return np.mean(cross_val_score_)\n",
    "cross_val_avg_ = compute_cross_val_avg_(regr, X_train, y_train, 5)\n",
    "assert np.allclose(cross_val_avg, cross_val_avg_)\n",
    "### END HIDDEN TESTS"
   ]
  },
  {
   "cell_type": "markdown",
   "metadata": {
    "nbgrader": {
     "grade": false,
     "locked": true,
     "solution": false
    }
   },
   "source": [
    "## Evaluate Loss (in sample RMSE) and Performance (Out of sample RMSE)\n",
    "\n",
    "**Question:**\n",
    "- Complete the function `computeRMSE()` to calculate the Root of Mean Square Error (RMSE)\n",
    "- Replace the 0 values in the following cell with your answers, and execute the print statements"
   ]
  },
  {
   "cell_type": "code",
   "execution_count": null,
   "metadata": {},
   "outputs": [],
   "source": [
    "from sklearn.metrics import mean_squared_error\n",
    "\n",
    "rmse_in_sample = 0 # in sample loss\n",
    "rmse_out_sample = 0 # out of sample performance\n",
    "\n",
    "# Predicted  in-sample returns of AAPL using SPY index\n",
    "aapl_predicted_in_sample = regr.predict(X_train)\n",
    "# Predicted out-of-sample returns of AAPL using SPY index\n",
    "aapl_predicted_out_sample = regr.predict(X_test)\n",
    "\n",
    "def computeRMSE( target, predicted ):\n",
    "    '''\n",
    "    Calculate the RMSE\n",
    "    \n",
    "    Arguments:\n",
    "    target: real ticker returns\n",
    "    predicted: predicted ticker returns\n",
    "    '''\n",
    "    ### BEGIN SOLUTION\n",
    "    rmse = np.sqrt( mean_squared_error(target,  predicted))\n",
    "    return rmse\n",
    "    ### END SOLUTION\n",
    "    \n",
    "rmse_in_sample = computeRMSE(y_train, aapl_predicted_in_sample)\n",
    "rmse_out_sample = computeRMSE(y_test, aapl_predicted_out_sample)\n",
    "\n",
    "print(\"In Sample Root Mean squared error: {:.3f}\".format( rmse_in_sample ) )\n",
    "print(\"Out of Sample Root Mean squared error: {:.3f}\".format( rmse_out_sample ) )"
   ]
  },
  {
   "cell_type": "code",
   "execution_count": null,
   "metadata": {
    "collapsed": true,
    "nbgrader": {
     "grade": true,
     "grade_id": "check-evaluation",
     "locked": true,
     "points": "10",
     "solution": false
    }
   },
   "outputs": [],
   "source": [
    "### BEGIN HIDDEN TESTS\n",
    "def computeRMSE_( target, predicted ):\n",
    "    rmse = np.sqrt( mean_squared_error(target,  predicted))\n",
    "    return rmse\n",
    "rmse_in_sample_test = computeRMSE_(y_train, regr.predict(X_train))\n",
    "rmse_out_sample_test = computeRMSE_(y_test, regr.predict(X_test))\n",
    "assert np.allclose(rmse_in_sample, rmse_in_sample_test)\n",
    "assert np.allclose(rmse_out_sample, rmse_out_sample_test)\n",
    "### END HIDDEN TESTS"
   ]
  },
  {
   "cell_type": "markdown",
   "metadata": {
    "nbgrader": {
     "grade": false,
     "locked": true,
     "solution": false
    }
   },
   "source": [
    "## Hedged returns\n",
    "\n",
    "Why is being able to predict the return of a ticker, given the return of another instrument (e.g., the market proxy) useful ?\n",
    "- It **does not** allow us to predict the future\n",
    "    - To predict $\\ret_\\aapl^\\tp$, we require the same day return of the proxy $\\ret_\\spy$\n",
    "- It **does** allow us to predict how much $\\aapl$ will outperform the market proxy\n",
    "\n",
    "Consider an investment that goes long (i.e, holds a positive quantity of $\\aapl$\n",
    "- Since the relationship between returns is positive\n",
    "    - You will likely make money if the market goes up\n",
    "    - You will likely lose money if the market goes down\n",
    "    \n",
    "Consider instead a *hedged* investment\n",
    "- Go long 1 USD of $\\aapl$\n",
    "- Go short (hold a negative quantity) $\\beta_{\\aapl,\\spy}$ USD of the market proxy $\\spy$\n",
    "\n",
    "Your *hedged return* on this long/short portfolio will be\n",
    "$$\n",
    "{\\ret'}_{\\aapl}^\\tp = \\ret_\\aapl^\\tp - \\beta_{\\aapl, \\spy} * \\ret_\\spy^\\tp\n",
    "$$\n",
    "\n",
    "As long as\n",
    "$$\n",
    "\\ret_\\aapl^\\tp \\gt \\beta_{\\aapl, \\spy} * \\ret_\\spy^\\tp\n",
    "$$\n",
    "you will make a profit, regardless of whether the market proxy rises or falls !\n",
    "\n",
    "That is: you make money as long as $\\aapl$ *outperforms* the market proxy.\n"
   ]
  },
  {
   "cell_type": "markdown",
   "metadata": {
    "nbgrader": {
     "grade": false,
     "locked": true,
     "solution": false
    }
   },
   "source": [
    "This hedged portfolio is interesting\n",
    "- Because your returns are independent of the market\n",
    "- The volatility of your returns is likely much lower than the volatility of the long-only investment\n",
    "- There is a belief that it is difficult to predict the market $\\ret_\\spy$\n",
    "- But you might be able to discover a ticker (e.g., $\\aapl$) that will outpeform the market\n",
    "\n",
    "This is a real world application of the Regression task in Finance."
   ]
  },
  {
   "cell_type": "markdown",
   "metadata": {
    "nbgrader": {
     "grade": false,
     "locked": true,
     "solution": false
    }
   },
   "source": [
    "## Compute the hedged return on the test data examples\n",
    "$$\n",
    "{\\ret'}_{\\aapl}^\\tp = \\ret_\\aapl^\\tp - \\beta_{\\aapl, \\spy} * \\ret_\\spy^\\tp\n",
    "$$\n",
    "for all dates $t$ in the **test set**.  \n",
    "\n",
    "**Question:**\n",
    "- Complete the function `compute_hedged_series` to get the hedged series"
   ]
  },
  {
   "cell_type": "code",
   "execution_count": null,
   "metadata": {},
   "outputs": [],
   "source": [
    "hedged_series = pd.DataFrame()\n",
    "\n",
    "def compute_hedged_series(model, X, y):\n",
    "    '''\n",
    "    Compute the hedged series\n",
    "    \n",
    "    Arguments:\n",
    "    model: model you build with method \"createModel()\"\n",
    "    X: ticker returns in test dataset\n",
    "    y: index returns in test dataset\n",
    "    '''\n",
    "    ### BEGIN SOLUTION\n",
    "    hedged_series = X.values - model.coef_[0][0] * y.values\n",
    "    hedged_series = pd.DataFrame({'Return':hedged_series.flatten()}, index=X.index)\n",
    "    return hedged_series\n",
    "    ### END SOLUTION\n",
    "\n",
    "hedged_series = compute_hedged_series(regr, X_test, y_test)\n",
    "print(hedged_series.head())"
   ]
  },
  {
   "cell_type": "code",
   "execution_count": null,
   "metadata": {
    "collapsed": true,
    "nbgrader": {
     "grade": true,
     "grade_id": "check-hedged-series",
     "locked": true,
     "points": "10",
     "solution": false
    }
   },
   "outputs": [],
   "source": [
    "### BEGIN HIDDEN TESTS\n",
    "def compute_hedged_series_(model, X, y):\n",
    "    hedged_series = X.values - model.coef_[0][0] * y.values\n",
    "    hedged_series = pd.DataFrame({'Return':hedged_series.flatten()}, index=X.index)\n",
    "    return hedged_series\n",
    "\n",
    "hedged_series_test = compute_hedged_series_(regr, X_test, y_test)\n",
    "assert np.allclose(hedged_series_test, hedged_series)\n",
    "### END HIDDEN TESTS"
   ]
  },
  {
   "cell_type": "code",
   "execution_count": null,
   "metadata": {
    "collapsed": true
   },
   "outputs": [],
   "source": []
  }
 ],
 "metadata": {
  "celltoolbar": "Create Assignment",
  "kernelspec": {
   "display_name": "Python 3.7",
   "language": "python",
   "name": "python3"
  },
  "language_info": {
   "codemirror_mode": {
    "name": "ipython",
    "version": 3
   },
   "file_extension": ".py",
   "mimetype": "text/x-python",
   "name": "python",
   "nbconvert_exporter": "python",
   "pygments_lexer": "ipython3",
   "version": "3.7.5"
  },
  "toc": {
   "base_numbering": 1,
   "nav_menu": {},
   "number_sections": true,
   "sideBar": true,
   "skip_h1_title": false,
   "title_cell": "Table of Contents",
   "title_sidebar": "Contents",
   "toc_cell": false,
   "toc_position": {
    "height": "calc(100% - 180px)",
    "left": "10px",
    "top": "150px",
    "width": "370.594px"
   },
   "toc_section_display": true,
   "toc_window_display": true
  }
 },
 "nbformat": 4,
 "nbformat_minor": 2
}

{
 "cells": [
  {
   "cell_type": "markdown",
   "metadata": {
    "colab_type": "text",
    "id": "6N2CBGINh8Pv",
    "nbgrader": {
     "grade": false,
     "grade_id": "cell-781158b4d8582eff",
     "locked": true,
     "solution": false
    }
   },
   "source": [
    "# Problem description\n",
    "\n",
    "To a large degree, financial data has traditionally been numeric in format.\n",
    "\n",
    "But in recent years, non-numeric formats like image, text and audio have been introduced.  \n",
    "\n",
    "Private companies have satellites orbiting the Earth taking photos and offering them to customers.  A financial analyst might be able to extract information from these photos that could aid in the prediction of the future price of a stock\n",
    "\n",
    "- Approximate number of customers visiting each store: count number of cars in parking lot\n",
    "- Approximate activity in a factory by counting number of supplier trucks arriving and number of delivery trucks leaving\n",
    "- Approximate demand for a commodity at each location: count cargo ships travelling between ports\n",
    "\n",
    "In this assignment, we will attempt to recognize ships in satellite photos.\n",
    "This would be a first step toward\n",
    "counting.\n",
    "\n",
    "As in any other domain: specific knowledge of the problem area will make you a better analyst.\n",
    "For this assignment, we will ignore domain-specific information and just try to use a labelled training set (photo plus a binary indicator for whether a ship is present/absent in the photo), assuming that the labels are perfect.\n",
    "\n",
    "n.b., it appears that a photo is labelled as having a ship present only if the ship is in the center of the photo.  Perhaps this prevents us from double-counting.\n"
   ]
  },
  {
   "cell_type": "markdown",
   "metadata": {
    "colab_type": "text",
    "id": "CeLXwiRUkM7E",
    "nbgrader": {
     "grade": false,
     "grade_id": "cell-927d32994455c2a4",
     "locked": true,
     "solution": false
    }
   },
   "source": [
    "## Goal: \n",
    "There are two notebook files in this assignment:\n",
    "- **`Ships_in_satellite_images.ipynb`:** First and only notebook you need to work on. Train your models and save them\n",
    "- **`Model_test.ipynb`:** Test your results. After you complete the `Ships_in_satellite_images.ipynb`, this notebook will be submitted\n",
    "\n",
    "**Before you start working on this assignment, please check if your kernel is Python 3.7 (Right top of the page). If it is not Python 3.7, please go to `Kernel->Change kernel->Python 3.7` on the top**\n",
    "\n",
    "In this `Ships_in_satellite_images.ipynb` notebook, you will need to create Sequential models in Keras to classify satellite photos.\n",
    "- The features are images: 3 dimensional collection of pixels\n",
    "  - 2 spatial dimensions\n",
    "  - 1 dimension with 3 features for different parts of the color spectrum: Red, Green, Blue\n",
    "- The labels are either 1 (ship is present) or 0 (ship is not present)\n",
    "\n",
    "You will create several models, of increasing complexity\n",
    "- A model that implements only a Classification Head (no transformations other than perhaps rearranging the image)\n",
    "- A model that adds a Dense layer before the head\n",
    "- (Later assignment) A model that adds Convolutional layers before the Head"
   ]
  },
  {
   "cell_type": "markdown",
   "metadata": {
    "colab_type": "text",
    "id": "0EI8sBAa9-u0",
    "nbgrader": {
     "grade": false,
     "grade_id": "cell-bbc7640b0aa2f6b9",
     "locked": true,
     "solution": false
    }
   },
   "source": [
    "## Learning objectives\n",
    "- Learn how to construct Neural Networks using Keras Sequential model\n",
    "- Appreciate how layer choices impact number of weights"
   ]
  },
  {
   "cell_type": "markdown",
   "metadata": {
    "colab_type": "text",
    "id": "YxXiLgtXAdYS",
    "nbgrader": {
     "grade": false,
     "grade_id": "cell-3fe918b7fc402898",
     "locked": true,
     "solution": false
    }
   },
   "source": [
    "# Imports modules"
   ]
  },
  {
   "cell_type": "code",
   "execution_count": null,
   "metadata": {
    "colab": {},
    "colab_type": "code",
    "collapsed": true,
    "id": "OrjN4zPEAfQb",
    "nbgrader": {
     "grade": false,
     "grade_id": "cell-070cebdd7ee912db",
     "locked": true,
     "solution": false
    }
   },
   "outputs": [],
   "source": [
    "## Standard imports\n",
    "import numpy as np\n",
    "import pandas as pd\n",
    "import matplotlib.pyplot as plt\n",
    "\n",
    "import sklearn\n",
    "\n",
    "import os\n",
    "import math\n",
    "\n",
    "%matplotlib inline\n",
    "\n",
    "\n",
    "## Import tensorflow and check the version\n",
    "import tensorflow as tf\n",
    "from tensorflow.keras.utils import plot_model\n",
    "\n",
    "print(\"Running TensorFlow version \",tf.__version__)\n",
    "\n",
    "# Parse tensorflow version\n",
    "import re\n",
    "\n",
    "version_match = re.match(\"([0-9]+)\\.([0-9]+)\", tf.__version__)\n",
    "tf_major, tf_minor = int(version_match.group(1)) , int(version_match.group(2))\n",
    "print(\"Version {v:d}, minor {m:d}\".format(v=tf_major, m=tf_minor) )"
   ]
  },
  {
   "cell_type": "markdown",
   "metadata": {
    "colab_type": "text",
    "id": "O7LEiY7ilZpz",
    "nbgrader": {
     "grade": false,
     "grade_id": "cell-1005e0ae8cabee0e",
     "locked": true,
     "solution": false
    }
   },
   "source": [
    "# API for students\n",
    "\n",
    "We have defined some utility routines in a file `nn_helper.py`. There is a class named `Helper` in it.  \n",
    "\n",
    "This will simplify problem solving\n",
    "\n",
    "More importantly: it adds structure to your submission so that it may be easily graded\n",
    "\n",
    "`helper = nn_helper.Helper()`\n",
    "\n",
    "- getData: Get a collection of labelled images, used as follows\n",
    "\n",
    "  >`data, labels = helper.getData()`\n",
    "- showData: Visualize labelled images, used as follows\n",
    "\n",
    "  >`helper.showData(data, labels)`\n",
    "- plot training results: Visualize training accuracy, loss and validation accuracy, loss\n",
    "\n",
    "  >`helper.plotTrain(history, modelName)`, where history is the result of model training\n",
    "- save model: save a model in `./models` directory\n",
    "\n",
    "  >`helper.saveModel(model, modelName)`\n",
    "- save history: save a model history in `./models` directory\n",
    "  >`helper.saveHistory(history, modelName)`"
   ]
  },
  {
   "cell_type": "code",
   "execution_count": null,
   "metadata": {
    "collapsed": true,
    "nbgrader": {
     "grade": false,
     "grade_id": "cell-31941e636a7394ca",
     "locked": true,
     "solution": false
    }
   },
   "outputs": [],
   "source": [
    "## Load the nn_helper module\n",
    "\n",
    "from IPython.core.interactiveshell import InteractiveShell\n",
    "InteractiveShell.ast_node_interactivity = \"all\"\n",
    "\n",
    "# Reload all modules imported with %aimport\n",
    "%load_ext autoreload\n",
    "%autoreload 1\n",
    "\n",
    "# Import nn_helper module\n",
    "import nn_helper\n",
    "%aimport nn_helper\n",
    "\n",
    "helper = nn_helper.Helper()"
   ]
  },
  {
   "cell_type": "markdown",
   "metadata": {
    "colab_type": "text",
    "id": "6qfyKiQ3FTXu",
    "nbgrader": {
     "grade": false,
     "grade_id": "cell-e4d6b6651f9d5e13",
     "locked": true,
     "solution": false
    }
   },
   "source": [
    "# Create the dataset"
   ]
  },
  {
   "cell_type": "code",
   "execution_count": null,
   "metadata": {
    "colab": {
     "base_uri": "https://localhost:8080/",
     "height": 102
    },
    "colab_type": "code",
    "collapsed": true,
    "id": "5TGSVUf6FVis",
    "nbgrader": {
     "grade": false,
     "grade_id": "cell-0c6e43d865e98cc5",
     "locked": true,
     "solution": false
    },
    "outputId": "f529d119-8369-4b18-8d57-559333cb50cb"
   },
   "outputs": [],
   "source": [
    "# Data directory\n",
    "DATA_DIR = \"../resource/asnlib/publicdata/ships_in_satellite_images/data\"\n",
    "json_file =  \"shipsnet.json\"\n",
    "\n",
    "# Get the data\n",
    "data, labels = helper.getData(DATA_DIR, json_file)\n",
    "n_samples, width, height, channel = data.shape\n",
    "print(\"Date shape: \", data.shape)\n",
    "print(\"Labels shape: \", labels.shape)\n",
    "print(\"Label values: \", np.unique(labels))\n"
   ]
  },
  {
   "cell_type": "code",
   "execution_count": null,
   "metadata": {
    "colab": {},
    "colab_type": "code",
    "collapsed": true,
    "id": "jLyx2K-xBBvr",
    "nbgrader": {
     "grade": false,
     "grade_id": "cell-9f1f107cbcd456da",
     "locked": true,
     "solution": false
    }
   },
   "outputs": [],
   "source": [
    "# Shuffle the data first\n",
    "data, labels = sklearn.utils.shuffle(data, labels, random_state=42)"
   ]
  },
  {
   "cell_type": "code",
   "execution_count": null,
   "metadata": {
    "colab": {
     "base_uri": "https://localhost:8080/",
     "height": 1000
    },
    "colab_type": "code",
    "collapsed": true,
    "id": "0zuY0AOl_K1R",
    "nbgrader": {
     "grade": false,
     "grade_id": "cell-90cee4495de96935",
     "locked": true,
     "solution": false
    },
    "outputId": "8e2ff048-a6b6-4919-e40d-8381aee59af7"
   },
   "outputs": [],
   "source": [
    "# Visualize the data samples\n",
    "helper.showData(data[:25], labels[:25])"
   ]
  },
  {
   "cell_type": "markdown",
   "metadata": {
    "colab_type": "text",
    "id": "6uCIcmcDmlkw",
    "nbgrader": {
     "grade": false,
     "grade_id": "cell-cdda65487ad48f16",
     "locked": true,
     "solution": false
    }
   },
   "source": [
    "## Examine the image/label pairs\n",
    "We have loaded and shuffled our dataset, now we will take a look at image/label pairs. You can also explore the dataset using your own way."
   ]
  },
  {
   "cell_type": "code",
   "execution_count": null,
   "metadata": {
    "colab": {
     "base_uri": "https://localhost:8080/",
     "height": 1000
    },
    "colab_type": "code",
    "collapsed": true,
    "id": "2k9YAbAZDbqE",
    "nbgrader": {
     "grade": false,
     "grade_id": "cell-4f5e0d3c18f2d4b8",
     "locked": true,
     "solution": false
    },
    "outputId": "c24286e7-6991-4b78-9716-bad69e27ccfd"
   },
   "outputs": [],
   "source": [
    "# Inspect some data (images)\n",
    "num_each_label = 10\n",
    "\n",
    "for lab in np.unique(labels):\n",
    "    # Fetch images with different labels\n",
    "    X_lab, y_lab = data[ labels == lab ], labels[ labels == lab]\n",
    "    # Display images\n",
    "    fig = helper.showData( X_lab[:num_each_label], [ str(label) for label in y_lab[:num_each_label] ])\n",
    "    fig.suptitle(\"Label: \"+  str(lab), fontsize=14)\n",
    "    fig.show()\n",
    "    print(\"\\n\\n\")\n"
   ]
  },
  {
   "cell_type": "markdown",
   "metadata": {
    "colab_type": "text",
    "id": "i_418VKqmvwy",
    "nbgrader": {
     "grade": false,
     "grade_id": "cell-34eb095f07300d27",
     "locked": true,
     "solution": false
    }
   },
   "source": [
    "# Make sure the features are in the range [0,1]  \n",
    "\n",
    "**Warm up exercise:** When we want to train image data, the first thing we usually need to do is scaling. Since the feature values in our image data are between 0 and 255, to make them between 0 and 1, we need to divide them by 255. In addition, we usually use one-hot encoding to deal with our lables. In this question, please scale your input data and encode your labels. The method you may use are:\n",
    "- `to_categorical()`, which is in `tensorflow.keras.utils` "
   ]
  },
  {
   "cell_type": "code",
   "execution_count": null,
   "metadata": {
    "colab": {},
    "colab_type": "code",
    "collapsed": true,
    "id": "EBJaZ3qyDq65",
    "nbgrader": {
     "grade": false,
     "grade_id": "Scale_the_data",
     "locked": false,
     "schema_version": 3,
     "solution": true,
     "task": false
    }
   },
   "outputs": [],
   "source": [
    "# Scale the data\n",
    "# Assign values for X, y\n",
    "#  X: the array of features\n",
    "#  y: the array of labels\n",
    "# The length of X and y should be identical and equal to the length of data.\n",
    "from tensorflow.keras.utils import to_categorical\n",
    "X, y = np.array([]), np.array([])\n",
    "\n",
    "### BEGIN SOLUTION\n",
    "X = data / 255.\n",
    "y = to_categorical(labels, 2)\n",
    "### END SOLUTION"
   ]
  },
  {
   "cell_type": "code",
   "execution_count": null,
   "metadata": {
    "collapsed": true,
    "nbgrader": {
     "grade": false,
     "grade_id": "cell-a80cad4b10d52d33",
     "locked": true,
     "solution": false
    }
   },
   "outputs": [],
   "source": [
    "# Check if your solution is right \n",
    "\n",
    "assert X.shape == (4000, 80, 80, 3)\n",
    "assert y.shape == (4000, 2)\n",
    "assert (y[0][0] == 0.) and (y[0][1] == 1.)\n"
   ]
  },
  {
   "cell_type": "markdown",
   "metadata": {
    "collapsed": true,
    "nbgrader": {
     "grade": false,
     "grade_id": "Scale_data_test",
     "locked": true,
     "points": "0",
     "schema_version": 3,
     "solution": false,
     "task": false
    }
   },
   "source": [
    "Your expected output should be:  \n",
    "`X shape: (4000, 80, 80, 3)`   \n",
    "`y shape: (4000, 2)`  \n",
    "`[0. 1.]`"
   ]
  },
  {
   "cell_type": "markdown",
   "metadata": {
    "colab_type": "text",
    "id": "aHnlcZ4WNN1T",
    "nbgrader": {
     "grade": false,
     "grade_id": "cell-96db16f7139d0dc5",
     "locked": true,
     "solution": false
    }
   },
   "source": [
    "# Split data into training data and testing data\n",
    "To train and evaluate a model, we need to split the original dataset into 2 parts, in-sample and out-of-sample. We train model based on in-sample dataset, then evaluate training result based on out-of-sample dataset.\n",
    "\n",
    "**DO NOT** shuffle the data until after we have performed the split into train/test sets\n",
    "- We want everyone to have the **identical** test set for grading\n",
    "- Do not change this cell\n"
   ]
  },
  {
   "cell_type": "code",
   "execution_count": null,
   "metadata": {
    "colab": {},
    "colab_type": "code",
    "collapsed": true,
    "id": "OhmoI5erNf7I",
    "nbgrader": {
     "grade": false,
     "grade_id": "cell-833fa27d89a1170e",
     "locked": true,
     "solution": false
    }
   },
   "outputs": [],
   "source": [
    "# Split data into train and test\n",
    "from sklearn.model_selection import train_test_split\n",
    "X_train, X_test, y_train, y_test = train_test_split(X, y, test_size=0.10, random_state=42)\n",
    "\n",
    "# Save X_train, X_test, y_train, y_test for final testing\n",
    "if not os.path.exists('./data'):\n",
    "    os.mkdir('./data')\n",
    "np.savez_compressed('./data/train_test_data.npz', X_train=X_train, X_test=X_test, y_train=y_train, y_test=y_test)"
   ]
  },
  {
   "cell_type": "markdown",
   "metadata": {
    "colab_type": "text",
    "id": "7JTJltPLJYp3",
    "nbgrader": {
     "grade": false,
     "grade_id": "cell-c3845037b6f7611c",
     "locked": true,
     "solution": false
    }
   },
   "source": [
    "# Create a model using only Classification, no data transformation (other than reshaping)\n",
    "\n",
    "**Question:** You need to build a 1-layer (only head layer) network model with `tensorflow.keras` right now. Please name the head layer \"dense_head\".  \n",
    "\n",
    "**Hints:**\n",
    "1. Since the dataset is 3-dimensional, you may want to use `Flatten()` in `tensorflow.keras.layers` to make your input data 1 dimension. The input shape of `Flatten()` layer should be the shape of a single sample\n",
    "2. The units in your head layer should be the same as the number of unique lables. Since this is a classification problem, you may want to use the `sigmoid` (for binary problem) or `softmax` (for multiclass problem) function as your head function\n"
   ]
  },
  {
   "cell_type": "code",
   "execution_count": null,
   "metadata": {
    "colab": {
     "base_uri": "https://localhost:8080/",
     "height": 775
    },
    "colab_type": "code",
    "collapsed": true,
    "id": "wFF00mA7PUYD",
    "nbgrader": {
     "grade": false,
     "grade_id": "build_model_0",
     "locked": false,
     "schema_version": 3,
     "solution": true,
     "task": false
    },
    "outputId": "56c302a5-efba-4c2e-bb3e-08f58c6e4dd9"
   },
   "outputs": [],
   "source": [
    "# Get the number of unique labels\n",
    "num_cases = np.unique(labels).shape[0]\n",
    "\n",
    "# Set model0 equal to a Keras Sequential model\n",
    "model0 = None\n",
    "\n",
    "### BEGIN SOLUTION\n",
    "from tensorflow.keras.models import Sequential\n",
    "from tensorflow.keras.layers import Flatten, Dense\n",
    "\n",
    "model0 = Sequential()\n",
    "model0.add(Flatten(input_shape=(X.shape[1:])))\n",
    "model0.add(Dense(num_cases, activation='softmax', name='dense_head'))\n",
    "### END SOLUTION\n",
    "\n",
    "model0.summary()"
   ]
  },
  {
   "cell_type": "code",
   "execution_count": null,
   "metadata": {
    "collapsed": true,
    "nbgrader": {
     "grade": false,
     "grade_id": "cell-6a9c8bd396c77106",
     "locked": true,
     "solution": false
    }
   },
   "outputs": [],
   "source": [
    "# We can plot our model here using plot_model()\n",
    "plot_model(model0)"
   ]
  },
  {
   "cell_type": "markdown",
   "metadata": {
    "nbgrader": {
     "grade": false,
     "grade_id": "cell-30b12281f8b3ff4b",
     "locked": true,
     "solution": false
    }
   },
   "source": [
    "## Train model\n",
    "\n",
    "**Question:** Now that you have built your first model, next you will compile and train your model. The requirements are as follows:\n",
    "- Split your dataset `X_train, y_train` into 0.8 training data and 0.2 validation data. Set the `random_state` to be 42. You can use `train_test_split()`\n",
    "- Loss function: \"categorical_crossentropy\"; Metric: \"accuracy\"\n",
    "- Training epochs is 15\n",
    "- Save your training results in a variable named `history0`\n",
    "- Plot your training results using API `plotTrain()`\n"
   ]
  },
  {
   "cell_type": "code",
   "execution_count": null,
   "metadata": {
    "collapsed": true,
    "nbgrader": {
     "grade": false,
     "grade_id": "train_model_0",
     "locked": false,
     "schema_version": 3,
     "solution": true,
     "task": false
    }
   },
   "outputs": [],
   "source": [
    "model_name0 = \"Head only\"\n",
    "\n",
    "### BEGIN SOLUTION\n",
    "X_train_, X_val_, y_train_, y_val_ = train_test_split(X_train, y_train, test_size=0.2, random_state=42)\n",
    "model0.compile(loss='categorical_crossentropy', metrics=['accuracy'])\n",
    "history0 = model0.fit(X_train_, y_train_, epochs=15, validation_data=(X_val_, y_val_))\n",
    "fig, axs = helper.plotTrain(history0, model_name0)\n",
    "### END SOLUTION"
   ]
  },
  {
   "cell_type": "markdown",
   "metadata": {
    "nbgrader": {
     "grade": false,
     "grade_id": "cell-8e5df9f78e7bd5f3",
     "locked": true,
     "solution": false
    }
   },
   "source": [
    "**Expected outputs (there may be some differences because we only have one layer and the model structure may be a little different):**  \n",
    "<table> \n",
    "    <tr> \n",
    "        <td>  \n",
    "            Training accuracy\n",
    "        </td>\n",
    "        <td>\n",
    "         0.7965\n",
    "        </td>\n",
    "    </tr>\n",
    "    <tr> \n",
    "        <td>\n",
    "            Validation accuracy\n",
    "        </td>\n",
    "        <td>\n",
    "         0.8319\n",
    "        </td>\n",
    "    </tr>\n",
    "\n",
    "</table>\n",
    "\n",
    "We can see that the accuracy curve in the graph above seems going up and down, which means our model may have a underfitting problem."
   ]
  },
  {
   "cell_type": "markdown",
   "metadata": {
    "colab_type": "text",
    "id": "BHsceFTbpnvr",
    "nbgrader": {
     "grade": false,
     "grade_id": "cell-e1886c4e415f795e",
     "locked": true,
     "solution": false
    }
   },
   "source": [
    "## How many weights in the model ?\n",
    "\n",
    "**Question:** Calculate the number of parameters in your model.  \n",
    "\n",
    "**Hint:** You can use model's method `count_params()`\n"
   ]
  },
  {
   "cell_type": "code",
   "execution_count": null,
   "metadata": {
    "colab": {},
    "colab_type": "code",
    "collapsed": true,
    "id": "dgDetvgupt58",
    "nbgrader": {
     "grade": false,
     "grade_id": "num_of_parameters",
     "locked": false,
     "schema_version": 3,
     "solution": true,
     "task": false
    }
   },
   "outputs": [],
   "source": [
    "# Set num_parameters0 equal to the number of weights in the model\n",
    "num_parameters0 = None\n",
    "\n",
    "### BEGIN SOLUTION\n",
    "num_parameters0 = model0.count_params()\n",
    "### END SOLUTION\n",
    "\n",
    "print(\"Parameters number in model0: \", num_parameters0)"
   ]
  },
  {
   "cell_type": "markdown",
   "metadata": {
    "colab_type": "text",
    "id": "3hR7QB27Jhx8",
    "nbgrader": {
     "grade": false,
     "grade_id": "cell-89fa3731299113d7",
     "locked": true,
     "solution": false
    }
   },
   "source": [
    "## Evaluate the model\n",
    "\n",
    "**Question:** We have trained our model, then what we need to do next is to evaluate the model using test dataset. Please store the model score in a variable named `score0`.   \n",
    "\n",
    "**Hint:** The method we should use is `evaluate()`. "
   ]
  },
  {
   "cell_type": "code",
   "execution_count": null,
   "metadata": {
    "colab": {
     "base_uri": "https://localhost:8080/",
     "height": 35
    },
    "colab_type": "code",
    "collapsed": true,
    "id": "_y1rTpduJhkE",
    "nbgrader": {
     "grade": false,
     "grade_id": "evaluate_model_0",
     "locked": false,
     "schema_version": 3,
     "solution": true,
     "task": false
    },
    "outputId": "8e8c0c99-2c80-4ec3-bab9-e08de97c3807"
   },
   "outputs": [],
   "source": [
    "score0 = []\n",
    "\n",
    "### BEGIN SOLUTION\n",
    "score0 = model0.evaluate(X_test, y_test, verbose=0)\n",
    "### END SOLUTION\n",
    "\n",
    "print(\"{n:s}: Test loss: {l:3.2f} / Test accuracy: {a:3.2f}\".format(n=model_name0, l=score0[0], a=score0[1]))"
   ]
  },
  {
   "cell_type": "markdown",
   "metadata": {
    "nbgrader": {
     "grade": false,
     "grade_id": "cell-fe71a2fa07126f90",
     "locked": true,
     "solution": false
    }
   },
   "source": [
    "Your test accuracy should be at least 0.6"
   ]
  },
  {
   "cell_type": "markdown",
   "metadata": {
    "colab_type": "text",
    "id": "pNkyZ8VRd-d3",
    "nbgrader": {
     "grade": false,
     "grade_id": "cell-6aed77f4dd85c016",
     "locked": true,
     "solution": false
    }
   },
   "source": [
    "## Save the trained model0 and history0 for submission"
   ]
  },
  {
   "cell_type": "code",
   "execution_count": null,
   "metadata": {
    "colab": {
     "base_uri": "https://localhost:8080/",
     "height": 51
    },
    "colab_type": "code",
    "collapsed": true,
    "id": "OesE2_-gd-d4",
    "nbgrader": {
     "grade": false,
     "grade_id": "cell-c9cde4b2b69397c4",
     "locked": true,
     "solution": false
    },
    "outputId": "c4cf36e4-00bc-4d73-8aa2-7cae8724f4a8",
    "scrolled": false
   },
   "outputs": [],
   "source": [
    "helper.saveModel(model0, model_name0)\n",
    "helper.saveModelNonPortable(model0, model_name0)\n",
    "helper.saveHistory(history0, model_name0)"
   ]
  },
  {
   "cell_type": "code",
   "execution_count": null,
   "metadata": {
    "colab": {},
    "colab_type": "code",
    "collapsed": true,
    "id": "A_E8q6JBd-d7",
    "nbgrader": {
     "grade": false,
     "grade_id": "cell-0b6e3b1e0ad21422",
     "locked": true,
     "solution": false
    }
   },
   "outputs": [],
   "source": [
    "## Restore the model (make sure that it works)\n",
    "\n",
    "model_loaded = helper.loadModel(model_name0)\n",
    "score_loaded = model_loaded.evaluate(X_test, y_test, verbose=0)\n",
    "\n",
    "assert score_loaded[0] == score[0] and score_loaded[1] == score[1]"
   ]
  },
  {
   "cell_type": "markdown",
   "metadata": {
    "colab_type": "text",
    "id": "JXX-_3_SKsla",
    "nbgrader": {
     "grade": false,
     "grade_id": "cell-67c1b5674378d4f6",
     "locked": true,
     "solution": false
    }
   },
   "source": [
    "# Create a new model with a Dense layer providing 512 features plus the Classification head\n",
    "\n",
    "**Question:** At this time, we will add more layers to the original model0. You need to add **AT LEAST ONE** Dense layer followed by a activation function (for example, ReLU) (You can add more layers). Your very **FIRST** Dense layer should have **512** units. Please name this Dense layer \"dense_1\" and the head layer \"dense_head\". \n",
    "\n",
    "**Hints:**\n",
    "- Don't forget to flatten your input data!\n",
    "- A Dropout layer maybe helpful to prevent overfitting and acceralate your training process.  If you want to use a Dropout layer, you can use `Dropout()`, which is in  `tensorflow.keras.layers`. \n",
    "\n",
    "If your new model satisfies the basic requirements and performs **better** than your first model, you can get more scores!"
   ]
  },
  {
   "cell_type": "code",
   "execution_count": null,
   "metadata": {
    "colab": {},
    "colab_type": "code",
    "collapsed": true,
    "id": "1Ga3U-syPaCz",
    "nbgrader": {
     "grade": false,
     "grade_id": "build_model_1",
     "locked": false,
     "schema_version": 3,
     "solution": true,
     "task": false
    }
   },
   "outputs": [],
   "source": [
    "# Set model1 equal to a Keras Sequential model\n",
    "model1 = None\n",
    "num_features_1 = 512\n",
    "\n",
    "### BEGIN SOLUTION\n",
    "from tensorflow.keras.layers import Dropout\n",
    "\n",
    "model1 = Sequential()\n",
    "model1.add(Flatten(input_shape=(X.shape[1:])))\n",
    "model1.add(Dense(num_features_1, activation='relu', name='dense_1'))\n",
    "model1.add(Dropout(0.2))\n",
    "model1.add(Dense(num_cases, activation='softmax', name='dense_head'))\n",
    "### END SOLUTION\n",
    "\n",
    "model1.summary()"
   ]
  },
  {
   "cell_type": "code",
   "execution_count": null,
   "metadata": {
    "collapsed": true,
    "nbgrader": {
     "grade": false,
     "grade_id": "cell-49f7ed68ba2f5834",
     "locked": true,
     "solution": false
    }
   },
   "outputs": [],
   "source": [
    "# Plot your model\n",
    "plot_model(model1)"
   ]
  },
  {
   "cell_type": "markdown",
   "metadata": {
    "nbgrader": {
     "grade": false,
     "grade_id": "cell-ad82889fc971e9fd",
     "locked": true,
     "solution": false
    }
   },
   "source": [
    "## Train your new model\n",
    "\n",
    "**Question:** Now that you have built your new model1, next you will compile and train your model1. The requirements are as follows:\n",
    "- Loss function: \"categorical_crossentropy\"; Metric: \"accuracy\"\n",
    "- Training epochs is 15\n",
    "- Save your training results into a variable named `history1`\n",
    "- Plot your training results using API `plotTrain()`"
   ]
  },
  {
   "cell_type": "code",
   "execution_count": null,
   "metadata": {
    "collapsed": true,
    "nbgrader": {
     "grade": false,
     "grade_id": "train_model_1",
     "locked": false,
     "schema_version": 3,
     "solution": true,
     "task": false
    }
   },
   "outputs": [],
   "source": [
    "# Train the model using the API\n",
    "model_name1 = \"Dense + Head\"\n",
    "\n",
    "### BEGIN SOLUTION\n",
    "model1.compile(loss='categorical_crossentropy', metrics=['accuracy'])\n",
    "history1 = model1.fit(X_train_, y_train_, epochs=15, validation_data=(X_val_, y_val_))\n",
    "fig, axs = helper.plotTrain(history1, model_name1)\n",
    "### END SOLUTION"
   ]
  },
  {
   "cell_type": "markdown",
   "metadata": {
    "nbgrader": {
     "grade": false,
     "grade_id": "cell-dfb5e7fe9f7e0f9e",
     "locked": true,
     "solution": false
    }
   },
   "source": [
    "**Expected outputs (there may be some differences because we only have one layer):**  \n",
    "<table> \n",
    "    <tr> \n",
    "        <td>  \n",
    "            Training accuracy\n",
    "        </td>\n",
    "        <td>\n",
    "         0.8293\n",
    "        </td>\n",
    "    </tr>\n",
    "    <tr> \n",
    "        <td>\n",
    "            Validation accuracy\n",
    "        </td>\n",
    "        <td>\n",
    "         0.8625\n",
    "        </td>  \n",
    "    </tr>\n",
    "</table>\n",
    "\n",
    "The loss and accuracy graphs of model1 are similiar to this:\n",
    "<img src=\"./images/model1_loss_accuracy.png\" style=\"width:600px;height:300px;\">\n",
    "\n",
    "We can see that the loss curves have a trend to decrease and the accuracy curves have a trend to increase, which means our new model is learning!"
   ]
  },
  {
   "cell_type": "markdown",
   "metadata": {
    "colab_type": "text",
    "id": "XzU2xKWcsEAo",
    "nbgrader": {
     "grade": false,
     "grade_id": "cell-a048e8f185c7dafe",
     "locked": true,
     "solution": false
    }
   },
   "source": [
    "## How many weights in this model ?\n",
    "\n",
    "**Question:** Calculate the number of parameters in your new model.  "
   ]
  },
  {
   "cell_type": "code",
   "execution_count": null,
   "metadata": {
    "colab": {},
    "colab_type": "code",
    "collapsed": true,
    "id": "gXs0EZZVsHqB",
    "nbgrader": {
     "grade": false,
     "grade_id": "num_parameters_model_1",
     "locked": false,
     "schema_version": 3,
     "solution": true,
     "task": false
    }
   },
   "outputs": [],
   "source": [
    "# Set num_parameters1 equal to the number of weights in the model\n",
    "num_parameters1 = None\n",
    "\n",
    "### BEGIN SOLUTION\n",
    "num_parameters1 = model1.count_params()\n",
    "### END SOLUTION\n",
    "\n",
    "print('Parameters number in model1:', num_parameters1)"
   ]
  },
  {
   "cell_type": "markdown",
   "metadata": {
    "colab_type": "text",
    "id": "gfBjJLU7J7L4",
    "nbgrader": {
     "grade": false,
     "grade_id": "cell-848f6eee66efac66",
     "locked": true,
     "solution": false
    }
   },
   "source": [
    "## Evaluate the model\n",
    "\n",
    "**Question:** We have trained our new model, then what we need to do next is to evaluate the new model using test dataset. Please store the model score in a variable named `score1`.   "
   ]
  },
  {
   "cell_type": "code",
   "execution_count": null,
   "metadata": {
    "colab": {},
    "colab_type": "code",
    "collapsed": true,
    "id": "A5wFSFvwJ68n",
    "nbgrader": {
     "grade": false,
     "grade_id": "evaluate_model_1",
     "locked": false,
     "schema_version": 3,
     "solution": true,
     "task": false
    }
   },
   "outputs": [],
   "source": [
    "score1 = []\n",
    "\n",
    "### BEGIN SOLUTION\n",
    "score1 = model1.evaluate(X_test, y_test, verbose=0)\n",
    "### END SOLUTION\n",
    "\n",
    "print(\"{n:s}: Test loss: {l:3.2f} / Test accuracy: {a:3.2f}\".format(n=model_name1, l=score1[0], a=score1[1]))"
   ]
  },
  {
   "cell_type": "markdown",
   "metadata": {
    "nbgrader": {
     "grade": false,
     "grade_id": "cell-f967fa336e8b8b82",
     "locked": true,
     "solution": false
    }
   },
   "source": [
    "Your new test score should be at least 0.8"
   ]
  },
  {
   "cell_type": "markdown",
   "metadata": {
    "nbgrader": {
     "grade": false,
     "grade_id": "cell-32ebfba806e4cfd6",
     "locked": true,
     "solution": false
    }
   },
   "source": [
    "# Save your trained model1 and history1"
   ]
  },
  {
   "cell_type": "code",
   "execution_count": null,
   "metadata": {
    "collapsed": true,
    "nbgrader": {
     "grade": false,
     "grade_id": "cell-f7a3c4ef4265b014",
     "locked": true,
     "solution": false
    }
   },
   "outputs": [],
   "source": [
    "helper.saveModel(model1, model_name1)\n",
    "helper.saveModelNonPortable(model1, model_name1)\n",
    "helper.saveHistory(history1, model_name1)"
   ]
  },
  {
   "cell_type": "markdown",
   "metadata": {
    "collapsed": true,
    "nbgrader": {
     "grade": false,
     "grade_id": "cell-4a0132560885e887",
     "locked": true,
     "solution": false
    }
   },
   "source": [
    "## Your own model (Optional)\n",
    "Now you can build your own model using what you have learned from the course. The things you can try are:\n",
    "- Add `Dropout()` layer and change the parameter \n",
    "- Add `BatchNormalization()` layer\n",
    "- Change the activation function\n",
    "- Change the classifier\n",
    "- Change the features of `Dense()` layers  \n",
    "- ...\n",
    "\n",
    "Try to see how your model will change!"
   ]
  },
  {
   "cell_type": "code",
   "execution_count": null,
   "metadata": {
    "collapsed": true
   },
   "outputs": [],
   "source": []
  },
  {
   "cell_type": "markdown",
   "metadata": {},
   "source": [
    "## Now Submit your assignment!\n",
    "Please click on the blue button <span style=\"color: blue;\"> **Submit** </span> in this notebook. "
   ]
  },
  {
   "cell_type": "code",
   "execution_count": null,
   "metadata": {
    "collapsed": true
   },
   "outputs": [],
   "source": []
  }
 ],
 "metadata": {
  "accelerator": "GPU",
  "celltoolbar": "Create Assignment",
  "colab": {
   "collapsed_sections": [],
   "name": "Ships_in_satellite_images.ipynb",
   "provenance": [],
   "toc_visible": true
  },
  "kernelspec": {
   "display_name": "Python 3",
   "language": "python",
   "name": "python3"
  },
  "language_info": {
   "codemirror_mode": {
    "name": "ipython",
    "version": 3
   },
   "file_extension": ".py",
   "mimetype": "text/x-python",
   "name": "python",
   "nbconvert_exporter": "python",
   "pygments_lexer": "ipython3",
   "version": "3.7.4"
  },
  "toc": {
   "base_numbering": 1,
   "nav_menu": {},
   "number_sections": true,
   "sideBar": true,
   "skip_h1_title": false,
   "title_cell": "Table of Contents",
   "title_sidebar": "Contents",
   "toc_cell": false,
   "toc_position": {},
   "toc_section_display": true,
   "toc_window_display": false
  }
 },
 "nbformat": 4,
 "nbformat_minor": 1
}

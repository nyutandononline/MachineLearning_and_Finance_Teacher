{
 "cells": [
  {
   "cell_type": "code",
   "execution_count": 1,
   "metadata": {
    "nbgrader": {
     "grade": false,
     "locked": true,
     "solution": false
    }
   },
   "outputs": [],
   "source": [
    "from IPython.core.interactiveshell import InteractiveShell\n",
    "InteractiveShell.ast_node_interactivity = \"all\"\n",
    "\n",
    "# Reload all modules imported with %aimport\n",
    "%load_ext autoreload\n",
    "%autoreload 1"
   ]
  },
  {
   "cell_type": "code",
   "execution_count": 2,
   "metadata": {
    "nbgrader": {
     "grade": false,
     "locked": true,
     "solution": false
    }
   },
   "outputs": [],
   "source": [
    "import helper\n",
    "%aimport helper\n",
    "\n",
    "helper = helper.Helper()"
   ]
  },
  {
   "cell_type": "code",
   "execution_count": 3,
   "metadata": {
    "nbgrader": {
     "grade": false,
     "locked": true,
     "solution": false
    }
   },
   "outputs": [],
   "source": [
    "import tensorflow as tf\n",
    "import numpy as np\n",
    "import os"
   ]
  },
  {
   "cell_type": "markdown",
   "metadata": {
    "nbgrader": {
     "grade": false,
     "locked": true,
     "solution": false
    }
   },
   "source": [
    "## Load the data"
   ]
  },
  {
   "cell_type": "code",
   "execution_count": 4,
   "metadata": {
    "nbgrader": {
     "grade": false,
     "locked": true,
     "solution": false
    }
   },
   "outputs": [],
   "source": [
    "data_dir = np.load('./data/train_test_data.npz')\n",
    "X_train = data_dir['X_train']\n",
    "X_test = data_dir['X_test']\n",
    "y_train = data_dir['y_train']\n",
    "y_test = data_dir['y_test']\n",
    "data = np.concatenate((X_train, X_test))\n",
    "labels = np.concatenate((y_train, y_test))"
   ]
  },
  {
   "cell_type": "markdown",
   "metadata": {
    "nbgrader": {
     "grade": false,
     "locked": true,
     "solution": false
    }
   },
   "source": [
    "## Load models and histories"
   ]
  },
  {
   "cell_type": "code",
   "execution_count": 5,
   "metadata": {
    "nbgrader": {
     "grade": false,
     "locked": true,
     "solution": false
    }
   },
   "outputs": [],
   "source": [
    "model_name0 = \"Head only\"\n",
    "model0 = helper.loadModel(model_name0)\n",
    "score0 = model0.evaluate(X_test, y_test, verbose=0)\n",
    "history0 = helper.loadHistory(model_name0)\n",
    "\n",
    "model_name1 = \"Dense + Head\"\n",
    "model1 = helper.loadModel(model_name1)\n",
    "score1 = model1.evaluate(X_test, y_test, verbose=0)\n",
    "history1 = helper.loadHistory(model_name1)"
   ]
  },
  {
   "cell_type": "markdown",
   "metadata": {
    "nbgrader": {
     "grade": false,
     "locked": true,
     "solution": false
    }
   },
   "source": [
    "### 1. Model structure test"
   ]
  },
  {
   "cell_type": "code",
   "execution_count": 7,
   "metadata": {
    "nbgrader": {
     "grade": true,
     "grade_id": "build_model_0",
     "locked": true,
     "points": "20",
     "solution": false
    }
   },
   "outputs": [],
   "source": [
    "# Set Classifier activation and loss depending on shape of target\n",
    "if helper.y_OHE(y_train):\n",
    "    num_cases = 2\n",
    "    activation = \"softmax\"\n",
    "    loss = 'categorical_crossentropy'\n",
    "else:\n",
    "    num_cases = 1\n",
    "    activation = \"sigmoid\"\n",
    "    loss = 'binary_crossentropy'\n",
    "    \n",
    "\n",
    "## Model0 Head Only\n",
    "assert len(model0.layers) <= 3\n",
    "\n",
    "n_samples, width, height = data.shape\n",
    "dense_layer = model0.get_layer(name='dense_head')\n",
    "# Dense layer tests\n",
    "assert dense_layer.input.shape[1:] == tf.TensorShape([ np.prod(data.shape[1:]) ] )\n",
    "assert dense_layer.output.shape[1:] == tf.TensorShape([num_cases])\n",
    "### END HIDDEN TESTS"
   ]
  },
  {
   "cell_type": "code",
   "execution_count": 9,
   "metadata": {
    "nbgrader": {
     "grade": true,
     "grade_id": "build_model_1",
     "locked": true,
     "points": "20",
     "solution": false
    }
   },
   "outputs": [],
   "source": [
    "### BEGIN HIDDEN TESTS\n",
    "num_features_1 = 64\n",
    "\n",
    "dense_1 = model1.get_layer(name='dense_1')\n",
    "dense_head = model1.get_layer(name='dense_head')\n",
    "\n",
    "# Dense 1\n",
    "assert dense_1.input.shape[1:] == tf.TensorShape([np.prod(data.shape[1:])])\n",
    "assert dense_1.output.shape[1:] == tf.TensorShape([num_features_1])\n",
    "\n",
    "# Dense head\n",
    "assert dense_head.output.shape[1:] == tf.TensorShape([num_cases])\n",
    "\n",
    "### END HIDDEN TESTS"
   ]
  },
  {
   "cell_type": "markdown",
   "metadata": {
    "nbgrader": {
     "grade": false,
     "locked": true,
     "solution": false
    }
   },
   "source": [
    "### 2. Training result test"
   ]
  },
  {
   "cell_type": "code",
   "execution_count": 12,
   "metadata": {
    "nbgrader": {
     "grade": true,
     "grade_id": "train_model_0",
     "locked": true,
     "points": "15",
     "solution": false
    }
   },
   "outputs": [],
   "source": [
    "### BEGIN HIDDEN TESTS\n",
    "\n",
    "# Create the key with which to look up accuracy, val_accuracy.  It depends on how the model was compiled.\n",
    "acc_string = helper.acc_key(model=model1)\n",
    "acc_metric, val_acc_metric = acc_string, \"val_\" + acc_string\n",
    "\n",
    "assert history0[acc_string][-1] > 0.6\n",
    "assert history0[val_acc_metric][-1] > 0.6\n",
    "### END HIDDEN TESTS"
   ]
  },
  {
   "cell_type": "code",
   "execution_count": 13,
   "metadata": {
    "nbgrader": {
     "grade": true,
     "grade_id": "train_model_1",
     "locked": true,
     "points": "15",
     "solution": false
    }
   },
   "outputs": [],
   "source": [
    "### BEGIN HIDDEN TESTS\n",
    "assert history1[acc_string][-1] > 0.75\n",
    "assert history1[val_acc_metric][-1] > 0.75\n",
    "### END HIDDEN TESTS"
   ]
  },
  {
   "cell_type": "code",
   "execution_count": 14,
   "metadata": {
    "nbgrader": {
     "grade": true,
     "grade_id": "train_model_1_better_than_before",
     "locked": true,
     "points": "5",
     "solution": false
    }
   },
   "outputs": [],
   "source": [
    "### BEGIN HIDDEN TESTS\n",
    "assert history1[acc_string][-1] > history0[acc_string][-1]\n",
    "assert history1[val_acc_metric][-1] > history0[val_acc_metric][-1]\n",
    "### END HIDDEN TESTS"
   ]
  },
  {
   "cell_type": "markdown",
   "metadata": {
    "nbgrader": {
     "grade": false,
     "locked": true,
     "solution": false
    }
   },
   "source": [
    "### 3. Model parameters number test"
   ]
  },
  {
   "cell_type": "code",
   "execution_count": 16,
   "metadata": {
    "nbgrader": {
     "grade": true,
     "grade_id": "number_params_model_0",
     "locked": true,
     "points": "5",
     "solution": false
    }
   },
   "outputs": [],
   "source": [
    "### BEGIN HIDDEN TESTS\n",
    "assert model0.count_params() == (np.prod(data.shape[1:]) * num_cases + num_cases)\n",
    "### END HIDDEN TESTS"
   ]
  },
  {
   "cell_type": "code",
   "execution_count": 17,
   "metadata": {
    "nbgrader": {
     "grade": true,
     "grade_id": "number_params_model_1",
     "locked": true,
     "points": "5",
     "solution": false
    }
   },
   "outputs": [],
   "source": [
    "### BEGIN HIDDEN TESTS\n",
    "dense_layers = [layer for layer in model1.layers if 'dense' in layer.name]\n",
    "num_new_parameters = (np.prod(data.shape[1:]) + 1) * num_features_1 + (num_features_1 + 1) * num_cases\n",
    "\n",
    "if len(dense_layers) == 2:\n",
    "    assert model1.count_params() == num_new_parameters\n",
    "elif len(dense_layers) > 2:\n",
    "    assert model1.count_params() > num_new_parameters\n",
    "### END HIDDEN TESTS"
   ]
  },
  {
   "cell_type": "markdown",
   "metadata": {
    "nbgrader": {
     "grade": false,
     "locked": true,
     "solution": false
    }
   },
   "source": [
    "### 4. Evaluate the model"
   ]
  },
  {
   "cell_type": "code",
   "execution_count": 18,
   "metadata": {
    "nbgrader": {
     "grade": true,
     "grade_id": "evaluate_model_0",
     "locked": true,
     "points": "5",
     "solution": false
    }
   },
   "outputs": [],
   "source": [
    "### BEGIN HIDDEN TESTS\n",
    "assert score0[1] > 0.6\n",
    "### END HIDDEN TESTS"
   ]
  },
  {
   "cell_type": "code",
   "execution_count": 19,
   "metadata": {
    "nbgrader": {
     "grade": true,
     "grade_id": "evaluate_model_1",
     "locked": true,
     "points": "5",
     "solution": false
    }
   },
   "outputs": [],
   "source": [
    "### BEGIN HIDDEN TESTS\n",
    "assert score1[1] > 0.8\n",
    "### END HIDDEN TESTS"
   ]
  },
  {
   "cell_type": "code",
   "execution_count": 20,
   "metadata": {
    "nbgrader": {
     "grade": true,
     "grade_id": "evaluate_model_1_better_than_before",
     "locked": true,
     "points": "5",
     "solution": false
    }
   },
   "outputs": [],
   "source": [
    "### BEGIN HIDDEN TESTS\n",
    "assert score1[1] >= score0[1]\n",
    "### END HIDDEN TESTS"
   ]
  }
 ],
 "metadata": {
  "kernelspec": {
   "display_name": "Python 3",
   "language": "python",
   "name": "python3"
  },
  "language_info": {
   "codemirror_mode": {
    "name": "ipython",
    "version": 3
   },
   "file_extension": ".py",
   "mimetype": "text/x-python",
   "name": "python",
   "nbconvert_exporter": "python",
   "pygments_lexer": "ipython3",
   "version": "3.7.4"
  }
 },
 "nbformat": 4,
 "nbformat_minor": 2
}

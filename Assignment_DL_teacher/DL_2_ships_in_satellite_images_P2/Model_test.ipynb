{
 "cells": [
  {
   "cell_type": "code",
   "execution_count": null,
   "metadata": {
    "collapsed": true,
    "nbgrader": {
     "grade": false,
     "locked": true,
     "solution": false
    }
   },
   "outputs": [],
   "source": [
    "from IPython.core.interactiveshell import InteractiveShell\n",
    "InteractiveShell.ast_node_interactivity = \"all\"\n",
    "\n",
    "# Reload all modules imported with %aimport\n",
    "%load_ext autoreload\n",
    "%autoreload 1"
   ]
  },
  {
   "cell_type": "code",
   "execution_count": null,
   "metadata": {
    "collapsed": true,
    "nbgrader": {
     "grade": false,
     "locked": true,
     "solution": false
    }
   },
   "outputs": [],
   "source": [
    "import nn_helper\n",
    "%aimport nn_helper\n",
    "\n",
    "helper = nn_helper.Helper()"
   ]
  },
  {
   "cell_type": "code",
   "execution_count": null,
   "metadata": {
    "collapsed": true,
    "nbgrader": {
     "grade": false,
     "locked": true,
     "solution": false
    }
   },
   "outputs": [],
   "source": [
    "import tensorflow as tf\n",
    "import numpy as np\n",
    "import os"
   ]
  },
  {
   "cell_type": "markdown",
   "metadata": {
    "nbgrader": {
     "grade": false,
     "locked": true,
     "solution": false
    }
   },
   "source": [
    "## Load the data"
   ]
  },
  {
   "cell_type": "code",
   "execution_count": null,
   "metadata": {
    "collapsed": true,
    "nbgrader": {
     "grade": false,
     "locked": true,
     "solution": false
    }
   },
   "outputs": [],
   "source": [
    "data_dir = np.load('./data/train_test_data.npz')\n",
    "X_train = data_dir['X_train']\n",
    "X_test = data_dir['X_test']\n",
    "y_train = data_dir['y_train']\n",
    "y_test = data_dir['y_test']\n",
    "data = np.concatenate((X_train, X_test))\n",
    "labels = np.concatenate((y_train, y_test))"
   ]
  },
  {
   "cell_type": "markdown",
   "metadata": {
    "nbgrader": {
     "grade": false,
     "locked": true,
     "solution": false
    }
   },
   "source": [
    "## Load models and histories"
   ]
  },
  {
   "cell_type": "code",
   "execution_count": null,
   "metadata": {
    "collapsed": true,
    "nbgrader": {
     "grade": false,
     "locked": true,
     "solution": false
    }
   },
   "outputs": [],
   "source": [
    "model_name0 = \"CNN + Head\"\n",
    "model0 = helper.loadModel(model_name0)\n",
    "score0 = model0.evaluate(X_test, y_test, verbose=0)\n",
    "history0 = helper.loadHistory(model_name0)\n",
    "\n",
    "model_name1 = \"4CNNs + Head\"\n",
    "model1 = helper.loadModel(model_name1)\n",
    "score1 = model1.evaluate(X_test, y_test, verbose=0)\n",
    "history1 = helper.loadHistory(model_name1)"
   ]
  },
  {
   "cell_type": "markdown",
   "metadata": {
    "nbgrader": {
     "grade": false,
     "locked": true,
     "solution": false
    }
   },
   "source": [
    "### 1. Model structure test"
   ]
  },
  {
   "cell_type": "code",
   "execution_count": null,
   "metadata": {
    "collapsed": true,
    "nbgrader": {
     "grade": true,
     "grade_id": "build_model_0",
     "locked": true,
     "points": "20",
     "solution": false
    }
   },
   "outputs": [],
   "source": [
    "### BEGIN HIDDEN TESTS\n",
    "num_cases = np.unique(labels).shape[0]\n",
    "\n",
    "## Model0 Head Only\n",
    "\n",
    "n_samples, width, height, channel = data.shape\n",
    "CNN_layer = model0.get_layer(name='CNN_1')\n",
    "dense_layer = model0.get_layer(name='dense_head')\n",
    "CNN_features = 32\n",
    "# Convolutional layer tests\n",
    "assert CNN_layer.input.shape[1:] == tf.TensorShape(data.shape[1:])\n",
    "assert CNN_layer.output.shape[1:] == tf.TensorShape([width, height, CNN_features])\n",
    "\n",
    "# Head layer\n",
    "assert dense_layer.output.shape[1:] == tf.TensorShape([num_cases])\n",
    "### END HIDDEN TESTS"
   ]
  },
  {
   "cell_type": "code",
   "execution_count": null,
   "metadata": {
    "nbgrader": {
     "grade": true,
     "grade_id": "build_model_1",
     "locked": true,
     "points": "20",
     "solution": false
    }
   },
   "outputs": [],
   "source": [
    "### BEGIN HIDDEN TESTS\n",
    "CNN_features_1 = 32\n",
    "CNN_features_2 = 32\n",
    "CNN_features_3 = 64\n",
    "CNN_features_4 = 64\n",
    "MaxPool_size = 2\n",
    "\n",
    "CNN_1 = model1.get_layer(name='CNN_1')\n",
    "CNN_2 = model1.get_layer(name='CNN_2')\n",
    "CNN_3 = model1.get_layer(name='CNN_3')\n",
    "CNN_4 = model1.get_layer(name='CNN_4')\n",
    "dense_head = model1.get_layer(name='dense_head')\n",
    "\n",
    "# CNN 1\n",
    "assert CNN_1.input.shape[1:] == tf.TensorShape(data.shape[1:])\n",
    "assert CNN_1.output.shape[1:] == tf.TensorShape([width, height, CNN_features_1])\n",
    "\n",
    "# CNN 2\n",
    "assert CNN_2.input.shape[1:] == tf.TensorShape([width, height, CNN_features_1])\n",
    "assert CNN_2.output.shape[1:] == tf.TensorShape([width, height, CNN_features_2])\n",
    "\n",
    "# CNN 3\n",
    "assert CNN_3.input.shape[1:] == tf.TensorShape([int(width/MaxPool_size), int(height/MaxPool_size), CNN_features_2])\n",
    "assert CNN_3.output.shape[1:] == tf.TensorShape([int(width/MaxPool_size), int(height/MaxPool_size), CNN_features_3])\n",
    "\n",
    "# CNN 4\n",
    "assert CNN_4.input.shape[1:] == tf.TensorShape([int(width/MaxPool_size), int(height/MaxPool_size), CNN_features_3])\n",
    "assert CNN_4.output.shape[1:] == tf.TensorShape([int(width/MaxPool_size), int(height/MaxPool_size), CNN_features_4])\n",
    "\n",
    "# Dense head\n",
    "assert dense_head.output.shape[1:] == tf.TensorShape([num_cases])\n",
    "\n",
    "### END HIDDEN TESTS"
   ]
  },
  {
   "cell_type": "markdown",
   "metadata": {
    "nbgrader": {
     "grade": false,
     "locked": true,
     "solution": false
    }
   },
   "source": [
    "### 2. Training result test"
   ]
  },
  {
   "cell_type": "code",
   "execution_count": null,
   "metadata": {
    "collapsed": true,
    "nbgrader": {
     "grade": true,
     "grade_id": "train_model_0",
     "locked": true,
     "points": "10",
     "solution": false
    }
   },
   "outputs": [],
   "source": [
    "### BEGIN HIDDEN TESTS\n",
    "assert history0['accuracy'][-1] > 0.85\n",
    "assert history0['val_accuracy'][-1] > 0.85\n",
    "### END HIDDEN TESTS"
   ]
  },
  {
   "cell_type": "code",
   "execution_count": null,
   "metadata": {
    "collapsed": true,
    "nbgrader": {
     "grade": true,
     "grade_id": "train_model_1",
     "locked": true,
     "points": "10",
     "solution": false
    }
   },
   "outputs": [],
   "source": [
    "### BEGIN HIDDEN TESTS\n",
    "assert history1['accuracy'][-1] > history0['accuracy'][-1]\n",
    "assert history1['val_accuracy'][-1] > history0['val_accuracy'][-1]\n",
    "### END HIDDEN TESTS"
   ]
  },
  {
   "cell_type": "markdown",
   "metadata": {
    "nbgrader": {
     "grade": false,
     "locked": true,
     "solution": false
    }
   },
   "source": [
    "### 3. Evaluate the model"
   ]
  },
  {
   "cell_type": "code",
   "execution_count": null,
   "metadata": {
    "collapsed": true,
    "nbgrader": {
     "grade": true,
     "grade_id": "evaluate_model_0",
     "locked": true,
     "points": "10",
     "solution": false
    }
   },
   "outputs": [],
   "source": [
    "### BEGIN HIDDEN TESTS\n",
    "assert score0[1] > 0.85\n",
    "### END HIDDEN TESTS"
   ]
  },
  {
   "cell_type": "code",
   "execution_count": null,
   "metadata": {
    "collapsed": true,
    "nbgrader": {
     "grade": true,
     "grade_id": "evaluate_model_1",
     "locked": true,
     "points": "10",
     "solution": false
    }
   },
   "outputs": [],
   "source": [
    "### BEGIN HIDDEN TESTS\n",
    "assert score1[1] > score0[1]\n",
    "### END HIDDEN TESTS"
   ]
  },
  {
   "cell_type": "code",
   "execution_count": null,
   "metadata": {
    "collapsed": true
   },
   "outputs": [],
   "source": []
  }
 ],
 "metadata": {
  "kernelspec": {
   "display_name": "Python 3.7",
   "language": "python",
   "name": "python37"
  },
  "language_info": {
   "codemirror_mode": {
    "name": "ipython",
    "version": 3
   },
   "file_extension": ".py",
   "mimetype": "text/x-python",
   "name": "python",
   "nbconvert_exporter": "python",
   "pygments_lexer": "ipython3",
   "version": "3.7.5"
  }
 },
 "nbformat": 4,
 "nbformat_minor": 2
}

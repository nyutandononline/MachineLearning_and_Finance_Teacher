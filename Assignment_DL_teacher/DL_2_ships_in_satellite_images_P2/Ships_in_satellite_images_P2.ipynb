{
 "cells": [
  {
   "cell_type": "markdown",
   "metadata": {
    "nbgrader": {
     "grade": false,
     "grade_id": "cell-aab334f02d422094",
     "locked": true,
     "schema_version": 3,
     "solution": false,
     "task": false
    }
   },
   "source": [
    "# Problem description\n",
    "\n",
    "In the last assignment, we created fully connected neural networks to\n",
    "solve the task of classifying whether a ship is present in a satellite photo.\n",
    "\n",
    "This assignment will address the same task, but using Convolutional Neural Network layers.\n"
   ]
  },
  {
   "cell_type": "markdown",
   "metadata": {
    "nbgrader": {
     "grade": false,
     "grade_id": "cell-166bb4a11ef5ad8f",
     "locked": true,
     "schema_version": 3,
     "solution": false,
     "task": false
    }
   },
   "source": [
    "## Goal: \n",
    "\n",
    "In this notebook, you will need to create a model in `TensorFlow/Keras` to classify satellite photos.\n",
    "- The features are images: 3 dimensional collection of pixels\n",
    "  - 2 spatial dimensions\n",
    "  - 1 dimension with 3 features for different parts of the color spectrum: Red, Green, Blue\n",
    "- The labels are either 1 (ship is present) or 0 (ship is not present)\n",
    "\n",
    "There are two notebook files in this assignment:\n",
    "- The one you are viewing now: First and only notebook you need to work on. \n",
    "    - Train your models here\n",
    "    - There are cells that will save your models to a file\n",
    "- **`Model_test.ipynb`**:\n",
    "    - This notebook will retrieve the saved model and test your results.\n",
    "\n",
    "In this `Ships_in_satellite_images_P2.ipynb` notebook, you will need to create CNN models in Keras to classify satellite photos.\n",
    "- The features are images: 3 dimensional collection of pixels\n",
    "  - 2 spatial dimensions\n",
    "  - 1 dimension with 3 features for different parts of the color spectrum: Red, Green, Blue\n",
    "- The labels are either 1 (ship is present) or 0 (ship is not present)"
   ]
  },
  {
   "cell_type": "markdown",
   "metadata": {
    "nbgrader": {
     "grade": false,
     "grade_id": "cell-ed321418e8c05fbd",
     "locked": true,
     "schema_version": 3,
     "solution": false,
     "task": false
    }
   },
   "source": [
    "## Learning objectives\n",
    "- Learn how to construct Neural Networks in a Keras Sequential model that uses Convolutional layer types.\n",
    "- Appreciate how layer choices impact number of weights"
   ]
  },
  {
   "cell_type": "markdown",
   "metadata": {
    "nbgrader": {
     "grade": false,
     "locked": true,
     "solution": false
    }
   },
   "source": [
    "# Import modules"
   ]
  },
  {
   "cell_type": "code",
   "execution_count": null,
   "metadata": {
    "nbgrader": {
     "grade": false,
     "grade_id": "cell-fd8d8a7d42bfb2ef",
     "locked": true,
     "schema_version": 3,
     "solution": false,
     "task": false
    }
   },
   "outputs": [],
   "source": [
    "## Standard imports\n",
    "import numpy as np\n",
    "import pandas as pd\n",
    "import matplotlib.pyplot as plt\n",
    "\n",
    "import sklearn\n",
    "\n",
    "import os\n",
    "import math\n",
    "\n",
    "%matplotlib inline\n",
    "\n",
    "## Import tensorflow\n",
    "import tensorflow as tf\n",
    "from tensorflow.keras.utils import plot_model\n",
    "\n",
    "print(\"Running TensorFlow version \",tf.__version__)\n",
    "\n",
    "# Parse tensorflow version\n",
    "import re\n",
    "\n",
    "version_match = re.match(\"([0-9]+)\\.([0-9]+)\", tf.__version__)\n",
    "tf_major, tf_minor = int(version_match.group(1)) , int(version_match.group(2))\n",
    "print(\"Version {v:d}, minor {m:d}\".format(v=tf_major, m=tf_minor) )"
   ]
  },
  {
   "cell_type": "markdown",
   "metadata": {},
   "source": [
    "# API for students\n",
    "\n",
    "We have defined some utility routines in a file `helper.py`. There is a class named `Helper` in it.  \n",
    "\n",
    "This will simplify problem solving\n",
    "\n",
    "More importantly: it adds structure to your submission so that it may be easily graded\n",
    "\n",
    "`helper = helper.Helper()`\n",
    "\n",
    "- getData: Get a collection of labelled images, used as follows\n",
    "\n",
    "  >`data, labels = helper.getData()`\n",
    "- scaleData: scale your input data\n",
    "\n",
    "  >`X, y = helper.scaleData(data, labels)`\n",
    "- showData: Visualize labelled images, used as follows\n",
    "\n",
    "  >`helper.showData(data, labels)`\n",
    "- plot training results: Visualize training accuracy, loss and validation accuracy, loss\n",
    "\n",
    "  >`helper.plotTrain(history, modelName)`, where history is the result of model training\n",
    "- save model: save a model in `./models` directory\n",
    "\n",
    "  >`helper.saveModel(model, modelName)`\n",
    "- save history: save a model history in `./models` directory\n",
    "  >`helper.saveHistory(history, modelName)`"
   ]
  },
  {
   "cell_type": "code",
   "execution_count": null,
   "metadata": {
    "collapsed": true
   },
   "outputs": [],
   "source": [
    "## Load helper module\n",
    "\n",
    "from IPython.core.interactiveshell import InteractiveShell\n",
    "InteractiveShell.ast_node_interactivity = \"all\"\n",
    "\n",
    "# Reload all modules imported with %aimport\n",
    "%reload_ext autoreload\n",
    "%autoreload 1\n",
    "\n",
    "import helper\n",
    "%aimport helper\n",
    "\n",
    "helper = helper.Helper()"
   ]
  },
  {
   "cell_type": "markdown",
   "metadata": {
    "nbgrader": {
     "grade": false,
     "grade_id": "cell-2803a94c4394768a",
     "locked": true,
     "schema_version": 3,
     "solution": false,
     "task": false
    }
   },
   "source": [
    "# Create the dataset"
   ]
  },
  {
   "cell_type": "code",
   "execution_count": null,
   "metadata": {
    "nbgrader": {
     "grade": false,
     "grade_id": "cell-fb06c24e914c4f81",
     "locked": true,
     "schema_version": 3,
     "solution": false,
     "task": false
    }
   },
   "outputs": [],
   "source": [
    "# Get the data\n",
    "data, labels = helper.getData()\n",
    "n_samples, width, height, channel = data.shape\n",
    "print(\"Date shape: \", data.shape)\n",
    "print(\"Labels shape: \", labels.shape)\n",
    "print(\"Label values: \", np.unique(labels))"
   ]
  },
  {
   "cell_type": "markdown",
   "metadata": {
    "nbgrader": {
     "grade": false,
     "locked": true,
     "solution": false
    }
   },
   "source": [
    "We will shuffle the examples before doing anything else.\n",
    "\n",
    "This is usually a good idea\n",
    "- Many datasets are naturally arranged in a *non-random* order, e.g., examples with the sample label grouped together\n",
    "- You want to make sure that, when you split the examples into training and test examples, each split has a similar distribution of examples"
   ]
  },
  {
   "cell_type": "code",
   "execution_count": null,
   "metadata": {
    "collapsed": true,
    "nbgrader": {
     "grade": false,
     "grade_id": "cell-f9c777cfd609bd58",
     "locked": true,
     "schema_version": 3,
     "solution": false,
     "task": false
    }
   },
   "outputs": [],
   "source": [
    "# Shuffle the data\n",
    "data, labels = sklearn.utils.shuffle(data, labels, random_state=42)"
   ]
  },
  {
   "cell_type": "markdown",
   "metadata": {
    "nbgrader": {
     "grade": false,
     "locked": true,
     "solution": false
    }
   },
   "source": [
    "## Have a look at the data\n",
    "\n",
    "We will not go through all steps in the Recipe, nor in depth.\n",
    "\n",
    "But here's a peek"
   ]
  },
  {
   "cell_type": "code",
   "execution_count": null,
   "metadata": {
    "nbgrader": {
     "grade": false,
     "locked": true,
     "solution": false
    }
   },
   "outputs": [],
   "source": [
    "# Visualize the data samples\n",
    "helper.showData(data[:25], labels[:25])"
   ]
  },
  {
   "cell_type": "markdown",
   "metadata": {
    "nbgrader": {
     "grade": false,
     "grade_id": "cell-56751a57c1c53172",
     "locked": true,
     "schema_version": 3,
     "solution": false,
     "task": false
    }
   },
   "source": [
    "## Have  look at the data: Examine the image/label pairs\n",
    "\n",
    "Rather than viewing the examples in random order, let's group them by label.\n",
    "\n",
    "Perhaps we will learn something about the characteristics of images that contain ships.\n",
    "\n",
    "We have loaded and shuffled our dataset, now we will take a look at image/label pairs. \n",
    "\n",
    "Feel free to explore the data using your own ideas and techniques."
   ]
  },
  {
   "cell_type": "code",
   "execution_count": null,
   "metadata": {
    "nbgrader": {
     "grade": false,
     "grade_id": "cell-a9c0eb2dd06d3edf",
     "locked": true,
     "schema_version": 3,
     "solution": false,
     "task": false
    }
   },
   "outputs": [],
   "source": [
    "# Inspect some data (images)\n",
    "num_each_label = 10\n",
    "\n",
    "for lab in np.unique(labels):\n",
    "    # Fetch images with different labels\n",
    "    X_lab, y_lab = data[ labels == lab ], labels[ labels == lab]\n",
    "    fig = helper.showData( X_lab[:num_each_label], [ str(label) for label in y_lab[:num_each_label] ])\n",
    "    fig.suptitle(\"Label: \"+  str(lab), fontsize=14)\n",
    "    fig.show()\n",
    "    print(\"\\n\\n\")"
   ]
  },
  {
   "cell_type": "markdown",
   "metadata": {},
   "source": [
    "# Make sure the features are in the range [0,1]  \n",
    "\n",
    "Just as in our prior assignment: we need to\n",
    "- Scale the image data so that\n",
    "pixel values are in the range between 0 and 255\n",
    "- Here we don't use one-hot encoding\n",
    "\n",
    "Hopefully you have done this on your own in the prior assignment.\n",
    "We will do it for you below."
   ]
  },
  {
   "cell_type": "code",
   "execution_count": null,
   "metadata": {
    "nbgrader": {
     "grade": false,
     "grade_id": "cell-928f8ec8f33242ea",
     "locked": true,
     "schema_version": 3,
     "solution": false,
     "task": false
    }
   },
   "outputs": [],
   "source": [
    "# Scale the data\n",
    "# Assign values for X, y\n",
    "#  X: the array of features\n",
    "#  y: the array of labels\n",
    "# The length of X and y should be identical and equal to the length of data.\n",
    "X, y = np.array([]), np.array([])\n",
    "one_hot = False\n",
    "X, y = helper.scaleData(data, labels, one_hot)\n",
    "\n",
    "print('X shape: ', str(X.shape))\n",
    "print('y.shape: ', str(y.shape))\n",
    "print(y[0])"
   ]
  },
  {
   "cell_type": "markdown",
   "metadata": {
    "nbgrader": {
     "grade": false,
     "grade_id": "cell-283607cfb26dba87",
     "locked": true,
     "schema_version": 3,
     "solution": false,
     "task": false
    }
   },
   "source": [
    "# Split data into training data and testing data\n",
    "\n",
    "To train and evaluate a model, we need to split the original dataset into\n",
    "a training subset (in-sample) and a test subset (out of sample).\n",
    "\n",
    "We will do this for you in the cell below.\n"
   ]
  },
  {
   "cell_type": "code",
   "execution_count": null,
   "metadata": {
    "collapsed": true,
    "nbgrader": {
     "grade": false,
     "locked": true,
     "solution": false
    }
   },
   "outputs": [],
   "source": [
    "from sklearn.model_selection import train_test_split\n",
    "X_train, X_test, y_train, y_test = train_test_split(X, y, test_size=0.10, random_state=42)\n",
    "\n",
    "# Save X_train, X_test, y_train, y_test for further testing\n",
    "if not os.path.exists('./data'):\n",
    "    os.mkdir('./data')\n",
    "np.savez_compressed('./data/train_test_data.npz', X_train=X_train, X_test=X_test, y_train=y_train, y_test=y_test)"
   ]
  },
  {
   "cell_type": "markdown",
   "metadata": {
    "nbgrader": {
     "grade": false,
     "locked": true,
     "solution": false
    }
   },
   "source": [
    "# Create a simple CNN model \n",
    "\n",
    "**Question:** \n",
    "\n",
    "Create a Keras Sequential model:\n",
    "- Set variable `model0` to be a Keras `Sequential` model object that implements your model.\n",
    "- With a single Convolutional Layer providing 32 features\n",
    "    - You may choose your own kernel size\n",
    "    - Use full padding\n",
    "    - Name your Convolutional layer \"CNN_1\"\n",
    "- Feeding a head layer implementing Classification  \n",
    "    - Name your Dense layer (head layer) \"dense_head\"\n",
    "\n",
    "**Hints:**\n",
    "- The `input shape` argument of the first layer should be the shape of a single example, which should be 3-dimensional. We don't need to flatten the data before feeding the Convolutional layer.\n",
    "- Activation function for the head layer: Since this is a classification problem\n",
    "    - Use  `sigmoid` if your target's final dimension equals 1\n",
    "    - Use  `softmax` if your target's final dimension is greater than 1\n",
    "- What is the shape of the output of the Convolutional Layer ? What should be the shape of the input to the Classification head ?\n",
    "    - You may want to flatten the output of the Convolutional layer before feeding the Classification head."
   ]
  },
  {
   "cell_type": "code",
   "execution_count": null,
   "metadata": {
    "nbgrader": {
     "grade": false,
     "grade_id": "build_CNN",
     "locked": false,
     "schema_version": 3,
     "solution": true,
     "task": false
    }
   },
   "outputs": [],
   "source": [
    "# Get the number of unique labels\n",
    "num_cases = np.unique(y).shape[0]\n",
    "\n",
    "# Set the activation function\n",
    "if y.ndim ==2 and num_cases >= 2:\n",
    "    activation = 'softmax'\n",
    "else:\n",
    "    activation = 'sigmoid'\n",
    "    num_cases = 1\n",
    "\n",
    "# Set model0 equal to a Keras Sequential model\n",
    "model0 = None\n",
    "\n",
    "### BEGIN SOLUTION\n",
    "from tensorflow.keras.models import Sequential\n",
    "from tensorflow.keras.layers import Dense, Flatten, Dropout\n",
    "from tensorflow.keras.layers import Conv2D, MaxPooling2D\n",
    "\n",
    "model0 = Sequential()\n",
    "model0.add(Conv2D(32, (3, 3), padding=\"same\", input_shape=X.shape[1:], activation='relu', name='CNN_1'))\n",
    "model0.add(Flatten())\n",
    "model0.add(Dropout(0.2))\n",
    "model0.add(Dense(num_cases, activation=activation, name='dense_head'))\n",
    "### END SOLUTION\n",
    "\n",
    "model0.summary()"
   ]
  },
  {
   "cell_type": "code",
   "execution_count": null,
   "metadata": {
    "nbgrader": {
     "grade": false,
     "locked": true,
     "solution": false
    }
   },
   "outputs": [],
   "source": [
    "# Plot your model\n",
    "plot_model(model0)"
   ]
  },
  {
   "cell_type": "markdown",
   "metadata": {
    "nbgrader": {
     "grade": false,
     "locked": true,
     "solution": false
    }
   },
   "source": [
    "## Train model\n",
    "\n",
    "\n",
    "**Question:** Now that you have built your first model, you will compile and train it. The requirements are as follows:\n",
    "- Name your model \"CNN + Head\" and store it in variable `model_name0`\n",
    "- Split the **training** examples `X_train, y_train` again !\n",
    "    - 80% will be used for training the model\n",
    "    - 20% will be used as validation (out of sample) examples\n",
    "    - Use `train_test_split()` from `sklearn` to perform this split\n",
    "        -  Set the `random_state` parameter of `train_test_split()` to be 42\n",
    "\n",
    "- Loss function: \n",
    "    - `binary_crossentropy` if your target is one-dimensional\n",
    "    - `categorical_crossentropy`if your target is One Hot Encoded\n",
    "- Metric: \"accuracy\"\n",
    "- Use exactly 10  epochs for training\n",
    "- Save your training results in a variable named `history`\n",
    "- Plot your training results using the`plotTrain` method described in the Student API above.\n",
    "\n"
   ]
  },
  {
   "cell_type": "code",
   "execution_count": null,
   "metadata": {
    "nbgrader": {
     "grade": false,
     "locked": false,
     "solution": false
    }
   },
   "outputs": [],
   "source": [
    "# Set the name of model0\n",
    "model_name0 = \"CNN + Head\"\n",
    "\n",
    "### BEGIN SOLUTION\n",
    "X_train_, X_val_, y_train_, y_val_ = train_test_split(X_train, y_train, test_size=0.2, random_state=42)\n",
    "model0.compile(loss='binary_crossentropy', metrics=['accuracy'])\n",
    "history = model0.fit(X_train_, y_train_, epochs=10, validation_data=(X_val_, y_val_))\n",
    "fig, axs = helper.plotTrain(history, model_name0)\n",
    "### END SOLUTION"
   ]
  },
  {
   "cell_type": "markdown",
   "metadata": {
    "nbgrader": {
     "grade": false,
     "locked": false,
     "solution": false
    }
   },
   "source": [
    "The graphs of your loss and accuracy curves:\n",
    "<img src='./images/CNN_model_loss_accuracy.png' style='width:600px;height:300px;'>\n",
    "\n",
    "We can see that, compared to the prior assignment's model that used *only* a Classification head,\n",
    "adding a CNN layer really seems to help to reduce loss and increase accuracy."
   ]
  },
  {
   "cell_type": "markdown",
   "metadata": {
    "nbgrader": {
     "grade": false,
     "locked": true,
     "solution": false
    }
   },
   "source": [
    "## How many weights in the model ?\n",
    "\n",
    "**Question:** \n",
    "\n",
    "Calculate the number of parameters in your model\n",
    "- Set `num_parameters0` equal to the number of weights in the model\n",
    "\n",
    "**Hint:** You can use model's `count_params()` method."
   ]
  },
  {
   "cell_type": "code",
   "execution_count": null,
   "metadata": {},
   "outputs": [],
   "source": [
    "# Set num_parameters2 equal to the number of weights in the model\n",
    "num_parameters0 = None\n",
    "\n",
    "### BEGIN SOLUTION\n",
    "num_parameters0 = model0.count_params()\n",
    "### END SOLUTION\n",
    "\n",
    "print(\"Parameters number in model0: \", num_parameters0)"
   ]
  },
  {
   "cell_type": "markdown",
   "metadata": {
    "nbgrader": {
     "grade": false,
     "locked": true,
     "solution": false
    }
   },
   "source": [
    "## Evaluate the model\n",
    "\n",
    "\n",
    "**Question:**\n",
    "\n",
    "We have trained our model. We now need to  evaluate the model using the test dataset created in an earlier cell.\n",
    "\n",
    "Please store the model score in a variable named `score0`.   \n",
    "\n",
    "**Hint:** The model object has a method  `evaluate`.  Use that to compute the score."
   ]
  },
  {
   "cell_type": "code",
   "execution_count": null,
   "metadata": {},
   "outputs": [],
   "source": [
    "score0 = []\n",
    "\n",
    "### BEGIN SOLUTION\n",
    "score0 = model0.evaluate(X_test, y_test, verbose=0)\n",
    "### END SOLUTION\n",
    "\n",
    "print(\"{n:s}: Test loss: {l:3.2f} / Test accuracy: {a:3.2f}\".format(n=model_name0, l=score0[0], a=score0[1]))"
   ]
  },
  {
   "cell_type": "markdown",
   "metadata": {
    "nbgrader": {
     "grade": false,
     "locked": true,
     "solution": false
    }
   },
   "source": [
    "## Save the trained model0 and history for submission"
   ]
  },
  {
   "cell_type": "code",
   "execution_count": null,
   "metadata": {
    "nbgrader": {
     "grade": false,
     "locked": true,
     "solution": false
    }
   },
   "outputs": [],
   "source": [
    "helper.saveModel(model0, model_name0)\n",
    "helper.saveHistory(history, model_name0)"
   ]
  },
  {
   "cell_type": "code",
   "execution_count": null,
   "metadata": {
    "collapsed": true,
    "nbgrader": {
     "grade": false,
     "locked": true,
     "solution": false
    }
   },
   "outputs": [],
   "source": [
    "## Restore the model (make sure that it works)\n",
    "model_loaded = helper.loadModel(model_name0)\n",
    "score_loaded = model_loaded.evaluate(X_test, y_test, verbose=0)\n",
    "\n",
    "assert score_loaded[0] == score0[0] and score_loaded[1] == score0[1]"
   ]
  },
  {
   "cell_type": "markdown",
   "metadata": {
    "nbgrader": {
     "grade": false,
     "locked": true,
     "solution": false
    }
   },
   "source": [
    "# Create a model with 4 Convolutional layers\n",
    "\n",
    "**Question:** \n",
    "\n",
    "We will now create a model with more Convolutional layers.\n",
    "- Set variable `model1` to be a Keras `Sequential` model object that implements your model.\n",
    "- Use **4** Convolutional layers.\n",
    "    - You may choose your own kernel size\n",
    "    - Use full padding\n",
    "    - ReLU activation functions for the Convolutional layers\n",
    "\n",
    "    - The first two Convolutional layers should have 32 features each.\n",
    "        - Please name thee layers \"CNN_1\" and \"CNN_2\"\n",
    "    - The last two Convolutional layers should have 64 features each.\n",
    "        - Please name thee layers \"CNN_3\" and \"CNN_4\"\n",
    "- Insert a `MaxPooling` layer after every two Convolutional layers (e.g., after CNN_2 and CNN_4)\n",
    "    - to reduce each spatial dimension by a factor of 2  \n",
    "\n",
    "- Please name your head layer \"dense_head\". \n",
    "\n",
    "**Hints:**\n",
    "- Don't forget to flatten the output of the layer feeding the Classification head \n",
    "- A Dropout layer maybe helpful to prevent overfitting and accelerate your training process. \n"
   ]
  },
  {
   "cell_type": "code",
   "execution_count": null,
   "metadata": {},
   "outputs": [],
   "source": [
    "# Set model1 equal to a Keras Sequential model\n",
    "model1 = None\n",
    "\n",
    "### BEGIN SOLUTION\n",
    "model1 = Sequential()\n",
    "model1.add(Conv2D(32, (3, 3), padding=\"same\", input_shape=(80, 80, 3), activation='relu', name='CNN_1'))\n",
    "model1.add(Conv2D(32, (3, 3), padding=\"same\", activation='relu', name='CNN_2'))\n",
    "model1.add(MaxPooling2D(pool_size=(2, 2)))\n",
    "model1.add(Dropout(0.2))\n",
    "\n",
    "model1.add(Conv2D(64, (3, 3), padding=\"same\", activation='relu', name='CNN_3'))\n",
    "model1.add(Conv2D(64, (3, 3), padding=\"same\", activation='relu', name='CNN_4'))\n",
    "model1.add(MaxPooling2D(pool_size=(2, 2)))\n",
    "model1.add(Dropout(0.2))\n",
    "\n",
    "model1.add(Flatten())\n",
    "model1.add(Dense(num_cases, activation=activation, name='dense_head'))\n",
    "### END SOLUTION\n",
    "\n",
    "model1.summary()"
   ]
  },
  {
   "cell_type": "code",
   "execution_count": null,
   "metadata": {
    "nbgrader": {
     "grade": false,
     "locked": true,
     "solution": false
    }
   },
   "outputs": [],
   "source": [
    "# Plot your model\n",
    "plot_model(model1)"
   ]
  },
  {
   "cell_type": "markdown",
   "metadata": {
    "nbgrader": {
     "grade": false,
     "locked": true,
     "solution": false
    }
   },
   "source": [
    "## Train model\n",
    "**Question:**\n",
    "\n",
    "Train your new model following the same instructions as given for training the first model. **Except**\n",
    "- Save your training results in a variable named `history1`\n",
    "- Name your new model \"4CNNs + Head\" and store it in varibale `model_name1`\n"
   ]
  },
  {
   "cell_type": "code",
   "execution_count": null,
   "metadata": {
    "nbgrader": {
     "grade": false,
     "locked": false,
     "solution": false
    }
   },
   "outputs": [],
   "source": [
    "# Train the model using the API\n",
    "model_name1 = \"4CNNs + Head\"\n",
    "\n",
    "### BEGIN SOLUTION\n",
    "model1.compile(loss='binary_crossentropy', metrics=['accuracy'])\n",
    "history1 = model1.fit(X_train_, y_train_, epochs=10, validation_data=(X_val_, y_val_))\n",
    "fig, axs = helper.plotTrain(history1, model_name1)\n",
    "### END SOLUTION"
   ]
  },
  {
   "cell_type": "markdown",
   "metadata": {
    "nbgrader": {
     "grade": false,
     "locked": false,
     "solution": false
    }
   },
   "source": [
    "The graphs of your loss and accuracy curves:\n",
    "<img src='./images/4CNNs_model_loss_accuracy.png' style='width:600px;height:300px;'>\n",
    "\n",
    "Hopefully, your new model will have improved Loss and Accuracy metrics compared to your first model."
   ]
  },
  {
   "cell_type": "markdown",
   "metadata": {
    "nbgrader": {
     "grade": false,
     "locked": true,
     "solution": false
    }
   },
   "source": [
    "## How many weights in this model ?\n",
    "\n",
    "**Question:** \n",
    "\n",
    "Calculate the number of parameters in your new model.  \n",
    "- Set `num_parameters1` equal to the number of weights in the model"
   ]
  },
  {
   "cell_type": "code",
   "execution_count": null,
   "metadata": {},
   "outputs": [],
   "source": [
    "# Set num_parameters3 equal to the number of weights in the model\n",
    "num_parameters1 = None\n",
    "\n",
    "### BEGIN SOLUTION\n",
    "num_parameters1 = model1.count_params()\n",
    "### END SOLUTION\n",
    "\n",
    "print('Parameters number in model1:', num_parameters1)"
   ]
  },
  {
   "cell_type": "markdown",
   "metadata": {
    "nbgrader": {
     "grade": false,
     "locked": true,
     "solution": false
    }
   },
   "source": [
    "## Evaluate the model\n",
    "\n",
    "Evaluate your new model following the same instructions as given for evaluating the first model.\n",
    "- **Except**: store the model score in a variable named `score1`.  "
   ]
  },
  {
   "cell_type": "code",
   "execution_count": null,
   "metadata": {},
   "outputs": [],
   "source": [
    "score1 = []\n",
    "\n",
    "### BEGIN SOLUTION\n",
    "score1 = model1.evaluate(X_test, y_test, verbose=0)\n",
    "### END SOLUTION\n",
    "\n",
    "print(\"{n:s}: Test loss: {l:3.2f} / Test accuracy: {a:3.2f}\".format(n=model_name1, l=score1[0], a=score1[1]))"
   ]
  },
  {
   "cell_type": "markdown",
   "metadata": {
    "nbgrader": {
     "grade": false,
     "locked": true,
     "solution": false
    }
   },
   "source": [
    "Your test accuracy should be higher than before"
   ]
  },
  {
   "cell_type": "markdown",
   "metadata": {
    "nbgrader": {
     "grade": false,
     "locked": true,
     "solution": false
    }
   },
   "source": [
    "# Save your trained model1 and history1"
   ]
  },
  {
   "cell_type": "code",
   "execution_count": null,
   "metadata": {
    "nbgrader": {
     "grade": false,
     "locked": true,
     "solution": false
    }
   },
   "outputs": [],
   "source": [
    "helper.saveModel(model1, model_name1)\n",
    "helper.saveHistory(history1, model_name1)"
   ]
  },
  {
   "cell_type": "markdown",
   "metadata": {
    "nbgrader": {
     "grade": false,
     "locked": true,
     "solution": false
    }
   },
   "source": [
    "## Your own model (Optional)\n",
    "\n",
    "Now you can build your own model using what you have learned from the course. Some ideas to try:\n",
    "- Change the kernel size in Convolutional layers\n",
    "- Change the number of features of Convolutional layers\n",
    "- Experiment with different pooling layers: `MaxPooling2D` and `AveragePooling2D`\n",
    "- Change the activation function\n",
    "\n",
    "Observe the effect of each change on the Loss and Accuracy.\n"
   ]
  },
  {
   "cell_type": "markdown",
   "metadata": {
    "nbgrader": {
     "grade": false,
     "locked": true,
     "solution": false
    }
   },
   "source": [
    "## Now Submit your assignment!\n",
    "Please click on the blue button <span style=\"color: blue;\"> **Submit** </span> in this notebook. "
   ]
  },
  {
   "cell_type": "code",
   "execution_count": null,
   "metadata": {
    "collapsed": true
   },
   "outputs": [],
   "source": []
  }
 ],
 "metadata": {
  "celltoolbar": "Create Assignment",
  "kernelspec": {
   "display_name": "Python 3.7",
   "language": "python",
   "name": "python37"
  },
  "language_info": {
   "codemirror_mode": {
    "name": "ipython",
    "version": 3
   },
   "file_extension": ".py",
   "mimetype": "text/x-python",
   "name": "python",
   "nbconvert_exporter": "python",
   "pygments_lexer": "ipython3",
   "version": "3.7.5"
  }
 },
 "nbformat": 4,
 "nbformat_minor": 4
}

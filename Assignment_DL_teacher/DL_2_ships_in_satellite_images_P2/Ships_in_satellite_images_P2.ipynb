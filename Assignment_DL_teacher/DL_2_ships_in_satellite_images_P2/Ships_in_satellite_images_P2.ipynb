{
 "cells": [
  {
   "cell_type": "markdown",
   "metadata": {
    "nbgrader": {
     "grade": false,
     "grade_id": "cell-aab334f02d422094",
     "locked": true,
     "schema_version": 3,
     "solution": false,
     "task": false
    }
   },
   "source": [
    "# Problem description\n",
    "\n",
    "In the last assignment, we have developed fully connected neural networks to train image dataset. In this assignment, we will attempt to recognize ships in satellite photos in a different way.\n",
    "\n",
    "As in any other domain: specific knowledge of the problem area will make you a better analyst.\n",
    "For this assignment, we will ignore domain-specific information and just try to use a labelled training set (photo plus a binary indicator for whether a ship is present/absent in the photo), assuming that the labels are perfect.\n",
    "\n",
    "n.b., it appears that a photo is labelled as having a ship present only if the ship is in the center of the photo.  Perhaps this prevents us from double-counting.\n"
   ]
  },
  {
   "cell_type": "markdown",
   "metadata": {
    "nbgrader": {
     "grade": false,
     "grade_id": "cell-166bb4a11ef5ad8f",
     "locked": true,
     "schema_version": 3,
     "solution": false,
     "task": false
    }
   },
   "source": [
    "## Goal:\n",
    "\n",
    "There are two notebook files in this assignment:\n",
    "- **`Ships_in_satellite_images_P2.ipynb`**: First and only notebook you need to work on. Train your models and save them\n",
    "- **`Model_test.ipynb`**: Used to test your results. After you complete the `Ships_in_satellite_images_P2.ipynb`, this notebook should be submitted\n",
    "\n",
    "**Before you start working on this assignment, please check if your kernel is Python 3.7 (Right top of the page). If it is not Python 3.7, please go to `Kernel->Change kernel->Python 3.7` on the top**\n",
    "\n",
    "In this `Ships_in_satellite_images_P2.ipynb` notebook, you will need to create CNN models in Keras to classify satellite photos.\n",
    "- The features are images: 3 dimensional collection of pixels\n",
    "  - 2 spatial dimensions\n",
    "  - 1 dimension with 3 features for different parts of the color spectrum: Red, Green, Blue\n",
    "- The labels are either 1 (ship is present) or 0 (ship is not present)"
   ]
  },
  {
   "cell_type": "markdown",
   "metadata": {
    "nbgrader": {
     "grade": false,
     "grade_id": "cell-ed321418e8c05fbd",
     "locked": true,
     "schema_version": 3,
     "solution": false,
     "task": false
    }
   },
   "source": [
    "## Learning objectives\n",
    "- Learn how to construct Neural Networks using Keras Sequential model\n",
    "- Appreciate how layer choices impact number of weights"
   ]
  },
  {
   "cell_type": "markdown",
   "metadata": {
    "nbgrader": {
     "grade": false,
     "grade_id": "cell-bebac13768dd5459",
     "locked": true,
     "solution": false
    }
   },
   "source": [
    "# Import modules"
   ]
  },
  {
   "cell_type": "code",
   "execution_count": null,
   "metadata": {
    "nbgrader": {
     "grade": false,
     "grade_id": "cell-fd8d8a7d42bfb2ef",
     "locked": true,
     "schema_version": 3,
     "solution": false,
     "task": false
    }
   },
   "outputs": [],
   "source": [
    "## Standard imports\n",
    "import numpy as np\n",
    "import pandas as pd\n",
    "import matplotlib.pyplot as plt\n",
    "\n",
    "import sklearn\n",
    "\n",
    "import os\n",
    "import math\n",
    "\n",
    "%matplotlib inline\n",
    "\n",
    "## Import tensorflow\n",
    "import tensorflow as tf\n",
    "from tensorflow.keras.utils import plot_model\n",
    "\n",
    "print(\"Running TensorFlow version \",tf.__version__)\n",
    "\n",
    "# Parse tensorflow version\n",
    "import re\n",
    "\n",
    "version_match = re.match(\"([0-9]+)\\.([0-9]+)\", tf.__version__)\n",
    "tf_major, tf_minor = int(version_match.group(1)) , int(version_match.group(2))\n",
    "print(\"Version {v:d}, minor {m:d}\".format(v=tf_major, m=tf_minor) )"
   ]
  },
  {
   "cell_type": "markdown",
   "metadata": {},
   "source": [
    "# API for students\n",
    "\n",
    "We have defined some utility routines in a file `nn_helper.py`. There is a class named `Helper` in it.  \n",
    "\n",
    "This will simplify problem solving\n",
    "\n",
    "More importantly: it adds structure to your submission so that it may be easily graded\n",
    "\n",
    "`helper = nn_helper.Helper()`\n",
    "\n",
    "- getData: Get a collection of labelled images, used as follows\n",
    "\n",
    "  >`data, labels = helper.getData()`\n",
    "- scaleData: scale your input data\n",
    "\n",
    "  >`X, y = helper.scaleData(data, labels)`\n",
    "- showData: Visualize labelled images, used as follows\n",
    "\n",
    "  >`helper.showData(data, labels)`\n",
    "- plot training results: Visualize training accuracy, loss and validation accuracy, loss\n",
    "\n",
    "  >`helper.plotTrain(history, modelName)`, where history is the result of model training\n",
    "- save model: save a model in `./models` directory\n",
    "\n",
    "  >`helper.saveModel(model, modelName)`\n",
    "- save history: save a model history in `./models` directory\n",
    "  >`helper.saveHistory(history, modelName)`"
   ]
  },
  {
   "cell_type": "code",
   "execution_count": null,
   "metadata": {
    "collapsed": true
   },
   "outputs": [],
   "source": [
    "## Load nn_helper module\n",
    "\n",
    "from IPython.core.interactiveshell import InteractiveShell\n",
    "InteractiveShell.ast_node_interactivity = \"all\"\n",
    "\n",
    "# Reload all modules imported with %aimport\n",
    "%load_ext autoreload\n",
    "%autoreload 1\n",
    "\n",
    "import nn_helper\n",
    "%aimport nn_helper\n",
    "\n",
    "helper = nn_helper.Helper()"
   ]
  },
  {
   "cell_type": "markdown",
   "metadata": {
    "nbgrader": {
     "grade": false,
     "grade_id": "cell-2803a94c4394768a",
     "locked": true,
     "schema_version": 3,
     "solution": false,
     "task": false
    }
   },
   "source": [
    "# Create the dataset"
   ]
  },
  {
   "cell_type": "code",
   "execution_count": null,
   "metadata": {
    "collapsed": true,
    "nbgrader": {
     "grade": false,
     "grade_id": "cell-fb06c24e914c4f81",
     "locked": true,
     "schema_version": 3,
     "solution": false,
     "task": false
    }
   },
   "outputs": [],
   "source": [
    "# Data directory\n",
    "DATA_DIR = \"./Data\"\n",
    "json_file =  \"shipsnet.json\"\n",
    "\n",
    "# Get the data\n",
    "data, labels = helper.getData(DATA_DIR, json_file)\n",
    "n_samples, width, height, channel = data.shape\n",
    "print(\"Date shape: \", data.shape)\n",
    "print(\"Labels shape: \", labels.shape)\n",
    "print(\"Label values: \", np.unique(labels))"
   ]
  },
  {
   "cell_type": "code",
   "execution_count": null,
   "metadata": {
    "collapsed": true,
    "nbgrader": {
     "grade": false,
     "grade_id": "cell-f9c777cfd609bd58",
     "locked": true,
     "schema_version": 3,
     "solution": false,
     "task": false
    }
   },
   "outputs": [],
   "source": [
    "# Shuffle the data\n",
    "data, labels = sklearn.utils.shuffle(data, labels, random_state=42)"
   ]
  },
  {
   "cell_type": "markdown",
   "metadata": {
    "nbgrader": {
     "grade": false,
     "grade_id": "cell-56751a57c1c53172",
     "locked": true,
     "schema_version": 3,
     "solution": false,
     "task": false
    }
   },
   "source": [
    "## Examine the image/label pairs\n",
    "We have loaded and shuffled our dataset, now we will take a look at image/label pairs. You can also explore the dataset using your own way."
   ]
  },
  {
   "cell_type": "code",
   "execution_count": null,
   "metadata": {
    "collapsed": true,
    "nbgrader": {
     "grade": false,
     "grade_id": "cell-a9c0eb2dd06d3edf",
     "locked": true,
     "schema_version": 3,
     "solution": false,
     "task": false
    }
   },
   "outputs": [],
   "source": [
    "# Inspect some data (images)\n",
    "num_each_label = 10\n",
    "\n",
    "for lab in np.unique(labels):\n",
    "    # Fetch images with different labels\n",
    "    X_lab, y_lab = data[ labels == lab ], labels[ labels == lab]\n",
    "    fig = helper.showData( X_lab[:num_each_label], [ str(label) for label in y_lab[:num_each_label] ])\n",
    "    fig.suptitle(\"Label: \"+  str(lab), fontsize=14)\n",
    "    fig.show()\n",
    "    print(\"\\n\\n\")"
   ]
  },
  {
   "cell_type": "markdown",
   "metadata": {},
   "source": [
    "# Make sure the features are in the range [0,1]  \n",
    "\n",
    "Just like what we have done in the DL 1, we need to scale data first. Since the feature values in our image data are between 0 and 255, to make them between 0 and 1, we need to divide them by 255. In addition, we usually use one-hot encoding to deal with our lables."
   ]
  },
  {
   "cell_type": "code",
   "execution_count": null,
   "metadata": {
    "collapsed": true,
    "nbgrader": {
     "grade": false,
     "grade_id": "cell-928f8ec8f33242ea",
     "locked": true,
     "schema_version": 3,
     "solution": false,
     "task": false
    }
   },
   "outputs": [],
   "source": [
    "# Scale the data\n",
    "# Assign values for X, y\n",
    "#  X: the array of features\n",
    "#  y: the array of labels\n",
    "# The length of X and y should be identical and equal to the length of data.\n",
    "X, y = np.array([]), np.array([])\n",
    "X, y = helper.scaleData(data, labels)\n",
    "\n",
    "print('X shape: ', str(X.shape))\n",
    "print('y.shape: ', str(y.shape))\n",
    "print(y[0])"
   ]
  },
  {
   "cell_type": "markdown",
   "metadata": {
    "nbgrader": {
     "grade": false,
     "grade_id": "cell-283607cfb26dba87",
     "locked": true,
     "schema_version": 3,
     "solution": false,
     "task": false
    }
   },
   "source": [
    "# Split data into training data and testing data\n",
    "To train and evaluate a model, we need to split the original dataset into 2 parts, in-sample and out-of-sample. We train model based on in-sample dataset, then evaluate training result based on out-of-sample dataset.\n",
    "\n",
    "**DO NOT** shuffle the data until after we have performed the split into train/test sets\n",
    "- We want everyone to have the **identical** test set for grading\n",
    "- Do not change this cell"
   ]
  },
  {
   "cell_type": "code",
   "execution_count": null,
   "metadata": {
    "collapsed": true,
    "nbgrader": {
     "grade": false,
     "grade_id": "cell-62107cab9cafed97",
     "locked": true,
     "solution": false
    }
   },
   "outputs": [],
   "source": [
    "from sklearn.model_selection import train_test_split\n",
    "X_train, X_test, y_train, y_test = train_test_split(X, y, test_size=0.10, random_state=42)\n",
    "\n",
    "# Save X_train, X_test, y_train, y_test for further testing\n",
    "if not os.path.exists('./data'):\n",
    "    os.mkdir('./data')\n",
    "np.savez_compressed('./data/train_test_data.npz', X_train=X_train, X_test=X_test, y_train=y_train, y_test=y_test)"
   ]
  },
  {
   "cell_type": "markdown",
   "metadata": {
    "nbgrader": {
     "grade": false,
     "grade_id": "cell-0ecd0b822dfacc9a",
     "locked": true,
     "solution": false
    }
   },
   "source": [
    "# Create a simple CNN model \n",
    "\n",
    "**Question:** Build a CNN model with:\n",
    "- a single Convolutional Layer providing 32 features (you can set your own kernel size); full padding\n",
    "- feeding a Classification layer  \n",
    "\n",
    "Please name your Convolutional layer \"CNN_1\" and your Dense layer (head layer) \"dense_head\"\n",
    "\n",
    "**Hints:**\n",
    "- The input shape is the shape of image sample, which should be 3-dimensional. We don't need to flatten input data at first\n",
    "- After building your Convolutional layer, you need to flatten it into 1-dimensional in order to make the inputs of `Dense` layer right\n",
    "- Since there are 2 cases in labels, you can use a `sigmoid` function or `softmax` function to be your classifier\n",
    "- You may want to use `Dropout` layer to prevent overfitting and accelerate your training process\n",
    "- `MaxPooling2D` or `AveragePooling2D`layer is also useful to reduce number of parameters to learn, in addition, it can help to prevent overfitting"
   ]
  },
  {
   "cell_type": "code",
   "execution_count": null,
   "metadata": {
    "collapsed": true,
    "nbgrader": {
     "grade": false,
     "grade_id": "build_CNN",
     "locked": false,
     "schema_version": 3,
     "solution": true,
     "task": false
    }
   },
   "outputs": [],
   "source": [
    "# Get the number of unique labels\n",
    "num_cases = np.unique(labels).shape[0]\n",
    "\n",
    "# Set model0 equal to a Keras Sequential model\n",
    "model0 = None\n",
    "\n",
    "### BEGIN SOLUTION\n",
    "from tensorflow.keras.models import Sequential\n",
    "from tensorflow.keras.layers import Dense, Flatten, Dropout\n",
    "from tensorflow.keras.layers import Conv2D, MaxPooling2D\n",
    "\n",
    "model0 = Sequential()\n",
    "model0.add(Conv2D(32, (3, 3), padding=\"same\", input_shape=X.shape[1:], activation='relu', name='CNN_1'))\n",
    "model0.add(Flatten())\n",
    "model0.add(Dropout(0.2))\n",
    "model0.add(Dense(num_cases, activation='softmax', name='dense_head'))\n",
    "### END SOLUTION\n",
    "\n",
    "model0.summary()"
   ]
  },
  {
   "cell_type": "code",
   "execution_count": null,
   "metadata": {
    "collapsed": true,
    "nbgrader": {
     "grade": false,
     "grade_id": "cell-54fe70474448b2ab",
     "locked": true,
     "solution": false
    }
   },
   "outputs": [],
   "source": [
    "# Plot your model\n",
    "plot_model(model0)"
   ]
  },
  {
   "cell_type": "markdown",
   "metadata": {
    "nbgrader": {
     "grade": false,
     "grade_id": "cell-dce35e7d469b23c4",
     "locked": true,
     "solution": false
    }
   },
   "source": [
    "## Train model\n",
    "\n",
    "**Question:** Now that you have built your first model, next you will compile and train your model. The requirements are as follows:\n",
    "- Split your dataset `X_train` into 0.8 training data and 0.2 validation data. Set the `random_state` to be 42. You can use `train_test_split()`\n",
    "- Loss function: \"categorical_crossentropy\"; Metric: \"accuracy\"\n",
    "- Training epochs is 10\n",
    "- Save your training results in a variable named `history`\n",
    "- Plot your training results using API `plotTrain()`\n"
   ]
  },
  {
   "cell_type": "code",
   "execution_count": null,
   "metadata": {
    "collapsed": true,
    "nbgrader": {
     "grade": false,
     "locked": false,
     "solution": false
    }
   },
   "outputs": [],
   "source": [
    "model_name0 = \"CNN + Head\"\n",
    "\n",
    "### BEGIN SOLUTION\n",
    "X_train_, X_val_, y_train_, y_val_ = train_test_split(X_train, y_train, test_size=0.2, random_state=42)\n",
    "model0.compile(loss='categorical_crossentropy', metrics=['accuracy'])\n",
    "history = model0.fit(X_train_, y_train_, epochs=10, validation_data=(X_val_, y_val_))\n",
    "fig, axs = helper.plotTrain(history, model_name0)\n",
    "### END SOLUTION"
   ]
  },
  {
   "cell_type": "markdown",
   "metadata": {
    "nbgrader": {
     "grade": false,
     "locked": false,
     "solution": false
    }
   },
   "source": [
    "**Expected outputs (there may be some differences because we only have one Convolutional layer and the model structure may be a little different):**  \n",
    "<table> \n",
    "    <tr> \n",
    "        <td>  \n",
    "            Training accuracy\n",
    "        </td>\n",
    "        <td>\n",
    "         0.9760\n",
    "        </td>\n",
    "    </tr>\n",
    "    <tr> \n",
    "        <td>\n",
    "            Validation accuracy\n",
    "        </td>\n",
    "        <td>\n",
    "         0.9333\n",
    "        </td>\n",
    "    </tr>\n",
    "\n",
    "</table>\n",
    "\n",
    "The graphs of your loss and accuracy curves:\n",
    "<img src='./images/CNN_model_loss_accuracy.png' style='width:600px;height:300px;'>\n",
    "\n",
    "We can see that CNN model is very powerful even though we only have 1 Convolutional layer. It performs much better than the only-fully-connencted models. The training accuracy curve is increasing while the validation accuracy curve is increasing first but then begins to fluctuate around some level. This may tell us that our CNN model is learning at first but then stop learning."
   ]
  },
  {
   "cell_type": "markdown",
   "metadata": {
    "nbgrader": {
     "grade": false,
     "grade_id": "cell-98674d593fed1157",
     "locked": true,
     "solution": false
    }
   },
   "source": [
    "## How many weights in the model ?\n",
    "\n",
    "**Question:** Calculate the number of parameters in your model.  \n",
    "\n",
    "**Hint:** You can use model's method `count_params()`"
   ]
  },
  {
   "cell_type": "code",
   "execution_count": null,
   "metadata": {
    "collapsed": true
   },
   "outputs": [],
   "source": [
    "# Set num_parameters2 equal to the number of weights in the model\n",
    "num_parameters0 = None\n",
    "\n",
    "### BEGIN SOLUTION\n",
    "num_parameters0 = model0.count_params()\n",
    "### END SOLUTION\n",
    "\n",
    "print(\"Parameters number in model0: \", num_parameters0)"
   ]
  },
  {
   "cell_type": "markdown",
   "metadata": {
    "nbgrader": {
     "grade": false,
     "grade_id": "cell-77ec59a6b2d705a5",
     "locked": true,
     "solution": false
    }
   },
   "source": [
    "## Evaluate the model\n",
    "\n",
    "**Question:** We have trained our model, then what we need to do next is to evaluate the model using test dataset. Please store the model score in a variable named `score0`.   \n",
    "\n",
    "**Hint:** The method we should use is `evaluate()`. "
   ]
  },
  {
   "cell_type": "code",
   "execution_count": null,
   "metadata": {
    "collapsed": true
   },
   "outputs": [],
   "source": [
    "score0 = []\n",
    "\n",
    "### BEGIN SOLUTION\n",
    "score0 = model0.evaluate(X_test, y_test, verbose=0)\n",
    "### END SOLUTION\n",
    "\n",
    "print(\"{n:s}: Test loss: {l:3.2f} / Test accuracy: {a:3.2f}\".format(n=model_name0, l=score0[0], a=score0[1]))"
   ]
  },
  {
   "cell_type": "markdown",
   "metadata": {
    "nbgrader": {
     "grade": false,
     "grade_id": "cell-c0378f5188326c7f",
     "locked": true,
     "solution": false
    }
   },
   "source": [
    "Your test accuracy should be around 0.9"
   ]
  },
  {
   "cell_type": "markdown",
   "metadata": {
    "nbgrader": {
     "grade": false,
     "grade_id": "cell-192004702d2fc5db",
     "locked": true,
     "solution": false
    }
   },
   "source": [
    "## Save the trained model0 and history for submission"
   ]
  },
  {
   "cell_type": "code",
   "execution_count": null,
   "metadata": {
    "collapsed": true,
    "nbgrader": {
     "grade": false,
     "grade_id": "cell-6f1a03c62806d4b8",
     "locked": true,
     "solution": false
    }
   },
   "outputs": [],
   "source": [
    "helper.saveModel(model0, model_name0)\n",
    "helper.saveModelNonPortable(model0, model_name0)\n",
    "helper.saveHistory(history, model_name0)"
   ]
  },
  {
   "cell_type": "code",
   "execution_count": null,
   "metadata": {
    "collapsed": true,
    "nbgrader": {
     "grade": false,
     "grade_id": "cell-523fe0434190ea76",
     "locked": true,
     "solution": false
    }
   },
   "outputs": [],
   "source": [
    "## Restore the model (make sure that it works)\n",
    "model_loaded = helper.loadModel(model_name0)\n",
    "score_loaded = model_loaded.evaluate(X_test, y_test, verbose=0)\n",
    "\n",
    "assert score_loaded[0] == score0[0] and score_loaded[1] == score0[1]"
   ]
  },
  {
   "cell_type": "markdown",
   "metadata": {
    "nbgrader": {
     "grade": false,
     "grade_id": "cell-885fb36c1f4c3ee9",
     "locked": true,
     "solution": false
    }
   },
   "source": [
    "# Create a model with 4 Convolutional layers\n",
    "\n",
    "**Question:** At this time, we will add more Convolutional layers to the original model0. You model should have \n",
    "- **4** Convolutional layers. First two Convolutional layers should have 32 features (you can set your own kernel size). Please name these 2 Convolutional layers \"CNN_1\" and \"CNN_2\"; full padding\n",
    "- Last two Convolutional layers should have 64 features (you can set your own kernel size). Please name these 2 Convolutional layers \"CNN_3\" and \"CNN_4\"; full padding\n",
    "- ReLU activation functions follow your Convolutional layers\n",
    "- a MaxPooling layer behind every two Convolutional layers (behind CNN_2 and CNN_4) to reduce each spatial dimension by a factor of 2\n",
    "\n",
    "Please also name your head layer \"dense_head\". \n",
    "\n",
    "**Hints:**\n",
    "- Remember to flatten your outputs of Convolutional layers before feeding them to dense layers\n",
    "- You may want to use `Dropout` layer to prevent overfitting and accelerate your training process"
   ]
  },
  {
   "cell_type": "code",
   "execution_count": null,
   "metadata": {
    "collapsed": true
   },
   "outputs": [],
   "source": [
    "# Set model3 equal to a Keras Sequential model\n",
    "model1 = None\n",
    "\n",
    "### BEGIN SOLUTION\n",
    "model1 = Sequential()\n",
    "model1.add(Conv2D(32, (3, 3), padding=\"same\", input_shape=(80, 80, 3), activation='relu', name='CNN_1'))\n",
    "model1.add(Conv2D(32, (3, 3), padding=\"same\", activation='relu', name='CNN_2'))\n",
    "model1.add(MaxPooling2D(pool_size=(2, 2)))\n",
    "model1.add(Dropout(0.2))\n",
    "\n",
    "model1.add(Conv2D(64, (3, 3), padding=\"same\", activation='relu', name='CNN_3'))\n",
    "model1.add(Conv2D(64, (3, 3), padding=\"same\", activation='relu', name='CNN_4'))\n",
    "model1.add(MaxPooling2D(pool_size=(2, 2)))\n",
    "model1.add(Dropout(0.2))\n",
    "\n",
    "model1.add(Flatten())\n",
    "model1.add(Dense(num_cases, activation='softmax', name='dense_head'))\n",
    "### END SOLUTION\n",
    "\n",
    "model1.summary()"
   ]
  },
  {
   "cell_type": "code",
   "execution_count": null,
   "metadata": {
    "collapsed": true,
    "nbgrader": {
     "grade": false,
     "grade_id": "cell-dcdd427b3ea74992",
     "locked": true,
     "solution": false
    }
   },
   "outputs": [],
   "source": [
    "# Plot your model\n",
    "plot_model(model1)"
   ]
  },
  {
   "cell_type": "markdown",
   "metadata": {
    "nbgrader": {
     "grade": false,
     "grade_id": "cell-8e46d9953695d6e5",
     "locked": true,
     "solution": false
    }
   },
   "source": [
    "## Train model\n",
    "\n",
    "**Question:** Now that you have built your new model1, next you will compile and train your model1. The requirements are as follows:\n",
    "- Split your dataset `X_train` into 0.8 training data and 0.2 validation data. Set the `random_state` to be 42. You can use `train_test_split()`\n",
    "- Loss function: cross entropy; Metric: accuracy\n",
    "- Training epochs is 10\n",
    "- Save your training results in a variable named `history1`\n",
    "- Plot your training results using API `plotTrain()`\n"
   ]
  },
  {
   "cell_type": "code",
   "execution_count": null,
   "metadata": {
    "collapsed": true,
    "nbgrader": {
     "grade": false,
     "locked": false,
     "solution": false
    }
   },
   "outputs": [],
   "source": [
    "# Train the model using the API\n",
    "model_name1 = \"4CNNs + Head\"\n",
    "\n",
    "### BEGIN SOLUTION\n",
    "model1.compile(loss='categorical_crossentropy', metrics=['accuracy'])\n",
    "history1 = model1.fit(X_train_, y_train_, epochs=10, validation_data=(X_val_, y_val_))\n",
    "fig, axs = helper.plotTrain(history1, model_name1)\n",
    "### END SOLUTION"
   ]
  },
  {
   "cell_type": "markdown",
   "metadata": {
    "nbgrader": {
     "grade": false,
     "locked": false,
     "solution": false
    }
   },
   "source": [
    "**Expected outputs (there may be some differences):**  \n",
    "<table> \n",
    "    <tr> \n",
    "        <td>  \n",
    "            Training accuracy\n",
    "        </td>\n",
    "        <td>\n",
    "         0.9903\n",
    "        </td>\n",
    "    </tr>\n",
    "    <tr> \n",
    "        <td>\n",
    "            Validation accuracy\n",
    "        </td>\n",
    "        <td>\n",
    "         0.9750\n",
    "        </td>\n",
    "    </tr>\n",
    "\n",
    "</table>\n",
    "\n",
    "The graphs of your loss and accuracy curves:\n",
    "<img src='./images/4CNNs_model_loss_accuracy.png' style='width:600px;height:300px;'>\n",
    "\n",
    "We can see that new model performs better than previous model. The training accuracy and validation accuracy are both higher than before. What's more, our validation accuracy curve has a trend to increase, which means our new model is learning!"
   ]
  },
  {
   "cell_type": "markdown",
   "metadata": {
    "nbgrader": {
     "grade": false,
     "grade_id": "cell-717674853369a3ee",
     "locked": true,
     "solution": false
    }
   },
   "source": [
    "## How many weights in this model ?\n",
    "\n",
    "**Question:** Calculate the number of parameters in your new model.  "
   ]
  },
  {
   "cell_type": "code",
   "execution_count": null,
   "metadata": {
    "collapsed": true
   },
   "outputs": [],
   "source": [
    "# Set num_parameters3 equal to the number of weights in the model\n",
    "num_parameters1 = None\n",
    "\n",
    "### BEGIN SOLUTION\n",
    "num_parameters1 = model1.count_params()\n",
    "### END SOLUTION\n",
    "\n",
    "print('Parameters number in model1:', num_parameters1)"
   ]
  },
  {
   "cell_type": "markdown",
   "metadata": {
    "nbgrader": {
     "grade": false,
     "grade_id": "cell-f429bc7bd348a070",
     "locked": true,
     "solution": false
    }
   },
   "source": [
    "## Evaluate the model\n",
    "\n",
    "**Question:** We have trained our new model, then what we need to do next is to evaluate the new model using test dataset. Please store the model score in a variable named `score1`.   "
   ]
  },
  {
   "cell_type": "code",
   "execution_count": null,
   "metadata": {
    "collapsed": true
   },
   "outputs": [],
   "source": [
    "score1 = []\n",
    "\n",
    "### BEGIN SOLUTION\n",
    "score1 = model1.evaluate(X_test, y_test, verbose=0)\n",
    "### END SOLUTION\n",
    "\n",
    "print(\"{n:s}: Test loss: {l:3.2f} / Test accuracy: {a:3.2f}\".format(n=model_name1, l=score1[0], a=score1[1]))"
   ]
  },
  {
   "cell_type": "markdown",
   "metadata": {
    "nbgrader": {
     "grade": false,
     "grade_id": "cell-26608e147eb7f5a4",
     "locked": true,
     "solution": false
    }
   },
   "source": [
    "Your test accuracy should be higher than before"
   ]
  },
  {
   "cell_type": "markdown",
   "metadata": {
    "nbgrader": {
     "grade": false,
     "grade_id": "cell-c181815caa08e570",
     "locked": true,
     "solution": false
    }
   },
   "source": [
    "# Save your trained model1 and history1"
   ]
  },
  {
   "cell_type": "code",
   "execution_count": null,
   "metadata": {
    "collapsed": true,
    "nbgrader": {
     "grade": false,
     "grade_id": "cell-d5e52d3b2cef5a8d",
     "locked": true,
     "solution": false
    }
   },
   "outputs": [],
   "source": [
    "helper.saveModel(model1, model_name1)\n",
    "helper.saveModelNonPortable(model1, model_name1)\n",
    "helper.saveHistory(history1, model_name1)"
   ]
  },
  {
   "cell_type": "markdown",
   "metadata": {
    "nbgrader": {
     "grade": false,
     "grade_id": "cell-f9a30644ede90e86",
     "locked": true,
     "solution": false
    }
   },
   "source": [
    "## Your own model (Optional)\n",
    "Now you can build your own model using what you have learned from the course. The things you can try are:\n",
    "- Add `Dropout()` layer and change the parameter \n",
    "- Add `BatchNormalization()` layer\n",
    "- Add pooling layer, `MaxPooling2D` or `AveragePooling2D`\n",
    "- Change the activation function\n",
    "- Change the kernel size in Convolutional layers\n",
    "- Change the number of features of Convolutional layers\n",
    "- ...\n",
    "\n",
    "Try to see how your model will change!"
   ]
  },
  {
   "cell_type": "markdown",
   "metadata": {
    "nbgrader": {
     "grade": false,
     "grade_id": "cell-599d00b6fd86c496",
     "locked": true,
     "solution": false
    }
   },
   "source": [
    "## Now Submit your assignment!\n",
    "Please click on the blue button <span style=\"color: blue;\"> **Submit** </span> in this notebook. "
   ]
  },
  {
   "cell_type": "code",
   "execution_count": null,
   "metadata": {
    "collapsed": true
   },
   "outputs": [],
   "source": []
  }
 ],
 "metadata": {
  "kernelspec": {
   "display_name": "Python 3",
   "language": "python",
   "name": "python3"
  },
  "language_info": {
   "codemirror_mode": {
    "name": "ipython",
    "version": 3
   },
   "file_extension": ".py",
   "mimetype": "text/x-python",
   "name": "python",
   "nbconvert_exporter": "python",
   "pygments_lexer": "ipython3",
   "version": "3.7.4"
  }
 },
 "nbformat": 4,
 "nbformat_minor": 4
}

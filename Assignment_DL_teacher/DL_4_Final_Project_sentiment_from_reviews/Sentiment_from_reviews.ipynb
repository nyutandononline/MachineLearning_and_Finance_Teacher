{
 "cells": [
  {
   "cell_type": "markdown",
   "metadata": {
    "colab_type": "text",
    "id": "yN3g4v8Zl4Fy",
    "nbgrader": {
     "grade": false,
     "grade_id": "cell-7203d8f7df32a103",
     "locked": true,
     "solution": false
    }
   },
   "source": [
    "# Final Project\n"
   ]
  },
  {
   "cell_type": "markdown",
   "metadata": {
    "colab_type": "text",
    "id": "moP0TbbABpSP",
    "nbgrader": {
     "grade": false,
     "grade_id": "cell-6e95bbfc8cc6e84b",
     "locked": true,
     "solution": false
    }
   },
   "source": [
    "## Problem description\n",
    "\n",
    "Time to show off everything you learned !\n",
    "\n",
    "You will be performing a Classification task to analyze the sentiment of product reviews.\n",
    "\n",
    "This is similar to a prior assignment\n",
    "- With a different dataset\n",
    "- Multinomial classification with 5 classes\n",
    "\n",
    "But, by now, you have many more tools at your disposal.\n",
    "\n",
    "## Some possible approaches\n",
    "- A review is a sequence of words.  You will need to deal with sequences in some manner.  Some suggestions\n",
    "  - Pooling\n",
    "  - Recurrent Neural Network\n",
    "- Is there an advantage to recognizing *adjacent* words groups (\"n-grams\") rather than treating the document as an unordered set of words ?\n",
    "  - Consider these two sentences\n",
    "    - \"Machine Learning is easy not hard\"\n",
    "    - \"Machine Learning is hard not easy\"\n",
    "\n",
    "  - Two sentences with identical words but different meaning.\n",
    "  - Hint: Convolutional layer\n",
    "- How should we encode words ?\n",
    "  - OHE ? Embedding ?\n",
    "\n",
    "We will **not specify** an approach.  Feel free to experiment.\n",
    "\n",
    "Your goal is to produce a model with an out of sample accuracy meeting a minimum\n",
    "\n",
    "Your goal is to produce a model with an out of sample accuracy meeting a minimum\n"
   ]
  },
  {
   "cell_type": "markdown",
   "metadata": {
    "nbgrader": {
     "grade": false,
     "grade_id": "cell-4e851c6dd764dac3",
     "locked": true,
     "solution": false
    }
   },
   "source": [
    "  \n",
    "# Advice \n",
    "- Your first model should be *simple* (e.g., OHE + GlobalMaxPooling + Logistic Regression)\n",
    "    - Use it to study the data and get a feel for the problem\n",
    "    - It establishes a baseline from which to improve\n",
    "- Use Error Analysis to understand where your model is failing.\n",
    "    - Perhaps the failure cases suggest improvements ?\n",
    "- Remember: this is an *iterative* process\n",
    "    - Your later models can become increasingly complex (e.g., Embedding + LSTM)"
   ]
  },
  {
   "cell_type": "markdown",
   "metadata": {
    "colab_type": "text",
    "id": "SIA71lpFmaw8",
    "nbgrader": {
     "grade": false,
     "grade_id": "cell-35a05919e61e599c",
     "locked": true,
     "schema_version": 3,
     "solution": false,
     "task": false
    }
   },
   "source": [
    "## Grading\n",
    "\n",
    "Prior assignments evaluated you step by step.\n",
    "\n",
    "This project is **results-based**. Your goal is to create a model\n",
    "- That achieves an out of sample accuracy of at least 50%\n",
    "- 60% would be better !\n",
    "\n",
    "There are three data files in the directory `./resource/asnlib/publicdata/tweets/data`:  \n",
    "- `train.csv`:\n",
    "    - This is the dataset on which you will train your model\n",
    "- `test.csv`:\n",
    "    - This is the dataset by which you will be judged !\n",
    "    - It has no labels so **you** can't use it to train or test your model\n",
    "        - But **we do have** the labels so we can test your accuracy\n",
    "    - Once you have built your model, you will make predictions on these examples and submit them for grading\n",
    "- `submit_sample.csv`:\n",
    "    - The file of predictions that you will submit should be similar in format to this file\n",
    "\n",
    "**The file that you submit for grading**\n",
    "- Should be named \"my_submit.csv\"\n",
    "**Submit your file: save outputs of your model in a pandas dataframe, name it \"my_submit.csv\"**"
   ]
  },
  {
   "cell_type": "markdown",
   "metadata": {
    "colab_type": "text",
    "id": "tEqGfYbUBpSQ",
    "nbgrader": {
     "grade": false,
     "grade_id": "cell-327340d0bbe99d64",
     "locked": true,
     "solution": false
    }
   },
   "source": [
    "## Learning objectives\n",
    "- Experimentation !\n",
    "- Error Analysis leading to model improvement\n",
    "- Appreciate how choices impact number of weights\n"
   ]
  },
  {
   "cell_type": "code",
   "execution_count": 1,
   "metadata": {
    "colab": {},
    "colab_type": "code",
    "id": "efiTwPiKBpSc",
    "nbgrader": {
     "grade": false,
     "grade_id": "cell-f5851f986532e3fc",
     "locked": true,
     "solution": false
    }
   },
   "outputs": [
    {
     "name": "stdout",
     "output_type": "stream",
     "text": [
      "Running TensorFlow version  2.1.0\n",
      "Version 2, minor 1\n"
     ]
    }
   ],
   "source": [
    "from __future__ import print_function\n",
    "\n",
    "import numpy as np\n",
    "import pandas as pd\n",
    "import matplotlib.pyplot as plt\n",
    "\n",
    "import sklearn\n",
    "from sklearn import preprocessing\n",
    "\n",
    "import os\n",
    "import re\n",
    "import json\n",
    "import math\n",
    "\n",
    "%matplotlib inline\n",
    "\n",
    "import tensorflow as tf\n",
    "print(\"Running TensorFlow version \",tf.__version__)\n",
    "\n",
    "# Parse tensorflow version\n",
    "version_match = re.match(\"([0-9]+)\\.([0-9]+)\", tf.__version__)\n",
    "tf_major, tf_minor = int(version_match.group(1)) , int(version_match.group(2))\n",
    "print(\"Version {v:d}, minor {m:d}\".format(v=tf_major, m=tf_minor) )\n",
    "\n",
    "\n",
    "from tensorflow.keras.preprocessing import sequence\n",
    "from tensorflow.keras.preprocessing.text import Tokenizer\n",
    "from tensorflow.keras.preprocessing import sequence\n",
    "from tensorflow.keras.models import Sequential\n",
    "from tensorflow.keras.layers import Dense, Dropout, Activation\n",
    "from tensorflow.keras.layers import Embedding\n",
    "from tensorflow.keras.layers import Conv1D, GlobalMaxPooling1D, LSTM\n",
    "\n",
    "from tensorflow.keras.callbacks import EarlyStopping, ModelCheckpoint\n",
    "\n",
    "from tensorflow.keras.utils import plot_model\n",
    "import IPython"
   ]
  },
  {
   "cell_type": "markdown",
   "metadata": {
    "colab_type": "text",
    "id": "7bmNajQkBpSf",
    "nbgrader": {
     "grade": false,
     "grade_id": "cell-fb4830d838d2c5e9",
     "locked": true,
     "solution": false
    }
   },
   "source": [
    "# API for students\n",
    "\n",
    "We will define some utility routines.\n",
    "\n",
    "This will simplify problem solving\n",
    "\n",
    "More importantly: it adds structure to your submission so that it may be easily graded\n",
    "\n",
    "**If you want to take a look at the API or change it, you can open it by selecting \"File->Open->final_helper.py\"**\n",
    "\n",
    "`helper = final_helper.HELPER()`\n",
    "\n",
    "### Preprocess raw dataset\n",
    "- getDataRaw: get raw data.          \n",
    "  >`train_raw, test_raw = helper.getDataRaw()`         \n",
    "- getTextClean: clean text. \n",
    "  >`data_raw` is the raw data you get from `helper.getDataRaw()`, which is a pandas DataFrame          \n",
    "  >`textAttr` is the column of text data      \n",
    "  >`sentAttr` is the column of label       \n",
    "  >`docs, sents = helepr.getTextClean(data_raw, textAttr, sentAttr`         \n",
    "- encodeDocs: text tokenization\n",
    "  >`docs` is the text data          \n",
    "  >`vocab_size` is the size of vocabulary           \n",
    "  >`words_in_doc` is number of words in a review           \n",
    "  >`tok, encoded_docs, encoded_docs_padded = helper.encodeDocs(docs, vocab_size, words_in_doc)`        \n",
    "- showEncodedDocs: display data by reversing index back to word. \n",
    "  >`tok` is an object of `Tokenizer`             \n",
    "  >`encoded_docs_padded` is the text data which you have encoded and padded                  \n",
    "  >`helper.showEncodedDocs(tok, encoded_docs_padded)`                   \n",
    "- getExamplesOHE: one-hot encode samples. \n",
    "  >`encoded_docs_padded` is the text data which you have encoded and padded                 \n",
    "  >`sents` is the labels                \n",
    "  >`vocab_size` is number of words in the vocabulary           \n",
    "  >`X, y = helper.getExamples(encoded_docs_padded, sents, vocab_size)`          \n",
    "\n",
    "### Train model\n",
    "- trainModelCat: train model for categorical labels\n",
    "  >`patience` and `min_delta` are parameters of `EarlyStopping`        \n",
    "  >`history = helper.trainModelCat(model, X_train, X_val, y_train, y_val, num_epochs=30, metric=\"acc\", patience=5, min_delta=.005)`\n",
    "  \n",
    "### Save model and load model\n",
    "- save model: save a model in `./models` directory\n",
    "  >`helper.saveModel(model, modelName)`\n",
    "- save history: save a model history in `./models` directory\n",
    "  >`helper.saveHistory(history, modelName)`\n",
    "- load model: load a model in `./models` directory\n",
    "  >`helper.loadModel(model, modelName)`\n",
    "- load history: load a model history in `./models` directory\n",
    "  >`helper.loadHistory(modelName)`\n",
    "\n",
    "### Plot models and training results\n",
    "- plotModel: plot your models\n",
    "  >`helper.plotModel(model, model_name)`\n",
    "- plot_training: plot your training results\n",
    "  >`helper.plot_training(history, metric='acc')`\n"
   ]
  },
  {
   "cell_type": "code",
   "execution_count": 4,
   "metadata": {
    "colab": {},
    "colab_type": "code",
    "id": "NiwvVQUJBpSV",
    "nbgrader": {
     "grade": false,
     "grade_id": "cell-7466fc560f2321e5",
     "locked": true,
     "solution": false
    }
   },
   "outputs": [],
   "source": [
    "from IPython.core.interactiveshell import InteractiveShell\n",
    "InteractiveShell.ast_node_interactivity = \"all\"\n",
    "\n",
    "# Reload all modules imported with %aimport\n",
    "%reload_ext autoreload\n",
    "%autoreload 1\n",
    "\n",
    "%matplotlib inline\n",
    "\n",
    "import final_helper\n",
    "%aimport final_helper\n",
    "\n",
    "helper = final_helper.HELPER()"
   ]
  },
  {
   "cell_type": "markdown",
   "metadata": {
    "colab_type": "text",
    "id": "OHUZacWsBpSi",
    "nbgrader": {
     "grade": false,
     "grade_id": "cell-03fd9638a3c99240",
     "locked": true,
     "solution": false
    }
   },
   "source": [
    "\n",
    "\n",
    "## Load data\n"
   ]
  },
  {
   "cell_type": "code",
   "execution_count": 5,
   "metadata": {
    "colab": {},
    "colab_type": "code",
    "id": "OUhrnGczBpSi",
    "nbgrader": {
     "grade": false,
     "grade_id": "cell-3013bce47eec8ec5",
     "locked": true,
     "schema_version": 3,
     "solution": false,
     "task": false
    }
   },
   "outputs": [],
   "source": [
    "# Load training data and test data\n",
    "train_raw, test_raw = helper.getDataRaw() "
   ]
  },
  {
   "cell_type": "code",
   "execution_count": 6,
   "metadata": {
    "colab": {
     "base_uri": "https://localhost:8080/",
     "height": 204
    },
    "colab_type": "code",
    "id": "z6x5Q--mJXDE",
    "nbgrader": {
     "grade": false,
     "grade_id": "cell-95d1ead056e04b65",
     "locked": true,
     "schema_version": 3,
     "solution": false,
     "task": false
    },
    "outputId": "2463af1a-fda4-4288-8616-5d333c772acf"
   },
   "outputs": [
    {
     "data": {
      "text/html": [
       "<div>\n",
       "<style scoped>\n",
       "    .dataframe tbody tr th:only-of-type {\n",
       "        vertical-align: middle;\n",
       "    }\n",
       "\n",
       "    .dataframe tbody tr th {\n",
       "        vertical-align: top;\n",
       "    }\n",
       "\n",
       "    .dataframe thead th {\n",
       "        text-align: right;\n",
       "    }\n",
       "</style>\n",
       "<table border=\"1\" class=\"dataframe\">\n",
       "  <thead>\n",
       "    <tr style=\"text-align: right;\">\n",
       "      <th></th>\n",
       "      <th>overall</th>\n",
       "      <th>verified</th>\n",
       "      <th>reviewTime</th>\n",
       "      <th>reviewerID</th>\n",
       "      <th>asin</th>\n",
       "      <th>style</th>\n",
       "      <th>reviewerName</th>\n",
       "      <th>reviewText</th>\n",
       "      <th>unixReviewTime</th>\n",
       "      <th>vote</th>\n",
       "      <th>image</th>\n",
       "    </tr>\n",
       "  </thead>\n",
       "  <tbody>\n",
       "    <tr>\n",
       "      <th>0</th>\n",
       "      <td>4.0</td>\n",
       "      <td>False</td>\n",
       "      <td>10 20, 2010</td>\n",
       "      <td>A38NELQT98S4H8</td>\n",
       "      <td>0321719816</td>\n",
       "      <td>{'Format:': ' DVD-ROM'}</td>\n",
       "      <td>WB Halper</td>\n",
       "      <td>I've been using Dreamweaver (and it's predeces...</td>\n",
       "      <td>1287532800</td>\n",
       "      <td>NaN</td>\n",
       "      <td>NaN</td>\n",
       "    </tr>\n",
       "    <tr>\n",
       "      <th>1</th>\n",
       "      <td>4.0</td>\n",
       "      <td>False</td>\n",
       "      <td>10 18, 2010</td>\n",
       "      <td>A3QJU4FEN8PQSZ</td>\n",
       "      <td>0321719816</td>\n",
       "      <td>{'Format:': ' DVD-ROM'}</td>\n",
       "      <td>Grimmy</td>\n",
       "      <td>The demo is done with the PC version, with ref...</td>\n",
       "      <td>1287360000</td>\n",
       "      <td>NaN</td>\n",
       "      <td>NaN</td>\n",
       "    </tr>\n",
       "    <tr>\n",
       "      <th>2</th>\n",
       "      <td>5.0</td>\n",
       "      <td>False</td>\n",
       "      <td>10 16, 2010</td>\n",
       "      <td>ACJT8MUC0LRF0</td>\n",
       "      <td>0321719816</td>\n",
       "      <td>{'Format:': ' DVD-ROM'}</td>\n",
       "      <td>D. Fowler</td>\n",
       "      <td>If you've been wanting to learn how to create ...</td>\n",
       "      <td>1287187200</td>\n",
       "      <td>3</td>\n",
       "      <td>NaN</td>\n",
       "    </tr>\n",
       "    <tr>\n",
       "      <th>3</th>\n",
       "      <td>5.0</td>\n",
       "      <td>False</td>\n",
       "      <td>10 12, 2010</td>\n",
       "      <td>AYUF7YETYOLNX</td>\n",
       "      <td>0321719816</td>\n",
       "      <td>{'Format:': ' DVD-ROM'}</td>\n",
       "      <td>Bryan Newman</td>\n",
       "      <td>I've been creating websites with Dreamweaver f...</td>\n",
       "      <td>1286841600</td>\n",
       "      <td>NaN</td>\n",
       "      <td>NaN</td>\n",
       "    </tr>\n",
       "    <tr>\n",
       "      <th>4</th>\n",
       "      <td>5.0</td>\n",
       "      <td>False</td>\n",
       "      <td>10 7, 2010</td>\n",
       "      <td>A31ICLWQ9CSHRS</td>\n",
       "      <td>0321719816</td>\n",
       "      <td>{'Format:': ' DVD-ROM'}</td>\n",
       "      <td>Al Swanson</td>\n",
       "      <td>I decided (after trying a number of other prod...</td>\n",
       "      <td>1286409600</td>\n",
       "      <td>NaN</td>\n",
       "      <td>NaN</td>\n",
       "    </tr>\n",
       "  </tbody>\n",
       "</table>\n",
       "</div>"
      ],
      "text/plain": [
       "   overall  verified   reviewTime      reviewerID        asin  \\\n",
       "0      4.0     False  10 20, 2010  A38NELQT98S4H8  0321719816   \n",
       "1      4.0     False  10 18, 2010  A3QJU4FEN8PQSZ  0321719816   \n",
       "2      5.0     False  10 16, 2010   ACJT8MUC0LRF0  0321719816   \n",
       "3      5.0     False  10 12, 2010   AYUF7YETYOLNX  0321719816   \n",
       "4      5.0     False   10 7, 2010  A31ICLWQ9CSHRS  0321719816   \n",
       "\n",
       "                     style  reviewerName  \\\n",
       "0  {'Format:': ' DVD-ROM'}     WB Halper   \n",
       "1  {'Format:': ' DVD-ROM'}        Grimmy   \n",
       "2  {'Format:': ' DVD-ROM'}     D. Fowler   \n",
       "3  {'Format:': ' DVD-ROM'}  Bryan Newman   \n",
       "4  {'Format:': ' DVD-ROM'}    Al Swanson   \n",
       "\n",
       "                                          reviewText  unixReviewTime vote  \\\n",
       "0  I've been using Dreamweaver (and it's predeces...      1287532800  NaN   \n",
       "1  The demo is done with the PC version, with ref...      1287360000  NaN   \n",
       "2  If you've been wanting to learn how to create ...      1287187200    3   \n",
       "3  I've been creating websites with Dreamweaver f...      1286841600  NaN   \n",
       "4  I decided (after trying a number of other prod...      1286409600  NaN   \n",
       "\n",
       "  image  \n",
       "0   NaN  \n",
       "1   NaN  \n",
       "2   NaN  \n",
       "3   NaN  \n",
       "4   NaN  "
      ]
     },
     "execution_count": 6,
     "metadata": {},
     "output_type": "execute_result"
    }
   ],
   "source": [
    "train_raw.head()"
   ]
  },
  {
   "cell_type": "code",
   "execution_count": 7,
   "metadata": {
    "colab": {
     "base_uri": "https://localhost:8080/",
     "height": 34
    },
    "colab_type": "code",
    "id": "2XffyPrDedWO",
    "nbgrader": {
     "grade": false,
     "grade_id": "cell-ccf16cfd3102ece3",
     "locked": true,
     "schema_version": 3,
     "solution": false,
     "task": false
    },
    "outputId": "14c176e6-c6f4-4820-fc38-0b9f9fb3f625"
   },
   "outputs": [
    {
     "data": {
      "text/plain": [
       "(11524, 11)"
      ]
     },
     "execution_count": 7,
     "metadata": {},
     "output_type": "execute_result"
    }
   ],
   "source": [
    "train_raw.shape"
   ]
  },
  {
   "cell_type": "markdown",
   "metadata": {
    "colab_type": "text",
    "id": "xN_lWRgsBpSl",
    "nbgrader": {
     "grade": false,
     "grade_id": "cell-cce58e01e0e57ed6",
     "locked": true,
     "solution": false
    }
   },
   "source": [
    "## Data preprocessing\n",
    "\n",
    "The reviews are in the \"reviewText\" attribute.\n",
    "\n",
    "\n",
    "\n",
    "You may try to use other attributes as additional features if you choose, but we suggest that your first model may use this as the only source of features.\n",
    "\n",
    "When you are manipulating your training set, **DON'T FORGET** to do the same manipulation on **test** set, because you need to use your test set as input of your final model!\n"
   ]
  },
  {
   "cell_type": "markdown",
   "metadata": {
    "colab_type": "text",
    "id": "o0ufUriSrtp6",
    "nbgrader": {
     "grade": false,
     "grade_id": "cell-59817e839cd28266",
     "locked": true,
     "solution": false
    }
   },
   "source": [
    "## Get the labelled training data\n",
    "- Features: docs.  Each document is a single review (sequence of characters)\n",
    "- Targets/Labels: sents. Each is the sentiment associated with the review."
   ]
  },
  {
   "cell_type": "code",
   "execution_count": 8,
   "metadata": {
    "colab": {
     "base_uri": "https://localhost:8080/",
     "height": 190
    },
    "colab_type": "code",
    "id": "vwoaUwe-BpSm",
    "nbgrader": {
     "grade": false,
     "grade_id": "cell-7669732d636d2136",
     "locked": false,
     "schema_version": 3,
     "solution": true,
     "task": false
    },
    "outputId": "ff9004ae-0baf-4341-b343-f66d647ffe06"
   },
   "outputs": [
    {
     "name": "stdout",
     "output_type": "stream",
     "text": [
      "Docs shape is  (11523,)\n",
      "Sents shape is  (11523,)\n",
      "[\"I've been using Dreamweaver (and it's predecessor Macromedia's UltraDev) for many years.  For someone who is an experienced web designer, this course is a high-level review of the CS5 version of Dreamweaver, but it doesn't go into a great enough level of detail to find it very useful.\\n\\nOn the other hand, this is a great tool for someone who is a relative novice at web design.  It starts off with a basic overview of HTML and continues through the concepts necessary to build a modern web site.  Someone who goes through this course should exit with enough knowledge to create something that does what you want it do do...within reason.  Don't expect to go off and build an entire e-commerce system with only this class under your belt.\\n\\nIt's important to note that there's a long gap from site design to actual implementation.  This course teaches you how to implement a design.  The user interface and overall user experience is a different subject that isn't covered here...it's possible to do a great implementation of an absolutely abysmal design.  I speak from experience.  :)\\n\\nAs I said above, if you're a novice, a relative newcomer or just an experienced web designer who wants a refresher course, this is a good way to do it.\"\n",
      " 'The demo is done with the PC version, with references to the Mac version when needed. The video is closed-captioned. You can set bookmarks. There are self-tests for each chapter as well.\\n\\nStarts off with \"what is HTML\" and some other basic stuff. Includes topics such as: Planning your Website; Defining a site in DW; Creating a new web page; Adding Text; Formatting with CSS; Images and rich media; Links; Page layout w/ CSS; Tables; Forms; Reusable Content; Testing; etc. Each section has sub-sections with their own video, and some have sub-sub-sections to flesh out the material, such as the one regarding project management, or CSS, which includes discussion of CSS for print. It is not, however, a tutorial on \"the best way to lay out a site using CSS\" or anything like that. For that, you\\'ll need a book or two on that subject.\\n\\nShe has a site that has some helpful resources, e.g. checklists for project management and site development, and helpful URLs. All in all, it\\'s a decent introduction to creating web sites.\\n\\nShe sounds weird, though, like a robot (or Stephen Hawking\\'s voicebox) with her halting, clipped delivery. She tends to be slightly chatty and repeat material, but it\\'s not that bad; could be helpful for retention for people new to the subject.\\n\\nUI - at the top of the interface, there\\'s a \"Previous Video\" button and \"Next Video\" button. The \"Next Video\" button is disabled for the last video of each chapter, so to get to the next one you\\'ll have to use other navigation. This is because the last item is the test. Kinda dumb UI choice, initially confusing. They could have changed it to read \"Take Test\" instead of putting up a virtual dead end. There is a sidebar which is normally hidden (you are cued that you can display it when the mouse strays into the video area), which has information on the current video and lists/links to the other videos in the chapter. The title bar (under the top-left tabs) is a dropdown to navigate the content.\\n\\nThere\\'s a \"Watch and Work\" mode which shrinks the video display to let you work with your copy of DreamWeaver (not included). You can move the video window around BUT you CANNOT resize it - and it may be kind of tiny to watch in that mode. So if you have a dual monitor setup, you\\'ll want to drag the Standard Mode video player to the other screen; Standard Mode cannot be resized to be smaller, either.\\n\\nAll in all, a good value if you want to learn DreamWeaver.'\n",
      " 'If you\\'ve been wanting to learn how to create your own website, but have either lacked the confidence or knowledge, this affordable combination book and video course will enable you to learn at your own leisure.  There are more than twelve hours of video training included in this package, most of it split up in the small, absorbable sections.  This courseware is \"Certified Associate,\" approved courseware.  Dreamweaver is the premier product for website creation.  It offers several new advantages/features for the user.  It has improved dynamic applications, new CSS features that offer more control over your design, you can turn individual CSS properties on and off (you can see how they affect your designs), and you can fuse box model elements to troubleshoot directly within Dreamweaver.  If you are confident this DVD/book bundle is for you, you can simply bypass this review or read some shorter versions (this is a very long review).  If not, keep on reading.\\n\\nWith this software you\\'ll learn a lot of basics, however, if you are already a web designer or have a lot of experience, you may find a lot of the material to be redundant.  On the other hand, if you are anxious to learn web design, this is the perfect place to start.  Taking a course can cost you a lot of $, but this course is quite affordable ... if you decide it is not for you, then you can hand it along to someone else.  You\\'ll be getting more than twelve hours of video training from \"Adobe Certified Instructors\", a reference book, lesson files, and you can copy certain files to your iPhone, iPod, or iPad.\\n\\nFor the hearing impaired the script to the dialogue runs along the bottom as the narrator speaks. You can stop the video at any time to get a closer look at what is being done and/or absorb the material.  At the end of each section is a \"test\" to enable you to know just how you are progressing on each section.\\n\\nIf you are in a bookstore you can easily pick up a copy and glance at the book, but you cannot see what is on the DVD.  I\\'ll try to describe what is on the DVD to the buyer can get a good understanding of what is on there and can decide if Adobe Dreamweaver CS5 is what they need. I\\'ve simply listed the few words under the contents and have tried to briefly explain what you\\'ll be learning on the videos.\\n\\nCONTENTS:\\n\\n1) HTML Refresher - This is an excellent section for someone who already knows HTML, but could use a refresher in the form of a \"crash course.\"  You\\'ll find a URL overview, an HTML intro (tags, how some browsers read tags differently, and what Dreamweaver \"does behind the scenes).\\n\\n2) Dreamweaver Introduction - You\\'ll finally be able to learn what WYSIWYG is, you\\'ll be introduced to Dreamweaver Design, Code, and split screens, and the welcome screen.  You\\'ll learn about the Dreamweaver interface, the Workplace Switcher (the software\\'s workplaces, arranging and saving your workspace), how to customize your workspace, setting up our preferences, an dhow to customize the insert bar.\\n\\n3) Getting a Quick Start - You\\'ll learn about several starter layouts you can customize with CSS, how to build a starter layout page, how to create and set up the header area on a homepage, how to add a navigation bar (shows how to customize with CSS), how to use CSS to format your main content, you\\'ll learn how to add links using CSS formatting, how to modify HTML tags and background color using CSS, and how to add a page border.\\n\\n4) Planning Your Website - You\\'ll learn about project management (five videos), site development (two videos), and how to test your site (two videos).  You can opt to play all the videos in each section consecutively.\\n\\n5) Defining a Site in Dreamweaver - You\\'ll learn about defining a site, what the benefits there are to defining, the course setup (copying & storing the files you\\'ll need for your website), defining a site in Dreamweaver, and how to use the files panel.\\n\\n6) Creating a New Web Page - You\\'ll learn how to create a web page by using the Welcome Screen, how to save a web page (considerations needed when naming a page), how to assign a proper title to a web page, and you\\'ll learn what meta tags do and why they are important.\\n\\n7) Adding the Tex Content - You\\'ll learn three ways to add text to your webpage (typing, copying/pasting or importing), how to set up headings, how to create lists for web pages (unordered, ordered, and definition), several ways of highlighting text, and how to insert special characters.\\n\\n8) Formatting Text with CSS - You\\'ll receive an overview of text formatting options with CSS, you\\'ll learn where you can manage and store the styles for you site, how to \"create a .CSS file and link your web pages to it,\" create styles for HTML tags, create class styles, edit styles, you\\'ll learn how to add font styles (custom font stack), you\\'ll learn about styles created by page properties, CSS styles for printing, and how to use the code navigator.\\n\\n9) Images and Rich Media - You\\'ll learn how to pick the right web image, how to choose the file format for your project, the importance of inserting alternate text, inserting images, understanding and creating file paths, you\\'ll learn how to use the assets panel, how to modify images, you\\'ll learn how to work with Photoshop Smart Objects, use Flash Files to enrich your site, use Flash Video (FLV), and will learn how to optimize the use of your favorites panel.\\n\\n10) Creating Links - You\\'ll learn where you can insert hyperlinks, the different kinds of links you can create, how you can link to an Internet resource, how you can create a \"local lin\" for a document within a single site, how to link to a Word or Microsoft Excel file, how to create an anchor link, how to create an email lin (with the recipients address pre-filled), you\\'ll learn about images and image mapping (clickable hotspots), how to create rollover images, and how to insert a navigation bar (Fireworks).\\n\\n11) Page Layout with CSS - You\\'ll learn background information about CSS, how to master the mechanics of CSS page layout, how to understand the box model, how to insert a div tag, how to add different styles to your div tags so CSS can control you page content, you\\'ll learn how to edit CSS style for a div tag, how to insert a div tag (increase your efficiency), options for using div tags, fine tuning your page with different styles, customize your links (make your site attractive and consistent), center your page content, use AP elements, use inspection tools to edit and troubleshoot, you\\'ll learn about the four types of positioning with CSS, and you\\'ll learn how to use CSS selector types and tools.\\n\\n12) Tables - You\\'ll learn how easy it is to create a table, options you can use to modify a table, use CSS for formatting tables (match text to the rest of your website), importing tabular data, merging and splitting table cells, working on rows and columns, and table alignment (border background colors, centering).\\n\\n13) Forms - You\\'ll learn how create a basic for, how to use text fields (common HTML elements), ensure \"user input gets back to you,\" form validation (checkboxes, submit buttons), how to validate forms, and use Spry for from validation (implement Ajax).\\n\\n14) Reusable Content - You\\'ll learn about templates and library items, how to use the library, modify a library item (keeping your pages contemporary), converting HTML to a template, creating additional pages based on your template, controlling and working with \"editable\" regions, template application, and you\\'ll learn how to detach a page from a template.\\n\\n15) Testing - You\\'ll learn how to use the spell-checker, search for a fix broken links, how you can preview your work, how to check browser compatibility, dealing with browser issues, how to allow users to test your site and offer valuable feedback, learn about page loading time an dfile size, and Dreamweaver extensions.\\n\\n16) Publishing and Maintenance - You\\'ll learn how to manage you files, set up your web server to upload and download files directly to the site from Dreamweaver, learn how to expand files, incontext editing (allows non-technical users to edit the web page), Subversion control and integration features.\\n\\nYou\\'ll also be treated to four bonus videos.  This was a long review, but hopefully anyone looking for core training in web communication will now know exactly what they will receive when they purchase this program.'\n",
      " \"I've been creating websites with Dreamweaver for years now, and all that experience has taught me one thing - I'm a hack web designer.  Recently I have been trying to learn industry CSS standards and had heard that Dreamweaver has made great advances in CSS management in CS4 and CS5. I'm embarrassed to say what version I am using.\\n\\nWhen I got a chance to get a reviewer copy of this training set I jumped for two reasons, first I was mulling over spending the money to upgrade to DW CS5 and I second I have always that I was missing out on a lot of DW's capabilities.  It's now obvious that I should upgrade for the CSS management upgrades alone.\\n\\nAs for the value of the training - I couldn't be happier.  This is not an advanced tips and tricks resource, nor is it an exhaustive boot camp in web page authoring, but it is a fairly thorough training taking you from site planning and design to creation and publishing.  I watched the videos from beginning to end and they start pretty basic with an HTML refresher then move to the meatier DW specific training.  I can see myself returning to several sections later to brush up.\\n\\nPersonally, the CSS, Media, and Forms training videos were enough to justify the price tag.  The training lessons were short and easily digestible.  I liked that it broke training into 3-10 minutes so I had some time to do a little more in-depth googling on subjects like text wrapping on absolute positioned CSS objects (which it won't.) or checking my version of DW.\\n\\n  What this is\\n  - An Adobe Certification Training Aid - so it starts from a very low level introduction and  goes through the entire DW web creation process\\n  - A wonderfully designed interface\\n  - A great overview of using DW\\n\\nWhat it isn't\\n  - A substitute for spending the time working with DW (but it will jump start a novice)\\n  - An expert tips and tricks reference\\n\\nAll in all, I highly recommend this to anyone trying to learn DW or even web design in general. The CSS placement section has been the most enlightening coverage of the topic I have been able to find.  The author's delivery on the videos is great and the interface is the best, most intuitive I have seen. The only bad thing I can say is that the closed captioning is defaulted on, so at times it covered the bottom of the properties table at the bottom of the screen. So sometimes I had to close it to see things the author was pointing out.  But all in all, this is an absolutely wonderful product.\"\n",
      " 'I decided (after trying a number of other products) to switch to the gold standard of web site management, Dreamweaver. I bought a few books, did some Lynda courses and still found myself wanting more. This was the perfect product for that \"more\".\\n\\nI think some reviewers are confused about both Dreamweaver and this product - these aren\\'t for \"design\". If you don\\'t already know what you want to do, picking up Dreamweaver is not going to help! The product being reviewed here is how to use Dreamweaver - not how to design for the web. Both expect you already have the design part.\\n\\nI used a pure HTML editor, which for beginners is the best way to go. You\\'ll learn HTML and CSS along with exactly how your code changes your page. DW is more for time savings and automation. That said, it\\'s also massively complex with a steep learning curve. And that\\'s where Learn Adobe Dreamweaver comes in. It very clearly takes you through learning DW so that you can get on with designing web pages.\\n\\nExcellent addition to my library and excellent companion to Dreamweaver itself. The only other thing you might need is one of the large reference books on DW to refer back to if you have questions.']\n",
      "\n",
      "Possible sentiment values:  [0 1 2 3 4]\n"
     ]
    }
   ],
   "source": [
    "textAttr, sentAttr, titleAttr = \"reviewText\", \"overall\", \"title\"\n",
    "\n",
    "## Clean text\n",
    "# training data\n",
    "docs, sents = helper.getTextClean(train_raw, textAttr, sentAttr)\n",
    "\n",
    "# We will treat the sentiment values as Categorical, rather than numeric\n",
    "le = sklearn.preprocessing.LabelEncoder()\n",
    "sents = le.fit_transform(sents)\n",
    "\n",
    "print(\"Docs shape is \", docs.shape)\n",
    "print(\"Sents shape is \", sents.shape)\n",
    "\n",
    "print(docs[:5])\n",
    "print(\"\\nPossible sentiment values: \",  np.unique(sents) ) \n"
   ]
  },
  {
   "cell_type": "markdown",
   "metadata": {
    "colab_type": "text",
    "id": "AJyBBa-PBpSo",
    "nbgrader": {
     "grade": false,
     "grade_id": "cell-fdc669bb920be78a",
     "locked": true,
     "solution": false
    }
   },
   "source": [
    "## More data preprocessing\n",
    "\n",
    "We will need to convert the text in a *sequence* of numbers\n",
    "- Break text up into words\n",
    "- Assign each word a distinct integer\n",
    "\n",
    "Moreover, it will be easier if all sequences have the same length.\n",
    "We can add a \"padding\" character to the front if necessary.\n",
    "\n",
    "We do this for you below.\n",
    "\n",
    "Our method returns\n",
    "- encoded_docs_padded: A matrix of training example *features*\n",
    "  - Each row is an example\n",
    "  - Each row is a *sequence* of fixed length\n",
    "  - Each element of the sequence is an integer, encoding a word in the vocabulary\n",
    "  - The sequence length of every example is *identical* because we have prepended padding if necessary\n",
    "- encoded_docs: A matrix of *unpadded* training example *features*\n",
    "- tok: the Tokenizer used to\n",
    "  - parse strings of characters into words\n",
    "  - encoded each word as an integer\n",
    "\n",
    "\n",
    "You may study our methods parameters and modify them if you wish, e.g., alter the size of the vocabulary or length of sequences.\n",
    "\n",
    "We suggest that your first model uses\n",
    "- encoded_docs_padded as your set of training features, e.g., X\n",
    "- sents: as your targets\n",
    "with the default settings of the method.\n",
    "\n"
   ]
  },
  {
   "cell_type": "code",
   "execution_count": 9,
   "metadata": {
    "colab": {
     "base_uri": "https://localhost:8080/",
     "height": 459
    },
    "colab_type": "code",
    "id": "ggdZME_FBpSo",
    "nbgrader": {
     "grade": false,
     "grade_id": "cell-c25dd2ae63a090b8",
     "locked": false,
     "schema_version": 3,
     "solution": true,
     "task": false
    },
    "outputId": "4d3b180b-9337-4374-8772-f5b29e35f196"
   },
   "outputs": [
    {
     "name": "stdout",
     "output_type": "stream",
     "text": [
      "Training example features shape:  (11523, 100)\n",
      "Training example features preview: \n",
      "[[213   4   1  35   1 371   1 100  15  74  13 388   1  29   1  60   1   3\n",
      "    1  12   1   5 238   1  34   1   1   3   1   1  13   1   1  10 110   3\n",
      "    1   5   1   2  99 172   4 313  99 300   9   5 203   1  12 343   1 268\n",
      "   60   1   3  41   5  87   1   8  35   1   1   1   6   1  34 300  21   6\n",
      "  364   1  26 234   5   1   5   1   1  27  48  35   1 308   1 138   1   5\n",
      "    1   1  13   9   5  70 114   3  41   7]\n",
      " [  1   2   1   1   1   9   5   1   3   1   2   1   1   5   1   4  78   1\n",
      "   58   1   2 101   1   3   1  10  78  15  29 372   8   1  20 368  10  28\n",
      "    1   2 101   1 276  19  10   1   1   7   4   7 183  25   1   8   1   3\n",
      "    1  14  12   1  30  26  10  16   5   1   1   1   1  95   3   1   2   1\n",
      "    1 101   1   3   2  61 220   1   1   1  25   1   3  25   1 353  32  14\n",
      "   32   5  70   1  26  10  95   3 292   1]\n",
      " [  1   4   1   1   1 292  72   1   1  53  35   1   1   4   1   1   1   1\n",
      "    4   1   1 292 110   3   1  10 121 219  47  29 308   1   3   1   4 196\n",
      "  121   1   3   2   1  34   1 292 110   3   1 121   1 171   1   1   1 185\n",
      "    3   1   2 308   1   1   1   4   1  91   1  68  25   1   3   1   1 349\n",
      "   13  22   5 238 231  19   1   1 289  11   1   1  14 308   1  38  89 169\n",
      "    1  66  52  38   1  51  52   1  13  36]]\n"
     ]
    }
   ],
   "source": [
    "## set parameters:\n",
    "# vocab_size : number of words in the vocabulary \n",
    "# words_in_doc: number of words in a review\n",
    "vocab_size, words_in_doc = 400, 100\n",
    "\n",
    "tok, encoded_docs, encoded_docs_padded = helper.encodeDocs(docs, vocab_size=vocab_size, words_in_doc=words_in_doc)\n",
    "\n",
    "print(\"Training example features shape: \",encoded_docs_padded.shape)\n",
    "print(\"Training example features preview: \")\n",
    "print(encoded_docs_padded[:3])\n"
   ]
  },
  {
   "cell_type": "markdown",
   "metadata": {
    "colab_type": "text",
    "id": "RSPg2B1RBpSq",
    "nbgrader": {
     "grade": false,
     "grade_id": "cell-2fc6c18384ea649d",
     "locked": true,
     "solution": false
    }
   },
   "source": [
    "## Verify that our encoded documents are the same as the cleaned original\n",
    "\n",
    "At this point: convince yourself that all we have done was encode words as integers and pad out all text to the same length.  The following will demonstrate this"
   ]
  },
  {
   "cell_type": "code",
   "execution_count": 10,
   "metadata": {
    "colab": {
     "base_uri": "https://localhost:8080/",
     "height": 122
    },
    "colab_type": "code",
    "id": "9HDv4_BXBpSr",
    "nbgrader": {
     "grade": false,
     "grade_id": "cell-21899f97193cc609",
     "locked": true,
     "schema_version": 3,
     "solution": false,
     "task": false
    },
    "outputId": "7a675806-1dd5-4c8b-c0a0-882a67866da4"
   },
   "outputs": [
    {
     "name": "stdout",
     "output_type": "stream",
     "text": [
      "0:\toff and <OOV> an <OOV> e <OOV> system with only this class <OOV> your <OOV> it's <OOV> to <OOV> that <OOV> a long <OOV> from <OOV> <OOV> to <OOV> <OOV> this <OOV> <OOV> you how to <OOV> a <OOV> the user interface and overall user experience is a different <OOV> that isn't <OOV> here it's <OOV> to do a great <OOV> of an <OOV> <OOV> <OOV> i <OOV> from experience as i said <OOV> if you're a <OOV> a <OOV> <OOV> or just an <OOV> web <OOV> who <OOV> a <OOV> <OOV> this is a good way to do it\n",
      "1:\t<OOV> the <OOV> <OOV> <OOV> is a <OOV> to <OOV> the <OOV> <OOV> a <OOV> and work <OOV> which <OOV> the video <OOV> to <OOV> you work with your copy of <OOV> not included you can <OOV> the video <OOV> around but you <OOV> <OOV> it and it may be <OOV> of <OOV> to <OOV> in that <OOV> so if you have a <OOV> <OOV> <OOV> <OOV> want to <OOV> the <OOV> <OOV> video <OOV> to the other screen <OOV> <OOV> <OOV> be <OOV> to be <OOV> either all in all a good <OOV> if you want to learn <OOV>\n",
      "2:\t<OOV> and <OOV> <OOV> <OOV> learn about <OOV> <OOV> time an <OOV> <OOV> and <OOV> <OOV> <OOV> <OOV> and <OOV> <OOV> learn how to <OOV> you files set up your web <OOV> to <OOV> and download files <OOV> to the <OOV> from <OOV> learn how to <OOV> files <OOV> editing <OOV> <OOV> <OOV> users to <OOV> the web <OOV> <OOV> <OOV> and <OOV> features <OOV> also be <OOV> to <OOV> <OOV> videos this was a long review but <OOV> <OOV> looking for <OOV> <OOV> in web <OOV> will now know <OOV> what they will <OOV> when they <OOV> this program\n",
      "3:\teven web <OOV> in <OOV> the <OOV> <OOV> <OOV> has been the most <OOV> <OOV> of the <OOV> i have been able to find the <OOV> <OOV> on the videos is great and the interface is the best most <OOV> i have <OOV> the only bad thing i can say is that the <OOV> <OOV> is <OOV> on so at times it <OOV> the <OOV> of the <OOV> <OOV> at the <OOV> of the screen so <OOV> i had to <OOV> it to see things the <OOV> was <OOV> out but all in all this is an <OOV> <OOV> product\n",
      "4:\tis the best way to go <OOV> learn <OOV> and <OOV> <OOV> with <OOV> how your <OOV> <OOV> your <OOV> <OOV> is more for time <OOV> and <OOV> that said it's also <OOV> <OOV> with a <OOV> learning <OOV> and that's where learn adobe <OOV> comes in it very <OOV> takes you through learning <OOV> so that you can get on with <OOV> web <OOV> <OOV> <OOV> to my <OOV> and <OOV> <OOV> to <OOV> <OOV> the only other thing you might need is one of the <OOV> <OOV> <OOV> on <OOV> to <OOV> back to if you have <OOV>\n"
     ]
    }
   ],
   "source": [
    "helper.showEncodedDocs(tok, encoded_docs_padded)"
   ]
  },
  {
   "cell_type": "markdown",
   "metadata": {
    "nbgrader": {
     "grade": false,
     "grade_id": "cell-38ca35602c624e11",
     "locked": true,
     "schema_version": 3,
     "solution": false,
     "task": false
    }
   },
   "source": [
    "# Caution !\n",
    "\n",
    "How will you encode words ?\n",
    "  \n",
    "- Perhaps you want to use OHE.  If so: we provide some utility functions to help.\n",
    "  >`X_train_OHE, _ = helper.getExamplesOHE(X_train, sents, vocab_size_sm)`       \n",
    "  >`X_val_OHE, _ = helper.getExamplesOHE(X_val, sents, vocab_size_sm)` \n",
    "  \n",
    "  But be **careful**: Our vocabulary is very large.  One Hot Encoding may use too much memory and your program won't run.\n",
    "  \n",
    "- Alternatives to OHE\n",
    " - You can try an embedding layer which is a *dense* representation of words."
   ]
  },
  {
   "cell_type": "markdown",
   "metadata": {
    "colab_type": "text",
    "id": "PXTltHXxx10g",
    "nbgrader": {
     "grade": false,
     "grade_id": "cell-eb657e907ea9d19c",
     "locked": true,
     "schema_version": 3,
     "solution": false,
     "task": false
    }
   },
   "source": [
    "# Split the examples into training and validation data\n",
    "\n",
    "- X_train: ndarray of training example features\n",
    "- X_val:  ndarray of validation example features\n",
    "- y_train: ndarray of training example targets\n",
    "- y_val:  ndarray of validation example targets"
   ]
  },
  {
   "cell_type": "code",
   "execution_count": 11,
   "metadata": {
    "colab": {},
    "colab_type": "code",
    "id": "FzxNUXNXvu7r",
    "nbgrader": {
     "grade": false,
     "grade_id": "cell-9e50dbb5c0e26d80",
     "locked": false,
     "schema_version": 3,
     "solution": true,
     "task": false
    }
   },
   "outputs": [],
   "source": [
    "### BEGIN SOLUTION\n",
    "\n",
    "from sklearn.model_selection import train_test_split\n",
    "X_train, X_val, y_train, y_val = train_test_split(encoded_docs_padded, sents, test_size=0.30, random_state=42)\n",
    "\n",
    "# # OHE the X for some models\n",
    "# vocab_size, words_in_doc = 4000, 100\n",
    "# X_train_OHE, _ = helper.getExamplesOHE(X_train, sents, vocab_size)\n",
    "# X_val_OHE, _ = helper.getExamplesOHE(X_val, sents, vocab_size)\n",
    "\n",
    "### END SOLUTION"
   ]
  },
  {
   "cell_type": "code",
   "execution_count": 12,
   "metadata": {
    "colab": {},
    "colab_type": "code",
    "id": "H6oS5W_hBpS2",
    "nbgrader": {
     "grade": false,
     "grade_id": "cell-0de960d0bf5c6d38",
     "locked": false,
     "schema_version": 3,
     "solution": true,
     "task": false
    }
   },
   "outputs": [],
   "source": [
    "## Verify your training and test dataset\n",
    "\n",
    "# Set two variables\n",
    "# example_sequence_len: length of the sequence\n",
    "# example_num_features: number of features in a single element of the sequence (of a single example)\n",
    "\n",
    "# # If using OHE:\n",
    "# example_shape = X_train_OHE.shape[1:]\n",
    "# example_sequence_len, example_num_features = example_shape[0], example_shape[1]\n",
    "\n",
    "# assert example_sequence_len == words_in_doc\n",
    "# assert example_num_features == vocab_size\n",
    "\n",
    "# If NOT using OHE\n",
    "example_shape = X_train.shape[1:]\n",
    "example_sequence_len, example_num_features = example_shape[0], tok.num_words\n",
    "\n",
    "assert example_sequence_len == words_in_doc\n",
    "assert example_num_features == vocab_size"
   ]
  },
  {
   "cell_type": "markdown",
   "metadata": {
    "colab_type": "text",
    "id": "uHurBXP607UT",
    "nbgrader": {
     "grade": false,
     "grade_id": "cell-0e6d21eac2d737ea",
     "locked": true,
     "solution": false
    }
   },
   "source": [
    "## Create and train your model\n",
    "\n",
    "**Note:**\n",
    "\n",
    "- There is a `trainModelCat()` API already in the `final_helper.py` file. You can directly use it by\n",
    "  >`history = helper.trainModelCat(model, X_train, X_val, y_train, y_val, num_epochs=30, metric=\"acc\", patience=5, min_delta=.005)`\n",
    "  \n",
    "  You can change the `trainModelCat()` code or write training process by yourself if you have better idea!   \n",
    "\n",
    "\n",
    "- To to see your model performance, use this API is very convenient\n",
    "  >`helper.plot_training(history)`\n"
   ]
  },
  {
   "cell_type": "code",
   "execution_count": 13,
   "metadata": {
    "colab": {},
    "colab_type": "code",
    "id": "o97G-ue51CKX",
    "nbgrader": {
     "grade": false,
     "grade_id": "cell-9fd41f966bac6510",
     "locked": false,
     "schema_version": 3,
     "solution": true,
     "task": false
    }
   },
   "outputs": [
    {
     "name": "stdout",
     "output_type": "stream",
     "text": [
      "Model: \"sequential\"\n",
      "_________________________________________________________________\n",
      "Layer (type)                 Output Shape              Param #   \n",
      "=================================================================\n",
      "embedding (Embedding)        (None, 100, 16)           64016     \n",
      "_________________________________________________________________\n",
      "dropout (Dropout)            (None, 100, 16)           0         \n",
      "_________________________________________________________________\n",
      "global_max_pooling1d (Global (None, 16)                0         \n",
      "_________________________________________________________________\n",
      "dropout_1 (Dropout)          (None, 16)                0         \n",
      "_________________________________________________________________\n",
      "dense (Dense)                (None, 100)               1700      \n",
      "_________________________________________________________________\n",
      "dense_1 (Dense)              (None, 5)                 505       \n",
      "=================================================================\n",
      "Total params: 66,221\n",
      "Trainable params: 66,221\n",
      "Non-trainable params: 0\n",
      "_________________________________________________________________\n",
      "Train on 9218 samples, validate on 2305 samples\n",
      "Epoch 1/30\n",
      "9218/9218 [==============================] - 1s 97us/sample - loss: 1.3691 - acc: 0.4676 - val_loss: 1.3307 - val_acc: 0.4638\n",
      "Epoch 2/30\n",
      "9218/9218 [==============================] - 0s 49us/sample - loss: 1.3088 - acc: 0.4709 - val_loss: 1.3068 - val_acc: 0.4711\n",
      "Epoch 3/30\n",
      "9218/9218 [==============================] - 0s 47us/sample - loss: 1.2747 - acc: 0.4812 - val_loss: 1.2549 - val_acc: 0.4816\n",
      "Epoch 4/30\n",
      "9218/9218 [==============================] - 0s 49us/sample - loss: 1.2544 - acc: 0.4934 - val_loss: 1.2384 - val_acc: 0.4985\n",
      "Epoch 5/30\n",
      "9218/9218 [==============================] - 0s 48us/sample - loss: 1.2347 - acc: 0.4976 - val_loss: 1.2306 - val_acc: 0.5085\n",
      "Epoch 6/30\n",
      "9218/9218 [==============================] - 0s 50us/sample - loss: 1.2183 - acc: 0.5042 - val_loss: 1.2099 - val_acc: 0.5158\n",
      "Epoch 7/30\n",
      "9218/9218 [==============================] - 0s 47us/sample - loss: 1.2047 - acc: 0.5118 - val_loss: 1.1968 - val_acc: 0.5249\n",
      "Epoch 8/30\n",
      "9218/9218 [==============================] - 0s 50us/sample - loss: 1.1932 - acc: 0.5166 - val_loss: 1.1822 - val_acc: 0.5367\n",
      "Epoch 9/30\n",
      "9218/9218 [==============================] - 0s 49us/sample - loss: 1.1791 - acc: 0.5256 - val_loss: 1.1763 - val_acc: 0.5384\n",
      "Epoch 10/30\n",
      "9218/9218 [==============================] - 0s 50us/sample - loss: 1.1702 - acc: 0.5266 - val_loss: 1.1837 - val_acc: 0.5410\n",
      "Epoch 11/30\n",
      "9218/9218 [==============================] - 0s 47us/sample - loss: 1.1527 - acc: 0.5422 - val_loss: 1.1530 - val_acc: 0.5523\n",
      "Epoch 12/30\n",
      "9218/9218 [==============================] - 0s 48us/sample - loss: 1.1411 - acc: 0.5387 - val_loss: 1.1546 - val_acc: 0.5518\n",
      "Epoch 13/30\n",
      "9218/9218 [==============================] - 0s 52us/sample - loss: 1.1280 - acc: 0.5495 - val_loss: 1.1509 - val_acc: 0.5432\n",
      "Epoch 14/30\n",
      "9218/9218 [==============================] - 0s 50us/sample - loss: 1.1162 - acc: 0.5586 - val_loss: 1.1410 - val_acc: 0.5570\n",
      "Epoch 15/30\n",
      "9218/9218 [==============================] - 0s 48us/sample - loss: 1.1087 - acc: 0.5625 - val_loss: 1.1386 - val_acc: 0.5466\n",
      "Epoch 16/30\n",
      "9218/9218 [==============================] - 0s 49us/sample - loss: 1.1047 - acc: 0.5551 - val_loss: 1.1483 - val_acc: 0.5445\n",
      "Epoch 17/30\n",
      "9218/9218 [==============================] - 0s 49us/sample - loss: 1.0871 - acc: 0.5660 - val_loss: 1.1133 - val_acc: 0.5605\n",
      "Epoch 18/30\n",
      "9218/9218 [==============================] - 0s 49us/sample - loss: 1.0787 - acc: 0.5682 - val_loss: 1.1251 - val_acc: 0.5497\n",
      "Epoch 19/30\n",
      "9218/9218 [==============================] - 0s 49us/sample - loss: 1.0776 - acc: 0.5722 - val_loss: 1.1306 - val_acc: 0.5475\n",
      "Epoch 20/30\n",
      "9218/9218 [==============================] - 0s 49us/sample - loss: 1.0592 - acc: 0.5790 - val_loss: 1.1224 - val_acc: 0.5505\n",
      "Epoch 21/30\n",
      "9218/9218 [==============================] - 0s 49us/sample - loss: 1.0576 - acc: 0.5817 - val_loss: 1.1317 - val_acc: 0.5432\n",
      "Epoch 22/30\n",
      "9218/9218 [==============================] - 0s 50us/sample - loss: 1.0573 - acc: 0.5841 - val_loss: 1.1309 - val_acc: 0.5436\n"
     ]
    },
    {
     "data": {
      "image/png": "[encoded data removed]",
      "text/plain": [
       "<Figure size 432x288 with 1 Axes>"
      ]
     },
     "metadata": {
      "needs_background": "light"
     },
     "output_type": "display_data"
    },
    {
     "data": {
      "image/png": "[encoded data removed]",
      "text/plain": [
       "<Figure size 432x288 with 1 Axes>"
      ]
     },
     "metadata": {
      "needs_background": "light"
     },
     "output_type": "display_data"
    },
    {
     "name": "stdout",
     "output_type": "stream",
     "text": [
      "2305/2305 [==============================] - 0s 22us/sample - loss: 1.1133 - acc: 0.5605\n",
      "loss:1.11\n",
      "acc:0.56\n"
     ]
    },
    {
     "data": {
      "text/plain": [
       "<tensorflow.python.keras.callbacks.History at 0x7f841b983550>"
      ]
     },
     "execution_count": 13,
     "metadata": {},
     "output_type": "execute_result"
    }
   ],
   "source": [
    "### BEGIN SOLUTION\n",
    "\n",
    "def runModel(model, model_name, X_train, X_test, y_train, y_test):\n",
    "    plot_file = helper.plotModel(model, model_name)\n",
    "    IPython.display.Image(plot_file) \n",
    "\n",
    "    model.summary()\n",
    "\n",
    "    history = helper.trainModelCat( model, X_train, X_test, y_train, y_test )\n",
    "\n",
    "    helper.plot_training(history)\n",
    "\n",
    "    helper.eval_model(model, X_test, y_test)\n",
    "    \n",
    "    return history\n",
    "    \n",
    "embed_size_sm = 16\n",
    "lstm_size_sm = 4\n",
    "vocab_size_b, words_in_doc_b, embed_size_b, lstm_size_b = int(10*vocab_size), words_in_doc, int(1*embed_size_sm), lstm_size_sm\n",
    "tok_b, encoded_docs_b, encoded_docs_padded_b = helper.encodeDocs(docs, vocab_size=vocab_size_b, words_in_doc=words_in_doc_b)\n",
    "\n",
    "X_train_b, X_test_b, y_train_b, y_test_b = train_test_split(encoded_docs_padded_b, sents, test_size=0.20, random_state=42)\n",
    "\n",
    "model_x = Sequential( [Embedding(tok_b.num_words+1, embed_size_b, input_length=words_in_doc_b),\n",
    "                          Dropout(0.25),\n",
    "                          #LSTM(lstm_size_b), Dense(50, activation=\"relu\"),\n",
    "                          GlobalMaxPooling1D(),\n",
    "                          Dropout(0.25),\n",
    "                           Dense(100, activation=\"relu\"),\n",
    "                         \n",
    "                          Dense( len( np.unique(y_train_b) ), activation=\"softmax\")\n",
    "                         ]\n",
    "                       )\n",
    "\n",
    "runModel(model_x, \"Embedding Big + Compldex\", X_train_b, X_test_b, y_train_b, y_test_b)\n",
    "\n",
    "### END SOLUTION"
   ]
  },
  {
   "cell_type": "markdown",
   "metadata": {
    "colab_type": "text",
    "id": "gtQ_IGvQBpTS",
    "nbgrader": {
     "grade": false,
     "grade_id": "cell-f1feed2553377a71",
     "locked": true,
     "schema_version": 3,
     "solution": false,
     "task": false
    }
   },
   "source": [
    "## How many weights in your Classifier only model ?\n",
    "\n",
    "\n",
    "**Question:** \n",
    "\n",
    "How many weights in your model ?\n",
    "- Set a variable `num_weights` to be the number of weights \n",
    "\n",
    "You should always be sensitive to how \"big\" your model is."
   ]
  },
  {
   "cell_type": "code",
   "execution_count": 15,
   "metadata": {
    "colab": {},
    "colab_type": "code",
    "id": "-u1ERSiuBpTS",
    "nbgrader": {
     "grade": false,
     "grade_id": "cell-ad84e21e2763f573",
     "locked": false,
     "schema_version": 3,
     "solution": true,
     "task": false
    }
   },
   "outputs": [
    {
     "name": "stdout",
     "output_type": "stream",
     "text": [
      "The number of weights is : 66221\n"
     ]
    }
   ],
   "source": [
    "# Set variable\n",
    "num_weights = None\n",
    "\n",
    "### BEGIN SOLUTION\n",
    "num_weights = model_x.count_params()\n",
    "### END SOLUTION\n",
    "\n",
    "print('The number of weights is :', num_weights)"
   ]
  },
  {
   "cell_type": "markdown",
   "metadata": {
    "colab_type": "text",
    "id": "iz_Wroa1BpTU",
    "nbgrader": {
     "grade": false,
     "grade_id": "cell-0ad6ed9cd2b135fb",
     "locked": true,
     "schema_version": 3,
     "solution": false,
     "task": false
    }
   },
   "source": [
    "# Submit your predictions for grading\n",
    "\n",
    "Now that you have built your model, it's time to make predictions for grading.\n",
    "- Make a prediction for each example in the file `test.csv`\n",
    "- Create a file `my_submit.csv` with these predictions **in the same order** as the examples in `test.csv`\n",
    "- The format of `my_submit.csv` should be similar to `submit_sample.csv`\n",
    "\n",
    "**Hint:**\n",
    "\n",
    "You may want  (but are not required) to use a Pandas DataFrame to create `my_submit.csv`.\n",
    "- Look up the Pandas method `to_csv` in order to create a CSV file from a DataFrame\n",
    "    - Use optional argument `index=False` to prevent line numbers from being inserted in your CSV file"
   ]
  },
  {
   "cell_type": "code",
   "execution_count": 17,
   "metadata": {
    "colab": {},
    "colab_type": "code",
    "id": "NIgzZKsQ16VX",
    "nbgrader": {
     "grade": false,
     "grade_id": "cell-ce8da9f1c40ca8f7",
     "locked": false,
     "schema_version": 3,
     "solution": true,
     "task": false
    }
   },
   "outputs": [],
   "source": [
    "# If you use Pandas DataFrame to store your results\n",
    "my_results = pd.DataFrame()\n",
    "\n",
    "### BEGIN SOLUTION\n",
    "_, test = helper.getDataRaw()\n",
    "docs_test = helper.getTextClean(test, textAttr)\n",
    "\n",
    "tok_test, encoded_docs_test, encoded_docs_padded_test = helper.encodeDocs(docs_test, vocab_size=vocab_size_b, words_in_doc=words_in_doc_b)\n",
    "# test_submit, _ = helper.getExamplesOHE(encoded_docs_padded_test, None, vocab_size)\n",
    "\n",
    "my_model = model_x\n",
    "# predicted_class = le.inverse_transform(np.argmax(my_model.predict(test_submit), axis=-1))\n",
    "predicted_class = le.inverse_transform(np.argmax(my_model.predict(encoded_docs_padded_test), axis=-1))\n",
    "my_results = pd.DataFrame({'reviewerID': test_raw['reviewerID'], 'overall':predicted_class})\n",
    "\n",
    "### END SOLUTION\n",
    "\n",
    "# Save your results in a csv file\n",
    "my_results.to_csv('my_submit.csv', index=False)"
   ]
  },
  {
   "cell_type": "markdown",
   "metadata": {
    "colab_type": "text",
    "id": "bpWw_tXH_zwu",
    "nbgrader": {
     "grade": false,
     "grade_id": "cell-1ed2afe2249afed2",
     "locked": true,
     "schema_version": 3,
     "solution": false,
     "task": false
    }
   },
   "source": [
    "## Discussion topics\n",
    "- Compare the number of weights in each model.  Did the added complexity (more weights) lead to better performance ?\n",
    "- **Where** were the largest increase in weights between models\n",
    "  - Embeddings consume a lot of weights\n",
    "    - But eliminates a dimension: single integer representation of a word vs a OHE vector of length words_in_vocab\n",
    "    - So subsequent layers may need fewer weights compared to OHE\n",
    "- Should we have formulated this as a Regression task rather than a Classification task ?\n",
    "  - Is the difference in rating between 0 and 1 the same as between 3 and 4 ?\n",
    "    - Perhaps there are bigger *absolute* differences in satisfaction  in lower ratings\n",
    "      - i.e., Big difference between 0 and 1, smaller difference between 3 and 4"
   ]
  },
  {
   "cell_type": "code",
   "execution_count": null,
   "metadata": {},
   "outputs": [],
   "source": []
  }
 ],
 "metadata": {
  "accelerator": "GPU",
  "celltoolbar": "Create Assignment",
  "colab": {
   "collapsed_sections": [
    "gtQ_IGvQBpTS",
    "IoeQjuCDBpTG"
   ],
   "name": "Sentiment_from_reviews.ipynb",
   "provenance": []
  },
  "kernelspec": {
   "display_name": "Python 3",
   "language": "python",
   "name": "python3"
  },
  "language_info": {
   "codemirror_mode": {
    "name": "ipython",
    "version": 3
   },
   "file_extension": ".py",
   "mimetype": "text/x-python",
   "name": "python",
   "nbconvert_exporter": "python",
   "pygments_lexer": "ipython3",
   "version": "3.7.4"
  },
  "toc": {
   "base_numbering": 1,
   "nav_menu": {},
   "number_sections": true,
   "sideBar": true,
   "skip_h1_title": false,
   "title_cell": "Table of Contents",
   "title_sidebar": "Contents",
   "toc_cell": false,
   "toc_position": {},
   "toc_section_display": true,
   "toc_window_display": true
  }
 },
 "nbformat": 4,
 "nbformat_minor": 1
}

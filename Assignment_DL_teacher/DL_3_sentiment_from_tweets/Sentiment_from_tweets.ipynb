{
 "cells": [
  {
   "cell_type": "markdown",
   "metadata": {
    "colab_type": "text",
    "id": "epPOoVgHL6k6",
    "nbgrader": {
     "grade": false,
     "grade_id": "cell-9306e427a41192b7",
     "locked": true,
     "schema_version": 3,
     "solution": false,
     "task": false
    }
   },
   "source": [
    "# Problem description\n",
    "\n",
    "Another type of less traditional data is text.\n",
    "There is potentially a lot of information about a company in documents such as\n",
    "- News articles\n",
    "- Annual/quarterly filings\n",
    "- Analyst reports\n",
    "- Blogs\n",
    "\n",
    "The key element about text is that a document is a *sequence* of words.\n",
    "In other words, order matters.\n",
    "Consider\n",
    "- \"Machine Learning is easy not hard\"\n",
    "- \"Machine Learning is hard not easy\"\n",
    "\n",
    "Two sentences with identical words but different meaning.\n",
    "\n",
    "In this assignment we will analyze text in the form of Tweets.\n",
    "Our objective is: given a tweet about a company, does the tweet indicate Positive sentiment or Negative sentiment.\n",
    "\n",
    "This assignment will also serve as a preview of Natural Language Processing: the use of Machine Learning to analyze text.\n",
    "This will be the subject of a later lecture.\n",
    "\n",
    "Our immediate objective is to use Recurrent Neural Networks to analyze a sequence of words (i.e., a tweet).\n",
    "\n",
    "\n"
   ]
  },
  {
   "cell_type": "markdown",
   "metadata": {
    "colab_type": "text",
    "id": "c4v8SsonL6k7",
    "nbgrader": {
     "grade": false,
     "grade_id": "cell-78900cbcab792210",
     "locked": true,
     "schema_version": 3,
     "solution": false,
     "task": false
    }
   },
   "source": [
    "## Goal: problem set 1\n",
    "\n",
    "There are two notebook files in this assignment:\n",
    "- **`Sentiment_from_tweets.ipynb`**: First and only notebook you need to work on. Train your models and save them\n",
    "- **`Model_test.ipynb`**: Test your results. After you complete the `Ships_in_satellite_images_P2.ipynb`, this notebook should be submitted\n",
    "\n",
    "\n",
    "**Before you start working on this assignment, please check if your kernel is Python 3.7 (Right top of the page). If it is not Python 3.7, please go to `Kernel->Change kernel->Python 3.7` on the top**\n",
    "\n",
    "In this `Sentiment_from_tweets.ipynb` notebook, you will need to create Sequential models in Keras to analyze the sentiment in tweets.\n",
    "- Each example is a sequence of words\n",
    "- The labels are integers: high values indicate Positive sentiment, low values indicate Negative sentiment\n"
   ]
  },
  {
   "cell_type": "markdown",
   "metadata": {
    "colab_type": "text",
    "id": "wOv4_ZsAL6k7",
    "nbgrader": {
     "grade": false,
     "grade_id": "cell-7821570da816e179",
     "locked": true,
     "schema_version": 3,
     "solution": false,
     "task": false
    }
   },
   "source": [
    "## Learning objectives\n",
    "- Learn how to use Recurrent Layer types as part of a Keras Sequential model\n",
    "- Appreciate how layer choices impact number of weights"
   ]
  },
  {
   "cell_type": "code",
   "execution_count": 1,
   "metadata": {
    "colab": {},
    "colab_type": "code",
    "id": "zm-IkmH4L6k8",
    "nbgrader": {
     "grade": false,
     "grade_id": "cell-fcc034f8649f2d7d",
     "locked": true,
     "schema_version": 3,
     "solution": false,
     "task": false
    }
   },
   "outputs": [
    {
     "name": "stdout",
     "output_type": "stream",
     "text": [
      "Running TensorFlow version  2.0.0\n",
      "Version 2, minor 0\n"
     ]
    }
   ],
   "source": [
    "from __future__ import print_function\n",
    "\n",
    "import numpy as np\n",
    "import pandas as pd\n",
    "import matplotlib.pyplot as plt\n",
    "\n",
    "import sklearn\n",
    "from sklearn import preprocessing\n",
    "\n",
    "import os\n",
    "import re\n",
    "import math\n",
    "\n",
    "%matplotlib inline\n",
    "\n",
    "\n",
    "## Import tensorflow and check the version of tensorflow\n",
    "import tensorflow as tf\n",
    "print(\"Running TensorFlow version \",tf.__version__)\n",
    "\n",
    "# Parse tensorflow version\n",
    "version_match = re.match(\"([0-9]+)\\.([0-9]+)\", tf.__version__)\n",
    "tf_major, tf_minor = int(version_match.group(1)) , int(version_match.group(2))\n",
    "print(\"Version {v:d}, minor {m:d}\".format(v=tf_major, m=tf_minor) )\n",
    "\n",
    "from tensorflow.keras.preprocessing import sequence\n",
    "from tensorflow.keras.models import Sequential\n",
    "from tensorflow.keras.layers import Dense, Dropout, Activation\n",
    "from tensorflow.keras.layers import Embedding\n",
    "from tensorflow.keras.layers import Conv1D, GlobalMaxPooling1D, LSTM\n",
    "from tensorflow.keras.callbacks import EarlyStopping, ModelCheckpoint\n",
    "from tensorflow.keras.utils import plot_model, to_categorical\n",
    "import IPython\n"
   ]
  },
  {
   "cell_type": "markdown",
   "metadata": {
    "colab_type": "text",
    "id": "scz7Ve67L6k_"
   },
   "source": [
    "# API for students\n",
    "\n",
    "We will define some utility routines.\n",
    "\n",
    "This will simplify problem solving\n",
    "\n",
    "More importantly: it adds structure to your submission so that it may be easily graded\n",
    "\n",
    "**If you want to take a look at the API, you can open it by selecting \"File->Open->RNN_helper.py\"**\n",
    "\n",
    "`helper = RNN_helper.rnn_helper()`\n",
    "\n",
    "### Preprocess raw dataset\n",
    "- getDataRaw: get raw data. \n",
    "  >`DIR` is the directory of data     \n",
    "  >`tweet_file` is the name of data file     \n",
    "  >`tweets_raw = helper.getDataRaw(DIR, tweet_file)`   \n",
    "- getTextClean: clean text. \n",
    "  >`tweets_raw` is the raw data you get from `helper.getDataRaw()`, which is a pandas DataFrame     \n",
    "  >`docs, sents = helepr.getTextClean(tweets_raw)`     \n",
    "- show: display data by reversing index back to word. \n",
    "  >`tok` is an object of `Tokenizer`     \n",
    "  >`encoded_docs_padded` is the text data which you have encoded and padded      \n",
    "  >`helper.show(tok, encoded_docs_padded)`      \n",
    "- getExamples: one-hot encode samples. \n",
    "  >`encoded_docs_padded` is the text data which you have encoded and padded     \n",
    "  >`sents` is the labels     \n",
    "  >`max_features` is number of words in the vocabulary    \n",
    "  >`X, y = helper.getExamples(encoded_docs_padded, sents, max_features)`\n",
    "  \n",
    "### Save model and load model\n",
    "- save model (portable): save a model in `./models` directory\n",
    "  >`helper.saveModel(model, modelName)`\n",
    "- save history (non-portable): save a model history in `./models` directory\n",
    "  >`helper.saveHistory(history, modelName)`\n",
    "- save model (portable): save a model in `./models` directory\n",
    "  >`helper.saveModel(model, modelName)`\n",
    "- save history (non-portable): save a model history in `./models` directory\n",
    "  >`helper.saveHistory(history, modelName)`\n",
    "\n",
    "### Plot models and training results\n",
    "- plotModel: plot your models\n",
    "  >`plotModel(model, model_name)`\n",
    "- plot_training: plot your training results\n",
    "  >`plot_training(history, metric='acc)`"
   ]
  },
  {
   "cell_type": "code",
   "execution_count": 2,
   "metadata": {
    "colab": {},
    "colab_type": "code",
    "id": "Zhr9q6SDL6lA",
    "nbgrader": {
     "grade": false,
     "grade_id": "cell-0845f25fb1b50a0a",
     "locked": true,
     "schema_version": 3,
     "solution": false,
     "task": false
    }
   },
   "outputs": [],
   "source": [
    "from IPython.core.interactiveshell import InteractiveShell\n",
    "InteractiveShell.ast_node_interactivity = \"all\"\n",
    "\n",
    "# Reload all modules imported with %aimport\n",
    "%load_ext autoreload\n",
    "%autoreload 1\n",
    "\n",
    "import RNN_helper\n",
    "%aimport RNN_helper\n",
    "\n",
    "helper = RNN_helper.rnn_helper()"
   ]
  },
  {
   "cell_type": "markdown",
   "metadata": {
    "colab_type": "text",
    "id": "xkUYjUYmL6lC",
    "nbgrader": {
     "grade": false,
     "grade_id": "cell-d54bac1a7319634e",
     "locked": true,
     "schema_version": 3,
     "solution": false,
     "task": false
    }
   },
   "source": [
    "## Get the tweets (as text)"
   ]
  },
  {
   "cell_type": "code",
   "execution_count": 3,
   "metadata": {
    "colab": {},
    "colab_type": "code",
    "id": "tr4_ltiTL6lD",
    "nbgrader": {
     "grade": false,
     "grade_id": "cell-0a7e779edf946a67",
     "locked": true,
     "schema_version": 3,
     "solution": false,
     "task": false
    }
   },
   "outputs": [
    {
     "data": {
      "text/html": [
       "<div>\n",
       "<style scoped>\n",
       "    .dataframe tbody tr th:only-of-type {\n",
       "        vertical-align: middle;\n",
       "    }\n",
       "\n",
       "    .dataframe tbody tr th {\n",
       "        vertical-align: top;\n",
       "    }\n",
       "\n",
       "    .dataframe thead th {\n",
       "        text-align: right;\n",
       "    }\n",
       "</style>\n",
       "<table border=\"1\" class=\"dataframe\">\n",
       "  <thead>\n",
       "    <tr style=\"text-align: right;\">\n",
       "      <th></th>\n",
       "      <th>text</th>\n",
       "      <th>sentiment</th>\n",
       "    </tr>\n",
       "  </thead>\n",
       "  <tbody>\n",
       "    <tr>\n",
       "      <td>0</td>\n",
       "      <td>#AAPL:The 10 best Steve Jobs emails ever...htt...</td>\n",
       "      <td>3</td>\n",
       "    </tr>\n",
       "    <tr>\n",
       "      <td>1</td>\n",
       "      <td>RT @JPDesloges: Why AAPL Stock Had a Mini-Flas...</td>\n",
       "      <td>3</td>\n",
       "    </tr>\n",
       "    <tr>\n",
       "      <td>2</td>\n",
       "      <td>My cat only chews @apple cords. Such an #Apple...</td>\n",
       "      <td>3</td>\n",
       "    </tr>\n",
       "    <tr>\n",
       "      <td>3</td>\n",
       "      <td>I agree with @jimcramer that the #IndividualIn...</td>\n",
       "      <td>3</td>\n",
       "    </tr>\n",
       "    <tr>\n",
       "      <td>4</td>\n",
       "      <td>Nobody expects the Spanish Inquisition #AAPL</td>\n",
       "      <td>3</td>\n",
       "    </tr>\n",
       "    <tr>\n",
       "      <td>5</td>\n",
       "      <td>#AAPL:5 Rocket Stocks to Buy for December Gain...</td>\n",
       "      <td>3</td>\n",
       "    </tr>\n",
       "    <tr>\n",
       "      <td>6</td>\n",
       "      <td>Top 3 all @Apple #tablets. Damn right! http://...</td>\n",
       "      <td>5</td>\n",
       "    </tr>\n",
       "    <tr>\n",
       "      <td>7</td>\n",
       "      <td>CNBCTV: #Apple's margins better than expected?...</td>\n",
       "      <td>5</td>\n",
       "    </tr>\n",
       "    <tr>\n",
       "      <td>8</td>\n",
       "      <td>Apple Inc. Flash Crash: What You Need to Know ...</td>\n",
       "      <td>3</td>\n",
       "    </tr>\n",
       "    <tr>\n",
       "      <td>9</td>\n",
       "      <td>#AAPL:This Presentation Shows What Makes The W...</td>\n",
       "      <td>3</td>\n",
       "    </tr>\n",
       "  </tbody>\n",
       "</table>\n",
       "</div>"
      ],
      "text/plain": [
       "                                                text sentiment\n",
       "0  #AAPL:The 10 best Steve Jobs emails ever...htt...         3\n",
       "1  RT @JPDesloges: Why AAPL Stock Had a Mini-Flas...         3\n",
       "2  My cat only chews @apple cords. Such an #Apple...         3\n",
       "3  I agree with @jimcramer that the #IndividualIn...         3\n",
       "4       Nobody expects the Spanish Inquisition #AAPL         3\n",
       "5  #AAPL:5 Rocket Stocks to Buy for December Gain...         3\n",
       "6  Top 3 all @Apple #tablets. Damn right! http://...         5\n",
       "7  CNBCTV: #Apple's margins better than expected?...         5\n",
       "8  Apple Inc. Flash Crash: What You Need to Know ...         3\n",
       "9  #AAPL:This Presentation Shows What Makes The W...         3"
      ]
     },
     "execution_count": 3,
     "metadata": {},
     "output_type": "execute_result"
    },
    {
     "name": "stdout",
     "output_type": "stream",
     "text": [
      "Sentiment values (raw) ['1' '3' '5' 'not_relevant']\n"
     ]
    }
   ],
   "source": [
    "# Directory and file name\n",
    "DATA_DIR = \"./Data\"\n",
    "\n",
    "if not os.path.isdir(DATA_DIR):\n",
    "    DATA_DIR = \"../resource/asnlib/publicdata/tweets/Data\"\n",
    "\n",
    "tweet_file = \"Apple-Twitter-Sentiment-DFE-1.csv\"\n",
    "\n",
    "# Load raw data\n",
    "tweets_raw = helper.getDataRaw(DATA_DIR, tweet_file)\n",
    "tweets_raw[ [\"text\", \"sentiment\"] ].head(10)\n",
    "\n",
    "print(\"Sentiment values (raw)\", np.unique(tweets_raw[\"sentiment\"]))"
   ]
  },
  {
   "cell_type": "markdown",
   "metadata": {
    "colab_type": "text",
    "id": "k1U5uQi9L6lG",
    "nbgrader": {
     "grade": false,
     "grade_id": "cell-f6544931cb72f5db",
     "locked": true,
     "schema_version": 3,
     "solution": false,
     "task": false
    }
   },
   "source": [
    "## Data preprocessing\n",
    "\n",
    "There will be a number of preprocessing steps necessary to convert the raw tweets to a form\n",
    "amenable to a Neural Network.\n",
    "\n",
    "The next few cells will take you through the journey from **\"raw\" data** to the **X** (array of examples)\n",
    "and **y** (array of labels for each example) arrays that you will need for your Neural Network.\n",
    "\n",
    "In an academic setting you will often be given X and y.\n",
    "This will rarely be the case in the real world.\n",
    "\n",
    "So although this journey has little to do with our objective in learning about Recurrent Neural Networks,\n",
    "we encourage you to follow along.\n",
    "\n",
    "If you are anxious to get to the Recurrent Neural Network part: you can defer the journey until later\n",
    "and skip to the cell that defines X and y."
   ]
  },
  {
   "cell_type": "markdown",
   "metadata": {
    "colab_type": "text",
    "id": "X__w6n79L6lH",
    "nbgrader": {
     "grade": false,
     "grade_id": "cell-58f7cd24f1089a9d",
     "locked": true,
     "schema_version": 3,
     "solution": false,
     "task": false
    }
   },
   "source": [
    "As you can see, tweets have their own special notation that distinguishes it from ordinary language\n",
    "- \"Mentions\" begin with \"@\" and refer to another user: \"@kenperry\"\n",
    "- \"Hash tags\" begin with \"#\" and refer to a subject: #MachineLearning\n",
    "\n",
    "This means that our vocabulary (set of distinct words) can be huge.  To manage the vocabulary size\n",
    "and simplify the problem (perhaps losing information on the way), we will **not** distinguish between\n",
    "individual mentions and hash tags\n",
    "\n",
    "Let's also examine the possible sentiment values\n",
    "- There is a \"not_relevant\" value; we should eliminate these examples\n",
    "- The sentiment value is a string\n",
    "- The strings represent non-consecutive integers\n",
    "\n",
    "There is quite a bit of cleaning of the raw data necessary; fortunately, we will do that for you below. We will use `helper.getTextClean()` here"
   ]
  },
  {
   "cell_type": "code",
   "execution_count": 4,
   "metadata": {
    "colab": {},
    "colab_type": "code",
    "id": "mYtHsW7xL6lH",
    "nbgrader": {
     "grade": false,
     "grade_id": "cell-2b742d3dae30e3bc",
     "locked": true,
     "schema_version": 3,
     "solution": false,
     "task": false
    }
   },
   "outputs": [
    {
     "name": "stdout",
     "output_type": "stream",
     "text": [
      "Docs shape is  (3804,)\n",
      "Sents shape is  (3804,)\n",
      "Possible sentiment values:  [0 1 2]\n"
     ]
    }
   ],
   "source": [
    "docs, sents = helper.getTextClean(tweets_raw)\n",
    "\n",
    "print(\"Docs shape is \", docs.shape)\n",
    "print(\"Sents shape is \", sents.shape)\n",
    "\n",
    "print(\"Possible sentiment values: \",  np.unique(sents) ) \n"
   ]
  },
  {
   "cell_type": "markdown",
   "metadata": {
    "colab_type": "text",
    "id": "WPWpOcHsL6lJ",
    "nbgrader": {
     "grade": false,
     "grade_id": "cell-8c5216fdfdcf568d",
     "locked": true,
     "schema_version": 3,
     "solution": false,
     "task": false
    }
   },
   "source": [
    "## More data preprocessing\n",
    "\n",
    "Great, our text is in much better shape and our sentiment (target value for prediction) are now consecutive values.\n",
    "\n",
    "But computers handle numbers much more readily than strings.\n",
    "We will need to convert the text in a *sequence* of numbers\n",
    "- Break text up into words\n",
    "- Assign each word a distinct integer\n",
    "\n",
    "Moreover, it will be easier if all sequences have the same length.\n",
    "We can add a \"padding\" character to the front if necessary.\n",
    "\n",
    "Again, we do this for you below."
   ]
  },
  {
   "cell_type": "code",
   "execution_count": 5,
   "metadata": {
    "colab": {},
    "colab_type": "code",
    "id": "mTmWKVuxL6lK",
    "nbgrader": {
     "grade": false,
     "grade_id": "cell-96b3933bc03c4d67",
     "locked": true,
     "schema_version": 3,
     "solution": false,
     "task": false
    }
   },
   "outputs": [
    {
     "data": {
      "text/plain": [
       "array([[  0,   0,   0,   0,   0,   0,   0,   0,   0,   0,   0,   0,   0,\n",
       "          0,   0,   0,   0,   0,   0,   0,   0,   0,   0,   0,   0,   0,\n",
       "          0,   0,   0,   0,   0,   4,   3, 204, 136,  93, 109, 356, 253,\n",
       "          2],\n",
       "       [  0,   0,   0,   0,   0,   0,   0,   0,   0,   0,   0,   0,   0,\n",
       "          0,   0,   0,   0,   0,   0,   0,   0,   0,   0,   0,   0,   0,\n",
       "          8,   1,  43,   4, 123, 141,  11, 230, 537, 454, 168,   4,   4,\n",
       "          2],\n",
       "       [  0,   0,   0,   0,   0,   0,   0,   0,   0,   0,   0,   0,   0,\n",
       "          0,   0,   0,   0,   0,   0,   0,   0,   0,   0,   0,   0,   0,\n",
       "          0,   0,   0,   0,   0,   0,   0,   0,  15, 182,   1, 805, 581,\n",
       "         60],\n",
       "       [  0,   0,   0,   0,   0,   0,   0,   0,   0,   0,   0,   0,   0,\n",
       "          0,   0,   0,   0,   0,   0,   0,   0,   0,  13,  48,  36,   1,\n",
       "         40,   3, 156, 212,  49, 153,   6,   4,  85,  55,   7, 157,   5,\n",
       "        231],\n",
       "       [  0,   0,   0,   0,   0,   0,   0,   0,   0,   0,   0,   0,   0,\n",
       "          0,   0,   0,   0,   0,   0,   0,   0,   0,   0,   0,   0,   0,\n",
       "          0,   0,   0,   0,   0,   0,   0,   0,   0,   0,   0,   0,   3,\n",
       "          4]], dtype=int32)"
      ]
     },
     "execution_count": 5,
     "metadata": {},
     "output_type": "execute_result"
    }
   ],
   "source": [
    "from tensorflow.keras.preprocessing.text import Tokenizer\n",
    "from tensorflow.keras.preprocessing import sequence\n",
    "\n",
    "## set parameters\n",
    "# max_features: number of words in the vocabulary (and hence, the length of the One Hot Encoding feature vector)\n",
    "# maxlen: number of words in a review\n",
    "max_features = 1000\n",
    "maxlen = 40\n",
    "\n",
    "## Tokenize text\n",
    "tok = Tokenizer(num_words=max_features)\n",
    "tok.fit_on_texts(docs)\n",
    "\n",
    "encoded_docs = tok.texts_to_sequences(docs)\n",
    "# The length of different sequence samples may be different, so we use padding method to make them have same length\n",
    "encoded_docs_padded = sequence.pad_sequences(encoded_docs, maxlen=maxlen)\n",
    "\n",
    "encoded_docs_padded[:5]"
   ]
  },
  {
   "cell_type": "markdown",
   "metadata": {
    "colab_type": "text",
    "id": "-EwNSADeL6lM",
    "nbgrader": {
     "grade": false,
     "grade_id": "cell-f4db56388d013230",
     "locked": true,
     "schema_version": 3,
     "solution": false,
     "task": false
    }
   },
   "source": [
    "## Verify that our encoded documents are the same as the cleaned original\n",
    "\n",
    "At this point: convince yourself that all we have done was encode words as integers and pad out all text to the same length.  \n",
    "\n",
    "The following will demonstrate this. We will use `helper.show()` here"
   ]
  },
  {
   "cell_type": "code",
   "execution_count": 6,
   "metadata": {
    "colab": {},
    "colab_type": "code",
    "id": "pcHqM3UAL6lN",
    "nbgrader": {
     "grade": false,
     "grade_id": "cell-abd39219eaff118c",
     "locked": true,
     "solution": false
    }
   },
   "outputs": [
    {
     "name": "stdout",
     "output_type": "stream",
     "text": [
      "0:\taapl the 10 best steve jobs emails ever link\n",
      "1:\trt mention why aapl stock had a mini flash crash today aapl aapl link\n",
      "2:\tmy only mention cords such an\n",
      "3:\ti agree with mention that the should own not trade apple aapl it's so is good to see\n",
      "4:\tthe aapl\n"
     ]
    }
   ],
   "source": [
    "helper.show(tok, encoded_docs_padded)"
   ]
  },
  {
   "cell_type": "markdown",
   "metadata": {
    "colab_type": "text",
    "id": "j7X6Qw6CL6lP",
    "nbgrader": {
     "grade": false,
     "grade_id": "cell-96075d0a37f290bb",
     "locked": true,
     "schema_version": 3,
     "solution": false,
     "task": false
    }
   },
   "source": [
    "## Even more preprocessing\n",
    "\n",
    "Although a word has been encoded as an integer, this integer doesn't have a particular meaning.\n",
    "\n",
    "We will therefore convert each word to a One Hot Encoded (OHE) vector\n",
    "- The length of the vector is equal to the length of the vocabulary (set of distinct words)\n",
    "- The vector is all 0 except for a single location which will be 1\n",
    "- If the word is the $k^{th}$ word of the vocabulary, the position of the sole 1 will be $k$\n",
    "\n",
    "This representation is called One Hot Encoding\n",
    "- A word as a feature vector of length $V$, where $V$ is the number of words in the vocabulary\n",
    "    - Feature $j$ is a binary indicator which is true if the word is the $j^{th}$ word in the vocabulary\n",
    "    \n",
    "Finally: we can get the set of examples and associated labels in a form ready for processing by\n",
    "the Neural Network.\n",
    "\n",
    "At this point, they will be hard to recognize by a human being. We will use `helper.getExamples()` here"
   ]
  },
  {
   "cell_type": "code",
   "execution_count": 7,
   "metadata": {
    "colab": {},
    "colab_type": "code",
    "id": "rBLTVNn2L6lP",
    "nbgrader": {
     "grade": false,
     "grade_id": "cell-54550db5e697910c",
     "locked": true,
     "schema_version": 3,
     "solution": false,
     "task": false
    }
   },
   "outputs": [
    {
     "name": "stdout",
     "output_type": "stream",
     "text": [
      "[[[1. 0. 0. ... 0. 0. 0.]\n",
      "  [1. 0. 0. ... 0. 0. 0.]\n",
      "  [1. 0. 0. ... 0. 0. 0.]\n",
      "  ...\n",
      "  [0. 0. 0. ... 0. 0. 0.]\n",
      "  [0. 0. 0. ... 0. 0. 0.]\n",
      "  [0. 0. 1. ... 0. 0. 0.]]\n",
      "\n",
      " [[1. 0. 0. ... 0. 0. 0.]\n",
      "  [1. 0. 0. ... 0. 0. 0.]\n",
      "  [1. 0. 0. ... 0. 0. 0.]\n",
      "  ...\n",
      "  [0. 0. 0. ... 0. 0. 0.]\n",
      "  [0. 0. 0. ... 0. 0. 0.]\n",
      "  [0. 0. 1. ... 0. 0. 0.]]\n",
      "\n",
      " [[1. 0. 0. ... 0. 0. 0.]\n",
      "  [1. 0. 0. ... 0. 0. 0.]\n",
      "  [1. 0. 0. ... 0. 0. 0.]\n",
      "  ...\n",
      "  [0. 0. 0. ... 0. 0. 0.]\n",
      "  [0. 0. 0. ... 0. 0. 0.]\n",
      "  [0. 0. 0. ... 0. 0. 0.]]\n",
      "\n",
      " [[1. 0. 0. ... 0. 0. 0.]\n",
      "  [1. 0. 0. ... 0. 0. 0.]\n",
      "  [1. 0. 0. ... 0. 0. 0.]\n",
      "  ...\n",
      "  [0. 0. 0. ... 0. 0. 0.]\n",
      "  [0. 0. 0. ... 0. 0. 0.]\n",
      "  [0. 0. 0. ... 0. 0. 0.]]\n",
      "\n",
      " [[1. 0. 0. ... 0. 0. 0.]\n",
      "  [1. 0. 0. ... 0. 0. 0.]\n",
      "  [1. 0. 0. ... 0. 0. 0.]\n",
      "  ...\n",
      "  [1. 0. 0. ... 0. 0. 0.]\n",
      "  [0. 0. 0. ... 0. 0. 0.]\n",
      "  [0. 0. 0. ... 0. 0. 0.]]]\n"
     ]
    }
   ],
   "source": [
    "X, y = helper.getExamples(encoded_docs_padded, sents, max_features)\n",
    "print(X[:5])"
   ]
  },
  {
   "cell_type": "code",
   "execution_count": 8,
   "metadata": {
    "colab": {},
    "colab_type": "code",
    "id": "ugxCGuLZL6lS",
    "nbgrader": {
     "grade": false,
     "grade_id": "cell-1103753ac6019cac",
     "locked": true,
     "schema_version": 3,
     "solution": false,
     "task": false
    }
   },
   "outputs": [],
   "source": [
    "# save X and y for further testing\n",
    "if not os.path.exists('./data'):\n",
    "    os.mkdir('./data')\n",
    "np.savez_compressed('./data/dataset.npz', X = X, y = y)"
   ]
  },
  {
   "cell_type": "markdown",
   "metadata": {
    "colab_type": "text",
    "id": "5pmcl3OJL6lU",
    "nbgrader": {
     "grade": false,
     "grade_id": "cell-bdd9e38f88bd6e50",
     "locked": true,
     "schema_version": 3,
     "solution": false,
     "task": false
    }
   },
   "source": [
    "## A note on the representation of words as OHE vectors\n",
    "\n",
    "There are *much better* representations of words than as OHE vectors !\n",
    "\n",
    "We will learn about this in our lecture on Natural Language Processing.\n",
    "\n",
    "For now, the OHE representation will suffice."
   ]
  },
  {
   "cell_type": "markdown",
   "metadata": {
    "colab_type": "text",
    "id": "N1ALgjrnL6lU",
    "nbgrader": {
     "grade": false,
     "grade_id": "cell-ae0cdb28af6194b6",
     "locked": true,
     "schema_version": 3,
     "solution": false,
     "task": false
    }
   },
   "source": [
    "# Split the data into test and training sets\n"
   ]
  },
  {
   "cell_type": "code",
   "execution_count": 9,
   "metadata": {
    "colab": {},
    "colab_type": "code",
    "id": "OapiUsgdL6lU",
    "nbgrader": {
     "grade": false,
     "grade_id": "cell-0855eed8c1847068",
     "locked": true,
     "schema_version": 3,
     "solution": false,
     "task": false
    }
   },
   "outputs": [],
   "source": [
    "from sklearn.model_selection import train_test_split\n",
    "X_train, X_test, y_train, y_test = train_test_split(X, y, test_size=0.10, random_state=42)"
   ]
  },
  {
   "cell_type": "markdown",
   "metadata": {
    "colab_type": "text",
    "id": "dUMp-SMuL6lW",
    "nbgrader": {
     "grade": false,
     "grade_id": "cell-bdd86029cc4a895f",
     "locked": true,
     "schema_version": 3,
     "solution": false,
     "task": false
    }
   },
   "source": [
    "# How long is the sequence in a *single* example\n",
    "\n",
    "**Question:**\n",
    "\n",
    "Compute the length and number of features of a sequence\n",
    "\n",
    "Set the following variables to values as described in the cell below\n",
    "- `example_sequence_len`\n",
    "- `example_num_features`"
   ]
  },
  {
   "cell_type": "code",
   "execution_count": 10,
   "metadata": {
    "colab": {},
    "colab_type": "code",
    "id": "AZwuUFQsL6lX",
    "nbgrader": {
     "grade": false,
     "grade_id": "How_long_sequence",
     "locked": false,
     "schema_version": 3,
     "solution": true,
     "task": false
    }
   },
   "outputs": [
    {
     "name": "stdout",
     "output_type": "stream",
     "text": [
      "The length of a sequence is  40\n",
      "Number of features is  1000\n"
     ]
    }
   ],
   "source": [
    "# Set two variables\n",
    "# example_sequence_len: length of the sequence\n",
    "# example_num_features: number of features in a single element of the sequence (of a single example)\n",
    "\n",
    "### BEGIN SOLUTION\n",
    "example_shape = X.shape[1:]\n",
    "example_sequence_len, example_num_features = example_shape[0], example_shape[1]\n",
    "### END SOLUTION\n",
    "\n",
    "print('The length of a sequence is ', example_sequence_len)\n",
    "print('Number of features is ', example_num_features)"
   ]
  },
  {
   "cell_type": "markdown",
   "metadata": {
    "colab_type": "text",
    "id": "x63BevIiL6lZ",
    "nbgrader": {
     "grade": false,
     "grade_id": "cell-8a17befc55265a0b",
     "locked": true,
     "solution": false
    }
   },
   "source": [
    "Hopefully, you answered the question by examining the examples.\n",
    "\n",
    "For comparison: the cell in the \"More data preprocessing\" section defined\n",
    "- `maxlen`: the maximum sequence length allowed\n",
    "- `max_features`: the maximum number of features allowed (i.e., vocabulary size)\n",
    "\n"
   ]
  },
  {
   "cell_type": "code",
   "execution_count": 11,
   "metadata": {
    "nbgrader": {
     "grade": false,
     "grade_id": "cell-bfd713b38d6b3fe9",
     "locked": true,
     "schema_version": 3,
     "solution": false,
     "task": false
    }
   },
   "outputs": [
    {
     "name": "stdout",
     "output_type": "stream",
     "text": [
      "Maximum sequence length: 40\n",
      "Vocabulary size: 1000\n"
     ]
    }
   ],
   "source": [
    "print(\"Maximum sequence length: {l:d}\".format(l=maxlen))\n",
    "print(\"Vocabulary size: {s:d}\".format(s=max_features))"
   ]
  },
  {
   "cell_type": "markdown",
   "metadata": {
    "colab_type": "text",
    "id": "SHC-OgI-L6lZ",
    "nbgrader": {
     "grade": false,
     "grade_id": "cell-6b2fd158d79f5b83",
     "locked": true,
     "schema_version": 3,
     "solution": false,
     "task": false
    }
   },
   "source": [
    "# Part 1: Create a Keras Sequential model using a Recurrent layer type\n",
    "\n",
    "You will create a model that\n",
    "- takes as input: a sequence of one hot encodings of words (i.e., a representation of a tweet)\n",
    "- predicts (outputs) a sentiment\n",
    "\n",
    "**Note**\n",
    "You should treat the sentiment as a Categorical (discrete) value, rather than a continous one\n",
    "- As we saw: the sentiment label values are not continuous\n",
    "- We cannot really assign a \"magnitude\" to the sentiment\n",
    "    - We cannot say that a sentiment of 5 is five times \"higher\" than a sentiment of 1\n",
    "- We will thus treat the problem as one of Classification rather than Regression\n",
    "- **We have not one hot encoded the labels** (i.e., the sents variable). "
   ]
  },
  {
   "cell_type": "markdown",
   "metadata": {
    "colab_type": "text",
    "id": "fsb8iae3L6la",
    "nbgrader": {
     "grade": false,
     "grade_id": "cell-4821aa9d61df6585",
     "locked": true,
     "schema_version": 3,
     "solution": false,
     "task": false
    }
   },
   "source": [
    "## Create model \n",
    "\n",
    "**Question:** Build a very basic model with two layers\n",
    "- A Recurrent layer (LSTM to be specific) with a hidden state size of 128, name it \"lstm_1\"\n",
    "- A Head layer implementing multinomial Classification, name it \"dense_head\"\n",
    "\n",
    "**Hint:**\n",
    "Since this is a multinomial problem, you need to use `softmax` function for your head layer"
   ]
  },
  {
   "cell_type": "code",
   "execution_count": 12,
   "metadata": {
    "colab": {},
    "colab_type": "code",
    "id": "oxhkHAhkL6la",
    "nbgrader": {
     "grade": false,
     "grade_id": "build_simple_RNN",
     "locked": false,
     "schema_version": 3,
     "solution": true,
     "task": false
    }
   },
   "outputs": [
    {
     "name": "stdout",
     "output_type": "stream",
     "text": [
      "Model: \"sequential\"\n",
      "_________________________________________________________________\n",
      "Layer (type)                 Output Shape              Param #   \n",
      "=================================================================\n",
      "lstm_1 (LSTM)                (None, 128)               578048    \n",
      "_________________________________________________________________\n",
      "dense_head (Dense)           (None, 3)                 387       \n",
      "=================================================================\n",
      "Total params: 578,435\n",
      "Trainable params: 578,435\n",
      "Non-trainable params: 0\n",
      "_________________________________________________________________\n"
     ]
    }
   ],
   "source": [
    "model_lstm = None\n",
    "\n",
    "### BEGIN SOLUTION\n",
    "model_lstm = Sequential( [LSTM(128, input_shape=X.shape[-2:], name='lstm_1'),\n",
    "                          Dense( len( np.unique(y)), name='dense_head', activation=\"softmax\")\n",
    "                         ]\n",
    "                       )\n",
    "\n",
    "### END SOLUTION\n",
    "\n",
    "model_lstm.summary()"
   ]
  },
  {
   "cell_type": "code",
   "execution_count": 13,
   "metadata": {
    "colab": {},
    "colab_type": "code",
    "id": "7A3pNGB1L6ld",
    "nbgrader": {
     "grade": false,
     "grade_id": "cell-a5f931ed29245c59",
     "locked": true,
     "schema_version": 3,
     "solution": false,
     "task": false
    }
   },
   "outputs": [
    {
     "data": {
      "image/png": "[encoded data removed]",
      "text/plain": [
       "<IPython.core.display.Image object>"
      ]
     },
     "execution_count": 13,
     "metadata": {},
     "output_type": "execute_result"
    }
   ],
   "source": [
    "# Plot your model\n",
    "plot_lstm = helper.plotModel(model_lstm, \"lstm\")\n",
    "IPython.display.Image(plot_lstm) "
   ]
  },
  {
   "cell_type": "markdown",
   "metadata": {
    "colab_type": "text",
    "id": "phXSCdcvL6lg",
    "nbgrader": {
     "grade": false,
     "grade_id": "cell-91c09cacc73249ab",
     "locked": true,
     "schema_version": 3,
     "solution": false,
     "task": false
    }
   },
   "source": [
    "## Train model\n",
    "\n",
    "**Question:**\n",
    "\n",
    "Now that you have built your first model, you will compile and train it. The requirements are as follows:\n",
    "\n",
    "- Split the **training** examples `X_train, y_train` again !\n",
    "    - 90% will be used for training the model\n",
    "    - 10% will be used as validation (out of sample) examples\n",
    "    - Use `train_test_split()` from `sklearn` to perform this split\n",
    "        -  Set the `random_state` parameter of `train_test_split()` to be 42\n",
    "\n",
    "- Loss function: `sparse_categorical_crossentropy`; Metric: \"accuracy\"\n",
    "- Use exactly 15  epochs for training\n",
    "- Save your training results in a variable named `history1`\n",
    "- Plot your training results using API `helper.plot_training()`\n",
    "\n",
    "**Loss functions:**  `sparse_categorical_crossentropy` versus `categorical_crossentropy` \n",
    "- `categorical_crossentropy` computes Cross Entropy loss when targets are One Hot Encoded\n",
    "- `sparse_categorical_crossentropy` computes Cross Entropy loss when targets are consecutive integers\n",
    "- We have **not** used OHE for our labels here, so don't use `categorical_crossentropy`\n",
    "- Alternatively, you can encode the labels using `to_categorical()` and use `categorical_crossentropy`"
   ]
  },
  {
   "cell_type": "code",
   "execution_count": 14,
   "metadata": {
    "colab": {},
    "colab_type": "code",
    "id": "oMiA4issL6lg"
   },
   "outputs": [
    {
     "name": "stdout",
     "output_type": "stream",
     "text": [
      "Train on 3080 samples, validate on 343 samples\n",
      "Epoch 1/15\n",
      "3080/3080 [==============================] - 11s 4ms/sample - loss: 0.8662 - acc: 0.6107 - val_loss: 0.7723 - val_acc: 0.7172\n",
      "Epoch 2/15\n",
      "3080/3080 [==============================] - 6s 2ms/sample - loss: 0.7059 - acc: 0.7289 - val_loss: 1.8320 - val_acc: 0.5044\n",
      "Epoch 3/15\n",
      "3080/3080 [==============================] - 9s 3ms/sample - loss: 0.6327 - acc: 0.7597 - val_loss: 0.6810 - val_acc: 0.7376\n",
      "Epoch 4/15\n",
      "3080/3080 [==============================] - 8s 2ms/sample - loss: 0.5565 - acc: 0.7838 - val_loss: 0.7224 - val_acc: 0.7522\n",
      "Epoch 5/15\n",
      "3080/3080 [==============================] - 6s 2ms/sample - loss: 0.5090 - acc: 0.8019 - val_loss: 0.6905 - val_acc: 0.7376\n",
      "Epoch 6/15\n",
      "3080/3080 [==============================] - 6s 2ms/sample - loss: 0.4787 - acc: 0.8146 - val_loss: 0.6912 - val_acc: 0.7551\n",
      "Epoch 7/15\n",
      "3080/3080 [==============================] - 6s 2ms/sample - loss: 0.4528 - acc: 0.8286 - val_loss: 0.7634 - val_acc: 0.7493\n",
      "Epoch 8/15\n",
      "3080/3080 [==============================] - 6s 2ms/sample - loss: 0.4223 - acc: 0.8412 - val_loss: 0.6544 - val_acc: 0.7347\n",
      "Epoch 9/15\n",
      "3080/3080 [==============================] - 6s 2ms/sample - loss: 0.3979 - acc: 0.8542 - val_loss: 0.7421 - val_acc: 0.7289\n",
      "Epoch 10/15\n",
      "3080/3080 [==============================] - 6s 2ms/sample - loss: 0.3771 - acc: 0.8591 - val_loss: 0.8222 - val_acc: 0.7493\n",
      "Epoch 11/15\n",
      "3080/3080 [==============================] - 6s 2ms/sample - loss: 0.3592 - acc: 0.8656 - val_loss: 1.2061 - val_acc: 0.6735\n",
      "Epoch 12/15\n",
      "3080/3080 [==============================] - 7s 2ms/sample - loss: 0.3457 - acc: 0.8705 - val_loss: 0.8989 - val_acc: 0.7201\n",
      "Epoch 13/15\n",
      "3080/3080 [==============================] - 6s 2ms/sample - loss: 0.3268 - acc: 0.8753 - val_loss: 0.8110 - val_acc: 0.7143\n",
      "Epoch 14/15\n",
      "3080/3080 [==============================] - 6s 2ms/sample - loss: 0.3111 - acc: 0.8847 - val_loss: 0.8715 - val_acc: 0.7551\n",
      "Epoch 15/15\n",
      "3080/3080 [==============================] - 7s 2ms/sample - loss: 0.3051 - acc: 0.8893 - val_loss: 0.8269 - val_acc: 0.7318\n"
     ]
    },
    {
     "data": {
      "image/png": "[encoded data removed]",
      "text/plain": [
       "<Figure size 432x288 with 1 Axes>"
      ]
     },
     "metadata": {
      "needs_background": "light"
     },
     "output_type": "display_data"
    },
    {
     "data": {
      "image/png": "[encoded data removed]",
      "text/plain": [
       "<Figure size 432x288 with 1 Axes>"
      ]
     },
     "metadata": {
      "needs_background": "light"
     },
     "output_type": "display_data"
    }
   ],
   "source": [
    "# Set parameters\n",
    "model_name_1 = 'LSTM_sparsecat'\n",
    "num_epochs = 15\n",
    "\n",
    "# If you don't use one-hot encoded labels\n",
    "loss_ = 'sparse_categorical_crossentropy'\n",
    "metric = 'acc'\n",
    "\n",
    "### BEGIN SOLUTION\n",
    "X_train_, X_val_, y_train_, y_val_ = train_test_split(X_train, y_train, test_size=0.10, random_state=42)\n",
    "model_lstm.compile(loss=loss_,\n",
    "            metrics=[metric]\n",
    "            )\n",
    "\n",
    "history1 = model_lstm.fit(X_train_, y_train_,\n",
    "    epochs=num_epochs,\n",
    "    validation_data=(X_val_, y_val_))\n",
    "\n",
    "# Plot training result\n",
    "helper.plot_training(history1)\n",
    "### END SOLUTION"
   ]
  },
  {
   "cell_type": "markdown",
   "metadata": {
    "colab_type": "text",
    "id": "3-XVECQqL6lj"
   },
   "source": [
    "**Expected outputs (there may be some differences):**  \n",
    "<table> \n",
    "    <tr> \n",
    "        <td>  \n",
    "            Training accuracy\n",
    "        </td>\n",
    "        <td>\n",
    "         0.9120\n",
    "        </td>\n",
    "    </tr>\n",
    "    <tr> \n",
    "        <td>\n",
    "            Validation accuracy\n",
    "        </td>\n",
    "        <td>\n",
    "         0.7259\n",
    "        </td>\n",
    "    </tr>\n",
    "\n",
    "</table>\n",
    "\n",
    "The loss and accuracy graphs of first model are similiar to this:\n",
    "<img src=\"https://github.com/nyutandononline/MachineLearning_and_Finance_Teacher/blob/master/Assignment_DL_teacher/DL_3_sentiment_from_tweets/images/model1_acc.png?raw=1\" style=\"width:600px;height:300px;\">\n",
    "<img src=\"https://github.com/nyutandononline/MachineLearning_and_Finance_Teacher/blob/master/Assignment_DL_teacher/DL_3_sentiment_from_tweets/images/model1_loss.png?raw=1\" style=\"width:600px;height:300px;\">\n",
    "\n",
    "We can see that the out of sample loss does not improve, even as in sample loss does.\n",
    "This might mean that we have an overfitting problem.\n"
   ]
  },
  {
   "cell_type": "markdown",
   "metadata": {
    "colab_type": "text",
    "id": "NZF4nwH_L6lj",
    "nbgrader": {
     "grade": false,
     "grade_id": "cell-c95849feccb7516e",
     "locked": true,
     "solution": false
    }
   },
   "source": [
    "## Evalutate the model\n",
    "\n",
    "**Question:**\n",
    "\n",
    "We have trained our model. We now need to  evaluate the model using the test dataset created in an earlier cell.\n",
    "\n",
    "Please store the model score in a variable named `score1`.   \n",
    "\n",
    "**Hint:** The model object has a method  `evaluate`.  Use that to compute the score.\n",
    "\n"
   ]
  },
  {
   "cell_type": "code",
   "execution_count": 15,
   "metadata": {
    "colab": {},
    "colab_type": "code",
    "id": "bpCgjed4L6lj",
    "nbgrader": {
     "grade": false,
     "locked": false,
     "solution": false
    }
   },
   "outputs": [
    {
     "name": "stdout",
     "output_type": "stream",
     "text": [
      "LSTM_sparsecat: Test loss: 0.90 / Test accuracy: 0.72\n"
     ]
    }
   ],
   "source": [
    "socre1 = None\n",
    "\n",
    "### BEGIN SOLUTION\n",
    "score1 = model_lstm.evaluate(X_test, y_test, verbose=0)\n",
    "### END SOLUTION\n",
    "\n",
    "print(\"{n:s}: Test loss: {l:3.2f} / Test accuracy: {a:3.2f}\".format(n=model_name_1, l=score1[0], a=score1[1]))"
   ]
  },
  {
   "cell_type": "markdown",
   "metadata": {
    "colab_type": "text",
    "id": "VBELanQXL6lm",
    "nbgrader": {
     "grade": false,
     "grade_id": "cell-bc98d98ca6b84a08",
     "locked": true,
     "schema_version": 3,
     "solution": false,
     "task": false
    }
   },
   "source": [
    "## Save the trained model_lstm and history1 for submission"
   ]
  },
  {
   "cell_type": "code",
   "execution_count": 16,
   "metadata": {
    "colab": {},
    "colab_type": "code",
    "id": "i2dmm4UtL6lm",
    "nbgrader": {
     "grade": false,
     "grade_id": "cell-24697f2c2819849c",
     "locked": true,
     "schema_version": 3,
     "solution": false,
     "task": false
    }
   },
   "outputs": [
    {
     "name": "stdout",
     "output_type": "stream",
     "text": [
      "Model saved in directory ./models/LSTM_sparsecat; create an archive of this directory and submit with your assignment.\n",
      "Directory ./models/LSTM_sparsecat already exists, files will be over-written.\n"
     ]
    }
   ],
   "source": [
    "helper.saveModel(model_lstm, model_name_1)\n",
    "helper.saveHistory(history1, model_name_1)"
   ]
  },
  {
   "cell_type": "markdown",
   "metadata": {
    "colab_type": "text",
    "id": "tvVV67vSL6lp",
    "nbgrader": {
     "grade": false,
     "grade_id": "cell-db0ba37a6cf03aca",
     "locked": true,
     "schema_version": 3,
     "solution": false,
     "task": false
    }
   },
   "source": [
    "## Let's check the number of our models, how many weights in your recurrent model?\n",
    "\n",
    "How many weights in your model?\n",
    "\n",
    "You should always be sensitive to how \"big\" your model is."
   ]
  },
  {
   "cell_type": "code",
   "execution_count": 17,
   "metadata": {
    "colab": {},
    "colab_type": "code",
    "id": "xNW1fQg0L6lp",
    "nbgrader": {
     "grade": false,
     "grade_id": "cell-abdeff68cd17a9d4",
     "locked": false,
     "schema_version": 3,
     "solution": true,
     "task": false
    }
   },
   "outputs": [
    {
     "name": "stdout",
     "output_type": "stream",
     "text": [
      "number of parameters is  578435\n"
     ]
    }
   ],
   "source": [
    "# Set variable\n",
    "# - num_weights_lstm: number of weights in your model\n",
    "num_weights_lstm = 0\n",
    "\n",
    "### BEGIN SOLUTION\n",
    "num_weights_lstm = model_lstm.count_params()\n",
    "### END SOLUTION\n",
    "\n",
    "print(\"number of parameters is \", num_weights_lstm)"
   ]
  },
  {
   "cell_type": "markdown",
   "metadata": {
    "colab_type": "text",
    "id": "Y8fQ-bZxL6lr",
    "nbgrader": {
     "grade": false,
     "grade_id": "cell-00ae8f085cb69e3a",
     "locked": true,
     "schema_version": 3,
     "solution": false,
     "task": false
    }
   },
   "source": [
    "# Part 2: Create a model consisting only of a Classification head\n",
    "\n",
    "The Recurrent layer type creates a fixed length (i.e., size of hidden state) encoding of a variable length input sequence\n",
    "- No matter how long the input, the encoding will have fixed length\n",
    "\n",
    "But it needs quite a few parameters, and seems to have a overfitting problem.\n",
    "\n",
    "Let's compare this to a simple Classifier only model\n",
    "- That reduces the sequence to a single feature vector\n",
    "    - Length of the single feature vector is the same as any element of the sequence\n",
    "- There are a couple of ways to do this\n",
    "    - Take the sum or average (across the sequence) of each feature\n",
    "    - Take the max (across the sequence) of each feature"
   ]
  },
  {
   "cell_type": "markdown",
   "metadata": {
    "colab_type": "text",
    "id": "3KyZFNxxL6lr",
    "nbgrader": {
     "grade": false,
     "grade_id": "cell-b8a182d09cf81f9f",
     "locked": true,
     "schema_version": 3,
     "solution": false,
     "task": false
    }
   },
   "source": [
    "**Question:** \n",
    "\n",
    "Create a Keras Sequential model\n",
    "- Using only two layers:\n",
    "    - 1 pooling layer\n",
    "    - A Classification head\n",
    "        - Name your head layer \"dense_head\"\n",
    "    \n",
    "The pooling layer should reduce your variable length sequence to a fixed length.\n",
    "- That's what the RNN layer of the previous model did, although in a more complex manner.\n",
    "\n",
    "A fixed length input is what the Classification head needs.\n",
    "\n",
    "**Hint:**\n",
    "- Investigate the Keras `GlobalMaxPooling1D` and `GlobalAveragePooling1D` layer types"
   ]
  },
  {
   "cell_type": "code",
   "execution_count": 18,
   "metadata": {
    "colab": {},
    "colab_type": "code",
    "id": "QMUqHEdrL6ls",
    "nbgrader": {
     "grade": false,
     "grade_id": "build_model_only_head_layer",
     "locked": false,
     "schema_version": 3,
     "solution": true,
     "task": false
    }
   },
   "outputs": [
    {
     "data": {
      "image/png": "[encoded data removed]",
      "text/plain": [
       "<IPython.core.display.Image object>"
      ]
     },
     "execution_count": 18,
     "metadata": {},
     "output_type": "execute_result"
    },
    {
     "name": "stdout",
     "output_type": "stream",
     "text": [
      "Model: \"sequential_1\"\n",
      "_________________________________________________________________\n",
      "Layer (type)                 Output Shape              Param #   \n",
      "=================================================================\n",
      "global_max_pooling1d (Global (None, 1000)              0         \n",
      "_________________________________________________________________\n",
      "dense_head (Dense)           (None, 3)                 3003      \n",
      "=================================================================\n",
      "Total params: 3,003\n",
      "Trainable params: 3,003\n",
      "Non-trainable params: 0\n",
      "_________________________________________________________________\n"
     ]
    }
   ],
   "source": [
    "model_simple = None\n",
    "\n",
    "### BEGIN SOLUTION\n",
    "model_simple = Sequential( [ GlobalMaxPooling1D(input_shape=X_train.shape[-2:]),\n",
    "                             Dense( len( np.unique(y) ), activation=\"softmax\", name='dense_head')\n",
    "                           ]\n",
    "                         )\n",
    "\n",
    "### END SOLUTION\n",
    "\n",
    "# Plot model\n",
    "plot_simple = helper.plotModel(model_simple, \"simple\")\n",
    "IPython.display.Image(plot_simple) \n",
    "\n",
    "model_simple.summary()"
   ]
  },
  {
   "cell_type": "markdown",
   "metadata": {
    "colab_type": "text",
    "id": "YcKR7hp5L6lu",
    "nbgrader": {
     "grade": false,
     "grade_id": "cell-8ce545d82f6cf31b",
     "locked": true,
     "schema_version": 3,
     "solution": false,
     "task": false
    }
   },
   "source": [
    "## Train model\n",
    "\n",
    "**Question:**\n",
    "\n",
    "Train your new model following the same instructions as given for training the first model.\n",
    "- **Except**: Save your training results in a variable named `history2`\n",
    "- Name your model \"Only_head\"\n",
    "\n",
    "\n"
   ]
  },
  {
   "cell_type": "code",
   "execution_count": 19,
   "metadata": {
    "colab": {},
    "colab_type": "code",
    "id": "x6wZZHzcL6lu",
    "nbgrader": {
     "grade": false,
     "grade_id": "train_only_head_layer_model",
     "locked": false,
     "schema_version": 3,
     "solution": true,
     "task": false
    },
    "scrolled": true
   },
   "outputs": [
    {
     "name": "stdout",
     "output_type": "stream",
     "text": [
      "Train on 3080 samples, validate on 343 samples\n",
      "Epoch 1/15\n",
      "3080/3080 [==============================] - 1s 303us/sample - loss: 0.9355 - acc: 0.5971 - val_loss: 0.8339 - val_acc: 0.6851\n",
      "Epoch 2/15\n",
      "3080/3080 [==============================] - 1s 214us/sample - loss: 0.8023 - acc: 0.6951 - val_loss: 0.7533 - val_acc: 0.7172\n",
      "Epoch 3/15\n",
      "3080/3080 [==============================] - 1s 181us/sample - loss: 0.7410 - acc: 0.7153 - val_loss: 0.7088 - val_acc: 0.7434\n",
      "Epoch 4/15\n",
      "3080/3080 [==============================] - 1s 172us/sample - loss: 0.7029 - acc: 0.7266 - val_loss: 0.6842 - val_acc: 0.7405\n",
      "Epoch 5/15\n",
      "3080/3080 [==============================] - 1s 185us/sample - loss: 0.6752 - acc: 0.7312 - val_loss: 0.6655 - val_acc: 0.7434\n",
      "Epoch 6/15\n",
      "3080/3080 [==============================] - 1s 178us/sample - loss: 0.6533 - acc: 0.7393 - val_loss: 0.6513 - val_acc: 0.7464\n",
      "Epoch 7/15\n",
      "3080/3080 [==============================] - 1s 180us/sample - loss: 0.6349 - acc: 0.7461 - val_loss: 0.6418 - val_acc: 0.7493\n",
      "Epoch 8/15\n",
      "3080/3080 [==============================] - 1s 177us/sample - loss: 0.6185 - acc: 0.7519 - val_loss: 0.6319 - val_acc: 0.7522\n",
      "Epoch 9/15\n",
      "3080/3080 [==============================] - 1s 187us/sample - loss: 0.6046 - acc: 0.7607 - val_loss: 0.6247 - val_acc: 0.7668\n",
      "Epoch 10/15\n",
      "3080/3080 [==============================] - 1s 166us/sample - loss: 0.5928 - acc: 0.7636 - val_loss: 0.6194 - val_acc: 0.7668\n",
      "Epoch 11/15\n",
      "3080/3080 [==============================] - 1s 178us/sample - loss: 0.5815 - acc: 0.7669 - val_loss: 0.6138 - val_acc: 0.7668\n",
      "Epoch 12/15\n",
      "3080/3080 [==============================] - 1s 209us/sample - loss: 0.5713 - acc: 0.7685 - val_loss: 0.6100 - val_acc: 0.7784\n",
      "Epoch 13/15\n",
      "3080/3080 [==============================] - 1s 176us/sample - loss: 0.5616 - acc: 0.7750 - val_loss: 0.6079 - val_acc: 0.7813\n",
      "Epoch 14/15\n",
      "3080/3080 [==============================] - 1s 166us/sample - loss: 0.5536 - acc: 0.7782 - val_loss: 0.6039 - val_acc: 0.7813\n",
      "Epoch 15/15\n",
      "3080/3080 [==============================] - 1s 167us/sample - loss: 0.5459 - acc: 0.7779 - val_loss: 0.6018 - val_acc: 0.7813\n"
     ]
    },
    {
     "data": {
      "image/png": "[encoded data removed]",
      "text/plain": [
       "<Figure size 432x288 with 1 Axes>"
      ]
     },
     "metadata": {
      "needs_background": "light"
     },
     "output_type": "display_data"
    },
    {
     "data": {
      "image/png": "[encoded data removed]",
      "text/plain": [
       "<Figure size 432x288 with 1 Axes>"
      ]
     },
     "metadata": {
      "needs_background": "light"
     },
     "output_type": "display_data"
    }
   ],
   "source": [
    "# Set parameters\n",
    "model_name_2 = 'Only_head'\n",
    "num_epochs = 15\n",
    "metric = 'acc'\n",
    "loss_ = 'sparse_categorical_crossentropy'\n",
    "\n",
    "\n",
    "### BEGIN SOLUTION\n",
    "# X_train_, X_val_, y_train_, y_val_ = train_test_split(X_train, y_train, test_size=0.10, random_state=42)\n",
    "model_simple.compile(loss= loss_,\n",
    "            metrics=[metric]\n",
    "            )\n",
    "\n",
    "history2 = model_simple.fit(X_train_, y_train_,\n",
    "    epochs=num_epochs,\n",
    "    validation_data=(X_val_, y_val_))\n",
    "\n",
    "# Plot training result\n",
    "helper.plot_training(history2)\n",
    "### END SOLUTION"
   ]
  },
  {
   "cell_type": "markdown",
   "metadata": {
    "colab_type": "text",
    "id": "IxF_niizL6lw",
    "nbgrader": {
     "grade": false,
     "grade_id": "cell-a3b9136c0a04ff84",
     "locked": true,
     "schema_version": 3,
     "solution": false,
     "task": false
    }
   },
   "source": [
    "**Expected outputs (there may be some differences):**  \n",
    "<table> \n",
    "    <tr> \n",
    "        <td>  \n",
    "            Training accuracy\n",
    "        </td>\n",
    "        <td>\n",
    "         0.7776\n",
    "        </td>\n",
    "    </tr>\n",
    "    <tr> \n",
    "        <td>\n",
    "            Validation accuracy\n",
    "        </td>\n",
    "        <td>\n",
    "         0.7784\n",
    "        </td>\n",
    "    </tr>\n",
    "\n",
    "</table>\n",
    "\n",
    "The loss and accuracy graphs of first model are similiar to this:\n",
    "<img src=\"https://github.com/nyutandononline/MachineLearning_and_Finance_Teacher/blob/master/Assignment_DL_teacher/DL_3_sentiment_from_tweets/images/model2_acc.png?raw=1\" style=\"width:600px;height:300px;\">\n",
    "<img src=\"https://github.com/nyutandononline/MachineLearning_and_Finance_Teacher/blob/master/Assignment_DL_teacher/DL_3_sentiment_from_tweets/images/model2_loss.png?raw=1\" style=\"width:600px;height:300px;\">\n",
    "\n",
    "We can see that out of sample and in sample losses are not too different, so it appears that we\n",
    "are not overfitting, at least until the number of epochs grows."
   ]
  },
  {
   "cell_type": "markdown",
   "metadata": {
    "colab_type": "text",
    "id": "WlvZADyuL6lw",
    "nbgrader": {
     "grade": false,
     "grade_id": "cell-5b024575e8ea3398",
     "locked": true,
     "schema_version": 3,
     "solution": false,
     "task": false
    }
   },
   "source": [
    "## Save the trained model_simple and history2 for submission"
   ]
  },
  {
   "cell_type": "code",
   "execution_count": 20,
   "metadata": {
    "colab": {},
    "colab_type": "code",
    "id": "1RG6nphRL6lx",
    "nbgrader": {
     "grade": false,
     "grade_id": "cell-3324fdffb7eb218b",
     "locked": true,
     "schema_version": 3,
     "solution": false,
     "task": false
    }
   },
   "outputs": [
    {
     "name": "stdout",
     "output_type": "stream",
     "text": [
      "Model saved in directory ./models/Only_head; create an archive of this directory and submit with your assignment.\n",
      "Directory ./models/Only_head already exists, files will be over-written.\n"
     ]
    }
   ],
   "source": [
    "helper.saveModel(model_simple, model_name_2)\n",
    "helper.saveHistory(history2, model_name_2)"
   ]
  },
  {
   "cell_type": "markdown",
   "metadata": {
    "colab_type": "text",
    "id": "r8t3kvOUL6l0",
    "nbgrader": {
     "grade": false,
     "grade_id": "cell-f1feed2553377a71",
     "locked": true,
     "schema_version": 3,
     "solution": false,
     "task": false
    }
   },
   "source": [
    "## How many weights in your Classifier only model ?\n",
    "\n",
    "How many weights in your model ?\n",
    "\n",
    "You should always be sensitive to how \"big\" your model is."
   ]
  },
  {
   "cell_type": "code",
   "execution_count": 21,
   "metadata": {
    "colab": {},
    "colab_type": "code",
    "id": "aT6WSFm4L6l0",
    "nbgrader": {
     "grade": false,
     "grade_id": "cell-ad84e21e2763f573",
     "locked": true,
     "schema_version": 3,
     "solution": false,
     "task": false
    }
   },
   "outputs": [
    {
     "name": "stdout",
     "output_type": "stream",
     "text": [
      "number of parameters is  3003\n"
     ]
    }
   ],
   "source": [
    "# Set variable\n",
    "# - num_weights_lstm: number of weights in your model\n",
    "num_weights_simple = 0\n",
    "\n",
    "### BEGIN SOLUTION\n",
    "num_weights_simple = model_simple.count_params()\n",
    "### END SOLUTION\n",
    "\n",
    "print(\"number of parameters is \", num_weights_simple)"
   ]
  },
  {
   "cell_type": "markdown",
   "metadata": {
    "colab_type": "text",
    "id": "NfAqULskL6l3",
    "nbgrader": {
     "grade": false,
     "grade_id": "cell-80490d1c1d149b60",
     "locked": true,
     "schema_version": 3,
     "solution": false,
     "task": false
    }
   },
   "source": [
    "Compared with the previous RNN moddel, we have much **less** parameters, but the validation accuracy is better than RNN model!"
   ]
  },
  {
   "cell_type": "markdown",
   "metadata": {
    "colab_type": "text",
    "id": "CeeuNHC8L6l3",
    "nbgrader": {
     "grade": false,
     "grade_id": "cell-0ad6ed9cd2b135fb",
     "locked": true,
     "schema_version": 3,
     "solution": false,
     "task": false
    }
   },
   "source": [
    "# Discussion\n",
    "\n",
    "- Was the increase in number of weights (when using a Recurrent Layer compared to the Classifier only model) compensated by a gain in accuracy  ?\n",
    "- Can you speculate why this is so ?"
   ]
  },
  {
   "cell_type": "markdown",
   "metadata": {
    "colab_type": "text",
    "id": "i86L2kxmL6l3",
    "nbgrader": {
     "grade": false,
     "grade_id": "cell-b36e7b7522de3d69",
     "locked": true,
     "schema_version": 3,
     "solution": false,
     "task": false
    }
   },
   "source": [
    "## Now Submit your assignment!\n",
    "Please click on the blue button <span style=\"color: blue;\"> **Submit** </span> in this notebook. "
   ]
  }
 ],
 "metadata": {
  "celltoolbar": "Create Assignment",
  "colab": {
   "name": "Sentiment_from_tweets.ipynb",
   "provenance": []
  },
  "kernelspec": {
   "display_name": "Python 3",
   "language": "python",
   "name": "python3"
  },
  "language_info": {
   "codemirror_mode": {
    "name": "ipython",
    "version": 3
   },
   "file_extension": ".py",
   "mimetype": "text/x-python",
   "name": "python",
   "nbconvert_exporter": "python",
   "pygments_lexer": "ipython3",
   "version": "3.7.4"
  },
  "toc": {
   "base_numbering": 1,
   "nav_menu": {},
   "number_sections": true,
   "sideBar": true,
   "skip_h1_title": false,
   "title_cell": "Table of Contents",
   "title_sidebar": "Contents",
   "toc_cell": false,
   "toc_position": {},
   "toc_section_display": true,
   "toc_window_display": true
  }
 },
 "nbformat": 4,
 "nbformat_minor": 1
}

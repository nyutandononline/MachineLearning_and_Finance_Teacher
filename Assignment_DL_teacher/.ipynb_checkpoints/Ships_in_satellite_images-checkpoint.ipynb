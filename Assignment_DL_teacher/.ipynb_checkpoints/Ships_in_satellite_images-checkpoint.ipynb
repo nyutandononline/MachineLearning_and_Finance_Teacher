{
 "cells": [
  {
   "cell_type": "markdown",
   "metadata": {
    "colab_type": "text",
    "id": "6N2CBGINh8Pv",
    "nbgrader": {
     "grade": false,
     "grade_id": "cell-781158b4d8582eff",
     "locked": true,
     "solution": false
    }
   },
   "source": [
    "# Problem description\n",
    "\n",
    "To a large degree, financial data has traditionally been numeric in format.\n",
    "\n",
    "But in recent years, non-numeric formats like image, text and audio have been introduced.  \n",
    "\n",
    "Private companies have satellites orbiting the Earth taking photos and offering them to customers.  A financial analyst might be able to extract information from these photos that could aid in the prediction of the future price of a stock\n",
    "\n",
    "- Approximate number of customers visiting each store: count number of cars in parking lot\n",
    "- Approximate activity in a factory by counting number of supplier trucks arriving and number of delivery trucks leaving\n",
    "- Approximate demand for a commodity at each location: count cargo ships travelling between ports\n",
    "\n",
    "In this assignment, we will attempt to recognize ships in satellite photos.\n",
    "This would be a first step toward\n",
    "counting.\n",
    "\n",
    "As in any other domain: specific knowledge of the problem area will make you a better analyst.\n",
    "For this assignment, we will ignore domain-specific information and just try to use a labelled training set (photo plus a binary indicator for whether a ship is present/absent in the photo), assuming that the labels are perfect.\n",
    "\n",
    "n.b., it appears that a photo is labelled as having a ship present only if the ship is in the center of the photo.  Perhaps this prevents us from double-counting.\n"
   ]
  },
  {
   "cell_type": "markdown",
   "metadata": {
    "colab_type": "text",
    "id": "CeLXwiRUkM7E",
    "nbgrader": {
     "grade": false,
     "grade_id": "cell-927d32994455c2a4",
     "locked": true,
     "solution": false
    }
   },
   "source": [
    "## Goal: problem set 1\n",
    "**Before you start working on this assignment, please change your kernel to Python 3.7**\n",
    "\n",
    "You will need to create Sequential models in Keras to classify satellite photos.\n",
    "- The features are images: 3 dimensional collection of pixels\n",
    "  - 2 spatial dimensions\n",
    "  - 1 dimension with 3 features for different parts of the color spectrum: Red, Green, Blue\n",
    "- The labels are either 1 (ship is present) or 0 (ship is not present)\n",
    "\n",
    "You will create several models, of increasing complexity\n",
    "- A model that implements only a Classification Head (no transformations other than perhaps rearranging the image)\n",
    "- A model that adds a Dense layer before the head\n",
    "- (Later assignment) A model that adds Convolutional layers before the Head"
   ]
  },
  {
   "cell_type": "markdown",
   "metadata": {
    "colab_type": "text",
    "id": "0EI8sBAa9-u0",
    "nbgrader": {
     "grade": false,
     "grade_id": "cell-bbc7640b0aa2f6b9",
     "locked": true,
     "solution": false
    }
   },
   "source": [
    "## Learning objectives\n",
    "- Learn how to construct Neural Networks using Keras Sequential model\n",
    "- Appreciate how layer choices impact number of weights"
   ]
  },
  {
   "cell_type": "markdown",
   "metadata": {
    "colab_type": "text",
    "id": "Amjo4KRP-O5Z",
    "nbgrader": {
     "grade": false,
     "grade_id": "cell-09cd3aae4861ca8e",
     "locked": true,
     "solution": false
    }
   },
   "source": [
    "# This section is for instructor only: Colab used only to create data set"
   ]
  },
  {
   "cell_type": "code",
   "execution_count": null,
   "metadata": {
    "colab": {
     "base_uri": "https://localhost:8080/",
     "height": 34
    },
    "colab_type": "code",
    "collapsed": true,
    "id": "wn9g4XFfFA9j",
    "nbgrader": {
     "grade": false,
     "grade_id": "cell-95a1da5605ea5944",
     "locked": true,
     "solution": false
    },
    "outputId": "56c827fd-a2e9-490b-fa53-6b42ef667303"
   },
   "outputs": [],
   "source": [
    "try:\n",
    "  from google.colab import drive\n",
    "  IN_COLAB=True\n",
    "except:\n",
    "  IN_COLAB=False\n",
    "\n",
    "if IN_COLAB:\n",
    "  print(\"We're running Colab\")"
   ]
  },
  {
   "cell_type": "code",
   "execution_count": 1,
   "metadata": {
    "colab": {
     "base_uri": "https://localhost:8080/",
     "height": 51
    },
    "colab_type": "code",
    "id": "QJCexuADFC5U",
    "nbgrader": {
     "grade": false,
     "grade_id": "cell-3593dce08d6317e8",
     "locked": true,
     "solution": false
    },
    "outputId": "1fa0b624-85cd-4f6e-d9a6-02aa2fc543e1"
   },
   "outputs": [
    {
     "name": "stdout",
     "output_type": "stream",
     "text": [
      "Running TensorFlow version  2.2.0\n",
      "Version 2, minor 2\n"
     ]
    }
   ],
   "source": [
    "import tensorflow as tf\n",
    "from tensorflow.keras.utils import plot_model\n",
    "\n",
    "print(\"Running TensorFlow version \",tf.__version__)\n",
    "\n",
    "# Parse tensorflow version\n",
    "import re\n",
    "\n",
    "version_match = re.match(\"([0-9]+)\\.([0-9]+)\", tf.__version__)\n",
    "tf_major, tf_minor = int(version_match.group(1)) , int(version_match.group(2))\n",
    "print(\"Version {v:d}, minor {m:d}\".format(v=tf_major, m=tf_minor) )"
   ]
  },
  {
   "cell_type": "code",
   "execution_count": null,
   "metadata": {
    "colab": {
     "base_uri": "https://localhost:8080/",
     "height": 154
    },
    "colab_type": "code",
    "collapsed": true,
    "id": "hTb720ZQFGE_",
    "nbgrader": {
     "grade": false,
     "grade_id": "cell-7066b88883a7da03",
     "locked": true,
     "solution": false
    },
    "outputId": "617a5f68-338f-4e2c-d672-38a5662f6b1e"
   },
   "outputs": [],
   "source": [
    "if IN_COLAB:\n",
    "  # Mount the Google Drive at mount\n",
    "  mount='/content/gdrive'\n",
    "  print(\"Colab: mounting Google drive on \", mount)\n",
    "\n",
    "  drive.mount(mount)\n",
    "  import os\n",
    "  drive_root = os.path.join(mount, \"My Drive/Colab Notebooks/NYU/demo/edX\")\n",
    "     \n",
    "  # Create drive_root if it doesn't exist\n",
    "  create_drive_root = True\n",
    "  if create_drive_root:\n",
    "    print(\"\\nColab: making sure \", drive_root, \" exists.\")\n",
    "    os.makedirs(drive_root, exist_ok=True)\n",
    "  \n",
    "  # Change to the directory\n",
    "  proj_root = os.path.join(drive_root, \"ships_in_satellite_images\")\n",
    "  print(\"\\nColab: Changing directory to \", proj_root)\n",
    " \n",
    "else:\n",
    "    print(\"Running locally\")\n",
    "    proj_root=\".\"\n",
    "    # raise RuntimeError(\"This notebook should be run from Colab, not on the local machine\")\n",
    "\n",
    "%cd $proj_root \n",
    "%pwd"
   ]
  },
  {
   "cell_type": "markdown",
   "metadata": {
    "colab_type": "text",
    "id": "YxXiLgtXAdYS",
    "nbgrader": {
     "grade": false,
     "grade_id": "cell-3fe918b7fc402898",
     "locked": true,
     "solution": false
    }
   },
   "source": [
    "# Standard imports"
   ]
  },
  {
   "cell_type": "code",
   "execution_count": 2,
   "metadata": {
    "colab": {},
    "colab_type": "code",
    "collapsed": true,
    "id": "OrjN4zPEAfQb",
    "nbgrader": {
     "grade": false,
     "grade_id": "cell-070cebdd7ee912db",
     "locked": true,
     "solution": false
    }
   },
   "outputs": [],
   "source": [
    "import numpy as np\n",
    "import pandas as pd\n",
    "import matplotlib.pyplot as plt\n",
    "\n",
    "import sklearn\n",
    "\n",
    "import os\n",
    "import math\n",
    "\n",
    "%matplotlib inline"
   ]
  },
  {
   "cell_type": "markdown",
   "metadata": {
    "colab_type": "text",
    "id": "6qfyKiQ3FTXu",
    "nbgrader": {
     "grade": false,
     "grade_id": "cell-e4d6b6651f9d5e13",
     "locked": true,
     "solution": false
    }
   },
   "source": [
    "# Create the dataset (Instructor runs this offline; the student will be provided with an API to get the data)"
   ]
  },
  {
   "cell_type": "code",
   "execution_count": 3,
   "metadata": {
    "colab": {
     "base_uri": "https://localhost:8080/",
     "height": 102
    },
    "colab_type": "code",
    "collapsed": true,
    "id": "5TGSVUf6FVis",
    "nbgrader": {
     "grade": false,
     "grade_id": "cell-0c6e43d865e98cc5",
     "locked": true,
     "solution": false
    },
    "outputId": "f529d119-8369-4b18-8d57-559333cb50cb"
   },
   "outputs": [],
   "source": [
    "DATA_DIR = \"../resource/asnlib/publicdata/ships_in_satellite_images/data\"\n",
    "    \n",
    "json_file =  \"shipsnet.json\"\n",
    "json_zip_file = \"2869_61115_compressed_\" + json_file + \".zip\"\n",
    "if (not os.path.exists( os.path.join(DATA_DIR, json_file) ) ) and os.path.exists( os.path.join(DATA_DIR, json_zip_file) ):\n",
    "  print(\"Unzipping \", json_file)\n",
    "  fquoted = '\"{f:s}\"'.format(f=json_zip_file)\n",
    "  %cd $DATA_DIR\n",
    "  ! unzip $fquoted\n",
    "  %cd ..\n",
    "\n"
   ]
  },
  {
   "cell_type": "markdown",
   "metadata": {
    "colab_type": "text",
    "id": "O7LEiY7ilZpz",
    "nbgrader": {
     "grade": false,
     "grade_id": "cell-1005e0ae8cabee0e",
     "locked": true,
     "solution": false
    }
   },
   "source": [
    "# API for students\n",
    "\n",
    "We will define some utility routines.\n",
    "\n",
    "This will simplify problem solving\n",
    "\n",
    "More importantly: it adds structure to your submission so that it may be easily graded\n",
    "\n",
    "- getData: Get a collection of labelled images, used as follows\n",
    "\n",
    "  >`data, labels = getData()`\n",
    "- showData: Visualize labelled images, used as follows\n",
    "\n",
    "  >`showData(data, labels)`\n",
    "\n",
    "- train: train a model and visualize its progress, used as follows\n",
    "\n",
    "  >`train(model, X_train, y_train, model_name, epochs=max_epochs)`\n"
   ]
  },
  {
   "cell_type": "code",
   "execution_count": 4,
   "metadata": {
    "colab": {},
    "colab_type": "code",
    "collapsed": true,
    "id": "nZPo8V5NH5FA",
    "nbgrader": {
     "grade": false,
     "grade_id": "cell-f62733eeb9842945",
     "locked": true,
     "solution": false
    }
   },
   "outputs": [],
   "source": [
    "\n",
    "import math\n",
    "\n",
    "import os\n",
    "import h5py\n",
    "from nose.tools import assert_equal\n",
    "from tensorflow.keras.models import load_model\n",
    "from tensorflow.keras.utils import to_categorical\n",
    "\n",
    "\n",
    "import json\n",
    "\n",
    "def getData():\n",
    "  data,labels = json_to_numpy( os.path.join(DATA_DIR,json_file) )\n",
    "  return data, labels\n",
    "\n",
    "def showData(data, labels, num_cols=5):\n",
    "  # Plot the first num_rows * num_cols images in X\n",
    "  (num_rows, num_cols) = ( math.ceil(data.shape[0]/num_cols), num_cols)\n",
    "\n",
    "  fig = plt.figure(figsize=(10,10))\n",
    "  # Plot each image\n",
    "  for i in range(0, data.shape[0]):\n",
    "      img, img_label = data[i], labels[i]\n",
    "      ax  = fig.add_subplot(num_rows, num_cols, i+1)\n",
    "      _ = ax.set_axis_off()\n",
    "      ax.set_title(img_label)\n",
    "\n",
    "      _ = plt.imshow(img)\n",
    "  fig.tight_layout()\n",
    "\n",
    "  return fig\n",
    "\n",
    "def modelPath(modelName):\n",
    "    return os.path.join(\".\", \"models\", modelName)\n",
    "\n",
    "def saveModel(model, modelName): \n",
    "    model_path = modelPath(modelName)\n",
    "    \n",
    "    try:\n",
    "        os.makedirs(model_path)\n",
    "    except OSError:\n",
    "        print(\"Directory {dir:s} already exists, files will be over-written.\".format(dir=model_path))\n",
    "        \n",
    "    # Save JSON config to disk\n",
    "    json_config = model.to_json()\n",
    "    with open(os.path.join(model_path, 'config.json'), 'w') as json_file:\n",
    "        json_file.write(json_config)\n",
    "    # Save weights to disk\n",
    "    model.save_weights(os.path.join(model_path, 'weights.h5'))\n",
    "    \n",
    "    print(\"Model saved in directory {dir:s}; create an archive of this directory and submit with your assignment.\".format(dir=model_path))\n",
    "\n",
    "def loadModel(modelName):\n",
    "    model_path = modelPath(modelName)\n",
    "    \n",
    "    # Reload the model from the 2 files we saved\n",
    "    with open(os.path.join(model_path, 'config.json')) as json_file:\n",
    "        json_config = json_file.read()\n",
    "  \n",
    "    model = tf.keras.models.model_from_json(json_config)\n",
    "    model.compile(loss='categorical_crossentropy', metrics=['accuracy'])\n",
    "    model.load_weights(os.path.join(model_path, 'weights.h5'))\n",
    "    \n",
    "    return model\n",
    "\n",
    "def saveModelNonPortable(model, modelName): \n",
    "    model_path = modelPath(modelName)\n",
    "    \n",
    "    try:\n",
    "        os.makedirs(model_path)\n",
    "    except OSError:\n",
    "        print(\"Directory {dir:s} already exists, files will be over-written.\".format(dir=model_path))\n",
    "        \n",
    "    model.save( model_path )\n",
    "    \n",
    "    print(\"Model saved in directory {dir:s}; create an archive of this directory and submit with your assignment.\".format(dir=model_path))\n",
    " \n",
    "def loadModelNonPortable(modelName):\n",
    "    model_path = modelPath(modelName)\n",
    "    model = load_model( model_path )\n",
    "    \n",
    "    # Reload the model \n",
    "    return model\n",
    "\n",
    "def MyModel(test_dir, model_path):\n",
    "    # YOU MAY NOT change model after this statement !\n",
    "    model = loadModel(model_path)\n",
    "    \n",
    "    # It should run model to create an array of predictions; we initialize it to the empty array for convenience\n",
    "    predictions = []\n",
    "    \n",
    "    # We need to match your array of predictions with the examples you are predicting\n",
    "    # The array below (ids) should have a one-to-one correspondence and identify the example your are predicting\n",
    "    # For Bankruptcy: the Id column\n",
    "    # For Stock prediction: the date on which you are making a prediction\n",
    "    ids = []\n",
    "    \n",
    "    # YOUR CODE GOES HERE\n",
    "    \n",
    "    \n",
    "    return predictions, ids\n",
    "\n",
    "def json_to_numpy(json_file):\n",
    "  # Read the JSON file\n",
    "  f = open(json_file)\n",
    "  dataset = json.load(f)\n",
    "  f.close()\n",
    "\n",
    "  data = np.array(dataset['data']).astype('uint8')\n",
    "  labels = np.array(dataset['labels']).astype('uint8')\n",
    "\n",
    "  # Reshape the data\n",
    "  data = data.reshape([-1, 3, 80, 80]).transpose([0,2,3,1])\n",
    "\n",
    "  return data, labels\n",
    "\n",
    "\n",
    "\n",
    "\n",
    "from tensorflow.keras.callbacks import EarlyStopping, ModelCheckpoint\n",
    "modelName = \"Ships_in_satellite_images\"\n",
    "es_callback = tf.keras.callbacks.EarlyStopping(monitor='val_loss', min_delta=.01, patience=2, verbose=0, mode='auto', baseline=None, restore_best_weights=True)\n",
    "\n",
    "callbacks = [ es_callback,\n",
    "              ModelCheckpoint(filepath=modelName + \".ckpt\", monitor='accuracy', save_best_only=True)\n",
    "              ]   \n",
    "\n",
    "max_epochs = 30\n",
    "\n",
    "def train(model, X, y, model_name, epochs=max_epochs):\n",
    "  # Describe the model\n",
    "  model.summary()\n",
    "\n",
    "  # Compile the model\n",
    "  model.compile(loss='categorical_crossentropy', metrics=['accuracy'])\n",
    "\n",
    "  # Fix the validation set (for repeatability, not a great idea, in general)\n",
    "  X_train, X_valid, y_train, y_valid = train_test_split(X, y, test_size=0.20, random_state=42)\n",
    "  \n",
    "  print(\"Train set size: \", X_train.shape[0], \", Validation set size: \", X_valid.shape[0])\n",
    "\n",
    "  history = model.fit(X_train, y_train, epochs=max_epochs, validation_data=(X_valid, y_valid), callbacks=callbacks)\n",
    "  fig, axs = plotTrain(history, model_name)\n",
    "\n",
    "  return history, fig, axs\n",
    "\n",
    "def plotTrain(history, model_name=\"???\"):\n",
    "  fig, axs = plt.subplots( 1, 2, figsize=(12, 5) )\n",
    "\n",
    "  # Plot loss\n",
    "  axs[0].plot(history.history['loss'])\n",
    "  axs[0].plot(history.history['val_loss'])\n",
    "  axs[0].set_title(model_name + \" \" + 'model loss')\n",
    "  axs[0].set_ylabel('loss')\n",
    "  axs[0].set_xlabel('epoch')\n",
    "  axs[0].legend(['train', 'validation'], loc='upper left')\n",
    " \n",
    "  # Plot accuracy\n",
    "  axs[1].plot(history.history['accuracy'])\n",
    "  axs[1].plot(history.history['val_accuracy'])\n",
    "  axs[1].set_title(model_name + \" \" +'model accuracy')\n",
    "  axs[1].set_ylabel('accuracy')\n",
    "  axs[1].set_xlabel('epoch')\n",
    "  axs[1].legend(['train', 'validation'], loc='upper left')\n",
    "\n",
    "  return fig, axs\n"
   ]
  },
  {
   "cell_type": "markdown",
   "metadata": {
    "colab_type": "text",
    "id": "zXM8RB_emiT7",
    "nbgrader": {
     "grade": false,
     "grade_id": "cell-7639fd8a4dba9c46",
     "locked": true,
     "solution": false
    }
   },
   "source": [
    "## Get the data"
   ]
  },
  {
   "cell_type": "code",
   "execution_count": 5,
   "metadata": {
    "colab": {
     "base_uri": "https://localhost:8080/",
     "height": 68
    },
    "colab_type": "code",
    "id": "vuq8jcZzDPvv",
    "nbgrader": {
     "grade": false,
     "grade_id": "cell-396958ca7d144127",
     "locked": true,
     "solution": false
    },
    "outputId": "1c8086b2-3eed-4417-9155-ac74ef5ed597"
   },
   "outputs": [
    {
     "name": "stdout",
     "output_type": "stream",
     "text": [
      "Date shape:  (4000, 80, 80, 3)\n",
      "Labels shape:  (4000,)\n",
      "Label values:  [0 1]\n"
     ]
    }
   ],
   "source": [
    "# Get the data\n",
    "data, labels = getData()\n",
    "print(\"Date shape: \", data.shape)\n",
    "print(\"Labels shape: \", labels.shape)\n",
    "print(\"Label values: \", np.unique(labels))"
   ]
  },
  {
   "cell_type": "code",
   "execution_count": 6,
   "metadata": {
    "colab": {},
    "colab_type": "code",
    "collapsed": true,
    "id": "jLyx2K-xBBvr",
    "nbgrader": {
     "grade": false,
     "grade_id": "cell-9f1f107cbcd456da",
     "locked": true,
     "solution": false
    }
   },
   "outputs": [],
   "source": [
    "# Shuffle the data\n",
    "data, labels = sklearn.utils.shuffle(data, labels, random_state=42)"
   ]
  },
  {
   "cell_type": "code",
   "execution_count": null,
   "metadata": {
    "colab": {
     "base_uri": "https://localhost:8080/",
     "height": 1000
    },
    "colab_type": "code",
    "collapsed": true,
    "id": "0zuY0AOl_K1R",
    "nbgrader": {
     "grade": false,
     "grade_id": "cell-90cee4495de96935",
     "locked": true,
     "solution": false
    },
    "outputId": "8e2ff048-a6b6-4919-e40d-8381aee59af7"
   },
   "outputs": [],
   "source": [
    "showData(data[:25], labels[:25])"
   ]
  },
  {
   "cell_type": "markdown",
   "metadata": {
    "colab_type": "text",
    "id": "6uCIcmcDmlkw",
    "nbgrader": {
     "grade": false,
     "grade_id": "cell-cdda65487ad48f16",
     "locked": true,
     "solution": false
    }
   },
   "source": [
    "## Examine the image/label pairs"
   ]
  },
  {
   "cell_type": "code",
   "execution_count": null,
   "metadata": {
    "colab": {
     "base_uri": "https://localhost:8080/",
     "height": 1000
    },
    "colab_type": "code",
    "collapsed": true,
    "id": "2k9YAbAZDbqE",
    "nbgrader": {
     "grade": false,
     "grade_id": "cell-4f5e0d3c18f2d4b8",
     "locked": true,
     "solution": false
    },
    "outputId": "c24286e7-6991-4b78-9716-bad69e27ccfd"
   },
   "outputs": [],
   "source": [
    "# Inspect some data (images)\n",
    "num_each_label = 10\n",
    "\n",
    "for lab in np.unique(labels):\n",
    "  X_lab, y_lab = data[ labels == lab ], labels[ labels == lab]\n",
    "  fig = showData( X_lab[:num_each_label], [ str(label) for label in y_lab[:num_each_label] ])\n",
    "  fig.suptitle(\"Label: \"+  str(lab), fontsize=14)\n",
    "  fig.show()\n",
    "  print(\"\\n\\n\")\n"
   ]
  },
  {
   "cell_type": "markdown",
   "metadata": {
    "colab_type": "text",
    "id": "i_418VKqmvwy",
    "nbgrader": {
     "grade": false,
     "grade_id": "cell-34eb095f07300d27",
     "locked": true,
     "solution": false
    }
   },
   "source": [
    "# Make sure the features are in the range [0,1]  \n",
    "\n",
    "**Question:** When we want to train image data, the first thing we usually need to do is scaling. Since the feature values in our image data are between 0 and 255, to make them between 0 and 1, we need to divide them by 255. In addition, we usually use one-hot encoding to deal with our lables. In this question, please scale your input data and encode your labels. The methods you may use are:\n",
    "- `to_categorical()`, which is in `tensorflow.keras.utils` "
   ]
  },
  {
   "cell_type": "code",
   "execution_count": 7,
   "metadata": {
    "colab": {},
    "colab_type": "code",
    "collapsed": true,
    "id": "EBJaZ3qyDq65",
    "nbgrader": {
     "grade": false,
     "grade_id": "Scale_the_data",
     "locked": false,
     "schema_version": 3,
     "solution": true,
     "task": false
    }
   },
   "outputs": [],
   "source": [
    "# Scale the data\n",
    "# Assign values for X, y\n",
    "#  X: the array of features\n",
    "#  y: the array of labels\n",
    "# The length of X and y should be identical and equal to the length of data.\n",
    "X, y = np.array([]), np.array([])\n",
    "\n",
    "### BEGIN SOLUTION\n",
    "X = data / 255.\n",
    "y = to_categorical(labels, 2)\n",
    "### END SOLUTION"
   ]
  },
  {
   "cell_type": "code",
   "execution_count": 8,
   "metadata": {
    "nbgrader": {
     "grade": false,
     "grade_id": "cell-a80cad4b10d52d33",
     "locked": true,
     "solution": false
    }
   },
   "outputs": [
    {
     "name": "stdout",
     "output_type": "stream",
     "text": [
      "X shape:  (4000, 80, 80, 3)\n",
      "y.shape:  (4000, 2)\n"
     ]
    }
   ],
   "source": [
    "print('X shape: ', str(X.shape))\n",
    "print('y.shape: ', str(y.shape))"
   ]
  },
  {
   "cell_type": "code",
   "execution_count": 9,
   "metadata": {
    "collapsed": true,
    "nbgrader": {
     "grade": true,
     "grade_id": "Scale_data_test",
     "locked": true,
     "points": 10,
     "schema_version": 3,
     "solution": false,
     "task": false
    }
   },
   "outputs": [],
   "source": [
    "\n",
    "def scale_data(data, labels):\n",
    "  # Scale the data\n",
    "  X = data/255.\n",
    "\n",
    "  # Make target categorical\n",
    "  y = to_categorical(labels, num_classes=2)\n",
    "\n",
    "  return X, y\n",
    "\n",
    "X_, y_ = scale_data(data, labels) \n",
    "assert np.allclose(X_, X, atol=1e6)\n",
    "assert y.shape == y_.shape\n"
   ]
  },
  {
   "cell_type": "markdown",
   "metadata": {
    "colab_type": "text",
    "id": "aHnlcZ4WNN1T",
    "nbgrader": {
     "grade": false,
     "grade_id": "cell-96db16f7139d0dc5",
     "locked": true,
     "solution": false
    }
   },
   "source": [
    "**DO NOT** shuffle the data until after we have performed the split into train/test sets\n",
    "- We want everyone to have the **identical** test set for grading\n",
    "- Do not change this cell\n"
   ]
  },
  {
   "cell_type": "code",
   "execution_count": 10,
   "metadata": {
    "colab": {},
    "colab_type": "code",
    "collapsed": true,
    "id": "OhmoI5erNf7I",
    "nbgrader": {
     "grade": false,
     "grade_id": "cell-833fa27d89a1170e",
     "locked": true,
     "solution": false
    }
   },
   "outputs": [],
   "source": [
    "from sklearn.model_selection import train_test_split\n",
    "X_train, X_test, y_train, y_test = train_test_split(X, y, test_size=0.10, random_state=42)"
   ]
  },
  {
   "cell_type": "markdown",
   "metadata": {
    "colab_type": "text",
    "id": "7JTJltPLJYp3",
    "nbgrader": {
     "grade": false,
     "grade_id": "cell-c3845037b6f7611c",
     "locked": true,
     "solution": false
    }
   },
   "source": [
    "# Create a model using only Classification, no data transformation (other than reshaping)\n",
    "\n",
    "**Question:** You need to build a 1-layer (only head layer) network model with `tensorflow.keras` right now. Please name the first `Dense` layer \"dense_1\".  \n",
    "Hints:\n",
    "1. Since the dataset is 3-dimensional, you may want to use `Flatten()` in `tensorflow.keras.layers` to make your input data 1 dimension. The input shape of `Flatten()` layer should be the shape of a single sample\n",
    "2. The units in your dense layer should be the same as the number of unique lables. Since this is a classification problem, you may want to use the `sigmoid` (for binary problem) or `softmax` (for multiclass problem) function as your head function\n"
   ]
  },
  {
   "cell_type": "code",
   "execution_count": 11,
   "metadata": {
    "colab": {
     "base_uri": "https://localhost:8080/",
     "height": 775
    },
    "colab_type": "code",
    "id": "wFF00mA7PUYD",
    "nbgrader": {
     "grade": false,
     "grade_id": "build_model_0",
     "locked": false,
     "schema_version": 3,
     "solution": true,
     "task": false
    },
    "outputId": "56c302a5-efba-4c2e-bb3e-08f58c6e4dd9"
   },
   "outputs": [
    {
     "name": "stdout",
     "output_type": "stream",
     "text": [
      "Model: \"sequential\"\n",
      "_________________________________________________________________\n",
      "Layer (type)                 Output Shape              Param #   \n",
      "=================================================================\n",
      "flatten (Flatten)            (None, 19200)             0         \n",
      "_________________________________________________________________\n",
      "dense_1 (Dense)              (None, 2)                 38402     \n",
      "=================================================================\n",
      "Total params: 38,402\n",
      "Trainable params: 38,402\n",
      "Non-trainable params: 0\n",
      "_________________________________________________________________\n"
     ]
    }
   ],
   "source": [
    "num_cases = np.unique(labels).shape[0]\n",
    "\n",
    "# Set model0 equal to a Keras Sequential model\n",
    "model0 = None\n",
    "\n",
    "### BEGIN SOLUTION\n",
    "from tensorflow.keras.models import Sequential\n",
    "from tensorflow.keras.layers import Flatten, Dense\n",
    "\n",
    "model0 = Sequential()\n",
    "model0.add(Flatten(input_shape=(X.shape[1:])))\n",
    "model0.add(Dense(num_cases, activation='softmax', name='dense_1'))\n",
    "### END SOLUTION\n",
    "\n",
    "model0.summary()"
   ]
  },
  {
   "cell_type": "code",
   "execution_count": 12,
   "metadata": {},
   "outputs": [
    {
     "data": {
      "image/png": "[encoded data removed]",
      "text/plain": [
       "<IPython.core.display.Image object>"
      ]
     },
     "execution_count": 12,
     "metadata": {},
     "output_type": "execute_result"
    }
   ],
   "source": [
    "# We can plot our model here using plot_model()\n",
    "plot_model(model0)"
   ]
  },
  {
   "cell_type": "code",
   "execution_count": 15,
   "metadata": {
    "collapsed": true,
    "nbgrader": {
     "grade": true,
     "grade_id": "build_model_0_test",
     "locked": true,
     "points": 20,
     "schema_version": 3,
     "solution": false,
     "task": false
    }
   },
   "outputs": [],
   "source": [
    "\n",
    "assert len(model0.layers) <= 3\n",
    "\n",
    "n_samples, width, height, channel = data.shape\n",
    "dense_layer = model0.get_layer(name='dense_1')\n",
    "# Dense layer tests\n",
    "assert dense_layer.input.shape[1:] == tf.TensorShape([width * height * channel])\n",
    "assert dense_layer.output.shape[1:] == tf.TensorShape([num_cases])"
   ]
  },
  {
   "cell_type": "markdown",
   "metadata": {
    "nbgrader": {
     "grade": false,
     "grade_id": "cell-30b12281f8b3ff4b",
     "locked": true,
     "solution": false
    }
   },
   "source": [
    "## Train model\n",
    "\n",
    "**Question:** Now that you have built your first model, next you will compile and train your model. The requirements are as follows:\n",
    "- Split your dataset `X_train` into 0.8 training data and 0.2 validation data. Set the `random_state` to be 42. You can use `train_test_split()`\n",
    "- Loss function: cross entropy; Metric: accuracy\n",
    "- Training epochs is 10\n",
    "- Save your training results in a variable named `history`\n",
    "- Plot your training results using API `plotTrain()`\n"
   ]
  },
  {
   "cell_type": "code",
   "execution_count": null,
   "metadata": {
    "collapsed": true,
    "nbgrader": {
     "grade": false,
     "grade_id": "train_model_0",
     "locked": false,
     "schema_version": 3,
     "solution": true,
     "task": false
    }
   },
   "outputs": [],
   "source": [
    "model_name = \"Head only\"\n",
    "\n",
    "### BEGIN SOLUTION\n",
    "X_train_, X_val_, y_train_, y_val_ = train_test_split(X_train, y_train, test_size=0.2, random_state=42)\n",
    "model0.compile(loss='categorical_crossentropy', metrics=['accuracy'])\n",
    "history = model0.fit(X_train_, y_train_, epochs=15, validation_data=(X_val_, y_val_))\n",
    "fig, axs = plotTrain(history, model_name)\n",
    "### END SOLUTION"
   ]
  },
  {
   "cell_type": "code",
   "execution_count": null,
   "metadata": {
    "collapsed": true,
    "nbgrader": {
     "grade": true,
     "grade_id": "train_model_0_test",
     "locked": true,
     "points": 10,
     "solution": false
    }
   },
   "outputs": [],
   "source": [
    "### BEGIN HIDDEN TESTS\n",
    "assert history.history['accuracy'][-1] > 0.7\n",
    "assert history.history['val_accuracy'][-1] > 0.7\n",
    "### END HIDDEN TESTS"
   ]
  },
  {
   "cell_type": "markdown",
   "metadata": {
    "nbgrader": {
     "grade": false,
     "grade_id": "cell-8e5df9f78e7bd5f3",
     "locked": true,
     "solution": false
    }
   },
   "source": [
    "**Expected outputs (there may be some differences because we only have one layer and the model structure may be a little different):**  \n",
    "<table> \n",
    "    <tr> \n",
    "        <td>  \n",
    "            Training accuracy\n",
    "        </td>\n",
    "        <td>\n",
    "         0.7965\n",
    "        </td>\n",
    "    </tr>\n",
    "    <tr> \n",
    "        <td>\n",
    "            Validation accuracy\n",
    "        </td>\n",
    "        <td>\n",
    "         0.8319\n",
    "        </td>\n",
    "    </tr>\n",
    "\n",
    "</table>\n",
    "\n",
    "We can see that the accuracy curve in the graph above seems going up and down, which means our model may have a underfitting problem."
   ]
  },
  {
   "cell_type": "markdown",
   "metadata": {
    "colab_type": "text",
    "id": "BHsceFTbpnvr",
    "nbgrader": {
     "grade": false,
     "grade_id": "cell-e1886c4e415f795e",
     "locked": true,
     "solution": false
    }
   },
   "source": [
    "## How many weights in the model ?\n",
    "\n",
    "**Question:** Calculate the number of parameters in your model.  \n",
    "Hint: You can use model's method `count_param()`\n"
   ]
  },
  {
   "cell_type": "code",
   "execution_count": null,
   "metadata": {
    "colab": {},
    "colab_type": "code",
    "collapsed": true,
    "id": "dgDetvgupt58",
    "nbgrader": {
     "grade": false,
     "grade_id": "num_of_parameters",
     "locked": false,
     "schema_version": 3,
     "solution": true,
     "task": false
    }
   },
   "outputs": [],
   "source": [
    "# Set num_parameters0 equal to the number of weights in the model\n",
    "num_parameters0 = None\n",
    "\n",
    "### BEGIN SOLUTION\n",
    "num_parameters0 = model0.count_params()\n",
    "### END SOLUTION\n",
    "\n",
    "print(\"Parameters number in model0: \", num_parameters0)"
   ]
  },
  {
   "cell_type": "code",
   "execution_count": null,
   "metadata": {
    "collapsed": true,
    "nbgrader": {
     "grade": true,
     "grade_id": "number_of_parameters_1_test",
     "locked": true,
     "points": 5,
     "schema_version": 3,
     "solution": false,
     "task": false
    }
   },
   "outputs": [],
   "source": [
    "### BEGIN HIDDEN TESTS\n",
    "assert num_parameters0 == (width * height * channel * num_cases + num_cases)\n",
    "### END HIDDEN TESTS"
   ]
  },
  {
   "cell_type": "markdown",
   "metadata": {
    "colab_type": "text",
    "id": "3hR7QB27Jhx8",
    "nbgrader": {
     "grade": false,
     "grade_id": "cell-89fa3731299113d7",
     "locked": true,
     "solution": false
    }
   },
   "source": [
    "## Evaluate the model\n",
    "\n",
    "**Question:** We have trained our model, then what we need to do next is to evaluate the model using test dataset. Please store the model score in a variable named `score`.   \n",
    "Hint: The function we should use is `evaluate()`. "
   ]
  },
  {
   "cell_type": "code",
   "execution_count": null,
   "metadata": {
    "colab": {
     "base_uri": "https://localhost:8080/",
     "height": 35
    },
    "colab_type": "code",
    "collapsed": true,
    "id": "_y1rTpduJhkE",
    "nbgrader": {
     "grade": false,
     "grade_id": "evaluate_model_0",
     "locked": false,
     "schema_version": 3,
     "solution": true,
     "task": false
    },
    "outputId": "8e8c0c99-2c80-4ec3-bab9-e08de97c3807"
   },
   "outputs": [],
   "source": [
    "### BEGIN SOLUTION\n",
    "score = model0.evaluate(X_test, y_test, verbose=0)\n",
    "### END SOLUTION\n",
    "\n",
    "print(\"{n:s}: Test loss: {l:3.2f} / Test accuracy: {a:3.2f}\".format(n=model_name, l=score[0], a=score[1]))"
   ]
  },
  {
   "cell_type": "code",
   "execution_count": null,
   "metadata": {
    "collapsed": true,
    "nbgrader": {
     "grade": true,
     "grade_id": "evaluate_model_0_test",
     "locked": true,
     "points": 5,
     "solution": false
    }
   },
   "outputs": [],
   "source": [
    "### BEGIN HIDDEN TESTS\n",
    "assert score[1] > 0.6\n",
    "### END HIDDEN TESTS"
   ]
  },
  {
   "cell_type": "markdown",
   "metadata": {
    "colab_type": "text",
    "id": "pNkyZ8VRd-d3",
    "nbgrader": {
     "grade": false,
     "grade_id": "cell-6aed77f4dd85c016",
     "locked": true,
     "solution": false
    }
   },
   "source": [
    "## Save the trained model so we don't need to run training in order to run correctness tests"
   ]
  },
  {
   "cell_type": "code",
   "execution_count": null,
   "metadata": {
    "colab": {
     "base_uri": "https://localhost:8080/",
     "height": 51
    },
    "colab_type": "code",
    "collapsed": true,
    "id": "OesE2_-gd-d4",
    "nbgrader": {
     "grade": false,
     "grade_id": "cell-c9cde4b2b69397c4",
     "locked": true,
     "solution": false
    },
    "outputId": "c4cf36e4-00bc-4d73-8aa2-7cae8724f4a8",
    "scrolled": false
   },
   "outputs": [],
   "source": [
    "saveModel(model0, model_name)"
   ]
  },
  {
   "cell_type": "code",
   "execution_count": null,
   "metadata": {
    "colab": {
     "base_uri": "https://localhost:8080/",
     "height": 51
    },
    "colab_type": "code",
    "collapsed": true,
    "id": "VzGLEbz5oRn1",
    "nbgrader": {
     "grade": false,
     "grade_id": "cell-71a7c95a78e1879f",
     "locked": true,
     "solution": false
    },
    "outputId": "e8802c53-38b8-4fe5-9b77-be8542f721cf",
    "scrolled": false
   },
   "outputs": [],
   "source": [
    "saveModelNonPortable(model0, model_name)"
   ]
  },
  {
   "cell_type": "code",
   "execution_count": null,
   "metadata": {
    "colab": {},
    "colab_type": "code",
    "collapsed": true,
    "id": "A_E8q6JBd-d7",
    "nbgrader": {
     "grade": false,
     "grade_id": "cell-0b6e3b1e0ad21422",
     "locked": true,
     "solution": false
    }
   },
   "outputs": [],
   "source": [
    "## Restore the model (make sure that it works)\n",
    "model0 = loadModel(model_name)\n",
    "score = model0.evaluate(X_test, y_test, verbose=0)\n",
    "print(\"RESTORED {n:s}: Test loss: {l:3.2f} / Test accuracy: {a:3.2f}\".format(n=model_name, l=score[0], a=score[1]))\n"
   ]
  },
  {
   "cell_type": "code",
   "execution_count": null,
   "metadata": {
    "colab": {
     "base_uri": "https://localhost:8080/",
     "height": 34
    },
    "colab_type": "code",
    "collapsed": true,
    "id": "mabYGB-aoD28",
    "nbgrader": {
     "grade": false,
     "grade_id": "cell-3c4229e27f928b5b",
     "locked": true,
     "solution": false
    },
    "outputId": "f05bf6f2-8521-4e3b-c297-c36eefc8f881"
   },
   "outputs": [],
   "source": [
    "try:\n",
    "    modelt = loadModelNonPortable(model_name)\n",
    "    score = modelt.evaluate(X_test, y_test, verbose=0)\n",
    "    print(\"RESTORED NP {n:s}: Test loss: {l:3.2f} / Test accuracy: {a:3.2f}\".format(n=model_name, l=score[0], a=score[1]))\n",
    "except:\n",
    "    print(\"Can't restore non-portable format\")\n"
   ]
  },
  {
   "cell_type": "markdown",
   "metadata": {
    "colab_type": "text",
    "id": "JXX-_3_SKsla",
    "nbgrader": {
     "grade": false,
     "grade_id": "cell-67c1b5674378d4f6",
     "locked": true,
     "solution": false
    }
   },
   "source": [
    "# Create a new model with a Dense layer providing 512 features, a Dense layer providing 128 features, plus the Classification head\n",
    "\n",
    "**Question:** At this time, we will add more layers to the original model0. You need to add two Dense layers followed by a ReLU activations. The first Dense layer has 512 units and the second one has 128 units. Please name the first Dense layer \"dense_1\", the second Dense layer \"dense_2\" and the third Dense layer (head layer) \"dense_3\". A Dropout layer maybe helpful to prevent overfitting and acceralate your training process. If you want to use a Dropout layer, you may use `Dropout()`, which is in  `tensorflow.keras.layers`"
   ]
  },
  {
   "cell_type": "code",
   "execution_count": null,
   "metadata": {
    "colab": {},
    "colab_type": "code",
    "collapsed": true,
    "id": "1Ga3U-syPaCz",
    "nbgrader": {
     "grade": false,
     "grade_id": "build_model_1",
     "locked": false,
     "schema_version": 3,
     "solution": true,
     "task": false
    }
   },
   "outputs": [],
   "source": [
    "# Set model1 equal to a Keras Sequential model\n",
    "model1 = None\n",
    "num_features_1 = 512\n",
    "num_features_2 = 128\n",
    "\n",
    "### BEGIN SOLUTION\n",
    "from tensorflow.keras.layers import Dropout\n",
    "\n",
    "model1 = Sequential()\n",
    "model1.add(Flatten(input_shape=(X.shape[1:])))\n",
    "model1.add(Dense(num_features_1, activation='relu', name='dense_1'))\n",
    "model1.add(Dropout(0.2))\n",
    "model1.add(Dense(num_features_2, activation='relu', name='dense_2'))\n",
    "model1.add(Dropout(0.5))\n",
    "model1.add(Dense(num_cases, activation='softmax', name='dense_3'))\n",
    "### END SOLUTION\n",
    "\n",
    "model1.summary()"
   ]
  },
  {
   "cell_type": "code",
   "execution_count": null,
   "metadata": {
    "collapsed": true
   },
   "outputs": [],
   "source": [
    "# Plot your model\n",
    "plot_model(model1)"
   ]
  },
  {
   "cell_type": "code",
   "execution_count": null,
   "metadata": {
    "collapsed": true,
    "nbgrader": {
     "grade": true,
     "grade_id": "builid_model_1_test",
     "locked": true,
     "points": 20,
     "schema_version": 3,
     "solution": false,
     "task": false
    }
   },
   "outputs": [],
   "source": [
    "### BEGIN HIDDEN TESTS\n",
    "dense_1 = model1.get_layer(name='dense_1')\n",
    "dense_2 = model1.get_layer(name='dense_2')\n",
    "dense_3 = model1.get_layer(name='dense_3')\n",
    "\n",
    "# Dense 1\n",
    "assert dense_1.input.shape[1:] == tf.TensorShape([width * height * channel])\n",
    "assert dense_1.output.shape[1:] == tf.TensorShape([num_features_1])\n",
    "\n",
    "# Dense 2\n",
    "assert dense_2.input.shape[1:] == tf.TensorShape([num_features_1])\n",
    "assert dense_2.output.shape[1:] == tf.TensorShape([num_features_2])\n",
    "\n",
    "# Dense 3\n",
    "assert dense_3.input.shape[1:] == tf.TensorShape([num_features_2])\n",
    "assert dense_3.output.shape[1:] == tf.TensorShape([num_cases])\n",
    "\n",
    "### END HIDDEN TESTS"
   ]
  },
  {
   "cell_type": "markdown",
   "metadata": {
    "nbgrader": {
     "grade": false,
     "grade_id": "cell-ad82889fc971e9fd",
     "locked": true,
     "solution": false
    }
   },
   "source": [
    "## Train new model\n",
    "\n",
    "**Question:** Now that you have built your new model1, next you will compile and train your model1. The requirements are as follows:\n",
    "- Loss function: cross entropy; Metric: accuracy\n",
    "- Training epochs is 10\n",
    "- Save your training results into a variable named `history1`\n",
    "- Plot your training results using API `plotTrain()`"
   ]
  },
  {
   "cell_type": "code",
   "execution_count": null,
   "metadata": {
    "collapsed": true,
    "nbgrader": {
     "grade": false,
     "grade_id": "train_model_1",
     "locked": false,
     "schema_version": 3,
     "solution": true,
     "task": false
    }
   },
   "outputs": [],
   "source": [
    "# Train the model using the API\n",
    "model_name = \"Dense + Head\"\n",
    "\n",
    "### BEGIN SOLUTION\n",
    "model1.compile(loss='categorical_crossentropy', metrics=['accuracy'])\n",
    "history1 = model1.fit(X_train_, y_train_, epochs=15, validation_data=(X_val_, y_val_))\n",
    "fig, axs = plotTrain(history1, model_name)\n",
    "### END SOLUTION"
   ]
  },
  {
   "cell_type": "markdown",
   "metadata": {
    "nbgrader": {
     "grade": false,
     "grade_id": "cell-dfb5e7fe9f7e0f9e",
     "locked": true,
     "solution": false
    }
   },
   "source": [
    "**Expected outputs (there may be some differences because we only have one layer):**  \n",
    "<table> \n",
    "    <tr> \n",
    "        <td>  \n",
    "            Training accuracy\n",
    "        </td>\n",
    "        <td>\n",
    "         0.8625\n",
    "        </td>\n",
    "    </tr>\n",
    "    <tr> \n",
    "        <td>\n",
    "            Validation accuracy\n",
    "        </td>\n",
    "        <td>\n",
    "         0.8847\n",
    "        </td>  \n",
    "    </tr>\n",
    "</table>\n",
    "\n",
    "The loss and accuracy graphs of model1 are similiar to this:\n",
    "<img src=\"../resource/asnlib/publicdata/ships_in_satellite_images/images/model1_loss_accuracy.png\" style=\"width:600px;height:300px;\">\n",
    "\n",
    "We can see that the loss curve has a trend to decrease and the accuracy curve has a trend to increase, which means our new model is learning! What's more, the training accuracy and validation accuracy are both better than the first model. "
   ]
  },
  {
   "cell_type": "code",
   "execution_count": null,
   "metadata": {
    "collapsed": true,
    "nbgrader": {
     "grade": true,
     "grade_id": "train_model_1_test",
     "locked": true,
     "points": 10,
     "solution": false
    }
   },
   "outputs": [],
   "source": [
    "### BEGIN HIDDEN TESTS\n",
    "assert history1.history['accuracy'][-1] > history.history['accuracy'][-1]\n",
    "assert history1.history['val_accuracy'][-1] > history.history['val_accuracy'][-1]\n",
    "### END HIDDEN TESTS"
   ]
  },
  {
   "cell_type": "markdown",
   "metadata": {
    "colab_type": "text",
    "id": "XzU2xKWcsEAo",
    "nbgrader": {
     "grade": false,
     "grade_id": "cell-a048e8f185c7dafe",
     "locked": true,
     "solution": false
    }
   },
   "source": [
    "## How many weights in this model ?\n",
    "\n",
    "**Question:** Calculate the number of parameters in your new model.  \n",
    "Hint: You can use model's method `count_param()`"
   ]
  },
  {
   "cell_type": "code",
   "execution_count": null,
   "metadata": {
    "colab": {},
    "colab_type": "code",
    "collapsed": true,
    "id": "gXs0EZZVsHqB",
    "nbgrader": {
     "grade": false,
     "grade_id": "num_parameters_model_1",
     "locked": false,
     "schema_version": 3,
     "solution": true,
     "task": false
    }
   },
   "outputs": [],
   "source": [
    "# Set num_parameters1 equal to the number of weights in the model\n",
    "num_parameters1 = None\n",
    "\n",
    "### BEGIN SOLUTION\n",
    "num_parameters1 = model1.count_params()\n",
    "### END SOLUTION\n",
    "\n",
    "print('Parameters number in model1:', num_parameters1)"
   ]
  },
  {
   "cell_type": "code",
   "execution_count": null,
   "metadata": {
    "collapsed": true,
    "nbgrader": {
     "grade": true,
     "grade_id": "num_parameters_model_1_test",
     "locked": true,
     "points": 5,
     "schema_version": 3,
     "solution": false,
     "task": false
    }
   },
   "outputs": [],
   "source": [
    "### BEGIN HIDDEN TESTS\n",
    "num_new_parameters = (width * height * channel + 1) * num_features_1 + (num_features_1 + 1) * num_features_2 + (num_features_2 + 1) * num_cases\n",
    "assert num_parameters1 == num_new_parameters\n",
    "### END HIDDEN TESTS"
   ]
  },
  {
   "cell_type": "markdown",
   "metadata": {
    "colab_type": "text",
    "id": "gfBjJLU7J7L4",
    "nbgrader": {
     "grade": false,
     "grade_id": "cell-848f6eee66efac66",
     "locked": true,
     "solution": false
    }
   },
   "source": [
    "## Evaluate the model\n",
    "\n",
    "**Question:** We have trained our new model, then what we need to do next is to evaluate the new model using test dataset. Please store the model score in a variable named `score1`.   \n",
    "Hint: The function we should use is `evaluate()`. "
   ]
  },
  {
   "cell_type": "code",
   "execution_count": null,
   "metadata": {
    "colab": {},
    "colab_type": "code",
    "collapsed": true,
    "id": "A5wFSFvwJ68n",
    "nbgrader": {
     "grade": false,
     "grade_id": "evaluate_model_1",
     "locked": false,
     "schema_version": 3,
     "solution": true,
     "task": false
    }
   },
   "outputs": [],
   "source": [
    "### BEGIN SOLUTION\n",
    "score1 = model1.evaluate(X_test, y_test, verbose=0)\n",
    "### END SOLUTION\n",
    "\n",
    "print(\"{n:s}: Test loss: {l:3.2f} / Test accuracy: {a:3.2f}\".format(n=model_name, l=score1[0], a=score1[1]))"
   ]
  },
  {
   "cell_type": "markdown",
   "metadata": {},
   "source": [
    "Your new test score should be better than the score of your first model."
   ]
  },
  {
   "cell_type": "code",
   "execution_count": null,
   "metadata": {
    "collapsed": true,
    "nbgrader": {
     "grade": true,
     "grade_id": "evaluate_model_1_test",
     "locked": true,
     "points": 5,
     "solution": false
    }
   },
   "outputs": [],
   "source": [
    "### BEGIN HIDDEN TESTS\n",
    "assert score1[1] > score[1]\n",
    "### END HIDDEN TESTS"
   ]
  },
  {
   "cell_type": "markdown",
   "metadata": {
    "collapsed": true,
    "nbgrader": {
     "grade": false,
     "grade_id": "cell-4a0132560885e887",
     "locked": true,
     "solution": false
    }
   },
   "source": [
    "## Your own model (Optional)\n",
    "Now you can build your own model using what you have learned from the course. The things you can try are:\n",
    "- Add `Dropout()` layer and change the parameter \n",
    "- Add `BatchNormalization()` layer\n",
    "- Change the activation function\n",
    "- Change the classifier\n",
    "- Change the features of `Dense()` layers  \n",
    "- ...\n",
    "\n",
    "Try to see how your model will change!"
   ]
  },
  {
   "cell_type": "code",
   "execution_count": null,
   "metadata": {
    "collapsed": true
   },
   "outputs": [],
   "source": []
  }
 ],
 "metadata": {
  "accelerator": "GPU",
  "celltoolbar": "Create Assignment",
  "colab": {
   "collapsed_sections": [],
   "name": "Ships_in_satellite_images.ipynb",
   "provenance": [],
   "toc_visible": true
  },
  "kernelspec": {
   "display_name": "Python 3",
   "language": "python",
   "name": "python3"
  },
  "language_info": {
   "codemirror_mode": {
    "name": "ipython",
    "version": 3
   },
   "file_extension": ".py",
   "mimetype": "text/x-python",
   "name": "python",
   "nbconvert_exporter": "python",
   "pygments_lexer": "ipython3",
   "version": "3.7.4"
  },
  "toc": {
   "base_numbering": 1,
   "nav_menu": {},
   "number_sections": true,
   "sideBar": true,
   "skip_h1_title": false,
   "title_cell": "Table of Contents",
   "title_sidebar": "Contents",
   "toc_cell": false,
   "toc_position": {},
   "toc_section_display": true,
   "toc_window_display": false
  }
 },
 "nbformat": 4,
 "nbformat_minor": 1
}

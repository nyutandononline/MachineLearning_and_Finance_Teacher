{
 "cells": [
  {
   "cell_type": "markdown",
   "metadata": {
    "colab_type": "text",
    "deletable": false,
    "editable": false,
    "id": "6N2CBGINh8Pv",
    "nbgrader": {
     "grade": false,
     "grade_id": "cell-676c35bc6b556a3f",
     "locked": true,
     "solution": false
    }
   },
   "source": [
    "# Problem description\n",
    "\n",
    "To a large degree, financial data has traditionally been numeric in format.\n",
    "\n",
    "But in recent years, non-numeric formats like image, text and audio have been introduced.  \n",
    "\n",
    "Private companies have satellites orbiting the Earth taking photos and offering them to customers.  A financial analyst might be able to extract information from these photos that could aid in the prediction of the future price of a stock\n",
    "\n",
    "- Approximate number of customers visiting each store: count number of cars in parking lot\n",
    "- Approximate activity in a factory by counting number of supplier trucks arriving and number of delivery trucks leaving\n",
    "- Approximate demand for a commodity at each location: count cargo ships travelling between ports\n",
    "\n",
    "In this assignment, we will attempt to recognize ships in satellite photos.\n",
    "This would be a first step toward\n",
    "counting.\n",
    "\n",
    "As in any other domain: specific knowledge of the problem area will make you a better analyst.\n",
    "For this assignment, we will ignore domain-specific information and just try to use a labelled training set (photo plus a binary indicator for whether a ship is present/absent in the photo), assuming that the labels are perfect.\n",
    "\n",
    "n.b., it appears that a photo is labelled as having a ship present only if the ship is in the center of the photo.  Perhaps this prevents us from double-counting.\n"
   ]
  },
  {
   "cell_type": "markdown",
   "metadata": {
    "colab_type": "text",
    "deletable": false,
    "editable": false,
    "id": "CeLXwiRUkM7E",
    "nbgrader": {
     "grade": false,
     "grade_id": "cell-5ff288e9be848393",
     "locked": true,
     "solution": false
    }
   },
   "source": [
    "## Goal: problem set 1\n",
    "\n",
    "You will need to create Sequential models in Keras to classify satellite photos.\n",
    "- The features are images: 3 dimensional collection of pixels\n",
    "  - 2 spatial dimensions\n",
    "  - 1 dimension with 3 features for different parts of the color spectrum: Red, Green, Blue\n",
    "- The labels are either 1 (ship is present) or 0 (ship is not present)\n",
    "\n",
    "You will create several models, of increasing complexity\n",
    "- A model that implements only a Classification Head (no transformations other than perhaps rearranging the image)\n",
    "- A model that adds a Dense layer before the head\n",
    "- (Later assignment) A model that adds Convolutional layers before the Head"
   ]
  },
  {
   "cell_type": "markdown",
   "metadata": {
    "colab_type": "text",
    "deletable": false,
    "editable": false,
    "id": "0EI8sBAa9-u0",
    "nbgrader": {
     "grade": false,
     "grade_id": "cell-31ae9b2e47dc82cf",
     "locked": true,
     "solution": false
    }
   },
   "source": [
    "## Learning objectives\n",
    "- Learn how to construct Neural Networks using Keras Sequential model\n",
    "- Appreciate how layer choices impact number of weights"
   ]
  },
  {
   "cell_type": "markdown",
   "metadata": {
    "colab_type": "text",
    "deletable": false,
    "editable": false,
    "id": "Amjo4KRP-O5Z",
    "nbgrader": {
     "grade": false,
     "grade_id": "cell-67b23980ff3ccda2",
     "locked": true,
     "solution": false
    }
   },
   "source": [
    "# This section is for instructor only: Colab used only to create data set"
   ]
  },
  {
   "cell_type": "code",
   "execution_count": null,
   "metadata": {
    "colab": {
     "base_uri": "https://localhost:8080/",
     "height": 34
    },
    "colab_type": "code",
    "collapsed": true,
    "deletable": false,
    "editable": false,
    "id": "wn9g4XFfFA9j",
    "outputId": "56c827fd-a2e9-490b-fa53-6b42ef667303"
   },
   "outputs": [],
   "source": [
    "try:\n",
    "  from google.colab import drive\n",
    "  IN_COLAB=True\n",
    "except:\n",
    "  IN_COLAB=False\n",
    "\n",
    "if IN_COLAB:\n",
    "  print(\"We're running Colab\")"
   ]
  },
  {
   "cell_type": "code",
   "execution_count": null,
   "metadata": {
    "colab": {
     "base_uri": "https://localhost:8080/",
     "height": 51
    },
    "colab_type": "code",
    "collapsed": true,
    "deletable": false,
    "editable": false,
    "id": "QJCexuADFC5U",
    "outputId": "1fa0b624-85cd-4f6e-d9a6-02aa2fc543e1"
   },
   "outputs": [],
   "source": [
    "import tensorflow as tf\n",
    "\n",
    "print(\"Running TensorFlow version \",tf.__version__)\n",
    "\n",
    "# Parse tensorflow version\n",
    "import re\n",
    "\n",
    "version_match = re.match(\"([0-9]+)\\.([0-9]+)\", tf.__version__)\n",
    "tf_major, tf_minor = int(version_match.group(1)) , int(version_match.group(2))\n",
    "print(\"Version {v:d}, minor {m:d}\".format(v=tf_major, m=tf_minor) )"
   ]
  },
  {
   "cell_type": "code",
   "execution_count": null,
   "metadata": {
    "colab": {
     "base_uri": "https://localhost:8080/",
     "height": 154
    },
    "colab_type": "code",
    "collapsed": true,
    "deletable": false,
    "editable": false,
    "id": "hTb720ZQFGE_",
    "outputId": "617a5f68-338f-4e2c-d672-38a5662f6b1e"
   },
   "outputs": [],
   "source": [
    "if IN_COLAB:\n",
    "  # Mount the Google Drive at mount\n",
    "  mount='/content/gdrive'\n",
    "  print(\"Colab: mounting Google drive on \", mount)\n",
    "\n",
    "  drive.mount(mount)\n",
    "  import os\n",
    "  drive_root = os.path.join(mount, \"My Drive/Colab Notebooks/NYU/demo/edX\")\n",
    "     \n",
    "  # Create drive_root if it doesn't exist\n",
    "  create_drive_root = True\n",
    "  if create_drive_root:\n",
    "    print(\"\\nColab: making sure \", drive_root, \" exists.\")\n",
    "    os.makedirs(drive_root, exist_ok=True)\n",
    "  \n",
    "  # Change to the directory\n",
    "  proj_root = os.path.join(drive_root, \"ships_in_satellite_images\")\n",
    "  print(\"\\nColab: Changing directory to \", proj_root)\n",
    " \n",
    "else:\n",
    "    print(\"Running locally\")\n",
    "    proj_root=\".\"\n",
    "    # raise RuntimeError(\"This notebook should be run from Colab, not on the local machine\")\n",
    "\n",
    "%cd $proj_root \n",
    "%pwd"
   ]
  },
  {
   "cell_type": "markdown",
   "metadata": {
    "colab_type": "text",
    "deletable": false,
    "editable": false,
    "id": "YxXiLgtXAdYS",
    "nbgrader": {
     "grade": false,
     "grade_id": "cell-6f5faec3f2341497",
     "locked": true,
     "schema_version": 3,
     "solution": false,
     "task": false
    }
   },
   "source": [
    "# Standard imports"
   ]
  },
  {
   "cell_type": "code",
   "execution_count": null,
   "metadata": {
    "colab": [],
    "colab_type": "code",
    "collapsed": true,
    "deletable": false,
    "editable": false,
    "id": "OrjN4zPEAfQb"
   },
   "outputs": [],
   "source": [
    "import numpy as np\n",
    "import pandas as pd\n",
    "import matplotlib.pyplot as plt\n",
    "\n",
    "import sklearn\n",
    "\n",
    "import os\n",
    "import math\n",
    "\n",
    "%matplotlib inline"
   ]
  },
  {
   "cell_type": "markdown",
   "metadata": {
    "colab_type": "text",
    "deletable": false,
    "editable": false,
    "id": "6qfyKiQ3FTXu",
    "nbgrader": {
     "grade": false,
     "grade_id": "cell-bd6d3f643eec26ba",
     "locked": true,
     "solution": false
    }
   },
   "source": [
    "# Create the dataset (Instructor runs this offline; the student will be provided with an API to get the data)"
   ]
  },
  {
   "cell_type": "code",
   "execution_count": null,
   "metadata": {
    "colab": {
     "base_uri": "https://localhost:8080/",
     "height": 102
    },
    "colab_type": "code",
    "collapsed": true,
    "deletable": false,
    "editable": false,
    "id": "5TGSVUf6FVis",
    "outputId": "f529d119-8369-4b18-8d57-559333cb50cb"
   },
   "outputs": [],
   "source": [
    "DATA_DIR = \"./resource/asnlib/publicdata/ships_in_satellite_images/data\"\n",
    "    \n",
    "json_file =  \"shipsnet.json\"\n",
    "json_zip_file = \"2869_61115_compressed_\" + json_file + \".zip\"\n",
    "if (not os.path.exists( os.path.join(DATA_DIR, json_file) ) ) and os.path.exists( os.path.join(DATA_DIR, json_zip_file) ):\n",
    "  print(\"Unzipping \", json_file)\n",
    "  fquoted = '\"{f:s}\"'.format(f=json_zip_file)\n",
    "  %cd $DATA_DIR\n",
    "  ! unzip $fquoted\n",
    "  %cd ..\n",
    "\n"
   ]
  },
  {
   "cell_type": "markdown",
   "metadata": {
    "colab_type": "text",
    "deletable": false,
    "editable": false,
    "id": "O7LEiY7ilZpz",
    "nbgrader": {
     "grade": false,
     "grade_id": "cell-8ba64afcf268f3b2",
     "locked": true,
     "solution": false
    }
   },
   "source": [
    "# API for students\n",
    "\n",
    "We will define some utility routines.\n",
    "\n",
    "This will simplify problem solving\n",
    "\n",
    "More importantly: it adds structure to your submission so that it may be easily graded\n",
    "\n",
    "- getData: Get a collection of labelled images, used as follows\n",
    "\n",
    "  >`data, labels = getData()`\n",
    "- showData: Visualize labelled images, used as follows\n",
    "\n",
    "  >`showData(data, labels)`\n",
    "\n",
    "- train: train a model and visualize its progress, used as follows\n",
    "\n",
    "  >`train(model, X_train, y_train, model_name, epochs=max_epochs)`\n"
   ]
  },
  {
   "cell_type": "code",
   "execution_count": null,
   "metadata": {
    "colab": [],
    "colab_type": "code",
    "collapsed": true,
    "deletable": false,
    "editable": false,
    "id": "nZPo8V5NH5FA",
    "nbgrader": {
     "grade": false,
     "grade_id": "cell-7588eef6ebd793cc",
     "locked": true,
     "solution": false
    }
   },
   "outputs": [],
   "source": [
    "\n",
    "import math\n",
    "\n",
    "import os\n",
    "import h5py\n",
    "from nose.tools import assert_equal\n",
    "from tensorflow.keras.models import load_model\n",
    "from tensorflow.keras.utils import to_categorical\n",
    "\n",
    "\n",
    "import json\n",
    "\n",
    "def getData():\n",
    "  data,labels = json_to_numpy( os.path.join(DATA_DIR,json_file) )\n",
    "  return data, labels\n",
    "\n",
    "def showData(data, labels, num_cols=5):\n",
    "  # Plot the first num_rows * num_cols images in X\n",
    "  (num_rows, num_cols) = ( math.ceil(data.shape[0]/num_cols), num_cols)\n",
    "\n",
    "  fig = plt.figure(figsize=(10,10))\n",
    "  # Plot each image\n",
    "  for i in range(0, data.shape[0]):\n",
    "      img, img_label = data[i], labels[i]\n",
    "      ax  = fig.add_subplot(num_rows, num_cols, i+1)\n",
    "      _ = ax.set_axis_off()\n",
    "      ax.set_title(img_label)\n",
    "\n",
    "      _ = plt.imshow(img)\n",
    "  fig.tight_layout()\n",
    "\n",
    "  return fig\n",
    "\n",
    "def modelPath(modelName):\n",
    "    return os.path.join(\".\", \"models\", modelName)\n",
    "\n",
    "def saveModel(model, modelName): \n",
    "    model_path = modelPath(modelName)\n",
    "    \n",
    "    try:\n",
    "        os.makedirs(model_path)\n",
    "    except OSError:\n",
    "        print(\"Directory {dir:s} already exists, files will be over-written.\".format(dir=model_path))\n",
    "        \n",
    "    # Save JSON config to disk\n",
    "    json_config = model.to_json()\n",
    "    with open(os.path.join(model_path, 'config.json'), 'w') as json_file:\n",
    "        json_file.write(json_config)\n",
    "    # Save weights to disk\n",
    "    model.save_weights(os.path.join(model_path, 'weights.h5'))\n",
    "    \n",
    "    print(\"Model saved in directory {dir:s}; create an archive of this directory and submit with your assignment.\".format(dir=model_path))\n",
    "\n",
    "def loadModel(modelName):\n",
    "    model_path = modelPath(modelName)\n",
    "    \n",
    "    # Reload the model from the 2 files we saved\n",
    "    with open(os.path.join(model_path, 'config.json')) as json_file:\n",
    "        json_config = json_file.read()\n",
    "  \n",
    "    model = tf.keras.models.model_from_json(json_config)\n",
    "    model.compile(loss='categorical_crossentropy', metrics=['accuracy'])\n",
    "    model.load_weights(os.path.join(model_path, 'weights.h5'))\n",
    "    \n",
    "    return model\n",
    "\n",
    "def saveModelNonPortable(model, modelName): \n",
    "    model_path = modelPath(modelName)\n",
    "    \n",
    "    try:\n",
    "        os.makedirs(model_path)\n",
    "    except OSError:\n",
    "        print(\"Directory {dir:s} already exists, files will be over-written.\".format(dir=model_path))\n",
    "        \n",
    "    model.save( model_path )\n",
    "    \n",
    "    print(\"Model saved in directory {dir:s}; create an archive of this directory and submit with your assignment.\".format(dir=model_path))\n",
    " \n",
    "def loadModelNonPortable(modelName):\n",
    "    model_path = modelPath(modelName)\n",
    "    model = load_model( model_path )\n",
    "    \n",
    "    # Reload the model \n",
    "    return model\n",
    "\n",
    "def MyModel(test_dir, model_path):\n",
    "    # YOU MAY NOT change model after this statement !\n",
    "    model = loadModel(model_path)\n",
    "    \n",
    "    # It should run model to create an array of predictions; we initialize it to the empty array for convenience\n",
    "    predictions = []\n",
    "    \n",
    "    # We need to match your array of predictions with the examples you are predicting\n",
    "    # The array below (ids) should have a one-to-one correspondence and identify the example your are predicting\n",
    "    # For Bankruptcy: the Id column\n",
    "    # For Stock prediction: the date on which you are making a prediction\n",
    "    ids = []\n",
    "    \n",
    "    # YOUR CODE GOES HERE\n",
    "    \n",
    "    \n",
    "    return predictions, ids\n",
    "\n",
    "def json_to_numpy(json_file):\n",
    "  # Read the JSON file\n",
    "  f = open(json_file)\n",
    "  dataset = json.load(f)\n",
    "  f.close()\n",
    "\n",
    "  data = np.array(dataset['data']).astype('uint8')\n",
    "  labels = np.array(dataset['labels']).astype('uint8')\n",
    "\n",
    "  # Reshape the data\n",
    "  data = data.reshape([-1, 3, 80, 80]).transpose([0,2,3,1])\n",
    "\n",
    "  return data, labels\n",
    "\n",
    "\n",
    "def scale_data(data, labels):\n",
    "  # Scale the data\n",
    "  X = data/255.\n",
    "\n",
    "  # Make target categorical\n",
    "  y = to_categorical(labels, num_classes=2)\n",
    "\n",
    "  return X, y\n",
    "\n",
    "from tensorflow.keras.callbacks import EarlyStopping, ModelCheckpoint\n",
    "modelName = \"Ships_in_satellite_images\"\n",
    "es_callback = tf.keras.callbacks.EarlyStopping(monitor='val_loss', min_delta=.01, patience=2, verbose=0, mode='auto', baseline=None, restore_best_weights=True)\n",
    "\n",
    "callbacks = [ es_callback,\n",
    "              ModelCheckpoint(filepath=modelName + \".ckpt\", monitor='accuracy', save_best_only=True)\n",
    "              ]   \n",
    "\n",
    "max_epochs = 30\n",
    "\n",
    "def train(model, X, y, model_name, epochs=max_epochs):\n",
    "  # Describe the model\n",
    "  model.summary()\n",
    "\n",
    "  # Compile the model\n",
    "  model.compile(loss='categorical_crossentropy', metrics=['accuracy'])\n",
    "\n",
    "  # Fix the validation set (for repeatability, not a great idea, in general)\n",
    "  X_train, X_valid, y_train, y_valid = train_test_split(X, y, test_size=0.20, random_state=42)\n",
    "  \n",
    "  print(\"Train set size: \", X_train.shape[0], \", Validation set size: \", X_valid.shape[0])\n",
    "\n",
    "  history = model.fit(X_train, y_train, epochs=max_epochs, validation_data=(X_valid, y_valid), callbacks=callbacks)\n",
    "  fig, axs = plotTrain(history, model_name)\n",
    "\n",
    "  return history, fig, axs\n",
    "\n",
    "def plotTrain(history, model_name=\"???\"):\n",
    "  fig, axs = plt.subplots( 1, 2, figsize=(12, 5) )\n",
    "\n",
    "  # Plot loss\n",
    "  axs[0].plot(history.history['loss'])\n",
    "  axs[0].plot(history.history['val_loss'])\n",
    "  axs[0].set_title(model_name + \" \" + 'model loss')\n",
    "  axs[0].set_ylabel('loss')\n",
    "  axs[0].set_xlabel('epoch')\n",
    "  axs[0].legend(['train', 'validation'], loc='upper left')\n",
    " \n",
    "  # Plot accuracy\n",
    "  axs[1].plot(history.history['accuracy'])\n",
    "  axs[1].plot(history.history['val_accuracy'])\n",
    "  axs[1].set_title(model_name + \" \" +'model accuracy')\n",
    "  axs[1].set_ylabel('accuracy')\n",
    "  axs[1].set_xlabel('epoch')\n",
    "  axs[1].legend(['train', 'validation'], loc='upper left')\n",
    "\n",
    "  return fig, axs\n"
   ]
  },
  {
   "cell_type": "markdown",
   "metadata": {
    "colab_type": "text",
    "deletable": false,
    "editable": false,
    "id": "zXM8RB_emiT7",
    "nbgrader": {
     "grade": false,
     "grade_id": "cell-c15497fb002feea9",
     "locked": true,
     "solution": false
    }
   },
   "source": [
    "## Get the data"
   ]
  },
  {
   "cell_type": "code",
   "execution_count": null,
   "metadata": {
    "colab": {
     "base_uri": "https://localhost:8080/",
     "height": 68
    },
    "colab_type": "code",
    "collapsed": true,
    "deletable": false,
    "editable": false,
    "id": "vuq8jcZzDPvv",
    "nbgrader": {
     "grade": false,
     "grade_id": "cell-e063daedd3d3599d",
     "locked": true,
     "solution": false
    },
    "outputId": "1c8086b2-3eed-4417-9155-ac74ef5ed597"
   },
   "outputs": [],
   "source": [
    "# Get the data\n",
    "data, labels = getData()\n",
    "print(\"Date shape: \", data.shape)\n",
    "print(\"Labels shape: \", labels.shape)\n",
    "print(\"Label values: \", np.unique(labels))"
   ]
  },
  {
   "cell_type": "code",
   "execution_count": null,
   "metadata": {
    "colab": [],
    "colab_type": "code",
    "collapsed": true,
    "deletable": false,
    "editable": false,
    "id": "jLyx2K-xBBvr",
    "nbgrader": {
     "grade": false,
     "grade_id": "cell-990bf269aeb3ca7e",
     "locked": true,
     "solution": false
    }
   },
   "outputs": [],
   "source": [
    "# Shuffle the data\n",
    "data, labels = sklearn.utils.shuffle(data, labels, random_state=42)"
   ]
  },
  {
   "cell_type": "code",
   "execution_count": null,
   "metadata": {
    "colab": {
     "base_uri": "https://localhost:8080/",
     "height": 1000
    },
    "colab_type": "code",
    "collapsed": true,
    "deletable": false,
    "editable": false,
    "id": "0zuY0AOl_K1R",
    "nbgrader": {
     "grade": false,
     "grade_id": "cell-1a71ce295b907fc6",
     "locked": true,
     "solution": false
    },
    "outputId": "8e2ff048-a6b6-4919-e40d-8381aee59af7"
   },
   "outputs": [],
   "source": [
    "showData(data[:25], labels[:25])"
   ]
  },
  {
   "cell_type": "markdown",
   "metadata": {
    "colab_type": "text",
    "deletable": false,
    "editable": false,
    "id": "6uCIcmcDmlkw",
    "nbgrader": {
     "grade": false,
     "grade_id": "cell-f0f347b522fca9ca",
     "locked": true,
     "solution": false
    }
   },
   "source": [
    "## Examine the image/label pairs"
   ]
  },
  {
   "cell_type": "code",
   "execution_count": null,
   "metadata": {
    "colab": {
     "base_uri": "https://localhost:8080/",
     "height": 1000
    },
    "colab_type": "code",
    "collapsed": true,
    "deletable": false,
    "editable": false,
    "id": "2k9YAbAZDbqE",
    "nbgrader": {
     "grade": false,
     "grade_id": "cell-2170d3ab94ea3085",
     "locked": true,
     "solution": false
    },
    "outputId": "c24286e7-6991-4b78-9716-bad69e27ccfd"
   },
   "outputs": [],
   "source": [
    "# Inspect some data (images)\n",
    "num_each_label = 10\n",
    "\n",
    "for lab in np.unique(labels):\n",
    "  X_lab, y_lab = data[ labels == lab ], labels[ labels == lab]\n",
    "  fig = showData( X_lab[:num_each_label], [ str(label) for label in y_lab[:num_each_label] ])\n",
    "  fig.suptitle(\"Label: \"+  str(lab), fontsize=14)\n",
    "  fig.show()\n",
    "  print(\"\\n\\n\")\n"
   ]
  },
  {
   "cell_type": "markdown",
   "metadata": {
    "colab_type": "text",
    "deletable": false,
    "editable": false,
    "id": "i_418VKqmvwy",
    "nbgrader": {
     "grade": false,
     "grade_id": "cell-10e039ff3c30948c",
     "locked": true,
     "solution": false
    }
   },
   "source": [
    "# Make sure the features are in the range [0,1]  \n",
    "\n",
    "When we want to train image data, the first thing we usually need to do is scaling. Since the feature values in our image data are between 0 and 255, to make them between 0 and 1, we need to divide them by 255. In addition, we usually use one-hot encoding to deal with our lables. The methods you may use are:\n",
    "- `to_categorical()`, which is in `tensorflow.keras.utils`\n",
    "\n",
    "**Question:** Design a function named `scale_data` to scale the input dataset.  "
   ]
  },
  {
   "cell_type": "code",
   "execution_count": null,
   "metadata": {
    "colab": [],
    "colab_type": "code",
    "collapsed": true,
    "id": "EBJaZ3qyDq65",
    "nbgrader": {
     "grade": false,
     "grade_id": "Scale_the_data",
     "locked": false,
     "schema_version": 3,
     "solution": false,
     "task": false
    }
   },
   "outputs": [],
   "source": [
    "# Scale the data\n",
    "# Assign values for X, y\n",
    "#  X: the array of features\n",
    "#  y: the array of labels\n",
    "# The length of X and y should be identical and equal to the length of data.\n",
    "X, y = np.array([]), np.array([])\n",
    "\n",
    "###\n",
    "### YOUR CODE HERE\n",
    "###\n"
   ]
  },
  {
   "cell_type": "code",
   "execution_count": null,
   "metadata": {
    "collapsed": true,
    "deletable": false,
    "editable": false,
    "nbgrader": {
     "grade": false,
     "grade_id": "cell-f3c8cd2f8d86c720",
     "locked": true,
     "solution": false
    }
   },
   "outputs": [],
   "source": [
    "print('X shape: ', str(X.shape))\n",
    "print('y.shape: ', str(y.shape))\n",
    "print(y[0])"
   ]
  },
  {
   "cell_type": "code",
   "execution_count": null,
   "metadata": {
    "collapsed": true,
    "deletable": false,
    "editable": false,
    "nbgrader": {
     "grade": true,
     "grade_id": "Scale_the_data_test",
     "locked": true,
     "points": 5,
     "schema_version": 3,
     "solution": false,
     "task": false
    }
   },
   "outputs": [],
   "source": [
    "assert (data/255. == X).all()\n",
    "assert y.shape == (4000, 2)"
   ]
  },
  {
   "cell_type": "markdown",
   "metadata": {
    "colab_type": "text",
    "deletable": false,
    "editable": false,
    "id": "aHnlcZ4WNN1T",
    "nbgrader": {
     "grade": false,
     "grade_id": "cell-7a277267a2b29925",
     "locked": true,
     "solution": false
    }
   },
   "source": [
    "**DO NOT** shuffle the data until after we have performed the split into train/test sets\n",
    "- We want everyone to have the **identical** test set for grading\n",
    "- Do not change this cell\n"
   ]
  },
  {
   "cell_type": "code",
   "execution_count": null,
   "metadata": {
    "colab": [],
    "colab_type": "code",
    "collapsed": true,
    "deletable": false,
    "editable": false,
    "id": "OhmoI5erNf7I",
    "nbgrader": {
     "grade": false,
     "grade_id": "cell-b4161c68ac815795",
     "locked": true,
     "solution": false
    }
   },
   "outputs": [],
   "source": [
    "\n",
    "from sklearn.model_selection import train_test_split\n",
    "X_train, X_test, y_train, y_test = train_test_split(X, y, test_size=0.10, random_state=42)\n"
   ]
  },
  {
   "cell_type": "markdown",
   "metadata": {
    "colab_type": "text",
    "deletable": false,
    "editable": false,
    "id": "7JTJltPLJYp3",
    "nbgrader": {
     "grade": false,
     "grade_id": "cell-04d596d6ffefb6db",
     "locked": true,
     "solution": false
    }
   },
   "source": [
    "# Create a model using only Classification, no data transformation (other than reshaping)\n",
    "\n",
    "You need to build a 1-layer (only head layer) network model with `tensorflow.keras` right now. The modules you may need to use are:\n",
    "- `Sequential()`, which is in `tensorflow.keras.models`, to build a sequential model\n",
    "- `Flatten()`, `Dense()`, which are in `tensorflow.keras.layers`, to create layers for your model. \n",
    "\n",
    "**Questions:** Build a 1-layer sequencial model with 1 dense layer.  \n",
    "Hints:\n",
    "1. You may want to use `Flatten()` to make your input data with 1 dimension. The input shape of `Flatten()` layer should be the shape of a single sample\n",
    "2. The units in your dense layer should be the same as the number of unique lables. Since this is a classification problem, you may want to use the `softmax` function as your activation function\n"
   ]
  },
  {
   "cell_type": "code",
   "execution_count": null,
   "metadata": {
    "colab": {
     "base_uri": "https://localhost:8080/",
     "height": 775
    },
    "colab_type": "code",
    "collapsed": true,
    "id": "wFF00mA7PUYD",
    "nbgrader": {
     "grade": false,
     "grade_id": "create_model",
     "locked": false,
     "schema_version": 3,
     "solution": true,
     "task": false
    },
    "outputId": "56c302a5-efba-4c2e-bb3e-08f58c6e4dd9"
   },
   "outputs": [],
   "source": [
    "\n",
    "num_cases = np.unique(labels).shape[0]\n",
    "\n",
    "# Set model0 equal to a Keras Sequential model\n",
    "model0 = None\n",
    "\n",
    "###\n",
    "### YOUR CODE HERE\n",
    "###\n"
   ]
  },
  {
   "cell_type": "code",
   "execution_count": null,
   "metadata": {
    "collapsed": true,
    "deletable": false,
    "editable": false,
    "nbgrader": {
     "grade": true,
     "grade_id": "create_model_test",
     "locked": true,
     "points": 5,
     "schema_version": 3,
     "solution": false,
     "task": false
    }
   },
   "outputs": [],
   "source": [
    "###\n",
    "### AUTOGRADER TEST - DO NOT REMOVE\n",
    "###\n"
   ]
  },
  {
   "cell_type": "code",
   "execution_count": null,
   "metadata": {
    "collapsed": true,
    "deletable": false,
    "editable": false,
    "nbgrader": {
     "grade": false,
     "grade_id": "cell-50d045dfab198bbc",
     "locked": true,
     "solution": false
    }
   },
   "outputs": [],
   "source": [
    "# Train the model using the API, `train()`\n",
    "model_name = \"Head only\"\n",
    "history0, fig0, axs0 = train(model0, X_train, y_train, model_name)"
   ]
  },
  {
   "cell_type": "markdown",
   "metadata": {
    "deletable": false,
    "editable": false,
    "nbgrader": {
     "grade": false,
     "grade_id": "cell-95fb26a27940a6da",
     "locked": true,
     "solution": false
    }
   },
   "source": [
    "**Expected outputs (there may be some differences because we only have one layer):**  \n",
    "<table> \n",
    "    <tr> \n",
    "        <td>  \n",
    "            Training accuracy\n",
    "        </td>\n",
    "        <td>\n",
    "         0.7965\n",
    "        </td>\n",
    "    </tr>\n",
    "    <tr> \n",
    "        <td>\n",
    "            Validation accuracy\n",
    "        </td>\n",
    "        <td>\n",
    "         0.8319\n",
    "        </td>\n",
    "    </tr>\n",
    "\n",
    "</table>\n",
    "\n",
    "We can see that the validation accuracy is a little bit higher than training accuracy, which means our model may have a underfitting problem."
   ]
  },
  {
   "cell_type": "markdown",
   "metadata": {
    "colab_type": "text",
    "deletable": false,
    "editable": false,
    "id": "BHsceFTbpnvr",
    "nbgrader": {
     "grade": false,
     "grade_id": "cell-b56f0c02baa397be",
     "locked": true,
     "solution": false
    }
   },
   "source": [
    "## How many weights in the model ?\n"
   ]
  },
  {
   "cell_type": "code",
   "execution_count": null,
   "metadata": {
    "colab": [],
    "colab_type": "code",
    "collapsed": true,
    "id": "dgDetvgupt58",
    "nbgrader": {
     "grade": false,
     "grade_id": "num_parameters",
     "locked": false,
     "schema_version": 3,
     "solution": true,
     "task": false
    }
   },
   "outputs": [],
   "source": [
    "# Set num_parameters0 equal to the number of weights in the model\n",
    "num_parameters0 = None\n",
    "\n",
    "###\n",
    "### YOUR CODE HERE\n",
    "###\n",
    "\n",
    "print(\"Parameters number in model0: \", num_parameters0)"
   ]
  },
  {
   "cell_type": "code",
   "execution_count": null,
   "metadata": {
    "collapsed": true,
    "deletable": false,
    "editable": false,
    "nbgrader": {
     "grade": true,
     "grade_id": "num_parameters_test",
     "locked": true,
     "points": 0,
     "schema_version": 3,
     "solution": false,
     "task": false
    }
   },
   "outputs": [],
   "source": [
    "###\n",
    "### AUTOGRADER TEST - DO NOT REMOVE\n",
    "###\n"
   ]
  },
  {
   "cell_type": "markdown",
   "metadata": {
    "colab_type": "text",
    "deletable": false,
    "editable": false,
    "id": "3hR7QB27Jhx8",
    "nbgrader": {
     "grade": false,
     "grade_id": "cell-0cd858bda937a2d8",
     "locked": true,
     "solution": false
    }
   },
   "source": [
    "## Evaluate the model\n",
    "\n",
    "We have trained our model, then what we need to do next is to evaluate the model using test dataset. The function we should use is `evaluate()`. "
   ]
  },
  {
   "cell_type": "code",
   "execution_count": null,
   "metadata": {
    "colab": {
     "base_uri": "https://localhost:8080/",
     "height": 35
    },
    "colab_type": "code",
    "collapsed": true,
    "deletable": false,
    "editable": false,
    "id": "_y1rTpduJhkE",
    "nbgrader": {
     "grade": false,
     "grade_id": "cell-952ffb819ab7ac74",
     "locked": true,
     "solution": false
    },
    "outputId": "8e8c0c99-2c80-4ec3-bab9-e08de97c3807"
   },
   "outputs": [],
   "source": [
    "score = model0.evaluate(X_test, y_test, verbose=0)\n",
    "print(\"{n:s}: Test loss: {l:3.2f} / Test accuracy: {a:3.2f}\".format(n=model_name, l=score[0], a=score[1]))"
   ]
  },
  {
   "cell_type": "markdown",
   "metadata": {
    "colab_type": "text",
    "deletable": false,
    "editable": false,
    "id": "pNkyZ8VRd-d3",
    "nbgrader": {
     "grade": false,
     "grade_id": "cell-2ec40ceeb8967073",
     "locked": true,
     "solution": false
    }
   },
   "source": [
    "## Save the trained model so we don't need to run training in order to run correctness tests"
   ]
  },
  {
   "cell_type": "code",
   "execution_count": null,
   "metadata": {
    "colab": {
     "base_uri": "https://localhost:8080/",
     "height": 51
    },
    "colab_type": "code",
    "collapsed": true,
    "deletable": false,
    "editable": false,
    "id": "OesE2_-gd-d4",
    "nbgrader": {
     "grade": false,
     "grade_id": "cell-e8b16a3d5db1c519",
     "locked": true,
     "solution": false
    },
    "outputId": "c4cf36e4-00bc-4d73-8aa2-7cae8724f4a8",
    "scrolled": false
   },
   "outputs": [],
   "source": [
    "saveModel(model0, model_name)"
   ]
  },
  {
   "cell_type": "code",
   "execution_count": null,
   "metadata": {
    "colab": {
     "base_uri": "https://localhost:8080/",
     "height": 51
    },
    "colab_type": "code",
    "collapsed": true,
    "deletable": false,
    "editable": false,
    "id": "VzGLEbz5oRn1",
    "nbgrader": {
     "grade": false,
     "grade_id": "cell-710bcf1a36e0d408",
     "locked": true,
     "solution": false
    },
    "outputId": "e8802c53-38b8-4fe5-9b77-be8542f721cf",
    "scrolled": false
   },
   "outputs": [],
   "source": [
    "saveModelNonPortable(model0, model_name)"
   ]
  },
  {
   "cell_type": "code",
   "execution_count": null,
   "metadata": {
    "colab": [],
    "colab_type": "code",
    "collapsed": true,
    "deletable": false,
    "editable": false,
    "id": "A_E8q6JBd-d7",
    "nbgrader": {
     "grade": false,
     "grade_id": "cell-523d9d6ed576588b",
     "locked": true,
     "solution": false
    }
   },
   "outputs": [],
   "source": [
    "## Restore the model (make sure that it works)\n",
    "model0 = loadModel(model_name)\n",
    "score = model0.evaluate(X_test, y_test, verbose=0)\n",
    "print(\"RESTORED {n:s}: Test loss: {l:3.2f} / Test accuracy: {a:3.2f}\".format(n=model_name, l=score[0], a=score[1]))\n"
   ]
  },
  {
   "cell_type": "code",
   "execution_count": null,
   "metadata": {
    "colab": {
     "base_uri": "https://localhost:8080/",
     "height": 34
    },
    "colab_type": "code",
    "collapsed": true,
    "deletable": false,
    "editable": false,
    "id": "mabYGB-aoD28",
    "nbgrader": {
     "grade": false,
     "grade_id": "cell-5f86d3138935f666",
     "locked": true,
     "solution": false
    },
    "outputId": "f05bf6f2-8521-4e3b-c297-c36eefc8f881"
   },
   "outputs": [],
   "source": [
    "try:\n",
    "    modelt = loadModelNonPortable(model_name)\n",
    "    score = modelt.evaluate(X_test, y_test, verbose=0)\n",
    "    print(\"RESTORED NP {n:s}: Test loss: {l:3.2f} / Test accuracy: {a:3.2f}\".format(n=model_name, l=score[0], a=score[1]))\n",
    "except:\n",
    "    print(\"Can't restore non-portable format\")\n"
   ]
  },
  {
   "cell_type": "markdown",
   "metadata": {
    "colab_type": "text",
    "deletable": false,
    "editable": false,
    "id": "JXX-_3_SKsla",
    "nbgrader": {
     "grade": false,
     "grade_id": "cell-29a13472fd27c22f",
     "locked": true,
     "solution": false
    }
   },
   "source": [
    "# Create a model with a Dense layer providing 512 features, plus the Classification head\n",
    "\n",
    "**Question:** At this time, we will do some changes to the original model0.\n",
    "1. Add a Dense layer with 512 units\n",
    "2. Add a ReLU function after the new Dense layer\n",
    "3. Add a Dropout layer after ReLU function to prevent overfitting  \n",
    "\n",
    "Modules you may need to use are:\n",
    "- `Flatten()`\n",
    "- `Dense()`\n",
    "- `Dropout()` in `tensorflow.keras.layers`"
   ]
  },
  {
   "cell_type": "code",
   "execution_count": null,
   "metadata": {
    "colab": [],
    "colab_type": "code",
    "collapsed": true,
    "id": "1Ga3U-syPaCz",
    "nbgrader": {
     "grade": false,
     "grade_id": "Dense_512",
     "locked": false,
     "schema_version": 3,
     "solution": true,
     "task": false
    }
   },
   "outputs": [],
   "source": [
    "# Set model1 equal to a Keras Sequential model\n",
    "model1 = None\n",
    "\n",
    "###\n",
    "### YOUR CODE HERE\n",
    "###\n"
   ]
  },
  {
   "cell_type": "code",
   "execution_count": null,
   "metadata": {
    "collapsed": true,
    "deletable": false,
    "editable": false,
    "nbgrader": {
     "grade": true,
     "grade_id": "Dense_512_test",
     "locked": true,
     "points": 10,
     "schema_version": 3,
     "solution": false,
     "task": false
    }
   },
   "outputs": [],
   "source": [
    "###\n",
    "### AUTOGRADER TEST - DO NOT REMOVE\n",
    "###\n"
   ]
  },
  {
   "cell_type": "code",
   "execution_count": null,
   "metadata": {
    "collapsed": true,
    "deletable": false,
    "editable": false,
    "nbgrader": {
     "grade": false,
     "grade_id": "cell-2faff5b10b4d03e9",
     "locked": true,
     "solution": false
    }
   },
   "outputs": [],
   "source": [
    "\n",
    "# Train the model using the API\n",
    "model_name = \"Dense + Head\"\n",
    "history1, fig1, axs1 = train(model1, X_train, y_train, model_name)"
   ]
  },
  {
   "cell_type": "markdown",
   "metadata": {
    "deletable": false,
    "editable": false,
    "nbgrader": {
     "grade": false,
     "grade_id": "cell-e39e8f7acb9aff70",
     "locked": true,
     "solution": false
    }
   },
   "source": [
    "**Expected outputs (there may be some differences because we only have one layer):**  \n",
    "<table> \n",
    "    <tr> \n",
    "        <td>  \n",
    "            Training accuracy\n",
    "        </td>\n",
    "        <td>\n",
    "         0.8458\n",
    "        </td>\n",
    "    </tr>\n",
    "    <tr> \n",
    "        <td>\n",
    "            Validation accuracy\n",
    "        </td>\n",
    "        <td>\n",
    "         0.8528\n",
    "        </td>\n",
    "    </tr>\n",
    "\n",
    "</table>\n",
    "\n",
    "The loss and accuracy graphs of model1 are similiar to this:\n",
    "<img src='./resource/asnlib/publicdata/ships_in_satellite_images/images/model1_loss_accuracy.png' style=\"width:600px;height:300px;\">"
   ]
  },
  {
   "cell_type": "markdown",
   "metadata": {
    "colab_type": "text",
    "deletable": false,
    "editable": false,
    "id": "XzU2xKWcsEAo",
    "nbgrader": {
     "grade": false,
     "grade_id": "cell-cd039767cc3682f7",
     "locked": true,
     "solution": false
    }
   },
   "source": [
    "## How many weights in the model ?"
   ]
  },
  {
   "cell_type": "code",
   "execution_count": null,
   "metadata": {
    "colab": [],
    "colab_type": "code",
    "collapsed": true,
    "id": "gXs0EZZVsHqB",
    "nbgrader": {
     "grade": false,
     "grade_id": "num_parameters_model1",
     "locked": false,
     "schema_version": 3,
     "solution": true,
     "task": false
    }
   },
   "outputs": [],
   "source": [
    "# Set num_parameters1 equal to the number of weights in the model\n",
    "num_parameters1 = None\n",
    "\n",
    "###\n",
    "### YOUR CODE HERE\n",
    "###\n",
    "\n",
    "print('Parameters number in model1:', num_parameters1)"
   ]
  },
  {
   "cell_type": "code",
   "execution_count": null,
   "metadata": {
    "collapsed": true,
    "deletable": false,
    "editable": false,
    "nbgrader": {
     "grade": true,
     "grade_id": "num_parameters_model1_test",
     "locked": true,
     "points": 5,
     "schema_version": 3,
     "solution": false,
     "task": false
    }
   },
   "outputs": [],
   "source": [
    "###\n",
    "### AUTOGRADER TEST - DO NOT REMOVE\n",
    "###\n"
   ]
  },
  {
   "cell_type": "markdown",
   "metadata": {
    "colab_type": "text",
    "deletable": false,
    "editable": false,
    "id": "gfBjJLU7J7L4",
    "nbgrader": {
     "grade": false,
     "grade_id": "cell-ac1be0851dc61eae",
     "locked": true,
     "solution": false
    }
   },
   "source": [
    "## Evaluate the model"
   ]
  },
  {
   "cell_type": "code",
   "execution_count": null,
   "metadata": {
    "colab": [],
    "colab_type": "code",
    "collapsed": true,
    "deletable": false,
    "editable": false,
    "id": "A5wFSFvwJ68n",
    "nbgrader": {
     "grade": false,
     "grade_id": "cell-e5b8ac0c66664dea",
     "locked": true,
     "solution": false
    }
   },
   "outputs": [],
   "source": [
    "score = model1.evaluate(X_test, y_test, verbose=0)\n",
    "print(\"{n:s}: Test loss: {l:3.2f} / Test accuracy: {a:3.2f}\".format(n=model_name, l=score[0], a=score[1]))\n"
   ]
  },
  {
   "cell_type": "code",
   "execution_count": null,
   "metadata": {
    "collapsed": true
   },
   "outputs": [],
   "source": []
  }
 ],
 "metadata": {
  "accelerator": "GPU",
  "celltoolbar": "Create Assignment",
  "colab": {
   "collapsed_sections": [],
   "name": "Ships_in_satellite_images.ipynb",
   "provenance": [],
   "toc_visible": true
  },
  "kernelspec": {
   "display_name": "Python 3",
   "language": "python",
   "name": "python3"
  },
  "language_info": {
   "codemirror_mode": {
    "name": "ipython",
    "version": 3
   },
   "file_extension": ".py",
   "mimetype": "text/x-python",
   "name": "python",
   "nbconvert_exporter": "python",
   "pygments_lexer": "ipython3",
   "version": "3.7.4"
  },
  "toc": {
   "base_numbering": 1,
   "nav_menu": [],
   "number_sections": true,
   "sideBar": true,
   "skip_h1_title": false,
   "title_cell": "Table of Contents",
   "title_sidebar": "Contents",
   "toc_cell": false,
   "toc_position": [],
   "toc_section_display": true,
   "toc_window_display": false
  }
 },
 "nbformat": 4,
 "nbformat_minor": 1
}

{
 "cells": [
  {
   "cell_type": "code",
   "execution_count": 1,
   "metadata": {
    "slideshow": {
     "slide_type": "notes"
    }
   },
   "outputs": [],
   "source": [
    "from IPython.core.interactiveshell import InteractiveShell\n",
    "InteractiveShell.ast_node_interactivity = \"all\"\n",
    "\n",
    "# Reload all modules imported with %aimport\n",
    "%load_ext autoreload\n",
    "%autoreload 1\n",
    "\n",
    "%matplotlib inline"
   ]
  },
  {
   "cell_type": "markdown",
   "metadata": {
    "slideshow": {
     "slide_type": "slide"
    }
   },
   "source": [
    "- We will use the Anaconda Distribution\n",
    "    - simple to install\n",
    "    - comprehensive\n",
    "    - package and environment management\n",
    "        - No more `pip install` followed by dependency chasing"
   ]
  },
  {
   "cell_type": "markdown",
   "metadata": {
    "slideshow": {
     "slide_type": "slide"
    }
   },
   "source": [
    "## Set up a ML  environment\n",
    "\n",
    "Several choices\n",
    "\n",
    "- Anaconda on your own machine\n",
    "- Anaconda on AWS (or Azure, Google)\n",
    "- Turn-key, cloud solution: Floydhub\n",
    "- Turn-key, cloud  solution: Paperspace"
   ]
  },
  {
   "cell_type": "markdown",
   "metadata": {
    "slideshow": {
     "slide_type": "slide"
    }
   },
   "source": [
    "### Anaconda on your own machine\n",
    "- Pro: cheapest\n",
    "- Con: potential limited by memory and power of your machine"
   ]
  },
  {
   "cell_type": "markdown",
   "metadata": {
    "slideshow": {
     "slide_type": "subslide"
    }
   },
   "source": [
    "- Link: [Download Anaconda](https://www.anaconda.com/distribution/#download-section) and run installer\n",
    "    - if no browser available\n",
    "        - save link, e.g., https://repo.continuum.io/archive/Anaconda3-2018.12-Linux-x86_64.sh\n",
    "        - use wget on the link: \n",
    "        >`wget https://repo.continuum.io/archive/Anaconda3-2018.12-Linux-x86_64.sh`\n",
    "        - run the downloaded file: `bash Anaconda3-2018.12-Linux-x86_64.sh`\n",
    "    - accept defaults\n",
    "        - allow your .bashrc to be updated: \n",
    "            - or can do it later yourself: `source .bashrc`\n",
    "    "
   ]
  },
  {
   "cell_type": "markdown",
   "metadata": {
    "slideshow": {
     "slide_type": "subslide"
    }
   },
   "source": [
    "### Anaconda on AWS\n",
    "\n",
    "- Same setup as Anaconda on your own machine **ONCE** you have knowledge of how to create machines on AWS\n",
    "- Pro: \n",
    "    - high potential: you can rent machines with increased power, memory and GPU !\n",
    "    - knowing how to use a cloud services (AWS, Azure, Google) is a valuable skill !\n",
    "- Con: Free-tier machine good to start but need to rent resouces (i.e., money)\n",
    "\n",
    "#### Links\n",
    "- [Grant McKinnon](http://www.grant-mckinnon.com/)\n",
    "    - [Setting up AWS for Kaggle](http://www.grant-mckinnon.com/?p=6%E2%80%8B)\n",
    "    \n"
   ]
  },
  {
   "cell_type": "markdown",
   "metadata": {
    "slideshow": {
     "slide_type": "slide"
    }
   },
   "source": [
    "### Floydhub\n",
    "- Pro: \n",
    "    - **Turn-key** and cloud-based.  No installation to start\n",
    "    \n",
    "- Con: \n",
    "    - Best as a Jupyter notebook server, not as a full-service machine\n",
    "        - You WILL want a text editor at some point, particularly as you develop Python Classes/Modules"
   ]
  },
  {
   "cell_type": "markdown",
   "metadata": {
    "slideshow": {
     "slide_type": "slide"
    }
   },
   "source": [
    "### Paperspace\n",
    "- Pro:\n",
    "    - Notebook server is **Turn-key** and cloud-based. No installation to start\n",
    "    - \"ML in a box\": Full featured machine (like AWS)\n",
    "        - BUT only advanced frameworks (e.g., TensorFlow) not sklearn !\n",
    "- Con:\n",
    "    - Cost to rent is much higher than AWS\n",
    "        - n.b., some providers use AWS as a back-end; you pay for convenience"
   ]
  }
 ],
 "metadata": {
  "celltoolbar": "Slideshow",
  "kernelspec": {
   "display_name": "Python 3",
   "language": "python",
   "name": "python3"
  },
  "language_info": {
   "codemirror_mode": {
    "name": "ipython",
    "version": 3
   },
   "file_extension": ".py",
   "mimetype": "text/x-python",
   "name": "python",
   "nbconvert_exporter": "python",
   "pygments_lexer": "ipython3",
   "version": "3.7.1"
  },
  "toc": {
   "base_numbering": 1,
   "nav_menu": {},
   "number_sections": true,
   "sideBar": true,
   "skip_h1_title": false,
   "title_cell": "Table of Contents",
   "title_sidebar": "Contents",
   "toc_cell": false,
   "toc_position": {
    "height": "calc(100% - 180px)",
    "left": "10px",
    "top": "150px",
    "width": "368px"
   },
   "toc_section_display": true,
   "toc_window_display": false
  }
 },
 "nbformat": 4,
 "nbformat_minor": 2
}

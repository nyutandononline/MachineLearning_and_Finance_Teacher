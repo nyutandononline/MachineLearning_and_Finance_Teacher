{
 "cells": [
  {
   "cell_type": "code",
   "execution_count": 1,
   "metadata": {
    "slideshow": {
     "slide_type": "notes"
    }
   },
   "outputs": [
    {
     "data": {
      "text/latex": [
       "$$\n",
       "\\newcommand{\\x}{\\mathbf{x}}\n",
       "\\newcommand{\\tx}{\\tilde{\\x}}\n",
       "\\newcommand{\\y}{\\mathbf{y}}\n",
       "\\newcommand{\\b}{\\mathbf{b}}\n",
       "\\newcommand{\\c}{\\mathbf{c}}\n",
       "\\newcommand{\\e}{\\mathbf{e}}\n",
       "\\newcommand{\\z}{\\mathbf{z}}\n",
       "\\newcommand{\\h}{\\mathbf{h}}\n",
       "\\newcommand{\\v}{\\mathbf{v}}\n",
       "\\newcommand{\\w}{\\mathbf{w}}\n",
       "\\newcommand{\\W}{\\mathbf{W}}\n",
       "\\newcommand{\\X}{\\mathbf{X}}\n",
       "\\newcommand{\\KL}{\\mathbf{KL}}\n",
       "\\newcommand{\\E}{{\\mathbb{E}}}\n",
       "\\newcommand{\\ip}{\\mathbf{{(i)}}}\n",
       "%\n",
       "% Test set\n",
       "\\newcommand{\\xt}{\\underline{\\x}}\n",
       "\\newcommand{\\yt}{\\underline{\\y}}\n",
       "\\newcommand{\\Xt}{\\underline{\\X}}\n",
       "\\newcommand{\\perfm}{\\mathcal{P}}\n",
       "%\n",
       "% \\ll indexes a layer; we can change the actual letter\n",
       "\\newcommand{\\ll}{l}\n",
       "\\newcommand{\\llp}{{(\\ll)}}\n",
       "%\n",
       "\\newcommand{Thetam}{\\Theta_{-0}}\n",
       "\n",
       "%\n",
       "% \\tt indexes a time step\n",
       "\\newcommand{\\tt}{t}\n",
       "\\newcommand{\\tp}{{(\\tt)}}\n",
       "%\n",
       "\\newcommand{\\loss}{\\mathcal{L}}\n",
       "\\newcommand{\\cost}{\\mathcal{L}}\n",
       "%\n",
       "%                     \n",
       "\\newcommand{\\pdata}{p_\\text{data}}\n",
       "\\newcommand{\\pmodel}{p_\\text{model}}\n",
       "%\n",
       "% SVM\n",
       "\\newcommand{\\margin}{{\\mathbb{m}}}\n",
       "\\newcommand{\\lmk}{\\boldsymbol{\\ell}}\n",
       "%\n",
       "% Functions with arguments\n",
       "\\def\\xsy#1#2{#1^#2}\n",
       "\\def\\rand#1{\\tilde{#1}}\n",
       "\\def\\randx{\\rand{\\x}}\n",
       "\\def\\randy{\\rand{\\y}}\n",
       "\\def\\trans#1{\\dot{#1}}\n",
       "\\def\\transx{\\trans{\\x}}\n",
       "\\def\\transy{\\trans{\\y}}\n",
       "%\n",
       "\\def\\argmax#1{\\underset{#1} {\\operatorname{argmax}} }\n",
       "\\def\\argmin#1{\\underset{#1} {\\operatorname{argmin}} }\n",
       "\\def\\max#1{\\underset{#1} {\\operatorname{max}} }\n",
       "\\def\\min#1{\\underset{#1} {\\operatorname{min}} }\n",
       "%\n",
       "\\def\\pr#1{\\mathcal{p}(#1)}\n",
       "\\def\\cnt#1{\\mathcal{count}_{#1}}\n",
       "\\def\\node#1{\\mathbb{#1}}\n",
       "%\n",
       "\\newcommand{\\floor}[1]{\\left\\lfloor #1 \\right\\rfloor}\n",
       "\\newcommand{\\ceil}[1]{\\left\\lceil #1 \\right\\rceil}\n",
       "%\n",
       "\n",
       "$$\n"
      ],
      "text/plain": [
       "<IPython.core.display.Latex object>"
      ]
     },
     "metadata": {},
     "output_type": "display_data"
    }
   ],
   "source": [
    "%run Latex_macros.ipynb\n",
    "%run beautify_plots.py"
   ]
  },
  {
   "cell_type": "code",
   "execution_count": 2,
   "metadata": {
    "slideshow": {
     "slide_type": "notes"
    }
   },
   "outputs": [],
   "source": [
    "# My standard magic !  You will see this in almost all my notebooks.\n",
    "\n",
    "from IPython.core.interactiveshell import InteractiveShell\n",
    "InteractiveShell.ast_node_interactivity = \"all\"\n",
    "\n",
    "# Reload all modules imported with %aimport\n",
    "%load_ext autoreload\n",
    "%autoreload 1\n",
    "\n",
    "%matplotlib inline"
   ]
  },
  {
   "cell_type": "code",
   "execution_count": 3,
   "metadata": {
    "slideshow": {
     "slide_type": "notes"
    }
   },
   "outputs": [],
   "source": [
    "import numpy as np\n",
    "import pandas as pd\n",
    "import matplotlib.pyplot as plt\n",
    "           \n",
    "from sklearn import datasets, linear_model\n",
    "from sklearn.metrics import mean_squared_error, r2_score\n",
    "\n",
    "import recipe_helper\n",
    "%aimport recipe_helper\n"
   ]
  },
  {
   "cell_type": "markdown",
   "metadata": {
    "slideshow": {
     "slide_type": "slide"
    }
   },
   "source": [
    "We will delve into the details of\n",
    "- Classification task\n",
    "- Dealing with Non-numeric data\n"
   ]
  },
  {
   "cell_type": "markdown",
   "metadata": {
    "slideshow": {
     "slide_type": "slide"
    }
   },
   "source": [
    "Recall: a Classification task has targets that are discrete values.\n",
    "\n",
    "We will begin with the simple Binary Classification task in which the targets have only two possible values\n",
    "- Positive\n",
    "- Negative\n",
    "\n",
    "We will explore an example in depth, following our Recipe for Machine Learning.\n"
   ]
  },
  {
   "cell_type": "markdown",
   "metadata": {
    "slideshow": {
     "slide_type": "subslide"
    }
   },
   "source": [
    "<table>\n",
    "    <tr>\n",
    "        <th><center>Recipe for Machine Learning</center></th>\n",
    "    </tr>\n",
    "    <tr>\n",
    "        <td><img src=\"images/ML_process.jpg\" width=800></td>\n",
    "    </tr>\n",
    "</table>\n",
    "​"
   ]
  },
  {
   "cell_type": "markdown",
   "metadata": {
    "slideshow": {
     "slide_type": "slide"
    }
   },
   "source": [
    "# Get the data\n",
    "\n",
    "## Frame the problem\n",
    "\n",
    "We will introduce the Classification task using an historical event: the sinking of the Titanic.\n",
    "\n",
    "(Also the subject of a famous movies)\n",
    "\n",
    "Our task: given attributes of a passenger on the ship, predict whether the passenger survived."
   ]
  },
  {
   "cell_type": "markdown",
   "metadata": {
    "slideshow": {
     "slide_type": "subslide"
    }
   },
   "source": [
    "Let's visit the notebook section [Get the data](Classification_and_Non_Numerical_Data.ipynb#Frame-the-problem)\n",
    "and perform the following steps\n",
    "- Frame the problem\n",
    "- Get the data\n",
    "- Have a look at the data\n"
   ]
  },
  {
   "cell_type": "markdown",
   "metadata": {
    "slideshow": {
     "slide_type": "slide"
    }
   },
   "source": [
    "## Define a Performance Measure\n",
    "## Create a test set\n",
    "\n",
    "For Regression (continous variable as target), RMSE was our Performance Measure.\n",
    "\n",
    "What is an appropriate measure for a *discrete* target ?\n",
    "\n",
    "Let's visit the notebook section [Define a Performance Measure](Classification_and_Non_Numerical_Data.ipynb#Recipe-A.3:-Select-a-performance-measure)\n",
    "and perform the following steps\n",
    "- Define a performance measure\n",
    "- Create a test set\n"
   ]
  },
  {
   "cell_type": "markdown",
   "metadata": {
    "slideshow": {
     "slide_type": "slide"
    }
   },
   "source": [
    "# Recipe Step B: Exploratory Data Analysis (EDA)\n",
    "\n",
    "There are quite a few features available.\n",
    "\n",
    "Exploratory Data Analysis can help us\n",
    "- Understand each feature in isolation (e.g., distribution)\n",
    "    - May cause us to transform the feature, e.g., scaling\n",
    "- Understand a possible relationship between target (survival) and each feature\n",
    "    - Is this feature useful for predicting survival ?\n",
    "- Understand possible relationships between features\n",
    "- Possibly suggest creating new, synthetic features that alter or combine raw features"
   ]
  },
  {
   "cell_type": "markdown",
   "metadata": {
    "slideshow": {
     "slide_type": "slide"
    }
   },
   "source": [
    "## Visualize Data to gain insights\n",
    "\n",
    "Let's visit the notebook section [Visualize Data](\n",
    "Classification_and_Non_Numerical_Data.ipynb#Recipe-Step-B:-Exploratory-Data-Analysis-(EDA))"
   ]
  },
  {
   "cell_type": "markdown",
   "metadata": {
    "slideshow": {
     "slide_type": "slide"
    }
   },
   "source": [
    "# Prepare the data\n",
    "\n",
    "Time to get our data ready.  The steps we will perform include:\n",
    "- Cleaning\n",
    "- Handling non-numeric attributes\n",
    "- Transformations\n",
    "\n",
    "We will begin by discussing our plans for each step.\n",
    "\n",
    "Let's visit the notebook section [Prepare the data](Classification_and_Non_Numerical_Data.ipynb#Recipe-Step-C:-Prepare-the-data)"
   ]
  },
  {
   "cell_type": "markdown",
   "metadata": {
    "slideshow": {
     "slide_type": "slide"
    }
   },
   "source": [
    "## Code for Prepare the Data\n",
    "\n",
    "We will use an `sklearn` Pipeline to implement the Prepare the Data Step\n",
    "- One Pipeline devoted to numeric features\n",
    "- One Pipeline devoted to categorical features\n",
    "- a `FeatureUnion` Pipeline that combines the numeric and categorical pipelines\n",
    "\n",
    "Let's return to the notebook section [Using a Pipeline](Classification_and_Non_Numerical_Data.ipynb#Recipe-Step-C--using-a-sophisticated-pipeline) to see the code."
   ]
  },
  {
   "cell_type": "markdown",
   "metadata": {
    "slideshow": {
     "slide_type": "slide"
    }
   },
   "source": [
    "# Train a model\n",
    "\n",
    "We will perform the following steps\n",
    "- Select a model\n",
    "- Fit\n",
    "- Cross Validation"
   ]
  },
  {
   "cell_type": "markdown",
   "metadata": {
    "slideshow": {
     "slide_type": "subslide"
    }
   },
   "source": [
    "The main classification model we will discuss is Logistic Regression.\n",
    "\n",
    "But, it turns out:\n",
    "- It is no harder to train *several* models than it is to just train one !\n",
    "- So we will train a number of classification models, even before we formally introduce them\n",
    "- This is the power of `sklearn` and similar toolkits for Machine Learning\n",
    "    - All models have a consistent API: `fit`, `transform`, `predict`\n",
    "    "
   ]
  },
  {
   "cell_type": "markdown",
   "metadata": {
    "slideshow": {
     "slide_type": "subslide"
    }
   },
   "source": [
    "So, after today's lecture: it will no longer be about the code\n",
    "- The code to use most models is nearly identical, thanks to the consistent API\n",
    "- My notebooks will be less \"code-heavy\"\n",
    "    - The code will be isolated into separate modules, which you can examine\n",
    "    - You just won't see the body in the notebook"
   ]
  },
  {
   "cell_type": "markdown",
   "metadata": {
    "slideshow": {
     "slide_type": "subslide"
    }
   },
   "source": [
    "If our goal was to learn an API, we'd be done.\n",
    "\n",
    "But our goal is to pursue a systematic approach to problem solving in Machine Learning, with an emphasis\n",
    "- On process\n",
    "- Understanding concepts, loss functions, etc.\n",
    "- Diagnosing problems with models and improving them\n",
    "\n",
    "Let's return to the notebook section [Train a model](Classification_and_Non_Numerical_Data.ipynb#Recipe-Step-D:-Train-a-model)"
   ]
  },
  {
   "cell_type": "markdown",
   "metadata": {
    "slideshow": {
     "slide_type": "subslide"
    }
   },
   "source": [
    "## Error Analysis\n",
    "\n",
    "Let's introduce some concepts relevant to analyzing errors for the Classification task.\n",
    "\n",
    "We will be very brief, for now.  We will explore this topic in depth in a dedicated module on Error Analysis.\n",
    "\n",
    "Let's return to the notebook section [Error Analysis](Classification_and_Non_Numerical_Data.ipynb#Recipe-D.4:--Error-analysis)"
   ]
  },
  {
   "cell_type": "code",
   "execution_count": 1,
   "metadata": {
    "slideshow": {
     "slide_type": "slide"
    }
   },
   "outputs": [
    {
     "name": "stdout",
     "output_type": "stream",
     "text": [
      "Done\n"
     ]
    }
   ],
   "source": [
    "print(\"Done\")"
   ]
  }
 ],
 "metadata": {
  "celltoolbar": "Slideshow",
  "kernelspec": {
   "display_name": "Python 3",
   "language": "python",
   "name": "python3"
  },
  "language_info": {
   "codemirror_mode": {
    "name": "ipython",
    "version": 3
   },
   "file_extension": ".py",
   "mimetype": "text/x-python",
   "name": "python",
   "nbconvert_exporter": "python",
   "pygments_lexer": "ipython3",
   "version": "3.7.4"
  },
  "toc": {
   "base_numbering": 1,
   "nav_menu": {},
   "number_sections": true,
   "sideBar": true,
   "skip_h1_title": false,
   "title_cell": "Table of Contents",
   "title_sidebar": "Contents",
   "toc_cell": false,
   "toc_position": {
    "height": "calc(100% - 180px)",
    "left": "10px",
    "top": "150px",
    "width": "370.594px"
   },
   "toc_section_display": true,
   "toc_window_display": true
  }
 },
 "nbformat": 4,
 "nbformat_minor": 2
}

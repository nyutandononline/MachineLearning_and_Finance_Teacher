{
  "nbformat": 4,
  "nbformat_minor": 0,
  "metadata": {
    "celltoolbar": "Create Assignment",
    "kernelspec": {
      "display_name": "Python 3",
      "language": "python",
      "name": "python3"
    },
    "language_info": {
      "codemirror_mode": {
        "name": "ipython",
        "version": 3
      },
      "file_extension": ".py",
      "mimetype": "text/x-python",
      "name": "python",
      "nbconvert_exporter": "python",
      "pygments_lexer": "ipython3",
      "version": "3.7.4"
    },
    "toc": {
      "base_numbering": 1,
      "nav_menu": {},
      "number_sections": true,
      "sideBar": true,
      "skip_h1_title": false,
      "title_cell": "Table of Contents",
      "title_sidebar": "Contents",
      "toc_cell": false,
      "toc_position": {},
      "toc_section_display": true,
      "toc_window_display": true
    },
    "colab": {
      "name": "Sentiment_from_reviews.ipynb",
      "provenance": [],
      "collapsed_sections": [
        "gtQ_IGvQBpTS",
        "IoeQjuCDBpTG"
      ]
    },
    "accelerator": "GPU"
  },
  "cells": [
    {
      "cell_type": "markdown",
      "metadata": {
        "id": "yN3g4v8Zl4Fy",
        "colab_type": "text"
      },
      "source": [
        "# Final Project\n"
      ]
    },
    {
      "cell_type": "markdown",
      "metadata": {
        "id": "moP0TbbABpSP",
        "colab_type": "text"
      },
      "source": [
        "# Problem description\n",
        "\n",
        "Time to show off everything you learned !\n",
        "\n",
        "You will be performing a Classification task to analyze the sentiment of product reviews.\n",
        "\n",
        "This is similar to a prior assignment\n",
        "- With a different dataset\n",
        "- Multinomial classification with 5 classes\n",
        "\n",
        "But, by now, you have many more tools at your disposal.\n",
        "\n"
      ]
    },
    {
      "cell_type": "markdown",
      "metadata": {
        "id": "SIA71lpFmaw8",
        "colab_type": "text"
      },
      "source": [
        "## Grading\n",
        "\n",
        "Prior assignments evaluated you step by step.\n",
        "\n",
        "This project is results-based.\n",
        "\n",
        "Your goal is to create a model\n",
        "- That achieves an out of sample accuracy of at least 50%\n",
        "- 60% would be better !\n",
        "\n"
      ]
    },
    {
      "cell_type": "markdown",
      "metadata": {
        "id": "hTcF5G0Cm4RK",
        "colab_type": "text"
      },
      "source": [
        "## Some possible approaches\n",
        "- A review is a sequence of words.  You will need to deal with sequences in some manner.  Some suggestions\n",
        "  - Pooling\n",
        "  - Recurrent Neural Network\n",
        "- Is there an advantage to recognizing *adjacent* words groups (\"n-grams\") rather than treating the document as an unordered set of words ?\n",
        "  - Consider\n",
        "    - \"Machine Learning is easy not hard\"\n",
        "    - \"Machine Learning is hard not easy\"\n",
        "\n",
        "  - Two sentences with identical words but different meaning.\n",
        "  - Hint: Convolutional layer\n",
        "- How should we encode words ?\n",
        "  - OHE ? Embedding ?\n",
        "\n",
        "We will **not specify** an approach.  Feel free to experiment.\n",
        "\n",
        "Your goal is to produce a model with an out of sample accuracy meeting a minimum\n",
        "\n"
      ]
    },
    {
      "cell_type": "markdown",
      "metadata": {
        "id": "tEqGfYbUBpSQ",
        "colab_type": "text"
      },
      "source": [
        "## Learning objectives\n",
        "- Experimentation !\n",
        "- Error Analysis leading to model improvement\n",
        "- Appreciate how choices impact number of weights\n",
        "\n",
        "-"
      ]
    },
    {
      "cell_type": "code",
      "metadata": {
        "id": "YEymKyG6BpSR",
        "colab_type": "code",
        "colab": {
          "base_uri": "https://localhost:8080/",
          "height": 51
        },
        "outputId": "b750031b-abfe-4bc5-e2e5-f2247fed6b9b"
      },
      "source": [
        "import tensorflow as tf\n",
        "\n",
        "print(\"Running TensorFlow version \",tf.__version__)\n",
        "\n",
        "# Parse tensorflow version\n",
        "import re\n",
        "\n",
        "version_match = re.match(\"([0-9]+)\\.([0-9]+)\", tf.__version__)\n",
        "tf_major, tf_minor = int(version_match.group(1)) , int(version_match.group(2))\n",
        "print(\"Version {v:d}, minor {m:d}\".format(v=tf_major, m=tf_minor) )"
      ],
      "execution_count": 1,
      "outputs": [
        {
          "output_type": "stream",
          "text": [
            "Running TensorFlow version  2.3.0\n",
            "Version 2, minor 3\n"
          ],
          "name": "stdout"
        }
      ]
    },
    {
      "cell_type": "code",
      "metadata": {
        "id": "NiwvVQUJBpSV",
        "colab_type": "code",
        "colab": {}
      },
      "source": [
        "# My standard magic !  You will see this in almost all my notebooks.\n",
        "\n",
        "from IPython.core.interactiveshell import InteractiveShell\n",
        "InteractiveShell.ast_node_interactivity = \"all\"\n",
        "\n",
        "# Reload all modules imported with %aimport\n",
        "%load_ext autoreload\n",
        "%autoreload 1\n",
        "\n",
        "%matplotlib inline"
      ],
      "execution_count": 2,
      "outputs": []
    },
    {
      "cell_type": "code",
      "metadata": {
        "id": "pip3Cj07CWMD",
        "colab_type": "code",
        "colab": {
          "base_uri": "https://localhost:8080/",
          "height": 34
        },
        "outputId": "e9758b8b-2b11-46f5-8fd4-11c8fc546b44"
      },
      "source": [
        "try:\n",
        "  from google.colab import drive\n",
        "  IN_COLAB=True\n",
        "except:\n",
        "  IN_COLAB=False\n",
        "\n",
        "if IN_COLAB:\n",
        "  print(\"We're running Colab\")"
      ],
      "execution_count": 3,
      "outputs": [
        {
          "output_type": "stream",
          "text": [
            "We're running Colab\n"
          ],
          "name": "stdout"
        }
      ]
    },
    {
      "cell_type": "code",
      "metadata": {
        "id": "bY1foRHPCPWX",
        "colab_type": "code",
        "colab": {
          "base_uri": "https://localhost:8080/",
          "height": 154
        },
        "outputId": "46d02470-1c89-4ff8-d1be-74aa09ca2aa5"
      },
      "source": [
        "if IN_COLAB:\n",
        "  # Mount the Google Drive at mount\n",
        "  mount='/content/gdrive'\n",
        "  print(\"Colab: mounting Google drive on \", mount)\n",
        "\n",
        "  drive.mount(mount)\n",
        "  import os\n",
        "  drive_root = os.path.join(mount, \"My Drive/Colab Notebooks/NYU/demo/edX\")\n",
        "     \n",
        "  # Create drive_root if it doesn't exist\n",
        "  create_drive_root = True\n",
        "  if create_drive_root:\n",
        "    print(\"\\nColab: making sure \", drive_root, \" exists.\")\n",
        "    os.makedirs(drive_root, exist_ok=True)\n",
        "   \n",
        "  # Change to the directory\n",
        "  proj_name = \"sentiment_from_tweets\"\n",
        "  proj_root = os.path.join(drive_root, proj_name)\n",
        "  print(\"\\nColab: Changing directory to \", proj_root)\n",
        " \n",
        "else:\n",
        "    print(\"Running locally\")\n",
        "    proj_root=\".\"\n",
        "    # raise RuntimeError(\"This notebook should be run from Colab, not on the local machine\")\n",
        "\n",
        "%cd $proj_root \n",
        "%pwd"
      ],
      "execution_count": 4,
      "outputs": [
        {
          "output_type": "stream",
          "text": [
            "Colab: mounting Google drive on  /content/gdrive\n",
            "Drive already mounted at /content/gdrive; to attempt to forcibly remount, call drive.mount(\"/content/gdrive\", force_remount=True).\n",
            "\n",
            "Colab: making sure  /content/gdrive/My Drive/Colab Notebooks/NYU/demo/edX  exists.\n",
            "\n",
            "Colab: Changing directory to  /content/gdrive/My Drive/Colab Notebooks/NYU/demo/edX/sentiment_from_tweets\n",
            "/content/gdrive/My Drive/Colab Notebooks/NYU/demo/edX/sentiment_from_tweets\n"
          ],
          "name": "stdout"
        },
        {
          "output_type": "execute_result",
          "data": {
            "application/vnd.google.colaboratory.intrinsic+json": {
              "type": "string"
            },
            "text/plain": [
              "'/content/gdrive/My Drive/Colab Notebooks/NYU/demo/edX/sentiment_from_tweets'"
            ]
          },
          "metadata": {
            "tags": []
          },
          "execution_count": 4
        }
      ]
    },
    {
      "cell_type": "code",
      "metadata": {
        "id": "iVQZweEzBpSX",
        "colab_type": "code",
        "colab": {}
      },
      "source": [
        "import numpy as np\n",
        "import pandas as pd\n",
        "import matplotlib.pyplot as plt\n",
        "\n",
        "import sklearn\n",
        "from sklearn import preprocessing\n",
        "\n",
        "import os\n",
        "import math\n",
        "\n",
        "%matplotlib inline"
      ],
      "execution_count": 5,
      "outputs": []
    },
    {
      "cell_type": "code",
      "metadata": {
        "id": "MljGZQeKBpSa",
        "colab_type": "code",
        "colab": {}
      },
      "source": [
        "import tensorflow as tf\n",
        "import pandas as pd\n",
        "\n",
        "import re"
      ],
      "execution_count": 6,
      "outputs": []
    },
    {
      "cell_type": "code",
      "metadata": {
        "id": "efiTwPiKBpSc",
        "colab_type": "code",
        "colab": {}
      },
      "source": [
        "from __future__ import print_function\n",
        "\n",
        "from tensorflow.keras.preprocessing import sequence\n",
        "from tensorflow.keras.models import Sequential\n",
        "from tensorflow.keras.layers import Dense, Dropout, Activation\n",
        "from tensorflow.keras.layers import Embedding\n",
        "from tensorflow.keras.layers import Conv1D, GlobalMaxPooling1D, LSTM\n",
        "\n",
        "from tensorflow.keras.callbacks import EarlyStopping, ModelCheckpoint\n",
        "\n",
        "from tensorflow.keras.utils import plot_model\n",
        "import IPython"
      ],
      "execution_count": 7,
      "outputs": []
    },
    {
      "cell_type": "markdown",
      "metadata": {
        "id": "7bmNajQkBpSf",
        "colab_type": "text"
      },
      "source": [
        "# API for students\n",
        "\n",
        "We will define some utility routines.\n",
        "\n",
        "This will simplify problem solving\n",
        "\n",
        "More importantly: it adds structure to your submission so that it may be easily graded\n",
        "\n",
        "- getData: Get a collection of labelled images, used as follows\n",
        "\n",
        "  >`data, labels = getData()`\n",
        "- showData: Visualize labelled images, used as follows\n",
        "\n",
        "  >`showData(data, labels)`\n",
        "\n",
        "- train: train a model and visualize its progress, used as follows\n",
        "\n",
        "  >`train(model, X_train, y_train, model_name, epochs=max_epochs)`\n"
      ]
    },
    {
      "cell_type": "code",
      "metadata": {
        "id": "iZZ-UP1jBpSf",
        "colab_type": "code",
        "colab": {
          "base_uri": "https://localhost:8080/",
          "height": 35
        },
        "outputId": "0d0c5103-cb46-4337-9467-b779b6cfe464"
      },
      "source": [
        "from tensorflow.keras.preprocessing.text import Tokenizer\n",
        "from tensorflow.keras.preprocessing import sequence\n",
        "\n",
        "import os, gzip, json\n",
        "\n",
        "DATA_DIR = \"./data\"\n",
        "\n",
        "# File-specific info\n",
        "data_file = \"Software_5.json.gz\"\n",
        "textAttr, sentAttr, titleAttr = \"reviewText\", \"overall\", \"title\"\n",
        "\n",
        "\n",
        "\n",
        "\"\"\"\n",
        " Parameters:\n",
        "- vocab_size : number of words in the vocabulary \n",
        "- words_in_doc: number of words in a review\n",
        "\n",
        "\"\"\"\n",
        "\n",
        "#\n",
        "# set parameters:\n",
        "vocab_size_sm, words_in_doc_sm = 400, 100\n",
        "\n",
        "\n",
        "special = { \"<PAD>\": 0, \n",
        "           }\n",
        "\n",
        "def getDataRaw(dropAttrs=[\"summary\"]):\n",
        "  data = []\n",
        "  \n",
        "  with gzip.open( os.path.join(DATA_DIR, data_file) ) as f:\n",
        "      for l in f:\n",
        "          data.append(json.loads(l.strip()))\n",
        "    \n",
        "  df = pd.DataFrame.from_dict(data)\n",
        "\n",
        "  # Drop attributes that may unfairly improve the model\n",
        "  df.drop(columns=dropAttrs, inplace=True)\n",
        "  return df\n",
        "\n",
        "def getData(maxlen=1000, sample_size=4000):\n",
        "  data_raw = getDataRaw()\n",
        "\n",
        "  # Drop text that is too long\n",
        "  data = data_raw[ data_raw.reviewText.str.len() < maxlen ]\n",
        "\n",
        "  # Make the dataset smaller\n",
        "  sample_size=4000\n",
        "  data = data.sample(n=sample_size, random_state=42)\n",
        "\n",
        "  return data\n",
        "\n",
        "\n",
        "def getTextClean(data_raw):\n",
        "    # Filter out rows with missing reveiws\n",
        "    mask = data_raw[textAttr].isnull() \n",
        "    data_raw = data_raw[ ~mask ]\n",
        "    docs = data_raw[textAttr].values\n",
        "    \n",
        "    # We will treat the sentiment values as Categorical, rather than numeric\n",
        "    le = sklearn.preprocessing.LabelEncoder(  )\n",
        "    sents = le.fit_transform( data_raw[ sentAttr] )\n",
        "    \n",
        "    return docs, sents\n",
        "\n",
        "def encodeDocs(docs, vocab_size=vocab_size_sm, words_in_doc=words_in_doc_sm):\n",
        "  tok = Tokenizer(num_words=vocab_size, oov_token=\"<OOV>\")\n",
        "  tok.fit_on_texts(docs)\n",
        "\n",
        "  encoded_docs = tok.texts_to_sequences(docs)\n",
        "  encoded_docs_padded = sequence.pad_sequences(encoded_docs, maxlen=words_in_doc, padding='pre')\n",
        "\n",
        "  return tok, encoded_docs, encoded_docs_padded\n",
        "\n",
        "\n",
        "def showEncodedDocs(tok, encoded_docs_padded):\n",
        "    word_index = tok.word_index\n",
        "    \n",
        "    # Add the special characters to the word to index map\n",
        "    for word, idx in special.items():\n",
        "      word_index[word] = idx\n",
        "\n",
        "    # Reverse map: index to word\n",
        "    # Index_word: map index to word\n",
        "    index_word = { idx:w for (w, idx) in word_index.items() }\n",
        "\n",
        "    for i, rev in enumerate(encoded_docs_padded[0:5]):\n",
        "      # Map each index in the example back to word\n",
        "      rev_words = [ index_word[idx] for idx in rev if idx != 0]\n",
        "      print(\"{i:d}:\\t{r:s}\".format(i=i,  r= \" \".join(rev_words)) )\n",
        "      # sent = y_train[i]\n",
        "      # print(\"{i:d}:\\t({sent:s})\\t{r:s}\".format(i=i, sent=sentiment[y_train[i]], r= \" \".join(rev_words)) )\n",
        "\n",
        "def createOHE(vocab_size):\n",
        "  mat = np.diag( np.ones(vocab_size))\n",
        "  return mat\n",
        "\n",
        "def getExamplesOHE(encoded_docs_padded, sents, vocab_size=vocab_size_sm):\n",
        "    OHE = createOHE(vocab_size)\n",
        "    X = np.zeros( (encoded_docs_padded.shape[0], encoded_docs_padded.shape[1], vocab_size) )\n",
        "\n",
        "    # Convert each word to a OHE representation\n",
        "    for doc_num in range(0, encoded_docs_padded.shape[0]):\n",
        "        encoded_doc = encoded_docs_padded[doc_num]\n",
        "        ohe_encoded_doc = OHE[ encoded_doc ]\n",
        "\n",
        "        X[doc_num] = ohe_encoded_doc\n",
        "\n",
        "    y = sents\n",
        "    \n",
        "    return X, y\n",
        "\n",
        "   "
      ],
      "execution_count": 8,
      "outputs": [
        {
          "output_type": "execute_result",
          "data": {
            "application/vnd.google.colaboratory.intrinsic+json": {
              "type": "string"
            },
            "text/plain": [
              "'\\n Parameters:\\n- vocab_size : number of words in the vocabulary \\n- words_in_doc: number of words in a review\\n\\n'"
            ]
          },
          "metadata": {
            "tags": []
          },
          "execution_count": 8
        }
      ]
    },
    {
      "cell_type": "markdown",
      "metadata": {
        "nbgrader": {
          "grade": false,
          "grade_id": "cell-8d472d899033db98",
          "locked": true,
          "schema_version": 3,
          "solution": false,
          "task": false
        },
        "id": "SUC-6ApoBpS6",
        "colab_type": "text"
      },
      "source": [
        "# Utility functions"
      ]
    },
    {
      "cell_type": "code",
      "metadata": {
        "nbgrader": {
          "grade": false,
          "grade_id": "cell-10c035c75123ed71",
          "locked": true,
          "schema_version": 3,
          "solution": false,
          "task": false
        },
        "id": "NZbdLLXIBpS7",
        "colab_type": "code",
        "colab": {}
      },
      "source": [
        "import matplotlib.pyplot as plt\n",
        "from tensorflow.keras.utils import plot_model\n",
        "\n",
        "def plotModel(model, modelName):\n",
        "  plotFile = modelName + \".png\"\n",
        "  plot_model(model, plotFile, show_shapes=True)\n",
        "\n",
        "  return plotFile\n",
        "\n",
        "def plot_training(history, metric=\"acc\"):\n",
        "  \"\"\"\n",
        "  Plot training and validation statistics\n",
        "  - accuracy vs epoch number\n",
        "  - loss     vs epoch number\n",
        "  \n",
        "  From https://www.learnopencv.com/keras-tutorial-fine-tuning-using-pre-trained-models/\n",
        "  \"\"\"  \n",
        "  \n",
        "  # Accuracy\n",
        "  acc = history.history[metric]\n",
        "  val_acc = history.history['val_' + metric]\n",
        "  \n",
        "  # Loss\n",
        "  loss = history.history['loss']\n",
        "  val_loss = history.history['val_loss']\n",
        "\n",
        "  epochs = range(len(acc))\n",
        "\n",
        "  plt.plot(epochs, acc, 'b', label='Training ' + metric)\n",
        "  plt.plot(epochs, val_acc, 'r', label='Validation ' + metric)\n",
        "  plt.title('Training and validation ' + metric)\n",
        "  plt.legend()\n",
        "\n",
        "  plt.figure()\n",
        "\n",
        "  plt.plot(epochs, loss, 'b', label='Training loss')\n",
        "  plt.plot(epochs, val_loss, 'r', label='Validation loss')\n",
        "  plt.title('Training and validation loss')\n",
        "  plt.legend()\n",
        "\n",
        "  plt.show()"
      ],
      "execution_count": 9,
      "outputs": []
    },
    {
      "cell_type": "code",
      "metadata": {
        "nbgrader": {
          "grade": false,
          "grade_id": "cell-2b40d98739eb141e",
          "locked": true,
          "schema_version": 3,
          "solution": false,
          "task": false
        },
        "id": "bXKJ0JmWBpS-",
        "colab_type": "code",
        "colab": {}
      },
      "source": [
        "patience = 5\n",
        "min_delta = .005\n",
        "max_epochs=30\n",
        "\n",
        "def trainModel(model, X, y, num_epochs=max_epochs, metric=\"mse\"):\n",
        "    X_train, X_val, y_train, y_val = train_test_split(X, y, test_size=0.10, random_state=42)\n",
        "    model.compile(loss='mse',\n",
        "                metrics=[metric]\n",
        "                )\n",
        "    \n",
        "    es_callback = EarlyStopping(monitor='val_loss', min_delta=min_delta, patience=patience, verbose=0, mode='auto', baseline=None, restore_best_weights=True)\n",
        "\n",
        "    callbacks = [ #es_callback,\n",
        "            # ModelCheckpoint(filepath=modelName + \".ckpt\", monitor='acc', save_best_only=True)\n",
        "            ] \n",
        "    \n",
        "    history = model.fit(X_train, y_train,\n",
        "        epochs=num_epochs,\n",
        "        validation_data=(X_val, y_val),\n",
        "        callbacks=callbacks)\n",
        "\n",
        "    return history\n",
        "\n",
        "def trainModelCat(model, X, y, num_epochs=max_epochs, metric=\"acc\"):\n",
        "    X_train, X_val, y_train, y_val = train_test_split(X, y, test_size=0.10, random_state=42)\n",
        "    model.compile(loss='sparse_categorical_crossentropy',\n",
        "                metrics=[metric]\n",
        "                )\n",
        "    es_callback = EarlyStopping(monitor='val_loss', min_delta=min_delta, patience=patience, verbose=0, mode='auto', baseline=None, restore_best_weights=True)\n",
        "    \n",
        "\n",
        "    callbacks = [ es_callback,\n",
        "            # ModelCheckpoint(filepath=modelName + \".ckpt\", monitor='acc', save_best_only=True)\n",
        "            ] \n",
        "   \n",
        "    history = model.fit(X_train, y_train,\n",
        "        epochs=num_epochs,\n",
        "        validation_data=(X_val, y_val),\n",
        "        callbacks=callbacks)\n",
        "\n",
        "    return history\n",
        "\n",
        "def eval_model(model, X, y):\n",
        "  metrics = model.evaluate(x=X, y=y)\n",
        "\n",
        "  result = {}\n",
        "  for i, metric in enumerate(model.metrics_names):\n",
        "    result[metric] = metrics[i]\n",
        "    print( \"{name:s}:{val:3.2f}\".format(name=metric, val=float(metrics[i])) )\n",
        "\n",
        "  return result\n"
      ],
      "execution_count": 10,
      "outputs": []
    },
    {
      "cell_type": "markdown",
      "metadata": {
        "id": "OHUZacWsBpSi",
        "colab_type": "text"
      },
      "source": [
        "\n",
        "\n",
        "## Get the reviews (as text)\n",
        "- ***Teacher version:** include code to read and format the raw data, producing a file for the students.  Hide this from student\n",
        "\n",
        "- **Student version:** read file prepared by teacher version\n"
      ]
    },
    {
      "cell_type": "code",
      "metadata": {
        "id": "OUhrnGczBpSi",
        "colab_type": "code",
        "colab": {}
      },
      "source": [
        "data_raw = getData()\n"
      ],
      "execution_count": 11,
      "outputs": []
    },
    {
      "cell_type": "code",
      "metadata": {
        "id": "z6x5Q--mJXDE",
        "colab_type": "code",
        "colab": {
          "base_uri": "https://localhost:8080/",
          "height": 204
        },
        "outputId": "2463af1a-fda4-4288-8616-5d333c772acf"
      },
      "source": [
        "data_raw.head()"
      ],
      "execution_count": 12,
      "outputs": [
        {
          "output_type": "execute_result",
          "data": {
            "text/html": [
              "<div>\n",
              "<style scoped>\n",
              "    .dataframe tbody tr th:only-of-type {\n",
              "        vertical-align: middle;\n",
              "    }\n",
              "\n",
              "    .dataframe tbody tr th {\n",
              "        vertical-align: top;\n",
              "    }\n",
              "\n",
              "    .dataframe thead th {\n",
              "        text-align: right;\n",
              "    }\n",
              "</style>\n",
              "<table border=\"1\" class=\"dataframe\">\n",
              "  <thead>\n",
              "    <tr style=\"text-align: right;\">\n",
              "      <th></th>\n",
              "      <th>overall</th>\n",
              "      <th>verified</th>\n",
              "      <th>reviewTime</th>\n",
              "      <th>reviewerID</th>\n",
              "      <th>asin</th>\n",
              "      <th>style</th>\n",
              "      <th>reviewerName</th>\n",
              "      <th>reviewText</th>\n",
              "      <th>unixReviewTime</th>\n",
              "      <th>vote</th>\n",
              "      <th>image</th>\n",
              "    </tr>\n",
              "  </thead>\n",
              "  <tbody>\n",
              "    <tr>\n",
              "      <th>5000</th>\n",
              "      <td>5.0</td>\n",
              "      <td>True</td>\n",
              "      <td>12 29, 2010</td>\n",
              "      <td>A33XMCG1UFDSY2</td>\n",
              "      <td>B003YJ5DKG</td>\n",
              "      <td>{'Platform:': ' PC Disc'}</td>\n",
              "      <td>Nat Fruci</td>\n",
              "      <td>Quicken is an excellent financial tracking pro...</td>\n",
              "      <td>1293580800</td>\n",
              "      <td>NaN</td>\n",
              "      <td>NaN</td>\n",
              "    </tr>\n",
              "    <tr>\n",
              "      <th>7824</th>\n",
              "      <td>5.0</td>\n",
              "      <td>True</td>\n",
              "      <td>05 4, 2014</td>\n",
              "      <td>A327HI0M9QL7JR</td>\n",
              "      <td>B00E6ONJJU</td>\n",
              "      <td>{'Platform:': ' PC Disc'}</td>\n",
              "      <td>Robert A. Hansen</td>\n",
              "      <td>I prefer Kaspersky over any of the free anti-v...</td>\n",
              "      <td>1399161600</td>\n",
              "      <td>NaN</td>\n",
              "      <td>NaN</td>\n",
              "    </tr>\n",
              "    <tr>\n",
              "      <th>12119</th>\n",
              "      <td>5.0</td>\n",
              "      <td>True</td>\n",
              "      <td>05 10, 2013</td>\n",
              "      <td>A2CJ4DLE8TWAGL</td>\n",
              "      <td>B01F7RJHIQ</td>\n",
              "      <td>{'Format:': ' DVD-ROM'}</td>\n",
              "      <td>Mitchell</td>\n",
              "      <td>Works with Windows 7 and 8 and XP, and for 3 P...</td>\n",
              "      <td>1368144000</td>\n",
              "      <td>NaN</td>\n",
              "      <td>NaN</td>\n",
              "    </tr>\n",
              "    <tr>\n",
              "      <th>11308</th>\n",
              "      <td>1.0</td>\n",
              "      <td>True</td>\n",
              "      <td>05 17, 2018</td>\n",
              "      <td>A3NRQZDIN9CIZ0</td>\n",
              "      <td>B0148BYIAO</td>\n",
              "      <td>{'Platform:': ' PC Download'}</td>\n",
              "      <td>Michael Perine</td>\n",
              "      <td>Received the card key.  Very difficult to load...</td>\n",
              "      <td>1526515200</td>\n",
              "      <td>NaN</td>\n",
              "      <td>NaN</td>\n",
              "    </tr>\n",
              "    <tr>\n",
              "      <th>1401</th>\n",
              "      <td>2.0</td>\n",
              "      <td>True</td>\n",
              "      <td>04 25, 2008</td>\n",
              "      <td>A1EH2S92FHWZRP</td>\n",
              "      <td>B000HCVR3K</td>\n",
              "      <td>NaN</td>\n",
              "      <td>Just a guy</td>\n",
              "      <td>I am a fairly well educated person who is hand...</td>\n",
              "      <td>1209081600</td>\n",
              "      <td>5</td>\n",
              "      <td>NaN</td>\n",
              "    </tr>\n",
              "  </tbody>\n",
              "</table>\n",
              "</div>"
            ],
            "text/plain": [
              "       overall  verified   reviewTime  ... unixReviewTime vote image\n",
              "5000       5.0      True  12 29, 2010  ...     1293580800  NaN   NaN\n",
              "7824       5.0      True   05 4, 2014  ...     1399161600  NaN   NaN\n",
              "12119      5.0      True  05 10, 2013  ...     1368144000  NaN   NaN\n",
              "11308      1.0      True  05 17, 2018  ...     1526515200  NaN   NaN\n",
              "1401       2.0      True  04 25, 2008  ...     1209081600    5   NaN\n",
              "\n",
              "[5 rows x 11 columns]"
            ]
          },
          "metadata": {
            "tags": []
          },
          "execution_count": 12
        }
      ]
    },
    {
      "cell_type": "code",
      "metadata": {
        "id": "2XffyPrDedWO",
        "colab_type": "code",
        "colab": {
          "base_uri": "https://localhost:8080/",
          "height": 34
        },
        "outputId": "14c176e6-c6f4-4820-fc38-0b9f9fb3f625"
      },
      "source": [
        "data_raw.shape\n",
        "\n"
      ],
      "execution_count": 13,
      "outputs": [
        {
          "output_type": "execute_result",
          "data": {
            "text/plain": [
              "(4000, 11)"
            ]
          },
          "metadata": {
            "tags": []
          },
          "execution_count": 13
        }
      ]
    },
    {
      "cell_type": "markdown",
      "metadata": {
        "id": "xN_lWRgsBpSl",
        "colab_type": "text"
      },
      "source": [
        "## Data preprocessing\n",
        "\n",
        "The reviews are in the \"reviewText\" attribute.\n",
        "\n",
        "\n",
        "\n",
        "You may try to use other attributes as additional features if you choose, but we suggest that your first model may use this as the only source of features.\n"
      ]
    },
    {
      "cell_type": "markdown",
      "metadata": {
        "id": "o0ufUriSrtp6",
        "colab_type": "text"
      },
      "source": [
        "# Get the labelled training data\n",
        "- Features: docs.  Each document is a single review (sequence of characters)\n",
        "- Targets/Labels: sents. Each is the sentiment associated with the review."
      ]
    },
    {
      "cell_type": "code",
      "metadata": {
        "id": "vwoaUwe-BpSm",
        "colab_type": "code",
        "colab": {
          "base_uri": "https://localhost:8080/",
          "height": 190
        },
        "outputId": "ff9004ae-0baf-4341-b343-f66d647ffe06"
      },
      "source": [
        "docs, sents = getTextClean(data_raw)\n",
        "\n",
        "print(\"Docs shape is \", docs.shape)\n",
        "print(\"Sents shape is \", sents.shape)\n",
        "\n",
        "docs[:5]\n",
        "print(\"\\nPossible sentiment values: \",  np.unique(sents) ) \n"
      ],
      "execution_count": 14,
      "outputs": [
        {
          "output_type": "stream",
          "text": [
            "Docs shape is  (4000,)\n",
            "Sents shape is  (4000,)\n"
          ],
          "name": "stdout"
        },
        {
          "output_type": "execute_result",
          "data": {
            "text/plain": [
              "array(['Quicken is an excellent financial tracking program.  It helps in the documentation of all expenses and income.  This allows one to monitor spending.',\n",
              "       'I prefer Kaspersky over any of the free anti-virus programs out there.  Kaspersky is simple to use.  It is fast and works well.',\n",
              "       'Works with Windows 7 and 8 and XP, and for 3 PC, will be the last time we see this and the only reason we bought it now, just to have Word and Excel before it became a 1 PC or yearly subscription.',\n",
              "       'Received the card key.  Very difficult to load.  Microsoft kept saying that the product key is not in the database.  When I finally got MS to accept the product key, I got a statement that the product has expired on April 7, 2018, before the card key was even shipped.  This product is not even described as an annual subscription, but as a one-time purchase.  This is the second problem in a row that I have had with Amazon.  19% of the reviews for this product were one star.  Amazon, fix this problem.',\n",
              "       'I am a fairly well educated person who is handy around the house.  It took a 25 minute call with Microsoft customer support to get the box open.  Customer support had to pull up a diagram and walk me through 18 steps.'],\n",
              "      dtype=object)"
            ]
          },
          "metadata": {
            "tags": []
          },
          "execution_count": 14
        },
        {
          "output_type": "stream",
          "text": [
            "\n",
            "Possible sentiment values:  [0 1 2 3 4]\n"
          ],
          "name": "stdout"
        }
      ]
    },
    {
      "cell_type": "markdown",
      "metadata": {
        "id": "AJyBBa-PBpSo",
        "colab_type": "text"
      },
      "source": [
        "## More data preprocessing\n",
        "\n",
        "We will need to convert the text in a *sequence* of numbers\n",
        "- Break text up into words\n",
        "- Assign each word a distinct integer\n",
        "\n",
        "Moreover, it will be easier if all sequences have the same length.\n",
        "We can add a \"padding\" character to the front if necessary.\n",
        "\n",
        "We do this for you below.\n",
        "\n",
        "Our method returns\n",
        "- encoded_docs_padded: A matrix of training example *features*\n",
        "  - Each row is an example\n",
        "  - Each row is a *sequence* of fixed length\n",
        "  - Each element of the sequence is an integer, encoding a word in the vocabulary\n",
        "  - The sequence length of every example is *identical* because we have prepended padding if necessary\n",
        "- encoded_docs: A matrix of *unpadded* training example *features*\n",
        "- tok: the Tokenizer used to\n",
        "  - parse strings of characters into words\n",
        "  - encoded each word as an integer\n",
        "\n",
        "\n",
        "You may study our methods parameters and modify them if you wish, e.g., alter the size of the vocabulary or length of sequences.\n",
        "\n",
        "We suggest that your first model uses\n",
        "- encoded_docs_padded as your set of training features, e.g., X\n",
        "- sents: as your targets\n",
        "with the default settings of the method.\n",
        "\n"
      ]
    },
    {
      "cell_type": "code",
      "metadata": {
        "id": "ggdZME_FBpSo",
        "colab_type": "code",
        "colab": {
          "base_uri": "https://localhost:8080/",
          "height": 459
        },
        "outputId": "4d3b180b-9337-4374-8772-f5b29e35f196"
      },
      "source": [
        "\n",
        "\n",
        "tok, encoded_docs, encoded_docs_padded = encodeDocs(docs, vocab_size=vocab_size_sm, words_in_doc=words_in_doc_sm)\n",
        "\n",
        "print(\"Training example features shape: \",encoded_docs_padded.shape)\n",
        "\n",
        "print(\"Training example features: preview\")\n",
        "encoded_docs_padded[:3]\n",
        "\n"
      ],
      "execution_count": 15,
      "outputs": [
        {
          "output_type": "stream",
          "text": [
            "Training example features shape:  (4000, 100)\n",
            "Training example features: preview\n"
          ],
          "name": "stdout"
        },
        {
          "output_type": "execute_result",
          "data": {
            "text/plain": [
              "array([[  0,   0,   0,   0,   0,   0,   0,   0,   0,   0,   0,   0,   0,\n",
              "          0,   0,   0,   0,   0,   0,   0,   0,   0,   0,   0,   0,   0,\n",
              "          0,   0,   0,   0,   0,   0,   0,   0,   0,   0,   0,   0,   0,\n",
              "          0,   0,   0,   0,   0,   0,   0,   0,   0,   0,   0,   0,   0,\n",
              "          0,   0,   0,   0,   0,   0,   0,   0,   0,   0,   0,   0,   0,\n",
              "          0,   0,   0,   0,   0,   0,   0,   0,   0,   0,   0,   0, 125,\n",
              "          8,  39, 287,   1,   1,  31,   7,   1,  17,   2,   1,  11,  30,\n",
              "          1,   5,   1,   9,   1,  45,   3,   1,   1],\n",
              "       [  0,   0,   0,   0,   0,   0,   0,   0,   0,   0,   0,   0,   0,\n",
              "          0,   0,   0,   0,   0,   0,   0,   0,   0,   0,   0,   0,   0,\n",
              "          0,   0,   0,   0,   0,   0,   0,   0,   0,   0,   0,   0,   0,\n",
              "          0,   0,   0,   0,   0,   0,   0,   0,   0,   0,   0,   0,   0,\n",
              "          0,   0,   0,   0,   0,   0,   0,   0,   0,   0,   0,   0,   0,\n",
              "          0,   0,   0,   0,   0,   0,   0,   0,   0,   0,   0,   4,   1,\n",
              "        280, 109,  84,  11,   2, 118, 260, 141, 119,  68,  62, 280,   8,\n",
              "        165,   3,  24,   7,   8, 290,   5,  76,  67],\n",
              "       [  0,   0,   0,   0,   0,   0,   0,   0,   0,   0,   0,   0,   0,\n",
              "          0,   0,   0,   0,   0,   0,   0,   0,   0,   0,   0,   0,   0,\n",
              "          0,   0,   0,   0,   0,   0,   0,   0,   0,   0,   0,   0,   0,\n",
              "          0,   0,   0,   0,   0,   0,   0,   0,   0,   0,   0,   0,   0,\n",
              "          0,   0,   0,   0,   0,  76,  14,  55, 127,   5, 156,   5, 223,\n",
              "          5,  10, 171, 105,  43,  26,   2, 214,  65, 123, 216,   9,   5,\n",
              "          2,  85,   1, 123, 188,   7,  94,  52,   3,  15, 248,   5,   1,\n",
              "        169,   7,   1,   6, 148, 105,  32,   1,   1]], dtype=int32)"
            ]
          },
          "metadata": {
            "tags": []
          },
          "execution_count": 15
        }
      ]
    },
    {
      "cell_type": "markdown",
      "metadata": {
        "id": "RSPg2B1RBpSq",
        "colab_type": "text"
      },
      "source": [
        "## Verify that our encoded documents are the same as the cleaned original\n",
        "\n",
        "At this point: convince yourself that all we have done was encode words as integers and pad out all text to the same length.  The following will demonstrate this"
      ]
    },
    {
      "cell_type": "code",
      "metadata": {
        "id": "9HDv4_BXBpSr",
        "colab_type": "code",
        "colab": {
          "base_uri": "https://localhost:8080/",
          "height": 122
        },
        "outputId": "7a675806-1dd5-4c8b-c0a0-882a67866da4"
      },
      "source": [
        "showEncodedDocs(tok, encoded_docs_padded)"
      ],
      "execution_count": 16,
      "outputs": [
        {
          "output_type": "stream",
          "text": [
            "0:\tquicken is an excellent <OOV> <OOV> program it <OOV> in the <OOV> of all <OOV> and <OOV> this <OOV> one to <OOV> <OOV>\n",
            "1:\ti <OOV> kaspersky over any of the free anti virus programs out there kaspersky is simple to use it is fast and works well\n",
            "2:\tworks with windows 7 and 8 and xp and for 3 pc will be the last time we see this and the only <OOV> we bought it now just to have word and <OOV> before it <OOV> a 1 pc or <OOV> <OOV>\n",
            "3:\t<OOV> the card key very <OOV> to <OOV> microsoft <OOV> <OOV> that the product key is not in the <OOV> when i <OOV> got ms to <OOV> the product key i got a <OOV> that the product has <OOV> on <OOV> 7 <OOV> before the card key was even <OOV> this product is not even <OOV> as an <OOV> <OOV> but as a one time purchase this is the <OOV> problem in a <OOV> that i have had with amazon <OOV> of the reviews for this product were one <OOV> amazon <OOV> this problem\n",
            "4:\ti am a <OOV> well <OOV> <OOV> who is <OOV> around the <OOV> it took a <OOV> <OOV> <OOV> with microsoft customer support to get the <OOV> open customer support had to <OOV> up a <OOV> and <OOV> me through <OOV> <OOV>\n"
          ],
          "name": "stdout"
        }
      ]
    },
    {
      "cell_type": "markdown",
      "metadata": {
        "id": "PXTltHXxx10g",
        "colab_type": "text"
      },
      "source": [
        "# Split the examples into training and test (out of sample) data\n",
        "- The number of test examples should be 10% of the total\n"
      ]
    },
    {
      "cell_type": "code",
      "metadata": {
        "id": "FzxNUXNXvu7r",
        "colab_type": "code",
        "colab": {}
      },
      "source": [
        "# Set the following variables\n",
        "# - X_train: ndarray of training example features\n",
        "# - X_test:  ndarray of test example features\n",
        "# - y_train: ndarray of training example targets\n",
        "# - y_test:  ndarray of test example targets\n",
        "\n",
        "### BEGIN SOLUTION\n",
        "from sklearn.model_selection import train_test_split\n",
        "X_train, X_test, y_train, y_test = train_test_split(encoded_docs_padded, sents, test_size=0.10, random_state=42)\n",
        "\n",
        "# OHE the X for some models\n",
        "X_train_OHE, _ = getExamplesOHE(X_train, sents)\n",
        "X_test_OHE, _ = getExamplesOHE(X_test, sents)\n",
        "### END SOLUTION"
      ],
      "execution_count": 17,
      "outputs": []
    },
    {
      "cell_type": "code",
      "metadata": {
        "nbgrader": {
          "grade": false,
          "grade_id": "cell-0de960d0bf5c6d38",
          "locked": false,
          "schema_version": 3,
          "solution": true,
          "task": false
        },
        "id": "H6oS5W_hBpS2",
        "colab_type": "code",
        "colab": {}
      },
      "source": [
        "# Set two variables\n",
        "# example_sequence_len: length of the sequence\n",
        "# example_num_features: number of features in a single element of the sequence (of a single example)\n",
        "\n",
        "### BEGIN SOLUTION\n",
        "\n",
        "# If using OHE:\n",
        "example_shape = X_train_OHE.shape[1:]\n",
        "example_sequence_len, example_num_features = example_shape[0], example_shape[1]\n",
        "\n",
        "assert example_sequence_len == words_in_doc_sm\n",
        "assert example_num_features == vocab_size_sm\n",
        "\n",
        "# If NOT using OHE\n",
        "example_shape = X_train.shape[1:]\n",
        "example_sequence_len, example_num_features = example_shape[0], tok.num_words\n",
        "\n",
        "assert example_sequence_len == words_in_doc_sm\n",
        "assert example_num_features == vocab_size_sm\n",
        "\n",
        "### END SOLUTION"
      ],
      "execution_count": 18,
      "outputs": []
    },
    {
      "cell_type": "markdown",
      "metadata": {
        "id": "uHurBXP607UT",
        "colab_type": "text"
      },
      "source": [
        "# Create your model\n",
        "\n"
      ]
    },
    {
      "cell_type": "code",
      "metadata": {
        "id": "o97G-ue51CKX",
        "colab_type": "code",
        "colab": {}
      },
      "source": [
        "### BEGIN SOLUTION\n",
        "# Set variables\n",
        "# - model: a Keras Sequential model to predict sentiment\n",
        "\n",
        "### END SOLUTION"
      ],
      "execution_count": 19,
      "outputs": []
    },
    {
      "cell_type": "markdown",
      "metadata": {
        "nbgrader": {
          "grade": false,
          "grade_id": "cell-00ae8f085cb69e3a",
          "locked": true,
          "schema_version": 3,
          "solution": false,
          "task": false
        },
        "id": "FqzhT4oaBpTJ",
        "colab_type": "text"
      },
      "source": [
        "# Sample models (for teacher review, not for students)\n",
        "\n"
      ]
    },
    {
      "cell_type": "markdown",
      "metadata": {
        "id": "iMLLFIU40UDF",
        "colab_type": "text"
      },
      "source": [
        "## Simple model: OHE + GlobalMaxPooling + Logistic Regression\n"
      ]
    },
    {
      "cell_type": "code",
      "metadata": {
        "id": "0YCQQYrxSH-6",
        "colab_type": "code",
        "colab": {
          "base_uri": "https://localhost:8080/",
          "height": 1000
        },
        "outputId": "2223055d-1388-49c2-a59d-cb1c17ed551e"
      },
      "source": [
        "### BEGIN SOLUTION\n",
        "\n",
        "def runModel(model, model_name, X_train, X_test, y_train, y_test):\n",
        "  plot_file = plotModel(model_simple, model_name)\n",
        "  IPython.display.Image(plot_file) \n",
        "\n",
        "  model.summary()\n",
        "\n",
        "  history = trainModelCat( model, X_train, y_train )\n",
        "\n",
        "  plot_training(history)\n",
        "\n",
        "  eval_model(model, X_test, y_test)\n",
        "\n",
        "\n",
        "model_simple = Sequential( [ GlobalMaxPooling1D(input_shape=X_train_OHE.shape[-2:]),\n",
        "                             Dense( len( np.unique(y_train) ), activation=\"softmax\")\n",
        "                           ]\n",
        "                         )\n",
        "\n",
        "runModel(model_simple, \"OHE + GlobalMaxPooling\", X_train_OHE, X_test_OHE, y_train, y_test)\n",
        "\n",
        "### END SOLUTION"
      ],
      "execution_count": 20,
      "outputs": [
        {
          "output_type": "stream",
          "text": [
            "Model: \"sequential\"\n",
            "_________________________________________________________________\n",
            "Layer (type)                 Output Shape              Param #   \n",
            "=================================================================\n",
            "global_max_pooling1d (Global (None, 400)               0         \n",
            "_________________________________________________________________\n",
            "dense (Dense)                (None, 5)                 2005      \n",
            "=================================================================\n",
            "Total params: 2,005\n",
            "Trainable params: 2,005\n",
            "Non-trainable params: 0\n",
            "_________________________________________________________________\n",
            "Epoch 1/30\n",
            "102/102 [==============================] - 1s 9ms/step - loss: 1.4081 - acc: 0.4772 - val_loss: 1.3354 - val_acc: 0.5139\n",
            "Epoch 2/30\n",
            "102/102 [==============================] - 1s 7ms/step - loss: 1.2680 - acc: 0.5349 - val_loss: 1.2601 - val_acc: 0.5250\n",
            "Epoch 3/30\n",
            "102/102 [==============================] - 1s 7ms/step - loss: 1.1778 - acc: 0.5552 - val_loss: 1.2055 - val_acc: 0.5333\n",
            "Epoch 4/30\n",
            "102/102 [==============================] - 1s 7ms/step - loss: 1.1112 - acc: 0.5824 - val_loss: 1.1703 - val_acc: 0.5583\n",
            "Epoch 5/30\n",
            "102/102 [==============================] - 1s 7ms/step - loss: 1.0634 - acc: 0.5972 - val_loss: 1.1447 - val_acc: 0.5750\n",
            "Epoch 6/30\n",
            "102/102 [==============================] - 1s 7ms/step - loss: 1.0256 - acc: 0.6049 - val_loss: 1.1267 - val_acc: 0.5806\n",
            "Epoch 7/30\n",
            "102/102 [==============================] - 1s 7ms/step - loss: 0.9948 - acc: 0.6244 - val_loss: 1.1205 - val_acc: 0.5861\n",
            "Epoch 8/30\n",
            "102/102 [==============================] - 1s 7ms/step - loss: 0.9707 - acc: 0.6262 - val_loss: 1.1069 - val_acc: 0.5750\n",
            "Epoch 9/30\n",
            "102/102 [==============================] - 1s 7ms/step - loss: 0.9485 - acc: 0.6380 - val_loss: 1.1032 - val_acc: 0.5778\n",
            "Epoch 10/30\n",
            "102/102 [==============================] - 1s 7ms/step - loss: 0.9309 - acc: 0.6438 - val_loss: 1.0962 - val_acc: 0.5722\n",
            "Epoch 11/30\n",
            "102/102 [==============================] - 1s 7ms/step - loss: 0.9142 - acc: 0.6528 - val_loss: 1.0943 - val_acc: 0.5722\n",
            "Epoch 12/30\n",
            "102/102 [==============================] - 1s 7ms/step - loss: 0.9001 - acc: 0.6546 - val_loss: 1.0927 - val_acc: 0.5861\n",
            "Epoch 13/30\n",
            "102/102 [==============================] - 1s 7ms/step - loss: 0.8873 - acc: 0.6620 - val_loss: 1.0934 - val_acc: 0.5722\n",
            "Epoch 14/30\n",
            "102/102 [==============================] - 1s 7ms/step - loss: 0.8761 - acc: 0.6698 - val_loss: 1.0931 - val_acc: 0.5861\n",
            "Epoch 15/30\n",
            "102/102 [==============================] - 1s 7ms/step - loss: 0.8660 - acc: 0.6719 - val_loss: 1.0944 - val_acc: 0.5806\n"
          ],
          "name": "stdout"
        },
        {
          "output_type": "display_data",
          "data": {
            "image/png": "[encoded data removed]",
            "text/plain": [
              "<Figure size 432x288 with 1 Axes>"
            ]
          },
          "metadata": {
            "tags": [],
            "needs_background": "light"
          }
        },
        {
          "output_type": "display_data",
          "data": {
            "image/png": "[encoded data removed]",
            "text/plain": [
              "<Figure size 432x288 with 1 Axes>"
            ]
          },
          "metadata": {
            "tags": [],
            "needs_background": "light"
          }
        },
        {
          "output_type": "stream",
          "text": [
            "13/13 [==============================] - 0s 6ms/step - loss: 1.0407 - acc: 0.5975\n",
            "loss:1.04\n",
            "acc:0.60\n"
          ],
          "name": "stdout"
        }
      ]
    },
    {
      "cell_type": "markdown",
      "metadata": {
        "id": "mEKx798u5j0F",
        "colab_type": "text"
      },
      "source": [
        "## Model: OHE + LSTM"
      ]
    },
    {
      "cell_type": "code",
      "metadata": {
        "nbgrader": {
          "grade": false,
          "grade_id": "cell-c6f79f80ec231277",
          "locked": false,
          "schema_version": 3,
          "solution": true,
          "task": false
        },
        "id": "-PHHzHQ0BpTA",
        "colab_type": "code",
        "colab": {
          "base_uri": "https://localhost:8080/",
          "height": 1000
        },
        "outputId": "bf4a7683-9549-4aa9-e1c8-f22c114087b0"
      },
      "source": [
        "### BEGIN SOLUTION\n",
        "lstm_size_sm = 4\n",
        "model_lstm = Sequential( [\n",
        "                          LSTM(lstm_size_sm, input_shape=X_train_OHE.shape[-2:], recurrent_dropout=0.),\n",
        "                          Dropout(0.3),\n",
        "                          Dense( len( np.unique(y_train) ), activation=\"softmax\")\n",
        "                         ]\n",
        "                       )\n",
        "\n",
        "runModel(model_lstm, \"OHE + LSTM\", X_train_OHE, X_test_OHE, y_train, y_test)\n",
        "### END SOLUTION"
      ],
      "execution_count": 21,
      "outputs": [
        {
          "output_type": "stream",
          "text": [
            "Model: \"sequential_1\"\n",
            "_________________________________________________________________\n",
            "Layer (type)                 Output Shape              Param #   \n",
            "=================================================================\n",
            "lstm (LSTM)                  (None, 4)                 6480      \n",
            "_________________________________________________________________\n",
            "dropout (Dropout)            (None, 4)                 0         \n",
            "_________________________________________________________________\n",
            "dense_1 (Dense)              (None, 5)                 25        \n",
            "=================================================================\n",
            "Total params: 6,505\n",
            "Trainable params: 6,505\n",
            "Non-trainable params: 0\n",
            "_________________________________________________________________\n",
            "Epoch 1/30\n",
            "102/102 [==============================] - 3s 28ms/step - loss: 1.5316 - acc: 0.4914 - val_loss: 1.4510 - val_acc: 0.5056\n",
            "Epoch 2/30\n",
            "102/102 [==============================] - 2s 22ms/step - loss: 1.3797 - acc: 0.5281 - val_loss: 1.3549 - val_acc: 0.5056\n",
            "Epoch 3/30\n",
            "102/102 [==============================] - 2s 21ms/step - loss: 1.3382 - acc: 0.5281 - val_loss: 1.3398 - val_acc: 0.5056\n",
            "Epoch 4/30\n",
            "102/102 [==============================] - 2s 21ms/step - loss: 1.3180 - acc: 0.5281 - val_loss: 1.3313 - val_acc: 0.5056\n",
            "Epoch 5/30\n",
            "102/102 [==============================] - 2s 21ms/step - loss: 1.2925 - acc: 0.5281 - val_loss: 1.3259 - val_acc: 0.5056\n",
            "Epoch 6/30\n",
            "102/102 [==============================] - 2s 20ms/step - loss: 1.2784 - acc: 0.5281 - val_loss: 1.3199 - val_acc: 0.5056\n",
            "Epoch 7/30\n",
            "102/102 [==============================] - 2s 20ms/step - loss: 1.2663 - acc: 0.5281 - val_loss: 1.3108 - val_acc: 0.5056\n",
            "Epoch 8/30\n",
            "102/102 [==============================] - 2s 20ms/step - loss: 1.2384 - acc: 0.5281 - val_loss: 1.2917 - val_acc: 0.5056\n",
            "Epoch 9/30\n",
            "102/102 [==============================] - 2s 19ms/step - loss: 1.2137 - acc: 0.5281 - val_loss: 1.2573 - val_acc: 0.5056\n",
            "Epoch 10/30\n",
            "102/102 [==============================] - 2s 19ms/step - loss: 1.1821 - acc: 0.5299 - val_loss: 1.2482 - val_acc: 0.5083\n",
            "Epoch 11/30\n",
            "102/102 [==============================] - 2s 19ms/step - loss: 1.1622 - acc: 0.5299 - val_loss: 1.2274 - val_acc: 0.5056\n",
            "Epoch 12/30\n",
            "102/102 [==============================] - 2s 19ms/step - loss: 1.1410 - acc: 0.5349 - val_loss: 1.2203 - val_acc: 0.5056\n",
            "Epoch 13/30\n",
            "102/102 [==============================] - 2s 19ms/step - loss: 1.1291 - acc: 0.5432 - val_loss: 1.2258 - val_acc: 0.5056\n",
            "Epoch 14/30\n",
            "102/102 [==============================] - 2s 19ms/step - loss: 1.1175 - acc: 0.5463 - val_loss: 1.2098 - val_acc: 0.5083\n",
            "Epoch 15/30\n",
            "102/102 [==============================] - 2s 19ms/step - loss: 1.1044 - acc: 0.5494 - val_loss: 1.2106 - val_acc: 0.5028\n",
            "Epoch 16/30\n",
            "102/102 [==============================] - 2s 19ms/step - loss: 1.0969 - acc: 0.5491 - val_loss: 1.2072 - val_acc: 0.5111\n",
            "Epoch 17/30\n",
            "102/102 [==============================] - 2s 18ms/step - loss: 1.0920 - acc: 0.5552 - val_loss: 1.2336 - val_acc: 0.5167\n",
            "Epoch 18/30\n",
            "102/102 [==============================] - 2s 19ms/step - loss: 1.0793 - acc: 0.5586 - val_loss: 1.1983 - val_acc: 0.5083\n",
            "Epoch 19/30\n",
            "102/102 [==============================] - 2s 18ms/step - loss: 1.0780 - acc: 0.5620 - val_loss: 1.2546 - val_acc: 0.5194\n",
            "Epoch 20/30\n",
            "102/102 [==============================] - 2s 19ms/step - loss: 1.0720 - acc: 0.5704 - val_loss: 1.1955 - val_acc: 0.5111\n",
            "Epoch 21/30\n",
            "102/102 [==============================] - 2s 18ms/step - loss: 1.0642 - acc: 0.5670 - val_loss: 1.2005 - val_acc: 0.5111\n",
            "Epoch 22/30\n",
            "102/102 [==============================] - 2s 18ms/step - loss: 1.0602 - acc: 0.5725 - val_loss: 1.1927 - val_acc: 0.5000\n",
            "Epoch 23/30\n",
            "102/102 [==============================] - 2s 19ms/step - loss: 1.0585 - acc: 0.5750 - val_loss: 1.2154 - val_acc: 0.5083\n",
            "Epoch 24/30\n",
            "102/102 [==============================] - 2s 18ms/step - loss: 1.0454 - acc: 0.5784 - val_loss: 1.2034 - val_acc: 0.5111\n",
            "Epoch 25/30\n",
            "102/102 [==============================] - 2s 18ms/step - loss: 1.0475 - acc: 0.5765 - val_loss: 1.2025 - val_acc: 0.5194\n",
            "Epoch 26/30\n",
            "102/102 [==============================] - 2s 19ms/step - loss: 1.0344 - acc: 0.5806 - val_loss: 1.2037 - val_acc: 0.5167\n",
            "Epoch 27/30\n",
            "102/102 [==============================] - 2s 19ms/step - loss: 1.0313 - acc: 0.5781 - val_loss: 1.2329 - val_acc: 0.5111\n"
          ],
          "name": "stdout"
        },
        {
          "output_type": "display_data",
          "data": {
            "image/png": "[encoded data removed]",
            "text/plain": [
              "<Figure size 432x288 with 1 Axes>"
            ]
          },
          "metadata": {
            "tags": [],
            "needs_background": "light"
          }
        },
        {
          "output_type": "display_data",
          "data": {
            "image/png": "[encoded data removed]",
            "text/plain": [
              "<Figure size 432x288 with 1 Axes>"
            ]
          },
          "metadata": {
            "tags": [],
            "needs_background": "light"
          }
        },
        {
          "output_type": "stream",
          "text": [
            "13/13 [==============================] - 0s 9ms/step - loss: 1.0917 - acc: 0.5700\n",
            "loss:1.09\n",
            "acc:0.57\n"
          ],
          "name": "stdout"
        }
      ]
    },
    {
      "cell_type": "markdown",
      "metadata": {
        "id": "M48Bu9U0dt1G",
        "colab_type": "text"
      },
      "source": [
        "## Model: Embedding + GlobalMaxPooling \n"
      ]
    },
    {
      "cell_type": "code",
      "metadata": {
        "id": "NxQInB0PoTB9",
        "colab_type": "code",
        "colab": {
          "base_uri": "https://localhost:8080/",
          "height": 1000
        },
        "outputId": "c7d42fda-7e2d-4c4b-9f28-c46c1107085a"
      },
      "source": [
        "### BEGIN SOLUTION\n",
        "embed_size_sm=16\n",
        "model_simple_es = Sequential( [Embedding(tok.num_words+1, embed_size_sm, input_length=words_in_doc_sm),\n",
        "                             GlobalMaxPooling1D(),\n",
        "                             Dense( len( np.unique(y_train) ), activation=\"softmax\")\n",
        "                         ]\n",
        "                       )\n",
        "\n",
        "runModel(model_simple_es, \"Embedding + GlobalMaxPooling\", X_train, X_test, y_train, y_test)\n",
        "### END SOLUTION\n"
      ],
      "execution_count": 22,
      "outputs": [
        {
          "output_type": "stream",
          "text": [
            "Model: \"sequential_2\"\n",
            "_________________________________________________________________\n",
            "Layer (type)                 Output Shape              Param #   \n",
            "=================================================================\n",
            "embedding (Embedding)        (None, 100, 16)           6416      \n",
            "_________________________________________________________________\n",
            "global_max_pooling1d_1 (Glob (None, 16)                0         \n",
            "_________________________________________________________________\n",
            "dense_2 (Dense)              (None, 5)                 85        \n",
            "=================================================================\n",
            "Total params: 6,501\n",
            "Trainable params: 6,501\n",
            "Non-trainable params: 0\n",
            "_________________________________________________________________\n",
            "Epoch 1/30\n",
            "102/102 [==============================] - 1s 7ms/step - loss: 1.5132 - acc: 0.5133 - val_loss: 1.4458 - val_acc: 0.5056\n",
            "Epoch 2/30\n",
            "102/102 [==============================] - 1s 5ms/step - loss: 1.3677 - acc: 0.5281 - val_loss: 1.3524 - val_acc: 0.5056\n",
            "Epoch 3/30\n",
            "102/102 [==============================] - 1s 5ms/step - loss: 1.2966 - acc: 0.5281 - val_loss: 1.3247 - val_acc: 0.5056\n",
            "Epoch 4/30\n",
            "102/102 [==============================] - 1s 5ms/step - loss: 1.2680 - acc: 0.5281 - val_loss: 1.3074 - val_acc: 0.5056\n",
            "Epoch 5/30\n",
            "102/102 [==============================] - 1s 5ms/step - loss: 1.2462 - acc: 0.5281 - val_loss: 1.2909 - val_acc: 0.5056\n",
            "Epoch 6/30\n",
            "102/102 [==============================] - 1s 6ms/step - loss: 1.2250 - acc: 0.5287 - val_loss: 1.2757 - val_acc: 0.5056\n",
            "Epoch 7/30\n",
            "102/102 [==============================] - 1s 5ms/step - loss: 1.2067 - acc: 0.5306 - val_loss: 1.2610 - val_acc: 0.5083\n",
            "Epoch 8/30\n",
            "102/102 [==============================] - 1s 5ms/step - loss: 1.1902 - acc: 0.5355 - val_loss: 1.2493 - val_acc: 0.5139\n",
            "Epoch 9/30\n",
            "102/102 [==============================] - 1s 5ms/step - loss: 1.1746 - acc: 0.5410 - val_loss: 1.2347 - val_acc: 0.5167\n",
            "Epoch 10/30\n",
            "102/102 [==============================] - 1s 5ms/step - loss: 1.1611 - acc: 0.5481 - val_loss: 1.2260 - val_acc: 0.5250\n",
            "Epoch 11/30\n",
            "102/102 [==============================] - 1s 5ms/step - loss: 1.1484 - acc: 0.5525 - val_loss: 1.2166 - val_acc: 0.5194\n",
            "Epoch 12/30\n",
            "102/102 [==============================] - 1s 5ms/step - loss: 1.1369 - acc: 0.5568 - val_loss: 1.2097 - val_acc: 0.5250\n",
            "Epoch 13/30\n",
            "102/102 [==============================] - 1s 5ms/step - loss: 1.1262 - acc: 0.5590 - val_loss: 1.2012 - val_acc: 0.5250\n",
            "Epoch 14/30\n",
            "102/102 [==============================] - 1s 6ms/step - loss: 1.1159 - acc: 0.5620 - val_loss: 1.1942 - val_acc: 0.5278\n",
            "Epoch 15/30\n",
            "102/102 [==============================] - 1s 5ms/step - loss: 1.1064 - acc: 0.5685 - val_loss: 1.1893 - val_acc: 0.5389\n",
            "Epoch 16/30\n",
            "102/102 [==============================] - 1s 6ms/step - loss: 1.0977 - acc: 0.5735 - val_loss: 1.1847 - val_acc: 0.5389\n",
            "Epoch 17/30\n",
            "102/102 [==============================] - 1s 6ms/step - loss: 1.0889 - acc: 0.5759 - val_loss: 1.1787 - val_acc: 0.5417\n",
            "Epoch 18/30\n",
            "102/102 [==============================] - 1s 6ms/step - loss: 1.0805 - acc: 0.5799 - val_loss: 1.1728 - val_acc: 0.5444\n",
            "Epoch 19/30\n",
            "102/102 [==============================] - 1s 5ms/step - loss: 1.0719 - acc: 0.5836 - val_loss: 1.1699 - val_acc: 0.5583\n",
            "Epoch 20/30\n",
            "102/102 [==============================] - 1s 6ms/step - loss: 1.0642 - acc: 0.5836 - val_loss: 1.1640 - val_acc: 0.5611\n",
            "Epoch 21/30\n",
            "102/102 [==============================] - 1s 5ms/step - loss: 1.0563 - acc: 0.5895 - val_loss: 1.1597 - val_acc: 0.5694\n",
            "Epoch 22/30\n",
            "102/102 [==============================] - 1s 6ms/step - loss: 1.0488 - acc: 0.5904 - val_loss: 1.1576 - val_acc: 0.5778\n",
            "Epoch 23/30\n",
            "102/102 [==============================] - 1s 5ms/step - loss: 1.0419 - acc: 0.5926 - val_loss: 1.1532 - val_acc: 0.5750\n",
            "Epoch 24/30\n",
            "102/102 [==============================] - 1s 6ms/step - loss: 1.0348 - acc: 0.5963 - val_loss: 1.1485 - val_acc: 0.5778\n",
            "Epoch 25/30\n",
            "102/102 [==============================] - 1s 5ms/step - loss: 1.0275 - acc: 0.5994 - val_loss: 1.1442 - val_acc: 0.5861\n",
            "Epoch 26/30\n",
            "102/102 [==============================] - 1s 5ms/step - loss: 1.0206 - acc: 0.6071 - val_loss: 1.1421 - val_acc: 0.5889\n",
            "Epoch 27/30\n",
            "102/102 [==============================] - 1s 6ms/step - loss: 1.0138 - acc: 0.6074 - val_loss: 1.1379 - val_acc: 0.5889\n",
            "Epoch 28/30\n",
            "102/102 [==============================] - 1s 6ms/step - loss: 1.0074 - acc: 0.6090 - val_loss: 1.1333 - val_acc: 0.5972\n",
            "Epoch 29/30\n",
            "102/102 [==============================] - 1s 6ms/step - loss: 1.0012 - acc: 0.6145 - val_loss: 1.1298 - val_acc: 0.5917\n",
            "Epoch 30/30\n",
            "102/102 [==============================] - 1s 5ms/step - loss: 0.9952 - acc: 0.6154 - val_loss: 1.1256 - val_acc: 0.5917\n"
          ],
          "name": "stdout"
        },
        {
          "output_type": "display_data",
          "data": {
            "image/png": "[encoded data removed]",
            "text/plain": [
              "<Figure size 432x288 with 1 Axes>"
            ]
          },
          "metadata": {
            "tags": [],
            "needs_background": "light"
          }
        },
        {
          "output_type": "display_data",
          "data": {
            "image/png": "[encoded data removed]",
            "text/plain": [
              "<Figure size 432x288 with 1 Axes>"
            ]
          },
          "metadata": {
            "tags": [],
            "needs_background": "light"
          }
        },
        {
          "output_type": "stream",
          "text": [
            "13/13 [==============================] - 0s 3ms/step - loss: 1.0770 - acc: 0.5700\n",
            "loss:1.08\n",
            "acc:0.57\n"
          ],
          "name": "stdout"
        }
      ]
    },
    {
      "cell_type": "markdown",
      "metadata": {
        "id": "i4Lg4EVtbJ00",
        "colab_type": "text"
      },
      "source": [
        "# Embedding + LSTM (rather than GlobalPooling)\n"
      ]
    },
    {
      "cell_type": "code",
      "metadata": {
        "id": "aNtzvlpNdwNQ",
        "colab_type": "code",
        "colab": {
          "base_uri": "https://localhost:8080/",
          "height": 1000
        },
        "outputId": "9c9817ca-4638-4c75-bad0-bf7c2526cfca"
      },
      "source": [
        "### BEGIN SOLUTION\n",
        "model_lstm_e = Sequential( [Embedding(tok.num_words+1, embed_size_sm, input_length=words_in_doc_sm),\n",
        "                            LSTM(lstm_size_sm),\n",
        "                          Dense( len( np.unique(y_train) ), activation=\"softmax\")\n",
        "                         ]\n",
        "                       )\n",
        "\n",
        "runModel(model_lstm_e, \"Embedding + LSTM\", X_train, X_test, y_train, y_test)\n",
        "### END SOLUTION\n"
      ],
      "execution_count": 23,
      "outputs": [
        {
          "output_type": "stream",
          "text": [
            "Model: \"sequential_3\"\n",
            "_________________________________________________________________\n",
            "Layer (type)                 Output Shape              Param #   \n",
            "=================================================================\n",
            "embedding_1 (Embedding)      (None, 100, 16)           6416      \n",
            "_________________________________________________________________\n",
            "lstm_1 (LSTM)                (None, 4)                 336       \n",
            "_________________________________________________________________\n",
            "dense_3 (Dense)              (None, 5)                 25        \n",
            "=================================================================\n",
            "Total params: 6,777\n",
            "Trainable params: 6,777\n",
            "Non-trainable params: 0\n",
            "_________________________________________________________________\n",
            "Epoch 1/30\n",
            "102/102 [==============================] - 2s 23ms/step - loss: 1.4586 - acc: 0.5201 - val_loss: 1.3661 - val_acc: 0.5056\n",
            "Epoch 2/30\n",
            "102/102 [==============================] - 2s 18ms/step - loss: 1.3097 - acc: 0.5281 - val_loss: 1.3394 - val_acc: 0.5056\n",
            "Epoch 3/30\n",
            "102/102 [==============================] - 2s 18ms/step - loss: 1.2827 - acc: 0.5281 - val_loss: 1.3167 - val_acc: 0.5056\n",
            "Epoch 4/30\n",
            "102/102 [==============================] - 2s 18ms/step - loss: 1.2374 - acc: 0.5281 - val_loss: 1.2860 - val_acc: 0.5056\n",
            "Epoch 5/30\n",
            "102/102 [==============================] - 2s 18ms/step - loss: 1.1913 - acc: 0.5318 - val_loss: 1.2553 - val_acc: 0.5083\n",
            "Epoch 6/30\n",
            "102/102 [==============================] - 2s 18ms/step - loss: 1.1549 - acc: 0.5407 - val_loss: 1.2364 - val_acc: 0.5083\n",
            "Epoch 7/30\n",
            "102/102 [==============================] - 2s 18ms/step - loss: 1.1225 - acc: 0.5531 - val_loss: 1.2118 - val_acc: 0.5250\n",
            "Epoch 8/30\n",
            "102/102 [==============================] - 2s 18ms/step - loss: 1.0914 - acc: 0.5670 - val_loss: 1.2411 - val_acc: 0.5278\n",
            "Epoch 9/30\n",
            "102/102 [==============================] - 2s 18ms/step - loss: 1.0662 - acc: 0.5744 - val_loss: 1.1774 - val_acc: 0.5417\n",
            "Epoch 10/30\n",
            "102/102 [==============================] - 2s 18ms/step - loss: 1.0498 - acc: 0.5818 - val_loss: 1.1948 - val_acc: 0.5361\n",
            "Epoch 11/30\n",
            "102/102 [==============================] - 2s 18ms/step - loss: 1.0387 - acc: 0.5864 - val_loss: 1.1863 - val_acc: 0.5417\n",
            "Epoch 12/30\n",
            "102/102 [==============================] - 2s 17ms/step - loss: 1.0214 - acc: 0.5883 - val_loss: 1.1782 - val_acc: 0.5361\n",
            "Epoch 13/30\n",
            "102/102 [==============================] - 2s 17ms/step - loss: 1.0126 - acc: 0.5923 - val_loss: 1.2586 - val_acc: 0.5389\n",
            "Epoch 14/30\n",
            "102/102 [==============================] - 2s 18ms/step - loss: 1.0027 - acc: 0.5944 - val_loss: 1.1797 - val_acc: 0.5250\n"
          ],
          "name": "stdout"
        },
        {
          "output_type": "display_data",
          "data": {
            "image/png": "[encoded data removed]",
            "text/plain": [
              "<Figure size 432x288 with 1 Axes>"
            ]
          },
          "metadata": {
            "tags": [],
            "needs_background": "light"
          }
        },
        {
          "output_type": "display_data",
          "data": {
            "image/png": "[encoded data removed]",
            "text/plain": [
              "<Figure size 432x288 with 1 Axes>"
            ]
          },
          "metadata": {
            "tags": [],
            "needs_background": "light"
          }
        },
        {
          "output_type": "stream",
          "text": [
            "13/13 [==============================] - 0s 7ms/step - loss: 1.0729 - acc: 0.5925\n",
            "loss:1.07\n",
            "acc:0.59\n"
          ],
          "name": "stdout"
        }
      ]
    },
    {
      "cell_type": "markdown",
      "metadata": {
        "id": "0mgU33LLlmXs",
        "colab_type": "text"
      },
      "source": [
        "# Try a larger vocab, since Embeddings are more compact\n"
      ]
    },
    {
      "cell_type": "markdown",
      "metadata": {
        "id": "ji9SBZe0dOpT",
        "colab_type": "text"
      },
      "source": [
        "## model: Embedding Big + GlobalMaxPooling1D"
      ]
    },
    {
      "cell_type": "code",
      "metadata": {
        "id": "ROCtJSr0pR6j",
        "colab_type": "code",
        "colab": {
          "base_uri": "https://localhost:8080/",
          "height": 1000
        },
        "outputId": "fc53ecd1-bbfa-4fd5-e23e-e92f9ecc6e76"
      },
      "source": [
        "### BEGIN SOLUTION\n",
        "vocab_size_b, words_in_doc_b, embed_size_b, lstm_size_b = int(10*vocab_size_sm), words_in_doc_sm, int(1*embed_size_sm), lstm_size_sm\n",
        "tok_b, encoded_docs_b, encoded_docs_padded_b = encodeDocs(docs, vocab_size=vocab_size_b, words_in_doc=words_in_doc_b)\n",
        "\n",
        "X_train_b, X_test_b, y_train_b, y_test_b = train_test_split(encoded_docs_padded_b, sents, test_size=0.10, random_state=42)\n",
        "\n",
        "X_train_b.shape, y_train_b.shape\n",
        "\n",
        "\n",
        "model_simple_es_b = Sequential( [Embedding(tok_b.num_words+1, embed_size_b, input_length=words_in_doc_b),\n",
        "                             GlobalMaxPooling1D(),\n",
        "                          Dense( len( np.unique(y_train_b) ), activation=\"softmax\")\n",
        "                         ]\n",
        "                       )\n",
        "\n",
        "runModel(model_simple_es_b, \"Embedding Big + GlobalMaxPooling\", X_train_b, X_test_b, y_train_b, y_test_b)\n",
        "\n",
        "### END SOLUTION"
      ],
      "execution_count": 24,
      "outputs": [
        {
          "output_type": "execute_result",
          "data": {
            "text/plain": [
              "((3600, 100), (3600,))"
            ]
          },
          "metadata": {
            "tags": []
          },
          "execution_count": 24
        },
        {
          "output_type": "stream",
          "text": [
            "Model: \"sequential_4\"\n",
            "_________________________________________________________________\n",
            "Layer (type)                 Output Shape              Param #   \n",
            "=================================================================\n",
            "embedding_2 (Embedding)      (None, 100, 16)           64016     \n",
            "_________________________________________________________________\n",
            "global_max_pooling1d_2 (Glob (None, 16)                0         \n",
            "_________________________________________________________________\n",
            "dense_4 (Dense)              (None, 5)                 85        \n",
            "=================================================================\n",
            "Total params: 64,101\n",
            "Trainable params: 64,101\n",
            "Non-trainable params: 0\n",
            "_________________________________________________________________\n",
            "Epoch 1/30\n",
            "102/102 [==============================] - 1s 7ms/step - loss: 1.5600 - acc: 0.4117 - val_loss: 1.5015 - val_acc: 0.5056\n",
            "Epoch 2/30\n",
            "102/102 [==============================] - 1s 6ms/step - loss: 1.4274 - acc: 0.5281 - val_loss: 1.3944 - val_acc: 0.5056\n",
            "Epoch 3/30\n",
            "102/102 [==============================] - 1s 6ms/step - loss: 1.3297 - acc: 0.5281 - val_loss: 1.3392 - val_acc: 0.5056\n",
            "Epoch 4/30\n",
            "102/102 [==============================] - 1s 5ms/step - loss: 1.2810 - acc: 0.5281 - val_loss: 1.3176 - val_acc: 0.5056\n",
            "Epoch 5/30\n",
            "102/102 [==============================] - 1s 6ms/step - loss: 1.2551 - acc: 0.5281 - val_loss: 1.3039 - val_acc: 0.5056\n",
            "Epoch 6/30\n",
            "102/102 [==============================] - 1s 5ms/step - loss: 1.2353 - acc: 0.5281 - val_loss: 1.2915 - val_acc: 0.5056\n",
            "Epoch 7/30\n",
            "102/102 [==============================] - 1s 6ms/step - loss: 1.2157 - acc: 0.5281 - val_loss: 1.2793 - val_acc: 0.5056\n",
            "Epoch 8/30\n",
            "102/102 [==============================] - 1s 6ms/step - loss: 1.1959 - acc: 0.5306 - val_loss: 1.2664 - val_acc: 0.5083\n",
            "Epoch 9/30\n",
            "102/102 [==============================] - 1s 6ms/step - loss: 1.1761 - acc: 0.5327 - val_loss: 1.2560 - val_acc: 0.5111\n",
            "Epoch 10/30\n",
            "102/102 [==============================] - 1s 6ms/step - loss: 1.1568 - acc: 0.5438 - val_loss: 1.2425 - val_acc: 0.5139\n",
            "Epoch 11/30\n",
            "102/102 [==============================] - 1s 5ms/step - loss: 1.1368 - acc: 0.5537 - val_loss: 1.2315 - val_acc: 0.5111\n",
            "Epoch 12/30\n",
            "102/102 [==============================] - 1s 5ms/step - loss: 1.1168 - acc: 0.5614 - val_loss: 1.2189 - val_acc: 0.5194\n",
            "Epoch 13/30\n",
            "102/102 [==============================] - 1s 5ms/step - loss: 1.0964 - acc: 0.5716 - val_loss: 1.2076 - val_acc: 0.5139\n",
            "Epoch 14/30\n",
            "102/102 [==============================] - 1s 6ms/step - loss: 1.0763 - acc: 0.5827 - val_loss: 1.1959 - val_acc: 0.5167\n",
            "Epoch 15/30\n",
            "102/102 [==============================] - 1s 5ms/step - loss: 1.0561 - acc: 0.5923 - val_loss: 1.1859 - val_acc: 0.5222\n",
            "Epoch 16/30\n",
            "102/102 [==============================] - 1s 5ms/step - loss: 1.0360 - acc: 0.6006 - val_loss: 1.1758 - val_acc: 0.5278\n",
            "Epoch 17/30\n",
            "102/102 [==============================] - 1s 5ms/step - loss: 1.0160 - acc: 0.6077 - val_loss: 1.1678 - val_acc: 0.5361\n",
            "Epoch 18/30\n",
            "102/102 [==============================] - 1s 5ms/step - loss: 0.9969 - acc: 0.6120 - val_loss: 1.1586 - val_acc: 0.5333\n",
            "Epoch 19/30\n",
            "102/102 [==============================] - 1s 5ms/step - loss: 0.9777 - acc: 0.6213 - val_loss: 1.1502 - val_acc: 0.5333\n",
            "Epoch 20/30\n",
            "102/102 [==============================] - 1s 5ms/step - loss: 0.9596 - acc: 0.6278 - val_loss: 1.1418 - val_acc: 0.5278\n",
            "Epoch 21/30\n",
            "102/102 [==============================] - 1s 6ms/step - loss: 0.9420 - acc: 0.6395 - val_loss: 1.1355 - val_acc: 0.5361\n",
            "Epoch 22/30\n",
            "102/102 [==============================] - 1s 6ms/step - loss: 0.9251 - acc: 0.6497 - val_loss: 1.1304 - val_acc: 0.5306\n",
            "Epoch 23/30\n",
            "102/102 [==============================] - 1s 5ms/step - loss: 0.9090 - acc: 0.6614 - val_loss: 1.1262 - val_acc: 0.5250\n",
            "Epoch 24/30\n",
            "102/102 [==============================] - 1s 5ms/step - loss: 0.8937 - acc: 0.6704 - val_loss: 1.1210 - val_acc: 0.5194\n",
            "Epoch 25/30\n",
            "102/102 [==============================] - 1s 6ms/step - loss: 0.8787 - acc: 0.6750 - val_loss: 1.1175 - val_acc: 0.5278\n",
            "Epoch 26/30\n",
            "102/102 [==============================] - 1s 5ms/step - loss: 0.8644 - acc: 0.6806 - val_loss: 1.1144 - val_acc: 0.5306\n",
            "Epoch 27/30\n",
            "102/102 [==============================] - 1s 5ms/step - loss: 0.8510 - acc: 0.6827 - val_loss: 1.1127 - val_acc: 0.5361\n",
            "Epoch 28/30\n",
            "102/102 [==============================] - 1s 6ms/step - loss: 0.8378 - acc: 0.6910 - val_loss: 1.1118 - val_acc: 0.5472\n",
            "Epoch 29/30\n",
            "102/102 [==============================] - 1s 5ms/step - loss: 0.8252 - acc: 0.6938 - val_loss: 1.1115 - val_acc: 0.5444\n",
            "Epoch 30/30\n",
            "102/102 [==============================] - 1s 5ms/step - loss: 0.8134 - acc: 0.6991 - val_loss: 1.1103 - val_acc: 0.5472\n"
          ],
          "name": "stdout"
        },
        {
          "output_type": "display_data",
          "data": {
            "image/png": "[encoded data removed]",
            "text/plain": [
              "<Figure size 432x288 with 1 Axes>"
            ]
          },
          "metadata": {
            "tags": [],
            "needs_background": "light"
          }
        },
        {
          "output_type": "display_data",
          "data": {
            "image/png": "[encoded data removed]",
            "text/plain": [
              "<Figure size 432x288 with 1 Axes>"
            ]
          },
          "metadata": {
            "tags": [],
            "needs_background": "light"
          }
        },
        {
          "output_type": "stream",
          "text": [
            "13/13 [==============================] - 0s 3ms/step - loss: 1.0598 - acc: 0.5650\n",
            "loss:1.06\n",
            "acc:0.56\n"
          ],
          "name": "stdout"
        }
      ]
    },
    {
      "cell_type": "markdown",
      "metadata": {
        "id": "erWemn_-dMTr",
        "colab_type": "text"
      },
      "source": [
        "## Model: Embedding Big + LSTM"
      ]
    },
    {
      "cell_type": "code",
      "metadata": {
        "id": "baQaoQiQcSju",
        "colab_type": "code",
        "colab": {
          "base_uri": "https://localhost:8080/",
          "height": 1000
        },
        "outputId": "9bd5df7b-0a92-429f-8ae8-227e1aa98982"
      },
      "source": [
        "### BEGIN SOLUTION\n",
        "model_lstm_b = Sequential( [Embedding(tok_b.num_words+1, embed_size_b, input_length=words_in_doc_b),\n",
        "                            LSTM(lstm_size_b),\n",
        "                            Dropout(0.25),\n",
        "                          Dense( len( np.unique(y_train_b) ), activation=\"softmax\")\n",
        "                         ]\n",
        "                       )\n",
        "\n",
        "runModel(model_lstm_b, \"Embedding Big + LSTM\", X_train_b, X_test_b, y_train_b, y_test_b)\n",
        "### END SOLUTION"
      ],
      "execution_count": 25,
      "outputs": [
        {
          "output_type": "stream",
          "text": [
            "Model: \"sequential_5\"\n",
            "_________________________________________________________________\n",
            "Layer (type)                 Output Shape              Param #   \n",
            "=================================================================\n",
            "embedding_3 (Embedding)      (None, 100, 16)           64016     \n",
            "_________________________________________________________________\n",
            "lstm_2 (LSTM)                (None, 4)                 336       \n",
            "_________________________________________________________________\n",
            "dropout_1 (Dropout)          (None, 4)                 0         \n",
            "_________________________________________________________________\n",
            "dense_5 (Dense)              (None, 5)                 25        \n",
            "=================================================================\n",
            "Total params: 64,377\n",
            "Trainable params: 64,377\n",
            "Non-trainable params: 0\n",
            "_________________________________________________________________\n",
            "Epoch 1/30\n",
            "102/102 [==============================] - 2s 24ms/step - loss: 1.3819 - acc: 0.5247 - val_loss: 1.3232 - val_acc: 0.5056\n",
            "Epoch 2/30\n",
            "102/102 [==============================] - 2s 19ms/step - loss: 1.2418 - acc: 0.5287 - val_loss: 1.2597 - val_acc: 0.5056\n",
            "Epoch 3/30\n",
            "102/102 [==============================] - 2s 20ms/step - loss: 1.1533 - acc: 0.5309 - val_loss: 1.2007 - val_acc: 0.5056\n",
            "Epoch 4/30\n",
            "102/102 [==============================] - 2s 20ms/step - loss: 1.1033 - acc: 0.5386 - val_loss: 1.1814 - val_acc: 0.5028\n",
            "Epoch 5/30\n",
            "102/102 [==============================] - 2s 19ms/step - loss: 1.0513 - acc: 0.5494 - val_loss: 1.2568 - val_acc: 0.5056\n",
            "Epoch 6/30\n",
            "102/102 [==============================] - 2s 19ms/step - loss: 1.0170 - acc: 0.5719 - val_loss: 1.1669 - val_acc: 0.5056\n",
            "Epoch 7/30\n",
            "102/102 [==============================] - 2s 20ms/step - loss: 0.9861 - acc: 0.5929 - val_loss: 1.1571 - val_acc: 0.5000\n",
            "Epoch 8/30\n",
            "102/102 [==============================] - 2s 19ms/step - loss: 0.9506 - acc: 0.6080 - val_loss: 1.1532 - val_acc: 0.5167\n",
            "Epoch 9/30\n",
            "102/102 [==============================] - 2s 20ms/step - loss: 0.9269 - acc: 0.6228 - val_loss: 1.1785 - val_acc: 0.5250\n",
            "Epoch 10/30\n",
            "102/102 [==============================] - 2s 18ms/step - loss: 0.9125 - acc: 0.6247 - val_loss: 1.1865 - val_acc: 0.5306\n",
            "Epoch 11/30\n",
            "102/102 [==============================] - 2s 19ms/step - loss: 0.8873 - acc: 0.6392 - val_loss: 1.1951 - val_acc: 0.5417\n",
            "Epoch 12/30\n",
            "102/102 [==============================] - 2s 20ms/step - loss: 0.8625 - acc: 0.6540 - val_loss: 1.2311 - val_acc: 0.5528\n"
          ],
          "name": "stdout"
        },
        {
          "output_type": "display_data",
          "data": {
            "image/png": "[encoded data removed]",
            "text/plain": [
              "<Figure size 432x288 with 1 Axes>"
            ]
          },
          "metadata": {
            "tags": [],
            "needs_background": "light"
          }
        },
        {
          "output_type": "display_data",
          "data": {
            "image/png": "[encoded data removed]",
            "text/plain": [
              "<Figure size 432x288 with 1 Axes>"
            ]
          },
          "metadata": {
            "tags": [],
            "needs_background": "light"
          }
        },
        {
          "output_type": "stream",
          "text": [
            "13/13 [==============================] - 0s 8ms/step - loss: 1.0544 - acc: 0.5950\n",
            "loss:1.05\n",
            "acc:0.60\n"
          ],
          "name": "stdout"
        }
      ]
    },
    {
      "cell_type": "markdown",
      "metadata": {
        "id": "5mSw-Cw4d14X",
        "colab_type": "text"
      },
      "source": [
        "## Model: more complex\n",
        "\n",
        "\n"
      ]
    },
    {
      "cell_type": "code",
      "metadata": {
        "id": "MT2AM28CV1vd",
        "colab_type": "code",
        "colab": {
          "base_uri": "https://localhost:8080/",
          "height": 1000
        },
        "outputId": "54407b4a-7894-4ecd-e6d0-83dfd9ed373e"
      },
      "source": [
        "### BEGIN SOLUTION \n",
        "model_x = Sequential( [Embedding(tok_b.num_words+1, embed_size_b, input_length=words_in_doc_b),\n",
        "                          Dropout(0.25),\n",
        "                          #LSTM(lstm_size_b), Dense(50, activation=\"relu\"),\n",
        "                          GlobalMaxPooling1D(),\n",
        "                          Dropout(0.25),\n",
        "                           Dense(100, activation=\"relu\"),\n",
        "                         \n",
        "                          Dense( len( np.unique(y_train_b) ), activation=\"softmax\")\n",
        "                         ]\n",
        "                       )\n",
        "\n",
        "runModel(model_x, \"Embedding Big + Compldex\", X_train_b, X_test_b, y_train_b, y_test_b)\n",
        "### END SOLUTION"
      ],
      "execution_count": 26,
      "outputs": [
        {
          "output_type": "stream",
          "text": [
            "Model: \"sequential_6\"\n",
            "_________________________________________________________________\n",
            "Layer (type)                 Output Shape              Param #   \n",
            "=================================================================\n",
            "embedding_4 (Embedding)      (None, 100, 16)           64016     \n",
            "_________________________________________________________________\n",
            "dropout_2 (Dropout)          (None, 100, 16)           0         \n",
            "_________________________________________________________________\n",
            "global_max_pooling1d_3 (Glob (None, 16)                0         \n",
            "_________________________________________________________________\n",
            "dropout_3 (Dropout)          (None, 16)                0         \n",
            "_________________________________________________________________\n",
            "dense_6 (Dense)              (None, 100)               1700      \n",
            "_________________________________________________________________\n",
            "dense_7 (Dense)              (None, 5)                 505       \n",
            "=================================================================\n",
            "Total params: 66,221\n",
            "Trainable params: 66,221\n",
            "Non-trainable params: 0\n",
            "_________________________________________________________________\n",
            "Epoch 1/30\n",
            "102/102 [==============================] - 1s 8ms/step - loss: 1.3619 - acc: 0.5272 - val_loss: 1.3343 - val_acc: 0.5056\n",
            "Epoch 2/30\n",
            "102/102 [==============================] - 1s 7ms/step - loss: 1.2783 - acc: 0.5281 - val_loss: 1.3163 - val_acc: 0.5056\n",
            "Epoch 3/30\n",
            "102/102 [==============================] - 1s 6ms/step - loss: 1.2644 - acc: 0.5281 - val_loss: 1.3002 - val_acc: 0.5056\n",
            "Epoch 4/30\n",
            "102/102 [==============================] - 1s 6ms/step - loss: 1.2484 - acc: 0.5281 - val_loss: 1.2857 - val_acc: 0.5056\n",
            "Epoch 5/30\n",
            "102/102 [==============================] - 1s 6ms/step - loss: 1.2333 - acc: 0.5281 - val_loss: 1.2703 - val_acc: 0.5056\n",
            "Epoch 6/30\n",
            "102/102 [==============================] - 1s 6ms/step - loss: 1.2152 - acc: 0.5281 - val_loss: 1.2562 - val_acc: 0.5056\n",
            "Epoch 7/30\n",
            "102/102 [==============================] - 1s 7ms/step - loss: 1.1959 - acc: 0.5284 - val_loss: 1.2383 - val_acc: 0.5056\n",
            "Epoch 8/30\n",
            "102/102 [==============================] - 1s 7ms/step - loss: 1.1878 - acc: 0.5414 - val_loss: 1.2227 - val_acc: 0.5000\n",
            "Epoch 9/30\n",
            "102/102 [==============================] - 1s 6ms/step - loss: 1.1705 - acc: 0.5410 - val_loss: 1.2191 - val_acc: 0.5056\n",
            "Epoch 10/30\n",
            "102/102 [==============================] - 1s 6ms/step - loss: 1.1673 - acc: 0.5494 - val_loss: 1.2082 - val_acc: 0.5111\n",
            "Epoch 11/30\n",
            "102/102 [==============================] - 1s 6ms/step - loss: 1.1513 - acc: 0.5478 - val_loss: 1.1999 - val_acc: 0.5167\n",
            "Epoch 12/30\n",
            "102/102 [==============================] - 1s 6ms/step - loss: 1.1406 - acc: 0.5574 - val_loss: 1.1882 - val_acc: 0.5222\n",
            "Epoch 13/30\n",
            "102/102 [==============================] - 1s 6ms/step - loss: 1.1313 - acc: 0.5620 - val_loss: 1.1899 - val_acc: 0.5111\n",
            "Epoch 14/30\n",
            "102/102 [==============================] - 1s 6ms/step - loss: 1.1264 - acc: 0.5627 - val_loss: 1.1964 - val_acc: 0.5167\n",
            "Epoch 15/30\n",
            "102/102 [==============================] - 1s 6ms/step - loss: 1.1120 - acc: 0.5642 - val_loss: 1.1716 - val_acc: 0.5139\n",
            "Epoch 16/30\n",
            "102/102 [==============================] - 1s 6ms/step - loss: 1.1138 - acc: 0.5716 - val_loss: 1.1750 - val_acc: 0.5222\n",
            "Epoch 17/30\n",
            "102/102 [==============================] - 1s 6ms/step - loss: 1.1025 - acc: 0.5753 - val_loss: 1.1758 - val_acc: 0.5194\n",
            "Epoch 18/30\n",
            "102/102 [==============================] - 1s 6ms/step - loss: 1.1150 - acc: 0.5707 - val_loss: 1.1762 - val_acc: 0.5250\n",
            "Epoch 19/30\n",
            "102/102 [==============================] - 1s 6ms/step - loss: 1.0885 - acc: 0.5809 - val_loss: 1.1856 - val_acc: 0.5250\n",
            "Epoch 20/30\n",
            "102/102 [==============================] - 1s 6ms/step - loss: 1.1052 - acc: 0.5713 - val_loss: 1.1689 - val_acc: 0.5222\n"
          ],
          "name": "stdout"
        },
        {
          "output_type": "display_data",
          "data": {
            "image/png": "[encoded data removed]",
            "text/plain": [
              "<Figure size 432x288 with 1 Axes>"
            ]
          },
          "metadata": {
            "tags": [],
            "needs_background": "light"
          }
        },
        {
          "output_type": "display_data",
          "data": {
            "image/png": "[encoded data removed]",
            "text/plain": [
              "<Figure size 432x288 with 1 Axes>"
            ]
          },
          "metadata": {
            "tags": [],
            "needs_background": "light"
          }
        },
        {
          "output_type": "stream",
          "text": [
            "13/13 [==============================] - 0s 3ms/step - loss: 1.0928 - acc: 0.5850\n",
            "loss:1.09\n",
            "acc:0.58\n"
          ],
          "name": "stdout"
        }
      ]
    },
    {
      "cell_type": "markdown",
      "metadata": {
        "nbgrader": {
          "grade": false,
          "grade_id": "cell-0ad6ed9cd2b135fb",
          "locked": true,
          "schema_version": 3,
          "solution": false,
          "task": false
        },
        "id": "iz_Wroa1BpTU",
        "colab_type": "text"
      },
      "source": [
        "# Submit your model\n",
        "\n",
        "\n",
        "- Was the increase in number of weights compensated by a gain in accuracy when using a Recurrent Layer type compared to the Classifier only model ?\n",
        "- Can you speculate why this is so ?"
      ]
    },
    {
      "cell_type": "code",
      "metadata": {
        "id": "NIgzZKsQ16VX",
        "colab_type": "code",
        "colab": {}
      },
      "source": [
        "### BEGIN SOLUTION\n",
        "model = model_simple\n",
        "\n",
        "# This model uses non-standard features\n",
        "X_test = X_test_OHE\n",
        "### END SOLUTION"
      ],
      "execution_count": 27,
      "outputs": []
    },
    {
      "cell_type": "markdown",
      "metadata": {
        "id": "RZodh8L_1xsT",
        "colab_type": "text"
      },
      "source": [
        "# Evaluate your model on the previously constructed test examples (out of sample)"
      ]
    },
    {
      "cell_type": "code",
      "metadata": {
        "id": "ykqbRFlC1f_A",
        "colab_type": "code",
        "colab": {
          "base_uri": "https://localhost:8080/",
          "height": 68
        },
        "outputId": "db4345d2-92f2-4d1f-aaf6-05407509e98d"
      },
      "source": [
        "loss_test, acc_test = eval_model(model, X_test, y_test)\n",
        "# - loss_test: Loss, out of sample\n",
        "# - acc_test:  Accuracy, out of sample.  This is what you will be graded on"
      ],
      "execution_count": 28,
      "outputs": [
        {
          "output_type": "stream",
          "text": [
            "13/13 [==============================] - 0s 4ms/step - loss: 1.0407 - acc: 0.5975\n",
            "loss:1.04\n",
            "acc:0.60\n"
          ],
          "name": "stdout"
        }
      ]
    },
    {
      "cell_type": "markdown",
      "metadata": {
        "nbgrader": {
          "grade": false,
          "grade_id": "cell-f1feed2553377a71",
          "locked": true,
          "schema_version": 3,
          "solution": false,
          "task": false
        },
        "id": "gtQ_IGvQBpTS",
        "colab_type": "text"
      },
      "source": [
        "## How many weights in your Classifier only model ?\n",
        "\n",
        "How many weights in your model ?\n",
        "\n",
        "You should always be sensitive to how \"big\" your model is."
      ]
    },
    {
      "cell_type": "code",
      "metadata": {
        "nbgrader": {
          "grade": false,
          "grade_id": "cell-ad84e21e2763f573",
          "locked": true,
          "schema_version": 3,
          "solution": false,
          "task": false
        },
        "id": "-u1ERSiuBpTS",
        "colab_type": "code",
        "colab": {}
      },
      "source": [
        "# Set variable\n",
        "# - num_weight: number of weights in your model\n",
        "\n",
        "### BEGIN SOLUTION\n",
        "num_weights = model.count_params()\n",
        "### END SOLUTION"
      ],
      "execution_count": 29,
      "outputs": []
    },
    {
      "cell_type": "markdown",
      "metadata": {
        "id": "bpWw_tXH_zwu",
        "colab_type": "text"
      },
      "source": [
        "# Discussion topics\n",
        "- Compare the number of weights in each model.  Did the added complexity (more weights) lead to better performance ?\n",
        "- **Where** were the largest increase in weights between models\n",
        "  - Embeddings consume a lot of weights\n",
        "    - But eliminates a dimension: single integer representation of a word vs a OHE vector of length words_in_vocab\n",
        "    - So subsequent layers may need fewer weights compared to OHE\n",
        "- Should we have formulated this as a Regression task rather than a Classification task ?\n",
        "  - Is the difference in rating between 0 and 1 the same as between 3 and 4 ?\n",
        "    - Perhaps there are bigger *absolute* differences in satisfaction  in lower ratings\n",
        "      - i.e., Big difference between 0 and 1, smaller difference between 3 and 4"
      ]
    }
  ]
}
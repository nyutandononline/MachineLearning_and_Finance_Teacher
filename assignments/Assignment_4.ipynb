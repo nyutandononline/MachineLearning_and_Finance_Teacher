{
 "cells": [
  {
   "cell_type": "markdown",
   "metadata": {},
   "source": [
    "# Assignment 4\n",
    "\n",
    "\n",
    "You will demonstrate your ability to create and train Neural Network models.\n",
    "\n",
    "You will mainly use Convolutional layers."
   ]
  },
  {
   "cell_type": "markdown",
   "metadata": {},
   "source": [
    "# Objectives\n",
    "\n",
    "This is a \"doing\" rather than \"thinking\" assignment.\n",
    "\n",
    "Your goal is to experiment with multi-layer Convolutional models\n",
    "- Count parameters in each layer\n",
    "- Compute the space consumed by each layer (i.e., what is the size of the *output* of the layer)\n",
    "- Use techniques to reduce space and time"
   ]
  },
  {
   "cell_type": "markdown",
   "metadata": {},
   "source": [
    "# Submission guidelines\n",
    "\n",
    "There are some specified tasks you must carry out, which involve saving your *final* model.\n",
    "\n",
    "To faciliate this,\n",
    "in addition to providing your notebook, we will ask you to create the subroutine `MyModel`\n",
    "described below **and submit one additional file** to be described.\n",
    "\n",
    "You will choose your *final model* and using the code provided in the cell below, save the model to a file and **submit the file with your saved model** along with the notebook."
   ]
  },
  {
   "cell_type": "markdown",
   "metadata": {},
   "source": [
    "The code cell below **should be the last cell in your notebook**.\n",
    "\n",
    "The last cell:\n",
    "- defines a routine to save a \"model\" object to a file\n",
    "- defines a routine to load a model object from a file\n",
    "- asks you to save the model for one of the tasks\n",
    "- asks you to run `MyModel`\n",
    "\n",
    "`MyModel` takes as arguments\n",
    "- a test set: `x_test`, `y_test`\n",
    "- name of a file containing a model object for a specified task\n",
    "\n",
    "`MyModel` will load the file (i.e., restore the model) and run predictions on the test set.\n",
    "\n",
    "You will need to complete the body of the `MyModel` definition."
   ]
  },
  {
   "cell_type": "markdown",
   "metadata": {},
   "source": [
    "We will run `MyModel` in that cell in order to load your saved model and run it\n",
    "- We will not run any other cell in the notebook so if you need imports or anything else. put it there!  \n",
    "- We **will not** run cells that train your model: that would take too long)\n",
    "- If you need the holdout data to be transformed\n",
    "    - the transformations should be called from `MyModel`\n",
    "    - we will not run a cell to make the transformation happen"
   ]
  },
  {
   "cell_type": "markdown",
   "metadata": {},
   "source": [
    "## Additional submission\n",
    "\n",
    "In addition to your notebook, please also submit the file whose name is stored in `model_path`.\n",
    "\n",
    "**DO NOT** rename the file!\n"
   ]
  },
  {
   "cell_type": "markdown",
   "metadata": {},
   "source": [
    "Here is the cell **that must appear as the last cell in your notebook**"
   ]
  },
  {
   "cell_type": "code",
   "execution_count": null,
   "metadata": {},
   "outputs": [],
   "source": [
    "import os\n",
    "from tensorflow.keras.models import load_model\n",
    "\n",
    "modelName = \"assignment4_final_model\"\n",
    "model_path = os.path.join(\".\", modelName)   \n",
    "\n",
    "def saveModel(model, model_path): \n",
    "    try:\n",
    "        os.makedirs(model_path)\n",
    "    except OSError:\n",
    "        print(\"Directory {dir:s} already exists, files will be over-written.\".format(dir=model_path))\n",
    "        \n",
    "    # Save JSON config to disk\n",
    "    json_config = model.to_json()\n",
    "    with open(os.path.join(model_path, 'config.json'), 'w') as json_file:\n",
    "        json_file.write(json_config)\n",
    "    # Save weights to disk\n",
    "    model.save_weights(os.path.join(model_path, 'weights.h5'))\n",
    "    \n",
    "    print(\"Model saved in directory {dir:s}; create an archive of this directory and submit with your assignment.\".format(dir=model_path))\n",
    "    \n",
    "def loadModel(model_path):\n",
    "    # Reload the model from the 2 files we saved\n",
    "    with open(os.path.join(model_path, 'config.json')) as json_file:\n",
    "        json_config = json_file.read()\n",
    "    model = tf.keras.models.model_from_json(json_config)\n",
    "    model.load_weights(os.path.join(model_path, 'weights.h5'))\n",
    "    \n",
    "    return model\n",
    "\n",
    "def MyModel(x_test, y_test, model_path):\n",
    "    # YOU MAY NOT change model after this statement !\n",
    "    model = loadModel(model_path)\n",
    "    \n",
    "    # It should run model to create an array of predictions; we initialize it to the empty array for convenience\n",
    "    predictions = []\n",
    "    \n",
    "    # YOUR CODE GOES HERE\n",
    "    \n",
    "    \n",
    "    return predictions\n",
    "\n",
    "# Assign to variable my_model the model that solves task 3.2\n",
    "my_model = None # CHANGE None to your model !\n",
    "\n",
    "saveModel(my_model, model_path)\n",
    "predicts = MyModel(x_test, y_test, model_path)\n"
   ]
  },
  {
   "cell_type": "markdown",
   "metadata": {},
   "source": [
    "# The problem\n",
    "\n",
    "You will create a model to classify the Fashion MNIST dataset (which you used in the previous assignment)\n",
    "- The model must have at least 3 Convolutional layers\n",
    "- You may use the notebook demonstrated in class as starter code"
   ]
  },
  {
   "cell_type": "markdown",
   "metadata": {},
   "source": [
    "# The Data\n",
    "\n",
    "The dataset is called Fashion MNIST.\n",
    "\n",
    "Rather than classifying images into one of ten digits,\n",
    "you will classify images of clothing items into one of ten classes.\n",
    "\n",
    "Here's the code to get the data."
   ]
  },
  {
   "cell_type": "code",
   "execution_count": null,
   "metadata": {},
   "outputs": [],
   "source": [
    "from tensorflow.keras.datasets import mnist, fashion_mnist, cifar10\n",
    "\n",
    "(x_train, y_train), (x_test, y_test) = fashion_mnist.load_data()\n"
   ]
  },
  {
   "cell_type": "markdown",
   "metadata": {},
   "source": [
    "# Tasks\n",
    "\n"
   ]
  },
  {
   "cell_type": "markdown",
   "metadata": {},
   "source": [
    "## Task 1\n",
    "\n",
    "Create a classifer with 3 Convolutional layers with number of features channels [4, 16, 64]\n",
    "- That is: first Convolution layer creates 4 features/channels; second Convolution layer creates 16 features/channels, etc.\n",
    "- *Use padding* to ensure that the spatial dimension does not shrink\n",
    "- Measure how much time each epoch takes\n",
    "    - *This will vary with your machine*\n",
    "    - Using Colab with a GPU will be much faster\n",
    "- Keep on doubling the number of features/channels in each Convolution\n",
    "    - **until** the time for each epoch is consistently over 30 seconds\n",
    "- Print out\n",
    "    - The number of weights per convolutional layer\n",
    "    - The size of the output of each convolutional layer\n",
    "    - You may use Keras/Tensorflow to get these answers, calculate them in code\n",
    "- Present a plot of your architecture like"
   ]
  },
  {
   "cell_type": "markdown",
   "metadata": {},
   "source": [
    "<img src=\"../images/mnist_conv2_8_16.png\">"
   ]
  },
  {
   "cell_type": "markdown",
   "metadata": {},
   "source": [
    "# Task 2\n",
    "\n",
    "Using the architecture you created with Task 1\n",
    "- Use *one* of the techniques discussed in lecture to reduce the time to run an epoch to consistenly less than 30 seconds\n",
    "    - You **may not** change the architecture, especially the number of features/channels per layer !\n",
    "- Print out\n",
    "    - The number of weights per convolutional layer\n",
    "    - The size of the output of each convolutional layer\n",
    "    - You may use Keras/Tensorflow to get these answers, calculate them in code\n",
    "- Present a plot of your architecture like"
   ]
  },
  {
   "cell_type": "markdown",
   "metadata": {},
   "source": [
    "# Task 3\n",
    "\n",
    "Repeat Task 2 using a single but different technique to reduce the time per epoch."
   ]
  },
  {
   "cell_type": "markdown",
   "metadata": {},
   "source": [
    "# Task 4\n",
    "\n",
    "This is the task for which you will create the *final* model, that you will save to a file as described above.\n",
    "\n",
    "Create a model for Fashion MNIST\n",
    "- With as many Convolutional layers as  you like\n",
    "- With as many features/channels per layer as your like \n",
    "- Using whatever space/time reduction techniques you like\n",
    "\n",
    "that gives you \n",
    "- The best out of sample accuracy\n",
    "- **and** takes less than 15 seconds per epoch to run"
   ]
  },
  {
   "cell_type": "code",
   "execution_count": 1,
   "metadata": {},
   "outputs": [
    {
     "name": "stdout",
     "output_type": "stream",
     "text": [
      "Done\n"
     ]
    }
   ],
   "source": [
    "print(\"Done\")"
   ]
  }
 ],
 "metadata": {
  "kernelspec": {
   "display_name": "Python 3",
   "language": "python",
   "name": "python3"
  },
  "language_info": {
   "codemirror_mode": {
    "name": "ipython",
    "version": 3
   },
   "file_extension": ".py",
   "mimetype": "text/x-python",
   "name": "python",
   "nbconvert_exporter": "python",
   "pygments_lexer": "ipython3",
   "version": "3.7.4"
  },
  "toc": {
   "base_numbering": 1,
   "nav_menu": {},
   "number_sections": true,
   "sideBar": true,
   "skip_h1_title": false,
   "title_cell": "Table of Contents",
   "title_sidebar": "Contents",
   "toc_cell": false,
   "toc_position": {},
   "toc_section_display": true,
   "toc_window_display": false
  }
 },
 "nbformat": 4,
 "nbformat_minor": 2
}

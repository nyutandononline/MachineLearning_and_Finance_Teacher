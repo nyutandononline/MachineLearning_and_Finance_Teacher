{
 "cells": [
  {
   "cell_type": "markdown",
   "metadata": {
    "nbgrader": {
     "grade": false,
     "grade_id": "cell-b4e4b23d9abe3e4e",
     "locked": true,
     "schema_version": 3,
     "solution": false,
     "task": false
    }
   },
   "source": [
    "$$\n",
    "\\newcommand{\\x}{\\mathbf{x}}\n",
    "\\newcommand{\\y}{\\mathbf{y}}\n",
    "\\newcommand{\\price}{{p}}\n",
    "\\newcommand{\\ret}{{r}}\n",
    "\\newcommand{\\tp}{{(t)}}\n",
    "\\newcommand{\\aapl}{{\\text{AAPL}}}\n",
    "\\newcommand{\\ba}{{\\text{BA}}}\n",
    "\\newcommand{\\spy}{{\\text{SPY}}}\n",
    "$$"
   ]
  },
  {
   "cell_type": "markdown",
   "metadata": {},
   "source": [
    "# Problem description\n",
    "\n",
    "We will solve a Regression task that is very common in Finance\n",
    "- Given the return of \"the market\", predict the return of a particular stock\n",
    "\n",
    "That is\n",
    "- Given the return of a proxy for \"the market\" at time $t$, predict the return of, e.g., Apple at time $t$.\n",
    "\n",
    "As we will explain\n",
    "being able to predict the relationship between two financial instruments opens up possibilities\n",
    "- Use one instrument to \"hedge\" or reduce the risk of holding the other\n",
    "- Create strategies whose returns are independent of \"the market\"\n",
    "    - Hopefully make a profit regardless of whether the market goes up or down\n",
    "    "
   ]
  },
  {
   "cell_type": "markdown",
   "metadata": {},
   "source": [
    "## Goal\n",
    "\n",
    "You will create models of increasing complexity in order to explain the return of Apple (ticker \\aapl)\n",
    "- The first model will have a single feature: return of the market proxy, ticker $\\spy$\n",
    "- Subsequent models will add the return of other tickers as additional features\n"
   ]
  },
  {
   "cell_type": "markdown",
   "metadata": {},
   "source": [
    "## Learning objectives\n",
    "- Learn how to solve a Regression taks\n",
    "- Become facile in the `sklearn` toolkit for Machine Learning"
   ]
  },
  {
   "cell_type": "markdown",
   "metadata": {},
   "source": [
    "# Standard imports"
   ]
  },
  {
   "cell_type": "code",
   "execution_count": 1,
   "metadata": {},
   "outputs": [],
   "source": [
    "# %load \"./assignment_1_answers.py\"\n",
    "from IPython.core.interactiveshell import InteractiveShell\n",
    "InteractiveShell.ast_node_interactivity = \"all\"\n",
    "\n",
    "from sklearn import datasets, linear_model\n",
    "from sklearn.metrics import mean_squared_error, r2_score\n"
   ]
  },
  {
   "cell_type": "code",
   "execution_count": 2,
   "metadata": {},
   "outputs": [],
   "source": [
    "import numpy as np\n",
    "import pandas as pd\n",
    "import matplotlib.pyplot as plt\n",
    "\n",
    "import sklearn\n",
    "\n",
    "import os\n",
    "import math\n",
    "\n",
    "%matplotlib inline"
   ]
  },
  {
   "cell_type": "code",
   "execution_count": 3,
   "metadata": {},
   "outputs": [],
   "source": [
    "DATA_DIR = \"./data\""
   ]
  },
  {
   "cell_type": "markdown",
   "metadata": {},
   "source": [
    "# API for students\n",
    "\n",
    "We will define some utility routines.\n",
    "\n",
    "This will simplify problem solving\n"
   ]
  },
  {
   "cell_type": "code",
   "execution_count": 4,
   "metadata": {},
   "outputs": [],
   "source": [
    "import pdb\n",
    "\n",
    "ticker = \"AAPL\"\n",
    "index_ticker = \"SPY\"\n",
    "dateAttr = \"Dt\"\n",
    "priceAttr = \"Close\"\n",
    "retAttr = \"Return\"\n",
    "\n",
    "def attrRename(df, ticker):\n",
    "    \"\"\"\n",
    "    Rename attributes of DataFrame\n",
    "    - prepend the string \"T_\" to original attribute name, where T is the string of ticker\n",
    "    \"\"\"\n",
    "    rename_map = { orig:  ticker + \"_\" + orig.replace(\" \", \"_\") for orig in df.columns.to_list() }\n",
    "    \n",
    "    return df.rename(columns=rename_map)\n",
    "\n",
    "def getData(tickers, indx, attrs= [priceAttr]):\n",
    "    \"\"\"\n",
    "    Return DataFrame with data for a list of tickers plus and index\n",
    "    \n",
    "    Parameters\n",
    "    ----------\n",
    "    tickers: List\n",
    "    - List of tickers\n",
    "    \n",
    "    indx: String\n",
    "    - Ticker of index\n",
    "    \n",
    "    attrs: List\n",
    "    - List of data attributes to retain\n",
    "    \n",
    "    Returns\n",
    "    -------\n",
    "    DataFrame\n",
    "    - attributes:\n",
    "    -- each original attribute, prepended with \"T_\" where T is ticker or index string\n",
    "    -- This is necessary to distinguish between attributes of different tickers\n",
    "    \"\"\"\n",
    "    dateAttr = \"Dt\"\n",
    "    \n",
    "    use_cols =  attrs.copy()\n",
    "    use_cols.insert(0, dateAttr)\n",
    "   \n",
    "    # Read the CSV files\n",
    "    dfs = []\n",
    "    for ticker_num, ticker in enumerate(tickers):\n",
    "        ticker_file = os.path.join(DATA_DIR, \"{t}.csv\".format(t=ticker) )\n",
    "        ticker_df = pd.read_csv(ticker_file, index_col=dateAttr, usecols=use_cols)\n",
    "        \n",
    "        # Rename attributes with ticker name\n",
    "        ticker_df = attrRename(ticker_df, ticker)\n",
    "        \n",
    "        dfs.append(ticker_df)\n",
    "        \n",
    "          \n",
    "    index_file   = os.path.join(DATA_DIR, \"{t}.csv\".format(t=indx) )\n",
    "    index_df   = pd.read_csv(index_file, index_col=dateAttr, usecols=use_cols)\n",
    "    index_df = attrRename(index_df, indx)\n",
    "    \n",
    "    dfs.append(index_df)\n",
    "    \n",
    "    data_df = pd.concat( dfs, axis=1)\n",
    "   \n",
    "    return data_df\n",
    "\n"
   ]
  },
  {
   "cell_type": "markdown",
   "metadata": {},
   "source": [
    "# Get the data\n",
    "\n",
    "The first step in our Recipe is Get the Data.\n",
    "\n",
    "We have provided a utility method `getData` to simplify this for you"
   ]
  },
  {
   "cell_type": "code",
   "execution_count": 5,
   "metadata": {},
   "outputs": [],
   "source": [
    "data = getData([ticker], index_ticker)"
   ]
  },
  {
   "cell_type": "markdown",
   "metadata": {},
   "source": [
    "## Have a look at the data\n",
    "\n",
    "We will not go through all steps in the Recipe, nor in depth.\n",
    "\n",
    "But here's a peek"
   ]
  },
  {
   "cell_type": "code",
   "execution_count": 6,
   "metadata": {},
   "outputs": [
    {
     "data": {
      "text/html": [
       "<div>\n",
       "<style scoped>\n",
       "    .dataframe tbody tr th:only-of-type {\n",
       "        vertical-align: middle;\n",
       "    }\n",
       "\n",
       "    .dataframe tbody tr th {\n",
       "        vertical-align: top;\n",
       "    }\n",
       "\n",
       "    .dataframe thead th {\n",
       "        text-align: right;\n",
       "    }\n",
       "</style>\n",
       "<table border=\"1\" class=\"dataframe\">\n",
       "  <thead>\n",
       "    <tr style=\"text-align: right;\">\n",
       "      <th></th>\n",
       "      <th>AAPL_Close</th>\n",
       "      <th>SPY_Close</th>\n",
       "    </tr>\n",
       "    <tr>\n",
       "      <th>Dt</th>\n",
       "      <th></th>\n",
       "      <th></th>\n",
       "    </tr>\n",
       "  </thead>\n",
       "  <tbody>\n",
       "    <tr>\n",
       "      <td>2017-01-03</td>\n",
       "      <td>116.15</td>\n",
       "      <td>225.24</td>\n",
       "    </tr>\n",
       "    <tr>\n",
       "      <td>2017-01-04</td>\n",
       "      <td>116.02</td>\n",
       "      <td>226.58</td>\n",
       "    </tr>\n",
       "    <tr>\n",
       "      <td>2017-01-05</td>\n",
       "      <td>116.61</td>\n",
       "      <td>226.40</td>\n",
       "    </tr>\n",
       "    <tr>\n",
       "      <td>2017-01-06</td>\n",
       "      <td>117.91</td>\n",
       "      <td>227.21</td>\n",
       "    </tr>\n",
       "    <tr>\n",
       "      <td>2017-01-09</td>\n",
       "      <td>118.99</td>\n",
       "      <td>226.46</td>\n",
       "    </tr>\n",
       "  </tbody>\n",
       "</table>\n",
       "</div>"
      ],
      "text/plain": [
       "            AAPL_Close  SPY_Close\n",
       "Dt                               \n",
       "2017-01-03      116.15     225.24\n",
       "2017-01-04      116.02     226.58\n",
       "2017-01-05      116.61     226.40\n",
       "2017-01-06      117.91     227.21\n",
       "2017-01-09      118.99     226.46"
      ]
     },
     "execution_count": 6,
     "metadata": {},
     "output_type": "execute_result"
    }
   ],
   "source": [
    "data.head()"
   ]
  },
  {
   "cell_type": "code",
   "execution_count": 7,
   "metadata": {},
   "outputs": [
    {
     "data": {
      "text/plain": [
       "('2017-01-03', '2019-10-31')"
      ]
     },
     "execution_count": 7,
     "metadata": {},
     "output_type": "execute_result"
    }
   ],
   "source": [
    "data.index.min(), data.index.max()"
   ]
  },
  {
   "cell_type": "markdown",
   "metadata": {},
   "source": [
    "As you can see, our data has two attributes for each date\n",
    "- Price (adjusted close) of ticker $\\aapl$\n",
    "- Price (adjusted close) of the market proxy $\\spy$"
   ]
  },
  {
   "cell_type": "markdown",
   "metadata": {},
   "source": [
    "# Prepare the data\n",
    "\n",
    "In Finance, it is very typical to work with *relative changes* (e.g., percent price change)\n",
    "rather than *absolute changes* (price change) or *levels* (prices).\n",
    "\n",
    "Without going into too much detail\n",
    "- Relative changes are more consistent over time than either absolute changes or levels\n",
    "- The consistency can facilitate the use of data over a longer time period\n",
    "\n",
    "For example, let's suppose that prices are given in units of USD (dollar)\n",
    "- A price change of 1 USD is more likely for a stock with price level 100 than price level 10\n",
    "    - A relative change of $1/100 = 1 %$ is more likely than a change of $1/10 = 10%$\n",
    "    - So relative changes are less dependent on price level than either price changes or price levels\n",
    "    \n",
    "    \n",
    "To compute the *return* (percent change in prices)\n",
    " for ticker $\\aapl$ (Apple) on date $t$\n",
    "\n",
    "$$\n",
    "\\begin{array}[lll]\\\\\n",
    "\\ret_\\aapl^\\tp = \\frac{\\price _\\aapl^\\tp}{\\price _\\aapl^{(t-1)}} -1 \\\\\n",
    "\\text{where} \\\\\n",
    "\\price_\\aapl^\\tp \\text{ denotes the price of ticker } \\aapl \\text{ on date } t \\\\\n",
    "\\ret_\\aapl^\\tp \\text{ denotes the return of ticker } \\aapl \\text{ on date } t\n",
    "\\end{array}\n",
    "$$"
   ]
  },
  {
   "cell_type": "markdown",
   "metadata": {},
   "source": [
    "Moreover: our Problem Description is to predict returns (percent price changes) of a ticker\n",
    "given the returns of a market proxy (the \"index\" with tickr $\\spy$)\n",
    "\n",
    "    "
   ]
  },
  {
   "cell_type": "markdown",
   "metadata": {},
   "source": [
    "# Transformations: transform the training data\n",
    "\n",
    "Our first task is to transform the data from price levels (Adj Close)\n",
    "to Percent Price Changes.\n",
    "\n",
    "Moreover, the date range for the training data is specified to be in the range\n",
    "from `start_dt` (start date) to `end_dt`, inclusive on both sides.\n",
    "\n",
    "**Note**\n",
    "\n",
    "We will need to apply **identical** transformations to both the training and test data examples.\n",
    "\n",
    "In the cells that immediately follow, we will do this only for the **training data**\n",
    "\n",
    "You will need to repeat these steps for the test data in a subsequent step.\n",
    "\n",
    "You are well-advised to create subroutines or functions to accomplish these tasks !\n",
    "- You will apply them first to transform training data\n",
    "- You will apply them a second time to transform the test data\n",
    "\n",
    "We will achieve this is several steps"
   ]
  },
  {
   "cell_type": "code",
   "execution_count": 8,
   "metadata": {
    "nbgrader": {
     "grade": false,
     "grade_id": "cell-28717c2654035995",
     "locked": true,
     "schema_version": 3,
     "solution": false,
     "task": false
    }
   },
   "outputs": [
    {
     "name": "stdout",
     "output_type": "stream",
     "text": [
      "Train data return range from 2018-01-02 to 2018-09-28\n"
     ]
    }
   ],
   "source": [
    "\n",
    "start_dt = \"2018-01-02\"\n",
    "train_size, test_size = 188, 63\n",
    "\n",
    "# Find the position of end_dt in the list of dates (so we can find the day after)\n",
    "dates = data.index.to_list()\n",
    "start_pos = dates.index(start_dt)\n",
    "\n",
    "end_dt = dates[ start_pos + train_size-1 ]\n",
    "\n",
    "print(\"Train data return range from {st:s} to {e:s}\".format(st=start_dt, e=end_dt))"
   ]
  },
  {
   "cell_type": "markdown",
   "metadata": {},
   "source": [
    "## Create Dataframe of price levels for the training examples\n",
    "\n",
    "- The Dataframe should have two columns: the price level for the ticker and for the index\n",
    "- The minimum date in the Dataframe should be **the day before** `start_dt`\n",
    "- The maximum date in the Dataframe shold be `end_dt`\n",
    "\n",
    "The reason we are adding one day prior to `start_dt`\n",
    "- We want to have returns (percent price changes) from `start_dt` onwards\n",
    "- In order to compute a return for `start_dt`, we need the level from the prior day\n"
   ]
  },
  {
   "cell_type": "code",
   "execution_count": 9,
   "metadata": {
    "nbgrader": {
     "grade": false,
     "grade_id": "cell-653c73e99426086d",
     "locked": false,
     "schema_version": 3,
     "solution": true,
     "task": false
    }
   },
   "outputs": [],
   "source": [
    "# Set variable train_data_price to be a DataFrame with two columns\n",
    "## AAPL_Adj_Close, SPY_Adj_Close\n",
    "## with dates as the index\n",
    "## Having minimum date equal to THE DAY BEFORE start_dt\n",
    "## Having maximum date equal to end_dt\n",
    "\n",
    "\n",
    "### BEGIN SOLUTION\n",
    "def getRange(df, start_dt, end_dt):\n",
    "    dates = data.index.to_list()\n",
    "    \n",
    "    # Find the position of start_dt in the list of dates (so we can find the day before)\n",
    "    start_pos = dates.index(start_dt)\n",
    "\n",
    "    # Return the slice of the date range\n",
    "    return data[ dates[ start_pos -1 ]:end_dt]\n",
    "\n",
    "train_data_price = getRange(data, start_dt, end_dt)\n",
    "### END SOLUTION"
   ]
  },
  {
   "cell_type": "code",
   "execution_count": 10,
   "metadata": {},
   "outputs": [
    {
     "data": {
      "text/html": [
       "<div>\n",
       "<style scoped>\n",
       "    .dataframe tbody tr th:only-of-type {\n",
       "        vertical-align: middle;\n",
       "    }\n",
       "\n",
       "    .dataframe tbody tr th {\n",
       "        vertical-align: top;\n",
       "    }\n",
       "\n",
       "    .dataframe thead th {\n",
       "        text-align: right;\n",
       "    }\n",
       "</style>\n",
       "<table border=\"1\" class=\"dataframe\">\n",
       "  <thead>\n",
       "    <tr style=\"text-align: right;\">\n",
       "      <th></th>\n",
       "      <th>AAPL_Close</th>\n",
       "      <th>SPY_Close</th>\n",
       "    </tr>\n",
       "    <tr>\n",
       "      <th>Dt</th>\n",
       "      <th></th>\n",
       "      <th></th>\n",
       "    </tr>\n",
       "  </thead>\n",
       "  <tbody>\n",
       "    <tr>\n",
       "      <td>2017-12-29</td>\n",
       "      <td>169.23</td>\n",
       "      <td>266.86</td>\n",
       "    </tr>\n",
       "    <tr>\n",
       "      <td>2018-01-02</td>\n",
       "      <td>172.26</td>\n",
       "      <td>268.77</td>\n",
       "    </tr>\n",
       "    <tr>\n",
       "      <td>2018-01-03</td>\n",
       "      <td>172.23</td>\n",
       "      <td>270.47</td>\n",
       "    </tr>\n",
       "    <tr>\n",
       "      <td>2018-01-04</td>\n",
       "      <td>173.03</td>\n",
       "      <td>271.61</td>\n",
       "    </tr>\n",
       "    <tr>\n",
       "      <td>2018-01-05</td>\n",
       "      <td>175.00</td>\n",
       "      <td>273.42</td>\n",
       "    </tr>\n",
       "    <tr>\n",
       "      <td>...</td>\n",
       "      <td>...</td>\n",
       "      <td>...</td>\n",
       "    </tr>\n",
       "    <tr>\n",
       "      <td>2018-09-24</td>\n",
       "      <td>220.79</td>\n",
       "      <td>291.02</td>\n",
       "    </tr>\n",
       "    <tr>\n",
       "      <td>2018-09-25</td>\n",
       "      <td>222.19</td>\n",
       "      <td>290.75</td>\n",
       "    </tr>\n",
       "    <tr>\n",
       "      <td>2018-09-26</td>\n",
       "      <td>220.42</td>\n",
       "      <td>289.88</td>\n",
       "    </tr>\n",
       "    <tr>\n",
       "      <td>2018-09-27</td>\n",
       "      <td>224.95</td>\n",
       "      <td>290.69</td>\n",
       "    </tr>\n",
       "    <tr>\n",
       "      <td>2018-09-28</td>\n",
       "      <td>225.74</td>\n",
       "      <td>290.72</td>\n",
       "    </tr>\n",
       "  </tbody>\n",
       "</table>\n",
       "<p>189 rows × 2 columns</p>\n",
       "</div>"
      ],
      "text/plain": [
       "            AAPL_Close  SPY_Close\n",
       "Dt                               \n",
       "2017-12-29      169.23     266.86\n",
       "2018-01-02      172.26     268.77\n",
       "2018-01-03      172.23     270.47\n",
       "2018-01-04      173.03     271.61\n",
       "2018-01-05      175.00     273.42\n",
       "...                ...        ...\n",
       "2018-09-24      220.79     291.02\n",
       "2018-09-25      222.19     290.75\n",
       "2018-09-26      220.42     289.88\n",
       "2018-09-27      224.95     290.69\n",
       "2018-09-28      225.74     290.72\n",
       "\n",
       "[189 rows x 2 columns]"
      ]
     },
     "execution_count": 10,
     "metadata": {},
     "output_type": "execute_result"
    }
   ],
   "source": [
    "train_data_price"
   ]
  },
  {
   "cell_type": "markdown",
   "metadata": {},
   "source": [
    "## Create Dataframe of returns for training examples\n",
    "\n",
    "Create a new Dataframe with percent price changes of the columns, rather than the levles\n"
   ]
  },
  {
   "cell_type": "code",
   "execution_count": 11,
   "metadata": {},
   "outputs": [],
   "source": [
    "# Set variable train_data_ret to a DataFrame with two columns\n",
    "## containing the day over day percent changes in AAPL_Adj_Close, SPY_Adj_Close\n",
    "## with dates as the index\n",
    "## Having minimum date equal to start_dt\n",
    "## Having maximum date equal to end_dt\n",
    "\n",
    "## Please continue to name these columns with their original names (AAPL_Adj_Close, SPY_Adj_Close)\n",
    "## even though the data in the columns will be returns rather than prices.\n",
    "## We will rename the columns to reflect the data in the next step\n",
    "\n",
    "### BEGIN SOLUTION\n",
    "def getReturns(df, start_dt, end_dt):\n",
    "    df_range = getRange(df, start_dt, end_dt)\n",
    "    return df_range.pct_change()\n",
    "\n",
    "train_data_ret = getReturns(train_data_price, start_dt, end_dt)\n",
    "### END SOLUTION"
   ]
  },
  {
   "cell_type": "code",
   "execution_count": 12,
   "metadata": {},
   "outputs": [
    {
     "data": {
      "text/html": [
       "<div>\n",
       "<style scoped>\n",
       "    .dataframe tbody tr th:only-of-type {\n",
       "        vertical-align: middle;\n",
       "    }\n",
       "\n",
       "    .dataframe tbody tr th {\n",
       "        vertical-align: top;\n",
       "    }\n",
       "\n",
       "    .dataframe thead th {\n",
       "        text-align: right;\n",
       "    }\n",
       "</style>\n",
       "<table border=\"1\" class=\"dataframe\">\n",
       "  <thead>\n",
       "    <tr style=\"text-align: right;\">\n",
       "      <th></th>\n",
       "      <th>AAPL_Close</th>\n",
       "      <th>SPY_Close</th>\n",
       "    </tr>\n",
       "    <tr>\n",
       "      <th>Dt</th>\n",
       "      <th></th>\n",
       "      <th></th>\n",
       "    </tr>\n",
       "  </thead>\n",
       "  <tbody>\n",
       "    <tr>\n",
       "      <td>2017-12-29</td>\n",
       "      <td>NaN</td>\n",
       "      <td>NaN</td>\n",
       "    </tr>\n",
       "    <tr>\n",
       "      <td>2018-01-02</td>\n",
       "      <td>0.017905</td>\n",
       "      <td>0.007157</td>\n",
       "    </tr>\n",
       "    <tr>\n",
       "      <td>2018-01-03</td>\n",
       "      <td>-0.000174</td>\n",
       "      <td>0.006325</td>\n",
       "    </tr>\n",
       "    <tr>\n",
       "      <td>2018-01-04</td>\n",
       "      <td>0.004645</td>\n",
       "      <td>0.004215</td>\n",
       "    </tr>\n",
       "    <tr>\n",
       "      <td>2018-01-05</td>\n",
       "      <td>0.011385</td>\n",
       "      <td>0.006664</td>\n",
       "    </tr>\n",
       "  </tbody>\n",
       "</table>\n",
       "</div>"
      ],
      "text/plain": [
       "            AAPL_Close  SPY_Close\n",
       "Dt                               \n",
       "2017-12-29         NaN        NaN\n",
       "2018-01-02    0.017905   0.007157\n",
       "2018-01-03   -0.000174   0.006325\n",
       "2018-01-04    0.004645   0.004215\n",
       "2018-01-05    0.011385   0.006664"
      ]
     },
     "execution_count": 12,
     "metadata": {},
     "output_type": "execute_result"
    }
   ],
   "source": [
    "train_data_ret.head()"
   ]
  },
  {
   "cell_type": "code",
   "execution_count": 13,
   "metadata": {},
   "outputs": [],
   "source": [
    "## Rename the columns to indicate that they have been transformed from price (Adj_close) to Return\n",
    "def renamePriceToRet(df):\n",
    "    rename_map = { }\n",
    "    rename_map = { orig:  orig.replace( priceAttr.replace(\" \", \"_\"), \"Ret\") for orig in df.columns.to_list() }\n",
    "    return df.rename(columns = rename_map)\n",
    "\n",
    "train_data_ret = renamePriceToRet( train_data_ret )"
   ]
  },
  {
   "cell_type": "code",
   "execution_count": 14,
   "metadata": {},
   "outputs": [
    {
     "data": {
      "text/html": [
       "<div>\n",
       "<style scoped>\n",
       "    .dataframe tbody tr th:only-of-type {\n",
       "        vertical-align: middle;\n",
       "    }\n",
       "\n",
       "    .dataframe tbody tr th {\n",
       "        vertical-align: top;\n",
       "    }\n",
       "\n",
       "    .dataframe thead th {\n",
       "        text-align: right;\n",
       "    }\n",
       "</style>\n",
       "<table border=\"1\" class=\"dataframe\">\n",
       "  <thead>\n",
       "    <tr style=\"text-align: right;\">\n",
       "      <th></th>\n",
       "      <th>AAPL_Ret</th>\n",
       "      <th>SPY_Ret</th>\n",
       "    </tr>\n",
       "    <tr>\n",
       "      <th>Dt</th>\n",
       "      <th></th>\n",
       "      <th></th>\n",
       "    </tr>\n",
       "  </thead>\n",
       "  <tbody>\n",
       "    <tr>\n",
       "      <td>2017-12-29</td>\n",
       "      <td>NaN</td>\n",
       "      <td>NaN</td>\n",
       "    </tr>\n",
       "    <tr>\n",
       "      <td>2018-01-02</td>\n",
       "      <td>0.017905</td>\n",
       "      <td>0.007157</td>\n",
       "    </tr>\n",
       "    <tr>\n",
       "      <td>2018-01-03</td>\n",
       "      <td>-0.000174</td>\n",
       "      <td>0.006325</td>\n",
       "    </tr>\n",
       "    <tr>\n",
       "      <td>2018-01-04</td>\n",
       "      <td>0.004645</td>\n",
       "      <td>0.004215</td>\n",
       "    </tr>\n",
       "    <tr>\n",
       "      <td>2018-01-05</td>\n",
       "      <td>0.011385</td>\n",
       "      <td>0.006664</td>\n",
       "    </tr>\n",
       "  </tbody>\n",
       "</table>\n",
       "</div>"
      ],
      "text/plain": [
       "            AAPL_Ret   SPY_Ret\n",
       "Dt                            \n",
       "2017-12-29       NaN       NaN\n",
       "2018-01-02  0.017905  0.007157\n",
       "2018-01-03 -0.000174  0.006325\n",
       "2018-01-04  0.004645  0.004215\n",
       "2018-01-05  0.011385  0.006664"
      ]
     },
     "execution_count": 14,
     "metadata": {},
     "output_type": "execute_result"
    }
   ],
   "source": [
    "train_data_ret.head()"
   ]
  },
  {
   "cell_type": "code",
   "execution_count": 15,
   "metadata": {},
   "outputs": [
    {
     "data": {
      "text/html": [
       "<div>\n",
       "<style scoped>\n",
       "    .dataframe tbody tr th:only-of-type {\n",
       "        vertical-align: middle;\n",
       "    }\n",
       "\n",
       "    .dataframe tbody tr th {\n",
       "        vertical-align: top;\n",
       "    }\n",
       "\n",
       "    .dataframe thead th {\n",
       "        text-align: right;\n",
       "    }\n",
       "</style>\n",
       "<table border=\"1\" class=\"dataframe\">\n",
       "  <thead>\n",
       "    <tr style=\"text-align: right;\">\n",
       "      <th></th>\n",
       "      <th>AAPL_Ret</th>\n",
       "      <th>SPY_Ret</th>\n",
       "    </tr>\n",
       "    <tr>\n",
       "      <th>Dt</th>\n",
       "      <th></th>\n",
       "      <th></th>\n",
       "    </tr>\n",
       "  </thead>\n",
       "  <tbody>\n",
       "    <tr>\n",
       "      <td>2018-01-02</td>\n",
       "      <td>0.017905</td>\n",
       "      <td>0.007157</td>\n",
       "    </tr>\n",
       "    <tr>\n",
       "      <td>2018-01-03</td>\n",
       "      <td>-0.000174</td>\n",
       "      <td>0.006325</td>\n",
       "    </tr>\n",
       "    <tr>\n",
       "      <td>2018-01-04</td>\n",
       "      <td>0.004645</td>\n",
       "      <td>0.004215</td>\n",
       "    </tr>\n",
       "    <tr>\n",
       "      <td>2018-01-05</td>\n",
       "      <td>0.011385</td>\n",
       "      <td>0.006664</td>\n",
       "    </tr>\n",
       "    <tr>\n",
       "      <td>2018-01-08</td>\n",
       "      <td>-0.003714</td>\n",
       "      <td>0.001829</td>\n",
       "    </tr>\n",
       "  </tbody>\n",
       "</table>\n",
       "</div>"
      ],
      "text/plain": [
       "            AAPL_Ret   SPY_Ret\n",
       "Dt                            \n",
       "2018-01-02  0.017905  0.007157\n",
       "2018-01-03 -0.000174  0.006325\n",
       "2018-01-04  0.004645  0.004215\n",
       "2018-01-05  0.011385  0.006664\n",
       "2018-01-08 -0.003714  0.001829"
      ]
     },
     "execution_count": 15,
     "metadata": {},
     "output_type": "execute_result"
    }
   ],
   "source": [
    "## Drop the first date (the day before `start_dt`) since it has an undefied return\n",
    "train_data_ret = train_data_ret[ start_dt:]\n",
    "\n",
    "train_data_ret.head()"
   ]
  },
  {
   "cell_type": "markdown",
   "metadata": {},
   "source": [
    "## Remove the target (AAPL_Ret)\n",
    "\n",
    "The only feature is the return of the market proxy $\\spy$.\n",
    "\n",
    "Predicting the target given the target as a feature would be cheating !\n"
   ]
  },
  {
   "cell_type": "code",
   "execution_count": 16,
   "metadata": {},
   "outputs": [],
   "source": [
    "targetAttr = index_ticker + \"_Ret\"\n",
    "X_train, y_train =  train_data_ret[ [targetAttr] ], train_data_ret.drop(columns=[ targetAttr ] )"
   ]
  },
  {
   "cell_type": "code",
   "execution_count": 17,
   "metadata": {},
   "outputs": [
    {
     "data": {
      "text/html": [
       "<div>\n",
       "<style scoped>\n",
       "    .dataframe tbody tr th:only-of-type {\n",
       "        vertical-align: middle;\n",
       "    }\n",
       "\n",
       "    .dataframe tbody tr th {\n",
       "        vertical-align: top;\n",
       "    }\n",
       "\n",
       "    .dataframe thead th {\n",
       "        text-align: right;\n",
       "    }\n",
       "</style>\n",
       "<table border=\"1\" class=\"dataframe\">\n",
       "  <thead>\n",
       "    <tr style=\"text-align: right;\">\n",
       "      <th></th>\n",
       "      <th>SPY_Ret</th>\n",
       "    </tr>\n",
       "    <tr>\n",
       "      <th>Dt</th>\n",
       "      <th></th>\n",
       "    </tr>\n",
       "  </thead>\n",
       "  <tbody>\n",
       "    <tr>\n",
       "      <td>2018-01-02</td>\n",
       "      <td>0.007157</td>\n",
       "    </tr>\n",
       "    <tr>\n",
       "      <td>2018-01-03</td>\n",
       "      <td>0.006325</td>\n",
       "    </tr>\n",
       "    <tr>\n",
       "      <td>2018-01-04</td>\n",
       "      <td>0.004215</td>\n",
       "    </tr>\n",
       "    <tr>\n",
       "      <td>2018-01-05</td>\n",
       "      <td>0.006664</td>\n",
       "    </tr>\n",
       "    <tr>\n",
       "      <td>2018-01-08</td>\n",
       "      <td>0.001829</td>\n",
       "    </tr>\n",
       "  </tbody>\n",
       "</table>\n",
       "</div>"
      ],
      "text/plain": [
       "             SPY_Ret\n",
       "Dt                  \n",
       "2018-01-02  0.007157\n",
       "2018-01-03  0.006325\n",
       "2018-01-04  0.004215\n",
       "2018-01-05  0.006664\n",
       "2018-01-08  0.001829"
      ]
     },
     "execution_count": 17,
     "metadata": {},
     "output_type": "execute_result"
    }
   ],
   "source": [
    "X_train.head()"
   ]
  },
  {
   "cell_type": "code",
   "execution_count": 18,
   "metadata": {},
   "outputs": [
    {
     "data": {
      "text/html": [
       "<div>\n",
       "<style scoped>\n",
       "    .dataframe tbody tr th:only-of-type {\n",
       "        vertical-align: middle;\n",
       "    }\n",
       "\n",
       "    .dataframe tbody tr th {\n",
       "        vertical-align: top;\n",
       "    }\n",
       "\n",
       "    .dataframe thead th {\n",
       "        text-align: right;\n",
       "    }\n",
       "</style>\n",
       "<table border=\"1\" class=\"dataframe\">\n",
       "  <thead>\n",
       "    <tr style=\"text-align: right;\">\n",
       "      <th></th>\n",
       "      <th>AAPL_Ret</th>\n",
       "    </tr>\n",
       "    <tr>\n",
       "      <th>Dt</th>\n",
       "      <th></th>\n",
       "    </tr>\n",
       "  </thead>\n",
       "  <tbody>\n",
       "    <tr>\n",
       "      <td>2018-01-02</td>\n",
       "      <td>0.017905</td>\n",
       "    </tr>\n",
       "    <tr>\n",
       "      <td>2018-01-03</td>\n",
       "      <td>-0.000174</td>\n",
       "    </tr>\n",
       "    <tr>\n",
       "      <td>2018-01-04</td>\n",
       "      <td>0.004645</td>\n",
       "    </tr>\n",
       "    <tr>\n",
       "      <td>2018-01-05</td>\n",
       "      <td>0.011385</td>\n",
       "    </tr>\n",
       "    <tr>\n",
       "      <td>2018-01-08</td>\n",
       "      <td>-0.003714</td>\n",
       "    </tr>\n",
       "  </tbody>\n",
       "</table>\n",
       "</div>"
      ],
      "text/plain": [
       "            AAPL_Ret\n",
       "Dt                  \n",
       "2018-01-02  0.017905\n",
       "2018-01-03 -0.000174\n",
       "2018-01-04  0.004645\n",
       "2018-01-05  0.011385\n",
       "2018-01-08 -0.003714"
      ]
     },
     "execution_count": 18,
     "metadata": {},
     "output_type": "execute_result"
    }
   ],
   "source": [
    "y_train.head()"
   ]
  },
  {
   "cell_type": "markdown",
   "metadata": {},
   "source": [
    "# Transformations: transform the test data\n",
    "\n",
    "The test data will be returns from `test_start_dt` to `test_end_dt` inclusive.\n",
    "\n",
    "We will apply identical transformations as we did to the training data, but with a different date range.\n"
   ]
  },
  {
   "cell_type": "code",
   "execution_count": 19,
   "metadata": {},
   "outputs": [
    {
     "name": "stdout",
     "output_type": "stream",
     "text": [
      "Test data return range from 2018-10-01 to 2018-12-31\n"
     ]
    }
   ],
   "source": [
    "# Find the position of end_dt in the list of dates (so we can find the day after)\n",
    "dates = data.index.to_list()\n",
    "end_pos = dates.index(end_dt)\n",
    "\n",
    "test_start_dt = dates[ end_pos+1 ]\n",
    "test_end_dt   = dates[ end_pos + test_size]\n",
    "\n",
    "print(\"Test data return range from {st:s} to {e:s}\".format(st=test_start_dt, e=test_end_dt))"
   ]
  },
  {
   "cell_type": "markdown",
   "metadata": {},
   "source": [
    "## Create Dataframe of price levels for the test data\n",
    "\n",
    "Use the same details as specified for the training data\n"
   ]
  },
  {
   "cell_type": "code",
   "execution_count": 20,
   "metadata": {},
   "outputs": [],
   "source": [
    "# Set variable test_data_price to be a DataFrame with two columns\n",
    "## AAPL_Adj_Close, SPY_Adj_Close\n",
    "## with dates as the index\n",
    "## Having minimum date equal to THE DAY BEFORE test_start_dt\n",
    "## Having maximum date equal to test_end_dt\n",
    "\n",
    "\n",
    "### BEGIN SOLUTION\n",
    "\n",
    "test_data_price = getRange(data, test_start_dt, test_end_dt)\n",
    "### END SOLUTION"
   ]
  },
  {
   "cell_type": "code",
   "execution_count": 21,
   "metadata": {},
   "outputs": [
    {
     "data": {
      "text/html": [
       "<div>\n",
       "<style scoped>\n",
       "    .dataframe tbody tr th:only-of-type {\n",
       "        vertical-align: middle;\n",
       "    }\n",
       "\n",
       "    .dataframe tbody tr th {\n",
       "        vertical-align: top;\n",
       "    }\n",
       "\n",
       "    .dataframe thead th {\n",
       "        text-align: right;\n",
       "    }\n",
       "</style>\n",
       "<table border=\"1\" class=\"dataframe\">\n",
       "  <thead>\n",
       "    <tr style=\"text-align: right;\">\n",
       "      <th></th>\n",
       "      <th>AAPL_Close</th>\n",
       "      <th>SPY_Close</th>\n",
       "    </tr>\n",
       "    <tr>\n",
       "      <th>Dt</th>\n",
       "      <th></th>\n",
       "      <th></th>\n",
       "    </tr>\n",
       "  </thead>\n",
       "  <tbody>\n",
       "    <tr>\n",
       "      <td>2018-09-28</td>\n",
       "      <td>225.74</td>\n",
       "      <td>290.72</td>\n",
       "    </tr>\n",
       "    <tr>\n",
       "      <td>2018-10-01</td>\n",
       "      <td>227.26</td>\n",
       "      <td>291.73</td>\n",
       "    </tr>\n",
       "    <tr>\n",
       "      <td>2018-10-02</td>\n",
       "      <td>229.28</td>\n",
       "      <td>291.56</td>\n",
       "    </tr>\n",
       "    <tr>\n",
       "      <td>2018-10-03</td>\n",
       "      <td>232.07</td>\n",
       "      <td>291.72</td>\n",
       "    </tr>\n",
       "    <tr>\n",
       "      <td>2018-10-04</td>\n",
       "      <td>227.99</td>\n",
       "      <td>289.44</td>\n",
       "    </tr>\n",
       "    <tr>\n",
       "      <td>...</td>\n",
       "      <td>...</td>\n",
       "      <td>...</td>\n",
       "    </tr>\n",
       "    <tr>\n",
       "      <td>2018-12-24</td>\n",
       "      <td>146.83</td>\n",
       "      <td>234.34</td>\n",
       "    </tr>\n",
       "    <tr>\n",
       "      <td>2018-12-26</td>\n",
       "      <td>157.17</td>\n",
       "      <td>246.18</td>\n",
       "    </tr>\n",
       "    <tr>\n",
       "      <td>2018-12-27</td>\n",
       "      <td>156.15</td>\n",
       "      <td>248.07</td>\n",
       "    </tr>\n",
       "    <tr>\n",
       "      <td>2018-12-28</td>\n",
       "      <td>156.23</td>\n",
       "      <td>247.75</td>\n",
       "    </tr>\n",
       "    <tr>\n",
       "      <td>2018-12-31</td>\n",
       "      <td>157.74</td>\n",
       "      <td>249.92</td>\n",
       "    </tr>\n",
       "  </tbody>\n",
       "</table>\n",
       "<p>64 rows × 2 columns</p>\n",
       "</div>"
      ],
      "text/plain": [
       "            AAPL_Close  SPY_Close\n",
       "Dt                               \n",
       "2018-09-28      225.74     290.72\n",
       "2018-10-01      227.26     291.73\n",
       "2018-10-02      229.28     291.56\n",
       "2018-10-03      232.07     291.72\n",
       "2018-10-04      227.99     289.44\n",
       "...                ...        ...\n",
       "2018-12-24      146.83     234.34\n",
       "2018-12-26      157.17     246.18\n",
       "2018-12-27      156.15     248.07\n",
       "2018-12-28      156.23     247.75\n",
       "2018-12-31      157.74     249.92\n",
       "\n",
       "[64 rows x 2 columns]"
      ]
     },
     "execution_count": 21,
     "metadata": {},
     "output_type": "execute_result"
    }
   ],
   "source": [
    "test_data_price"
   ]
  },
  {
   "cell_type": "markdown",
   "metadata": {},
   "source": [
    "## Create Dataframe of returns for test examples\n",
    "\n",
    "Use the same details as specified for the training data"
   ]
  },
  {
   "cell_type": "code",
   "execution_count": 22,
   "metadata": {},
   "outputs": [],
   "source": [
    "# Set variable test_data_ret to a DataFrame with two columns\n",
    "## containing the day over day percent changes in AAPL_Adj_Close, SPY_Adj_Close\n",
    "## with dates as the index\n",
    "## Having minimum date equal to test_start_dt\n",
    "## Having maximum date equal to test_end_dt\n",
    "\n",
    "## Please continue to name these columns with their original names (AAPL_Adj_Close, SPY_Adj_Close)\n",
    "## even though the data in the columns will be returns rather than prices.\n",
    "## We will rename the columns to reflect the data in the next step\n",
    "\n",
    "### BEGIN SOLUTION\n",
    "test_data_ret = getReturns(test_data_price, test_start_dt, test_end_dt)\n",
    "### END SOLUTION"
   ]
  },
  {
   "cell_type": "code",
   "execution_count": 23,
   "metadata": {},
   "outputs": [
    {
     "data": {
      "text/html": [
       "<div>\n",
       "<style scoped>\n",
       "    .dataframe tbody tr th:only-of-type {\n",
       "        vertical-align: middle;\n",
       "    }\n",
       "\n",
       "    .dataframe tbody tr th {\n",
       "        vertical-align: top;\n",
       "    }\n",
       "\n",
       "    .dataframe thead th {\n",
       "        text-align: right;\n",
       "    }\n",
       "</style>\n",
       "<table border=\"1\" class=\"dataframe\">\n",
       "  <thead>\n",
       "    <tr style=\"text-align: right;\">\n",
       "      <th></th>\n",
       "      <th>AAPL_Close</th>\n",
       "      <th>SPY_Close</th>\n",
       "    </tr>\n",
       "    <tr>\n",
       "      <th>Dt</th>\n",
       "      <th></th>\n",
       "      <th></th>\n",
       "    </tr>\n",
       "  </thead>\n",
       "  <tbody>\n",
       "    <tr>\n",
       "      <td>2018-09-28</td>\n",
       "      <td>NaN</td>\n",
       "      <td>NaN</td>\n",
       "    </tr>\n",
       "    <tr>\n",
       "      <td>2018-10-01</td>\n",
       "      <td>0.006733</td>\n",
       "      <td>0.003474</td>\n",
       "    </tr>\n",
       "    <tr>\n",
       "      <td>2018-10-02</td>\n",
       "      <td>0.008888</td>\n",
       "      <td>-0.000583</td>\n",
       "    </tr>\n",
       "    <tr>\n",
       "      <td>2018-10-03</td>\n",
       "      <td>0.012169</td>\n",
       "      <td>0.000549</td>\n",
       "    </tr>\n",
       "    <tr>\n",
       "      <td>2018-10-04</td>\n",
       "      <td>-0.017581</td>\n",
       "      <td>-0.007816</td>\n",
       "    </tr>\n",
       "  </tbody>\n",
       "</table>\n",
       "</div>"
      ],
      "text/plain": [
       "            AAPL_Close  SPY_Close\n",
       "Dt                               \n",
       "2018-09-28         NaN        NaN\n",
       "2018-10-01    0.006733   0.003474\n",
       "2018-10-02    0.008888  -0.000583\n",
       "2018-10-03    0.012169   0.000549\n",
       "2018-10-04   -0.017581  -0.007816"
      ]
     },
     "execution_count": 23,
     "metadata": {},
     "output_type": "execute_result"
    }
   ],
   "source": [
    "test_data_ret.head()"
   ]
  },
  {
   "cell_type": "code",
   "execution_count": 24,
   "metadata": {},
   "outputs": [],
   "source": [
    "## Rename the columns to indicate that they have been transformed from price (Adj_close) to Return\n",
    "\n",
    "test_data_ret = renamePriceToRet( test_data_ret )"
   ]
  },
  {
   "cell_type": "code",
   "execution_count": 25,
   "metadata": {},
   "outputs": [
    {
     "data": {
      "text/html": [
       "<div>\n",
       "<style scoped>\n",
       "    .dataframe tbody tr th:only-of-type {\n",
       "        vertical-align: middle;\n",
       "    }\n",
       "\n",
       "    .dataframe tbody tr th {\n",
       "        vertical-align: top;\n",
       "    }\n",
       "\n",
       "    .dataframe thead th {\n",
       "        text-align: right;\n",
       "    }\n",
       "</style>\n",
       "<table border=\"1\" class=\"dataframe\">\n",
       "  <thead>\n",
       "    <tr style=\"text-align: right;\">\n",
       "      <th></th>\n",
       "      <th>AAPL_Ret</th>\n",
       "      <th>SPY_Ret</th>\n",
       "    </tr>\n",
       "    <tr>\n",
       "      <th>Dt</th>\n",
       "      <th></th>\n",
       "      <th></th>\n",
       "    </tr>\n",
       "  </thead>\n",
       "  <tbody>\n",
       "    <tr>\n",
       "      <td>2018-09-28</td>\n",
       "      <td>NaN</td>\n",
       "      <td>NaN</td>\n",
       "    </tr>\n",
       "    <tr>\n",
       "      <td>2018-10-01</td>\n",
       "      <td>0.006733</td>\n",
       "      <td>0.003474</td>\n",
       "    </tr>\n",
       "    <tr>\n",
       "      <td>2018-10-02</td>\n",
       "      <td>0.008888</td>\n",
       "      <td>-0.000583</td>\n",
       "    </tr>\n",
       "    <tr>\n",
       "      <td>2018-10-03</td>\n",
       "      <td>0.012169</td>\n",
       "      <td>0.000549</td>\n",
       "    </tr>\n",
       "    <tr>\n",
       "      <td>2018-10-04</td>\n",
       "      <td>-0.017581</td>\n",
       "      <td>-0.007816</td>\n",
       "    </tr>\n",
       "  </tbody>\n",
       "</table>\n",
       "</div>"
      ],
      "text/plain": [
       "            AAPL_Ret   SPY_Ret\n",
       "Dt                            \n",
       "2018-09-28       NaN       NaN\n",
       "2018-10-01  0.006733  0.003474\n",
       "2018-10-02  0.008888 -0.000583\n",
       "2018-10-03  0.012169  0.000549\n",
       "2018-10-04 -0.017581 -0.007816"
      ]
     },
     "execution_count": 25,
     "metadata": {},
     "output_type": "execute_result"
    }
   ],
   "source": [
    "test_data_ret.head()"
   ]
  },
  {
   "cell_type": "code",
   "execution_count": 26,
   "metadata": {},
   "outputs": [
    {
     "data": {
      "text/html": [
       "<div>\n",
       "<style scoped>\n",
       "    .dataframe tbody tr th:only-of-type {\n",
       "        vertical-align: middle;\n",
       "    }\n",
       "\n",
       "    .dataframe tbody tr th {\n",
       "        vertical-align: top;\n",
       "    }\n",
       "\n",
       "    .dataframe thead th {\n",
       "        text-align: right;\n",
       "    }\n",
       "</style>\n",
       "<table border=\"1\" class=\"dataframe\">\n",
       "  <thead>\n",
       "    <tr style=\"text-align: right;\">\n",
       "      <th></th>\n",
       "      <th>AAPL_Ret</th>\n",
       "      <th>SPY_Ret</th>\n",
       "    </tr>\n",
       "    <tr>\n",
       "      <th>Dt</th>\n",
       "      <th></th>\n",
       "      <th></th>\n",
       "    </tr>\n",
       "  </thead>\n",
       "  <tbody>\n",
       "    <tr>\n",
       "      <td>2018-10-01</td>\n",
       "      <td>0.006733</td>\n",
       "      <td>0.003474</td>\n",
       "    </tr>\n",
       "    <tr>\n",
       "      <td>2018-10-02</td>\n",
       "      <td>0.008888</td>\n",
       "      <td>-0.000583</td>\n",
       "    </tr>\n",
       "    <tr>\n",
       "      <td>2018-10-03</td>\n",
       "      <td>0.012169</td>\n",
       "      <td>0.000549</td>\n",
       "    </tr>\n",
       "    <tr>\n",
       "      <td>2018-10-04</td>\n",
       "      <td>-0.017581</td>\n",
       "      <td>-0.007816</td>\n",
       "    </tr>\n",
       "    <tr>\n",
       "      <td>2018-10-05</td>\n",
       "      <td>-0.016229</td>\n",
       "      <td>-0.005597</td>\n",
       "    </tr>\n",
       "  </tbody>\n",
       "</table>\n",
       "</div>"
      ],
      "text/plain": [
       "            AAPL_Ret   SPY_Ret\n",
       "Dt                            \n",
       "2018-10-01  0.006733  0.003474\n",
       "2018-10-02  0.008888 -0.000583\n",
       "2018-10-03  0.012169  0.000549\n",
       "2018-10-04 -0.017581 -0.007816\n",
       "2018-10-05 -0.016229 -0.005597"
      ]
     },
     "execution_count": 26,
     "metadata": {},
     "output_type": "execute_result"
    }
   ],
   "source": [
    "## Drop the first date (the day before `test_start_dt`) since it has an undefined return\n",
    "test_data_ret = test_data_ret[ test_start_dt:]\n",
    "\n",
    "test_data_ret.head()"
   ]
  },
  {
   "cell_type": "markdown",
   "metadata": {},
   "source": [
    "## Remove the target (AAPL_Ret) \n",
    "\n",
    "The only feature is the return of the market proxy $\\spy$.\n",
    "\n",
    "Predicting the target given the target as a feature would be cheating !\n"
   ]
  },
  {
   "cell_type": "code",
   "execution_count": 27,
   "metadata": {},
   "outputs": [],
   "source": [
    "targetAttr = index_ticker + \"_Ret\"\n",
    "X_test, y_test = test_data_ret.drop(columns=[ targetAttr ] ), test_data_ret[ [targetAttr] ]"
   ]
  },
  {
   "cell_type": "markdown",
   "metadata": {},
   "source": [
    "# Train a model\n",
    "\n",
    "Use Linear Regression to predict the return of a ticker from the return of the market proxy $\\spy$.\n",
    "For example, for ticker $\\aapl$\n",
    "\n",
    "$$\n",
    "\\ret_\\aapl^\\tp = \\beta_0 + \\beta_{\\aapl, \\spy} * \\ret_\\spy^\\tp + \\epsilon_{\\aapl}^\\tp\n",
    "$$\n",
    "\n",
    "Each example corresponds to one day (time $t$)\n",
    "- has features\n",
    "    - constant 1, corresponding to the intercept parameter\n",
    "    - return of the market proxy $\\spy$\n",
    "       $$\\x^\\tp = \\begin{pmatrix}\n",
    "        1 \\\\\n",
    "        \\ret_\\spy^\\tp\n",
    "        \\end{pmatrix}$$\n",
    "\n",
    "- has target\n",
    "    - return of the ticker\n",
    "    $$\\y^\\tp = \\ret_\\aapl^\\tp$$\n",
    "\n",
    " \n",
    "You will use Linear Regression to solve for parameters $\\beta_0$,  $\\beta_{\\aapl, \\spy}$ \n",
    "\n",
    "- In the lectures we used the symbol $\\Theta$ to denote the parameter vector; here we use $\\mathbf{\\beta}$\n",
    "- In Finance the symbol $\\beta$ is often used to denote the relationship between returns.\n",
    "- Rather than explicitly creating a constant 1 feature\n",
    "    - you may invoke the model object with the option including an intercept\n",
    "    - if you do so, the feature vector you pass will be\n",
    "   $$\\x^\\tp = \\begin{pmatrix}\n",
    "        \\ret_\\spy^\\tp\n",
    "        \\end{pmatrix}$$  \n",
    "    \n",
    "\n",
    "\n",
    "- Use the entire training set\n",
    "- Do not use cross-validation\n",
    "\n"
   ]
  },
  {
   "cell_type": "code",
   "execution_count": 28,
   "metadata": {},
   "outputs": [
    {
     "name": "stdout",
     "output_type": "stream",
     "text": [
      "AAPL: beta_0=0.001, beta_SPY=1.071\n"
     ]
    }
   ],
   "source": [
    "beta_0 = 0    # The regression parameter for the constant (i.e., the intercept)\n",
    "beta_SPY = 0  # The regression parameter for the return of SPY\n",
    "\n",
    "### BEGIN SOLUTION\n",
    "from sklearn import linear_model\n",
    "from sklearn.metrics import mean_squared_error, r2_score\n",
    "\n",
    "def createModel():\n",
    "    model = linear_model.LinearRegression()\n",
    "    return model\n",
    "\n",
    "def regress(model, X, y):\n",
    "    _= model.fit( X.values, y.values )\n",
    "    \n",
    "    return model.intercept_[0], model.coef_[0][0]\n",
    "\n",
    "def computeRMSE( target, predicted ):\n",
    "    rmse = np.sqrt( mean_squared_error(target,  predicted))\n",
    "    return rmse\n",
    "\n",
    "regr = createModel()\n",
    "\n",
    "aapl_beta_0, aapl_beta_1 = regress(regr, X_train, y_train)\n",
    "\n",
    "# Assign to answer variables\n",
    "beta_0, beta_SPY = aapl_beta_0, aapl_beta_1\n",
    "### END SOLUTION\n",
    "print(\"{t:s}: beta_0={b0:3.3f}, beta_SPY={b1:3.3f}\".format(t=ticker, b0=aapl_beta_0, b1=beta_SPY))\n"
   ]
  },
  {
   "cell_type": "markdown",
   "metadata": {},
   "source": [
    "# Train the model using Cross valiation\n",
    "\n",
    "Use 5-fold cross validation"
   ]
  },
  {
   "cell_type": "code",
   "execution_count": 29,
   "metadata": {},
   "outputs": [
    {
     "name": "stdout",
     "output_type": "stream",
     "text": [
      "Scores: min=-0.01, max=0.62, avg=0.33\n"
     ]
    }
   ],
   "source": [
    "# Set variable `scores` \n",
    "## A numpy.ndarray containing the 5 scores from 5-fold cross validation\n",
    "### BEGIN SOLUTION\n",
    "from sklearn.model_selection import cross_val_score\n",
    "\n",
    "scores = cross_val_score(regr, X_train, y_train, cv=5)\n",
    "### END SOLUTION\n",
    "\n",
    "print(\"Scores: min={mn:4.2f}, max={mx:4.2f}, avg={a:4.2f}\".format(mn=scores.min(), mx=scores.max(), a=scores.mean()))"
   ]
  },
  {
   "cell_type": "markdown",
   "metadata": {},
   "source": [
    "# Evaluate Loss (in sample RMSE)"
   ]
  },
  {
   "cell_type": "code",
   "execution_count": 30,
   "metadata": {},
   "outputs": [
    {
     "name": "stdout",
     "output_type": "stream",
     "text": [
      "Root Mean squared error: 0.011\n",
      "R-squared: 0.42\n"
     ]
    }
   ],
   "source": [
    "## BEGIN SOLUTION\n",
    "y_train_pred = regr.predict( X_train )\n",
    "rmse = np.sqrt( mean_squared_error(y_train,  y_train_pred))\n",
    "print(\"Root Mean squared error: {:.3f}\".format( rmse ) )\n",
    "\n",
    "# Explained variance score: 1 is perfect prediction\n",
    "print(\"R-squared: {:.2f}\".format(r2_score(y_train, y_train_pred)) )\n",
    "### END SOLUTION"
   ]
  },
  {
   "cell_type": "markdown",
   "metadata": {},
   "source": [
    "# Evaluate Performance Metric (out of sample RMSE)\n",
    "\n",
    "Use test examples"
   ]
  },
  {
   "cell_type": "code",
   "execution_count": 31,
   "metadata": {},
   "outputs": [
    {
     "name": "stdout",
     "output_type": "stream",
     "text": [
      "Root Mean squared error: 0.017\n"
     ]
    }
   ],
   "source": [
    "## BEGIN SOLUTION\n",
    "y_test_pred = regr.predict( X_test )\n",
    "rmse = np.sqrt( mean_squared_error(y_test,  y_test_pred))\n",
    "print(\"Root Mean squared error: {:.3f}\".format( rmse ) )\n",
    "\n",
    "### END SOLUTION"
   ]
  },
  {
   "cell_type": "markdown",
   "metadata": {},
   "source": [
    "## Hedged returns\n",
    "\n",
    "Why is being able to predict the return of a ticker, given the return of another instrument (e.g., the market proxy) useful ?\n",
    "- It **does not** allow us to predict the future\n",
    "    - To predict $\\ret_\\aapl^\\tp$, we require the same day return of the proxy $\\ret_\\spy$\n",
    "- It **does** allow us to predict how much $\\aapl$ will outperform the market proxy\n",
    "\n",
    "Consider an investment that goes long (i.e, holds a positive quantity of $\\aapl$\n",
    "- Since the relationship between returns is positive\n",
    "    - You will likely make money if the market goes up\n",
    "    - You will likely lose money if the market goes down\n",
    "    \n",
    "Consider instead a *hedged* investment\n",
    "- Go long 1 USD of $\\aapl$\n",
    "- Go short (hold a negative quantity) $\\beta_{\\aapl,\\spy}$ USD of the market proxy $\\spy$\n",
    "\n",
    "Your *hedged return* on this long/short portfolio will be\n",
    "$$\n",
    "{\\ret'}_{\\aapl}^\\tp = \\ret_\\aapl^\\tp - \\beta_{\\aapl, \\spy} * \\ret_\\spy^\\tp\n",
    "$$\n",
    "\n",
    "As long as\n",
    "$$\n",
    "\\ret_\\aapl^\\tp \\gt \\beta_{\\aapl, \\spy} * \\ret_\\spy^\\tp\n",
    "$$\n",
    "you will make a profit, regardless of whether the market proxy rises or falls !\n",
    "\n",
    "That is: you make money as long as $\\aapl$ *outperforms* the market proxy.\n",
    "\n"
   ]
  },
  {
   "cell_type": "markdown",
   "metadata": {},
   "source": [
    "This hedged portfolio is interesting\n",
    "- Because your returns are independent of the market\n",
    "- The volatility of your returns is likely much lower than the volatility of the long-only investment\n",
    "- There is a belief that it is difficult to predict the market $\\ret_\\spy$\n",
    "- But you might be able to discover a ticker (e.g., $\\aapl$) that will outpeform the market\n",
    "\n",
    "This is a real world application of the Regression task in Finance."
   ]
  },
  {
   "cell_type": "markdown",
   "metadata": {},
   "source": [
    "## Compute the hedged return on the test data examples\n",
    "$$\n",
    "{\\ret'}_{\\aapl}^\\tp = \\ret_\\aapl^\\tp - \\beta_{\\aapl, \\spy} * \\ret_\\spy^\\tp\n",
    "$$\n",
    "for all dates $t$ in the test set.  \n"
   ]
  },
  {
   "cell_type": "code",
   "execution_count": 32,
   "metadata": {},
   "outputs": [],
   "source": [
    "# Set variable y_resid to \n",
    "## a numpy.ndarray\n",
    "## containing the values of the hedged returns\n",
    "## for all days in the test examples\n",
    "\n",
    "### BEGIN SOLUTION\n",
    "y_resid = y_test.values - X_test.values * beta_SPY\n",
    "### END SOLUTION"
   ]
  },
  {
   "cell_type": "code",
   "execution_count": 33,
   "metadata": {},
   "outputs": [
    {
     "data": {
      "text/plain": [
       "(63, 1)"
      ]
     },
     "execution_count": 33,
     "metadata": {},
     "output_type": "execute_result"
    },
    {
     "data": {
      "text/plain": [
       "(63, 1)"
      ]
     },
     "execution_count": 33,
     "metadata": {},
     "output_type": "execute_result"
    },
    {
     "data": {
      "text/plain": [
       "(63, 1)"
      ]
     },
     "execution_count": 33,
     "metadata": {},
     "output_type": "execute_result"
    }
   ],
   "source": [
    "y_resid.shape\n",
    "y_test.shape\n",
    "X_test.shape"
   ]
  },
  {
   "cell_type": "markdown",
   "metadata": {},
   "source": [
    "# OLD version follows"
   ]
  },
  {
   "cell_type": "markdown",
   "metadata": {
    "nbgrader": {
     "grade": false,
     "grade_id": "cell-6a258ba42be40271",
     "locked": true,
     "schema_version": 3,
     "solution": false,
     "task": false
    }
   },
   "source": [
    "# Assignment: Using Machine Learning for Hedging\n",
    "\n",
    "Welcome to the first assignment.  \n",
    "\n",
    "We will show how Machine Learning can be used in Finance to build multi-asset portfolios that have better risk/return characteristics than a portfolio consisting of a single asset.\n",
    "\n",
    "# Objectives\n",
    "We will be using Linear Regression to establish the relationship between the returns of individual equities and \"the market\".\n",
    "\n",
    "The purpose of the assignment is two-fold\n",
    "- to get you up to speed with Machine Learning in general, and `sklearn` in particular\n",
    "- to get you up to speed with the other programming tools (e.g., Pandas) that will help you in data preparation, etc.\n",
    "\n",
    "# How to report your answers\n",
    "I will mix explanation of the topic with tasks that you must complete. Look for \n",
    "the string \"**Queston**\" to find a task that you must perform.\n",
    "Most of the tasks will require you to assign values to variables and execute a `print` statement.\n",
    "\n",
    "**Motivation**\n",
    "\n",
    "If you *do not change* the print statement then the GA (or a machine) can automatically find your answer to each part by searching for the string.\n"
   ]
  },
  {
   "cell_type": "markdown",
   "metadata": {
    "nbgrader": {
     "grade": false,
     "grade_id": "cell-0e22b5a64e1a66aa",
     "locked": true,
     "schema_version": 3,
     "solution": false,
     "task": false
    }
   },
   "source": [
    "# The data\n",
    "\n",
    "The data are the daily prices of a number of individual equities and equity indices.\n",
    "The prices are arranged in a series in ascending date order (a timeseries).\n",
    "- There is a separate `.csv` file for each equity or index in the directory `data/assignment_1`\n",
    "\n",
    "## Reading the data\n",
    "\n",
    "You should get the price data into some sort of data structure.  Pandas DataFrame is super useful\n",
    "so I recommend that's what you use (not required though).\n",
    "\n",
    "**Hints**: \n",
    "- look up the Pandas `read_csv` method\n",
    "- it will be very convenient to use dates as the index of your DataFrame\n",
    "\n",
    "## Preliminary data preparation\n",
    "\n",
    "In the rest of the assignment we will *not* be working with prices but with *returns* (percent change in prices).\n",
    "For example, for ticker $\\aapl$ (Apple)\n",
    "\n",
    "$$\n",
    "\\begin{array}[lll]\\\\\n",
    "\\ret_\\aapl^\\tp = \\frac{\\price _\\aapl^\\tp}{\\price _\\aapl^{(t-1)}} -1 \\\\\n",
    "\\text{where} \\\\\n",
    "\\price_\\aapl^\\tp \\text{ denotes the price of ticker } \\aapl \\text{ on date } t \\\\\n",
    "\\ret_\\aapl^\\tp \\text{ denotes the return of ticker } \\aapl \\text{ on date } t\n",
    "\\end{array}\n",
    "$$\n",
    "\n",
    "- You will want to convert the price data into return data\n",
    "- We only want the returns for the year 2018; discard any other return\n",
    "\n",
    "**Question**\n",
    "Replace the 0 values in the following cell with your answers, and execute the print statements"
   ]
  },
  {
   "cell_type": "code",
   "execution_count": 34,
   "metadata": {},
   "outputs": [
    {
     "data": {
      "text/plain": [
       "array([], dtype=float64)"
      ]
     },
     "execution_count": 34,
     "metadata": {},
     "output_type": "execute_result"
    }
   ],
   "source": [
    "import numpy as np\n",
    "np.array([])"
   ]
  },
  {
   "cell_type": "code",
   "execution_count": 35,
   "metadata": {
    "nbgrader": {
     "grade": true,
     "grade_id": "check-aapl-2018",
     "locked": true,
     "points": 0,
     "schema_version": 3,
     "solution": false,
     "task": false
    }
   },
   "outputs": [
    {
     "name": "stdout",
     "output_type": "stream",
     "text": [
      "There are 251 returns. First=1.790%, Last=0.967%, Avg=-0.012%\n"
     ]
    }
   ],
   "source": [
    "ticker_returns = np.array([]) # Returns of the ticker for year 2018\n",
    "idx_returns = np.array([])    # Returns of the index for year 2018\n",
    "\n",
    "num_returns = 0  # Number of returns in year 2018\n",
    "first_return = 0 # The return on the earliest date in 2018\n",
    "last_return  = 0 # The return on the latest date in 2018\n",
    "avg_return  = 0  # The average return over the  year 2018\n",
    "\n",
    "### BEGIN SOLUTION\n",
    "\n",
    "import pandas as pd\n",
    "import numpy as np\n",
    "\n",
    "DATA_DIR = \"./data\"\n",
    "DATE_ATTR=\"Dt\"\n",
    "PRICE_ATTR = \"Close\"\n",
    "RET_ATTR = \"Return\"\n",
    "\n",
    "def read_ticker(ticker):\n",
    "    df = pd.read_csv( DATA_DIR + \"/\" + ticker + \".csv\", index_col=DATE_ATTR)\n",
    "    return df\n",
    "\n",
    "\n",
    "def add_ret(df):\n",
    "    df[RET_ATTR] = df[PRICE_ATTR].pct_change()\n",
    "    return df\n",
    "\n",
    "def select_yr(df, year):\n",
    "    df_yr = df[ df[RET_ATTR].notnull() ][ ( str(year) + \"-01-01\"):(str(year) + \"-12-31\")]\n",
    "    return df_yr\n",
    "\n",
    "def summarize(df):\n",
    "    num_returns = df.shape[0]\n",
    "    first_return = df[RET_ATTR].iloc[0]  # The return on the earliest date \n",
    "    last_return  = df[RET_ATTR].iloc[-1] # The return on the latest date\n",
    "    avg_return   = df[RET_ATTR].mean()  # The average return\n",
    "    \n",
    "    return num_returns, first_return, last_return, avg_return\n",
    "\n",
    "# Read the raw data\n",
    "aapl, spy = read_ticker(\"AAPL\"), read_ticker(\"SPY\")\n",
    "\n",
    "# Add a return attribute\n",
    "_= add_ret(aapl)\n",
    "_= add_ret(spy)\n",
    "aapl_2018, spy_2018 = select_yr(aapl, 2018), select_yr(spy, 2018)\n",
    "\n",
    "# Assign to answer variables\n",
    "ticker_returns = aapl_2018[ RET_ATTR ].values\n",
    "num_returns, first_return, last_return, avg_return = summarize( aapl_2018 )\n",
    "### END SOLUTION\n",
    "\n",
    "print(\"There are {num:d} returns. First={first:.3%}, Last={last:.3%}, Avg={avg:.3%}\".format(num=num_returns, first=first_return, last=last_return, avg=avg_return))"
   ]
  },
  {
   "cell_type": "code",
   "execution_count": 36,
   "metadata": {
    "nbgrader": {
     "grade": true,
     "grade_id": "check-2018-returns",
     "locked": true,
     "points": 0,
     "schema_version": 3,
     "solution": false,
     "task": false
    }
   },
   "outputs": [],
   "source": [
    "assert np.allclose( [num_returns], [251], rtol=1e-05, atol=1e-03 )\n",
    "assert np.allclose( [first_return * 100], [ 1.790 ], rtol=1e-05, atol=1e-03 )\n",
    "assert np.allclose( [last_return * 100], [ 0.967 ], rtol=1e-05, atol=1e-03 )\n",
    "assert np.allclose( [avg_return * 100], [ - 0.012 ], rtol=1e-05, atol=1e-03 )\n",
    "\n",
    "assert np.allclose( ticker_returns, aapl_2018[ RET_ATTR ].values )"
   ]
  },
  {
   "cell_type": "markdown",
   "metadata": {},
   "source": [
    "# Split into Train and Test datasets\n",
    "\n",
    "In general, you will split the data into two sets by choosing the members of each set at random.\n",
    "\n",
    "To facilitate grading for this assignment, we will *use a specific test set*\n",
    "- the training set are the returns for the months of January through September (inclusive), i.e., 9 months\n",
    "- the test set are the returns for the months of October through December (inclusive), i.e., 3 months\n",
    "\n",
    "Thus, you will be using the early part of the data for training, and the latter part of the data for testing.\n",
    "\n",
    "**Question**\n",
    "Replace the 0 values in the following cell with your answers, and execute the print statements"
   ]
  },
  {
   "cell_type": "code",
   "execution_count": 37,
   "metadata": {
    "nbgrader": {
     "grade": false,
     "grade_id": "check-split",
     "locked": false,
     "schema_version": 3,
     "solution": true,
     "task": false
    }
   },
   "outputs": [
    {
     "name": "stdout",
     "output_type": "stream",
     "text": [
      "Train set: There are 188 returns. First=1.79%, Last=0.35%, Avg=0.16%\n",
      "Test set: There are 63 returns. First=0.67%, Last=0.97%, Avg=-0.54%\n"
     ]
    }
   ],
   "source": [
    "train_num_returns = 0  # Number of returns in train set\n",
    "train_first_return = 0 # The return on the earliest date in train set\n",
    "train_last_return  = 0 # The return on the latest date in train set\n",
    "train_avg_return  = 0  # The average return over the  year train set\n",
    "\n",
    "test_num_returns = 0  # Number of returns in test set\n",
    "test_first_return = 0 # The return on the earliest date in test set\n",
    "test_last_return  = 0 # The return on the latest date in test set\n",
    "test_avg_return  = 0  # The average return over the  year test set\n",
    "\n",
    "### BEGIN SOLUTION\n",
    "\n",
    "def split(df, year):\n",
    "    df_yr = select_yr(df, year)\n",
    "    df_train = df_yr[str(year) + \"-01-01\":str(year) + \"-09-30\"]\n",
    "    df_test  = df_yr[str(year) + \"-10-01\":str(year) + \"-12-31\"]\n",
    "    \n",
    "    return df_train, df_test\n",
    "\n",
    "# Check\n",
    "\n",
    "aapl_train, aapl_test = split(aapl, 2018)\n",
    "spy_train, spy_test = split(spy, 2018)\n",
    "\n",
    "# Assign to answer variables\n",
    "train_num_returns, train_first_return, train_last_return, train_avg_return = summarize( aapl_train )\n",
    "\n",
    "test_num_returns, test_first_return, test_last_return, test_avg_return = summarize( aapl_test )\n",
    "\n",
    "### END SOLUTION\n",
    "\n",
    "print(\"Train set: There are {num:d} returns. First={first:.2%}, Last={last:.2%}, Avg={avg:.2%}\".format(num=train_num_returns, \n",
    "                                                                                                         first=train_first_return, \n",
    "                                                                                                         last=train_last_return, \n",
    "                                                                                                         avg=train_avg_return))\n",
    "\n",
    "print(\"Test set: There are {num:d} returns. First={first:.2%}, Last={last:.2%}, Avg={avg:.2%}\".format(num=test_num_returns, \n",
    "                                                                                                         first=test_first_return, \n",
    "                                                                                                         last=test_last_return, \n",
    "                                                                                                         avg=test_avg_return))"
   ]
  },
  {
   "cell_type": "markdown",
   "metadata": {},
   "source": [
    "# $\\aapl$ regression\n",
    "\n",
    "Use Linear Regression to predict the return of a ticker from the return of the $\\spy$ index.\n",
    "For example, for ticker $\\aapl$\n",
    "\n",
    "$$\n",
    "\\ret_\\aapl^\\tp =  \\beta_{\\aapl, \\spy} * \\ret_\\spy^\\tp + \\epsilon_{\\aapl}^\\tp\n",
    "$$\n",
    "\n",
    "That is\n",
    "- each example is a pair consisting of one day's return \n",
    "    - of the ticker (e.g., $\\aapl$).  This is the target (e.g, $\\y$ in our lectures)\n",
    "    - of the index $\\spy$. This is a feature vector of length 1 (e.g., $\\x$ in our lectures)\n",
    "\n",
    "You will use Linear Regression to solve for parameter $\\beta_{\\aapl, \\spy}$ \n",
    "\n",
    "- In the lectures we used the symbol $\\Theta$ to denote the parameter vector; here we use $\\mathbf{\\beta}$\n",
    "- In Finance the symbol $\\beta$ is often used to denote the relationship between returns. \n",
    "- You may should add an \"intercept\" so that the feature vector is length 2 rather than length 1\n",
    "    - $\\x^\\tp = \\begin{pmatrix}\n",
    "        1 \\\\\n",
    "        \\ret_\\spy^\\tp\n",
    "        \\end{pmatrix}$\n"
   ]
  },
  {
   "cell_type": "markdown",
   "metadata": {},
   "source": [
    "\n",
    "\n",
    "- Report the $\\mathbf{\\beta}$ parameter vector you obtain for $\\aapl$\n",
    "    - you will subsequently do this for another ticker in a different part of the assignment\n",
    "        - so think ahead: you may want to parameterize your code\n",
    "        - change the assignment to `ticker` when you report the next part\n",
    "\n",
    "        \n",
    "**Question**\n",
    "Replace the 0 values in the following cell with your answers, and execute the print statements\n"
   ]
  },
  {
   "cell_type": "code",
   "execution_count": 38,
   "metadata": {
    "nbgrader": {
     "grade": false,
     "grade_id": "ticker-regression",
     "locked": false,
     "schema_version": 3,
     "solution": true,
     "task": false
    }
   },
   "outputs": [
    {
     "name": "stdout",
     "output_type": "stream",
     "text": [
      "AAPL: beta_0=0.001, beta_SPY=1.071\n"
     ]
    }
   ],
   "source": [
    "beta_0 = 0    # The regression parameter for the constant\n",
    "beta_SPY = 0  # The regression parameter for the return of SPY\n",
    "ticker = \"AAPL\"\n",
    "\n",
    "### BEGIN SOLUTION\n",
    "from IPython.core.interactiveshell import InteractiveShell\n",
    "InteractiveShell.ast_node_interactivity = \"all\"\n",
    "\n",
    "from sklearn import datasets, linear_model\n",
    "from sklearn.metrics import mean_squared_error, r2_score\n",
    "\n",
    "def createModel():\n",
    "    model = linear_model.LinearRegression()\n",
    "    return model\n",
    "\n",
    "def regress(model, dep_df, ind_df):\n",
    "    _= model.fit( ind_df[ [RET_ATTR] ].values, dep_df[ [RET_ATTR] ].values )\n",
    "    \n",
    "    return model.intercept_[0], model.coef_[0][0]\n",
    "\n",
    "def computeRMSE( target, predicted ):\n",
    "    rmse = np.sqrt( mean_squared_error(target,  predicted))\n",
    "    return rmse\n",
    "\n",
    "regr = createModel()\n",
    "\n",
    "aapl_beta_0, aapl_beta_1 = regress(regr, aapl_train, spy_train)\n",
    "\n",
    "# Assign to answer variables\n",
    "beta_0, beta_SPY = aapl_beta_0, aapl_beta_1\n",
    "### END SOLUTION\n",
    "print(\"{t:s}: beta_0={b0:3.3f}, beta_SPY={b1:3.3f}\".format(t=ticker, b0=aapl_beta_0, b1=aapl_beta_1))\n"
   ]
  },
  {
   "cell_type": "code",
   "execution_count": 39,
   "metadata": {
    "nbgrader": {
     "grade": false,
     "grade_id": "check-ticker-regression",
     "locked": false,
     "schema_version": 3,
     "solution": true,
     "task": false
    }
   },
   "outputs": [],
   "source": [
    "assert np.allclose( [beta_0, beta_SPY], [aapl_beta_0, aapl_beta_1] )"
   ]
  },
  {
   "cell_type": "markdown",
   "metadata": {},
   "source": [
    "- Report the average of the cross validation scores, using 5 fold cross validation\n",
    "\n",
    "**Question**\n",
    "Replace the 0 values in the following cell with your answers, and execute the print statements\n"
   ]
  },
  {
   "cell_type": "code",
   "execution_count": 40,
   "metadata": {},
   "outputs": [
    {
     "name": "stdout",
     "output_type": "stream",
     "text": [
      "AAPL: Avg cross val score = 0.00\n"
     ]
    }
   ],
   "source": [
    "cross_val_avg = 0\n",
    "\n",
    "print(\"{t:s}: Avg cross val score = {sc:3.2f}\".format(t=ticker, sc=cross_val_avg) )"
   ]
  },
  {
   "cell_type": "markdown",
   "metadata": {},
   "source": [
    "## $\\aapl$ hedged returns\n",
    "\n",
    "- Compute the series\n",
    "$$\n",
    "{\\ret'}_{\\aapl}^\\tp = \\ret_\\aapl^\\tp - \\beta_{\\aapl, \\spy} * \\ret_\\spy^\\tp\n",
    "$$\n",
    "for all dates $t$ in the test set.  \n",
    "- Sort the dates in ascending order and plot the timeseries ${\\ret}'_{\\aapl}$\n",
    "\n",
    "${\\ret}'_{\\aapl}$ is called the \"hedged return\" of $\\aapl$\n",
    "- It is the daily return you would realize if you created a portfolio that was\n",
    "    - long 1 dollar of $\\aapl$\n",
    "    - short $\\beta_{\\aapl, \\spy}$ dollars of the index $\\spy$\n",
    "- It represents the outperformance of $\\aapl$ relative to the index $\\spy$\n",
    "    - $\\spy$ is the proxy for \"the market\" (it tracks the S&P 500 index)\n",
    "    - The hedged return is the *value added* by going long $\\aapl$ rather than just going \"long the market\"\n",
    "    - Sometimes referred to as the \"alpha\" ($\\alpha_\\aapl$)\n",
    "- So **if** you are able to correctly forecast that $\\aapl$ will have positive outperformance (i.e, have $\\alpha_\\aapl > 0$ most days)\n",
    "    - then you can earn a positive return regardless of whether the market ($\\spy$) goes up or down !\n",
    "    - this is much lower risk than just holding $\\aapl$ long\n",
    "    - people will pay you very well if you can really forecast correctly !\n",
    "\n",
    "**Question**\n",
    "Replace the 0 values in the following cell with your answers, and execute the print statements"
   ]
  },
  {
   "cell_type": "code",
   "execution_count": 41,
   "metadata": {},
   "outputs": [
    {
     "name": "stdout",
     "output_type": "stream",
     "text": [
      "AAPL hedged returns: There are 0 returns. First=0.00%, Last=0.00%, Avg=0.00%\n"
     ]
    }
   ],
   "source": [
    "hedged_num_returns = 0  # Number of returns in hedged series\n",
    "hedged_first_return = 0 # The return on the earliest date in hedged series\n",
    "hedged_last_return  = 0 # The return on the latest date in hedged series\n",
    "hedged_avg_return  = 0  # The average return over the hedged series\n",
    "\n",
    "\n",
    "ticker=\"AAPL\"\n",
    "print(\"{t:s} hedged returns: There are {num:d} returns. First={first:.2%}, Last={last:.2%}, Avg={avg:.2%}\".format(t=ticker,\n",
    "                                                                                                                    num=hedged_num_returns,\n",
    "                                                                                                                    first=hedged_first_return, \n",
    "                                                                                                                    last=hedged_last_return, \n",
    "                                                                                                                    avg=hedged_avg_return))\n"
   ]
  },
  {
   "cell_type": "markdown",
   "metadata": {},
   "source": [
    "# $\\ba$ regression\n",
    "\n",
    "Repeat the regression you carried out for $\\aapl$ but this time instead for the ticker $\\ba$ (Boeing)\n",
    "\n",
    "**Motivation**\n",
    "\n",
    "The idea is to encourage you to build re-usable pieces of code.\n",
    "\n",
    "So if you created some functions in solving Part 1, you may reuse these functions to easily solve part 2,\n",
    "particulary if you treated the ticker (e.g., $\\aapl$ or $\\ba$) as a parameter to your functions.\n",
    "\n",
    "If you simply copy and paste the code from Part 1 you will only get partial credit.\n"
   ]
  },
  {
   "cell_type": "markdown",
   "metadata": {},
   "source": [
    "**Question**\n",
    "Replace the 0 values in the following cell with your answers, and execute the print statements"
   ]
  },
  {
   "cell_type": "code",
   "execution_count": 42,
   "metadata": {},
   "outputs": [
    {
     "name": "stdout",
     "output_type": "stream",
     "text": [
      "BA: beta_0=0.00, beta_SPY=0.00\n"
     ]
    }
   ],
   "source": [
    "beta_0 = 0    # The regression parameter for the constant\n",
    "beta_SPY = 0  # The regression parameter for the return of SPY\n",
    "ticker = \"BA\"\n",
    "\n",
    "print(\"{t:s}: beta_0={b0:3.2f}, beta_SPY={b1:3.2f}\".format(t=ticker, b0=beta_0, b1=beta_SPY))\n"
   ]
  },
  {
   "cell_type": "markdown",
   "metadata": {},
   "source": [
    "**Question**\n",
    "Replace the 0 values in the following cell with your answers, and execute the print statements"
   ]
  },
  {
   "cell_type": "code",
   "execution_count": 43,
   "metadata": {},
   "outputs": [
    {
     "name": "stdout",
     "output_type": "stream",
     "text": [
      "BA: Avg cross val score = 0.00\n"
     ]
    }
   ],
   "source": [
    "cross_val_avg = 0\n",
    "\n",
    "print(\"{t:s}: Avg cross val score = {sc:3.2f}\".format(t=ticker, sc=cross_val_avg) )"
   ]
  },
  {
   "cell_type": "markdown",
   "metadata": {},
   "source": [
    "**Question**\n",
    "Replace the 0 values in the following cell with your answers, and execute the print statements"
   ]
  },
  {
   "cell_type": "code",
   "execution_count": 44,
   "metadata": {},
   "outputs": [
    {
     "name": "stdout",
     "output_type": "stream",
     "text": [
      "BA hedged returns: There are 0 returns. First=0.00%, Last=0.00%, Avg=0.00%\n"
     ]
    }
   ],
   "source": [
    "hedged_num_returns = 0  # Number of returns in hedged series\n",
    "hedged_first_return = 0 # The return on the earliest date in hedged series\n",
    "hedged_last_return  = 0 # The return on the latest date in hedged series\n",
    "hedged_avg_return  = 0  # The average return over the hedged series\n",
    "\n",
    "ticker=\"BA\"\n",
    "print(\"{t:s} hedged returns: There are {num:d} returns. First={first:.2%}, Last={last:.2%}, Avg={avg:.2%}\".format(t=ticker,\n",
    "                                                                                                                    num=hedged_num_returns,\n",
    "                                                                                                                    first=hedged_first_return, \n",
    "                                                                                                                    last=hedged_last_return, \n",
    "                                                                                                                    avg=hedged_avg_return))\n"
   ]
  },
  {
   "cell_type": "markdown",
   "metadata": {},
   "source": [
    "# Returns to prices\n",
    "\n",
    "- You have already computed the predicted returns of $\\aapl$ for each date in the test set.\n",
    "- Create the predicted *price* timeseries for $\\aapl$ for the date range in the test set\n",
    "- Plot (on the same graph) the actual price timeseries of $\\aapl$ and the predicted price timeseries.\n",
    "\n",
    "There is a particular reason that we choose to perform the Linear Regression on returns rather than prices.\n",
    "\n",
    "It is beyond the scope of this lecture to explain why, but we want to show that we can easily convert\n",
    "back into prices.\n",
    "\n",
    "**Question**\n",
    "Replace the 0 values in the following cell with your answers, and execute the print statements"
   ]
  },
  {
   "cell_type": "code",
   "execution_count": 45,
   "metadata": {},
   "outputs": [
    {
     "name": "stdout",
     "output_type": "stream",
     "text": [
      "AAPL predicted prices: There are 0 prices. First=0.00, Last=0.00, Avg=0.00\n"
     ]
    }
   ],
   "source": [
    "num_prices = 0  # Number of prices in price series\n",
    "first_price = 0 # The price on the earliest date in price series\n",
    "last_price  = 0 # The price on the latest date in price series\n",
    "avg_price  = 0  # The average price over the price series\n",
    "\n",
    "ticker=\"AAPL\"\n",
    "print(\"{t:s} predicted prices: There are {num:d} prices. First={first:3.2f}, Last={last:3.2f}, Avg={avg:3.2f}\".format(t=ticker,\n",
    "                                                                                                                    num=num_prices,\n",
    "                                                                                                                    first=first_price, \n",
    "                                                                                                                    last=last_price, \n",
    "                                                                                                                    avg=avg_price))\n",
    " "
   ]
  },
  {
   "cell_type": "markdown",
   "metadata": {},
   "source": [
    "# Extra credit\n",
    "\n",
    "The data directory has the prices of many other indices.\n",
    "- Any ticker in the directory beginning with the letter \"X\" is an index\n",
    "\n",
    "Choose *one* index (we'll call it $I$) other than $\\spy$ to use as a second feature and compute the Linear Regression\n",
    "\n",
    "$$\n",
    "\\ret_\\aapl^\\tp = \\beta^T \\x + \\epsilon_{\\aapl}^\\tp\n",
    "$$\n",
    "\n",
    "where $\\x$ is the feature vector\n",
    "  - $\\x^\\tp = \\begin{pmatrix}\n",
    "        1 \\\\\n",
    "        \\ret_\\spy^\\tp \\\\\n",
    "        \\ret_I^\\tp \\\\\n",
    "        \\end{pmatrix}$\n",
    "\n",
    "That is, predict the returns of $\\aapl$ in terms of a constant, the returns of $\\spy$ and the returns of another index $I$.\n",
    "\n",
    "**Question**\n",
    "There is no specified format.  Treat this like an interview question and show off your analytical\n",
    "and explanatory skills. Be sure to explain how you came about choosing the second index."
   ]
  },
  {
   "cell_type": "code",
   "execution_count": 46,
   "metadata": {},
   "outputs": [
    {
     "name": "stdout",
     "output_type": "stream",
     "text": [
      "Done\n"
     ]
    }
   ],
   "source": [
    "print(\"Done\")"
   ]
  }
 ],
 "metadata": {
  "celltoolbar": "Create Assignment",
  "kernelspec": {
   "display_name": "Python 3",
   "language": "python",
   "name": "python3"
  },
  "language_info": {
   "codemirror_mode": {
    "name": "ipython",
    "version": 3
   },
   "file_extension": ".py",
   "mimetype": "text/x-python",
   "name": "python",
   "nbconvert_exporter": "python",
   "pygments_lexer": "ipython3",
   "version": "3.7.4"
  },
  "toc": {
   "base_numbering": 1,
   "nav_menu": {},
   "number_sections": true,
   "sideBar": true,
   "skip_h1_title": false,
   "title_cell": "Table of Contents",
   "title_sidebar": "Contents",
   "toc_cell": false,
   "toc_position": {
    "height": "calc(100% - 180px)",
    "left": "10px",
    "top": "150px",
    "width": "370.594px"
   },
   "toc_section_display": true,
   "toc_window_display": true
  }
 },
 "nbformat": 4,
 "nbformat_minor": 2
}

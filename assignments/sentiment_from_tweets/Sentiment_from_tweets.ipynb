{
 "cells": [
  {
   "cell_type": "markdown",
   "metadata": {},
   "source": [
    "# Problem description\n",
    "\n",
    "Another type of less traditional data is text.\n",
    "There is potentially a lot of information about a company in documents such as\n",
    "- News articles\n",
    "- Annual/quarterly filings\n",
    "- Analyst reports\n",
    "- Blogs\n",
    "\n",
    "The key element about text is that a document is a *sequence* of words.\n",
    "In other words, order matters.\n",
    "Consider\n",
    "- \"Machine Learning is easy not hard\"\n",
    "- \"Machine Learning is hard not easy\"\n",
    "\n",
    "Two sentences with identical words but different meaning.\n",
    "\n",
    "In this assignment we will analyze text in the form of Tweets.\n",
    "Our objective is: given a tweet about a company, does the tweet indicate Positive sentiment or Negative sentiment.\n",
    "\n",
    "This assignment will also serve as a preview of Natural Language Processing: the use of Machine Learning to analyze text.\n",
    "This will be the subject of a later lecture.\n",
    "\n",
    "Our immediate objective is to use Recurrent Neural Networks to analyze a sequence of words (i.e., a tweet).\n",
    "\n",
    "\n"
   ]
  },
  {
   "cell_type": "markdown",
   "metadata": {},
   "source": [
    "## Goal: problem set 1\n",
    "\n",
    "You will need to create Sequential models in Keras to analyze the sentiment in tweets.\n",
    "- Each example is a sequence of words\n",
    "- The labels are integers: high values indicate Positive sentiment, low values indicate Negative sentiment\n"
   ]
  },
  {
   "cell_type": "markdown",
   "metadata": {},
   "source": [
    "## Learning objectives\n",
    "- Learn how to use Recurrent Layer types as part of a Keras Sequential model\n",
    "- Appreciate how layer choices impact number of weights"
   ]
  },
  {
   "cell_type": "code",
   "execution_count": 1,
   "metadata": {},
   "outputs": [
    {
     "name": "stdout",
     "output_type": "stream",
     "text": [
      "Running TensorFlow version  2.0.0\n",
      "Version 2, minor 0\n"
     ]
    }
   ],
   "source": [
    "import tensorflow as tf\n",
    "\n",
    "print(\"Running TensorFlow version \",tf.__version__)\n",
    "\n",
    "# Parse tensorflow version\n",
    "import re\n",
    "\n",
    "version_match = re.match(\"([0-9]+)\\.([0-9]+)\", tf.__version__)\n",
    "tf_major, tf_minor = int(version_match.group(1)) , int(version_match.group(2))\n",
    "print(\"Version {v:d}, minor {m:d}\".format(v=tf_major, m=tf_minor) )"
   ]
  },
  {
   "cell_type": "code",
   "execution_count": 2,
   "metadata": {},
   "outputs": [],
   "source": [
    "# My standard magic !  You will see this in almost all my notebooks.\n",
    "\n",
    "from IPython.core.interactiveshell import InteractiveShell\n",
    "InteractiveShell.ast_node_interactivity = \"all\"\n",
    "\n",
    "# Reload all modules imported with %aimport\n",
    "%load_ext autoreload\n",
    "%autoreload 1\n",
    "\n",
    "%matplotlib inline"
   ]
  },
  {
   "cell_type": "code",
   "execution_count": 3,
   "metadata": {},
   "outputs": [],
   "source": [
    "import numpy as np\n",
    "import pandas as pd\n",
    "import matplotlib.pyplot as plt\n",
    "\n",
    "import sklearn\n",
    "from sklearn import preprocessing\n",
    "\n",
    "import os\n",
    "import math\n",
    "\n",
    "%matplotlib inline"
   ]
  },
  {
   "cell_type": "code",
   "execution_count": 4,
   "metadata": {},
   "outputs": [],
   "source": [
    "import tensorflow as tf\n",
    "import pandas as pd\n",
    "\n",
    "import re"
   ]
  },
  {
   "cell_type": "code",
   "execution_count": 5,
   "metadata": {},
   "outputs": [],
   "source": [
    "from __future__ import print_function\n",
    "\n",
    "from tensorflow.keras.preprocessing import sequence\n",
    "from tensorflow.keras.models import Sequential\n",
    "from tensorflow.keras.layers import Dense, Dropout, Activation\n",
    "from tensorflow.keras.layers import Embedding\n",
    "from tensorflow.keras.layers import Conv1D, GlobalMaxPooling1D, LSTM\n",
    "\n",
    "from tensorflow.keras.callbacks import EarlyStopping, ModelCheckpoint\n",
    "\n",
    "from tensorflow.keras.utils import plot_model\n",
    "import IPython"
   ]
  },
  {
   "cell_type": "markdown",
   "metadata": {},
   "source": [
    "# API for students\n",
    "\n",
    "We will define some utility routines.\n",
    "\n",
    "This will simplify problem solving\n",
    "\n",
    "More importantly: it adds structure to your submission so that it may be easily graded\n",
    "\n",
    "- getData: Get a collection of labelled images, used as follows\n",
    "\n",
    "  >`data, labels = getData()`\n",
    "- showData: Visualize labelled images, used as follows\n",
    "\n",
    "  >`showData(data, labels)`\n",
    "\n",
    "- train: train a model and visualize its progress, used as follows\n",
    "\n",
    "  >`train(model, X_train, y_train, model_name, epochs=max_epochs)`\n"
   ]
  },
  {
   "cell_type": "code",
   "execution_count": 6,
   "metadata": {},
   "outputs": [
    {
     "data": {
      "text/plain": [
       "'\\n Parameters:\\n- max_features: number of words in the vocabulary (and hence, the length of the One Hot Encoding feature vector)\\n- maxlen: number of words in a review\\n- embedding_dims: length of word vector\\n- filters: number of convolutional kernels.  These are \"features\" created by convolution.\\n\\n'"
      ]
     },
     "execution_count": 6,
     "metadata": {},
     "output_type": "execute_result"
    }
   ],
   "source": [
    "from tensorflow.keras.preprocessing.text import Tokenizer\n",
    "from tensorflow.keras.preprocessing import sequence\n",
    "\n",
    "DATA_DIR = \"./data\"\n",
    "\n",
    "tweet_file = \"Apple-Twitter-Sentiment-DFE-1.csv\"\n",
    "\n",
    "\n",
    "\n",
    "\"\"\"\n",
    " Parameters:\n",
    "- max_features: number of words in the vocabulary (and hence, the length of the One Hot Encoding feature vector)\n",
    "- maxlen: number of words in a review\n",
    "- embedding_dims: length of word vector\n",
    "- filters: number of convolutional kernels.  These are \"features\" created by convolution.\n",
    "\n",
    "\"\"\"\n",
    "\n",
    "#\n",
    "# set parameters:\n",
    "max_features = 1000\n",
    "maxlen = 40\n",
    "\n",
    "batch_size = 32\n",
    "embedding_dims = 50\n",
    "\n",
    "hidden_dims = 250\n",
    "epochs = 8\n",
    "\n",
    "special = { \"<PAD>\": 0, \n",
    "           }\n",
    "\n",
    "def getDataRaw():\n",
    "    tweets_raw = pd.read_csv( os.path.join(DATA_DIR, tweet_file) )\n",
    "    return tweets_raw\n",
    "\n",
    "def getTextClean(tweets_raw):\n",
    "    # Filter out rows with invalid sentiment\n",
    "    mask = tweets_raw[\"sentiment\"] == 'not_relevant'\n",
    "    tweets_raw = tweets_raw[ ~ mask ]\n",
    "    \n",
    "    docs = tweets_raw[\"text\"].apply(cleanTxt).values\n",
    "    \n",
    "    # We will treat the sentiment values as Categorical, rather than numeric\n",
    "    le = sklearn.preprocessing.LabelEncoder(  )\n",
    "    sents = le.fit_transform( tweets_raw[ \"sentiment\"] )\n",
    "    \n",
    "    return docs, sents\n",
    "\n",
    "#\n",
    "def cleanTxt(text):\n",
    " text = re.sub('@[A-Za-z0–9]+', '<MENTION>', text) #Removing @mentions\n",
    " text = re.sub('#', '', text) # Removing '#' hash tag\n",
    " text = re.sub('RT[\\s]+', '<RT>', text) # Removing RT\n",
    " text = re.sub('https?:\\/\\/\\S+', '<LINK>', text) # Removing hyperlink\n",
    " \n",
    " return text\n",
    "\n",
    "def createOHE(max_features):\n",
    "  mat = np.diag( np.ones(max_features))\n",
    "  return mat\n",
    "\n",
    "def show(tok, encoded_docs_padded):\n",
    "    word_index = tok.word_index\n",
    "    \n",
    "    # Add the special characters to the word to index map\n",
    "    for word, idx in special.items():\n",
    "      word_index[word] = idx\n",
    "\n",
    "    # Reverse map: index to word\n",
    "    # Index_word: map index to word\n",
    "    index_word = { idx:w for (w, idx) in word_index.items() }\n",
    "\n",
    "    for i, rev in enumerate(encoded_docs_padded[0:5]):\n",
    "      # Map each index in the example back to word\n",
    "      rev_words = [ index_word[idx] for idx in rev if idx != 0]\n",
    "      print(\"{i:d}:\\t{r:s}\".format(i=i,  r= \" \".join(rev_words)) )\n",
    "      # sent = y_train[i]\n",
    "      # print(\"{i:d}:\\t({sent:s})\\t{r:s}\".format(i=i, sent=sentiment[y_train[i]], r= \" \".join(rev_words)) )\n",
    "    \n",
    "def getExamples(encoded_docs_padded, sents):\n",
    "    OHE = createOHE(max_features)\n",
    "    X = np.zeros( (encoded_docs_padded.shape[0], encoded_docs_padded.shape[1], max_features) )\n",
    "\n",
    "    # Convert each word to a OHE representation\n",
    "    for doc_num in range(0, encoded_docs_padded.shape[0]):\n",
    "        encoded_doc = encoded_docs_padded[doc_num]\n",
    "        ohe_encoded_doc = OHE[ encoded_doc ]\n",
    "\n",
    "        X[doc_num] = ohe_encoded_doc\n",
    "\n",
    "    y = sents\n",
    "    \n",
    "    return X, y"
   ]
  },
  {
   "cell_type": "markdown",
   "metadata": {},
   "source": [
    "## Get the tweets (as text)"
   ]
  },
  {
   "cell_type": "code",
   "execution_count": 7,
   "metadata": {},
   "outputs": [
    {
     "data": {
      "text/html": [
       "<div>\n",
       "<style scoped>\n",
       "    .dataframe tbody tr th:only-of-type {\n",
       "        vertical-align: middle;\n",
       "    }\n",
       "\n",
       "    .dataframe tbody tr th {\n",
       "        vertical-align: top;\n",
       "    }\n",
       "\n",
       "    .dataframe thead th {\n",
       "        text-align: right;\n",
       "    }\n",
       "</style>\n",
       "<table border=\"1\" class=\"dataframe\">\n",
       "  <thead>\n",
       "    <tr style=\"text-align: right;\">\n",
       "      <th></th>\n",
       "      <th>text</th>\n",
       "      <th>sentiment</th>\n",
       "    </tr>\n",
       "  </thead>\n",
       "  <tbody>\n",
       "    <tr>\n",
       "      <td>0</td>\n",
       "      <td>#AAPL:The 10 best Steve Jobs emails ever...htt...</td>\n",
       "      <td>3</td>\n",
       "    </tr>\n",
       "    <tr>\n",
       "      <td>1</td>\n",
       "      <td>RT @JPDesloges: Why AAPL Stock Had a Mini-Flas...</td>\n",
       "      <td>3</td>\n",
       "    </tr>\n",
       "    <tr>\n",
       "      <td>2</td>\n",
       "      <td>My cat only chews @apple cords. Such an #Apple...</td>\n",
       "      <td>3</td>\n",
       "    </tr>\n",
       "    <tr>\n",
       "      <td>3</td>\n",
       "      <td>I agree with @jimcramer that the #IndividualIn...</td>\n",
       "      <td>3</td>\n",
       "    </tr>\n",
       "    <tr>\n",
       "      <td>4</td>\n",
       "      <td>Nobody expects the Spanish Inquisition #AAPL</td>\n",
       "      <td>3</td>\n",
       "    </tr>\n",
       "    <tr>\n",
       "      <td>5</td>\n",
       "      <td>#AAPL:5 Rocket Stocks to Buy for December Gain...</td>\n",
       "      <td>3</td>\n",
       "    </tr>\n",
       "    <tr>\n",
       "      <td>6</td>\n",
       "      <td>Top 3 all @Apple #tablets. Damn right! http://...</td>\n",
       "      <td>5</td>\n",
       "    </tr>\n",
       "    <tr>\n",
       "      <td>7</td>\n",
       "      <td>CNBCTV: #Apple's margins better than expected?...</td>\n",
       "      <td>5</td>\n",
       "    </tr>\n",
       "    <tr>\n",
       "      <td>8</td>\n",
       "      <td>Apple Inc. Flash Crash: What You Need to Know ...</td>\n",
       "      <td>3</td>\n",
       "    </tr>\n",
       "    <tr>\n",
       "      <td>9</td>\n",
       "      <td>#AAPL:This Presentation Shows What Makes The W...</td>\n",
       "      <td>3</td>\n",
       "    </tr>\n",
       "  </tbody>\n",
       "</table>\n",
       "</div>"
      ],
      "text/plain": [
       "                                                text sentiment\n",
       "0  #AAPL:The 10 best Steve Jobs emails ever...htt...         3\n",
       "1  RT @JPDesloges: Why AAPL Stock Had a Mini-Flas...         3\n",
       "2  My cat only chews @apple cords. Such an #Apple...         3\n",
       "3  I agree with @jimcramer that the #IndividualIn...         3\n",
       "4       Nobody expects the Spanish Inquisition #AAPL         3\n",
       "5  #AAPL:5 Rocket Stocks to Buy for December Gain...         3\n",
       "6  Top 3 all @Apple #tablets. Damn right! http://...         5\n",
       "7  CNBCTV: #Apple's margins better than expected?...         5\n",
       "8  Apple Inc. Flash Crash: What You Need to Know ...         3\n",
       "9  #AAPL:This Presentation Shows What Makes The W...         3"
      ]
     },
     "execution_count": 7,
     "metadata": {},
     "output_type": "execute_result"
    },
    {
     "name": "stdout",
     "output_type": "stream",
     "text": [
      "Sentiment values (raw) ['1' '3' '5' 'not_relevant']\n"
     ]
    }
   ],
   "source": [
    "tweets_raw = getDataRaw()\n",
    "tweets_raw[ [\"text\", \"sentiment\"] ].head(10)\n",
    "\n",
    "print(\"Sentiment values (raw)\", np.unique(tweets_raw[\"sentiment\"]))"
   ]
  },
  {
   "cell_type": "markdown",
   "metadata": {},
   "source": [
    "## Data preprocessing\n",
    "\n",
    "There will be a number of preprocessing steps necessary to convert the raw tweets to a form\n",
    "amenable to a Neural Network.\n",
    "\n",
    "The next few cells will take you through the journey from \"raw\" data to the X (array of examples)\n",
    "and y (array of labels for each example) arrays that you will need for your Neural Network.\n",
    "\n",
    "In an academic setting you will often be given X and y.\n",
    "This will rarely be the case in the real world.\n",
    "\n",
    "So although this journey has little to do with our objective in learning about Recurrent Neural Networks,\n",
    "we encourage you to follow along.\n",
    "\n",
    "If you are anxious to get to the Recurrent Neural Network part: you can defer the journey until later\n",
    "and skip to the cell that defines X and y."
   ]
  },
  {
   "cell_type": "markdown",
   "metadata": {},
   "source": [
    "As you can see, tweets have their own special notation that distinguishes it from ordinary language\n",
    "- \"Mentions\" begin with \"@\" and refer to another user: \"@kenperry\"\n",
    "- \"Hash tags\" begin witn \"#\" and refer to a subject: #MachineLearning\n",
    "\n",
    "This means that our vocabulary (set of distinct words) can be huge.  To manage the vocabulary size\n",
    "and simplify the problem (perhaps losing information on the way), we will **not** distinguish between\n",
    "individual mentions and hash tags\n",
    "\n",
    "Let's also examine the possible sentiment values\n",
    "- There is a \"not_relevant\" value; we should eliminate these examples\n",
    "- The sentiment value is a string\n",
    "- The strings represent non-consecutive integers\n",
    "\n",
    "There is quite a bit of cleaning of the raw data necessary; fortunately, we will do that for you below."
   ]
  },
  {
   "cell_type": "code",
   "execution_count": 8,
   "metadata": {},
   "outputs": [
    {
     "name": "stdout",
     "output_type": "stream",
     "text": [
      "Docs shape is  (3804,)\n",
      "Sents shape is  (3804,)\n"
     ]
    },
    {
     "data": {
      "text/plain": [
       "array(['AAPL:The 10 best Steve Jobs emails ever...<LINK>',\n",
       "       '<RT><MENTION>: Why AAPL Stock Had a Mini-Flash Crash Today $AAPL aapl\\n<LINK>',\n",
       "       'My cat only chews <MENTION> cords. Such an AppleSnob.',\n",
       "       \"I agree with <MENTION> that the IndividualInvestor should own not trade Apple AAPL, it's extended so today's pullback is good to see\",\n",
       "       'Nobody expects the Spanish Inquisition AAPL'], dtype=object)"
      ]
     },
     "execution_count": 8,
     "metadata": {},
     "output_type": "execute_result"
    },
    {
     "name": "stdout",
     "output_type": "stream",
     "text": [
      "Possible sentiment values:  [0 1 2]\n"
     ]
    }
   ],
   "source": [
    "docs, sents = getTextClean(tweets_raw)\n",
    "\n",
    "print(\"Docs shape is \", docs.shape)\n",
    "print(\"Sents shape is \", sents.shape)\n",
    "\n",
    "docs[:5]\n",
    "print(\"Possible sentiment values: \",  np.unique(sents) ) \n"
   ]
  },
  {
   "cell_type": "markdown",
   "metadata": {},
   "source": [
    "## More data preprocessing\n",
    "\n",
    "Great, our text is in much better shape and our sentiment (target value for prediction) are now consecutive values.\n",
    "\n",
    "But computers handle numbers much more readily than strings.\n",
    "We will need to convert the text in a *sequence* of numbers\n",
    "- Break text up into words\n",
    "- Assign each word a distinct integer\n",
    "\n",
    "Moreover, it will be easier if all sequences have the same length.\n",
    "We can add a \"padding\" character to the front if necessary.\n",
    "\n",
    "Again, we do this for you below."
   ]
  },
  {
   "cell_type": "code",
   "execution_count": 9,
   "metadata": {},
   "outputs": [
    {
     "data": {
      "text/plain": [
       "array([[  0,   0,   0,   0,   0,   0,   0,   0,   0,   0,   0,   0,   0,\n",
       "          0,   0,   0,   0,   0,   0,   0,   0,   0,   0,   0,   0,   0,\n",
       "          0,   0,   0,   0,   0,   4,   3, 204, 136,  93, 109, 356, 253,\n",
       "          2],\n",
       "       [  0,   0,   0,   0,   0,   0,   0,   0,   0,   0,   0,   0,   0,\n",
       "          0,   0,   0,   0,   0,   0,   0,   0,   0,   0,   0,   0,   0,\n",
       "          8,   1,  43,   4, 123, 141,  11, 230, 537, 454, 168,   4,   4,\n",
       "          2],\n",
       "       [  0,   0,   0,   0,   0,   0,   0,   0,   0,   0,   0,   0,   0,\n",
       "          0,   0,   0,   0,   0,   0,   0,   0,   0,   0,   0,   0,   0,\n",
       "          0,   0,   0,   0,   0,   0,   0,   0,  15, 182,   1, 805, 581,\n",
       "         60],\n",
       "       [  0,   0,   0,   0,   0,   0,   0,   0,   0,   0,   0,   0,   0,\n",
       "          0,   0,   0,   0,   0,   0,   0,   0,   0,  13,  48,  36,   1,\n",
       "         40,   3, 156, 212,  49, 153,   6,   4,  85,  55,   7, 157,   5,\n",
       "        231],\n",
       "       [  0,   0,   0,   0,   0,   0,   0,   0,   0,   0,   0,   0,   0,\n",
       "          0,   0,   0,   0,   0,   0,   0,   0,   0,   0,   0,   0,   0,\n",
       "          0,   0,   0,   0,   0,   0,   0,   0,   0,   0,   0,   0,   3,\n",
       "          4]], dtype=int32)"
      ]
     },
     "execution_count": 9,
     "metadata": {},
     "output_type": "execute_result"
    }
   ],
   "source": [
    "tok = Tokenizer(num_words=max_features)\n",
    "tok.fit_on_texts(docs)\n",
    "\n",
    "encoded_docs = tok.texts_to_sequences(docs)\n",
    "encoded_docs_padded = sequence.pad_sequences(encoded_docs, maxlen=maxlen)\n",
    "\n",
    "encoded_docs_padded[:5]"
   ]
  },
  {
   "cell_type": "markdown",
   "metadata": {},
   "source": [
    "## Verify that our encoded documents are the same as the cleaned original\n",
    "\n",
    "At this point: convince yourself that all we have done was encode words as integers and pad out all text to the same length.  The following will demonstrate this"
   ]
  },
  {
   "cell_type": "code",
   "execution_count": 10,
   "metadata": {},
   "outputs": [
    {
     "name": "stdout",
     "output_type": "stream",
     "text": [
      "0:\taapl the 10 best steve jobs emails ever link\n",
      "1:\trt mention why aapl stock had a mini flash crash today aapl aapl link\n",
      "2:\tmy only mention cords such an\n",
      "3:\ti agree with mention that the should own not trade apple aapl it's so is good to see\n",
      "4:\tthe aapl\n"
     ]
    }
   ],
   "source": [
    "show(tok, encoded_docs_padded)"
   ]
  },
  {
   "cell_type": "markdown",
   "metadata": {},
   "source": [
    "## Even more preprocessing\n",
    "\n",
    "Although a word has been encoded as an integer, this integer doesn't have a particular meaning.\n",
    "\n",
    "We will therefore convert each word to a One Hot Encoded (OHE) vector\n",
    "- The length of the vector is equal to the length of the vocabulary (set of distinct words)\n",
    "- The vector is all 0 except for a single location which will be 1\n",
    "- If the word is the $k^{th}$ word of the vocabulary, the position of the sole 1 will be $k$\n",
    "\n",
    "This representation is called One Hot Encoding\n",
    "- A word as a feature vector of length $V$, where $V$ is the number of words in the vocabulary\n",
    "    - Feature $j$ is a binary indicator which is true if the word is the $j^{th}$ word in the vocabulary\n",
    "    \n",
    "Finally: we can get the set of examples and associated labels in a form ready for processing by\n",
    "the Neural Network.\n",
    "\n",
    "At this point, they will be hard to recognize by a human being."
   ]
  },
  {
   "cell_type": "code",
   "execution_count": 11,
   "metadata": {},
   "outputs": [
    {
     "data": {
      "text/plain": [
       "array([[[1., 0., 0., ..., 0., 0., 0.],\n",
       "        [1., 0., 0., ..., 0., 0., 0.],\n",
       "        [1., 0., 0., ..., 0., 0., 0.],\n",
       "        ...,\n",
       "        [0., 0., 0., ..., 0., 0., 0.],\n",
       "        [0., 0., 0., ..., 0., 0., 0.],\n",
       "        [0., 0., 1., ..., 0., 0., 0.]],\n",
       "\n",
       "       [[1., 0., 0., ..., 0., 0., 0.],\n",
       "        [1., 0., 0., ..., 0., 0., 0.],\n",
       "        [1., 0., 0., ..., 0., 0., 0.],\n",
       "        ...,\n",
       "        [0., 0., 0., ..., 0., 0., 0.],\n",
       "        [0., 0., 0., ..., 0., 0., 0.],\n",
       "        [0., 0., 1., ..., 0., 0., 0.]],\n",
       "\n",
       "       [[1., 0., 0., ..., 0., 0., 0.],\n",
       "        [1., 0., 0., ..., 0., 0., 0.],\n",
       "        [1., 0., 0., ..., 0., 0., 0.],\n",
       "        ...,\n",
       "        [0., 0., 0., ..., 0., 0., 0.],\n",
       "        [0., 0., 0., ..., 0., 0., 0.],\n",
       "        [0., 0., 0., ..., 0., 0., 0.]],\n",
       "\n",
       "       [[1., 0., 0., ..., 0., 0., 0.],\n",
       "        [1., 0., 0., ..., 0., 0., 0.],\n",
       "        [1., 0., 0., ..., 0., 0., 0.],\n",
       "        ...,\n",
       "        [0., 0., 0., ..., 0., 0., 0.],\n",
       "        [0., 0., 0., ..., 0., 0., 0.],\n",
       "        [0., 0., 0., ..., 0., 0., 0.]],\n",
       "\n",
       "       [[1., 0., 0., ..., 0., 0., 0.],\n",
       "        [1., 0., 0., ..., 0., 0., 0.],\n",
       "        [1., 0., 0., ..., 0., 0., 0.],\n",
       "        ...,\n",
       "        [1., 0., 0., ..., 0., 0., 0.],\n",
       "        [0., 0., 0., ..., 0., 0., 0.],\n",
       "        [0., 0., 0., ..., 0., 0., 0.]]])"
      ]
     },
     "execution_count": 11,
     "metadata": {},
     "output_type": "execute_result"
    }
   ],
   "source": [
    "X, y = getExamples(encoded_docs_padded, sents)\n",
    "X[:5]"
   ]
  },
  {
   "cell_type": "markdown",
   "metadata": {},
   "source": [
    "## A note on the representation of words as OHE vectors\n",
    "\n",
    "There are *much better* representations of words than as OHE vectors !\n",
    "\n",
    "We will learn about this in our lecture on Natural Languag Processing.\n",
    "\n",
    "For now, the OHE representation will suffice."
   ]
  },
  {
   "cell_type": "markdown",
   "metadata": {},
   "source": [
    "# Split the data into test and training sets\n"
   ]
  },
  {
   "cell_type": "code",
   "execution_count": 12,
   "metadata": {},
   "outputs": [],
   "source": [
    " \n",
    "from sklearn.model_selection import train_test_split\n",
    "X_train, X_test, y_train, y_test = train_test_split(X, y, test_size=0.10, random_state=42)"
   ]
  },
  {
   "cell_type": "markdown",
   "metadata": {},
   "source": [
    "# How long is the sequence in a *single* example"
   ]
  },
  {
   "cell_type": "code",
   "execution_count": 13,
   "metadata": {
    "nbgrader": {
     "grade": false,
     "grade_id": "cell-0de960d0bf5c6d38",
     "locked": false,
     "schema_version": 3,
     "solution": true,
     "task": false
    }
   },
   "outputs": [],
   "source": [
    "# Set two variables\n",
    "# example_sequence_len: length of the sequence\n",
    "# example_num_features: number of features in a single element of the sequence (of a single example)\n",
    "\n",
    "### BEGIN SOLUTION\n",
    "\n",
    "example_shape = X.shape[1:]\n",
    "example_sequence_len, example_num_features = example_shape[0], example_shape[1]\n",
    "### END SOLUTION"
   ]
  },
  {
   "cell_type": "code",
   "execution_count": 14,
   "metadata": {
    "nbgrader": {
     "grade": true,
     "grade_id": "cell-bf33170565d6a489",
     "locked": true,
     "points": 10,
     "schema_version": 3,
     "solution": false,
     "task": false
    }
   },
   "outputs": [],
   "source": [
    "assert example_sequence_len == maxlen\n",
    "assert example_num_features == max_features"
   ]
  },
  {
   "cell_type": "markdown",
   "metadata": {
    "nbgrader": {
     "grade": false,
     "grade_id": "cell-8d472d899033db98",
     "locked": true,
     "schema_version": 3,
     "solution": false,
     "task": false
    }
   },
   "source": [
    "# Utility functions"
   ]
  },
  {
   "cell_type": "code",
   "execution_count": 15,
   "metadata": {
    "nbgrader": {
     "grade": false,
     "grade_id": "cell-10c035c75123ed71",
     "locked": true,
     "schema_version": 3,
     "solution": false,
     "task": false
    }
   },
   "outputs": [],
   "source": [
    "import matplotlib.pyplot as plt\n",
    "from tensorflow.keras.utils import plot_model\n",
    "\n",
    "def plotModel(model, modelName):\n",
    "  plotFile = modelName + \".png\"\n",
    "  plot_model(model, plotFile, show_shapes=True)\n",
    "\n",
    "  return plotFile\n",
    "\n",
    "def plot_training(history, metric=\"acc\"):\n",
    "  \"\"\"\n",
    "  Plot training and validation statistics\n",
    "  - accuracy vs epoch number\n",
    "  - loss     vs epoch number\n",
    "  \n",
    "  From https://www.learnopencv.com/keras-tutorial-fine-tuning-using-pre-trained-models/\n",
    "  \"\"\"  \n",
    "  \n",
    "  # Accuracy\n",
    "  acc = history.history[metric]\n",
    "  val_acc = history.history['val_' + metric]\n",
    "  \n",
    "  # Loss\n",
    "  loss = history.history['loss']\n",
    "  val_loss = history.history['val_loss']\n",
    "\n",
    "  epochs = range(len(acc))\n",
    "\n",
    "  plt.plot(epochs, acc, 'b', label='Training ' + metric)\n",
    "  plt.plot(epochs, val_acc, 'r', label='Validation ' + metric)\n",
    "  plt.title('Training and validation ' + metric)\n",
    "  plt.legend()\n",
    "\n",
    "  plt.figure()\n",
    "\n",
    "  plt.plot(epochs, loss, 'b', label='Training loss')\n",
    "  plt.plot(epochs, val_loss, 'r', label='Validation loss')\n",
    "  plt.title('Training and validation loss')\n",
    "  plt.legend()\n",
    "\n",
    "  plt.show()"
   ]
  },
  {
   "cell_type": "code",
   "execution_count": 16,
   "metadata": {
    "nbgrader": {
     "grade": false,
     "grade_id": "cell-2b40d98739eb141e",
     "locked": true,
     "schema_version": 3,
     "solution": false,
     "task": false
    }
   },
   "outputs": [],
   "source": [
    "def trainModel(model, X, y, num_epochs=20, metric=\"acc\"):\n",
    "    X_train, X_val, y_train, y_val = train_test_split(X, y, test_size=0.10, random_state=42)\n",
    "    model.compile(loss='mse',\n",
    "                metrics=['mse']\n",
    "                )\n",
    "    \n",
    "    es_callback = EarlyStopping(monitor='val_loss', min_delta=.005, patience=2, verbose=0, mode='auto', baseline=None, restore_best_weights=True)\n",
    "\n",
    "    callbacks = [ #es_callback,\n",
    "            # ModelCheckpoint(filepath=modelName + \".ckpt\", monitor='acc', save_best_only=True)\n",
    "            ] \n",
    "   \n",
    "    history = model.fit(X_train, y_train,\n",
    "        epochs=num_epochs,\n",
    "        validation_data=(X_val, y_val),\n",
    "        callbacks=callbacks)\n",
    "\n",
    "    return history\n",
    "\n",
    "def trainModelCat(model, X, y, num_epochs=20, metric=\"acc\"):\n",
    "    X_train, X_val, y_train, y_val = train_test_split(X, y, test_size=0.10, random_state=42)\n",
    "    model.compile(loss='sparse_categorical_crossentropy',\n",
    "                metrics=[metric]\n",
    "                )\n",
    "    \n",
    "    es_callback = EarlyStopping(monitor='val_loss', min_delta=.005, patience=3, verbose=0, mode='auto', baseline=None, restore_best_weights=True)\n",
    "\n",
    "    callbacks = [ es_callback,\n",
    "            # ModelCheckpoint(filepath=modelName + \".ckpt\", monitor='acc', save_best_only=True)\n",
    "            ] \n",
    "   \n",
    "    history = model.fit(X_train, y_train,\n",
    "        epochs=num_epochs,\n",
    "        validation_data=(X_val, y_val),\n",
    "        callbacks=callbacks)\n",
    "\n",
    "    return history\n"
   ]
  },
  {
   "cell_type": "markdown",
   "metadata": {
    "nbgrader": {
     "grade": false,
     "grade_id": "cell-6b2fd158d79f5b83",
     "locked": true,
     "schema_version": 3,
     "solution": false,
     "task": false
    }
   },
   "source": [
    "# Part 1: Create a Keras Sequential model using a Recurrent layer type\n",
    "\n",
    "You will create a model that\n",
    "- takes as input: a sequence of one hot encodings of words (i.e., a representation of a tweet)\n",
    "- predicts (outputs) a sentiment\n",
    "\n",
    "**Note**\n",
    "You should treat the sentiment as a Categorical (discrete) value, rather than a continous one\n",
    "- As we saw: the sentiment label values are not continuous\n",
    "- We cannot really assign a \"magnitude\" to the sentiment\n",
    "    - We cannot say that a sentiment of 5 is five times \"higher\" than a sentiment of 1\n",
    "- We will thus treat the problem as one of Classification rather than Regression\n",
    "\n",
    "\n",
    "This will be a very basic model with two layers\n",
    "- A Recurrent layer (LSTM to be specific) with a hidden state size of 128\n",
    "- A Head layer implementing multinomial Classification\n",
    "\n",
    "\n",
    "**Hints**\n",
    "- We have not one hot encoded the labels (i.e., the sents variable)\n",
    "    - You may wish to do so\n",
    "    - Alternatively: understand the difference between the Keras 'categorical_crossentropy' and 'sparse_categorical_crossentropy' loss functions"
   ]
  },
  {
   "cell_type": "code",
   "execution_count": 17,
   "metadata": {
    "nbgrader": {
     "grade": false,
     "grade_id": "cell-c6f79f80ec231277",
     "locked": false,
     "schema_version": 3,
     "solution": true,
     "task": false
    }
   },
   "outputs": [
    {
     "data": {
      "image/png": "[encoded data removed]",
      "text/plain": [
       "<IPython.core.display.Image object>"
      ]
     },
     "execution_count": 17,
     "metadata": {},
     "output_type": "execute_result"
    },
    {
     "name": "stdout",
     "output_type": "stream",
     "text": [
      "Model: \"sequential\"\n",
      "_________________________________________________________________\n",
      "Layer (type)                 Output Shape              Param #   \n",
      "=================================================================\n",
      "lstm (LSTM)                  (None, 128)               578048    \n",
      "_________________________________________________________________\n",
      "dense (Dense)                (None, 3)                 387       \n",
      "=================================================================\n",
      "Total params: 578,435\n",
      "Trainable params: 578,435\n",
      "Non-trainable params: 0\n",
      "_________________________________________________________________\n"
     ]
    }
   ],
   "source": [
    "model_lstm = Sequential( [ LSTM(128, input_shape=X_train.shape[-2:]),\n",
    "                          Dense( len( np.unique(y) ), activation=\"softmax\")\n",
    "                         ]\n",
    "                       )\n",
    "\n",
    "plot_lstm = plotModel(model_lstm, \"lstm\")\n",
    "IPython.display.Image(plot_lstm) \n",
    "\n",
    "model_lstm.summary()"
   ]
  },
  {
   "cell_type": "code",
   "execution_count": 18,
   "metadata": {
    "nbgrader": {
     "grade": false,
     "grade_id": "cell-3799f1a2720d8072",
     "locked": true,
     "schema_version": 3,
     "solution": false,
     "task": false
    }
   },
   "outputs": [
    {
     "name": "stdout",
     "output_type": "stream",
     "text": [
      "Train on 3080 samples, validate on 343 samples\n",
      "Epoch 1/20\n",
      "3080/3080 [==============================] - 10s 3ms/sample - loss: 0.8789 - acc: 0.6218 - val_loss: 0.7373 - val_acc: 0.7172\n",
      "Epoch 2/20\n",
      "3080/3080 [==============================] - 7s 2ms/sample - loss: 0.7063 - acc: 0.7263 - val_loss: 0.7198 - val_acc: 0.6880\n",
      "Epoch 3/20\n",
      "3080/3080 [==============================] - 7s 2ms/sample - loss: 0.6390 - acc: 0.7500 - val_loss: 0.6644 - val_acc: 0.7638\n",
      "Epoch 4/20\n",
      "3080/3080 [==============================] - 7s 2ms/sample - loss: 0.5662 - acc: 0.7727 - val_loss: 0.6621 - val_acc: 0.7026\n",
      "Epoch 5/20\n",
      "3080/3080 [==============================] - 7s 2ms/sample - loss: 0.5148 - acc: 0.7964 - val_loss: 0.9207 - val_acc: 0.6910\n",
      "Epoch 6/20\n",
      "3080/3080 [==============================] - 7s 2ms/sample - loss: 0.4888 - acc: 0.8169 - val_loss: 0.7017 - val_acc: 0.7551\n"
     ]
    }
   ],
   "source": [
    "history_lstm = trainModelCat( model_lstm, X_train, y_train )"
   ]
  },
  {
   "cell_type": "code",
   "execution_count": 19,
   "metadata": {
    "nbgrader": {
     "grade": false,
     "grade_id": "cell-c0c8505260ec49d5",
     "locked": true,
     "schema_version": 3,
     "solution": false,
     "task": false
    }
   },
   "outputs": [
    {
     "data": {
      "image/png": "[encoded data removed]",
      "text/plain": [
       "<Figure size 432x288 with 1 Axes>"
      ]
     },
     "metadata": {
      "needs_background": "light"
     },
     "output_type": "display_data"
    },
    {
     "data": {
      "image/png": "[encoded data removed]",
      "text/plain": [
       "<Figure size 432x288 with 1 Axes>"
      ]
     },
     "metadata": {
      "needs_background": "light"
     },
     "output_type": "display_data"
    }
   ],
   "source": [
    "plot_training(history_lstm)"
   ]
  },
  {
   "cell_type": "markdown",
   "metadata": {
    "nbgrader": {
     "grade": false,
     "grade_id": "cell-db0ba37a6cf03aca",
     "locked": true,
     "schema_version": 3,
     "solution": false,
     "task": false
    }
   },
   "source": [
    "## How many weights in your recurrent model?\n",
    "\n",
    "How many weights in your model ?\n",
    "\n",
    "You should always be sensitive to how \"big\" your model is."
   ]
  },
  {
   "cell_type": "code",
   "execution_count": 20,
   "metadata": {
    "nbgrader": {
     "grade": false,
     "grade_id": "cell-abdeff68cd17a9d4",
     "locked": false,
     "schema_version": 3,
     "solution": true,
     "task": false
    }
   },
   "outputs": [],
   "source": [
    "# Set variable\n",
    "# - num_weights_lstm: number of weights in your model\n",
    "\n",
    "### BEGIN SOLUTION\n",
    "num_weights_lstm = model_lstm.count_params()\n",
    "### END SOLUTION"
   ]
  },
  {
   "cell_type": "markdown",
   "metadata": {
    "nbgrader": {
     "grade": false,
     "grade_id": "cell-00ae8f085cb69e3a",
     "locked": true,
     "schema_version": 3,
     "solution": false,
     "task": false
    }
   },
   "source": [
    "# Part 2: Create a model consider only of a Classification head\n",
    "\n",
    "The Recurrent layer type creates a fixed length (i.e., size of hidden state) encoding of a variable length input sequence\n",
    "- No matter how long the input, the encoding will have fixed length\n",
    "\n",
    "But it need quite a few parameters.\n",
    "\n",
    "Let's compare this to a simple Classifier only model\n",
    "- That reduces the sequence to a single feature vector\n",
    "    - Length of the single feature vector is the same as any element of the sequence\n",
    "- There are a couple of ways to do this\n",
    "    - Take the sum or average (across the sequence) of each feature\n",
    "    - Take the max (across the sequence) of each feature"
   ]
  },
  {
   "cell_type": "markdown",
   "metadata": {
    "nbgrader": {
     "grade": false,
     "grade_id": "cell-b8a182d09cf81f9f",
     "locked": true,
     "schema_version": 3,
     "solution": false,
     "task": false
    }
   },
   "source": [
    "Create a Keras Sequential model that\n",
    "- Reduces the sequence to a singleton with the same number of features\n",
    "- Classifies directly on this singleton\n",
    "\n",
    "**Hints**\n",
    "- Investigate the Keras `GlobalMaxPooling1D` and `GlobalAveragePooling1D` layer types"
   ]
  },
  {
   "cell_type": "code",
   "execution_count": 21,
   "metadata": {
    "nbgrader": {
     "grade": false,
     "grade_id": "cell-98a124f680726781",
     "locked": true,
     "schema_version": 3,
     "solution": false,
     "task": false
    }
   },
   "outputs": [
    {
     "data": {
      "image/png": "[encoded data removed]",
      "text/plain": [
       "<IPython.core.display.Image object>"
      ]
     },
     "execution_count": 21,
     "metadata": {},
     "output_type": "execute_result"
    },
    {
     "name": "stdout",
     "output_type": "stream",
     "text": [
      "Model: \"sequential_1\"\n",
      "_________________________________________________________________\n",
      "Layer (type)                 Output Shape              Param #   \n",
      "=================================================================\n",
      "global_max_pooling1d (Global (None, 1000)              0         \n",
      "_________________________________________________________________\n",
      "dense_1 (Dense)              (None, 3)                 3003      \n",
      "=================================================================\n",
      "Total params: 3,003\n",
      "Trainable params: 3,003\n",
      "Non-trainable params: 0\n",
      "_________________________________________________________________\n"
     ]
    }
   ],
   "source": [
    "model_simple = Sequential( [ GlobalMaxPooling1D(input_shape=X_train.shape[-2:]),\n",
    "                             Dense( len( np.unique(y) ), activation=\"softmax\")\n",
    "                           ]\n",
    "                         )\n",
    "\n",
    "plot_simple = plotModel(model_simple, \"simple\")\n",
    "IPython.display.Image(plot_simple) \n",
    "\n",
    "model_simple.summary()"
   ]
  },
  {
   "cell_type": "code",
   "execution_count": 22,
   "metadata": {
    "nbgrader": {
     "grade": false,
     "grade_id": "cell-1dce9044a2db848c",
     "locked": false,
     "schema_version": 3,
     "solution": true,
     "task": false
    },
    "scrolled": true
   },
   "outputs": [
    {
     "name": "stdout",
     "output_type": "stream",
     "text": [
      "Train on 3080 samples, validate on 343 samples\n",
      "Epoch 1/20\n",
      "3080/3080 [==============================] - 11s 3ms/sample - loss: 0.9505 - acc: 0.5968 - val_loss: 0.8283 - val_acc: 0.6793\n",
      "Epoch 2/20\n",
      "3080/3080 [==============================] - 1s 164us/sample - loss: 0.8033 - acc: 0.6945 - val_loss: 0.7457 - val_acc: 0.7143\n",
      "Epoch 3/20\n",
      "3080/3080 [==============================] - 0s 132us/sample - loss: 0.7423 - acc: 0.7172 - val_loss: 0.7062 - val_acc: 0.7376\n",
      "Epoch 4/20\n",
      "3080/3080 [==============================] - 0s 129us/sample - loss: 0.7053 - acc: 0.7227 - val_loss: 0.6821 - val_acc: 0.7464\n",
      "Epoch 5/20\n",
      "3080/3080 [==============================] - 0s 135us/sample - loss: 0.6777 - acc: 0.7338 - val_loss: 0.6652 - val_acc: 0.7493\n",
      "Epoch 6/20\n",
      "3080/3080 [==============================] - 0s 128us/sample - loss: 0.6554 - acc: 0.7390 - val_loss: 0.6516 - val_acc: 0.7493\n",
      "Epoch 7/20\n",
      "3080/3080 [==============================] - 0s 132us/sample - loss: 0.6371 - acc: 0.7448 - val_loss: 0.6421 - val_acc: 0.7609\n",
      "Epoch 8/20\n",
      "3080/3080 [==============================] - 0s 137us/sample - loss: 0.6213 - acc: 0.7513 - val_loss: 0.6337 - val_acc: 0.7609\n",
      "Epoch 9/20\n",
      "3080/3080 [==============================] - 0s 136us/sample - loss: 0.6067 - acc: 0.7542 - val_loss: 0.6267 - val_acc: 0.7580\n",
      "Epoch 10/20\n",
      "3080/3080 [==============================] - 0s 134us/sample - loss: 0.5943 - acc: 0.7584 - val_loss: 0.6210 - val_acc: 0.7697\n",
      "Epoch 11/20\n",
      "3080/3080 [==============================] - 0s 125us/sample - loss: 0.5831 - acc: 0.7633 - val_loss: 0.6168 - val_acc: 0.7697\n",
      "Epoch 12/20\n",
      "3080/3080 [==============================] - 0s 128us/sample - loss: 0.5728 - acc: 0.7695 - val_loss: 0.6130 - val_acc: 0.7784\n",
      "Epoch 13/20\n",
      "3080/3080 [==============================] - 0s 134us/sample - loss: 0.5633 - acc: 0.7737 - val_loss: 0.6108 - val_acc: 0.7784\n",
      "Epoch 14/20\n",
      "3080/3080 [==============================] - 0s 131us/sample - loss: 0.5550 - acc: 0.7786 - val_loss: 0.6071 - val_acc: 0.7813\n",
      "Epoch 15/20\n",
      "3080/3080 [==============================] - 0s 131us/sample - loss: 0.5470 - acc: 0.7812 - val_loss: 0.6057 - val_acc: 0.7755\n",
      "Epoch 16/20\n",
      "3080/3080 [==============================] - 0s 132us/sample - loss: 0.5393 - acc: 0.7825 - val_loss: 0.6061 - val_acc: 0.7784\n",
      "Epoch 17/20\n",
      "3080/3080 [==============================] - 0s 133us/sample - loss: 0.5330 - acc: 0.7844 - val_loss: 0.6042 - val_acc: 0.7784\n"
     ]
    }
   ],
   "source": [
    "history_simple = trainModelCat( model_simple, X_train, y_train )"
   ]
  },
  {
   "cell_type": "code",
   "execution_count": 23,
   "metadata": {
    "nbgrader": {
     "grade": false,
     "grade_id": "cell-410146e505fa5dc2",
     "locked": true,
     "schema_version": 3,
     "solution": false,
     "task": false
    }
   },
   "outputs": [
    {
     "data": {
      "image/png": "[encoded data removed]",
      "text/plain": [
       "<IPython.core.display.Image object>"
      ]
     },
     "execution_count": 23,
     "metadata": {},
     "output_type": "execute_result"
    }
   ],
   "source": [
    "plot_simple = plotModel(model_simple, \"simple\")\n",
    "IPython.display.Image(plot_simple) "
   ]
  },
  {
   "cell_type": "code",
   "execution_count": 24,
   "metadata": {
    "nbgrader": {
     "grade": false,
     "grade_id": "cell-f86c5dbb958ff649",
     "locked": true,
     "schema_version": 3,
     "solution": false,
     "task": false
    }
   },
   "outputs": [
    {
     "data": {
      "image/png": "[encoded data removed]",
      "text/plain": [
       "<Figure size 432x288 with 1 Axes>"
      ]
     },
     "metadata": {
      "needs_background": "light"
     },
     "output_type": "display_data"
    },
    {
     "data": {
      "image/png": "[encoded data removed]",
      "text/plain": [
       "<Figure size 432x288 with 1 Axes>"
      ]
     },
     "metadata": {
      "needs_background": "light"
     },
     "output_type": "display_data"
    }
   ],
   "source": [
    "plot_training(history_simple)"
   ]
  },
  {
   "cell_type": "markdown",
   "metadata": {
    "nbgrader": {
     "grade": false,
     "grade_id": "cell-f1feed2553377a71",
     "locked": true,
     "schema_version": 3,
     "solution": false,
     "task": false
    }
   },
   "source": [
    "## How many weights in your Classifier only model ?\n",
    "\n",
    "How many weights in your model ?\n",
    "\n",
    "You should always be sensitive to how \"big\" your model is."
   ]
  },
  {
   "cell_type": "code",
   "execution_count": 25,
   "metadata": {
    "nbgrader": {
     "grade": false,
     "grade_id": "cell-ad84e21e2763f573",
     "locked": true,
     "schema_version": 3,
     "solution": false,
     "task": false
    }
   },
   "outputs": [],
   "source": [
    "# Set variable\n",
    "# - num_weights_lstm: number of weights in your model\n",
    "\n",
    "### BEGIN SOLUTION\n",
    "num_weights_simple = model_simple.count_params()\n",
    "### END SOLUTION"
   ]
  },
  {
   "cell_type": "markdown",
   "metadata": {
    "nbgrader": {
     "grade": false,
     "grade_id": "cell-0ad6ed9cd2b135fb",
     "locked": true,
     "schema_version": 3,
     "solution": false,
     "task": false
    }
   },
   "source": [
    "# Discussion\n",
    "\n",
    "- Was the increase in number of weights compensated by a gain in accuracy when using a Recurrent Layer type compared to the Classifier only model ?\n",
    "- Can you speculate why this is so ?"
   ]
  }
 ],
 "metadata": {
  "celltoolbar": "Create Assignment",
  "kernelspec": {
   "display_name": "Python 3",
   "language": "python",
   "name": "python3"
  },
  "language_info": {
   "codemirror_mode": {
    "name": "ipython",
    "version": 3
   },
   "file_extension": ".py",
   "mimetype": "text/x-python",
   "name": "python",
   "nbconvert_exporter": "python",
   "pygments_lexer": "ipython3",
   "version": "3.7.4"
  },
  "toc": {
   "base_numbering": 1,
   "nav_menu": {},
   "number_sections": true,
   "sideBar": true,
   "skip_h1_title": false,
   "title_cell": "Table of Contents",
   "title_sidebar": "Contents",
   "toc_cell": false,
   "toc_position": {},
   "toc_section_display": true,
   "toc_window_display": true
  }
 },
 "nbformat": 4,
 "nbformat_minor": 2
}

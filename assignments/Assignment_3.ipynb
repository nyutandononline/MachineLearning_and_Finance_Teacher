{
 "cells": [
  {
   "cell_type": "markdown",
   "metadata": {},
   "source": [
    "# Assignment 3\n",
    "\n",
    "\n",
    "You will demonstrate your ability to create and train Neural Network models.\n",
    "\n",
    "You will *only* use `Dense` layers."
   ]
  },
  {
   "cell_type": "markdown",
   "metadata": {},
   "source": [
    "# Objectives\n",
    "\n",
    "This is a \"doing\" rather than \"thinking\" assignment.\n",
    "\n",
    "Your goal is to checkpoint your skills to see if they are sufficient to create, train, and evaluate\n",
    "Neural Network models."
   ]
  },
  {
   "cell_type": "markdown",
   "metadata": {},
   "source": [
    "# Submission guidelines\n",
    "\n",
    "There are some specified tasks you must carry out, which involve playing around with a number of models.\n",
    "\n",
    "We want to be able to evaluate *your best model* on a holdout dataset.\n",
    "\n",
    "To faciliate this,\n",
    "in addition to providing your notebook, we will ask you to create the subroutine `MyModel`\n",
    "described below **and submit one additional file** to be described.\n",
    "\n",
    "You will choose your *best model* and using the code provided in the cell below, save the model to a file and **submit the file with your saved model** along with the notebook."
   ]
  },
  {
   "cell_type": "markdown",
   "metadata": {},
   "source": [
    "The code cell below **should be the last cell in your notebook**.\n",
    "\n",
    "The last cell:\n",
    "- defines a routine to save a \"model\" object to a file\n",
    "- defines a routine to load a model object from a file\n",
    "- asks you to save the model for one of the tasks\n",
    "- asks you to run `MyModel`\n",
    "\n",
    "`MyModel` takes as arguments\n",
    "- a test set: `x_test`, `y_test`\n",
    "- name of a file containing a model object for a specified task\n",
    "\n",
    "`MyModel` will load the file (i.e., restore the model) and run predictions on the test set.\n",
    "\n",
    "You will need to complete the body of the `MyModel` definition."
   ]
  },
  {
   "cell_type": "markdown",
   "metadata": {},
   "source": [
    "We will run `MyModel` in that cell in order to load your saved model and run it\n",
    "- We will not run any other cell in the notebook so if you need imports or anything else. put it there!  \n",
    "- We **will not** run cells that train your model: that would take too long)\n",
    "- If you need the holdout data to be transformed\n",
    "    - the transformations should be called from `MyModel`\n",
    "    - we will not run a cell to make the transformation happen"
   ]
  },
  {
   "cell_type": "markdown",
   "metadata": {},
   "source": [
    "## Additional submission\n",
    "\n",
    "In addition to your notebook, please also submit the file whose name is stored in `model_path`.\n",
    "\n",
    "**DO NOT** rename the file!\n"
   ]
  },
  {
   "cell_type": "markdown",
   "metadata": {},
   "source": [
    "Here is the cell **that must appear as the last cell in your notebook**"
   ]
  },
  {
   "cell_type": "code",
   "execution_count": null,
   "metadata": {},
   "outputs": [],
   "source": [
    "import os\n",
    "from tensorflow.keras.models import load_model\n",
    "\n",
    "modelName = \"assignment3_best_model\"\n",
    "model_path = os.path.join(\".\", modelName)   \n",
    "\n",
    "def saveModel(model, model_path): \n",
    "    try:\n",
    "        os.makedirs(model_path)\n",
    "    except OSError:\n",
    "        print(\"Directory {dir:s} already exists, files will be over-written.\".format(dir=model_path))\n",
    "        \n",
    "    # Save JSON config to disk\n",
    "    json_config = model.to_json()\n",
    "    with open(os.path.join(model_path, 'config.json'), 'w') as json_file:\n",
    "        json_file.write(json_config)\n",
    "    # Save weights to disk\n",
    "    model.save_weights(os.path.join(model_path, 'weights.h5'))\n",
    "    \n",
    "    print(\"Model saved in directory {dir:s}; create an archive of this directory and submit with your assignment.\".format(dir=model_path))\n",
    "    \n",
    "def loadModel(model_path):\n",
    "    # Reload the model from the 2 files we saved\n",
    "    with open(os.path.join(model_path, 'config.json')) as json_file:\n",
    "        json_config = json_file.read()\n",
    "    model = tf.keras.models.model_from_json(json_config)\n",
    "    model.load_weights(os.path.join(model_path, 'weights.h5'))\n",
    "    \n",
    "    return model\n",
    "\n",
    "def MyModel(x_test, y_test, model_path):\n",
    "    # YOU MAY NOT change model after this statement !\n",
    "    model = loadModel(model_path)\n",
    "    \n",
    "    # It should run model to create an array of predictions; we initialize it to the empty array for convenience\n",
    "    predictions = []\n",
    "    \n",
    "    # YOUR CODE GOES HERE\n",
    "    \n",
    "    \n",
    "    return predictions\n",
    "\n",
    "# Assign to variable my_model the model that solves task 3.2\n",
    "my_model = None # CHANGE None to your model !\n",
    "\n",
    "saveModel(my_model, model_path)\n",
    "predicts = MyModel(x_test, y_test, model_path)\n"
   ]
  },
  {
   "cell_type": "markdown",
   "metadata": {},
   "source": [
    "# The problem\n",
    "\n",
    "You will create several Neural Networks to solve a classification problem that is a slight variant\n",
    "of the MNIST digit classification problem we demonstrated in Lecture 8.\n",
    "\n",
    "The assignment really involves little more than playing around with that example.\n",
    "\n",
    "The objective is to ensure that you are able to write and run simple programs using Keras."
   ]
  },
  {
   "cell_type": "markdown",
   "metadata": {},
   "source": [
    "# The Data\n",
    "\n",
    "The dataset is called Fashion MNIST.\n",
    "\n",
    "Rather than classifying images into one of ten digits,\n",
    "you will classify images of clothing items into one of ten classes.\n",
    "\n",
    "Here's the code to get the data."
   ]
  },
  {
   "cell_type": "code",
   "execution_count": null,
   "metadata": {},
   "outputs": [],
   "source": [
    "from tensorflow.keras.datasets import mnist, fashion_mnist, cifar10\n",
    "\n",
    "(x_train, y_train), (x_test, y_test) = fashion_mnist.load_data()\n"
   ]
  },
  {
   "cell_type": "markdown",
   "metadata": {},
   "source": [
    "# Tasks\n",
    "\n",
    "For each task\n",
    "- create the Neural Network as specified\n",
    "- train it on the training data set\n",
    "- evaluate it on the test data set\n"
   ]
  },
  {
   "cell_type": "markdown",
   "metadata": {},
   "source": [
    "## Task 1\n",
    "\n",
    "Create a one layer Neural Network to perform classification (e.g., logistic regression) as we demonstrated in class.\n",
    "\n",
    "No layers other than the one for classification."
   ]
  },
  {
   "cell_type": "markdown",
   "metadata": {},
   "source": [
    "# Task 2 (9 parts)\n",
    "\n",
    "You will evaluate out of sample accuracy for several models and create a plot\n",
    "- For number of layers in 2, 3,4 (more if you like)\n",
    "- For number of units per layer in 10, 50, 200 (more if you like)\n",
    "    - Using *same* number of units for each layer\n",
    "\n",
    "The combination of choices for number of layers and number of units per layer gives you (at least) 9 models.\n",
    "\n",
    "- Evaluate the out of sample accuracy for each of the 9 models.\n",
    "- Present the results in a table (created by code)\n",
    "- Create a *single plot*\n",
    "    - Horizontal axis: number of units per layer\n",
    "    - Vertical axis: out of sample accuracy\n",
    "    - 3 traces in the plot, one for each choice of number of layers\n",
    "        - e.g., one line in the plot for L=2, another line in the plot for L=3, and another line for L=4\n"
   ]
  },
  {
   "cell_type": "markdown",
   "metadata": {},
   "source": [
    "# Extra credit\n",
    "- Do a more extensive experiment\n",
    "    - More layers\n",
    "    - More choices for number of units per layer\n",
    "    - Vary number of units per layer\n",
    "        - Increase number of units with increasing layer number\n",
    "        - Decrease number of units with increasing layer number\n",
    "        - Find some other pattern for varying the number of units per layer\n",
    "- Comment on when your models are either overfitting or underfitting\n",
    "    - Use numeric justification\n",
    "    "
   ]
  }
 ],
 "metadata": {
  "kernelspec": {
   "display_name": "Python 3",
   "language": "python",
   "name": "python3"
  },
  "language_info": {
   "codemirror_mode": {
    "name": "ipython",
    "version": 3
   },
   "file_extension": ".py",
   "mimetype": "text/x-python",
   "name": "python",
   "nbconvert_exporter": "python",
   "pygments_lexer": "ipython3",
   "version": "3.7.4"
  },
  "toc": {
   "base_numbering": 1,
   "nav_menu": {},
   "number_sections": true,
   "sideBar": true,
   "skip_h1_title": false,
   "title_cell": "Table of Contents",
   "title_sidebar": "Contents",
   "toc_cell": false,
   "toc_position": {},
   "toc_section_display": true,
   "toc_window_display": false
  }
 },
 "nbformat": 4,
 "nbformat_minor": 2
}
